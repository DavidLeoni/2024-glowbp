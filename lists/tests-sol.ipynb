{
 "cells": [
  {
   "cell_type": "code",
   "execution_count": 1,
   "id": "8e77c3a2",
   "metadata": {
    "slideshow": {
     "slide_type": "skip"
    }
   },
   "outputs": [
    {
     "data": {
      "text/html": [
       "        \n",
       "            <script src=\"../_static/js/python.iife.js\" type=\"application/javascript\"></script>\n",
       "        "
      ],
      "text/plain": [
       "<IPython.core.display.HTML object>"
      ]
     },
     "execution_count": 1,
     "metadata": {},
     "output_type": "execute_result"
    }
   ],
   "source": [
    "import sys\n",
    "sys.path.append('../')\n",
    "import jupman\n",
    "\n",
    "import conf\n",
    "\n",
    "conf.jm.init_icp()"
   ]
  },
  {
   "cell_type": "markdown",
   "id": "0049100b",
   "metadata": {
    "slideshow": {
     "slide_type": "slide"
    }
   },
   "source": [
    "# Tests for ICP and Python Tutor"
   ]
  },
  {
   "cell_type": "code",
   "execution_count": 30,
   "id": "a4d4fdc0",
   "metadata": {
    "scrolled": false,
    "slideshow": {
     "slide_type": "slide"
    }
   },
   "outputs": [
    {
     "name": "stdout",
     "output_type": "stream",
     "text": [
      "\n"
     ]
    },
    {
     "data": {
      "text/html": [
       "\n",
       "                <div class=\"jupman-icp-container\" style=\"width:50vw; height:65vh;\">\n",
       "                <python-editor id=\"jm-6b433d0301c5856a73be6c1b3b77d29d-32\" contenteditable=\"true\" code=\"x,y = 0, 0     # False\n",
       "#x,y = 20, 20  # False\n",
       "#x,y = 60, 10  # True\n",
       "#x,y = 10, 60  # True\n",
       "#x,y = 20, 70  # False\n",
       "#x,y = 70, 20  # False\n",
       "#x,y = 70, 70  # False\n",
       "#x,y = 0,60    # True\n",
       "#x,y = 60,0    # True          qwe qwer wqre qwe ewr qwr wqrerew \n",
       "\n",
       "soluzione = LA_TUA_SOLUZIONE\n",
       "\n",
       "print(soluzione)\"\n",
       "                />\n",
       "                </div>\n",
       "        \n",
       "\n",
       "                                \n",
       "            <script>\n",
       "            \n",
       "            (function(){\n",
       "                console.log(\"jupman.py embedded javascript: adding ICP editor ...\")   \n",
       "                \n",
       "            })()\n",
       "            </script>\n",
       "                    \n",
       "        "
      ],
      "text/plain": [
       "<IPython.core.display.HTML object>"
      ]
     },
     "execution_count": 30,
     "metadata": {},
     "output_type": "execute_result"
    }
   ],
   "source": [
    "#jupman-purge-input\n",
    "#jupman-strip\n",
    "LA_TUA_SOLUZIONE = ''\n",
    "#/jupman-strip\n",
    "\n",
    "x,y = 0, 0     # False\n",
    "#x,y = 20, 20  # False\n",
    "#x,y = 60, 10  # True\n",
    "#x,y = 10, 60  # True\n",
    "#x,y = 20, 70  # False\n",
    "#x,y = 70, 20  # False\n",
    "#x,y = 70, 70  # False\n",
    "#x,y = 0,60    # True\n",
    "#x,y = 60,0    # True          qwe qwer wqre qwe ewr qwr wqrerew \n",
    "\n",
    "soluzione = LA_TUA_SOLUZIONE\n",
    "\n",
    "print(soluzione)\n",
    "conf.jm.icp(width=\"50vw\")"
   ]
  },
  {
   "cell_type": "code",
   "execution_count": 31,
   "id": "db668ada",
   "metadata": {
    "slideshow": {
     "slide_type": "slide"
    }
   },
   "outputs": [
    {
     "name": "stdout",
     "output_type": "stream",
     "text": [
      "detected relpath ../\n"
     ]
    },
    {
     "data": {
      "text/html": [
       "        \n",
       "        <script src=\"../_static/js/pytutor-embed.bundle.min.js\" #type=\"application/javascript\"></script>\n",
       "    \n",
       "        <style>\n",
       "        @import \"../_static/css/jupman.css\";\n",
       "        </style>\n",
       "     \n",
       "        <script id=\"json-jm-6a3eef1d02b51d8e0500c189e579f03f-33\" type=\"application/json\" >\n",
       "            {\"code\": \" \\nword = 'wonder'\\nlst = [9,7,8]\\nt = (6,2,4,3)\\nmixed_set = {3,'b','e',9, 'm', 'n'}\\nnumbers_set = {3,4,9}\\nchar_set = {'r','a','h'}\\nd = {'a' : 8,\\n     'b' : 4,\\n     'c' : 5}\\n\\nempty_str = ''\\nempty_tuple = ()\\nempty_set = set()\\nempty_dict = {}\\n\\n#import numpy  # not supported!\\n\\ndef f(par):\\n    print(par)\", \"trace\": [{\"line\": 2, \"event\": \"step_line\", \"func_name\": \"<module>\", \"globals\": {}, \"ordered_globals\": [], \"stack_to_render\": [], \"heap\": {}, \"stdout\": \"\"}, {\"line\": 3, \"event\": \"step_line\", \"func_name\": \"<module>\", \"globals\": {\"word\": \"wonder\"}, \"ordered_globals\": [\"word\"], \"stack_to_render\": [], \"heap\": {}, \"stdout\": \"\"}, {\"line\": 4, \"event\": \"step_line\", \"func_name\": \"<module>\", \"globals\": {\"word\": \"wonder\", \"lst\": [\"REF\", 1]}, \"ordered_globals\": [\"word\", \"lst\"], \"stack_to_render\": [], \"heap\": {\"1\": [\"LIST\", 9, 7, 8]}, \"stdout\": \"\"}, {\"line\": 5, \"event\": \"step_line\", \"func_name\": \"<module>\", \"globals\": {\"word\": \"wonder\", \"lst\": [\"REF\", 1], \"t\": [\"REF\", 2]}, \"ordered_globals\": [\"word\", \"lst\", \"t\"], \"stack_to_render\": [], \"heap\": {\"1\": [\"LIST\", 9, 7, 8], \"2\": [\"TUPLE\", 6, 2, 4, 3]}, \"stdout\": \"\"}, {\"line\": 6, \"event\": \"step_line\", \"func_name\": \"<module>\", \"globals\": {\"word\": \"wonder\", \"lst\": [\"REF\", 1], \"t\": [\"REF\", 2], \"mixed_set\": [\"REF\", 3]}, \"ordered_globals\": [\"word\", \"lst\", \"t\", \"mixed_set\"], \"stack_to_render\": [], \"heap\": {\"1\": [\"LIST\", 9, 7, 8], \"2\": [\"TUPLE\", 6, 2, 4, 3], \"3\": [\"SET\", 3, \"n\", 9, \"m\", \"e\", \"b\"]}, \"stdout\": \"\"}, {\"line\": 7, \"event\": \"step_line\", \"func_name\": \"<module>\", \"globals\": {\"word\": \"wonder\", \"lst\": [\"REF\", 1], \"t\": [\"REF\", 2], \"mixed_set\": [\"REF\", 3], \"numbers_set\": [\"REF\", 4]}, \"ordered_globals\": [\"word\", \"lst\", \"t\", \"mixed_set\", \"numbers_set\"], \"stack_to_render\": [], \"heap\": {\"1\": [\"LIST\", 9, 7, 8], \"2\": [\"TUPLE\", 6, 2, 4, 3], \"3\": [\"SET\", 3, \"n\", 9, \"m\", \"e\", \"b\"], \"4\": [\"SET\", 9, 3, 4]}, \"stdout\": \"\"}, {\"line\": 8, \"event\": \"step_line\", \"func_name\": \"<module>\", \"globals\": {\"word\": \"wonder\", \"lst\": [\"REF\", 1], \"t\": [\"REF\", 2], \"mixed_set\": [\"REF\", 3], \"numbers_set\": [\"REF\", 4], \"char_set\": [\"REF\", 5]}, \"ordered_globals\": [\"word\", \"lst\", \"t\", \"mixed_set\", \"numbers_set\", \"char_set\"], \"stack_to_render\": [], \"heap\": {\"1\": [\"LIST\", 9, 7, 8], \"2\": [\"TUPLE\", 6, 2, 4, 3], \"3\": [\"SET\", 3, \"n\", 9, \"m\", \"e\", \"b\"], \"4\": [\"SET\", 9, 3, 4], \"5\": [\"SET\", \"h\", \"a\", \"r\"]}, \"stdout\": \"\"}, {\"line\": 9, \"event\": \"step_line\", \"func_name\": \"<module>\", \"globals\": {\"word\": \"wonder\", \"lst\": [\"REF\", 1], \"t\": [\"REF\", 2], \"mixed_set\": [\"REF\", 3], \"numbers_set\": [\"REF\", 4], \"char_set\": [\"REF\", 5]}, \"ordered_globals\": [\"word\", \"lst\", \"t\", \"mixed_set\", \"numbers_set\", \"char_set\"], \"stack_to_render\": [], \"heap\": {\"1\": [\"LIST\", 9, 7, 8], \"2\": [\"TUPLE\", 6, 2, 4, 3], \"3\": [\"SET\", 3, \"n\", 9, \"m\", \"e\", \"b\"], \"4\": [\"SET\", 9, 3, 4], \"5\": [\"SET\", \"h\", \"a\", \"r\"]}, \"stdout\": \"\"}, {\"line\": 10, \"event\": \"step_line\", \"func_name\": \"<module>\", \"globals\": {\"word\": \"wonder\", \"lst\": [\"REF\", 1], \"t\": [\"REF\", 2], \"mixed_set\": [\"REF\", 3], \"numbers_set\": [\"REF\", 4], \"char_set\": [\"REF\", 5]}, \"ordered_globals\": [\"word\", \"lst\", \"t\", \"mixed_set\", \"numbers_set\", \"char_set\"], \"stack_to_render\": [], \"heap\": {\"1\": [\"LIST\", 9, 7, 8], \"2\": [\"TUPLE\", 6, 2, 4, 3], \"3\": [\"SET\", 3, \"n\", 9, \"m\", \"e\", \"b\"], \"4\": [\"SET\", 9, 3, 4], \"5\": [\"SET\", \"h\", \"a\", \"r\"]}, \"stdout\": \"\"}, {\"line\": 12, \"event\": \"step_line\", \"func_name\": \"<module>\", \"globals\": {\"word\": \"wonder\", \"lst\": [\"REF\", 1], \"t\": [\"REF\", 2], \"mixed_set\": [\"REF\", 3], \"numbers_set\": [\"REF\", 4], \"char_set\": [\"REF\", 5], \"d\": [\"REF\", 6]}, \"ordered_globals\": [\"word\", \"lst\", \"t\", \"mixed_set\", \"numbers_set\", \"char_set\", \"d\"], \"stack_to_render\": [], \"heap\": {\"1\": [\"LIST\", 9, 7, 8], \"2\": [\"TUPLE\", 6, 2, 4, 3], \"3\": [\"SET\", 3, \"n\", 9, \"m\", \"e\", \"b\"], \"4\": [\"SET\", 9, 3, 4], \"5\": [\"SET\", \"h\", \"a\", \"r\"], \"6\": [\"DICT\", [\"a\", 8], [\"b\", 4], [\"c\", 5]]}, \"stdout\": \"\"}, {\"line\": 13, \"event\": \"step_line\", \"func_name\": \"<module>\", \"globals\": {\"word\": \"wonder\", \"lst\": [\"REF\", 1], \"t\": [\"REF\", 2], \"mixed_set\": [\"REF\", 3], \"numbers_set\": [\"REF\", 4], \"char_set\": [\"REF\", 5], \"d\": [\"REF\", 6], \"empty_str\": \"\"}, \"ordered_globals\": [\"word\", \"lst\", \"t\", \"mixed_set\", \"numbers_set\", \"char_set\", \"d\", \"empty_str\"], \"stack_to_render\": [], \"heap\": {\"1\": [\"LIST\", 9, 7, 8], \"2\": [\"TUPLE\", 6, 2, 4, 3], \"3\": [\"SET\", 3, \"n\", 9, \"m\", \"e\", \"b\"], \"4\": [\"SET\", 9, 3, 4], \"5\": [\"SET\", \"h\", \"a\", \"r\"], \"6\": [\"DICT\", [\"a\", 8], [\"b\", 4], [\"c\", 5]]}, \"stdout\": \"\"}, {\"line\": 14, \"event\": \"step_line\", \"func_name\": \"<module>\", \"globals\": {\"word\": \"wonder\", \"lst\": [\"REF\", 1], \"t\": [\"REF\", 2], \"mixed_set\": [\"REF\", 3], \"numbers_set\": [\"REF\", 4], \"char_set\": [\"REF\", 5], \"d\": [\"REF\", 6], \"empty_str\": \"\", \"empty_tuple\": [\"REF\", 7]}, \"ordered_globals\": [\"word\", \"lst\", \"t\", \"mixed_set\", \"numbers_set\", \"char_set\", \"d\", \"empty_str\", \"empty_tuple\"], \"stack_to_render\": [], \"heap\": {\"1\": [\"LIST\", 9, 7, 8], \"2\": [\"TUPLE\", 6, 2, 4, 3], \"3\": [\"SET\", 3, \"n\", 9, \"m\", \"e\", \"b\"], \"4\": [\"SET\", 9, 3, 4], \"5\": [\"SET\", \"h\", \"a\", \"r\"], \"6\": [\"DICT\", [\"a\", 8], [\"b\", 4], [\"c\", 5]], \"7\": [\"TUPLE\"]}, \"stdout\": \"\"}, {\"line\": 15, \"event\": \"step_line\", \"func_name\": \"<module>\", \"globals\": {\"word\": \"wonder\", \"lst\": [\"REF\", 1], \"t\": [\"REF\", 2], \"mixed_set\": [\"REF\", 3], \"numbers_set\": [\"REF\", 4], \"char_set\": [\"REF\", 5], \"d\": [\"REF\", 6], \"empty_str\": \"\", \"empty_tuple\": [\"REF\", 7], \"empty_set\": [\"REF\", 8]}, \"ordered_globals\": [\"word\", \"lst\", \"t\", \"mixed_set\", \"numbers_set\", \"char_set\", \"d\", \"empty_str\", \"empty_tuple\", \"empty_set\"], \"stack_to_render\": [], \"heap\": {\"1\": [\"LIST\", 9, 7, 8], \"2\": [\"TUPLE\", 6, 2, 4, 3], \"3\": [\"SET\", 3, \"n\", 9, \"m\", \"e\", \"b\"], \"4\": [\"SET\", 9, 3, 4], \"5\": [\"SET\", \"h\", \"a\", \"r\"], \"6\": [\"DICT\", [\"a\", 8], [\"b\", 4], [\"c\", 5]], \"7\": [\"TUPLE\"], \"8\": [\"SET\"]}, \"stdout\": \"\"}, {\"line\": 19, \"event\": \"step_line\", \"func_name\": \"<module>\", \"globals\": {\"word\": \"wonder\", \"lst\": [\"REF\", 1], \"t\": [\"REF\", 2], \"mixed_set\": [\"REF\", 3], \"numbers_set\": [\"REF\", 4], \"char_set\": [\"REF\", 5], \"d\": [\"REF\", 6], \"empty_str\": \"\", \"empty_tuple\": [\"REF\", 7], \"empty_set\": [\"REF\", 8], \"empty_dict\": [\"REF\", 9]}, \"ordered_globals\": [\"word\", \"lst\", \"t\", \"mixed_set\", \"numbers_set\", \"char_set\", \"d\", \"empty_str\", \"empty_tuple\", \"empty_set\", \"empty_dict\"], \"stack_to_render\": [], \"heap\": {\"1\": [\"LIST\", 9, 7, 8], \"2\": [\"TUPLE\", 6, 2, 4, 3], \"3\": [\"SET\", 3, \"n\", 9, \"m\", \"e\", \"b\"], \"4\": [\"SET\", 9, 3, 4], \"5\": [\"SET\", \"h\", \"a\", \"r\"], \"6\": [\"DICT\", [\"a\", 8], [\"b\", 4], [\"c\", 5]], \"7\": [\"TUPLE\"], \"8\": [\"SET\"], \"9\": [\"DICT\"]}, \"stdout\": \"\"}, {\"line\": 19, \"event\": \"return\", \"func_name\": \"<module>\", \"globals\": {\"word\": \"wonder\", \"lst\": [\"REF\", 1], \"t\": [\"REF\", 2], \"mixed_set\": [\"REF\", 3], \"numbers_set\": [\"REF\", 4], \"char_set\": [\"REF\", 5], \"d\": [\"REF\", 6], \"empty_str\": \"\", \"empty_tuple\": [\"REF\", 7], \"empty_set\": [\"REF\", 8], \"empty_dict\": [\"REF\", 9], \"f\": [\"REF\", 10]}, \"ordered_globals\": [\"word\", \"lst\", \"t\", \"mixed_set\", \"numbers_set\", \"char_set\", \"d\", \"empty_str\", \"empty_tuple\", \"empty_set\", \"empty_dict\", \"f\"], \"stack_to_render\": [], \"heap\": {\"1\": [\"LIST\", 9, 7, 8], \"2\": [\"TUPLE\", 6, 2, 4, 3], \"3\": [\"SET\", 3, \"n\", 9, \"m\", \"e\", \"b\"], \"4\": [\"SET\", 9, 3, 4], \"5\": [\"SET\", \"h\", \"a\", \"r\"], \"6\": [\"DICT\", [\"a\", 8], [\"b\", 4], [\"c\", 5]], \"7\": [\"TUPLE\"], \"8\": [\"SET\"], \"9\": [\"DICT\"], \"10\": [\"FUNCTION\", \"f(par)\", null]}, \"stdout\": \"\"}]}\n",
       "        </script>\n",
       "        <div id=\"jm-6a3eef1d02b51d8e0500c189e579f03f-33\" class=\"pytutorVisualizer\"> </div>\n",
       "                            \n",
       "        <script>\n",
       "        var rootFontSize = window.getComputedStyle(document.body).getPropertyValue('font-size');\n",
       "        var rootFontSizeInt = 12;\n",
       "        if (rootFontSize.endsWith('px')){\n",
       "            rootFontSizeInt = Math.trunc(Number(rootFontSize.substring(0, rootFontSize.length-2)));\n",
       "        } else {\n",
       "            console.error(\"Unrecognized font unit:\", rootFontSize, \"assuming default\", rootFontSizeInt);\n",
       "        }\n",
       "        console.log('rootFontSize', rootFontSize); \n",
       "        var pytut_cfg_6a3eef1d02b51d8e0500c189e579f03f_33 = {'embeddedMode' : false,\n",
       "                  'disableHeapNesting': true,\n",
       "                  'visualizerIdOverride':'viz-jm-6a3eef1d02b51d8e0500c189e579f03f-33',\n",
       "                  'codeDivWidth': Math.trunc(rootFontSizeInt * Math.min(30, 35))\n",
       "                  };\n",
       "                  \n",
       "        var jmRenderPytut = function(config){\n",
       "            console.log(\"jupman.py embedded javascript: rendering Python tutor visualizer...\")\n",
       "            \n",
       "            let oldAlert = window.alert;\n",
       "            window.alert = function ( text ) { \n",
       "                console.log( 'tried to alert: ', text );         \n",
       "                return true; \n",
       "            };\n",
       "            try {\n",
       "            \n",
       "                var trace = JSON.parse(document.getElementById('json-jm-6a3eef1d02b51d8e0500c189e579f03f-33').innerHTML);                                        \n",
       "                // NOTE: id without #\n",
       "                        \n",
       "                addVisualizerToPage(trace, 'jm-6a3eef1d02b51d8e0500c189e579f03f-33', config);\n",
       "                // hack in case visualizer decides to hide them for no good reason\n",
       "                $('#jmpFirstInstr').show();\n",
       "                $('#jmpLastInstr').show();\n",
       "                \n",
       "                // set overflow for pytuts - need to do in python as css \n",
       "                // does not allow parent selection\n",
       "                var pytuts = $('.pytutorVisualizer');\n",
       "                pytuts.closest('div.output_html.rendered_html.output_result')\n",
       "                        .css('overflow-x', 'visible');\n",
       "            \n",
       "                //pytuts.closest('div.output_html.rendered_html.output_result')\n",
       "                //      .css('background-color','red');                \n",
       "            } catch (error) {\n",
       "                console.error(\"jupman slides: Couldn't visualize Python tutor properly\", error);\n",
       "            }\n",
       "            window.alert = oldAlert;\n",
       "            \n",
       "        };\n",
       "        jmRenderPytut(pytut_cfg_6a3eef1d02b51d8e0500c189e579f03f_33);\n",
       "        </script>\n",
       "                \n",
       "    \n",
       "    <div style=\"text-align:center; font-size:0.9em\"> <a href=\"https://pythontutor.com/visualize.html#mode=edit\" target=\"_blank\">Python Tutor</a> visualization</div> \n",
       "    "
      ],
      "text/plain": [
       "<IPython.core.display.HTML object>"
      ]
     },
     "execution_count": 31,
     "metadata": {},
     "output_type": "execute_result"
    }
   ],
   "source": [
    "#jupman-purge-input\n",
    "word = 'wonder'\n",
    "lst = [9,7,8]\n",
    "t = (6,2,4,3)\n",
    "mixed_set = {3,'b','e',9, 'm', 'n'}\n",
    "numbers_set = {3,4,9}\n",
    "char_set = {'r','a','h'}\n",
    "d = {'a' : 8,\n",
    "     'b' : 4,\n",
    "     'c' : 5}\n",
    "\n",
    "empty_str = ''\n",
    "empty_tuple = ()\n",
    "empty_set = set()\n",
    "empty_dict = {}\n",
    "\n",
    "#import numpy  # not supported!\n",
    "\n",
    "def f(par):\n",
    "    print(par)\n",
    "\n",
    "\n",
    "\n",
    "conf.jm.python_tutor()"
   ]
  },
  {
   "cell_type": "code",
   "execution_count": 32,
   "id": "15c6d319",
   "metadata": {
    "scrolled": false,
    "slideshow": {
     "slide_type": "slide"
    }
   },
   "outputs": [
    {
     "name": "stdout",
     "output_type": "stream",
     "text": [
      "5\n"
     ]
    },
    {
     "data": {
      "text/html": [
       "\n",
       "                <div class=\"jupman-icp-container\" style=\"width:60vw; height:65vh;\">\n",
       "                <python-editor id=\"jm-96ccb5abe088aad5aab83a4a186f355b-34\" contenteditable=\"true\" code=\"x = 5\n",
       "print(x)\"\n",
       "                />\n",
       "                </div>\n",
       "        \n",
       "\n",
       "                                \n",
       "            <script>\n",
       "            \n",
       "            (function(){\n",
       "                console.log(\"jupman.py embedded javascript: adding ICP editor ...\")   \n",
       "                \n",
       "            })()\n",
       "            </script>\n",
       "                    \n",
       "        "
      ],
      "text/plain": [
       "<IPython.core.display.HTML object>"
      ]
     },
     "execution_count": 32,
     "metadata": {},
     "output_type": "execute_result"
    }
   ],
   "source": [
    "x = 5\n",
    "print(x)\n",
    "\n",
    "conf.jm.icp()"
   ]
  }
 ],
 "metadata": {
  "celltoolbar": "Slideshow",
  "kernelspec": {
   "display_name": "Python 3 (ipykernel)",
   "language": "python",
   "name": "python3"
  },
  "language_info": {
   "codemirror_mode": {
    "name": "ipython",
    "version": 3
   },
   "file_extension": ".py",
   "mimetype": "text/x-python",
   "name": "python",
   "nbconvert_exporter": "python",
   "pygments_lexer": "ipython3",
   "version": "3.7.17"
  },
  "toc": {
   "base_numbering": 1,
   "nav_menu": {},
   "number_sections": false,
   "sideBar": true,
   "skip_h1_title": false,
   "title_cell": "Table of Contents",
   "title_sidebar": "Contents",
   "toc_cell": false,
   "toc_position": {
    "height": "calc(100% - 180px)",
    "left": "10px",
    "top": "150px",
    "width": "373.2px"
   },
   "toc_section_display": true,
   "toc_window_display": false
  }
 },
 "nbformat": 4,
 "nbformat_minor": 5
}
