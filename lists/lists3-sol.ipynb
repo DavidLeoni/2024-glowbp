{
 "cells": [
  {
   "cell_type": "code",
   "execution_count": 1,
   "id": "8e77c3a2",
   "metadata": {
    "slideshow": {
     "slide_type": "skip"
    }
   },
   "outputs": [
    {
     "data": {
      "text/html": [
       "        \n",
       "            <script src=\"../_static/js/python.iife.js\" type=\"application/javascript\"></script>\n",
       "        "
      ],
      "text/plain": [
       "<IPython.core.display.HTML object>"
      ]
     },
     "execution_count": 1,
     "metadata": {},
     "output_type": "execute_result"
    }
   ],
   "source": [
    "import sys\n",
    "sys.path.append('../')\n",
    "import jupman\n",
    "\n",
    "import conf\n",
    "\n",
    "conf.jm.init_icp()"
   ]
  },
  {
   "cell_type": "markdown",
   "id": "0049100b",
   "metadata": {
    "slideshow": {
     "slide_type": "slide"
    }
   },
   "source": [
    "\n",
    "# Liste 3: metodi di base\n",
    "\n",
    "**Riferimenti:** [SoftPython - liste 3](https://it.softpython.org/lists/lists3-sol.html)\n",
    "\n",
    "* visualizza al meglio in <img style=\"display:inline; width:25px; vertical-align: middle;\" src=\"../_static/img/chrome.png\" alttext=\"Chrome\">\n",
    "* versione stampabile: [clicca qua](?print-pdf)\n",
    "* per navigare nelle slide: premere `Esc`\n",
    "\n",
    "<br>\n",
    "<br>\n",
    "\n",
    "**Summer School Data Science 2023 - Modulo 1 informatica:** [Moodle](https://didatticaonline.unitn.it/dol/course/view.php?id=36683) \n",
    "\n",
    "Docente: David Leoni david.leoni@unitn.it\n",
    "\n",
    "Esercitatore: Luca Bosotti luca.bosotti@studenti.unitn.it\n"
   ]
  },
  {
   "cell_type": "markdown",
   "id": "da330496",
   "metadata": {
    "slideshow": {
     "slide_type": "subslide"
    }
   },
   "source": [
    "## Liste - Metodi di base\n",
    "\n",
    "\n",
    "\n",
    "|Metodo|Ritorna|Descrizione|\n",
    "|-------|------|-----------|\n",
    "|[list.append(object)](https://it.softpython.org/lists/lists3-sol.html#Metodo-append)|`None`|Aggiunge un nuovo elemento alla fine della lista|\n",
    "|[list.extend(list)](https://it.softpython.org/lists/lists3-sol.html#Metodo-extend)|`None`|Aggiunge diversi nuovi elementi alla fine della lista|\n",
    "|[list.insert(int,object)](https://it.softpython.org/lists/lists3-sol.html#Metodo-insert)|`None`|Aggiunge un nuovo elemento a qualche posizione data|\n",
    "|[list.pop()](https://it.softpython.org/lists/lists3-sol.html#Metodo-pop)|`object`|Rimuove e ritorna l'elemento all'ultima posizione|\n",
    "|[list.pop(int)](https://it.softpython.org/lists/lists3-sol.html#Metodo-pop)|`object`|Dato un indice, rimuove e ritorna l'elemento a quella posizione|\n",
    "|[list.reverse()](https://it.softpython.org/lists/lists3-sol.html#Metodo-reverse)|`None`|Inverte l'ordine degli elementi|\n",
    "|[list.sort()](https://it.softpython.org/lists/lists3-sol.html#Metodo-sort)|`None`|Ordina gli elementi|\n",
    "|[\"sep\".join(seq)](https://it.softpython.org/lists/lists3-sol.html#Metodo-join---da-liste-a-stringhe)|`str`|produce una stringa concatenando tutti gli elementi in seq separati da `\"sep\"`| \n",
    "\n",
    "Riferimenti: [SoftPython - liste 3](https://it.softpython.org/lists/lists3-sol.html)"
   ]
  },
  {
   "cell_type": "markdown",
   "id": "6b679324",
   "metadata": {
    "slideshow": {
     "slide_type": "subslide"
    }
   },
   "source": [
    "<div class=\"alert alert-warning\">\n",
    "\n",
    "**I METODI DELLE LISTE _MODIFICANO_ LA LISTA SU CUI VENGONO CHIAMATI !**\n",
    "\n",
    "Quando chiami un metodo di una lista (l'oggetto a sinistra del punto `.`), MODIFICHI la lista stessa (diversamente dai metodi sulle stringhe che generano sempre una nuova stringa senza cambiare l'originale)\n",
    "\n",
    "</div>"
   ]
  },
  {
   "cell_type": "markdown",
   "id": "5e639d26",
   "metadata": {
    "slideshow": {
     "slide_type": "fragment"
    }
   },
   "source": [
    "<div class=\"alert alert-warning\">\n",
    "\n",
    "**ATTENZIONE: I METODI DELLE LISTE _NON_ RITORNANO NULLA!**\n",
    "\n",
    "Quasi sempre ritornano l'oggetto `None` (diversamente da quelli delle stringhe che ritornano sempre una nuova stringa)\n",
    "\n",
    "</div>\n"
   ]
  },
  {
   "cell_type": "markdown",
   "id": "8cdb3b32",
   "metadata": {
    "colab_type": "text",
    "id": "ZSY_jqK_AFVv",
    "slideshow": {
     "slide_type": "subslide"
    }
   },
   "source": [
    "## Metodo append\n",
    "\n",
    "MODIFICA la lista aggiungendo UN solo elemento alla fine:"
   ]
  },
  {
   "cell_type": "code",
   "execution_count": 2,
   "id": "a45d166f",
   "metadata": {
    "colab": {
     "autoexec": {
      "startup": false,
      "wait_interval": 0
     }
    },
    "colab_type": "code",
    "id": "QxpNlcbHAFVv",
    "slideshow": {
     "slide_type": "-"
    }
   },
   "outputs": [],
   "source": [
    "parole = []"
   ]
  },
  {
   "cell_type": "code",
   "execution_count": 3,
   "id": "77389331",
   "metadata": {
    "colab": {
     "autoexec": {
      "startup": false,
      "wait_interval": 0
     }
    },
    "colab_type": "code",
    "id": "w6B-rfZpAFV2",
    "slideshow": {
     "slide_type": "fragment"
    }
   },
   "outputs": [],
   "source": [
    "parole.append(\"Questa\")"
   ]
  },
  {
   "cell_type": "code",
   "execution_count": 4,
   "id": "a09d309f",
   "metadata": {
    "colab": {
     "autoexec": {
      "startup": false,
      "wait_interval": 0
     },
     "output_extras": [
      {}
     ]
    },
    "colab_type": "code",
    "id": "M8roNVZPAFV5",
    "outputId": "b61ddfa5-115b-43cc-df02-450435f69d10",
    "slideshow": {
     "slide_type": "-"
    }
   },
   "outputs": [
    {
     "data": {
      "text/plain": [
       "['Questa']"
      ]
     },
     "execution_count": 4,
     "metadata": {},
     "output_type": "execute_result"
    }
   ],
   "source": [
    "parole"
   ]
  },
  {
   "cell_type": "code",
   "execution_count": 5,
   "id": "5e14776f",
   "metadata": {
    "colab": {
     "autoexec": {
      "startup": false,
      "wait_interval": 0
     }
    },
    "colab_type": "code",
    "id": "4zXn5AnYAFV9",
    "slideshow": {
     "slide_type": "fragment"
    }
   },
   "outputs": [],
   "source": [
    "parole.append(\"sera\")\n",
    "parole.append(\"ceniamo\")\n",
    "parole.append(\"presto\")"
   ]
  },
  {
   "cell_type": "code",
   "execution_count": 6,
   "id": "d7e63a6f",
   "metadata": {
    "colab": {
     "autoexec": {
      "startup": false,
      "wait_interval": 0
     },
     "output_extras": [
      {}
     ]
    },
    "colab_type": "code",
    "id": "1YuQeTO8AFWF",
    "outputId": "6e819883-ced0-4382-a24e-c6984a0fe3e7",
    "slideshow": {
     "slide_type": "-"
    }
   },
   "outputs": [
    {
     "data": {
      "text/plain": [
       "['Questa', 'sera', 'ceniamo', 'presto']"
      ]
     },
     "execution_count": 6,
     "metadata": {},
     "output_type": "execute_result"
    }
   ],
   "source": [
    "parole"
   ]
  },
  {
   "cell_type": "markdown",
   "id": "79e8e21f",
   "metadata": {
    "slideshow": {
     "slide_type": "slide"
    }
   },
   "source": [
    "## Metodo extend\n",
    "\n",
    "MODIFICA la lista aggiungendo UNA sequenza alla fine:"
   ]
  },
  {
   "cell_type": "code",
   "execution_count": 7,
   "id": "147e43b9",
   "metadata": {
    "slideshow": {
     "slide_type": "-"
    }
   },
   "outputs": [],
   "source": [
    "la = [30,70,50,90]"
   ]
  },
  {
   "cell_type": "code",
   "execution_count": 8,
   "id": "29d0f6b3",
   "metadata": {
    "slideshow": {
     "slide_type": "-"
    }
   },
   "outputs": [],
   "source": [
    "la.extend( [80,40,20] )   # UN argomento"
   ]
  },
  {
   "cell_type": "code",
   "execution_count": 9,
   "id": "255493ee",
   "metadata": {
    "slideshow": {
     "slide_type": "-"
    }
   },
   "outputs": [
    {
     "data": {
      "text/plain": [
       "[30, 70, 50, 90, 80, 40, 20]"
      ]
     },
     "execution_count": 9,
     "metadata": {},
     "output_type": "execute_result"
    }
   ],
   "source": [
    "la"
   ]
  },
  {
   "cell_type": "markdown",
   "id": "5ae0828b",
   "metadata": {
    "slideshow": {
     "slide_type": "fragment"
    }
   },
   "source": [
    "```python\n",
    "la.extend( 80, 40, 20 )   # Funzionerà?\n",
    "```"
   ]
  },
  {
   "cell_type": "markdown",
   "id": "01832498",
   "metadata": {
    "slideshow": {
     "slide_type": "fragment"
    }
   },
   "source": [
    "```python\n",
    "---------------------------------------------------------------------------\n",
    "TypeError                                 Traceback (most recent call last)\n",
    "/tmp/ipykernel_14079/505507485.py in <module>\n",
    "----> 1 la.extend( 80, 40, 20 )\n",
    "\n",
    "TypeError: extend() takes exactly one argument (3 given)\n",
    "```"
   ]
  },
  {
   "cell_type": "markdown",
   "id": "a4ef2e33",
   "metadata": {
    "slideshow": {
     "slide_type": "subslide"
    }
   },
   "source": [
    "Ad `extend` possiamo passare sequenze qualsiasi:"
   ]
  },
  {
   "cell_type": "code",
   "execution_count": 10,
   "id": "3d199ed2",
   "metadata": {
    "slideshow": {
     "slide_type": "-"
    }
   },
   "outputs": [],
   "source": [
    "la = [70,60,80]\n",
    "\n",
    "la.extend( \"catena\" )"
   ]
  },
  {
   "cell_type": "code",
   "execution_count": 11,
   "id": "315f8c4d",
   "metadata": {
    "slideshow": {
     "slide_type": "-"
    }
   },
   "outputs": [
    {
     "data": {
      "text/plain": [
       "[70, 60, 80, 'c', 'a', 't', 'e', 'n', 'a']"
      ]
     },
     "execution_count": 11,
     "metadata": {},
     "output_type": "execute_result"
    }
   ],
   "source": [
    "la"
   ]
  },
  {
   "cell_type": "markdown",
   "id": "808a1e83",
   "metadata": {
    "slideshow": {
     "slide_type": "slide"
    }
   },
   "source": [
    "## Metodo insert\n",
    "\n",
    "MODIFICA la lista inserendo ad un certo indice un elemento"
   ]
  },
  {
   "cell_type": "code",
   "execution_count": 12,
   "id": "da4442bb",
   "metadata": {
    "slideshow": {
     "slide_type": "-"
    }
   },
   "outputs": [],
   "source": [
    "     #0 1 2 3\n",
    "la = [6,7,8,9]\n",
    "la.insert(2,50)"
   ]
  },
  {
   "cell_type": "code",
   "execution_count": 13,
   "id": "d4240a6a",
   "metadata": {
    "slideshow": {
     "slide_type": "-"
    }
   },
   "outputs": [
    {
     "data": {
      "text/plain": [
       "[6, 7, 50, 8, 9]"
      ]
     },
     "execution_count": 13,
     "metadata": {},
     "output_type": "execute_result"
    }
   ],
   "source": [
    "la"
   ]
  },
  {
   "cell_type": "code",
   "execution_count": 14,
   "id": "3663acc7",
   "metadata": {
    "slideshow": {
     "slide_type": "fragment"
    }
   },
   "outputs": [],
   "source": [
    "la.insert(0,40)"
   ]
  },
  {
   "cell_type": "code",
   "execution_count": 15,
   "id": "4de221a6",
   "metadata": {
    "slideshow": {
     "slide_type": "-"
    }
   },
   "outputs": [
    {
     "data": {
      "text/plain": [
       "[40, 6, 7, 50, 8, 9]"
      ]
     },
     "execution_count": 15,
     "metadata": {},
     "output_type": "execute_result"
    }
   ],
   "source": [
    "la"
   ]
  },
  {
   "cell_type": "markdown",
   "id": "68c9bba0",
   "metadata": {
    "slideshow": {
     "slide_type": "fragment"
    }
   },
   "source": [
    "<div class=\"alert alert-warning\">\n",
    "\n",
    "**RICORDA**: Python è lento ad eseguire `insert` \n",
    "    \n",
    "-> E' proprio necessario usare `insert`?  \n",
    "</div>"
   ]
  },
  {
   "cell_type": "markdown",
   "id": "a59547ac",
   "metadata": {
    "slideshow": {
     "slide_type": "slide"
    }
   },
   "source": [
    "## Metodo pop\n",
    "\n",
    "MODIFICA la lista togliendo l'ultimo elemento e lo RITORNA"
   ]
  },
  {
   "cell_type": "code",
   "execution_count": 16,
   "id": "625d10a7",
   "metadata": {
    "slideshow": {
     "slide_type": "-"
    }
   },
   "outputs": [
    {
     "data": {
      "text/plain": [
       "'anguria'"
      ]
     },
     "execution_count": 16,
     "metadata": {},
     "output_type": "execute_result"
    }
   ],
   "source": [
    "cesta = ['melone','fragola', 'anguria']\n",
    "cesta.pop()"
   ]
  },
  {
   "cell_type": "code",
   "execution_count": 17,
   "id": "78ed61a5",
   "metadata": {
    "slideshow": {
     "slide_type": "fragment"
    }
   },
   "outputs": [
    {
     "data": {
      "text/plain": [
       "['melone', 'fragola']"
      ]
     },
     "execution_count": 17,
     "metadata": {},
     "output_type": "execute_result"
    }
   ],
   "source": [
    "cesta"
   ]
  },
  {
   "cell_type": "code",
   "execution_count": 18,
   "id": "dd29530a",
   "metadata": {
    "slideshow": {
     "slide_type": "fragment"
    }
   },
   "outputs": [],
   "source": [
    "frutto = cesta.pop()"
   ]
  },
  {
   "cell_type": "code",
   "execution_count": 19,
   "id": "f7af4908",
   "metadata": {
    "slideshow": {
     "slide_type": "fragment"
    }
   },
   "outputs": [
    {
     "data": {
      "text/plain": [
       "['melone']"
      ]
     },
     "execution_count": 19,
     "metadata": {},
     "output_type": "execute_result"
    }
   ],
   "source": [
    "cesta"
   ]
  },
  {
   "cell_type": "code",
   "execution_count": 20,
   "id": "1afbeeb0",
   "metadata": {
    "slideshow": {
     "slide_type": "fragment"
    }
   },
   "outputs": [
    {
     "data": {
      "text/plain": [
       "'fragola'"
      ]
     },
     "execution_count": 20,
     "metadata": {},
     "output_type": "execute_result"
    }
   ],
   "source": [
    "frutto"
   ]
  },
  {
   "cell_type": "markdown",
   "id": "3c7cdb75",
   "metadata": {},
   "source": [
    "## Metodo reverse\n",
    "\n",
    "MODIFICA la lista rovesciandola"
   ]
  },
  {
   "cell_type": "code",
   "execution_count": 21,
   "id": "950ab6da",
   "metadata": {},
   "outputs": [],
   "source": [
    "la = [7,6,8,4]"
   ]
  },
  {
   "cell_type": "code",
   "execution_count": 22,
   "id": "25617003",
   "metadata": {},
   "outputs": [],
   "source": [
    "la.reverse()"
   ]
  },
  {
   "cell_type": "code",
   "execution_count": 23,
   "id": "586f3f46",
   "metadata": {},
   "outputs": [
    {
     "data": {
      "text/plain": [
       "[4, 8, 6, 7]"
      ]
     },
     "execution_count": 23,
     "metadata": {},
     "output_type": "execute_result"
    }
   ],
   "source": [
    "la"
   ]
  },
  {
   "cell_type": "markdown",
   "id": "29c18abd",
   "metadata": {},
   "source": [
    "**DOMANDA**: Guarda la definizione.\n",
    "\n",
    "1. `reverse` RITORNA forse qualcosa? Cosa?\n",
    "2. Ha senso scrivere `pippo = la.reverse()` ?"
   ]
  },
  {
   "cell_type": "markdown",
   "id": "0c7dac4e",
   "metadata": {
    "colab_type": "text",
    "id": "TrimbgQ8i6zE",
    "slideshow": {
     "slide_type": "subslide"
    }
   },
   "source": [
    "## Metodo sort\n",
    "\n",
    "MODIFICA la lista ordinandola\n",
    "\n",
    "- funziona su tutti gli oggetti ordinabili. \n",
    "\n",
    "Proviamo i numeri:"
   ]
  },
  {
   "cell_type": "code",
   "execution_count": 24,
   "id": "6529d9d5",
   "metadata": {
    "colab": {
     "autoexec": {
      "startup": false,
      "wait_interval": 0
     }
    },
    "colab_type": "code",
    "id": "xNFr7Up3jt9l",
    "slideshow": {
     "slide_type": "-"
    }
   },
   "outputs": [],
   "source": [
    "lista = [ 8, 2, 4]\n",
    "\n",
    "lista.sort()"
   ]
  },
  {
   "cell_type": "code",
   "execution_count": 25,
   "id": "f885d84b",
   "metadata": {
    "colab": {
     "autoexec": {
      "startup": false,
      "wait_interval": 0
     }
    },
    "colab_type": "code",
    "id": "bxLaBfwaj3bM",
    "slideshow": {
     "slide_type": "fragment"
    }
   },
   "outputs": [
    {
     "data": {
      "text/plain": [
       "[2, 4, 8]"
      ]
     },
     "execution_count": 25,
     "metadata": {},
     "output_type": "execute_result"
    }
   ],
   "source": [
    "lista"
   ]
  },
  {
   "cell_type": "markdown",
   "id": "f899846c",
   "metadata": {
    "colab_type": "text",
    "id": "IQWomkTPj5P4",
    "slideshow": {
     "slide_type": "fragment"
    }
   },
   "source": [
    "Proviamo ad ordinare delle stringhe:"
   ]
  },
  {
   "cell_type": "code",
   "execution_count": 26,
   "id": "fe18c557",
   "metadata": {
    "colab": {
     "autoexec": {
      "startup": false,
      "wait_interval": 0
     },
     "base_uri": "https://localhost:8080/",
     "height": 34,
     "output_extras": [
      {
       "item_id": 1
      }
     ]
    },
    "colab_type": "code",
    "executionInfo": {
     "elapsed": 484,
     "status": "ok",
     "timestamp": 1519035909727,
     "user": {
      "displayName": "David Leoni",
      "photoUrl": "https://lh3.googleusercontent.com/a/default-user=s128",
      "userId": "102920557909426557439"
     },
     "user_tz": -60
    },
    "id": "Z2kdDpxNjcMg",
    "outputId": "fbf06717-b6d4-4e00-a440-36628440c398",
    "slideshow": {
     "slide_type": "-"
    }
   },
   "outputs": [
    {
     "data": {
      "text/plain": [
       "['ciao', 'mondo', 'python']"
      ]
     },
     "execution_count": 26,
     "metadata": {},
     "output_type": "execute_result"
    }
   ],
   "source": [
    "parole = [ 'mondo', 'python',  'ciao',]\n",
    "\n",
    "parole.sort()\n",
    "parole"
   ]
  },
  {
   "cell_type": "markdown",
   "id": "5d56c166",
   "metadata": {
    "colab_type": "text",
    "id": "tyK4Pgo7lcay",
    "slideshow": {
     "slide_type": "subslide"
    }
   },
   "source": [
    "Per generare una nuova lista invece di modificare l'originale, c'è `sorted()`\n",
    "\n",
    "**NOTA**: `sorted` è una _funzione_, non un _metodo_:"
   ]
  },
  {
   "cell_type": "code",
   "execution_count": 27,
   "id": "08e7d467",
   "metadata": {
    "colab": {
     "autoexec": {
      "startup": false,
      "wait_interval": 0
     },
     "base_uri": "https://localhost:8080/",
     "height": 34,
     "output_extras": [
      {
       "item_id": 1
      }
     ]
    },
    "colab_type": "code",
    "executionInfo": {
     "elapsed": 826,
     "status": "ok",
     "timestamp": 1519035925999,
     "user": {
      "displayName": "David Leoni",
      "photoUrl": "https://lh3.googleusercontent.com/a/default-user=s128",
      "userId": "102920557909426557439"
     },
     "user_tz": -60
    },
    "id": "7x9keLzIlbeY",
    "outputId": "975525d4-ba5f-4075-96bc-9de778fac761",
    "slideshow": {
     "slide_type": "-"
    }
   },
   "outputs": [
    {
     "data": {
      "text/plain": [
       "['ciao', 'mondo', 'python']"
      ]
     },
     "execution_count": 27,
     "metadata": {},
     "output_type": "execute_result"
    }
   ],
   "source": [
    "parole = [ 'mondo', 'python', 'ciao',]\n",
    "\n",
    "sorted(parole)"
   ]
  },
  {
   "cell_type": "code",
   "execution_count": 28,
   "id": "6e8c329d",
   "metadata": {
    "colab": {
     "autoexec": {
      "startup": false,
      "wait_interval": 0
     },
     "base_uri": "https://localhost:8080/",
     "height": 34,
     "output_extras": [
      {
       "item_id": 1
      }
     ]
    },
    "colab_type": "code",
    "executionInfo": {
     "elapsed": 477,
     "status": "ok",
     "timestamp": 1519036050423,
     "user": {
      "displayName": "David Leoni",
      "photoUrl": "https://lh3.googleusercontent.com/a/default-user=s128",
      "userId": "102920557909426557439"
     },
     "user_tz": -60
    },
    "id": "L87O-fjMlwoz",
    "outputId": "98291939-58ee-494c-a7b6-5caf071741a3",
    "slideshow": {
     "slide_type": "fragment"
    }
   },
   "outputs": [
    {
     "data": {
      "text/plain": [
       "['mondo', 'python', 'ciao']"
      ]
     },
     "execution_count": 28,
     "metadata": {},
     "output_type": "execute_result"
    }
   ],
   "source": [
    "# la lista originale non è cambiata:\n",
    "parole"
   ]
  },
  {
   "cell_type": "markdown",
   "id": "18b8e7fb",
   "metadata": {
    "colab_type": "text",
    "id": "OPTT3kHSpp3m",
    "slideshow": {
     "slide_type": "fragment"
    }
   },
   "source": [
    "**Ordine rovesciato**\n",
    "\n",
    "Possiamo indicare _in fondo_ il parametro opzionale `reverse` e il suo valore, che in questo caso sarà `True`:"
   ]
  },
  {
   "cell_type": "code",
   "execution_count": 29,
   "id": "08a99343",
   "metadata": {
    "colab": {
     "autoexec": {
      "startup": false,
      "wait_interval": 0
     },
     "base_uri": "https://localhost:8080/",
     "height": 34,
     "output_extras": [
      {
       "item_id": 1
      }
     ]
    },
    "colab_type": "code",
    "executionInfo": {
     "elapsed": 662,
     "status": "ok",
     "timestamp": 1519036904044,
     "user": {
      "displayName": "David Leoni",
      "photoUrl": "https://lh3.googleusercontent.com/a/default-user=s128",
      "userId": "102920557909426557439"
     },
     "user_tz": -60
    },
    "id": "1uL7iYVxp0Jc",
    "outputId": "0c2ff50a-f5a7-4a9b-9615-47a4bfd61df9"
   },
   "outputs": [
    {
     "data": {
      "text/plain": [
       "['python', 'mondo', 'ciao']"
      ]
     },
     "execution_count": 29,
     "metadata": {},
     "output_type": "execute_result"
    }
   ],
   "source": [
    "sorted(['mondo', 'python', 'ciao'], reverse=True)"
   ]
  },
  {
   "cell_type": "markdown",
   "id": "04c23133",
   "metadata": {
    "colab_type": "text",
    "id": "BYKOKlw3rTXo",
    "slideshow": {
     "slide_type": "subslide"
    }
   },
   "source": [
    "**Rovesciare liste non ordinate**\n",
    "\n",
    "E se volessimo rovesciare una lista così com'è, senza ordinarla in senso decrescente, per esempio per passare da`[6,2,4]` a `[2,4,6]`?\n",
    "\n",
    "Cercando nella libreria di Python,troviamo una comoda funzione `reversed()` che prende come paramatro la lista che vogliamo rovesciare e ne genera una nuova rovesciata:"
   ]
  },
  {
   "cell_type": "code",
   "execution_count": 30,
   "id": "001bdb4a",
   "metadata": {
    "slideshow": {
     "slide_type": "-"
    }
   },
   "outputs": [
    {
     "data": {
      "text/plain": [
       "<list_reverseiterator at 0x7f3db70a0c90>"
      ]
     },
     "execution_count": 30,
     "metadata": {},
     "output_type": "execute_result"
    }
   ],
   "source": [
    "reversed([6,2,4])"
   ]
  },
  {
   "cell_type": "markdown",
   "id": "4314fa95",
   "metadata": {
    "slideshow": {
     "slide_type": "fragment"
    }
   },
   "source": [
    "Problema: `reversed` produce una sequenza 'congelate', che va materializzata convertendola esplicitamente a lista così:"
   ]
  },
  {
   "cell_type": "code",
   "execution_count": 31,
   "id": "5ad119f3",
   "metadata": {
    "slideshow": {
     "slide_type": "-"
    }
   },
   "outputs": [
    {
     "data": {
      "text/plain": [
       "[4, 2, 6]"
      ]
     },
     "execution_count": 31,
     "metadata": {},
     "output_type": "execute_result"
    }
   ],
   "source": [
    "list(  reversed([6,2,4]) )"
   ]
  },
  {
   "cell_type": "markdown",
   "id": "2ab84635",
   "metadata": {
    "slideshow": {
     "slide_type": "slide"
    }
   },
   "source": [
    "## Metodo join - da liste a stringhe\n",
    "\n"
   ]
  },
  {
   "cell_type": "code",
   "execution_count": 32,
   "id": "09f23da5",
   "metadata": {},
   "outputs": [
    {
     "data": {
      "text/plain": [
       "'QuandoSEPARATOREfuoriSEPARATOREpiove'"
      ]
     },
     "execution_count": 32,
     "metadata": {},
     "output_type": "execute_result"
    }
   ],
   "source": [
    "la = ['Quando', 'fuori', 'piove']\n",
    "\n",
    "'SEPARATORE'.join(la)"
   ]
  },
  {
   "cell_type": "code",
   "execution_count": 33,
   "id": "b7f24647",
   "metadata": {},
   "outputs": [
    {
     "data": {
      "text/plain": [
       "'Quando fuori piove'"
      ]
     },
     "execution_count": 33,
     "metadata": {},
     "output_type": "execute_result"
    }
   ],
   "source": [
    "' '.join(la)"
   ]
  },
  {
   "cell_type": "markdown",
   "id": "094b35bc",
   "metadata": {
    "slideshow": {
     "slide_type": "slide"
    }
   },
   "source": [
    "## copy vs deep copy\n",
    "\n",
    "Il metodo `.copy()` effettua sulo una cosiddetta copia in superficie (_shallow copy_)"
   ]
  },
  {
   "cell_type": "code",
   "execution_count": 34,
   "id": "44a805f2",
   "metadata": {
    "slideshow": {
     "slide_type": "-"
    }
   },
   "outputs": [
    {
     "name": "stdout",
     "output_type": "stream",
     "text": [
      "[['a', 'b'], ['OCCHIO!', 'd', 'e']]\n",
      "[['a', 'b'], ['OCCHIO!', 'd', 'e']]\n"
     ]
    },
    {
     "data": {
      "text/html": [
       "        \n",
       "        <script src=\"../_static/js/pytutor-embed.bundle.min.js\" #type=\"application/javascript\"></script>\n",
       "    \n",
       "        <style>\n",
       "        @import \"../_static/css/jupman.css\";\n",
       "        </style>\n",
       "     \n",
       "        <script id=\"trace-jm-04f5da5da538e6b7546b1b68d52628a9-36\" type=\"application/json\" >\n",
       "            {\"code\": \" \\nlista = [\\n  ['a', 'b'], \\n  ['c', 'd', 'e']\\n]\\nlistb = lista.copy() \\nlista[1][0]  = 'OCCHIO!' \\nprint(lista)\\nprint(listb)\", \"trace\": [{\"line\": 3, \"event\": \"step_line\", \"func_name\": \"<module>\", \"globals\": {}, \"ordered_globals\": [], \"stack_to_render\": [], \"heap\": {}, \"stdout\": \"\"}, {\"line\": 4, \"event\": \"step_line\", \"func_name\": \"<module>\", \"globals\": {}, \"ordered_globals\": [], \"stack_to_render\": [], \"heap\": {}, \"stdout\": \"\"}, {\"line\": 6, \"event\": \"step_line\", \"func_name\": \"<module>\", \"globals\": {\"lista\": [\"REF\", 1]}, \"ordered_globals\": [\"lista\"], \"stack_to_render\": [], \"heap\": {\"1\": [\"LIST\", [\"REF\", 2], [\"REF\", 3]], \"2\": [\"LIST\", \"a\", \"b\"], \"3\": [\"LIST\", \"c\", \"d\", \"e\"]}, \"stdout\": \"\"}, {\"line\": 7, \"event\": \"step_line\", \"func_name\": \"<module>\", \"globals\": {\"lista\": [\"REF\", 1], \"listb\": [\"REF\", 4]}, \"ordered_globals\": [\"lista\", \"listb\"], \"stack_to_render\": [], \"heap\": {\"1\": [\"LIST\", [\"REF\", 2], [\"REF\", 3]], \"2\": [\"LIST\", \"a\", \"b\"], \"3\": [\"LIST\", \"c\", \"d\", \"e\"], \"4\": [\"LIST\", [\"REF\", 2], [\"REF\", 3]]}, \"stdout\": \"\"}, {\"line\": 8, \"event\": \"step_line\", \"func_name\": \"<module>\", \"globals\": {\"lista\": [\"REF\", 1], \"listb\": [\"REF\", 4]}, \"ordered_globals\": [\"lista\", \"listb\"], \"stack_to_render\": [], \"heap\": {\"1\": [\"LIST\", [\"REF\", 2], [\"REF\", 3]], \"2\": [\"LIST\", \"a\", \"b\"], \"3\": [\"LIST\", \"OCCHIO!\", \"d\", \"e\"], \"4\": [\"LIST\", [\"REF\", 2], [\"REF\", 3]]}, \"stdout\": \"\"}, {\"line\": 9, \"event\": \"step_line\", \"func_name\": \"<module>\", \"globals\": {\"lista\": [\"REF\", 1], \"listb\": [\"REF\", 4]}, \"ordered_globals\": [\"lista\", \"listb\"], \"stack_to_render\": [], \"heap\": {\"1\": [\"LIST\", [\"REF\", 2], [\"REF\", 3]], \"2\": [\"LIST\", \"a\", \"b\"], \"3\": [\"LIST\", \"OCCHIO!\", \"d\", \"e\"], \"4\": [\"LIST\", [\"REF\", 2], [\"REF\", 3]]}, \"stdout\": \"[['a', 'b'], ['OCCHIO!', 'd', 'e']]\\n\"}, {\"line\": 9, \"event\": \"return\", \"func_name\": \"<module>\", \"globals\": {\"lista\": [\"REF\", 1], \"listb\": [\"REF\", 4]}, \"ordered_globals\": [\"lista\", \"listb\"], \"stack_to_render\": [], \"heap\": {\"1\": [\"LIST\", [\"REF\", 2], [\"REF\", 3]], \"2\": [\"LIST\", \"a\", \"b\"], \"3\": [\"LIST\", \"OCCHIO!\", \"d\", \"e\"], \"4\": [\"LIST\", [\"REF\", 2], [\"REF\", 3]]}, \"stdout\": \"[['a', 'b'], ['OCCHIO!', 'd', 'e']]\\n[['a', 'b'], ['OCCHIO!', 'd', 'e']]\\n\"}]}\n",
       "        </script>\n",
       "        <div id=\"jm-04f5da5da538e6b7546b1b68d52628a9-36\" class=\"pytutorVisualizer\"> </div>\n",
       "                            \n",
       "        <script>\n",
       "                          \n",
       "        var jmRenderPytut = function(trace_id, div_id, config){\n",
       "            console.log(\"jupman.py embedded javascript: rendering Python tutor visualizer...\")\n",
       "            \n",
       "            let oldAlert = window.alert;\n",
       "            window.alert = function ( text ) { \n",
       "                console.log( 'tried to alert: ', text );         \n",
       "                return true; \n",
       "            };\n",
       "            let executionVisualizer = null;\n",
       "            try {\n",
       "            \n",
       "                var trace = JSON.parse(document.getElementById(trace_id).innerHTML);                                        \n",
       "                // NOTE: id without #\n",
       "                        \n",
       "                executionVisualizer = addVisualizerToPage(trace, div_id, config);\n",
       "                // hack in case visualizer decides to hide them for no good reason\n",
       "                $('#' + div_id + ' #jmpFirstInstr').show();\n",
       "                $('#' + div_id + ' #jmpLastInstr').show();\n",
       "                \n",
       "                // set overflow for pytuts - need to do in python as css \n",
       "                // does not allow parent selection\n",
       "                var pytuts = $('.pytutorVisualizer');\n",
       "                pytuts.closest('div.output_html.rendered_html.output_result')\n",
       "                        .css('overflow-x', 'visible');\n",
       "            \n",
       "                //pytuts.closest('div.output_html.rendered_html.output_result')\n",
       "                //      .css('background-color','red');                \n",
       "            } catch (error) {\n",
       "                console.error(\"jupman slides: Couldn't visualize Python tutor properly\", error);\n",
       "            }\n",
       "            window.alert = oldAlert;\n",
       "            return executionVisualizer;\n",
       "            \n",
       "        };\n",
       "        </script>\n",
       "        \n",
       "        <script>\n",
       "        var pytut_cfg_04f5da5da538e6b7546b1b68d52628a9_36 = (function(){\n",
       "            var rootFontSize = window.getComputedStyle(document.body).getPropertyValue('font-size');\n",
       "            var rootFontSizeNum = 12;\n",
       "            if (rootFontSize.endsWith('px')){\n",
       "                rootFontSizeNum = Number(rootFontSize.substring(0, rootFontSize.length-2));\n",
       "            } else {\n",
       "                console.error(\"Unrecognized font unit:\", rootFontSize, \"assuming default\", rootFontSizeNum);\n",
       "            }\n",
       "            console.log('rootFontSize', rootFontSize);\n",
       "            \n",
       "            var codeWidthInChars = Math.max(23, 25);\n",
       "            if (0){\n",
       "                codeWidthInChars = 0;    // override\n",
       "            }\n",
       "            return {'embeddedMode' : false,\n",
       "                  'disableHeapNesting': true,\n",
       "                  'visualizerIdOverride':'viz-jm-04f5da5da538e6b7546b1b68d52628a9-36',\n",
       "                  'codeDivWidth': Math.trunc(rootFontSizeNum * codeWidthInChars)\n",
       "                  };\n",
       "        })();                 \n",
       "        \n",
       "        jmRenderPytut('trace-jm-04f5da5da538e6b7546b1b68d52628a9-36', 'jm-04f5da5da538e6b7546b1b68d52628a9-36', pytut_cfg_04f5da5da538e6b7546b1b68d52628a9_36);\n",
       "        </script>\n",
       "                \n",
       "    \n",
       "    <div style=\"text-align:center; font-size:0.9em\"> <a href=\"https://pythontutor.com/visualize.html#mode=edit\" target=\"_blank\">Python Tutor</a> visualization</div> \n",
       "    "
      ],
      "text/plain": [
       "<IPython.core.display.HTML object>"
      ]
     },
     "execution_count": 34,
     "metadata": {},
     "output_type": "execute_result"
    }
   ],
   "source": [
    "#jupman-purge-input\n",
    "#jupman-purge-text-output\n",
    "lista = [\n",
    "  ['a', 'b'], \n",
    "  ['c', 'd', 'e']\n",
    "]\n",
    "listb = lista.copy() \n",
    "lista[1][0]  = 'OCCHIO!' \n",
    "print(lista)\n",
    "print(listb)\n",
    "conf.jm.python_tutor()"
   ]
  },
  {
   "cell_type": "markdown",
   "id": "e57134ca",
   "metadata": {
    "slideshow": {
     "slide_type": "subslide"
    }
   },
   "source": [
    "## Copia in profondità\n",
    "\n",
    "Si può fare con il _modulo_ `copy` che contiene la _funzione_ `deepcopy`"
   ]
  },
  {
   "cell_type": "code",
   "execution_count": 35,
   "id": "f79a8dff",
   "metadata": {
    "slideshow": {
     "slide_type": "-"
    }
   },
   "outputs": [
    {
     "name": "stdout",
     "output_type": "stream",
     "text": [
      "[['a', 'b'], ['OCCHIO!', 'd', 'e']]\n",
      "[['a', 'b'], ['c', 'd', 'e']]\n"
     ]
    },
    {
     "data": {
      "text/html": [
       "        \n",
       "        <script src=\"../_static/js/pytutor-embed.bundle.min.js\" #type=\"application/javascript\"></script>\n",
       "    \n",
       "        <style>\n",
       "        @import \"../_static/css/jupman.css\";\n",
       "        </style>\n",
       "     \n",
       "        <script id=\"trace-jm-44e885ba9bdf3bfd30ebee56689fe4da-37\" type=\"application/json\" >\n",
       "            {\"code\": \" \\nimport copy  # MODULO PYTHON\\nlista = [\\n  ['a', 'b'], \\n  ['c', 'd', 'e'],\\n]\\nlistb = copy.deepcopy(lista)  \\nlista[1][0]  = 'OCCHIO!' \\nprint(lista)\\nprint(listb)\", \"trace\": [{\"line\": 2, \"event\": \"step_line\", \"func_name\": \"<module>\", \"globals\": {}, \"ordered_globals\": [], \"stack_to_render\": [], \"heap\": {}, \"stdout\": \"\"}, {\"line\": 4, \"event\": \"step_line\", \"func_name\": \"<module>\", \"globals\": {\"copy\": [\"REF\", 1]}, \"ordered_globals\": [\"copy\"], \"stack_to_render\": [], \"heap\": {\"1\": [\"INSTANCE\", \"module\"]}, \"stdout\": \"\"}, {\"line\": 5, \"event\": \"step_line\", \"func_name\": \"<module>\", \"globals\": {\"copy\": [\"REF\", 1]}, \"ordered_globals\": [\"copy\"], \"stack_to_render\": [], \"heap\": {\"1\": [\"INSTANCE\", \"module\"]}, \"stdout\": \"\"}, {\"line\": 7, \"event\": \"step_line\", \"func_name\": \"<module>\", \"globals\": {\"copy\": [\"REF\", 1], \"lista\": [\"REF\", 2]}, \"ordered_globals\": [\"copy\", \"lista\"], \"stack_to_render\": [], \"heap\": {\"1\": [\"INSTANCE\", \"module\"], \"2\": [\"LIST\", [\"REF\", 3], [\"REF\", 4]], \"3\": [\"LIST\", \"a\", \"b\"], \"4\": [\"LIST\", \"c\", \"d\", \"e\"]}, \"stdout\": \"\"}, {\"line\": 8, \"event\": \"step_line\", \"func_name\": \"<module>\", \"globals\": {\"copy\": [\"REF\", 1], \"lista\": [\"REF\", 2], \"listb\": [\"REF\", 5]}, \"ordered_globals\": [\"copy\", \"lista\", \"listb\"], \"stack_to_render\": [], \"heap\": {\"1\": [\"INSTANCE\", \"module\"], \"2\": [\"LIST\", [\"REF\", 3], [\"REF\", 4]], \"3\": [\"LIST\", \"a\", \"b\"], \"4\": [\"LIST\", \"c\", \"d\", \"e\"], \"5\": [\"LIST\", [\"REF\", 6], [\"REF\", 7]], \"6\": [\"LIST\", \"a\", \"b\"], \"7\": [\"LIST\", \"c\", \"d\", \"e\"]}, \"stdout\": \"\"}, {\"line\": 9, \"event\": \"step_line\", \"func_name\": \"<module>\", \"globals\": {\"copy\": [\"REF\", 1], \"lista\": [\"REF\", 2], \"listb\": [\"REF\", 5]}, \"ordered_globals\": [\"copy\", \"lista\", \"listb\"], \"stack_to_render\": [], \"heap\": {\"1\": [\"INSTANCE\", \"module\"], \"2\": [\"LIST\", [\"REF\", 3], [\"REF\", 4]], \"3\": [\"LIST\", \"a\", \"b\"], \"4\": [\"LIST\", \"OCCHIO!\", \"d\", \"e\"], \"5\": [\"LIST\", [\"REF\", 6], [\"REF\", 7]], \"6\": [\"LIST\", \"a\", \"b\"], \"7\": [\"LIST\", \"c\", \"d\", \"e\"]}, \"stdout\": \"\"}, {\"line\": 10, \"event\": \"step_line\", \"func_name\": \"<module>\", \"globals\": {\"copy\": [\"REF\", 1], \"lista\": [\"REF\", 2], \"listb\": [\"REF\", 5]}, \"ordered_globals\": [\"copy\", \"lista\", \"listb\"], \"stack_to_render\": [], \"heap\": {\"1\": [\"INSTANCE\", \"module\"], \"2\": [\"LIST\", [\"REF\", 3], [\"REF\", 4]], \"3\": [\"LIST\", \"a\", \"b\"], \"4\": [\"LIST\", \"OCCHIO!\", \"d\", \"e\"], \"5\": [\"LIST\", [\"REF\", 6], [\"REF\", 7]], \"6\": [\"LIST\", \"a\", \"b\"], \"7\": [\"LIST\", \"c\", \"d\", \"e\"]}, \"stdout\": \"[['a', 'b'], ['OCCHIO!', 'd', 'e']]\\n\"}, {\"line\": 10, \"event\": \"return\", \"func_name\": \"<module>\", \"globals\": {\"copy\": [\"REF\", 1], \"lista\": [\"REF\", 2], \"listb\": [\"REF\", 5]}, \"ordered_globals\": [\"copy\", \"lista\", \"listb\"], \"stack_to_render\": [], \"heap\": {\"1\": [\"INSTANCE\", \"module\"], \"2\": [\"LIST\", [\"REF\", 3], [\"REF\", 4]], \"3\": [\"LIST\", \"a\", \"b\"], \"4\": [\"LIST\", \"OCCHIO!\", \"d\", \"e\"], \"5\": [\"LIST\", [\"REF\", 6], [\"REF\", 7]], \"6\": [\"LIST\", \"a\", \"b\"], \"7\": [\"LIST\", \"c\", \"d\", \"e\"]}, \"stdout\": \"[['a', 'b'], ['OCCHIO!', 'd', 'e']]\\n[['a', 'b'], ['c', 'd', 'e']]\\n\"}]}\n",
       "        </script>\n",
       "        <div id=\"jm-44e885ba9bdf3bfd30ebee56689fe4da-37\" class=\"pytutorVisualizer\"> </div>\n",
       "                            \n",
       "        <script>\n",
       "                          \n",
       "        var jmRenderPytut = function(trace_id, div_id, config){\n",
       "            console.log(\"jupman.py embedded javascript: rendering Python tutor visualizer...\")\n",
       "            \n",
       "            let oldAlert = window.alert;\n",
       "            window.alert = function ( text ) { \n",
       "                console.log( 'tried to alert: ', text );         \n",
       "                return true; \n",
       "            };\n",
       "            let executionVisualizer = null;\n",
       "            try {\n",
       "            \n",
       "                var trace = JSON.parse(document.getElementById(trace_id).innerHTML);                                        \n",
       "                // NOTE: id without #\n",
       "                        \n",
       "                executionVisualizer = addVisualizerToPage(trace, div_id, config);\n",
       "                // hack in case visualizer decides to hide them for no good reason\n",
       "                $('#' + div_id + ' #jmpFirstInstr').show();\n",
       "                $('#' + div_id + ' #jmpLastInstr').show();\n",
       "                \n",
       "                // set overflow for pytuts - need to do in python as css \n",
       "                // does not allow parent selection\n",
       "                var pytuts = $('.pytutorVisualizer');\n",
       "                pytuts.closest('div.output_html.rendered_html.output_result')\n",
       "                        .css('overflow-x', 'visible');\n",
       "            \n",
       "                //pytuts.closest('div.output_html.rendered_html.output_result')\n",
       "                //      .css('background-color','red');                \n",
       "            } catch (error) {\n",
       "                console.error(\"jupman slides: Couldn't visualize Python tutor properly\", error);\n",
       "            }\n",
       "            window.alert = oldAlert;\n",
       "            return executionVisualizer;\n",
       "            \n",
       "        };\n",
       "        </script>\n",
       "        \n",
       "        <script>\n",
       "        var pytut_cfg_44e885ba9bdf3bfd30ebee56689fe4da_37 = (function(){\n",
       "            var rootFontSize = window.getComputedStyle(document.body).getPropertyValue('font-size');\n",
       "            var rootFontSizeNum = 12;\n",
       "            if (rootFontSize.endsWith('px')){\n",
       "                rootFontSizeNum = Number(rootFontSize.substring(0, rootFontSize.length-2));\n",
       "            } else {\n",
       "                console.error(\"Unrecognized font unit:\", rootFontSize, \"assuming default\", rootFontSizeNum);\n",
       "            }\n",
       "            console.log('rootFontSize', rootFontSize);\n",
       "            \n",
       "            var codeWidthInChars = Math.max(23, 30);\n",
       "            if (0){\n",
       "                codeWidthInChars = 0;    // override\n",
       "            }\n",
       "            return {'embeddedMode' : false,\n",
       "                  'disableHeapNesting': true,\n",
       "                  'visualizerIdOverride':'viz-jm-44e885ba9bdf3bfd30ebee56689fe4da-37',\n",
       "                  'codeDivWidth': Math.trunc(rootFontSizeNum * codeWidthInChars)\n",
       "                  };\n",
       "        })();                 \n",
       "        \n",
       "        jmRenderPytut('trace-jm-44e885ba9bdf3bfd30ebee56689fe4da-37', 'jm-44e885ba9bdf3bfd30ebee56689fe4da-37', pytut_cfg_44e885ba9bdf3bfd30ebee56689fe4da_37);\n",
       "        </script>\n",
       "                \n",
       "    \n",
       "    <div style=\"text-align:center; font-size:0.9em\"> <a href=\"https://pythontutor.com/visualize.html#mode=edit\" target=\"_blank\">Python Tutor</a> visualization</div> \n",
       "    "
      ],
      "text/plain": [
       "<IPython.core.display.HTML object>"
      ]
     },
     "execution_count": 35,
     "metadata": {},
     "output_type": "execute_result"
    }
   ],
   "source": [
    "#jupman-purge-input\n",
    "#jupman-purge-text-output\n",
    "import copy  # MODULO PYTHON\n",
    "lista = [\n",
    "  ['a', 'b'], \n",
    "  ['c', 'd', 'e'],\n",
    "]\n",
    "listb = copy.deepcopy(lista)  \n",
    "lista[1][0]  = 'OCCHIO!' \n",
    "print(lista)\n",
    "print(listb)\n",
    "conf.jm.python_tutor()"
   ]
  },
  {
   "cell_type": "code",
   "execution_count": 37,
   "id": "6cec93db",
   "metadata": {},
   "outputs": [
    {
     "data": {
      "text/plain": [
       "''"
      ]
     },
     "execution_count": 37,
     "metadata": {},
     "output_type": "execute_result"
    }
   ],
   "source": [
    "# scrivi qui\n",
    "''"
   ]
  }
 ],
 "metadata": {
  "celltoolbar": "Slideshow",
  "kernelspec": {
   "display_name": "Python 3 (ipykernel)",
   "language": "python",
   "name": "python3"
  },
  "language_info": {
   "codemirror_mode": {
    "name": "ipython",
    "version": 3
   },
   "file_extension": ".py",
   "mimetype": "text/x-python",
   "name": "python",
   "nbconvert_exporter": "python",
   "pygments_lexer": "ipython3",
   "version": "3.7.17"
  },
  "toc": {
   "base_numbering": 1,
   "nav_menu": {},
   "number_sections": false,
   "sideBar": true,
   "skip_h1_title": false,
   "title_cell": "Table of Contents",
   "title_sidebar": "Contents",
   "toc_cell": false,
   "toc_position": {
    "height": "calc(100% - 180px)",
    "left": "10px",
    "top": "150px",
    "width": "311px"
   },
   "toc_section_display": true,
   "toc_window_display": true
  }
 },
 "nbformat": 4,
 "nbformat_minor": 5
}
