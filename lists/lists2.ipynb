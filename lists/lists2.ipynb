{
 "cells": [
  {
   "cell_type": "code",
   "execution_count": 1,
   "id": "8e77c3a2",
   "metadata": {
    "slideshow": {
     "slide_type": "skip"
    }
   },
   "outputs": [
    {
     "data": {
      "text/html": [
       "        \n",
       "            <script src=\"_static/js/python.iife.js\" type=\"application/javascript\"></script>\n",
       "        "
      ],
      "text/plain": [
       "<IPython.core.display.HTML object>"
      ]
     },
     "execution_count": 1,
     "metadata": {},
     "output_type": "execute_result"
    }
   ],
   "source": [
    "import jupman\n",
    "\n",
    "import conf\n",
    "\n",
    "conf.jm.init_icp()"
   ]
  },
  {
   "cell_type": "markdown",
   "id": "0049100b",
   "metadata": {
    "slideshow": {
     "slide_type": "slide"
    }
   },
   "source": [
    "# Liste 2: operatori \n",
    "\n",
    "**Riferimenti:** [SoftPython - liste 2](https://it.softpython.org/lists/lists2-sol.html)\n",
    "\n",
    "* visualizza al meglio in <img style=\"display:inline; width:25px; vertical-align: middle;\" src=\"../_static/img/chrome.png\" alttext=\"Chrome\">\n",
    "* versione stampabile: [clicca qua](?print-pdf)\n",
    "* per navigare nelle slide: premere `Esc`\n",
    "\n",
    "<br>\n",
    "<br>\n",
    "\n",
    "**Summer School Data Science 2023 - Modulo 1 informatica:** [Moodle](https://didatticaonline.unitn.it/dol/course/view.php?id=36683) \n",
    "\n",
    "Docente: David Leoni david.leoni@unitn.it\n",
    "\n",
    "Esercitatore: Luca Bosotti luca.bosotti@studenti.unitn.it\n"
   ]
  },
  {
   "cell_type": "markdown",
   "id": "731f1dc9",
   "metadata": {
    "slideshow": {
     "slide_type": "subslide"
    }
   },
   "source": [
    "## Liste - operatori\n",
    "\n",
    "Per manipolare le liste vi sono diversi operatori. I seguenti si comportano come quelli visti per le stringhe.\n",
    "\n",
    "<style>\n",
    "    #list-operators-marker + table {\n",
    "        font-size: 16px;\n",
    "    }\n",
    "</style>    \n",
    "\n",
    "<div id=\"list-operators-marker\"></div>\n",
    "\n",
    "|Operatore|Esempio |Risultato|Significato|\n",
    "|---------|----|---------|-----------|\n",
    "|[len](https://it.softpython.org/lists/lists2-sol.html#Lunghezza-di-una-lista)|`len`(lst)|`int`|Ritorna la lunghezza di una lista|\n",
    "|[indice](https://it.softpython.org/lists/lists2-sol.html#Leggere-un-elemento)|list`[`int`]`|obj|Legge/scrive un elemento all'indice specificato|\n",
    "|[slice](https://it.softpython.org/lists/lists2-sol.html#Slice)|list`[`int`:`int`]`|`list`| Estrae una sotto-lista - ritorna una NUOVA lista|\n",
    "|[inclusione](https://it.softpython.org/lists/lists2-sol.html#Operatore-in)|obj `in` list|`bool`|Controlla se un elemento è presente in una lista|\n",
    "|[concatenazione](https://it.softpython.org/lists/lists2-sol.html#Concatenazione-di-liste-con-+)|list `+` list|`list`|Concatena due liste - ritorna una NUOVA lista|\n",
    "|[massimo](https://it.softpython.org/lists/lists2-sol.html#min-e-max)|`max`(lst)|`int`|Data una lista di numeri, ritorna il massimo|\n",
    "|[minimo](https://it.softpython.org/lists/lists2-sol.html#min-e-max)|`min`(lst)|`int`|Data una lista di numeri, ritorna il minimo|\n",
    "|[somma](https://it.softpython.org/lists/lists2-sol.html#sum)|`sum`(lst)|`int`|Data una lista di numeri, li somma tutti|\n",
    "|[replicazione](https://it.softpython.org/lists/lists2-sol.html#Replicazione-per-liste)|list `*` int|`list`| Replica la lista - ritorna una NUOVA lista|\n",
    "|[uguaglianza](https://it.softpython.org/lists/lists2-sol.html#Uguaglianza)|`==`,`!=`|`bool`| Controlla se due liste sono uguali o differenti|\n",
    "\n",
    "Riferimenti: [SoftPython - liste 2](https://it.softpython.org/lists/lists2-sol.html)"
   ]
  },
  {
   "cell_type": "markdown",
   "id": "eb1cf365",
   "metadata": {
    "colab": {
     "autoexec": {
      "startup": false,
      "wait_interval": 0
     }
    },
    "colab_type": "code",
    "id": "perY24wzAFUx",
    "slideshow": {
     "slide_type": "subslide"
    }
   },
   "source": [
    "Per accedere ad un elemento usiamo un indice (come per per le stringhe):"
   ]
  },
  {
   "cell_type": "code",
   "execution_count": 2,
   "id": "6fb83e41",
   "metadata": {
    "colab": {
     "autoexec": {
      "startup": false,
      "wait_interval": 0
     },
     "output_extras": [
      {}
     ]
    },
    "colab_type": "code",
    "id": "09ciP4W0AFU8",
    "outputId": "d7d2eacb-7afd-4e6f-da32-cfd5a12f65b4",
    "slideshow": {
     "slide_type": "-"
    }
   },
   "outputs": [
    {
     "data": {
      "text/plain": [
       "'soft'"
      ]
     },
     "execution_count": 2,
     "metadata": {},
     "output_type": "execute_result"
    }
   ],
   "source": [
    "        #   0      1         2 \n",
    "lista = [\"ciao\", \"soft\", \"python\"]\n",
    "lista[1]"
   ]
  },
  {
   "cell_type": "markdown",
   "id": "1ead8fd1",
   "metadata": {
    "colab_type": "text",
    "id": "A6rRmAJ-AFVL",
    "slideshow": {
     "slide_type": "fragment"
    }
   },
   "source": [
    "In una lista possiamo MODIFICARE le celle con l'assegnazione: "
   ]
  },
  {
   "cell_type": "code",
   "execution_count": 3,
   "id": "59e78dc9",
   "metadata": {
    "colab": {
     "autoexec": {
      "startup": false,
      "wait_interval": 0
     }
    },
    "colab_type": "code",
    "id": "V2LYVi8CAFVL",
    "slideshow": {
     "slide_type": "-"
    }
   },
   "outputs": [],
   "source": [
    "lista[1] = \"SOFT\""
   ]
  },
  {
   "cell_type": "code",
   "execution_count": 4,
   "id": "8232d4e6",
   "metadata": {
    "colab": {
     "autoexec": {
      "startup": false,
      "wait_interval": 0
     },
     "output_extras": [
      {}
     ]
    },
    "colab_type": "code",
    "id": "8vf5xnm8AFVT",
    "outputId": "958c853d-3288-4d74-df26-e0998d98c79f",
    "slideshow": {
     "slide_type": "fragment"
    }
   },
   "outputs": [
    {
     "data": {
      "text/plain": [
       "['ciao', 'SOFT', 'python']"
      ]
     },
     "execution_count": 4,
     "metadata": {},
     "output_type": "execute_result"
    }
   ],
   "source": [
    "lista"
   ]
  },
  {
   "cell_type": "markdown",
   "id": "adffcefd",
   "metadata": {
    "slideshow": {
     "slide_type": "subslide"
    }
   },
   "source": [
    "## Modifica in Python tutor"
   ]
  },
  {
   "cell_type": "code",
   "execution_count": 5,
   "id": "72e9ca5e-stripped",
   "metadata": {
    "slideshow": {
     "slide_type": "-"
    }
   },
   "outputs": [
    {
     "data": {
      "text/html": [
       "        \n",
       "        <script src=\"_static/js/pytutor-embed.bundle.min.js\" #type=\"application/javascript\"></script>\n",
       "    \n",
       "        <style>\n",
       "        @import \"_static/css/jupman.css\";\n",
       "        </style>\n",
       "     \n",
       "        <script id=\"trace-jm-4a36faf595ba7a511dcbbd69a9c973e3-7\" type=\"application/json\" >\n",
       "            {\"code\": \" \\n#     0  1  2  3\\nla = [7, 9, 6, 8]\\nla[2] = 5\", \"trace\": [{\"line\": 3, \"event\": \"step_line\", \"func_name\": \"<module>\", \"globals\": {}, \"ordered_globals\": [], \"stack_to_render\": [], \"heap\": {}, \"stdout\": \"\"}, {\"line\": 4, \"event\": \"step_line\", \"func_name\": \"<module>\", \"globals\": {\"la\": [\"REF\", 1]}, \"ordered_globals\": [\"la\"], \"stack_to_render\": [], \"heap\": {\"1\": [\"LIST\", 7, 9, 6, 8]}, \"stdout\": \"\"}, {\"line\": 4, \"event\": \"return\", \"func_name\": \"<module>\", \"globals\": {\"la\": [\"REF\", 1]}, \"ordered_globals\": [\"la\"], \"stack_to_render\": [], \"heap\": {\"1\": [\"LIST\", 7, 9, 5, 8]}, \"stdout\": \"\"}]}\n",
       "        </script>\n",
       "        <div id=\"jm-4a36faf595ba7a511dcbbd69a9c973e3-7\" class=\"pytutorVisualizer\"> </div>\n",
       "                            \n",
       "        <script>\n",
       "                          \n",
       "        var jmRenderPytut = function(trace_id, div_id, config){\n",
       "            console.log(\"jupman.py embedded javascript: rendering Python tutor visualizer...\")\n",
       "            \n",
       "            let oldAlert = window.alert;\n",
       "            window.alert = function ( text ) { \n",
       "                console.log( 'tried to alert: ', text );         \n",
       "                return true; \n",
       "            };\n",
       "            let executionVisualizer = null;\n",
       "            try {\n",
       "            \n",
       "                var trace = JSON.parse(document.getElementById(trace_id).innerHTML);                                        \n",
       "                // NOTE: id without #\n",
       "                        \n",
       "                executionVisualizer = addVisualizerToPage(trace, div_id, config);\n",
       "                // hack in case visualizer decides to hide them for no good reason\n",
       "                $('#' + div_id + ' #jmpFirstInstr').show();\n",
       "                $('#' + div_id + ' #jmpLastInstr').show();\n",
       "                \n",
       "                // set overflow for pytuts - need to do in python as css \n",
       "                // does not allow parent selection\n",
       "                var pytuts = $('.pytutorVisualizer');\n",
       "                pytuts.closest('div.output_html.rendered_html.output_result')\n",
       "                        .css('overflow-x', 'visible');\n",
       "            \n",
       "                //pytuts.closest('div.output_html.rendered_html.output_result')\n",
       "                //      .css('background-color','red');                \n",
       "            } catch (error) {\n",
       "                console.error(\"jupman slides: Couldn't visualize Python tutor properly\", error);\n",
       "            }\n",
       "            window.alert = oldAlert;\n",
       "            return executionVisualizer;\n",
       "            \n",
       "        };\n",
       "        </script>\n",
       "        \n",
       "        <script>\n",
       "        var pytut_cfg_4a36faf595ba7a511dcbbd69a9c973e3_7 = (function(){\n",
       "            var rootFontSize = window.getComputedStyle(document.body).getPropertyValue('font-size');\n",
       "            var rootFontSizeNum = 12;\n",
       "            if (rootFontSize.endsWith('px')){\n",
       "                rootFontSizeNum = Number(rootFontSize.substring(0, rootFontSize.length-2));\n",
       "            } else {\n",
       "                console.error(\"Unrecognized font unit:\", rootFontSize, \"assuming default\", rootFontSizeNum);\n",
       "            }\n",
       "            console.log('rootFontSize', rootFontSize);\n",
       "            \n",
       "            var codeWidthInChars = Math.max(23, 17);\n",
       "            if (0){\n",
       "                codeWidthInChars = 0;    // override\n",
       "            }\n",
       "            return {'embeddedMode' : false,\n",
       "                  'disableHeapNesting': true,\n",
       "                  'visualizerIdOverride':'viz-jm-4a36faf595ba7a511dcbbd69a9c973e3-7',\n",
       "                  'codeDivWidth': Math.trunc(rootFontSizeNum * codeWidthInChars)\n",
       "                  };\n",
       "        })();                 \n",
       "        \n",
       "        jmRenderPytut('trace-jm-4a36faf595ba7a511dcbbd69a9c973e3-7', 'jm-4a36faf595ba7a511dcbbd69a9c973e3-7', pytut_cfg_4a36faf595ba7a511dcbbd69a9c973e3_7);\n",
       "        </script>\n",
       "                \n",
       "    \n",
       "    <div style=\"text-align:center; font-size:0.9em\"> <a href=\"https://pythontutor.com/visualize.html#mode=edit\" target=\"_blank\">Python Tutor</a> visualization</div> \n",
       "    "
      ],
      "text/plain": [
       "<IPython.core.display.HTML object>"
      ]
     },
     "execution_count": 5,
     "metadata": {},
     "output_type": "execute_result"
    }
   ],
   "source": []
  },
  {
   "cell_type": "markdown",
   "id": "a19bfadd",
   "metadata": {
    "slideshow": {
     "slide_type": "subslide"
    }
   },
   "source": [
    "## Mutare liste condivise 1/4\n",
    "\n",
    "<div class=\"alert alert-info\">\n",
    "    \n",
    "**DOMANDA:** `la` **cambierà oppure no?**\n",
    "\n",
    "</div>"
   ]
  },
  {
   "cell_type": "code",
   "execution_count": 6,
   "id": "679720e5-stripped",
   "metadata": {
    "scrolled": true,
    "slideshow": {
     "slide_type": "-"
    }
   },
   "outputs": [
    {
     "data": {
      "text/html": [
       "        \n",
       "        <script src=\"_static/js/pytutor-embed.bundle.min.js\" #type=\"application/javascript\"></script>\n",
       "    \n",
       "        <style>\n",
       "        @import \"_static/css/jupman.css\";\n",
       "        </style>\n",
       "     \n",
       "        <script id=\"trace-jm-bd6068cefed052cb24ec2f7fcd01ffc6-8\" type=\"application/json\" >\n",
       "            {\"code\": \" \\nla = [7,9,6]\\nlb = [7,9,6]\\nlb[0] = 5\\nprint('la:', la)\\nprint('lb:', lb)\", \"trace\": [{\"line\": 2, \"event\": \"step_line\", \"func_name\": \"<module>\", \"globals\": {}, \"ordered_globals\": [], \"stack_to_render\": [], \"heap\": {}, \"stdout\": \"\"}, {\"line\": 3, \"event\": \"step_line\", \"func_name\": \"<module>\", \"globals\": {\"la\": [\"REF\", 1]}, \"ordered_globals\": [\"la\"], \"stack_to_render\": [], \"heap\": {\"1\": [\"LIST\", 7, 9, 6]}, \"stdout\": \"\"}, {\"line\": 4, \"event\": \"step_line\", \"func_name\": \"<module>\", \"globals\": {\"la\": [\"REF\", 1], \"lb\": [\"REF\", 2]}, \"ordered_globals\": [\"la\", \"lb\"], \"stack_to_render\": [], \"heap\": {\"1\": [\"LIST\", 7, 9, 6], \"2\": [\"LIST\", 7, 9, 6]}, \"stdout\": \"\"}, {\"line\": 5, \"event\": \"step_line\", \"func_name\": \"<module>\", \"globals\": {\"la\": [\"REF\", 1], \"lb\": [\"REF\", 2]}, \"ordered_globals\": [\"la\", \"lb\"], \"stack_to_render\": [], \"heap\": {\"1\": [\"LIST\", 7, 9, 6], \"2\": [\"LIST\", 5, 9, 6]}, \"stdout\": \"\"}, {\"line\": 6, \"event\": \"step_line\", \"func_name\": \"<module>\", \"globals\": {\"la\": [\"REF\", 1], \"lb\": [\"REF\", 2]}, \"ordered_globals\": [\"la\", \"lb\"], \"stack_to_render\": [], \"heap\": {\"1\": [\"LIST\", 7, 9, 6], \"2\": [\"LIST\", 5, 9, 6]}, \"stdout\": \"la: [7, 9, 6]\\n\"}, {\"line\": 6, \"event\": \"return\", \"func_name\": \"<module>\", \"globals\": {\"la\": [\"REF\", 1], \"lb\": [\"REF\", 2]}, \"ordered_globals\": [\"la\", \"lb\"], \"stack_to_render\": [], \"heap\": {\"1\": [\"LIST\", 7, 9, 6], \"2\": [\"LIST\", 5, 9, 6]}, \"stdout\": \"la: [7, 9, 6]\\nlb: [5, 9, 6]\\n\"}]}\n",
       "        </script>\n",
       "        <div id=\"jm-bd6068cefed052cb24ec2f7fcd01ffc6-8\" class=\"pytutorVisualizer\"> </div>\n",
       "                            \n",
       "        <script>\n",
       "                          \n",
       "        var jmRenderPytut = function(trace_id, div_id, config){\n",
       "            console.log(\"jupman.py embedded javascript: rendering Python tutor visualizer...\")\n",
       "            \n",
       "            let oldAlert = window.alert;\n",
       "            window.alert = function ( text ) { \n",
       "                console.log( 'tried to alert: ', text );         \n",
       "                return true; \n",
       "            };\n",
       "            let executionVisualizer = null;\n",
       "            try {\n",
       "            \n",
       "                var trace = JSON.parse(document.getElementById(trace_id).innerHTML);                                        \n",
       "                // NOTE: id without #\n",
       "                        \n",
       "                executionVisualizer = addVisualizerToPage(trace, div_id, config);\n",
       "                // hack in case visualizer decides to hide them for no good reason\n",
       "                $('#' + div_id + ' #jmpFirstInstr').show();\n",
       "                $('#' + div_id + ' #jmpLastInstr').show();\n",
       "                \n",
       "                // set overflow for pytuts - need to do in python as css \n",
       "                // does not allow parent selection\n",
       "                var pytuts = $('.pytutorVisualizer');\n",
       "                pytuts.closest('div.output_html.rendered_html.output_result')\n",
       "                        .css('overflow-x', 'visible');\n",
       "            \n",
       "                //pytuts.closest('div.output_html.rendered_html.output_result')\n",
       "                //      .css('background-color','red');                \n",
       "            } catch (error) {\n",
       "                console.error(\"jupman slides: Couldn't visualize Python tutor properly\", error);\n",
       "            }\n",
       "            window.alert = oldAlert;\n",
       "            return executionVisualizer;\n",
       "            \n",
       "        };\n",
       "        </script>\n",
       "        \n",
       "        <script>\n",
       "        var pytut_cfg_bd6068cefed052cb24ec2f7fcd01ffc6_8 = (function(){\n",
       "            var rootFontSize = window.getComputedStyle(document.body).getPropertyValue('font-size');\n",
       "            var rootFontSizeNum = 12;\n",
       "            if (rootFontSize.endsWith('px')){\n",
       "                rootFontSizeNum = Number(rootFontSize.substring(0, rootFontSize.length-2));\n",
       "            } else {\n",
       "                console.error(\"Unrecognized font unit:\", rootFontSize, \"assuming default\", rootFontSizeNum);\n",
       "            }\n",
       "            console.log('rootFontSize', rootFontSize);\n",
       "            \n",
       "            var codeWidthInChars = Math.max(23, 16);\n",
       "            if (0){\n",
       "                codeWidthInChars = 0;    // override\n",
       "            }\n",
       "            return {'embeddedMode' : false,\n",
       "                  'disableHeapNesting': true,\n",
       "                  'visualizerIdOverride':'viz-jm-bd6068cefed052cb24ec2f7fcd01ffc6-8',\n",
       "                  'codeDivWidth': Math.trunc(rootFontSizeNum * codeWidthInChars)\n",
       "                  };\n",
       "        })();                 \n",
       "        \n",
       "        jmRenderPytut('trace-jm-bd6068cefed052cb24ec2f7fcd01ffc6-8', 'jm-bd6068cefed052cb24ec2f7fcd01ffc6-8', pytut_cfg_bd6068cefed052cb24ec2f7fcd01ffc6_8);\n",
       "        </script>\n",
       "                \n",
       "    \n",
       "    <div style=\"text-align:center; font-size:0.9em\"> <a href=\"https://pythontutor.com/visualize.html#mode=edit\" target=\"_blank\">Python Tutor</a> visualization</div> \n",
       "    "
      ],
      "text/plain": [
       "<IPython.core.display.HTML object>"
      ]
     },
     "execution_count": 6,
     "metadata": {},
     "output_type": "execute_result"
    }
   ],
   "source": []
  },
  {
   "cell_type": "markdown",
   "id": "f7144f60",
   "metadata": {
    "slideshow": {
     "slide_type": "subslide"
    }
   },
   "source": [
    "## Mutare liste condivise 2/4\n",
    "\n",
    "<div class=\"alert alert-warning\">\n",
    "    \n",
    "**DOMANDA:** `la` **cambierà oppure no?**\n",
    "\n",
    "</div>"
   ]
  },
  {
   "cell_type": "code",
   "execution_count": 7,
   "id": "5e80ff99-stripped",
   "metadata": {
    "slideshow": {
     "slide_type": "-"
    }
   },
   "outputs": [
    {
     "data": {
      "text/html": [
       "        \n",
       "        <script src=\"_static/js/pytutor-embed.bundle.min.js\" #type=\"application/javascript\"></script>\n",
       "    \n",
       "        <style>\n",
       "        @import \"_static/css/jupman.css\";\n",
       "        </style>\n",
       "     \n",
       "        <script id=\"trace-jm-be1a840dd64d096853f548e0d640a45f-9\" type=\"application/json\" >\n",
       "            {\"code\": \" \\nla = [7,9,6]\\nlb = la\\nlb[0] = 5\\nprint('la:', la)\\nprint('lb:', lb)\", \"trace\": [{\"line\": 2, \"event\": \"step_line\", \"func_name\": \"<module>\", \"globals\": {}, \"ordered_globals\": [], \"stack_to_render\": [], \"heap\": {}, \"stdout\": \"\"}, {\"line\": 3, \"event\": \"step_line\", \"func_name\": \"<module>\", \"globals\": {\"la\": [\"REF\", 1]}, \"ordered_globals\": [\"la\"], \"stack_to_render\": [], \"heap\": {\"1\": [\"LIST\", 7, 9, 6]}, \"stdout\": \"\"}, {\"line\": 4, \"event\": \"step_line\", \"func_name\": \"<module>\", \"globals\": {\"la\": [\"REF\", 1], \"lb\": [\"REF\", 1]}, \"ordered_globals\": [\"la\", \"lb\"], \"stack_to_render\": [], \"heap\": {\"1\": [\"LIST\", 7, 9, 6]}, \"stdout\": \"\"}, {\"line\": 5, \"event\": \"step_line\", \"func_name\": \"<module>\", \"globals\": {\"la\": [\"REF\", 1], \"lb\": [\"REF\", 1]}, \"ordered_globals\": [\"la\", \"lb\"], \"stack_to_render\": [], \"heap\": {\"1\": [\"LIST\", 5, 9, 6]}, \"stdout\": \"\"}, {\"line\": 6, \"event\": \"step_line\", \"func_name\": \"<module>\", \"globals\": {\"la\": [\"REF\", 1], \"lb\": [\"REF\", 1]}, \"ordered_globals\": [\"la\", \"lb\"], \"stack_to_render\": [], \"heap\": {\"1\": [\"LIST\", 5, 9, 6]}, \"stdout\": \"la: [5, 9, 6]\\n\"}, {\"line\": 6, \"event\": \"return\", \"func_name\": \"<module>\", \"globals\": {\"la\": [\"REF\", 1], \"lb\": [\"REF\", 1]}, \"ordered_globals\": [\"la\", \"lb\"], \"stack_to_render\": [], \"heap\": {\"1\": [\"LIST\", 5, 9, 6]}, \"stdout\": \"la: [5, 9, 6]\\nlb: [5, 9, 6]\\n\"}]}\n",
       "        </script>\n",
       "        <div id=\"jm-be1a840dd64d096853f548e0d640a45f-9\" class=\"pytutorVisualizer\"> </div>\n",
       "                            \n",
       "        <script>\n",
       "                          \n",
       "        var jmRenderPytut = function(trace_id, div_id, config){\n",
       "            console.log(\"jupman.py embedded javascript: rendering Python tutor visualizer...\")\n",
       "            \n",
       "            let oldAlert = window.alert;\n",
       "            window.alert = function ( text ) { \n",
       "                console.log( 'tried to alert: ', text );         \n",
       "                return true; \n",
       "            };\n",
       "            let executionVisualizer = null;\n",
       "            try {\n",
       "            \n",
       "                var trace = JSON.parse(document.getElementById(trace_id).innerHTML);                                        \n",
       "                // NOTE: id without #\n",
       "                        \n",
       "                executionVisualizer = addVisualizerToPage(trace, div_id, config);\n",
       "                // hack in case visualizer decides to hide them for no good reason\n",
       "                $('#' + div_id + ' #jmpFirstInstr').show();\n",
       "                $('#' + div_id + ' #jmpLastInstr').show();\n",
       "                \n",
       "                // set overflow for pytuts - need to do in python as css \n",
       "                // does not allow parent selection\n",
       "                var pytuts = $('.pytutorVisualizer');\n",
       "                pytuts.closest('div.output_html.rendered_html.output_result')\n",
       "                        .css('overflow-x', 'visible');\n",
       "            \n",
       "                //pytuts.closest('div.output_html.rendered_html.output_result')\n",
       "                //      .css('background-color','red');                \n",
       "            } catch (error) {\n",
       "                console.error(\"jupman slides: Couldn't visualize Python tutor properly\", error);\n",
       "            }\n",
       "            window.alert = oldAlert;\n",
       "            return executionVisualizer;\n",
       "            \n",
       "        };\n",
       "        </script>\n",
       "        \n",
       "        <script>\n",
       "        var pytut_cfg_be1a840dd64d096853f548e0d640a45f_9 = (function(){\n",
       "            var rootFontSize = window.getComputedStyle(document.body).getPropertyValue('font-size');\n",
       "            var rootFontSizeNum = 12;\n",
       "            if (rootFontSize.endsWith('px')){\n",
       "                rootFontSizeNum = Number(rootFontSize.substring(0, rootFontSize.length-2));\n",
       "            } else {\n",
       "                console.error(\"Unrecognized font unit:\", rootFontSize, \"assuming default\", rootFontSizeNum);\n",
       "            }\n",
       "            console.log('rootFontSize', rootFontSize);\n",
       "            \n",
       "            var codeWidthInChars = Math.max(23, 16);\n",
       "            if (0){\n",
       "                codeWidthInChars = 0;    // override\n",
       "            }\n",
       "            return {'embeddedMode' : false,\n",
       "                  'disableHeapNesting': true,\n",
       "                  'visualizerIdOverride':'viz-jm-be1a840dd64d096853f548e0d640a45f-9',\n",
       "                  'codeDivWidth': Math.trunc(rootFontSizeNum * codeWidthInChars)\n",
       "                  };\n",
       "        })();                 \n",
       "        \n",
       "        jmRenderPytut('trace-jm-be1a840dd64d096853f548e0d640a45f-9', 'jm-be1a840dd64d096853f548e0d640a45f-9', pytut_cfg_be1a840dd64d096853f548e0d640a45f_9);\n",
       "        </script>\n",
       "                \n",
       "    \n",
       "    <div style=\"text-align:center; font-size:0.9em\"> <a href=\"https://pythontutor.com/visualize.html#mode=edit\" target=\"_blank\">Python Tutor</a> visualization</div> \n",
       "    "
      ],
      "text/plain": [
       "<IPython.core.display.HTML object>"
      ]
     },
     "execution_count": 7,
     "metadata": {},
     "output_type": "execute_result"
    }
   ],
   "source": []
  },
  {
   "cell_type": "markdown",
   "id": "20a4ee45",
   "metadata": {
    "slideshow": {
     "slide_type": "subslide"
    }
   },
   "source": [
    "## Mutare liste condivise 3/4\n",
    "\n",
    "* Cosa verrà stampato? \n",
    "* Quante liste ci saranno effettivamente in memoria?\n",
    "* **Prima di cliccare, disegna su CARTA!**"
   ]
  },
  {
   "cell_type": "code",
   "execution_count": 8,
   "id": "a5a49c82-stripped",
   "metadata": {
    "slideshow": {
     "slide_type": "-"
    }
   },
   "outputs": [
    {
     "data": {
      "text/html": [
       "        \n",
       "        <script src=\"_static/js/pytutor-embed.bundle.min.js\" #type=\"application/javascript\"></script>\n",
       "    \n",
       "        <style>\n",
       "        @import \"_static/css/jupman.css\";\n",
       "        </style>\n",
       "     \n",
       "        <script id=\"trace-jm-640b8b5775ae25e7ebbbe90782c38b09-10\" type=\"application/json\" >\n",
       "            {\"code\": \" \\nla = [8,7,7]\\nlb = [9,6,7,5]\\nlc = lb\\nla = lb\\nprint('la:', la)\\nprint('lb:', lb)\\nprint('lc:', lc)\", \"trace\": [{\"line\": 2, \"event\": \"step_line\", \"func_name\": \"<module>\", \"globals\": {}, \"ordered_globals\": [], \"stack_to_render\": [], \"heap\": {}, \"stdout\": \"\"}, {\"line\": 3, \"event\": \"step_line\", \"func_name\": \"<module>\", \"globals\": {\"la\": [\"REF\", 1]}, \"ordered_globals\": [\"la\"], \"stack_to_render\": [], \"heap\": {\"1\": [\"LIST\", 8, 7, 7]}, \"stdout\": \"\"}, {\"line\": 4, \"event\": \"step_line\", \"func_name\": \"<module>\", \"globals\": {\"la\": [\"REF\", 1], \"lb\": [\"REF\", 2]}, \"ordered_globals\": [\"la\", \"lb\"], \"stack_to_render\": [], \"heap\": {\"1\": [\"LIST\", 8, 7, 7], \"2\": [\"LIST\", 9, 6, 7, 5]}, \"stdout\": \"\"}, {\"line\": 5, \"event\": \"step_line\", \"func_name\": \"<module>\", \"globals\": {\"la\": [\"REF\", 1], \"lb\": [\"REF\", 2], \"lc\": [\"REF\", 2]}, \"ordered_globals\": [\"la\", \"lb\", \"lc\"], \"stack_to_render\": [], \"heap\": {\"1\": [\"LIST\", 8, 7, 7], \"2\": [\"LIST\", 9, 6, 7, 5]}, \"stdout\": \"\"}, {\"line\": 6, \"event\": \"step_line\", \"func_name\": \"<module>\", \"globals\": {\"la\": [\"REF\", 2], \"lb\": [\"REF\", 2], \"lc\": [\"REF\", 2]}, \"ordered_globals\": [\"la\", \"lb\", \"lc\"], \"stack_to_render\": [], \"heap\": {\"2\": [\"LIST\", 9, 6, 7, 5]}, \"stdout\": \"\"}, {\"line\": 7, \"event\": \"step_line\", \"func_name\": \"<module>\", \"globals\": {\"la\": [\"REF\", 2], \"lb\": [\"REF\", 2], \"lc\": [\"REF\", 2]}, \"ordered_globals\": [\"la\", \"lb\", \"lc\"], \"stack_to_render\": [], \"heap\": {\"2\": [\"LIST\", 9, 6, 7, 5]}, \"stdout\": \"la: [9, 6, 7, 5]\\n\"}, {\"line\": 8, \"event\": \"step_line\", \"func_name\": \"<module>\", \"globals\": {\"la\": [\"REF\", 2], \"lb\": [\"REF\", 2], \"lc\": [\"REF\", 2]}, \"ordered_globals\": [\"la\", \"lb\", \"lc\"], \"stack_to_render\": [], \"heap\": {\"2\": [\"LIST\", 9, 6, 7, 5]}, \"stdout\": \"la: [9, 6, 7, 5]\\nlb: [9, 6, 7, 5]\\n\"}, {\"line\": 8, \"event\": \"return\", \"func_name\": \"<module>\", \"globals\": {\"la\": [\"REF\", 2], \"lb\": [\"REF\", 2], \"lc\": [\"REF\", 2]}, \"ordered_globals\": [\"la\", \"lb\", \"lc\"], \"stack_to_render\": [], \"heap\": {\"2\": [\"LIST\", 9, 6, 7, 5]}, \"stdout\": \"la: [9, 6, 7, 5]\\nlb: [9, 6, 7, 5]\\nlc: [9, 6, 7, 5]\\n\"}]}\n",
       "        </script>\n",
       "        <div id=\"jm-640b8b5775ae25e7ebbbe90782c38b09-10\" class=\"pytutorVisualizer\"> </div>\n",
       "                            \n",
       "        <script>\n",
       "                          \n",
       "        var jmRenderPytut = function(trace_id, div_id, config){\n",
       "            console.log(\"jupman.py embedded javascript: rendering Python tutor visualizer...\")\n",
       "            \n",
       "            let oldAlert = window.alert;\n",
       "            window.alert = function ( text ) { \n",
       "                console.log( 'tried to alert: ', text );         \n",
       "                return true; \n",
       "            };\n",
       "            let executionVisualizer = null;\n",
       "            try {\n",
       "            \n",
       "                var trace = JSON.parse(document.getElementById(trace_id).innerHTML);                                        \n",
       "                // NOTE: id without #\n",
       "                        \n",
       "                executionVisualizer = addVisualizerToPage(trace, div_id, config);\n",
       "                // hack in case visualizer decides to hide them for no good reason\n",
       "                $('#' + div_id + ' #jmpFirstInstr').show();\n",
       "                $('#' + div_id + ' #jmpLastInstr').show();\n",
       "                \n",
       "                // set overflow for pytuts - need to do in python as css \n",
       "                // does not allow parent selection\n",
       "                var pytuts = $('.pytutorVisualizer');\n",
       "                pytuts.closest('div.output_html.rendered_html.output_result')\n",
       "                        .css('overflow-x', 'visible');\n",
       "            \n",
       "                //pytuts.closest('div.output_html.rendered_html.output_result')\n",
       "                //      .css('background-color','red');                \n",
       "            } catch (error) {\n",
       "                console.error(\"jupman slides: Couldn't visualize Python tutor properly\", error);\n",
       "            }\n",
       "            window.alert = oldAlert;\n",
       "            return executionVisualizer;\n",
       "            \n",
       "        };\n",
       "        </script>\n",
       "        \n",
       "        <script>\n",
       "        var pytut_cfg_640b8b5775ae25e7ebbbe90782c38b09_10 = (function(){\n",
       "            var rootFontSize = window.getComputedStyle(document.body).getPropertyValue('font-size');\n",
       "            var rootFontSizeNum = 12;\n",
       "            if (rootFontSize.endsWith('px')){\n",
       "                rootFontSizeNum = Number(rootFontSize.substring(0, rootFontSize.length-2));\n",
       "            } else {\n",
       "                console.error(\"Unrecognized font unit:\", rootFontSize, \"assuming default\", rootFontSizeNum);\n",
       "            }\n",
       "            console.log('rootFontSize', rootFontSize);\n",
       "            \n",
       "            var codeWidthInChars = Math.max(23, 16);\n",
       "            if (0){\n",
       "                codeWidthInChars = 0;    // override\n",
       "            }\n",
       "            return {'embeddedMode' : false,\n",
       "                  'disableHeapNesting': true,\n",
       "                  'visualizerIdOverride':'viz-jm-640b8b5775ae25e7ebbbe90782c38b09-10',\n",
       "                  'codeDivWidth': Math.trunc(rootFontSizeNum * codeWidthInChars)\n",
       "                  };\n",
       "        })();                 \n",
       "        \n",
       "        jmRenderPytut('trace-jm-640b8b5775ae25e7ebbbe90782c38b09-10', 'jm-640b8b5775ae25e7ebbbe90782c38b09-10', pytut_cfg_640b8b5775ae25e7ebbbe90782c38b09_10);\n",
       "        </script>\n",
       "                \n",
       "    \n",
       "    <div style=\"text-align:center; font-size:0.9em\"> <a href=\"https://pythontutor.com/visualize.html#mode=edit\" target=\"_blank\">Python Tutor</a> visualization</div> \n",
       "    "
      ],
      "text/plain": [
       "<IPython.core.display.HTML object>"
      ]
     },
     "execution_count": 8,
     "metadata": {},
     "output_type": "execute_result"
    }
   ],
   "source": []
  },
  {
   "cell_type": "markdown",
   "id": "9eff2235",
   "metadata": {
    "slideshow": {
     "slide_type": "subslide"
    }
   },
   "source": [
    "## Mutare liste condivise 4/4\n",
    "\n",
    "- Cosa verrà stampato? Quante liste ci saranno effettivamente in memoria?\n",
    "- **Prima di cliccare, disegna su CARTA!**"
   ]
  },
  {
   "cell_type": "code",
   "execution_count": 9,
   "id": "e2dc5cc8-stripped",
   "metadata": {
    "scrolled": true,
    "slideshow": {
     "slide_type": "-"
    }
   },
   "outputs": [
    {
     "data": {
      "text/html": [
       "        \n",
       "        <script src=\"_static/js/pytutor-embed.bundle.min.js\" #type=\"application/javascript\"></script>\n",
       "    \n",
       "        <style>\n",
       "        @import \"_static/css/jupman.css\";\n",
       "        </style>\n",
       "     \n",
       "        <script id=\"trace-jm-96b6f218d1b95deee339125840fb8034-11\" type=\"application/json\" >\n",
       "            {\"code\": \" \\nla = [7,8,5]\\nlb = [6,7]\\nlc = lb\\nlb = la\\nlc[0] = 9\\nprint('la:', la)\\nprint('lb:', lb)\\nprint('lc:', lc)\", \"trace\": [{\"line\": 2, \"event\": \"step_line\", \"func_name\": \"<module>\", \"globals\": {}, \"ordered_globals\": [], \"stack_to_render\": [], \"heap\": {}, \"stdout\": \"\"}, {\"line\": 3, \"event\": \"step_line\", \"func_name\": \"<module>\", \"globals\": {\"la\": [\"REF\", 1]}, \"ordered_globals\": [\"la\"], \"stack_to_render\": [], \"heap\": {\"1\": [\"LIST\", 7, 8, 5]}, \"stdout\": \"\"}, {\"line\": 4, \"event\": \"step_line\", \"func_name\": \"<module>\", \"globals\": {\"la\": [\"REF\", 1], \"lb\": [\"REF\", 2]}, \"ordered_globals\": [\"la\", \"lb\"], \"stack_to_render\": [], \"heap\": {\"1\": [\"LIST\", 7, 8, 5], \"2\": [\"LIST\", 6, 7]}, \"stdout\": \"\"}, {\"line\": 5, \"event\": \"step_line\", \"func_name\": \"<module>\", \"globals\": {\"la\": [\"REF\", 1], \"lb\": [\"REF\", 2], \"lc\": [\"REF\", 2]}, \"ordered_globals\": [\"la\", \"lb\", \"lc\"], \"stack_to_render\": [], \"heap\": {\"1\": [\"LIST\", 7, 8, 5], \"2\": [\"LIST\", 6, 7]}, \"stdout\": \"\"}, {\"line\": 6, \"event\": \"step_line\", \"func_name\": \"<module>\", \"globals\": {\"la\": [\"REF\", 1], \"lb\": [\"REF\", 1], \"lc\": [\"REF\", 2]}, \"ordered_globals\": [\"la\", \"lb\", \"lc\"], \"stack_to_render\": [], \"heap\": {\"1\": [\"LIST\", 7, 8, 5], \"2\": [\"LIST\", 6, 7]}, \"stdout\": \"\"}, {\"line\": 7, \"event\": \"step_line\", \"func_name\": \"<module>\", \"globals\": {\"la\": [\"REF\", 1], \"lb\": [\"REF\", 1], \"lc\": [\"REF\", 2]}, \"ordered_globals\": [\"la\", \"lb\", \"lc\"], \"stack_to_render\": [], \"heap\": {\"1\": [\"LIST\", 7, 8, 5], \"2\": [\"LIST\", 9, 7]}, \"stdout\": \"\"}, {\"line\": 8, \"event\": \"step_line\", \"func_name\": \"<module>\", \"globals\": {\"la\": [\"REF\", 1], \"lb\": [\"REF\", 1], \"lc\": [\"REF\", 2]}, \"ordered_globals\": [\"la\", \"lb\", \"lc\"], \"stack_to_render\": [], \"heap\": {\"1\": [\"LIST\", 7, 8, 5], \"2\": [\"LIST\", 9, 7]}, \"stdout\": \"la: [7, 8, 5]\\n\"}, {\"line\": 9, \"event\": \"step_line\", \"func_name\": \"<module>\", \"globals\": {\"la\": [\"REF\", 1], \"lb\": [\"REF\", 1], \"lc\": [\"REF\", 2]}, \"ordered_globals\": [\"la\", \"lb\", \"lc\"], \"stack_to_render\": [], \"heap\": {\"1\": [\"LIST\", 7, 8, 5], \"2\": [\"LIST\", 9, 7]}, \"stdout\": \"la: [7, 8, 5]\\nlb: [7, 8, 5]\\n\"}, {\"line\": 9, \"event\": \"return\", \"func_name\": \"<module>\", \"globals\": {\"la\": [\"REF\", 1], \"lb\": [\"REF\", 1], \"lc\": [\"REF\", 2]}, \"ordered_globals\": [\"la\", \"lb\", \"lc\"], \"stack_to_render\": [], \"heap\": {\"1\": [\"LIST\", 7, 8, 5], \"2\": [\"LIST\", 9, 7]}, \"stdout\": \"la: [7, 8, 5]\\nlb: [7, 8, 5]\\nlc: [9, 7]\\n\"}]}\n",
       "        </script>\n",
       "        <div id=\"jm-96b6f218d1b95deee339125840fb8034-11\" class=\"pytutorVisualizer\"> </div>\n",
       "                            \n",
       "        <script>\n",
       "                          \n",
       "        var jmRenderPytut = function(trace_id, div_id, config){\n",
       "            console.log(\"jupman.py embedded javascript: rendering Python tutor visualizer...\")\n",
       "            \n",
       "            let oldAlert = window.alert;\n",
       "            window.alert = function ( text ) { \n",
       "                console.log( 'tried to alert: ', text );         \n",
       "                return true; \n",
       "            };\n",
       "            let executionVisualizer = null;\n",
       "            try {\n",
       "            \n",
       "                var trace = JSON.parse(document.getElementById(trace_id).innerHTML);                                        \n",
       "                // NOTE: id without #\n",
       "                        \n",
       "                executionVisualizer = addVisualizerToPage(trace, div_id, config);\n",
       "                // hack in case visualizer decides to hide them for no good reason\n",
       "                $('#' + div_id + ' #jmpFirstInstr').show();\n",
       "                $('#' + div_id + ' #jmpLastInstr').show();\n",
       "                \n",
       "                // set overflow for pytuts - need to do in python as css \n",
       "                // does not allow parent selection\n",
       "                var pytuts = $('.pytutorVisualizer');\n",
       "                pytuts.closest('div.output_html.rendered_html.output_result')\n",
       "                        .css('overflow-x', 'visible');\n",
       "            \n",
       "                //pytuts.closest('div.output_html.rendered_html.output_result')\n",
       "                //      .css('background-color','red');                \n",
       "            } catch (error) {\n",
       "                console.error(\"jupman slides: Couldn't visualize Python tutor properly\", error);\n",
       "            }\n",
       "            window.alert = oldAlert;\n",
       "            return executionVisualizer;\n",
       "            \n",
       "        };\n",
       "        </script>\n",
       "        \n",
       "        <script>\n",
       "        var pytut_cfg_96b6f218d1b95deee339125840fb8034_11 = (function(){\n",
       "            var rootFontSize = window.getComputedStyle(document.body).getPropertyValue('font-size');\n",
       "            var rootFontSizeNum = 12;\n",
       "            if (rootFontSize.endsWith('px')){\n",
       "                rootFontSizeNum = Number(rootFontSize.substring(0, rootFontSize.length-2));\n",
       "            } else {\n",
       "                console.error(\"Unrecognized font unit:\", rootFontSize, \"assuming default\", rootFontSizeNum);\n",
       "            }\n",
       "            console.log('rootFontSize', rootFontSize);\n",
       "            \n",
       "            var codeWidthInChars = Math.max(23, 16);\n",
       "            if (0){\n",
       "                codeWidthInChars = 0;    // override\n",
       "            }\n",
       "            return {'embeddedMode' : false,\n",
       "                  'disableHeapNesting': true,\n",
       "                  'visualizerIdOverride':'viz-jm-96b6f218d1b95deee339125840fb8034-11',\n",
       "                  'codeDivWidth': Math.trunc(rootFontSizeNum * codeWidthInChars)\n",
       "                  };\n",
       "        })();                 \n",
       "        \n",
       "        jmRenderPytut('trace-jm-96b6f218d1b95deee339125840fb8034-11', 'jm-96b6f218d1b95deee339125840fb8034-11', pytut_cfg_96b6f218d1b95deee339125840fb8034_11);\n",
       "        </script>\n",
       "                \n",
       "    \n",
       "    <div style=\"text-align:center; font-size:0.9em\"> <a href=\"https://pythontutor.com/visualize.html#mode=edit\" target=\"_blank\">Python Tutor</a> visualization</div> \n",
       "    "
      ],
      "text/plain": [
       "<IPython.core.display.HTML object>"
      ]
     },
     "execution_count": 9,
     "metadata": {},
     "output_type": "execute_result"
    }
   ],
   "source": []
  },
  {
   "cell_type": "markdown",
   "id": "5ae74c2f",
   "metadata": {
    "slideshow": {
     "slide_type": "slide"
    }
   },
   "source": [
    "## Liste di stringhe"
   ]
  },
  {
   "cell_type": "code",
   "execution_count": 10,
   "id": "42320ff1",
   "metadata": {
    "slideshow": {
     "slide_type": "-"
    }
   },
   "outputs": [],
   "source": [
    "verdure = ['pomodori', 'verze', 'carote', 'cavoli']"
   ]
  },
  {
   "cell_type": "code",
   "execution_count": 11,
   "id": "7aa80c1b",
   "metadata": {
    "slideshow": {
     "slide_type": "fragment"
    }
   },
   "outputs": [
    {
     "data": {
      "text/plain": [
       "'carote'"
      ]
     },
     "execution_count": 11,
     "metadata": {},
     "output_type": "execute_result"
    }
   ],
   "source": [
    "verdure[2]"
   ]
  },
  {
   "cell_type": "markdown",
   "id": "6be64302",
   "metadata": {
    "slideshow": {
     "slide_type": "fragment"
    }
   },
   "source": [
    "**DOMANDA** Se vogliamo il primo carattere della stringa?"
   ]
  },
  {
   "cell_type": "code",
   "execution_count": 12,
   "id": "52287266",
   "metadata": {
    "slideshow": {
     "slide_type": "fragment"
    }
   },
   "outputs": [
    {
     "data": {
      "text/plain": [
       "'c'"
      ]
     },
     "execution_count": 12,
     "metadata": {},
     "output_type": "execute_result"
    }
   ],
   "source": [
    "verdure[2][0]"
   ]
  },
  {
   "cell_type": "markdown",
   "id": "db82b24b",
   "metadata": {
    "slideshow": {
     "slide_type": "fragment"
    }
   },
   "source": [
    "`verdure[2]` è una espressione che produce una stringa..\n",
    "\n",
    "..quindi si può usare come se fosse una stringa"
   ]
  },
  {
   "cell_type": "markdown",
   "id": "0d119adf",
   "metadata": {
    "slideshow": {
     "slide_type": "subslide"
    }
   },
   "source": [
    "## Esercizio - sigle\n",
    "\n",
    "Stampa la prima e ultima sigla in maiuscolo\n",
    "\n",
    "- Vedi [metodi stringhe](https://it.softpython.org/strings/strings3-sol.html)"
   ]
  },
  {
   "cell_type": "code",
   "execution_count": 13,
   "id": "16a6c586-stripped",
   "metadata": {
    "slideshow": {
     "slide_type": "-"
    }
   },
   "outputs": [
    {
     "data": {
      "text/html": [
       "\n",
       "                <div class=\"jupman-icp-container\" style=\"width:50vw; height:40vh;\">\n",
       "                <python-editor id=\"jm-508d70beb021d58836fabc77249fe993-15\" contenteditable=\"true\" code=\"sigle  = ['to', 'tn','mi','ro']   # TORO\n",
       "#sigle = ['mi','ge','ve', 'tn', 'vr', 'aq']   # MIAQ\n",
       "\n",
       "# scrivi qui\"\n",
       "                />\n",
       "                </div>\n",
       "        \n",
       "\n",
       "                                \n",
       "            <script>\n",
       "            \n",
       "            (function(){\n",
       "                console.log(\"jupman.py embedded javascript: adding ICP editor ...\")   \n",
       "                \n",
       "            })()\n",
       "            </script>\n",
       "                    \n",
       "        "
      ],
      "text/plain": [
       "<IPython.core.display.HTML object>"
      ]
     },
     "execution_count": 13,
     "metadata": {},
     "output_type": "execute_result"
    }
   ],
   "source": []
  },
  {
   "cell_type": "markdown",
   "id": "32e5cd02",
   "metadata": {
    "slideshow": {
     "slide_type": "subslide"
    }
   },
   "source": [
    "## Esercizio - giochi 1/2\n",
    "\n",
    "Data una lista giochi di esattamente 3 stringhe, scrivi del codice che **MODIFICA** la lista in modo che contenga solo i primi caratteri di ciascuna stringa\n",
    "\n",
    "- Il tuo codice deve funzionare con qualunque lista di esattamente 3 stringhe\n",
    "- **IMPORTANTE**: **NON** creare liste nuove (quindi niente assegnazioni come `giochi =` …)\n",
    "\n",
    "Esempio - data:\n",
    "\n",
    "```python\n",
    "giochi = [\"Monopoli\", \"RISIKO\", \"Tombola\"]\n",
    "```\n",
    "Dopo l’esecuzione del tuo codice, deve risultare:\n",
    "\n",
    "```python\n",
    ">>> print(giochi)\n",
    "[\"M\",\"R\",\"T\"]\n",
    "```\n",
    "\n",
    "Vedi slide seguente"
   ]
  },
  {
   "cell_type": "markdown",
   "id": "f40d06f9",
   "metadata": {
    "slideshow": {
     "slide_type": "subslide"
    }
   },
   "source": [
    "## Esercizio - giochi 2/2"
   ]
  },
  {
   "cell_type": "code",
   "execution_count": 14,
   "id": "734a5a3d-stripped",
   "metadata": {
    "slideshow": {
     "slide_type": "-"
    }
   },
   "outputs": [
    {
     "data": {
      "text/html": [
       "\n",
       "                <div class=\"jupman-icp-container\" style=\"width:55vw; height:65vh;\">\n",
       "                <python-editor id=\"jm-a061971e3d4b98600bed7cda707076da-16\" contenteditable=\"true\" code=\"giochi = ['Monopoli', 'RISIKO', 'Tombola']                     # ['M','R','T']\n",
       "#giochi = ['Non t\\'arrabbiare', 'Gioco dell\\'oca', 'Scarabeo'] # ['N','G','S']\n",
       "\n",
       "# scrivi qui\"\n",
       "                />\n",
       "                </div>\n",
       "        \n",
       "\n",
       "                                \n",
       "            <script>\n",
       "            \n",
       "            (function(){\n",
       "                console.log(\"jupman.py embedded javascript: adding ICP editor ...\")   \n",
       "                \n",
       "            })()\n",
       "            </script>\n",
       "                    \n",
       "        "
      ],
      "text/plain": [
       "<IPython.core.display.HTML object>"
      ]
     },
     "execution_count": 14,
     "metadata": {},
     "output_type": "execute_result"
    }
   ],
   "source": []
  },
  {
   "cell_type": "markdown",
   "id": "64fa59ff",
   "metadata": {
    "slideshow": {
     "slide_type": "slide"
    }
   },
   "source": [
    "## Cosa significa MODIFICARE? 1/3\n"
   ]
  },
  {
   "cell_type": "markdown",
   "id": "81e6d0c7",
   "metadata": {
    "slideshow": {
     "slide_type": "-"
    }
   },
   "source": [
    "> MODIFICARE la regione di memoria puntata dalla variabile\n",
    "> \n",
    "> **OPPURE**\n",
    "> \n",
    "> MODIFICARE l'associazione di variabile\n",
    ">\n",
    "> ?\n",
    ">\n",
    "> **vedi slide seguente**"
   ]
  },
  {
   "cell_type": "markdown",
   "id": "d7c93bfa",
   "metadata": {
    "slideshow": {
     "slide_type": "subslide"
    }
   },
   "source": [
    "## Cosa significa MODIFICARE? 2/3\n",
    "\n",
    "1. Prova la soluzione precedente, guarda cosa stampa\n",
    "2. Provalo anche [in Python Tutor](https://pythontutor.com/visualize.html#mode=edit)"
   ]
  },
  {
   "cell_type": "code",
   "execution_count": 15,
   "id": "ea622cee-stripped",
   "metadata": {
    "slideshow": {
     "slide_type": "-"
    }
   },
   "outputs": [
    {
     "data": {
      "text/html": [
       "\n",
       "                <div class=\"jupman-icp-container\" style=\"width:55vw; height:45vh;\">\n",
       "                <python-editor id=\"jm-6900d6fa5a8ad5d4eaa8f9e76d1ff8db-17\" contenteditable=\"true\" code=\"giochi = ['Monopoli', 'RISIKO', 'Tombola']                     # ['M','R','T']\n",
       "#giochi = ['Non t\\'arrabbiare', 'Gioco dell\\'oca', 'Scarabeo'] # ['N','G','S']\n",
       "originali = giochi\n",
       "\n",
       "# scrivi la soluzione qui\n",
       "\n",
       "\n",
       "\n",
       "print('originali:', originali)\n",
       "print('giochi   :', giochi)\"\n",
       "                />\n",
       "                </div>\n",
       "        \n",
       "\n",
       "                                \n",
       "            <script>\n",
       "            \n",
       "            (function(){\n",
       "                console.log(\"jupman.py embedded javascript: adding ICP editor ...\")   \n",
       "                \n",
       "            })()\n",
       "            </script>\n",
       "                    \n",
       "        "
      ],
      "text/plain": [
       "<IPython.core.display.HTML object>"
      ]
     },
     "execution_count": 15,
     "metadata": {},
     "output_type": "execute_result"
    }
   ],
   "source": []
  },
  {
   "cell_type": "markdown",
   "id": "1acac545",
   "metadata": {
    "slideshow": {
     "slide_type": "subslide"
    }
   },
   "source": [
    "## Cosa significa MODIFICARE? 3/3\n",
    "\n",
    "1. Prova adesso una soluzione con `giochi =` e guarda cosa stampa\n",
    "2. Provalo anche [in Python Tutor](https://pythontutor.com/visualize.html#mode=edit)"
   ]
  },
  {
   "cell_type": "code",
   "execution_count": 16,
   "id": "5c64aab3-stripped",
   "metadata": {},
   "outputs": [
    {
     "data": {
      "text/html": [
       "\n",
       "                <div class=\"jupman-icp-container\" style=\"width:55vw; height:45vh;\">\n",
       "                <python-editor id=\"jm-c28aff1338e6af3caa96100c12f49ee6-18\" contenteditable=\"true\" code=\"giochi = ['Monopoli', 'RISIKO', 'Tombola']                     # ['M','R','T']\n",
       "#giochi = ['Non t\\'arrabbiare', 'Gioco dell\\'oca', 'Scarabeo'] # ['N','G','S']\n",
       "originali = giochi\n",
       "# scrivi la soluzione qui\n",
       "\n",
       "\n",
       "\n",
       "print('originali:', originali)\n",
       "print('giochi   :', giochi)\"\n",
       "                />\n",
       "                </div>\n",
       "        \n",
       "\n",
       "                                \n",
       "            <script>\n",
       "            \n",
       "            (function(){\n",
       "                console.log(\"jupman.py embedded javascript: adding ICP editor ...\")   \n",
       "                \n",
       "            })()\n",
       "            </script>\n",
       "                    \n",
       "        "
      ],
      "text/plain": [
       "<IPython.core.display.HTML object>"
      ]
     },
     "execution_count": 16,
     "metadata": {},
     "output_type": "execute_result"
    }
   ],
   "source": []
  },
  {
   "cell_type": "markdown",
   "id": "29a55740",
   "metadata": {
    "slideshow": {
     "slide_type": "slide"
    }
   },
   "source": [
    "## Slice\n",
    "\n",
    "Possiamo estrarre sottosequenze con le slice, come per le stringhe:"
   ]
  },
  {
   "cell_type": "code",
   "execution_count": 17,
   "id": "28255fcb",
   "metadata": {
    "slideshow": {
     "slide_type": "-"
    }
   },
   "outputs": [
    {
     "name": "stdout",
     "output_type": "stream",
     "text": [
      "[80, 60, 10, 40]\n"
     ]
    }
   ],
   "source": [
    "#     0  1  2  3  4  5  6  7  8  9\n",
    "la = [40,70,90,80,60,10,40,20,50,60]\n",
    "lb = la[3:7]\n",
    "print(lb)"
   ]
  },
  {
   "cell_type": "markdown",
   "id": "99a6a4cb",
   "metadata": {
    "slideshow": {
     "slide_type": "fragment"
    }
   },
   "source": [
    "**ATTENZIONE**: l'estrazione produce una NUOVA lista\n",
    "\n",
    "se modifichiamo l'originale non vedremo alcun cambiamento nella stringa estratta:"
   ]
  },
  {
   "cell_type": "code",
   "execution_count": 18,
   "id": "a0104ff3",
   "metadata": {
    "slideshow": {
     "slide_type": "-"
    }
   },
   "outputs": [],
   "source": [
    "la[3] = 999"
   ]
  },
  {
   "cell_type": "code",
   "execution_count": 19,
   "id": "b7c20000",
   "metadata": {
    "slideshow": {
     "slide_type": "-"
    }
   },
   "outputs": [
    {
     "name": "stdout",
     "output_type": "stream",
     "text": [
      "[40, 70, 90, 999, 60, 10, 40, 20, 50, 60]\n"
     ]
    }
   ],
   "source": [
    "print(la)"
   ]
  },
  {
   "cell_type": "code",
   "execution_count": 20,
   "id": "060917c7",
   "metadata": {
    "slideshow": {
     "slide_type": "fragment"
    }
   },
   "outputs": [
    {
     "name": "stdout",
     "output_type": "stream",
     "text": [
      "[80, 60, 10, 40]\n"
     ]
    }
   ],
   "source": [
    "print(lb)   "
   ]
  },
  {
   "cell_type": "markdown",
   "id": "38e8516f",
   "metadata": {
    "slideshow": {
     "slide_type": "slide"
    }
   },
   "source": [
    "### Slice - limiti"
   ]
  },
  {
   "cell_type": "code",
   "execution_count": 21,
   "id": "e84fe5c1",
   "metadata": {
    "slideshow": {
     "slide_type": "-"
    }
   },
   "outputs": [],
   "source": [
    "la = [40,70,90,80,60,10,40,20,50,60]"
   ]
  },
  {
   "cell_type": "code",
   "execution_count": 22,
   "id": "d6b0c133-stripped",
   "metadata": {
    "slideshow": {
     "slide_type": "fragment"
    }
   },
   "outputs": [],
   "source": [
    "\n",
    "la[3:]"
   ]
  },
  {
   "cell_type": "code",
   "execution_count": 23,
   "id": "0bebef46-stripped",
   "metadata": {
    "slideshow": {
     "slide_type": "fragment"
    }
   },
   "outputs": [
    {
     "data": {
      "text/plain": [
       "[80, 60, 10, 40, 20, 50, 60]"
      ]
     },
     "execution_count": 23,
     "metadata": {},
     "output_type": "execute_result"
    }
   ],
   "source": []
  },
  {
   "cell_type": "code",
   "execution_count": 24,
   "id": "60c58ccf-stripped",
   "metadata": {
    "slideshow": {
     "slide_type": "fragment"
    }
   },
   "outputs": [],
   "source": [
    "\n",
    "la[3:-1]"
   ]
  },
  {
   "cell_type": "code",
   "execution_count": 25,
   "id": "d900b2b7-stripped",
   "metadata": {
    "slideshow": {
     "slide_type": "fragment"
    }
   },
   "outputs": [
    {
     "data": {
      "text/plain": [
       "[80, 60, 10, 40, 20, 50]"
      ]
     },
     "execution_count": 25,
     "metadata": {},
     "output_type": "execute_result"
    }
   ],
   "source": []
  },
  {
   "cell_type": "code",
   "execution_count": 26,
   "id": "6fff5ad9-stripped",
   "metadata": {
    "slideshow": {
     "slide_type": "fragment"
    }
   },
   "outputs": [],
   "source": [
    "\n",
    "la[:3]"
   ]
  },
  {
   "cell_type": "code",
   "execution_count": 27,
   "id": "9b16cb6e-stripped",
   "metadata": {
    "slideshow": {
     "slide_type": "fragment"
    }
   },
   "outputs": [
    {
     "data": {
      "text/plain": [
       "[40, 70, 90]"
      ]
     },
     "execution_count": 27,
     "metadata": {},
     "output_type": "execute_result"
    }
   ],
   "source": []
  },
  {
   "cell_type": "markdown",
   "id": "cc52b31b",
   "metadata": {
    "slideshow": {
     "slide_type": "subslide"
    }
   },
   "source": [
    "### Cosa stampano?\n",
    "\n",
    "<table>\n",
    "<thead>\n",
    "<th>Stringhe</th><th>Liste</th>\n",
    "</thead>\n",
    "<tbody>\n",
    "<tr>\n",
    "<td>\n",
    "\n",
    "```python\n",
    "sa = \"me vuoi fregà\"\n",
    "sb = sa[:]\n",
    "sa[0] = \"Z\"\n",
    "print(sa)\n",
    "print(sb)\n",
    "```\n",
    "\n",
    "</td>\n",
    "<td>\n",
    "    \n",
    "```python\n",
    "la = [\"me\",\"vuoi\",\"fregà\"]\n",
    "lb = la[:]\n",
    "la[0] = \"Z\"\n",
    "print(la)\n",
    "print(lb)\n",
    "```\n",
    "            \n",
    "</td>\n",
    "</tr></tbody></table>"
   ]
  },
  {
   "cell_type": "markdown",
   "id": "0287b65c",
   "metadata": {
    "slideshow": {
     "slide_type": "-"
    }
   },
   "source": [
    "- **PRIMA** scrivi il risultato che ti attendi\n",
    "- **POI** provali in [Python tutor](https://pythontutor.com/visualize.html#mode=edit)"
   ]
  },
  {
   "cell_type": "markdown",
   "id": "b2c1d6d8",
   "metadata": {
    "slideshow": {
     "slide_type": "slide"
    }
   },
   "source": [
    "## Operatore `in`"
   ]
  },
  {
   "cell_type": "code",
   "execution_count": 28,
   "id": "b294c51c",
   "metadata": {
    "slideshow": {
     "slide_type": "-"
    }
   },
   "outputs": [
    {
     "data": {
      "text/plain": [
       "True"
      ]
     },
     "execution_count": 28,
     "metadata": {},
     "output_type": "execute_result"
    }
   ],
   "source": [
    "\"mela\" in [\"anguria\",\"mela\",\"banana\"]"
   ]
  },
  {
   "cell_type": "code",
   "execution_count": 29,
   "id": "80b09e6c",
   "metadata": {
    "slideshow": {
     "slide_type": "-"
    }
   },
   "outputs": [
    {
     "data": {
      "text/plain": [
       "False"
      ]
     },
     "execution_count": 29,
     "metadata": {},
     "output_type": "execute_result"
    }
   ],
   "source": [
    "\"carota\" in [\"anguria\",\"banana\",\"mela\"]"
   ]
  },
  {
   "cell_type": "code",
   "execution_count": 30,
   "id": "fe9c61a6",
   "metadata": {
    "slideshow": {
     "slide_type": "fragment"
    }
   },
   "outputs": [
    {
     "data": {
      "text/plain": [
       "True"
      ]
     },
     "execution_count": 30,
     "metadata": {},
     "output_type": "execute_result"
    }
   ],
   "source": [
    "not \"carota\" in [\"anguria\",\"banana\",\"mela\"]   # si può fare ma non mi piace"
   ]
  },
  {
   "cell_type": "code",
   "execution_count": 31,
   "id": "2e812f14",
   "metadata": {
    "slideshow": {
     "slide_type": "fragment"
    }
   },
   "outputs": [
    {
     "data": {
      "text/plain": [
       "True"
      ]
     },
     "execution_count": 31,
     "metadata": {},
     "output_type": "execute_result"
    }
   ],
   "source": [
    "\"carota\" not in [\"anguria\",\"banana\",\"mela\"]   # preferisco"
   ]
  },
  {
   "cell_type": "markdown",
   "id": "4e675904",
   "metadata": {
    "slideshow": {
     "slide_type": "subslide"
    }
   },
   "source": [
    "###  `in`dovina il risultato"
   ]
  },
  {
   "cell_type": "code",
   "execution_count": 32,
   "id": "257a08d6-stripped",
   "metadata": {
    "slideshow": {
     "slide_type": "-"
    }
   },
   "outputs": [],
   "source": [
    "\n",
    "4 in [1,2,3,4,5]"
   ]
  },
  {
   "cell_type": "code",
   "execution_count": 33,
   "id": "8222d571-stripped",
   "metadata": {
    "slideshow": {
     "slide_type": "fragment"
    }
   },
   "outputs": [],
   "source": [
    "\n",
    "[4] in [1,2,3,4,5]"
   ]
  },
  {
   "cell_type": "code",
   "execution_count": 34,
   "id": "ba35153b-stripped",
   "metadata": {
    "slideshow": {
     "slide_type": "fragment"
    }
   },
   "outputs": [],
   "source": [
    "\n",
    "(4) in [1,2,3,4,5]"
   ]
  },
  {
   "cell_type": "code",
   "execution_count": 35,
   "id": "3d5ed473-stripped",
   "metadata": {
    "slideshow": {
     "slide_type": "fragment"
    }
   },
   "outputs": [],
   "source": [
    "\n",
    "[4,5] in [1,2,3,4,5]"
   ]
  },
  {
   "cell_type": "code",
   "execution_count": 36,
   "id": "6946b836-stripped",
   "metadata": {
    "slideshow": {
     "slide_type": "fragment"
    }
   },
   "outputs": [],
   "source": [
    "\n",
    "[4,5] in [[1,2,3],[4,5]]"
   ]
  },
  {
   "cell_type": "markdown",
   "id": "256a1cf1",
   "metadata": {
    "slideshow": {
     "slide_type": "slide"
    }
   },
   "source": [
    "## Concatenazione"
   ]
  },
  {
   "cell_type": "code",
   "execution_count": 37,
   "id": "f7723eef-stripped",
   "metadata": {
    "slideshow": {
     "slide_type": "-"
    }
   },
   "outputs": [
    {
     "data": {
      "text/html": [
       "        \n",
       "        <script src=\"_static/js/pytutor-embed.bundle.min.js\" #type=\"application/javascript\"></script>\n",
       "    \n",
       "        <style>\n",
       "        @import \"_static/css/jupman.css\";\n",
       "        </style>\n",
       "     \n",
       "        <script id=\"trace-jm-8e57dc52f30f5e4bb759f66eb723a880-39\" type=\"application/json\" >\n",
       "            {\"code\": \" \\nla = [70,60,80]\\nlb = [90,50]\\nlc = la + lb\\nprint('la:', la )\\nprint('lb:', lb)\\nprint('lc:', lc)\", \"trace\": [{\"line\": 2, \"event\": \"step_line\", \"func_name\": \"<module>\", \"globals\": {}, \"ordered_globals\": [], \"stack_to_render\": [], \"heap\": {}, \"stdout\": \"\"}, {\"line\": 3, \"event\": \"step_line\", \"func_name\": \"<module>\", \"globals\": {\"la\": [\"REF\", 1]}, \"ordered_globals\": [\"la\"], \"stack_to_render\": [], \"heap\": {\"1\": [\"LIST\", 70, 60, 80]}, \"stdout\": \"\"}, {\"line\": 4, \"event\": \"step_line\", \"func_name\": \"<module>\", \"globals\": {\"la\": [\"REF\", 1], \"lb\": [\"REF\", 2]}, \"ordered_globals\": [\"la\", \"lb\"], \"stack_to_render\": [], \"heap\": {\"1\": [\"LIST\", 70, 60, 80], \"2\": [\"LIST\", 90, 50]}, \"stdout\": \"\"}, {\"line\": 5, \"event\": \"step_line\", \"func_name\": \"<module>\", \"globals\": {\"la\": [\"REF\", 1], \"lb\": [\"REF\", 2], \"lc\": [\"REF\", 3]}, \"ordered_globals\": [\"la\", \"lb\", \"lc\"], \"stack_to_render\": [], \"heap\": {\"1\": [\"LIST\", 70, 60, 80], \"2\": [\"LIST\", 90, 50], \"3\": [\"LIST\", 70, 60, 80, 90, 50]}, \"stdout\": \"\"}, {\"line\": 6, \"event\": \"step_line\", \"func_name\": \"<module>\", \"globals\": {\"la\": [\"REF\", 1], \"lb\": [\"REF\", 2], \"lc\": [\"REF\", 3]}, \"ordered_globals\": [\"la\", \"lb\", \"lc\"], \"stack_to_render\": [], \"heap\": {\"1\": [\"LIST\", 70, 60, 80], \"2\": [\"LIST\", 90, 50], \"3\": [\"LIST\", 70, 60, 80, 90, 50]}, \"stdout\": \"la: [70, 60, 80]\\n\"}, {\"line\": 7, \"event\": \"step_line\", \"func_name\": \"<module>\", \"globals\": {\"la\": [\"REF\", 1], \"lb\": [\"REF\", 2], \"lc\": [\"REF\", 3]}, \"ordered_globals\": [\"la\", \"lb\", \"lc\"], \"stack_to_render\": [], \"heap\": {\"1\": [\"LIST\", 70, 60, 80], \"2\": [\"LIST\", 90, 50], \"3\": [\"LIST\", 70, 60, 80, 90, 50]}, \"stdout\": \"la: [70, 60, 80]\\nlb: [90, 50]\\n\"}, {\"line\": 7, \"event\": \"return\", \"func_name\": \"<module>\", \"globals\": {\"la\": [\"REF\", 1], \"lb\": [\"REF\", 2], \"lc\": [\"REF\", 3]}, \"ordered_globals\": [\"la\", \"lb\", \"lc\"], \"stack_to_render\": [], \"heap\": {\"1\": [\"LIST\", 70, 60, 80], \"2\": [\"LIST\", 90, 50], \"3\": [\"LIST\", 70, 60, 80, 90, 50]}, \"stdout\": \"la: [70, 60, 80]\\nlb: [90, 50]\\nlc: [70, 60, 80, 90, 50]\\n\"}]}\n",
       "        </script>\n",
       "        <div id=\"jm-8e57dc52f30f5e4bb759f66eb723a880-39\" class=\"pytutorVisualizer\"> </div>\n",
       "                            \n",
       "        <script>\n",
       "                          \n",
       "        var jmRenderPytut = function(trace_id, div_id, config){\n",
       "            console.log(\"jupman.py embedded javascript: rendering Python tutor visualizer...\")\n",
       "            \n",
       "            let oldAlert = window.alert;\n",
       "            window.alert = function ( text ) { \n",
       "                console.log( 'tried to alert: ', text );         \n",
       "                return true; \n",
       "            };\n",
       "            let executionVisualizer = null;\n",
       "            try {\n",
       "            \n",
       "                var trace = JSON.parse(document.getElementById(trace_id).innerHTML);                                        \n",
       "                // NOTE: id without #\n",
       "                        \n",
       "                executionVisualizer = addVisualizerToPage(trace, div_id, config);\n",
       "                // hack in case visualizer decides to hide them for no good reason\n",
       "                $('#' + div_id + ' #jmpFirstInstr').show();\n",
       "                $('#' + div_id + ' #jmpLastInstr').show();\n",
       "                \n",
       "                // set overflow for pytuts - need to do in python as css \n",
       "                // does not allow parent selection\n",
       "                var pytuts = $('.pytutorVisualizer');\n",
       "                pytuts.closest('div.output_html.rendered_html.output_result')\n",
       "                        .css('overflow-x', 'visible');\n",
       "            \n",
       "                //pytuts.closest('div.output_html.rendered_html.output_result')\n",
       "                //      .css('background-color','red');                \n",
       "            } catch (error) {\n",
       "                console.error(\"jupman slides: Couldn't visualize Python tutor properly\", error);\n",
       "            }\n",
       "            window.alert = oldAlert;\n",
       "            return executionVisualizer;\n",
       "            \n",
       "        };\n",
       "        </script>\n",
       "        \n",
       "        <script>\n",
       "        var pytut_cfg_8e57dc52f30f5e4bb759f66eb723a880_39 = (function(){\n",
       "            var rootFontSize = window.getComputedStyle(document.body).getPropertyValue('font-size');\n",
       "            var rootFontSizeNum = 12;\n",
       "            if (rootFontSize.endsWith('px')){\n",
       "                rootFontSizeNum = Number(rootFontSize.substring(0, rootFontSize.length-2));\n",
       "            } else {\n",
       "                console.error(\"Unrecognized font unit:\", rootFontSize, \"assuming default\", rootFontSizeNum);\n",
       "            }\n",
       "            console.log('rootFontSize', rootFontSize);\n",
       "            \n",
       "            var codeWidthInChars = Math.max(23, 17);\n",
       "            if (0){\n",
       "                codeWidthInChars = 0;    // override\n",
       "            }\n",
       "            return {'embeddedMode' : false,\n",
       "                  'disableHeapNesting': true,\n",
       "                  'visualizerIdOverride':'viz-jm-8e57dc52f30f5e4bb759f66eb723a880-39',\n",
       "                  'codeDivWidth': Math.trunc(rootFontSizeNum * codeWidthInChars)\n",
       "                  };\n",
       "        })();                 \n",
       "        \n",
       "        jmRenderPytut('trace-jm-8e57dc52f30f5e4bb759f66eb723a880-39', 'jm-8e57dc52f30f5e4bb759f66eb723a880-39', pytut_cfg_8e57dc52f30f5e4bb759f66eb723a880_39);\n",
       "        </script>\n",
       "                \n",
       "    \n",
       "    <div style=\"text-align:center; font-size:0.9em\"> <a href=\"https://pythontutor.com/visualize.html#mode=edit\" target=\"_blank\">Python Tutor</a> visualization</div> \n",
       "    "
      ],
      "text/plain": [
       "<IPython.core.display.HTML object>"
      ]
     },
     "execution_count": 37,
     "metadata": {},
     "output_type": "execute_result"
    }
   ],
   "source": []
  },
  {
   "cell_type": "markdown",
   "id": "41fc080c",
   "metadata": {
    "slideshow": {
     "slide_type": "fragment"
    }
   },
   "source": [
    "L’operatore `+` produce una NUOVA lista &emsp; e &emsp;  **non** modifica gli operandi originali"
   ]
  },
  {
   "cell_type": "markdown",
   "id": "271baaea",
   "metadata": {
    "slideshow": {
     "slide_type": "subslide"
    }
   },
   "source": [
    "### Concatenazione - Indovina il risultato"
   ]
  },
  {
   "cell_type": "code",
   "execution_count": 38,
   "id": "b7b4c2c8-stripped",
   "metadata": {
    "slideshow": {
     "slide_type": "-"
    }
   },
   "outputs": [],
   "source": [
    "\n",
    "[6,7,8] + [9]"
   ]
  },
  {
   "cell_type": "code",
   "execution_count": 39,
   "id": "0ce5dda3-stripped",
   "metadata": {
    "slideshow": {
     "slide_type": "fragment"
    }
   },
   "outputs": [],
   "source": [
    "\n",
    "[] + ['b','a','m']"
   ]
  },
  {
   "cell_type": "code",
   "execution_count": 40,
   "id": "37794098-stripped",
   "metadata": {
    "slideshow": {
     "slide_type": "fragment"
    }
   },
   "outputs": [],
   "source": [
    "\n",
    "[[]] + ['b','a','m']"
   ]
  },
  {
   "cell_type": "code",
   "execution_count": 41,
   "id": "e4dd47ad-stripped",
   "metadata": {
    "slideshow": {
     "slide_type": "fragment"
    }
   },
   "outputs": [],
   "source": [
    "\n",
    "la = ['a','b','c']\n",
    "lb = la\n",
    "lb[0] = 'Z'\n",
    "print(la)\n",
    "print(lb)"
   ]
  },
  {
   "cell_type": "code",
   "execution_count": 42,
   "id": "c70ddd91-stripped",
   "metadata": {
    "slideshow": {
     "slide_type": "fragment"
    }
   },
   "outputs": [],
   "source": [
    "\n",
    "la = ['a','b','c']\n",
    "lb = la + ['d','e','f']\n",
    "lb[0] = 'Z'\n",
    "print(la)\n",
    "print(lb)"
   ]
  },
  {
   "cell_type": "markdown",
   "id": "0fcbaff3",
   "metadata": {
    "slideshow": {
     "slide_type": "slide"
    }
   },
   "source": [
    "## Replicazione 1/2"
   ]
  },
  {
   "cell_type": "code",
   "execution_count": 43,
   "id": "324e4b2b-stripped",
   "metadata": {
    "slideshow": {
     "slide_type": "-"
    }
   },
   "outputs": [
    {
     "data": {
      "text/html": [
       "        \n",
       "        <script src=\"_static/js/pytutor-embed.bundle.min.js\" #type=\"application/javascript\"></script>\n",
       "    \n",
       "        <style>\n",
       "        @import \"_static/css/jupman.css\";\n",
       "        </style>\n",
       "     \n",
       "        <script id=\"trace-jm-8b9e9c55dc39501d7c583575ab213e1e-45\" type=\"application/json\" >\n",
       "            {\"code\": \" \\nla = ['e','h','i']\\nlb = la * 3\", \"trace\": [{\"line\": 2, \"event\": \"step_line\", \"func_name\": \"<module>\", \"globals\": {}, \"ordered_globals\": [], \"stack_to_render\": [], \"heap\": {}, \"stdout\": \"\"}, {\"line\": 3, \"event\": \"step_line\", \"func_name\": \"<module>\", \"globals\": {\"la\": [\"REF\", 1]}, \"ordered_globals\": [\"la\"], \"stack_to_render\": [], \"heap\": {\"1\": [\"LIST\", \"e\", \"h\", \"i\"]}, \"stdout\": \"\"}, {\"line\": 3, \"event\": \"return\", \"func_name\": \"<module>\", \"globals\": {\"la\": [\"REF\", 1], \"lb\": [\"REF\", 2]}, \"ordered_globals\": [\"la\", \"lb\"], \"stack_to_render\": [], \"heap\": {\"1\": [\"LIST\", \"e\", \"h\", \"i\"], \"2\": [\"LIST\", \"e\", \"h\", \"i\", \"e\", \"h\", \"i\", \"e\", \"h\", \"i\"]}, \"stdout\": \"\"}]}\n",
       "        </script>\n",
       "        <div id=\"jm-8b9e9c55dc39501d7c583575ab213e1e-45\" class=\"pytutorVisualizer\"> </div>\n",
       "                            \n",
       "        <script>\n",
       "                          \n",
       "        var jmRenderPytut = function(trace_id, div_id, config){\n",
       "            console.log(\"jupman.py embedded javascript: rendering Python tutor visualizer...\")\n",
       "            \n",
       "            let oldAlert = window.alert;\n",
       "            window.alert = function ( text ) { \n",
       "                console.log( 'tried to alert: ', text );         \n",
       "                return true; \n",
       "            };\n",
       "            let executionVisualizer = null;\n",
       "            try {\n",
       "            \n",
       "                var trace = JSON.parse(document.getElementById(trace_id).innerHTML);                                        \n",
       "                // NOTE: id without #\n",
       "                        \n",
       "                executionVisualizer = addVisualizerToPage(trace, div_id, config);\n",
       "                // hack in case visualizer decides to hide them for no good reason\n",
       "                $('#' + div_id + ' #jmpFirstInstr').show();\n",
       "                $('#' + div_id + ' #jmpLastInstr').show();\n",
       "                \n",
       "                // set overflow for pytuts - need to do in python as css \n",
       "                // does not allow parent selection\n",
       "                var pytuts = $('.pytutorVisualizer');\n",
       "                pytuts.closest('div.output_html.rendered_html.output_result')\n",
       "                        .css('overflow-x', 'visible');\n",
       "            \n",
       "                //pytuts.closest('div.output_html.rendered_html.output_result')\n",
       "                //      .css('background-color','red');                \n",
       "            } catch (error) {\n",
       "                console.error(\"jupman slides: Couldn't visualize Python tutor properly\", error);\n",
       "            }\n",
       "            window.alert = oldAlert;\n",
       "            return executionVisualizer;\n",
       "            \n",
       "        };\n",
       "        </script>\n",
       "        \n",
       "        <script>\n",
       "        var pytut_cfg_8b9e9c55dc39501d7c583575ab213e1e_45 = (function(){\n",
       "            var rootFontSize = window.getComputedStyle(document.body).getPropertyValue('font-size');\n",
       "            var rootFontSizeNum = 12;\n",
       "            if (rootFontSize.endsWith('px')){\n",
       "                rootFontSizeNum = Number(rootFontSize.substring(0, rootFontSize.length-2));\n",
       "            } else {\n",
       "                console.error(\"Unrecognized font unit:\", rootFontSize, \"assuming default\", rootFontSizeNum);\n",
       "            }\n",
       "            console.log('rootFontSize', rootFontSize);\n",
       "            \n",
       "            var codeWidthInChars = Math.max(23, 18);\n",
       "            if (0){\n",
       "                codeWidthInChars = 0;    // override\n",
       "            }\n",
       "            return {'embeddedMode' : false,\n",
       "                  'disableHeapNesting': true,\n",
       "                  'visualizerIdOverride':'viz-jm-8b9e9c55dc39501d7c583575ab213e1e-45',\n",
       "                  'codeDivWidth': Math.trunc(rootFontSizeNum * codeWidthInChars)\n",
       "                  };\n",
       "        })();                 \n",
       "        \n",
       "        jmRenderPytut('trace-jm-8b9e9c55dc39501d7c583575ab213e1e-45', 'jm-8b9e9c55dc39501d7c583575ab213e1e-45', pytut_cfg_8b9e9c55dc39501d7c583575ab213e1e_45);\n",
       "        </script>\n",
       "                \n",
       "    \n",
       "    <div style=\"text-align:center; font-size:0.9em\"> <a href=\"https://pythontutor.com/visualize.html#mode=edit\" target=\"_blank\">Python Tutor</a> visualization</div> \n",
       "    "
      ],
      "text/plain": [
       "<IPython.core.display.HTML object>"
      ]
     },
     "execution_count": 43,
     "metadata": {},
     "output_type": "execute_result"
    }
   ],
   "source": []
  },
  {
   "cell_type": "markdown",
   "id": "06ad841e",
   "metadata": {
    "slideshow": {
     "slide_type": "subslide"
    }
   },
   "source": [
    "## Replicazione 2/2\n",
    "\n",
    "Che succederà se replichiamo oggetti mutabili?\n",
    "\n",
    "**Pensa prima di cliccare!**"
   ]
  },
  {
   "cell_type": "code",
   "execution_count": 44,
   "id": "920be06d-stripped",
   "metadata": {
    "scrolled": false,
    "slideshow": {
     "slide_type": "fragment"
    }
   },
   "outputs": [
    {
     "data": {
      "text/html": [
       "        \n",
       "        <script src=\"_static/js/pytutor-embed.bundle.min.js\" #type=\"application/javascript\"></script>\n",
       "    \n",
       "        <style>\n",
       "        @import \"_static/css/jupman.css\";\n",
       "        </style>\n",
       "     \n",
       "        <script id=\"trace-jm-2edd081a0e71e231de0bc94eb5b940ae-46\" type=\"application/json\" >\n",
       "            {\"code\": \" \\nla = ['h','a']\\nlb = [la, la] * 3\\nprint(lb)\\nla[0] = 'Z'\\nprint(lb)\", \"trace\": [{\"line\": 2, \"event\": \"step_line\", \"func_name\": \"<module>\", \"globals\": {}, \"ordered_globals\": [], \"stack_to_render\": [], \"heap\": {}, \"stdout\": \"\"}, {\"line\": 3, \"event\": \"step_line\", \"func_name\": \"<module>\", \"globals\": {\"la\": [\"REF\", 1]}, \"ordered_globals\": [\"la\"], \"stack_to_render\": [], \"heap\": {\"1\": [\"LIST\", \"h\", \"a\"]}, \"stdout\": \"\"}, {\"line\": 4, \"event\": \"step_line\", \"func_name\": \"<module>\", \"globals\": {\"la\": [\"REF\", 1], \"lb\": [\"REF\", 2]}, \"ordered_globals\": [\"la\", \"lb\"], \"stack_to_render\": [], \"heap\": {\"1\": [\"LIST\", \"h\", \"a\"], \"2\": [\"LIST\", [\"REF\", 1], [\"REF\", 1], [\"REF\", 1], [\"REF\", 1], [\"REF\", 1], [\"REF\", 1]]}, \"stdout\": \"\"}, {\"line\": 5, \"event\": \"step_line\", \"func_name\": \"<module>\", \"globals\": {\"la\": [\"REF\", 1], \"lb\": [\"REF\", 2]}, \"ordered_globals\": [\"la\", \"lb\"], \"stack_to_render\": [], \"heap\": {\"1\": [\"LIST\", \"h\", \"a\"], \"2\": [\"LIST\", [\"REF\", 1], [\"REF\", 1], [\"REF\", 1], [\"REF\", 1], [\"REF\", 1], [\"REF\", 1]]}, \"stdout\": \"[['h', 'a'], ['h', 'a'], ['h', 'a'], ['h', 'a'], ['h', 'a'], ['h', 'a']]\\n\"}, {\"line\": 6, \"event\": \"step_line\", \"func_name\": \"<module>\", \"globals\": {\"la\": [\"REF\", 1], \"lb\": [\"REF\", 2]}, \"ordered_globals\": [\"la\", \"lb\"], \"stack_to_render\": [], \"heap\": {\"1\": [\"LIST\", \"Z\", \"a\"], \"2\": [\"LIST\", [\"REF\", 1], [\"REF\", 1], [\"REF\", 1], [\"REF\", 1], [\"REF\", 1], [\"REF\", 1]]}, \"stdout\": \"[['h', 'a'], ['h', 'a'], ['h', 'a'], ['h', 'a'], ['h', 'a'], ['h', 'a']]\\n\"}, {\"line\": 6, \"event\": \"return\", \"func_name\": \"<module>\", \"globals\": {\"la\": [\"REF\", 1], \"lb\": [\"REF\", 2]}, \"ordered_globals\": [\"la\", \"lb\"], \"stack_to_render\": [], \"heap\": {\"1\": [\"LIST\", \"Z\", \"a\"], \"2\": [\"LIST\", [\"REF\", 1], [\"REF\", 1], [\"REF\", 1], [\"REF\", 1], [\"REF\", 1], [\"REF\", 1]]}, \"stdout\": \"[['h', 'a'], ['h', 'a'], ['h', 'a'], ['h', 'a'], ['h', 'a'], ['h', 'a']]\\n[['Z', 'a'], ['Z', 'a'], ['Z', 'a'], ['Z', 'a'], ['Z', 'a'], ['Z', 'a']]\\n\"}]}\n",
       "        </script>\n",
       "        <div id=\"jm-2edd081a0e71e231de0bc94eb5b940ae-46\" class=\"pytutorVisualizer\"> </div>\n",
       "                            \n",
       "        <script>\n",
       "                          \n",
       "        var jmRenderPytut = function(trace_id, div_id, config){\n",
       "            console.log(\"jupman.py embedded javascript: rendering Python tutor visualizer...\")\n",
       "            \n",
       "            let oldAlert = window.alert;\n",
       "            window.alert = function ( text ) { \n",
       "                console.log( 'tried to alert: ', text );         \n",
       "                return true; \n",
       "            };\n",
       "            let executionVisualizer = null;\n",
       "            try {\n",
       "            \n",
       "                var trace = JSON.parse(document.getElementById(trace_id).innerHTML);                                        \n",
       "                // NOTE: id without #\n",
       "                        \n",
       "                executionVisualizer = addVisualizerToPage(trace, div_id, config);\n",
       "                // hack in case visualizer decides to hide them for no good reason\n",
       "                $('#' + div_id + ' #jmpFirstInstr').show();\n",
       "                $('#' + div_id + ' #jmpLastInstr').show();\n",
       "                \n",
       "                // set overflow for pytuts - need to do in python as css \n",
       "                // does not allow parent selection\n",
       "                var pytuts = $('.pytutorVisualizer');\n",
       "                pytuts.closest('div.output_html.rendered_html.output_result')\n",
       "                        .css('overflow-x', 'visible');\n",
       "            \n",
       "                //pytuts.closest('div.output_html.rendered_html.output_result')\n",
       "                //      .css('background-color','red');                \n",
       "            } catch (error) {\n",
       "                console.error(\"jupman slides: Couldn't visualize Python tutor properly\", error);\n",
       "            }\n",
       "            window.alert = oldAlert;\n",
       "            return executionVisualizer;\n",
       "            \n",
       "        };\n",
       "        </script>\n",
       "        \n",
       "        <script>\n",
       "        var pytut_cfg_2edd081a0e71e231de0bc94eb5b940ae_46 = (function(){\n",
       "            var rootFontSize = window.getComputedStyle(document.body).getPropertyValue('font-size');\n",
       "            var rootFontSizeNum = 12;\n",
       "            if (rootFontSize.endsWith('px')){\n",
       "                rootFontSizeNum = Number(rootFontSize.substring(0, rootFontSize.length-2));\n",
       "            } else {\n",
       "                console.error(\"Unrecognized font unit:\", rootFontSize, \"assuming default\", rootFontSizeNum);\n",
       "            }\n",
       "            console.log('rootFontSize', rootFontSize);\n",
       "            \n",
       "            var codeWidthInChars = Math.max(23, 17);\n",
       "            if (0){\n",
       "                codeWidthInChars = 0;    // override\n",
       "            }\n",
       "            return {'embeddedMode' : false,\n",
       "                  'disableHeapNesting': true,\n",
       "                  'visualizerIdOverride':'viz-jm-2edd081a0e71e231de0bc94eb5b940ae-46',\n",
       "                  'codeDivWidth': Math.trunc(rootFontSizeNum * codeWidthInChars)\n",
       "                  };\n",
       "        })();                 \n",
       "        \n",
       "        jmRenderPytut('trace-jm-2edd081a0e71e231de0bc94eb5b940ae-46', 'jm-2edd081a0e71e231de0bc94eb5b940ae-46', pytut_cfg_2edd081a0e71e231de0bc94eb5b940ae_46);\n",
       "        </script>\n",
       "                \n",
       "    \n",
       "    <div style=\"text-align:center; font-size:0.9em\"> <a href=\"https://pythontutor.com/visualize.html#mode=edit\" target=\"_blank\">Python Tutor</a> visualization</div> \n",
       "    "
      ],
      "text/plain": [
       "<IPython.core.display.HTML object>"
      ]
     },
     "execution_count": 44,
     "metadata": {},
     "output_type": "execute_result"
    }
   ],
   "source": []
  },
  {
   "cell_type": "markdown",
   "id": "b6821a57",
   "metadata": {
    "slideshow": {
     "slide_type": "slide"
    }
   },
   "source": [
    "## Uguaglianza"
   ]
  },
  {
   "cell_type": "code",
   "execution_count": 45,
   "id": "ce58206e",
   "metadata": {
    "slideshow": {
     "slide_type": "-"
    }
   },
   "outputs": [
    {
     "data": {
      "text/plain": [
       "True"
      ]
     },
     "execution_count": 45,
     "metadata": {},
     "output_type": "execute_result"
    }
   ],
   "source": [
    "['a','b','c'] == ['a','b','c']"
   ]
  },
  {
   "cell_type": "code",
   "execution_count": 46,
   "id": "d55bdfe8",
   "metadata": {
    "slideshow": {
     "slide_type": "fragment"
    }
   },
   "outputs": [
    {
     "data": {
      "text/plain": [
       "False"
      ]
     },
     "execution_count": 46,
     "metadata": {},
     "output_type": "execute_result"
    }
   ],
   "source": [
    "['a','b','c'] == ['A','B','C']"
   ]
  },
  {
   "cell_type": "code",
   "execution_count": 47,
   "id": "2a7f9134-stripped",
   "metadata": {
    "slideshow": {
     "slide_type": "fragment"
    }
   },
   "outputs": [
    {
     "data": {
      "text/html": [
       "        \n",
       "        <script src=\"_static/js/pytutor-embed.bundle.min.js\" #type=\"application/javascript\"></script>\n",
       "    \n",
       "        <style>\n",
       "        @import \"_static/css/jupman.css\";\n",
       "        </style>\n",
       "     \n",
       "        <script id=\"trace-jm-7dcd91f3530fb6e106da0b5877e5fe60-49\" type=\"application/json\" >\n",
       "            {\"code\": \" \\nla = ['a','b','c']\\nlb = ['a','b','c']\\nprint('Uguali?', la == lb)\", \"trace\": [{\"line\": 2, \"event\": \"step_line\", \"func_name\": \"<module>\", \"globals\": {}, \"ordered_globals\": [], \"stack_to_render\": [], \"heap\": {}, \"stdout\": \"\"}, {\"line\": 3, \"event\": \"step_line\", \"func_name\": \"<module>\", \"globals\": {\"la\": [\"REF\", 1]}, \"ordered_globals\": [\"la\"], \"stack_to_render\": [], \"heap\": {\"1\": [\"LIST\", \"a\", \"b\", \"c\"]}, \"stdout\": \"\"}, {\"line\": 4, \"event\": \"step_line\", \"func_name\": \"<module>\", \"globals\": {\"la\": [\"REF\", 1], \"lb\": [\"REF\", 2]}, \"ordered_globals\": [\"la\", \"lb\"], \"stack_to_render\": [], \"heap\": {\"1\": [\"LIST\", \"a\", \"b\", \"c\"], \"2\": [\"LIST\", \"a\", \"b\", \"c\"]}, \"stdout\": \"\"}, {\"line\": 4, \"event\": \"return\", \"func_name\": \"<module>\", \"globals\": {\"la\": [\"REF\", 1], \"lb\": [\"REF\", 2]}, \"ordered_globals\": [\"la\", \"lb\"], \"stack_to_render\": [], \"heap\": {\"1\": [\"LIST\", \"a\", \"b\", \"c\"], \"2\": [\"LIST\", \"a\", \"b\", \"c\"]}, \"stdout\": \"Uguali? True\\n\"}]}\n",
       "        </script>\n",
       "        <div id=\"jm-7dcd91f3530fb6e106da0b5877e5fe60-49\" class=\"pytutorVisualizer\"> </div>\n",
       "                            \n",
       "        <script>\n",
       "                          \n",
       "        var jmRenderPytut = function(trace_id, div_id, config){\n",
       "            console.log(\"jupman.py embedded javascript: rendering Python tutor visualizer...\")\n",
       "            \n",
       "            let oldAlert = window.alert;\n",
       "            window.alert = function ( text ) { \n",
       "                console.log( 'tried to alert: ', text );         \n",
       "                return true; \n",
       "            };\n",
       "            let executionVisualizer = null;\n",
       "            try {\n",
       "            \n",
       "                var trace = JSON.parse(document.getElementById(trace_id).innerHTML);                                        \n",
       "                // NOTE: id without #\n",
       "                        \n",
       "                executionVisualizer = addVisualizerToPage(trace, div_id, config);\n",
       "                // hack in case visualizer decides to hide them for no good reason\n",
       "                $('#' + div_id + ' #jmpFirstInstr').show();\n",
       "                $('#' + div_id + ' #jmpLastInstr').show();\n",
       "                \n",
       "                // set overflow for pytuts - need to do in python as css \n",
       "                // does not allow parent selection\n",
       "                var pytuts = $('.pytutorVisualizer');\n",
       "                pytuts.closest('div.output_html.rendered_html.output_result')\n",
       "                        .css('overflow-x', 'visible');\n",
       "            \n",
       "                //pytuts.closest('div.output_html.rendered_html.output_result')\n",
       "                //      .css('background-color','red');                \n",
       "            } catch (error) {\n",
       "                console.error(\"jupman slides: Couldn't visualize Python tutor properly\", error);\n",
       "            }\n",
       "            window.alert = oldAlert;\n",
       "            return executionVisualizer;\n",
       "            \n",
       "        };\n",
       "        </script>\n",
       "        \n",
       "        <script>\n",
       "        var pytut_cfg_7dcd91f3530fb6e106da0b5877e5fe60_49 = (function(){\n",
       "            var rootFontSize = window.getComputedStyle(document.body).getPropertyValue('font-size');\n",
       "            var rootFontSizeNum = 12;\n",
       "            if (rootFontSize.endsWith('px')){\n",
       "                rootFontSizeNum = Number(rootFontSize.substring(0, rootFontSize.length-2));\n",
       "            } else {\n",
       "                console.error(\"Unrecognized font unit:\", rootFontSize, \"assuming default\", rootFontSizeNum);\n",
       "            }\n",
       "            console.log('rootFontSize', rootFontSize);\n",
       "            \n",
       "            var codeWidthInChars = Math.max(23, 26);\n",
       "            if (0){\n",
       "                codeWidthInChars = 0;    // override\n",
       "            }\n",
       "            return {'embeddedMode' : false,\n",
       "                  'disableHeapNesting': true,\n",
       "                  'visualizerIdOverride':'viz-jm-7dcd91f3530fb6e106da0b5877e5fe60-49',\n",
       "                  'codeDivWidth': Math.trunc(rootFontSizeNum * codeWidthInChars)\n",
       "                  };\n",
       "        })();                 \n",
       "        \n",
       "        jmRenderPytut('trace-jm-7dcd91f3530fb6e106da0b5877e5fe60-49', 'jm-7dcd91f3530fb6e106da0b5877e5fe60-49', pytut_cfg_7dcd91f3530fb6e106da0b5877e5fe60_49);\n",
       "        </script>\n",
       "                \n",
       "    \n",
       "    <div style=\"text-align:center; font-size:0.9em\"> <a href=\"https://pythontutor.com/visualize.html#mode=edit\" target=\"_blank\">Python Tutor</a> visualization</div> \n",
       "    "
      ],
      "text/plain": [
       "<IPython.core.display.HTML object>"
      ]
     },
     "execution_count": 47,
     "metadata": {},
     "output_type": "execute_result"
    }
   ],
   "source": []
  },
  {
   "cell_type": "markdown",
   "id": "cc6fe1c3",
   "metadata": {
    "slideshow": {
     "slide_type": "slide"
    }
   },
   "source": [
    "### `id` e uguaglianza\n",
    "\n",
    "Ad ogni regione di memoria è associato un numero univoco\n",
    "\n",
    "La funzione di sistema `id` ricava il numero"
   ]
  },
  {
   "cell_type": "markdown",
   "id": "7f8adc4f",
   "metadata": {
    "slideshow": {
     "slide_type": "fragment"
    }
   },
   "source": [
    "<div class=\"alert alert-info\">\n",
    "    \n",
    "`id` serve per sapere se due regioni di memoria mutabili sono _distinte_\n",
    "</div>"
   ]
  },
  {
   "cell_type": "code",
   "execution_count": 48,
   "id": "e1b78241-stripped",
   "metadata": {
    "slideshow": {
     "slide_type": "-"
    }
   },
   "outputs": [
    {
     "data": {
      "text/html": [
       "        \n",
       "        <script src=\"_static/js/pytutor-embed.bundle.min.js\" #type=\"application/javascript\"></script>\n",
       "    \n",
       "        <style>\n",
       "        @import \"_static/css/jupman.css\";\n",
       "        </style>\n",
       "     \n",
       "        <script id=\"trace-jm-286596a47a2f59ad1e969dc2a0ec937d-50\" type=\"application/json\" >\n",
       "            {\"code\": \" \\nla = ['a','b','c']\\nlb = ['a','b','c']\\nprint('liste uguali?', la == lb)\\nprint('id(la):', id(la))\\nprint('id(lb):', id(lb))\\nprint('id uguali?', id(la) == id(lb))\", \"trace\": [{\"line\": 2, \"event\": \"step_line\", \"func_name\": \"<module>\", \"globals\": {}, \"ordered_globals\": [], \"stack_to_render\": [], \"heap\": {}, \"stdout\": \"\"}, {\"line\": 3, \"event\": \"step_line\", \"func_name\": \"<module>\", \"globals\": {\"la\": [\"REF\", 1]}, \"ordered_globals\": [\"la\"], \"stack_to_render\": [], \"heap\": {\"1\": [\"LIST\", \"a\", \"b\", \"c\"]}, \"stdout\": \"\"}, {\"line\": 4, \"event\": \"step_line\", \"func_name\": \"<module>\", \"globals\": {\"la\": [\"REF\", 1], \"lb\": [\"REF\", 2]}, \"ordered_globals\": [\"la\", \"lb\"], \"stack_to_render\": [], \"heap\": {\"1\": [\"LIST\", \"a\", \"b\", \"c\"], \"2\": [\"LIST\", \"a\", \"b\", \"c\"]}, \"stdout\": \"\"}, {\"line\": 5, \"event\": \"step_line\", \"func_name\": \"<module>\", \"globals\": {\"la\": [\"REF\", 1], \"lb\": [\"REF\", 2]}, \"ordered_globals\": [\"la\", \"lb\"], \"stack_to_render\": [], \"heap\": {\"1\": [\"LIST\", \"a\", \"b\", \"c\"], \"2\": [\"LIST\", \"a\", \"b\", \"c\"]}, \"stdout\": \"liste uguali? True\\n\"}, {\"line\": 6, \"event\": \"step_line\", \"func_name\": \"<module>\", \"globals\": {\"la\": [\"REF\", 1], \"lb\": [\"REF\", 2]}, \"ordered_globals\": [\"la\", \"lb\"], \"stack_to_render\": [], \"heap\": {\"1\": [\"LIST\", \"a\", \"b\", \"c\"], \"2\": [\"LIST\", \"a\", \"b\", \"c\"]}, \"stdout\": \"liste uguali? True\\nid(la): 140119968103552\\n\"}, {\"line\": 7, \"event\": \"step_line\", \"func_name\": \"<module>\", \"globals\": {\"la\": [\"REF\", 1], \"lb\": [\"REF\", 2]}, \"ordered_globals\": [\"la\", \"lb\"], \"stack_to_render\": [], \"heap\": {\"1\": [\"LIST\", \"a\", \"b\", \"c\"], \"2\": [\"LIST\", \"a\", \"b\", \"c\"]}, \"stdout\": \"liste uguali? True\\nid(la): 140119968103552\\nid(lb): 140119968101792\\n\"}, {\"line\": 7, \"event\": \"return\", \"func_name\": \"<module>\", \"globals\": {\"la\": [\"REF\", 1], \"lb\": [\"REF\", 2]}, \"ordered_globals\": [\"la\", \"lb\"], \"stack_to_render\": [], \"heap\": {\"1\": [\"LIST\", \"a\", \"b\", \"c\"], \"2\": [\"LIST\", \"a\", \"b\", \"c\"]}, \"stdout\": \"liste uguali? True\\nid(la): 140119968103552\\nid(lb): 140119968101792\\nid uguali? False\\n\"}]}\n",
       "        </script>\n",
       "        <div id=\"jm-286596a47a2f59ad1e969dc2a0ec937d-50\" class=\"pytutorVisualizer\"> </div>\n",
       "                            \n",
       "        <script>\n",
       "                          \n",
       "        var jmRenderPytut = function(trace_id, div_id, config){\n",
       "            console.log(\"jupman.py embedded javascript: rendering Python tutor visualizer...\")\n",
       "            \n",
       "            let oldAlert = window.alert;\n",
       "            window.alert = function ( text ) { \n",
       "                console.log( 'tried to alert: ', text );         \n",
       "                return true; \n",
       "            };\n",
       "            let executionVisualizer = null;\n",
       "            try {\n",
       "            \n",
       "                var trace = JSON.parse(document.getElementById(trace_id).innerHTML);                                        \n",
       "                // NOTE: id without #\n",
       "                        \n",
       "                executionVisualizer = addVisualizerToPage(trace, div_id, config);\n",
       "                // hack in case visualizer decides to hide them for no good reason\n",
       "                $('#' + div_id + ' #jmpFirstInstr').show();\n",
       "                $('#' + div_id + ' #jmpLastInstr').show();\n",
       "                \n",
       "                // set overflow for pytuts - need to do in python as css \n",
       "                // does not allow parent selection\n",
       "                var pytuts = $('.pytutorVisualizer');\n",
       "                pytuts.closest('div.output_html.rendered_html.output_result')\n",
       "                        .css('overflow-x', 'visible');\n",
       "            \n",
       "                //pytuts.closest('div.output_html.rendered_html.output_result')\n",
       "                //      .css('background-color','red');                \n",
       "            } catch (error) {\n",
       "                console.error(\"jupman slides: Couldn't visualize Python tutor properly\", error);\n",
       "            }\n",
       "            window.alert = oldAlert;\n",
       "            return executionVisualizer;\n",
       "            \n",
       "        };\n",
       "        </script>\n",
       "        \n",
       "        <script>\n",
       "        var pytut_cfg_286596a47a2f59ad1e969dc2a0ec937d_50 = (function(){\n",
       "            var rootFontSize = window.getComputedStyle(document.body).getPropertyValue('font-size');\n",
       "            var rootFontSizeNum = 12;\n",
       "            if (rootFontSize.endsWith('px')){\n",
       "                rootFontSizeNum = Number(rootFontSize.substring(0, rootFontSize.length-2));\n",
       "            } else {\n",
       "                console.error(\"Unrecognized font unit:\", rootFontSize, \"assuming default\", rootFontSizeNum);\n",
       "            }\n",
       "            console.log('rootFontSize', rootFontSize);\n",
       "            \n",
       "            var codeWidthInChars = Math.max(23, 37);\n",
       "            if (0){\n",
       "                codeWidthInChars = 0;    // override\n",
       "            }\n",
       "            return {'embeddedMode' : false,\n",
       "                  'disableHeapNesting': true,\n",
       "                  'visualizerIdOverride':'viz-jm-286596a47a2f59ad1e969dc2a0ec937d-50',\n",
       "                  'codeDivWidth': Math.trunc(rootFontSizeNum * codeWidthInChars)\n",
       "                  };\n",
       "        })();                 \n",
       "        \n",
       "        jmRenderPytut('trace-jm-286596a47a2f59ad1e969dc2a0ec937d-50', 'jm-286596a47a2f59ad1e969dc2a0ec937d-50', pytut_cfg_286596a47a2f59ad1e969dc2a0ec937d_50);\n",
       "        </script>\n",
       "                \n",
       "    \n",
       "    <div style=\"text-align:center; font-size:0.9em\"> <a href=\"https://pythontutor.com/visualize.html#mode=edit\" target=\"_blank\">Python Tutor</a> visualization</div> \n",
       "    "
      ],
      "text/plain": [
       "<IPython.core.display.HTML object>"
      ]
     },
     "execution_count": 48,
     "metadata": {},
     "output_type": "execute_result"
    }
   ],
   "source": []
  },
  {
   "cell_type": "markdown",
   "id": "bd72220d",
   "metadata": {
    "slideshow": {
     "slide_type": "subslide"
    }
   },
   "source": [
    "<div class=\"jupman-alert-principle\"></div>\n",
    "<div class=\"alert alert-info\">\n",
    "\n",
    "[V COMANDAMENTO](https://it.softpython.org/commandments.html#V-COMANDAMENTO): **Non ridifinerai mai funzioni di sistema**\n",
    "    \n",
    "</div>"
   ]
  },
  {
   "cell_type": "markdown",
   "id": "567d6030",
   "metadata": {
    "slideshow": {
     "slide_type": "fragment"
    }
   },
   "source": [
    "<div class=\"jupman-alert-principle\"></div>\n",
    "<div class=\"alert alert-info\">\n",
    "    \n",
    "**NON** scrivere `id = ...`\n",
    "</div>"
   ]
  },
  {
   "cell_type": "markdown",
   "id": "f86f00a3",
   "metadata": {
    "slideshow": {
     "slide_type": "fragment"
    }
   },
   "source": [
    "<div class=\"jupman-alert-principle\"></div>\n",
    "<div class=\"alert alert-info\">\n",
    "    \n",
    "**NON** scrivere `len = ...`\n",
    "</div>"
   ]
  },
  {
   "cell_type": "markdown",
   "id": "1efb3c0d",
   "metadata": {
    "slideshow": {
     "slide_type": "fragment"
    }
   },
   "source": [
    "<div class=\"jupman-alert-principle\"></div>\n",
    "<div class=\"alert alert-info\">\n",
    "    \n",
    "**NON** scrivere `sum = ...`\n",
    "</div>"
   ]
  },
  {
   "cell_type": "markdown",
   "id": "8324d37c",
   "metadata": {
    "slideshow": {
     "slide_type": "fragment"
    }
   },
   "source": [
    "<div class=\"jupman-alert-principle\"></div>\n",
    "<div class=\"alert alert-info\">\n",
    "    \n",
    "**NON** scrivere `min = ...`\n",
    "</div>"
   ]
  },
  {
   "cell_type": "markdown",
   "id": "d439b383",
   "metadata": {
    "slideshow": {
     "slide_type": "fragment"
    }
   },
   "source": [
    "<div class=\"jupman-alert-principle\"></div>\n",
    "<div class=\"alert alert-info\">\n",
    "    \n",
    "**NON** scrivere `max = ...`\n",
    "</div>"
   ]
  },
  {
   "cell_type": "code",
   "execution_count": null,
   "id": "87262ac2",
   "metadata": {},
   "outputs": [],
   "source": []
  }
 ],
 "metadata": {
  "celltoolbar": "Slideshow",
  "kernelspec": {
   "display_name": "Python 3 (ipykernel)",
   "language": "python",
   "name": "python3"
  },
  "language_info": {
   "codemirror_mode": {
    "name": "ipython",
    "version": 3
   },
   "file_extension": ".py",
   "mimetype": "text/x-python",
   "name": "python",
   "nbconvert_exporter": "python",
   "pygments_lexer": "ipython3",
   "version": "3.7.17"
  },
  "toc": {
   "base_numbering": 1,
   "nav_menu": {},
   "number_sections": false,
   "sideBar": true,
   "skip_h1_title": false,
   "title_cell": "Table of Contents",
   "title_sidebar": "Contents",
   "toc_cell": false,
   "toc_position": {
    "height": "calc(100% - 180px)",
    "left": "10px",
    "top": "150px",
    "width": "373.2px"
   },
   "toc_section_display": true,
   "toc_window_display": true
  }
 },
 "nbformat": 4,
 "nbformat_minor": 5
}
