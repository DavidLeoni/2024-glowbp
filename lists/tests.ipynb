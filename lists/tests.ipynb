{
 "cells": [
  {
   "cell_type": "code",
   "execution_count": 1,
   "id": "8e77c3a2",
   "metadata": {
    "slideshow": {
     "slide_type": "skip"
    }
   },
   "outputs": [
    {
     "data": {
      "text/html": [
       "        \n",
       "            <script src=\"_static/js/python.iife.js\" type=\"application/javascript\"></script>\n",
       "        "
      ],
      "text/plain": [
       "<IPython.core.display.HTML object>"
      ]
     },
     "execution_count": 1,
     "metadata": {},
     "output_type": "execute_result"
    }
   ],
   "source": [
    "import jupman\n",
    "\n",
    "import conf\n",
    "\n",
    "conf.jm.init_icp()"
   ]
  },
  {
   "cell_type": "markdown",
   "id": "0049100b",
   "metadata": {
    "slideshow": {
     "slide_type": "slide"
    }
   },
   "source": [
    "# Tests for ICP and Python Tutor "
   ]
  },
  {
   "cell_type": "code",
   "execution_count": 2,
   "id": "f4c88d78-stripped",
   "metadata": {},
   "outputs": [
    {
     "data": {
      "text/html": [
       "        \n",
       "        <script src=\"_static/js/pytutor-embed.bundle.js\" #type=\"application/javascript\"></script>\n",
       "    \n",
       "        <style>\n",
       "        @import \"_static/css/jupman.css\";\n",
       "        </style>\n",
       "     \n",
       "        <script id=\"trace-jm-8de0252ed48a28014a59038066bbba7b-4\" type=\"application/json\" >\n",
       "            {\"code\": \" \\nlst = ['a','b','c']\\nprint(lst)\", \"trace\": [{\"line\": 2, \"event\": \"step_line\", \"func_name\": \"<module>\", \"globals\": {}, \"ordered_globals\": [], \"stack_to_render\": [], \"heap\": {}, \"stdout\": \"\"}, {\"line\": 3, \"event\": \"step_line\", \"func_name\": \"<module>\", \"globals\": {\"lst\": [\"REF\", 1]}, \"ordered_globals\": [\"lst\"], \"stack_to_render\": [], \"heap\": {\"1\": [\"LIST\", \"a\", \"b\", \"c\"]}, \"stdout\": \"\"}, {\"line\": 3, \"event\": \"return\", \"func_name\": \"<module>\", \"globals\": {\"lst\": [\"REF\", 1]}, \"ordered_globals\": [\"lst\"], \"stack_to_render\": [], \"heap\": {\"1\": [\"LIST\", \"a\", \"b\", \"c\"]}, \"stdout\": \"['a', 'b', 'c']\\n\"}]}\n",
       "        </script>\n",
       "        <div id=\"jm-8de0252ed48a28014a59038066bbba7b-4\" class=\"pytutorVisualizer\"> </div>\n",
       "                            \n",
       "        <script>\n",
       "                          \n",
       "        var jmRenderPytut = function(trace_id, div_id, config){\n",
       "            console.log(\"jupman.py embedded javascript: rendering Python tutor visualizer...\")\n",
       "            \n",
       "            let oldAlert = window.alert;\n",
       "            window.alert = function ( text ) { \n",
       "                console.log( 'tried to alert: ', text );         \n",
       "                return true; \n",
       "            };\n",
       "            let executionVisualizer = null;\n",
       "            try {\n",
       "            \n",
       "                var trace = JSON.parse(document.getElementById(trace_id).innerHTML);                                        \n",
       "                // NOTE: id without #\n",
       "                        \n",
       "                executionVisualizer = addVisualizerToPage(trace, div_id, config);\n",
       "                // hack in case visualizer decides to hide them for no good reason\n",
       "                $('#' + div_id + ' #jmpFirstInstr').show();\n",
       "                $('#' + div_id + ' #jmpLastInstr').show();\n",
       "                \n",
       "                // set overflow for pytuts - need to do in python as css \n",
       "                // does not allow parent selection\n",
       "                var pytuts = $('.pytutorVisualizer');\n",
       "                pytuts.closest('div.output_html.rendered_html.output_result')\n",
       "                        .css('overflow-x', 'visible');\n",
       "            \n",
       "                //pytuts.closest('div.output_html.rendered_html.output_result')\n",
       "                //      .css('background-color','red');                \n",
       "            } catch (error) {\n",
       "                console.error(\"jupman slides: Couldn't visualize Python tutor properly\", error);\n",
       "            }\n",
       "            window.alert = oldAlert;\n",
       "            return executionVisualizer;\n",
       "            \n",
       "        };\n",
       "        </script>\n",
       "        \n",
       "        <script>\n",
       "        var pytut_cfg_8de0252ed48a28014a59038066bbba7b_4 = (function(){\n",
       "            var rootFontSize = window.getComputedStyle(document.body).getPropertyValue('font-size');\n",
       "            var rootFontSizeNum = 12;\n",
       "            if (rootFontSize.endsWith('px')){\n",
       "                rootFontSizeNum = Number(rootFontSize.substring(0, rootFontSize.length-2));\n",
       "            } else {\n",
       "                console.error(\"Unrecognized font unit:\", rootFontSize, \"assuming default\", rootFontSizeNum);\n",
       "            }\n",
       "            console.log('rootFontSize', rootFontSize);\n",
       "            \n",
       "            var codeWidthInChars = Math.max(23, 19);\n",
       "            if (0){\n",
       "                codeWidthInChars = 0;    // override\n",
       "            }\n",
       "            return {'embeddedMode' : false,\n",
       "                  'disableHeapNesting': true,\n",
       "                  'visualizerIdOverride':'viz-jm-8de0252ed48a28014a59038066bbba7b-4',\n",
       "                  'codeDivWidth': Math.trunc(rootFontSizeNum * codeWidthInChars)\n",
       "                  };\n",
       "        })();                 \n",
       "        \n",
       "        jmRenderPytut('trace-jm-8de0252ed48a28014a59038066bbba7b-4', 'jm-8de0252ed48a28014a59038066bbba7b-4', pytut_cfg_8de0252ed48a28014a59038066bbba7b_4);\n",
       "        </script>\n",
       "                \n",
       "    \n",
       "    <div style=\"text-align:center; font-size:0.9em\"> <a href=\"https://pythontutor.com/visualize.html#mode=edit\" target=\"_blank\">Python Tutor</a> visualization</div> \n",
       "    "
      ],
      "text/plain": [
       "<IPython.core.display.HTML object>"
      ]
     },
     "execution_count": 2,
     "metadata": {},
     "output_type": "execute_result"
    }
   ],
   "source": []
  },
  {
   "cell_type": "code",
   "execution_count": 3,
   "id": "a4d4fdc0-stripped",
   "metadata": {
    "scrolled": false,
    "slideshow": {
     "slide_type": "slide"
    }
   },
   "outputs": [
    {
     "name": "stdout",
     "output_type": "stream",
     "text": [
      "\n"
     ]
    },
    {
     "data": {
      "text/html": [
       "\n",
       "                <div class=\"jupman-icp-container\" style=\"width:50vw; height:65vh;\">\n",
       "                <python-editor id=\"jm-6b433d0301c5856a73be6c1b3b77d29d-5\" contenteditable=\"true\" code=\"x,y = 0, 0     # False\n",
       "#x,y = 20, 20  # False\n",
       "#x,y = 60, 10  # True\n",
       "#x,y = 10, 60  # True\n",
       "#x,y = 20, 70  # False\n",
       "#x,y = 70, 20  # False\n",
       "#x,y = 70, 70  # False\n",
       "#x,y = 0,60    # True\n",
       "#x,y = 60,0    # True          qwe qwer wqre qwe ewr qwr wqrerew \n",
       "\n",
       "soluzione = LA_TUA_SOLUZIONE\n",
       "\n",
       "print(soluzione)\"\n",
       "                />\n",
       "                </div>\n",
       "        \n",
       "\n",
       "                                \n",
       "            <script>\n",
       "            \n",
       "            (function(){\n",
       "                console.log(\"jupman.py embedded javascript: adding ICP editor ...\")   \n",
       "                \n",
       "            })()\n",
       "            </script>\n",
       "                    \n",
       "        "
      ],
      "text/plain": [
       "<IPython.core.display.HTML object>"
      ]
     },
     "execution_count": 3,
     "metadata": {},
     "output_type": "execute_result"
    }
   ],
   "source": []
  },
  {
   "cell_type": "code",
   "execution_count": 4,
   "id": "db668ada-stripped",
   "metadata": {
    "slideshow": {
     "slide_type": "slide"
    }
   },
   "outputs": [
    {
     "data": {
      "text/html": [
       "        \n",
       "        <script src=\"_static/js/pytutor-embed.bundle.js\" #type=\"application/javascript\"></script>\n",
       "    \n",
       "        <style>\n",
       "        @import \"_static/css/jupman.css\";\n",
       "        </style>\n",
       "     \n",
       "        <script id=\"trace-jm-6a3eef1d02b51d8e0500c189e579f03f-6\" type=\"application/json\" >\n",
       "            {\"code\": \" \\nword = 'wonder'\\nlst = [9,7,8]\\nt = (6,2,4,3)\\nmixed_set = {3,'b','e',9, 'm', 'n'}\\nnumbers_set = {3,4,9}\\nchar_set = {'r','a','h'}\\nd = {'a' : 8,\\n     'b' : 4,\\n     'c' : 5}\\n\\nempty_str = ''\\nempty_tuple = ()\\nempty_set = set()\\nempty_dict = {}\\n\\n#import numpy  # not supported!\\n\\ndef f(par):\\n    print(par)\", \"trace\": [{\"line\": 2, \"event\": \"step_line\", \"func_name\": \"<module>\", \"globals\": {}, \"ordered_globals\": [], \"stack_to_render\": [], \"heap\": {}, \"stdout\": \"\"}, {\"line\": 3, \"event\": \"step_line\", \"func_name\": \"<module>\", \"globals\": {\"word\": \"wonder\"}, \"ordered_globals\": [\"word\"], \"stack_to_render\": [], \"heap\": {}, \"stdout\": \"\"}, {\"line\": 4, \"event\": \"step_line\", \"func_name\": \"<module>\", \"globals\": {\"word\": \"wonder\", \"lst\": [\"REF\", 1]}, \"ordered_globals\": [\"word\", \"lst\"], \"stack_to_render\": [], \"heap\": {\"1\": [\"LIST\", 9, 7, 8]}, \"stdout\": \"\"}, {\"line\": 5, \"event\": \"step_line\", \"func_name\": \"<module>\", \"globals\": {\"word\": \"wonder\", \"lst\": [\"REF\", 1], \"t\": [\"REF\", 2]}, \"ordered_globals\": [\"word\", \"lst\", \"t\"], \"stack_to_render\": [], \"heap\": {\"1\": [\"LIST\", 9, 7, 8], \"2\": [\"TUPLE\", 6, 2, 4, 3]}, \"stdout\": \"\"}, {\"line\": 6, \"event\": \"step_line\", \"func_name\": \"<module>\", \"globals\": {\"word\": \"wonder\", \"lst\": [\"REF\", 1], \"t\": [\"REF\", 2], \"mixed_set\": [\"REF\", 3]}, \"ordered_globals\": [\"word\", \"lst\", \"t\", \"mixed_set\"], \"stack_to_render\": [], \"heap\": {\"1\": [\"LIST\", 9, 7, 8], \"2\": [\"TUPLE\", 6, 2, 4, 3], \"3\": [\"SET\", 3, 9, \"e\", \"n\", \"b\", \"m\"]}, \"stdout\": \"\"}, {\"line\": 7, \"event\": \"step_line\", \"func_name\": \"<module>\", \"globals\": {\"word\": \"wonder\", \"lst\": [\"REF\", 1], \"t\": [\"REF\", 2], \"mixed_set\": [\"REF\", 3], \"numbers_set\": [\"REF\", 4]}, \"ordered_globals\": [\"word\", \"lst\", \"t\", \"mixed_set\", \"numbers_set\"], \"stack_to_render\": [], \"heap\": {\"1\": [\"LIST\", 9, 7, 8], \"2\": [\"TUPLE\", 6, 2, 4, 3], \"3\": [\"SET\", 3, 9, \"e\", \"n\", \"b\", \"m\"], \"4\": [\"SET\", 9, 3, 4]}, \"stdout\": \"\"}, {\"line\": 8, \"event\": \"step_line\", \"func_name\": \"<module>\", \"globals\": {\"word\": \"wonder\", \"lst\": [\"REF\", 1], \"t\": [\"REF\", 2], \"mixed_set\": [\"REF\", 3], \"numbers_set\": [\"REF\", 4], \"char_set\": [\"REF\", 5]}, \"ordered_globals\": [\"word\", \"lst\", \"t\", \"mixed_set\", \"numbers_set\", \"char_set\"], \"stack_to_render\": [], \"heap\": {\"1\": [\"LIST\", 9, 7, 8], \"2\": [\"TUPLE\", 6, 2, 4, 3], \"3\": [\"SET\", 3, 9, \"e\", \"n\", \"b\", \"m\"], \"4\": [\"SET\", 9, 3, 4], \"5\": [\"SET\", \"a\", \"h\", \"r\"]}, \"stdout\": \"\"}, {\"line\": 9, \"event\": \"step_line\", \"func_name\": \"<module>\", \"globals\": {\"word\": \"wonder\", \"lst\": [\"REF\", 1], \"t\": [\"REF\", 2], \"mixed_set\": [\"REF\", 3], \"numbers_set\": [\"REF\", 4], \"char_set\": [\"REF\", 5]}, \"ordered_globals\": [\"word\", \"lst\", \"t\", \"mixed_set\", \"numbers_set\", \"char_set\"], \"stack_to_render\": [], \"heap\": {\"1\": [\"LIST\", 9, 7, 8], \"2\": [\"TUPLE\", 6, 2, 4, 3], \"3\": [\"SET\", 3, 9, \"e\", \"n\", \"b\", \"m\"], \"4\": [\"SET\", 9, 3, 4], \"5\": [\"SET\", \"a\", \"h\", \"r\"]}, \"stdout\": \"\"}, {\"line\": 10, \"event\": \"step_line\", \"func_name\": \"<module>\", \"globals\": {\"word\": \"wonder\", \"lst\": [\"REF\", 1], \"t\": [\"REF\", 2], \"mixed_set\": [\"REF\", 3], \"numbers_set\": [\"REF\", 4], \"char_set\": [\"REF\", 5]}, \"ordered_globals\": [\"word\", \"lst\", \"t\", \"mixed_set\", \"numbers_set\", \"char_set\"], \"stack_to_render\": [], \"heap\": {\"1\": [\"LIST\", 9, 7, 8], \"2\": [\"TUPLE\", 6, 2, 4, 3], \"3\": [\"SET\", 3, 9, \"e\", \"n\", \"b\", \"m\"], \"4\": [\"SET\", 9, 3, 4], \"5\": [\"SET\", \"a\", \"h\", \"r\"]}, \"stdout\": \"\"}, {\"line\": 12, \"event\": \"step_line\", \"func_name\": \"<module>\", \"globals\": {\"word\": \"wonder\", \"lst\": [\"REF\", 1], \"t\": [\"REF\", 2], \"mixed_set\": [\"REF\", 3], \"numbers_set\": [\"REF\", 4], \"char_set\": [\"REF\", 5], \"d\": [\"REF\", 6]}, \"ordered_globals\": [\"word\", \"lst\", \"t\", \"mixed_set\", \"numbers_set\", \"char_set\", \"d\"], \"stack_to_render\": [], \"heap\": {\"1\": [\"LIST\", 9, 7, 8], \"2\": [\"TUPLE\", 6, 2, 4, 3], \"3\": [\"SET\", 3, 9, \"e\", \"n\", \"b\", \"m\"], \"4\": [\"SET\", 9, 3, 4], \"5\": [\"SET\", \"a\", \"h\", \"r\"], \"6\": [\"DICT\", [\"a\", 8], [\"b\", 4], [\"c\", 5]]}, \"stdout\": \"\"}, {\"line\": 13, \"event\": \"step_line\", \"func_name\": \"<module>\", \"globals\": {\"word\": \"wonder\", \"lst\": [\"REF\", 1], \"t\": [\"REF\", 2], \"mixed_set\": [\"REF\", 3], \"numbers_set\": [\"REF\", 4], \"char_set\": [\"REF\", 5], \"d\": [\"REF\", 6], \"empty_str\": \"\"}, \"ordered_globals\": [\"word\", \"lst\", \"t\", \"mixed_set\", \"numbers_set\", \"char_set\", \"d\", \"empty_str\"], \"stack_to_render\": [], \"heap\": {\"1\": [\"LIST\", 9, 7, 8], \"2\": [\"TUPLE\", 6, 2, 4, 3], \"3\": [\"SET\", 3, 9, \"e\", \"n\", \"b\", \"m\"], \"4\": [\"SET\", 9, 3, 4], \"5\": [\"SET\", \"a\", \"h\", \"r\"], \"6\": [\"DICT\", [\"a\", 8], [\"b\", 4], [\"c\", 5]]}, \"stdout\": \"\"}, {\"line\": 14, \"event\": \"step_line\", \"func_name\": \"<module>\", \"globals\": {\"word\": \"wonder\", \"lst\": [\"REF\", 1], \"t\": [\"REF\", 2], \"mixed_set\": [\"REF\", 3], \"numbers_set\": [\"REF\", 4], \"char_set\": [\"REF\", 5], \"d\": [\"REF\", 6], \"empty_str\": \"\", \"empty_tuple\": [\"REF\", 7]}, \"ordered_globals\": [\"word\", \"lst\", \"t\", \"mixed_set\", \"numbers_set\", \"char_set\", \"d\", \"empty_str\", \"empty_tuple\"], \"stack_to_render\": [], \"heap\": {\"1\": [\"LIST\", 9, 7, 8], \"2\": [\"TUPLE\", 6, 2, 4, 3], \"3\": [\"SET\", 3, 9, \"e\", \"n\", \"b\", \"m\"], \"4\": [\"SET\", 9, 3, 4], \"5\": [\"SET\", \"a\", \"h\", \"r\"], \"6\": [\"DICT\", [\"a\", 8], [\"b\", 4], [\"c\", 5]], \"7\": [\"TUPLE\"]}, \"stdout\": \"\"}, {\"line\": 15, \"event\": \"step_line\", \"func_name\": \"<module>\", \"globals\": {\"word\": \"wonder\", \"lst\": [\"REF\", 1], \"t\": [\"REF\", 2], \"mixed_set\": [\"REF\", 3], \"numbers_set\": [\"REF\", 4], \"char_set\": [\"REF\", 5], \"d\": [\"REF\", 6], \"empty_str\": \"\", \"empty_tuple\": [\"REF\", 7], \"empty_set\": [\"REF\", 8]}, \"ordered_globals\": [\"word\", \"lst\", \"t\", \"mixed_set\", \"numbers_set\", \"char_set\", \"d\", \"empty_str\", \"empty_tuple\", \"empty_set\"], \"stack_to_render\": [], \"heap\": {\"1\": [\"LIST\", 9, 7, 8], \"2\": [\"TUPLE\", 6, 2, 4, 3], \"3\": [\"SET\", 3, 9, \"e\", \"n\", \"b\", \"m\"], \"4\": [\"SET\", 9, 3, 4], \"5\": [\"SET\", \"a\", \"h\", \"r\"], \"6\": [\"DICT\", [\"a\", 8], [\"b\", 4], [\"c\", 5]], \"7\": [\"TUPLE\"], \"8\": [\"SET\"]}, \"stdout\": \"\"}, {\"line\": 19, \"event\": \"step_line\", \"func_name\": \"<module>\", \"globals\": {\"word\": \"wonder\", \"lst\": [\"REF\", 1], \"t\": [\"REF\", 2], \"mixed_set\": [\"REF\", 3], \"numbers_set\": [\"REF\", 4], \"char_set\": [\"REF\", 5], \"d\": [\"REF\", 6], \"empty_str\": \"\", \"empty_tuple\": [\"REF\", 7], \"empty_set\": [\"REF\", 8], \"empty_dict\": [\"REF\", 9]}, \"ordered_globals\": [\"word\", \"lst\", \"t\", \"mixed_set\", \"numbers_set\", \"char_set\", \"d\", \"empty_str\", \"empty_tuple\", \"empty_set\", \"empty_dict\"], \"stack_to_render\": [], \"heap\": {\"1\": [\"LIST\", 9, 7, 8], \"2\": [\"TUPLE\", 6, 2, 4, 3], \"3\": [\"SET\", 3, 9, \"e\", \"n\", \"b\", \"m\"], \"4\": [\"SET\", 9, 3, 4], \"5\": [\"SET\", \"a\", \"h\", \"r\"], \"6\": [\"DICT\", [\"a\", 8], [\"b\", 4], [\"c\", 5]], \"7\": [\"TUPLE\"], \"8\": [\"SET\"], \"9\": [\"DICT\"]}, \"stdout\": \"\"}, {\"line\": 19, \"event\": \"return\", \"func_name\": \"<module>\", \"globals\": {\"word\": \"wonder\", \"lst\": [\"REF\", 1], \"t\": [\"REF\", 2], \"mixed_set\": [\"REF\", 3], \"numbers_set\": [\"REF\", 4], \"char_set\": [\"REF\", 5], \"d\": [\"REF\", 6], \"empty_str\": \"\", \"empty_tuple\": [\"REF\", 7], \"empty_set\": [\"REF\", 8], \"empty_dict\": [\"REF\", 9], \"f\": [\"REF\", 10]}, \"ordered_globals\": [\"word\", \"lst\", \"t\", \"mixed_set\", \"numbers_set\", \"char_set\", \"d\", \"empty_str\", \"empty_tuple\", \"empty_set\", \"empty_dict\", \"f\"], \"stack_to_render\": [], \"heap\": {\"1\": [\"LIST\", 9, 7, 8], \"2\": [\"TUPLE\", 6, 2, 4, 3], \"3\": [\"SET\", 3, 9, \"e\", \"n\", \"b\", \"m\"], \"4\": [\"SET\", 9, 3, 4], \"5\": [\"SET\", \"a\", \"h\", \"r\"], \"6\": [\"DICT\", [\"a\", 8], [\"b\", 4], [\"c\", 5]], \"7\": [\"TUPLE\"], \"8\": [\"SET\"], \"9\": [\"DICT\"], \"10\": [\"FUNCTION\", \"f(par)\", null]}, \"stdout\": \"\"}]}\n",
       "        </script>\n",
       "        <div id=\"jm-6a3eef1d02b51d8e0500c189e579f03f-6\" class=\"pytutorVisualizer\"> </div>\n",
       "                            \n",
       "        <script>\n",
       "                          \n",
       "        var jmRenderPytut = function(trace_id, div_id, config){\n",
       "            console.log(\"jupman.py embedded javascript: rendering Python tutor visualizer...\")\n",
       "            \n",
       "            let oldAlert = window.alert;\n",
       "            window.alert = function ( text ) { \n",
       "                console.log( 'tried to alert: ', text );         \n",
       "                return true; \n",
       "            };\n",
       "            let executionVisualizer = null;\n",
       "            try {\n",
       "            \n",
       "                var trace = JSON.parse(document.getElementById(trace_id).innerHTML);                                        \n",
       "                // NOTE: id without #\n",
       "                        \n",
       "                executionVisualizer = addVisualizerToPage(trace, div_id, config);\n",
       "                // hack in case visualizer decides to hide them for no good reason\n",
       "                $('#' + div_id + ' #jmpFirstInstr').show();\n",
       "                $('#' + div_id + ' #jmpLastInstr').show();\n",
       "                \n",
       "                // set overflow for pytuts - need to do in python as css \n",
       "                // does not allow parent selection\n",
       "                var pytuts = $('.pytutorVisualizer');\n",
       "                pytuts.closest('div.output_html.rendered_html.output_result')\n",
       "                        .css('overflow-x', 'visible');\n",
       "            \n",
       "                //pytuts.closest('div.output_html.rendered_html.output_result')\n",
       "                //      .css('background-color','red');                \n",
       "            } catch (error) {\n",
       "                console.error(\"jupman slides: Couldn't visualize Python tutor properly\", error);\n",
       "            }\n",
       "            window.alert = oldAlert;\n",
       "            return executionVisualizer;\n",
       "            \n",
       "        };\n",
       "        </script>\n",
       "        \n",
       "        <script>\n",
       "        var pytut_cfg_6a3eef1d02b51d8e0500c189e579f03f_6 = (function(){\n",
       "            var rootFontSize = window.getComputedStyle(document.body).getPropertyValue('font-size');\n",
       "            var rootFontSizeNum = 12;\n",
       "            if (rootFontSize.endsWith('px')){\n",
       "                rootFontSizeNum = Number(rootFontSize.substring(0, rootFontSize.length-2));\n",
       "            } else {\n",
       "                console.error(\"Unrecognized font unit:\", rootFontSize, \"assuming default\", rootFontSizeNum);\n",
       "            }\n",
       "            console.log('rootFontSize', rootFontSize);\n",
       "            \n",
       "            var codeWidthInChars = Math.max(23, 35);\n",
       "            if (0){\n",
       "                codeWidthInChars = 0;    // override\n",
       "            }\n",
       "            return {'embeddedMode' : false,\n",
       "                  'disableHeapNesting': true,\n",
       "                  'visualizerIdOverride':'viz-jm-6a3eef1d02b51d8e0500c189e579f03f-6',\n",
       "                  'codeDivWidth': Math.trunc(rootFontSizeNum * codeWidthInChars)\n",
       "                  };\n",
       "        })();                 \n",
       "        \n",
       "        jmRenderPytut('trace-jm-6a3eef1d02b51d8e0500c189e579f03f-6', 'jm-6a3eef1d02b51d8e0500c189e579f03f-6', pytut_cfg_6a3eef1d02b51d8e0500c189e579f03f_6);\n",
       "        </script>\n",
       "                \n",
       "    \n",
       "    <div style=\"text-align:center; font-size:0.9em\"> <a href=\"https://pythontutor.com/visualize.html#mode=edit\" target=\"_blank\">Python Tutor</a> visualization</div> \n",
       "    "
      ],
      "text/plain": [
       "<IPython.core.display.HTML object>"
      ]
     },
     "execution_count": 4,
     "metadata": {},
     "output_type": "execute_result"
    }
   ],
   "source": []
  },
  {
   "cell_type": "code",
   "execution_count": 5,
   "id": "15c6d319",
   "metadata": {
    "scrolled": false,
    "slideshow": {
     "slide_type": "slide"
    }
   },
   "outputs": [
    {
     "name": "stdout",
     "output_type": "stream",
     "text": [
      "5\n"
     ]
    },
    {
     "data": {
      "text/html": [
       "\n",
       "                <div class=\"jupman-icp-container\" style=\"width:60vw; height:65vh;\">\n",
       "                <python-editor id=\"jm-96ccb5abe088aad5aab83a4a186f355b-7\" contenteditable=\"true\" code=\"x = 5\n",
       "print(x)\"\n",
       "                />\n",
       "                </div>\n",
       "        \n",
       "\n",
       "                                \n",
       "            <script>\n",
       "            \n",
       "            (function(){\n",
       "                console.log(\"jupman.py embedded javascript: adding ICP editor ...\")   \n",
       "                \n",
       "            })()\n",
       "            </script>\n",
       "                    \n",
       "        "
      ],
      "text/plain": [
       "<IPython.core.display.HTML object>"
      ]
     },
     "execution_count": 5,
     "metadata": {},
     "output_type": "execute_result"
    }
   ],
   "source": [
    "x = 5\n",
    "print(x)\n",
    "\n",
    "conf.jm.icp()"
   ]
  }
 ],
 "metadata": {
  "celltoolbar": "Slideshow",
  "kernelspec": {
   "display_name": "Python 3 (ipykernel)",
   "language": "python",
   "name": "python3"
  },
  "language_info": {
   "codemirror_mode": {
    "name": "ipython",
    "version": 3
   },
   "file_extension": ".py",
   "mimetype": "text/x-python",
   "name": "python",
   "nbconvert_exporter": "python",
   "pygments_lexer": "ipython3",
   "version": "3.7.17"
  },
  "toc": {
   "base_numbering": 1,
   "nav_menu": {},
   "number_sections": false,
   "sideBar": true,
   "skip_h1_title": false,
   "title_cell": "Table of Contents",
   "title_sidebar": "Contents",
   "toc_cell": false,
   "toc_position": {
    "height": "calc(100% - 180px)",
    "left": "10px",
    "top": "150px",
    "width": "373.2px"
   },
   "toc_section_display": true,
   "toc_window_display": false
  }
 },
 "nbformat": 4,
 "nbformat_minor": 5
}
