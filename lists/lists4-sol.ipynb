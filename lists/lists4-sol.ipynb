{
 "cells": [
  {
   "cell_type": "code",
   "execution_count": 1,
   "id": "8e77c3a2",
   "metadata": {
    "slideshow": {
     "slide_type": "skip"
    }
   },
   "outputs": [
    {
     "data": {
      "text/html": [
       "        \n",
       "            <script src=\"../_static/js/python.iife.js\" type=\"application/javascript\"></script>\n",
       "        "
      ],
      "text/plain": [
       "<IPython.core.display.HTML object>"
      ]
     },
     "execution_count": 1,
     "metadata": {},
     "output_type": "execute_result"
    }
   ],
   "source": [
    "import sys\n",
    "sys.path.append('../')\n",
    "import jupman\n",
    "\n",
    "import conf\n",
    "\n",
    "conf.jm.init_icp()"
   ]
  },
  {
   "cell_type": "markdown",
   "id": "0049100b",
   "metadata": {
    "slideshow": {
     "slide_type": "slide"
    }
   },
   "source": [
    "\n",
    "# Liste 4: metodi di ricerca\n",
    "\n",
    "**Riferimenti:** [SoftPython - liste 4](https://it.softpython.org/lists/lists4-sol.html)\n",
    "\n",
    "* visualizza al meglio in <img style=\"display:inline; width:25px; vertical-align: middle;\" src=\"../_static/img/chrome.png\" alttext=\"Chrome\">\n",
    "* versione stampabile: [clicca qua](?print-pdf)\n",
    "* per navigare nelle slide: premere `Esc`\n",
    "\n",
    "<br>\n",
    "<br>\n",
    "\n",
    "**Summer School Data Science 2023 - Modulo 1 informatica:** [Moodle](https://didatticaonline.unitn.it/dol/course/view.php?id=36683) \n",
    "\n",
    "Docente: David Leoni david.leoni@unitn.it\n",
    "\n",
    "Esercitatore: Luca Bosotti luca.bosotti@studenti.unitn.it\n"
   ]
  },
  {
   "cell_type": "markdown",
   "id": "11400b26",
   "metadata": {
    "slideshow": {
     "slide_type": "subslide"
    }
   },
   "source": [
    "### Liste - Metodi di ricerca\n",
    "\n",
    "|Metodo|Ritorna|Descrizione|\n",
    "|-------|------|-----------|\n",
    "|[list.count(object)](https://it.softpython.org/lists/lists4-sol.html#Metodo-count)|`int`|Conta le occorrenze di un elemento|\n",
    "|[list.index(object)](https://it.softpython.org/lists/lists4-sol.html#Metodo-index)|`int`|Trova la prima occorrenza di un elemento e ne ritorna la posizione|\n",
    "|[list.remove(object)](https://it.softpython.org/lists/lists4-sol.html#Metodo-remove)|`None`|Rimuove la prima occorrenza di un elemento|\n",
    "|[str1.split(str2)](https://it.softpython.org/lists/lists4-sol.html#Metodo-split---da-stringhe-a-liste)|`list`|Produce una lista con tutte le parole in str1 separate da str2| \n",
    "\n",
    "\n",
    "**ATTENZIONE**: spesso questi metodi vengono abusati portando a codice incorretto / inefficiente, usali con giudizio!\n",
    "\n",
    "**Riferimenti:** [SoftPython - liste 4](https://it.softpython.org/lists/lists4-sol.html)"
   ]
  },
  {
   "cell_type": "markdown",
   "id": "73c18da2",
   "metadata": {
    "slideshow": {
     "slide_type": "slide"
    }
   },
   "source": [
    "## Metodo count"
   ]
  },
  {
   "cell_type": "code",
   "execution_count": 2,
   "id": "2c8677cc",
   "metadata": {
    "slideshow": {
     "slide_type": "-"
    }
   },
   "outputs": [
    {
     "data": {
      "text/plain": [
       "4"
      ]
     },
     "execution_count": 2,
     "metadata": {},
     "output_type": "execute_result"
    }
   ],
   "source": [
    "['a','b','c','b','c','c','d','c'].count('c')"
   ]
  },
  {
   "cell_type": "code",
   "execution_count": 3,
   "id": "33470996",
   "metadata": {},
   "outputs": [
    {
     "data": {
      "text/plain": [
       "0"
      ]
     },
     "execution_count": 3,
     "metadata": {},
     "output_type": "execute_result"
    }
   ],
   "source": [
    "['a','b','c','b','c','c','d','c'].count('z')"
   ]
  },
  {
   "cell_type": "markdown",
   "id": "644fc00a",
   "metadata": {
    "slideshow": {
     "slide_type": "slide"
    }
   },
   "source": [
    "## Metodo index"
   ]
  },
  {
   "cell_type": "code",
   "execution_count": 4,
   "id": "a8b6ba81",
   "metadata": {
    "slideshow": {
     "slide_type": "-"
    }
   },
   "outputs": [
    {
     "data": {
      "text/plain": [
       "2"
      ]
     },
     "execution_count": 4,
     "metadata": {},
     "output_type": "execute_result"
    }
   ],
   "source": [
    "['a','b','c','b','c','c','d'].index('c')"
   ]
  },
  {
   "cell_type": "markdown",
   "id": "db092a6f",
   "metadata": {
    "slideshow": {
     "slide_type": "fragment"
    }
   },
   "source": [
    "```python\n",
    "['a','b','c','b','c','c','d'].index('z')   # BOOM!\n",
    "```"
   ]
  },
  {
   "cell_type": "markdown",
   "id": "8496c510",
   "metadata": {
    "slideshow": {
     "slide_type": "-"
    }
   },
   "source": [
    "\n",
    "```python\n",
    "---------------------------------------------------------------------------\n",
    "ValueError                                Traceback (most recent call last)\n",
    "/tmp/ipykernel_14079/4036039616.py in <module>\n",
    "----> 1 ['a','b','c','b','c','c','d'].index('z')\n",
    "\n",
    "ValueError: 'z' is not in list\n",
    "```"
   ]
  },
  {
   "cell_type": "markdown",
   "id": "ffa76cc4",
   "metadata": {
    "slideshow": {
     "slide_type": "slide"
    }
   },
   "source": [
    "## Metodo find\n",
    "\n",
    "... nelle liste **non** c'è!\n",
    "\n",
    "C'è **solo** nelle stringhe:"
   ]
  },
  {
   "cell_type": "code",
   "execution_count": 5,
   "id": "4e6565c0",
   "metadata": {
    "slideshow": {
     "slide_type": "-"
    }
   },
   "outputs": [
    {
     "data": {
      "text/plain": [
       "5"
      ]
     },
     "execution_count": 5,
     "metadata": {},
     "output_type": "execute_result"
    }
   ],
   "source": [
    "\"abbondanza\".find('d')"
   ]
  },
  {
   "cell_type": "code",
   "execution_count": 6,
   "id": "0886aa8c",
   "metadata": {
    "slideshow": {
     "slide_type": "fragment"
    }
   },
   "outputs": [
    {
     "data": {
      "text/plain": [
       "-1"
      ]
     },
     "execution_count": 6,
     "metadata": {},
     "output_type": "execute_result"
    }
   ],
   "source": [
    "\"abbondanza\".find('q')   # non ha trovato q, RITORNA -1"
   ]
  },
  {
   "cell_type": "markdown",
   "id": "7d8713b9",
   "metadata": {
    "slideshow": {
     "slide_type": "slide"
    }
   },
   "source": [
    "## Metodo remove\n",
    "\n"
   ]
  },
  {
   "cell_type": "code",
   "execution_count": 7,
   "id": "11d921f8",
   "metadata": {
    "slideshow": {
     "slide_type": "-"
    }
   },
   "outputs": [],
   "source": [
    "film = ['Titanic', 'Batman', 'Romeo + Giulietta', 'Transformers']"
   ]
  },
  {
   "cell_type": "code",
   "execution_count": 8,
   "id": "f5bad57a",
   "metadata": {
    "slideshow": {
     "slide_type": "-"
    }
   },
   "outputs": [],
   "source": [
    "film.remove('Batman')"
   ]
  },
  {
   "cell_type": "markdown",
   "id": "cdb00473",
   "metadata": {
    "slideshow": {
     "slide_type": "fragment"
    }
   },
   "source": [
    "**DOMANDA**: \n",
    "    \n",
    "1. ha RITORNATO qualcosa? Cosa?\n",
    "2. ha MODIFICATO qualcosa? Cosa?"
   ]
  },
  {
   "cell_type": "code",
   "execution_count": 9,
   "id": "03fbd1c3",
   "metadata": {
    "slideshow": {
     "slide_type": "fragment"
    }
   },
   "outputs": [
    {
     "data": {
      "text/plain": [
       "['Titanic', 'Romeo + Giulietta', 'Transformers']"
      ]
     },
     "execution_count": 9,
     "metadata": {},
     "output_type": "execute_result"
    }
   ],
   "source": [
    "film"
   ]
  },
  {
   "cell_type": "markdown",
   "id": "963392b6",
   "metadata": {
    "slideshow": {
     "slide_type": "fragment"
    }
   },
   "source": [
    "```python\n",
    "film.remove('Il Padrino')\n",
    "```"
   ]
  },
  {
   "cell_type": "markdown",
   "id": "1ae3ecf8",
   "metadata": {
    "slideshow": {
     "slide_type": "-"
    }
   },
   "source": [
    "```python\n",
    "---------------------------------------------------------------------------\n",
    "ValueError                                Traceback (most recent call last)\n",
    "/tmp/ipykernel_14079/3006281473.py in <module>\n",
    "----> 1 film.remove('Il Padrino')\n",
    "\n",
    "ValueError: list.remove(x): x not in list\n",
    "```"
   ]
  },
  {
   "cell_type": "markdown",
   "id": "92609c4a",
   "metadata": {},
   "source": [
    "<div class=\"alert alert-info\">\n",
    "\n",
    "**Domandati sempre: è proprio necessario risolvere il problema** ***togliendo?*** \n",
    "    \n",
    "</div>"
   ]
  },
  {
   "cell_type": "markdown",
   "id": "7b5e8bea",
   "metadata": {
    "slideshow": {
     "slide_type": "slide"
    }
   },
   "source": [
    "## Metodo split"
   ]
  },
  {
   "cell_type": "code",
   "execution_count": 10,
   "id": "2c7eba21",
   "metadata": {
    "slideshow": {
     "slide_type": "-"
    }
   },
   "outputs": [
    {
     "data": {
      "text/plain": [
       "[\"E' giunto \", ' momento di dividere ', ' tesoro']"
      ]
     },
     "execution_count": 10,
     "metadata": {},
     "output_type": "execute_result"
    }
   ],
   "source": [
    "\"E' giunto il momento di dividere il tesoro\".split(\"il\")"
   ]
  },
  {
   "cell_type": "code",
   "execution_count": 11,
   "id": "414f828b",
   "metadata": {
    "slideshow": {
     "slide_type": "fragment"
    }
   },
   "outputs": [
    {
     "name": "stdout",
     "output_type": "stream",
     "text": [
      "E' giunto il\n",
      "momento di    dividere\til tesoro\n"
     ]
    }
   ],
   "source": [
    "s = \"E' giunto il\\nmomento di    dividere\\til tesoro\"\n",
    "print(s)"
   ]
  },
  {
   "cell_type": "code",
   "execution_count": 12,
   "id": "6e56bbb6",
   "metadata": {
    "slideshow": {
     "slide_type": "-"
    }
   },
   "outputs": [
    {
     "data": {
      "text/plain": [
       "[\"E'\", 'giunto', 'il', 'momento', 'di', 'dividere', 'il', 'tesoro']"
      ]
     },
     "execution_count": 12,
     "metadata": {},
     "output_type": "execute_result"
    }
   ],
   "source": [
    "s.split()   "
   ]
  },
  {
   "cell_type": "markdown",
   "id": "c4c30846",
   "metadata": {
    "slideshow": {
     "slide_type": "fragment"
    }
   },
   "source": [
    "senza parametri trova tutti i _blanks_"
   ]
  },
  {
   "cell_type": "code",
   "execution_count": 13,
   "id": "32353075",
   "metadata": {},
   "outputs": [
    {
     "data": {
      "text/plain": [
       "''"
      ]
     },
     "execution_count": 13,
     "metadata": {},
     "output_type": "execute_result"
    }
   ],
   "source": [
    "# scrivi qui\n",
    "''"
   ]
  }
 ],
 "metadata": {
  "celltoolbar": "Slideshow",
  "kernelspec": {
   "display_name": "Python 3 (ipykernel)",
   "language": "python",
   "name": "python3"
  },
  "language_info": {
   "codemirror_mode": {
    "name": "ipython",
    "version": 3
   },
   "file_extension": ".py",
   "mimetype": "text/x-python",
   "name": "python",
   "nbconvert_exporter": "python",
   "pygments_lexer": "ipython3",
   "version": "3.7.17"
  },
  "toc": {
   "base_numbering": 1,
   "nav_menu": {},
   "number_sections": false,
   "sideBar": true,
   "skip_h1_title": false,
   "title_cell": "Table of Contents",
   "title_sidebar": "Contents",
   "toc_cell": false,
   "toc_position": {
    "height": "calc(100% - 180px)",
    "left": "10px",
    "top": "150px",
    "width": "311px"
   },
   "toc_section_display": true,
   "toc_window_display": true
  }
 },
 "nbformat": 4,
 "nbformat_minor": 5
}
