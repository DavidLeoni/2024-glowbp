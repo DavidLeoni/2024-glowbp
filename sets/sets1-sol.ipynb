{
 "cells": [
  {
   "cell_type": "code",
   "execution_count": 1,
   "id": "8e77c3a2",
   "metadata": {
    "slideshow": {
     "slide_type": "skip"
    }
   },
   "outputs": [
    {
     "data": {
      "text/html": [
       "        \n",
       "            <script src=\"../_static/js/python.iife.js\" type=\"application/javascript\"></script>\n",
       "        "
      ],
      "text/plain": [
       "<IPython.core.display.HTML object>"
      ]
     },
     "execution_count": 1,
     "metadata": {},
     "output_type": "execute_result"
    }
   ],
   "source": [
    "import sys\n",
    "sys.path.append('../')\n",
    "import jupman\n",
    "\n",
    "import conf\n",
    "\n",
    "conf.jm.init_icp()"
   ]
  },
  {
   "cell_type": "markdown",
   "id": "0049100b",
   "metadata": {
    "slideshow": {
     "slide_type": "slide"
    }
   },
   "source": [
    "\n",
    "# Insiemi\n",
    "\n",
    "**Riferimenti:** [SoftPython - insiemi 1](https://it.softpython.org/sets/sets1-sol.html)\n",
    "\n",
    "* visualizza al meglio in <img style=\"display:inline; width:25px; vertical-align: middle;\" src=\"../_static/img/chrome.png\" alttext=\"Chrome\">\n",
    "* versione stampabile: [clicca qua](?print-pdf)\n",
    "* per navigare nelle slide: premere `Esc`\n",
    "\n",
    "<br>\n",
    "<br>\n",
    "\n",
    "**Summer School Data Science 2023 - Modulo 1 informatica:** [Moodle](https://didatticaonline.unitn.it/dol/course/view.php?id=36683) \n",
    "\n",
    "Docente: David Leoni david.leoni@unitn.it\n",
    "\n",
    "Esercitatore: Luca Bosotti luca.bosotti@studenti.unitn.it\n"
   ]
  },
  {
   "cell_type": "markdown",
   "id": "34566cfc",
   "metadata": {
    "slideshow": {
     "slide_type": "slide"
    }
   },
   "source": [
    "## Insiemi - set\n",
    "\n",
    "> Un insieme è una collezione _mutabile_ _senza ordine_ di elementi _immutabili_ e _distinti_ <br>\n",
    "> (cioè senza duplicati)\n",
    "\n",
    "**Riferimenti:** SoftPython, [insiemi](https://it.softpython.org/sets/sets1-sol.html)"
   ]
  },
  {
   "cell_type": "code",
   "execution_count": 2,
   "id": "6112349d",
   "metadata": {
    "slideshow": {
     "slide_type": "fragment"
    }
   },
   "outputs": [],
   "source": [
    "s = {'d','a','e','b','c'}"
   ]
  },
  {
   "cell_type": "code",
   "execution_count": 3,
   "id": "8d28c2d3",
   "metadata": {
    "scrolled": true,
    "slideshow": {
     "slide_type": "fragment"
    }
   },
   "outputs": [
    {
     "data": {
      "text/plain": [
       "set"
      ]
     },
     "execution_count": 3,
     "metadata": {},
     "output_type": "execute_result"
    }
   ],
   "source": [
    "type(s)"
   ]
  },
  {
   "cell_type": "code",
   "execution_count": 4,
   "id": "b4db06e8",
   "metadata": {
    "slideshow": {
     "slide_type": "fragment"
    }
   },
   "outputs": [
    {
     "name": "stdout",
     "output_type": "stream",
     "text": [
      "{'b', 'a', 'd', 'c', 'e'}\n"
     ]
    }
   ],
   "source": [
    "print(s)"
   ]
  },
  {
   "cell_type": "markdown",
   "id": "3922d754",
   "metadata": {
    "slideshow": {
     "slide_type": "fragment"
    }
   },
   "source": [
    "<div class=\"alert alert-warning\">\n",
    "\n",
    "**ATTENZIONE: L'ORDINE NEGLI INSIEMI** ***NON*** **E' GARANTITO!**\n",
    "    \n",
    "***NON*** **CREDERE A QUELLO CHE VEDI !!**\n",
    "</div>"
   ]
  },
  {
   "cell_type": "markdown",
   "id": "c8426c73",
   "metadata": {
    "slideshow": {
     "slide_type": "subslide"
    }
   },
   "source": [
    "### Ordine stampa $\\neq$ ordine creazione\n",
    "\n",
    "Potrebbe anche variare:\n",
    "\n",
    "- a seconda della versione di Python\n",
    "- ad ogni esecuzione!!"
   ]
  },
  {
   "cell_type": "markdown",
   "id": "9761c2cb",
   "metadata": {
    "slideshow": {
     "slide_type": "fragment"
    }
   },
   "source": [
    "**Attenzione** a `s` **senza** `print` in Jupyter: "
   ]
  },
  {
   "cell_type": "code",
   "execution_count": 5,
   "id": "f941d3d4",
   "metadata": {
    "slideshow": {
     "slide_type": "-"
    }
   },
   "outputs": [
    {
     "data": {
      "text/plain": [
       "{'a', 'b', 'c', 'd', 'e'}"
      ]
     },
     "execution_count": 5,
     "metadata": {},
     "output_type": "execute_result"
    }
   ],
   "source": [
    "s"
   ]
  },
  {
   "cell_type": "markdown",
   "id": "0e123fbf",
   "metadata": {
    "slideshow": {
     "slide_type": "fragment"
    }
   },
   "source": [
    "Ordine alfabetico! \n",
    "\n",
    "- Motivo: Jupyter stampa implicitamente con la [pprint](https://docs.python.org/3/library/pprint.html) (_pretty_ print)"
   ]
  },
  {
   "cell_type": "markdown",
   "id": "eb2d8cf3",
   "metadata": {
    "slideshow": {
     "slide_type": "slide"
    }
   },
   "source": [
    "### Che succederà qui?\n",
    "\n",
    "> Un insieme è una collezione mutabile senza ordine di elementi **immutabili** e distinti (cioè senza duplicati)\n"
   ]
  },
  {
   "cell_type": "markdown",
   "id": "ac4822d3",
   "metadata": {
    "slideshow": {
     "slide_type": "-"
    }
   },
   "source": [
    "```python\n",
    "s = { [1,2,3], [4,5] }\n",
    "```"
   ]
  },
  {
   "cell_type": "markdown",
   "id": "48abc302",
   "metadata": {
    "slideshow": {
     "slide_type": "fragment"
    }
   },
   "source": [
    "```python\n",
    "---------------------------------------------------------------------------\n",
    "TypeError                                 Traceback (most recent call last)\n",
    "/tmp/ipykernel_5526/4233786676.py in <module>\n",
    "----> 1 s = { [1,2,3], [4,5] }\n",
    "\n",
    "TypeError: unhashable type: 'list'\n",
    "```"
   ]
  },
  {
   "cell_type": "markdown",
   "id": "4cca772f",
   "metadata": {
    "slideshow": {
     "slide_type": "subslide"
    }
   },
   "source": [
    "### La funzione `hash` 1/2\n",
    "\n",
    "Applicabile solo a oggetti _immutabili_"
   ]
  },
  {
   "cell_type": "code",
   "execution_count": 6,
   "id": "83d398c5",
   "metadata": {
    "slideshow": {
     "slide_type": "fragment"
    }
   },
   "outputs": [
    {
     "data": {
      "text/plain": [
       "707262961973574043"
      ]
     },
     "execution_count": 6,
     "metadata": {},
     "output_type": "execute_result"
    }
   ],
   "source": [
    "hash(\"pietra\")"
   ]
  },
  {
   "cell_type": "markdown",
   "id": "ccc5bfec",
   "metadata": {
    "slideshow": {
     "slide_type": "fragment"
    }
   },
   "source": [
    "Dato un oggetto _immutabile_, lo analizza per calcolare un numero"
   ]
  },
  {
   "cell_type": "code",
   "execution_count": 7,
   "id": "2700fbc1",
   "metadata": {
    "slideshow": {
     "slide_type": "fragment"
    }
   },
   "outputs": [
    {
     "data": {
      "text/plain": [
       "2199981108035071583"
      ]
     },
     "execution_count": 7,
     "metadata": {},
     "output_type": "execute_result"
    }
   ],
   "source": [
    "hash(\"\"\"\n",
    "        Gli opposti sono frammenti di un'unica realtà \n",
    "        che permane immutabile e racchiude dentro di sé il cambiamento.\n",
    "\"\"\")"
   ]
  },
  {
   "cell_type": "markdown",
   "id": "b6640945",
   "metadata": {
    "slideshow": {
     "slide_type": "fragment"
    }
   },
   "source": [
    "Tipicamente, la dimensione del numero è molto più piccola dell'oggetto"
   ]
  },
  {
   "cell_type": "markdown",
   "id": "0670d66c",
   "metadata": {
    "slideshow": {
     "slide_type": "subslide"
    }
   },
   "source": [
    "### La funzione `hash` 2/2"
   ]
  },
  {
   "cell_type": "code",
   "execution_count": 8,
   "id": "d21d31c2",
   "metadata": {
    "slideshow": {
     "slide_type": "-"
    }
   },
   "outputs": [
    {
     "data": {
      "text/plain": [
       "70"
      ]
     },
     "execution_count": 8,
     "metadata": {},
     "output_type": "execute_result"
    }
   ],
   "source": [
    "#jupman-purge-output\n",
    "hash(70)"
   ]
  },
  {
   "cell_type": "code",
   "execution_count": 9,
   "id": "30b14b25",
   "metadata": {
    "slideshow": {
     "slide_type": "fragment"
    }
   },
   "outputs": [
    {
     "data": {
      "text/plain": [
       "70"
      ]
     },
     "execution_count": 9,
     "metadata": {},
     "output_type": "execute_result"
    }
   ],
   "source": [
    "#jupman-purge-input\n",
    "_"
   ]
  },
  {
   "cell_type": "code",
   "execution_count": 33,
   "id": "54ea5b12",
   "metadata": {
    "slideshow": {
     "slide_type": "fragment"
    }
   },
   "outputs": [
    {
     "data": {
      "text/plain": [
       "-5434522281529851832"
      ]
     },
     "execution_count": 33,
     "metadata": {},
     "output_type": "execute_result"
    }
   ],
   "source": [
    "#jupman-purge-output\n",
    "hash( (39,10,10,20,30,20,10,40,50,20,30,40,10,60,40,30,70,10,30,20,60,10) )"
   ]
  },
  {
   "cell_type": "code",
   "execution_count": 34,
   "id": "0dbc0906",
   "metadata": {
    "slideshow": {
     "slide_type": "fragment"
    }
   },
   "outputs": [
    {
     "data": {
      "text/plain": [
       "-5434522281529851832"
      ]
     },
     "execution_count": 34,
     "metadata": {},
     "output_type": "execute_result"
    }
   ],
   "source": [
    "#jupman-purge-input\n",
    "_"
   ]
  },
  {
   "cell_type": "markdown",
   "id": "c18fc4b3",
   "metadata": {
    "slideshow": {
     "slide_type": "fragment"
    }
   },
   "source": [
    "```python\n",
    "hash(  (10,[20,30],40,50)   )\n",
    "```"
   ]
  },
  {
   "cell_type": "markdown",
   "id": "7b750136",
   "metadata": {
    "slideshow": {
     "slide_type": "fragment"
    }
   },
   "source": [
    "```python\n",
    "---------------------------------------------------------------------------\n",
    "TypeError                                 Traceback (most recent call last)\n",
    "/tmp/ipykernel_5526/4244286395.py in <module>\n",
    "----> 1 hash( (39,[10, 20  ]) )\n",
    "\n",
    "TypeError: unhashable type: 'list'\n",
    "```        "
   ]
  },
  {
   "cell_type": "markdown",
   "id": "36195b38",
   "metadata": {
    "slideshow": {
     "slide_type": "fragment"
    }
   },
   "source": [
    "**Posso creare questo insieme?**\n",
    "\n",
    "```python\n",
    "{ {'n','a'}, {'s','t','y'} }\n",
    "```"
   ]
  },
  {
   "cell_type": "markdown",
   "id": "dad9b47a",
   "metadata": {
    "slideshow": {
     "slide_type": "subslide"
    }
   },
   "source": [
    "### Rimuovere duplicati\n",
    "    \n",
    "Possiamo creare un `set` a partire da un'altra sequenza:"
   ]
  },
  {
   "cell_type": "code",
   "execution_count": 36,
   "id": "409a66c6",
   "metadata": {
    "slideshow": {
     "slide_type": "fragment"
    }
   },
   "outputs": [
    {
     "data": {
      "text/plain": [
       "{'a', 'c', 'i'}"
      ]
     },
     "execution_count": 36,
     "metadata": {},
     "output_type": "execute_result"
    }
   ],
   "source": [
    "set( 'acacia' ) "
   ]
  },
  {
   "cell_type": "markdown",
   "id": "347cb616",
   "metadata": {
    "slideshow": {
     "slide_type": "fragment"
    }
   },
   "source": [
    "<div class=\"alert alert-info\">\n",
    "    \n",
    "**Gli insiemi sono utili per rimuovere duplicati da una sequenza** \n",
    "\n",
    "</div>"
   ]
  },
  {
   "cell_type": "code",
   "execution_count": 38,
   "id": "bc081214",
   "metadata": {
    "slideshow": {
     "slide_type": "fragment"
    }
   },
   "outputs": [
    {
     "data": {
      "text/plain": [
       "{1, 2, 3}"
      ]
     },
     "execution_count": 38,
     "metadata": {},
     "output_type": "execute_result"
    }
   ],
   "source": [
    "set( [1,2,3,1,2,1,2,1,3,1] ) # da lista"
   ]
  },
  {
   "cell_type": "markdown",
   "id": "02a426e5",
   "metadata": {
    "slideshow": {
     "slide_type": "slide"
    }
   },
   "source": [
    "### Law & order"
   ]
  },
  {
   "cell_type": "markdown",
   "id": "ec68c417",
   "metadata": {
    "slideshow": {
     "slide_type": "fragment"
    }
   },
   "source": [
    "**Ha senso ricavare un elemento a partire da un indice?**\n",
    "\n",
    "```python\n",
    "s = {'d','u','b','b','i','o','s','o'}\n",
    "s[0]\n",
    "```"
   ]
  },
  {
   "cell_type": "markdown",
   "id": "44c4f623",
   "metadata": {
    "slideshow": {
     "slide_type": "fragment"
    }
   },
   "source": [
    "```python\n",
    "---------------------------------------------------------------------------\n",
    "TypeError                                 Traceback (most recent call last)\n",
    "/tmp/ipykernel_7970/446717835.py in <module>\n",
    "      1 s = {'d','u','b','b','i','o','s','o'}\n",
    "----> 2 s[0]\n",
    "\n",
    "TypeError: 'set' object is not subscriptable\n",
    "```"
   ]
  },
  {
   "cell_type": "code",
   "execution_count": 45,
   "id": "06072a8a",
   "metadata": {
    "slideshow": {
     "slide_type": "fragment"
    }
   },
   "outputs": [
    {
     "name": "stdout",
     "output_type": "stream",
     "text": [
      "{'i', 'u', 'b', 'd', 's', 'o'}\n"
     ]
    }
   ],
   "source": [
    "print(s)"
   ]
  },
  {
   "cell_type": "markdown",
   "id": "c16eb16e",
   "metadata": {
    "slideshow": {
     "slide_type": "fragment"
    }
   },
   "source": [
    "**Se proprio, proprio, PROPRIO** vi serve qualcosa di indicizzabile.."
   ]
  },
  {
   "cell_type": "code",
   "execution_count": 51,
   "id": "48ec13e5",
   "metadata": {
    "slideshow": {
     "slide_type": "-"
    }
   },
   "outputs": [
    {
     "data": {
      "text/plain": [
       "'i'"
      ]
     },
     "execution_count": 51,
     "metadata": {},
     "output_type": "execute_result"
    }
   ],
   "source": [
    "la = list(s)\n",
    "la[0]"
   ]
  },
  {
   "cell_type": "markdown",
   "id": "1e4c9200",
   "metadata": {
    "slideshow": {
     "slide_type": "subslide"
    }
   },
   "source": [
    "### Insieme vuoto\n",
    "\n",
    "Per creare un insieme vuoto dobbiamo chiamare la funzione `set()`:"
   ]
  },
  {
   "cell_type": "code",
   "execution_count": 14,
   "id": "0ddecf55",
   "metadata": {
    "slideshow": {
     "slide_type": "-"
    }
   },
   "outputs": [],
   "source": [
    "s = set()"
   ]
  },
  {
   "cell_type": "markdown",
   "id": "2178f7c7",
   "metadata": {
    "slideshow": {
     "slide_type": "-"
    }
   },
   "source": [
    "<div class=\"alert alert-warning\">\n",
    "\n",
    "**ATTENZIONE: Se scrivi** `{}` **otterrai un dizionario, NON un insieme !!!**\n",
    "\n",
    "</div>"
   ]
  },
  {
   "cell_type": "markdown",
   "id": "0083662e",
   "metadata": {
    "slideshow": {
     "slide_type": "subslide"
    }
   },
   "source": [
    "## Operatori insiemi\n",
    "\n",
    "|Operatore|Esempio| Risultato | Descrizione |\n",
    "|---------|-------|-----------|-------------|\n",
    "|[lunghezza](https://it.softpython.org/sets/sets1-sol.html#len)|`len`(set)|`int` | il numero di elementi nel set|\n",
    "|[appartenenza](https://it.softpython.org/sets/sets1-sol.html#Appartenenza)|object `in` set|`bool`|verifica se elemento è contenuto nel set|\n",
    "|[unione](https://it.softpython.org/sets/sets1-sol.html#Unione)|set <code>&#124;</code>  set| `set` | crea un NUOVO set|\n",
    "|[intersezione](https://it.softpython.org/sets/sets1-sol.html#Intersezione)|set `&` set| `set` | crea un NUOVO set|\n",
    "|[differenza](https://it.softpython.org/sets/sets1-sol.html#Differenza)|set `-` set| `set` | crea un NUOVO set|\n",
    "|[differenza simmetrica](https://it.softpython.org/sets/sets1-sol.html#Differenza-simmetrica)|set `^` set| `set` | crea un NUOVO set|\n",
    "|[uguaglianza](https://it.softpython.org/sets/sets1-sol.html#Uguaglianza)|`==`,`!=`|`bool`| Controlla se due insiemi sono uguali o differenti|\n",
    "\n",
    "Riferimento: [SoftPython - Insiemi](https://it.softpython.org/sets/sets1-sol.html#Operatori)"
   ]
  },
  {
   "cell_type": "markdown",
   "id": "b074734a",
   "metadata": {
    "slideshow": {
     "slide_type": "subslide"
    }
   },
   "source": [
    "### Appartenenza"
   ]
  },
  {
   "cell_type": "markdown",
   "id": "407c6f6f",
   "metadata": {
    "slideshow": {
     "slide_type": "-"
    }
   },
   "source": [
    "Un elemento IMMUTABILE è contenuto in un insieme?"
   ]
  },
  {
   "cell_type": "code",
   "execution_count": 15,
   "id": "560c6fdd",
   "metadata": {
    "slideshow": {
     "slide_type": "-"
    }
   },
   "outputs": [
    {
     "data": {
      "text/plain": [
       "True"
      ]
     },
     "execution_count": 15,
     "metadata": {},
     "output_type": "execute_result"
    }
   ],
   "source": [
    "'a' in {'m','e','n','t','a'}"
   ]
  },
  {
   "cell_type": "markdown",
   "id": "05683a31",
   "metadata": {
    "slideshow": {
     "slide_type": "fragment"
    }
   },
   "source": [
    "<div class=\"alert alert-info\">\n",
    "    \n",
    "Negli insiemi: la velocità dell'operatore `in` NON dipende dalla dimensione della collezione\n",
    "\n",
    "</div>"
   ]
  },
  {
   "cell_type": "markdown",
   "id": "bd6a35c7",
   "metadata": {
    "slideshow": {
     "slide_type": "fragment"
    }
   },
   "source": [
    "<div class=\"alert alert-info\">\n",
    "\n",
    "`in` **NEGLI INSIEMI E' UN'OPERAZIONE MOLTO VELOCE**\n",
    "</div>"
   ]
  },
  {
   "cell_type": "markdown",
   "id": "5ad94b4d",
   "metadata": {
    "slideshow": {
     "slide_type": "fragment"
    }
   },
   "source": [
    "<div class=\"alert alert-info\">\n",
    "    \n",
    "Per stringhe, liste e tuple: la velocità di `in` dipende dalla dimensione ->  molto più lenta\n",
    "\n",
    "</div>"
   ]
  },
  {
   "cell_type": "markdown",
   "id": "066e2ce7",
   "metadata": {
    "slideshow": {
     "slide_type": "subslide"
    }
   },
   "source": [
    "**ATTENZIONE**: Cercare elementi mutabili in insiemi **non** è consentito:"
   ]
  },
  {
   "cell_type": "markdown",
   "id": "237532cf",
   "metadata": {
    "slideshow": {
     "slide_type": "-"
    }
   },
   "source": [
    "```python\n",
    "['e','f'] in { ('c','d'), ('a','b')}\n",
    "\n",
    "---------------------------------------------------------------------------\n",
    "TypeError                                 Traceback (most recent call last)\n",
    "/tmp/ipykernel_29295/1711245333.py in <module>\n",
    "----> 1 ['a','b'] in { ('c','d'), ('a','b'), ('e','f') }\n",
    "\n",
    "TypeError: unhashable type: 'list'\n",
    "\n",
    "```"
   ]
  },
  {
   "cell_type": "markdown",
   "id": "1f3864f5",
   "metadata": {
    "slideshow": {
     "slide_type": "subslide"
    }
   },
   "source": [
    "### Possiamo cercare una tupla?"
   ]
  },
  {
   "cell_type": "code",
   "execution_count": 16,
   "id": "34b59cff",
   "metadata": {
    "slideshow": {
     "slide_type": "fragment"
    }
   },
   "outputs": [
    {
     "data": {
      "text/plain": [
       "False"
      ]
     },
     "execution_count": 16,
     "metadata": {},
     "output_type": "execute_result"
    }
   ],
   "source": [
    "#jupman-purge-output\n",
    "('a','b') in { 'ab', 'cd' } "
   ]
  },
  {
   "cell_type": "code",
   "execution_count": 17,
   "id": "77e65252",
   "metadata": {},
   "outputs": [
    {
     "data": {
      "text/plain": [
       "False"
      ]
     },
     "execution_count": 17,
     "metadata": {},
     "output_type": "execute_result"
    }
   ],
   "source": [
    "#jupman-purge-input\n",
    "_"
   ]
  },
  {
   "cell_type": "code",
   "execution_count": 18,
   "id": "d6fb638c",
   "metadata": {
    "slideshow": {
     "slide_type": "fragment"
    }
   },
   "outputs": [
    {
     "data": {
      "text/plain": [
       "True"
      ]
     },
     "execution_count": 18,
     "metadata": {},
     "output_type": "execute_result"
    }
   ],
   "source": [
    "#jupman-purge-output\n",
    "('a','b') in { ('a','b'), ('c','d') } "
   ]
  },
  {
   "cell_type": "code",
   "execution_count": 19,
   "id": "f936a518",
   "metadata": {},
   "outputs": [
    {
     "data": {
      "text/plain": [
       "True"
      ]
     },
     "execution_count": 19,
     "metadata": {},
     "output_type": "execute_result"
    }
   ],
   "source": [
    "#jupman-purge-input\n",
    "_"
   ]
  },
  {
   "cell_type": "markdown",
   "id": "99fa23a6",
   "metadata": {
    "slideshow": {
     "slide_type": "subslide"
    }
   },
   "source": [
    "### non appartenza\n",
    "\n",
    "Due forme"
   ]
  },
  {
   "cell_type": "code",
   "execution_count": 20,
   "id": "e397d4ad",
   "metadata": {
    "slideshow": {
     "slide_type": "-"
    }
   },
   "outputs": [
    {
     "data": {
      "text/plain": [
       "True"
      ]
     },
     "execution_count": 20,
     "metadata": {},
     "output_type": "execute_result"
    }
   ],
   "source": [
    "not \"carota\" in {\"anguria\", \"banana\", \"mela\"}"
   ]
  },
  {
   "cell_type": "code",
   "execution_count": 21,
   "id": "f986ab20",
   "metadata": {
    "slideshow": {
     "slide_type": "-"
    }
   },
   "outputs": [
    {
     "data": {
      "text/plain": [
       "True"
      ]
     },
     "execution_count": 21,
     "metadata": {},
     "output_type": "execute_result"
    }
   ],
   "source": [
    "\"carota\" not in {\"anguria\",\"banana\",\"mela\"}"
   ]
  },
  {
   "cell_type": "markdown",
   "id": "a8c99fa9",
   "metadata": {
    "slideshow": {
     "slide_type": "fragment"
    }
   },
   "source": [
    "### Sono uguali?\n",
    "\n"
   ]
  },
  {
   "cell_type": "code",
   "execution_count": 22,
   "id": "339e9775",
   "metadata": {
    "slideshow": {
     "slide_type": "-"
    }
   },
   "outputs": [
    {
     "data": {
      "text/plain": [
       "True"
      ]
     },
     "execution_count": 22,
     "metadata": {},
     "output_type": "execute_result"
    }
   ],
   "source": [
    "#jupman-purge-output\n",
    "{1,2,3} == {3,1,2}"
   ]
  },
  {
   "cell_type": "code",
   "execution_count": 23,
   "id": "7872edb8",
   "metadata": {
    "slideshow": {
     "slide_type": "fragment"
    }
   },
   "outputs": [
    {
     "data": {
      "text/plain": [
       "True"
      ]
     },
     "execution_count": 23,
     "metadata": {},
     "output_type": "execute_result"
    }
   ],
   "source": [
    "#jupman-purge-output\n",
    "{1,2,3} == {3,3,1,1,2,2}"
   ]
  },
  {
   "cell_type": "markdown",
   "id": "97baee03",
   "metadata": {
    "slideshow": {
     "slide_type": "slide"
    }
   },
   "source": [
    "## Metodi simili agli operatori 1/2\n",
    "\n",
    "Metodi che creano un **NUOVO** set e sono analoghi agli operatori `|`, `&`, `-`, `^` \n",
    "\n",
    "**NOTA**: diversamente dagli operatori, questi metodi accettano come parametro una _qualsiasi_ sequenza, non solo insiemi:\n",
    "\n",
    "|Metodo| Risultato | Descrizione | Operatore analogo|\n",
    "|---------|-----------|-------------|------|\n",
    "|`set.union(seq)`|`set`|unione, crea un NUOVO set |<code>&#124;</code>|\n",
    "|`set.intersection(seq)`| `set`| intersezione, crea un NUOVO set|`&`|\n",
    "|`set.difference(seq)`| `set` | differenza, crea un NUOVO set|`-`|\n",
    "|`set.symmetric_difference(seq)`| `set` | differenza simmetrica, crea un NUOVO set|`^`|\n",
    "\n",
    "Riferimenti: [SoftPython - Insiemi](https://it.softpython.org/sets/sets1-sol.html#Metodi-simili-agli-operatori)"
   ]
  },
  {
   "cell_type": "markdown",
   "id": "e1266b6d",
   "metadata": {
    "slideshow": {
     "slide_type": "subslide"
    }
   },
   "source": [
    "## Metodi simili agli operatori 2/2\n",
    "\n",
    "Metodi che **MODIFICANO** il primo insieme su cui sono chiamati (e ritornano `None`!):\n",
    "\n",
    "|Metodo| Risultato | Descrizione |\n",
    "|---------|-----------|-------------|\n",
    "|`setA.update(setB)`|`None`| unione, MODIFICA `setA`|\n",
    "|`setA.intersection_update(setB)` |`None` |intersezione, MODIFICA `setA`|\n",
    "|`setA.difference_update(setB)`| `None` | differenza, MODIFICA `setA`|\n",
    "|`setA.symmetric_difference_update(setB)`| `None` | differenza simmetrica, MODIFICA `setA`|\n",
    "\n",
    "Riferimenti: [SoftPython - Insiemi](https://it.softpython.org/sets/sets1-sol.html#Metodi-simili-agli-operatori)"
   ]
  },
  {
   "cell_type": "markdown",
   "id": "b08eedf6",
   "metadata": {
    "slideshow": {
     "slide_type": "slide"
    }
   },
   "source": [
    "## Altri metodi\n",
    "\n",
    "|Metodo| Risultato | Descrizione |\n",
    "|---------|-----------|-------------|\n",
    "|[set.add(el)](#add)| `None`| aggiunge l'elemento specificato - se già presente non fa nulla)|\n",
    "|[set.remove(el)](#remove)|`None`|rimuove l'elemento specificato - se non presente solleva errore|\n",
    "|[set.discard(el)](#discard)|`None`|rimuove l'elemento specificato - se non presente non fa nulla|\n",
    "|`set.pop()`|`object`|rimuove un elemento arbitrario dall'insieme e lo ritorna|\n",
    "|`set.clear()`|`None`|rimuove tutti gli elementi|\n",
    "|[setA.issubset(setB)](#issubset)|`bool`|verifica  se `setA` è un sottoinsieme di `setB`|\n",
    "|[setA.issuperset(setB)](#issuperset)|`bool`|verifica se `setA` contiene tutti gli elementi di `setB`|\n",
    "|[setA.isdisjoint(setB)](#isdisjoint)|`bool`|verifica  se `setA` non ha elementi in comune con `setB`|\n",
    "\n",
    "Riferimenti: [SoftPython - Insiemi](https://it.softpython.org/sets/sets1-sol.html#Altri-metodi)"
   ]
  },
  {
   "cell_type": "markdown",
   "id": "a4970645",
   "metadata": {
    "slideshow": {
     "slide_type": "subslide"
    }
   },
   "source": [
    "### add\n",
    "\n",
    "Dato un insieme, possiamo aggiungergli un elemento con il metodo `.add`:"
   ]
  },
  {
   "cell_type": "code",
   "execution_count": 24,
   "id": "aca406e5",
   "metadata": {
    "slideshow": {
     "slide_type": "-"
    }
   },
   "outputs": [],
   "source": [
    "s = {3,7,4}"
   ]
  },
  {
   "cell_type": "code",
   "execution_count": 25,
   "id": "9ffbea05",
   "metadata": {
    "slideshow": {
     "slide_type": "fragment"
    }
   },
   "outputs": [],
   "source": [
    "s.add(5)"
   ]
  },
  {
   "cell_type": "code",
   "execution_count": 26,
   "id": "baae7b02",
   "metadata": {
    "slideshow": {
     "slide_type": "fragment"
    }
   },
   "outputs": [
    {
     "data": {
      "text/plain": [
       "{3, 4, 5, 7}"
      ]
     },
     "execution_count": 26,
     "metadata": {},
     "output_type": "execute_result"
    }
   ],
   "source": [
    "s"
   ]
  },
  {
   "cell_type": "markdown",
   "id": "95714836",
   "metadata": {
    "slideshow": {
     "slide_type": "fragment"
    }
   },
   "source": [
    "Se aggiungiamo lo stesso elemento due volte, non accade nulla:"
   ]
  },
  {
   "cell_type": "code",
   "execution_count": 27,
   "id": "4ca0a491",
   "metadata": {
    "slideshow": {
     "slide_type": "-"
    }
   },
   "outputs": [],
   "source": [
    "s.add(5)"
   ]
  },
  {
   "cell_type": "code",
   "execution_count": 28,
   "id": "4683a7b5",
   "metadata": {
    "slideshow": {
     "slide_type": "fragment"
    }
   },
   "outputs": [
    {
     "data": {
      "text/plain": [
       "{3, 4, 5, 7}"
      ]
     },
     "execution_count": 28,
     "metadata": {},
     "output_type": "execute_result"
    }
   ],
   "source": [
    "s"
   ]
  },
  {
   "cell_type": "markdown",
   "id": "27fcd146",
   "metadata": {
    "slideshow": {
     "slide_type": "subslide"
    }
   },
   "source": [
    "### remove\n",
    "\n",
    "Il metodo `remove` toglie un elemento specificato dall'insieme. Se non esiste, produce un errore:"
   ]
  },
  {
   "cell_type": "code",
   "execution_count": 29,
   "id": "749f376f",
   "metadata": {
    "slideshow": {
     "slide_type": "-"
    }
   },
   "outputs": [],
   "source": [
    "s = {'a','b','c'}"
   ]
  },
  {
   "cell_type": "code",
   "execution_count": 30,
   "id": "9a201d08",
   "metadata": {
    "slideshow": {
     "slide_type": "fragment"
    }
   },
   "outputs": [],
   "source": [
    "s.remove('b')"
   ]
  },
  {
   "cell_type": "code",
   "execution_count": 31,
   "id": "de053ff9",
   "metadata": {
    "slideshow": {
     "slide_type": "fragment"
    }
   },
   "outputs": [
    {
     "data": {
      "text/plain": [
       "{'a', 'c'}"
      ]
     },
     "execution_count": 31,
     "metadata": {},
     "output_type": "execute_result"
    }
   ],
   "source": [
    "s"
   ]
  },
  {
   "cell_type": "markdown",
   "id": "46176df6",
   "metadata": {
    "slideshow": {
     "slide_type": "fragment"
    }
   },
   "source": [
    "```python\n",
    "s.remove('z')\n",
    "```"
   ]
  },
  {
   "cell_type": "markdown",
   "id": "686def3b",
   "metadata": {
    "slideshow": {
     "slide_type": "fragment"
    }
   },
   "source": [
    "```python\n",
    "---------------------------------------------------------------------------\n",
    "KeyError                                  Traceback (most recent call last)\n",
    "<ipython-input-266-a9e7a977e50c> in <module>\n",
    "----> 1 s.remove('z')\n",
    "\n",
    "KeyError: 'z'\n",
    "\n",
    "```"
   ]
  },
  {
   "cell_type": "code",
   "execution_count": 32,
   "id": "b1c74be1",
   "metadata": {},
   "outputs": [
    {
     "data": {
      "text/plain": [
       "''"
      ]
     },
     "execution_count": 32,
     "metadata": {},
     "output_type": "execute_result"
    }
   ],
   "source": [
    "#jupman-purge-io\n",
    "# scrivi qui\n",
    "''"
   ]
  }
 ],
 "metadata": {
  "celltoolbar": "Slideshow",
  "kernelspec": {
   "display_name": "Python 3 (ipykernel)",
   "language": "python",
   "name": "python3"
  },
  "language_info": {
   "codemirror_mode": {
    "name": "ipython",
    "version": 3
   },
   "file_extension": ".py",
   "mimetype": "text/x-python",
   "name": "python",
   "nbconvert_exporter": "python",
   "pygments_lexer": "ipython3",
   "version": "3.7.17"
  },
  "toc": {
   "base_numbering": 1,
   "nav_menu": {},
   "number_sections": false,
   "sideBar": true,
   "skip_h1_title": false,
   "title_cell": "Table of Contents",
   "title_sidebar": "Contents",
   "toc_cell": false,
   "toc_position": {
    "height": "calc(100% - 180px)",
    "left": "10px",
    "top": "150px",
    "width": "311px"
   },
   "toc_section_display": true,
   "toc_window_display": true
  }
 },
 "nbformat": 4,
 "nbformat_minor": 5
}
