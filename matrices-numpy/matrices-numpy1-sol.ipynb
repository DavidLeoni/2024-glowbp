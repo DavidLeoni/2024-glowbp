{
 "cells": [
  {
   "cell_type": "code",
   "execution_count": 1,
   "id": "8e77c3a2",
   "metadata": {
    "slideshow": {
     "slide_type": "skip"
    }
   },
   "outputs": [
    {
     "data": {
      "text/html": [
       "        \n",
       "            <script src=\"../_static/js/python.iife.js\" type=\"application/javascript\"></script>\n",
       "        "
      ],
      "text/plain": [
       "<IPython.core.display.HTML object>"
      ]
     },
     "execution_count": 1,
     "metadata": {},
     "output_type": "execute_result"
    }
   ],
   "source": [
    "import sys\n",
    "sys.path.append('../')\n",
    "import jupman\n",
    "\n",
    "import conf\n",
    "\n",
    "conf.jm.init_icp()"
   ]
  },
  {
   "cell_type": "markdown",
   "id": "0049100b",
   "metadata": {
    "slideshow": {
     "slide_type": "slide"
    }
   },
   "source": [
    "\n",
    "# Numpy 1: introduzione\n",
    "\n",
    "**Riferimenti:** [SoftPython - numpy 1](https://it.softpython.org/numpy/numpy1-sol.html)\n",
    "\n",
    "* visualizza al meglio in <img style=\"display:inline; width:25px; vertical-align: middle;\" src=\"../_static/img/chrome.png\" alttext=\"Chrome\">\n",
    "* versione stampabile: [clicca qua](?print-pdf)\n",
    "* per navigare nelle slide: premere `Esc`\n",
    "\n",
    "<br>\n",
    "<br>\n",
    "\n",
    "**Summer School Data Science 2023 - Modulo 1 informatica:** [Moodle](https://didatticaonline.unitn.it/dol/course/view.php?id=36683) \n",
    "\n",
    "Docente: David Leoni david.leoni@unitn.it\n",
    "\n",
    "Esercitatore: Luca Bosotti luca.bosotti@studenti.unitn.it\n"
   ]
  },
  {
   "cell_type": "markdown",
   "id": "b45d564b",
   "metadata": {
    "slideshow": {
     "slide_type": "slide"
    }
   },
   "source": [
    "## Matrici - IL RITORNO\n",
    "\n",
    "![matrice](img/matrix.svg)\n",
    "\n",
    "### ...stavolta efficienti!"
   ]
  },
  {
   "cell_type": "markdown",
   "id": "2907772e",
   "metadata": {
    "slideshow": {
     "slide_type": "subslide"
    }
   },
   "source": [
    "## Matrici\n",
    "Ci sono sostanzialmente due modi in Python di rappresentare matrici:\n",
    "\n",
    "**Liste di liste** ([già viste](https://it.softpython.org/matrices-lists/matrices-lists1-sol.html)):\n",
    "\n",
    "1. native in Python\n",
    "2. non efficienti\n",
    "3. le liste sono pervasive in Python, probabilmente incontrerai matrici espresse come liste di liste in ogni caso\n",
    "4. forniscono un'idea di come costruire una struttura dati annidata\n",
    "5. possono servire per comprendere concetti importanti come puntatori alla memoria e copie "
   ]
  },
  {
   "cell_type": "markdown",
   "id": "d75f2100",
   "metadata": {
    "slideshow": {
     "slide_type": "-"
    }
   },
   "source": [
    "<div style=\"background-color:#fdffb2; padding:1%; border-radius:10px;\">\n",
    "\n",
    "**Numpy**: [SoftPython - numpy](https://it.softpython.org/numpy/numpy1-sol.html)\n",
    "\n",
    "1. non nativamente disponibile in Python\n",
    "2. efficienti\n",
    "3. alla base di parecchie librerie di calcolo scientifico (scipy, pandas)\n",
    "4. la sintassi per accedere agli elementi lievemente diversa da quella da liste di liste \n",
    "5. in rari casi potrebbe portare problemi di installazione e/o conflitti \n",
    "    \n",
    "</div>"
   ]
  },
  {
   "cell_type": "markdown",
   "id": "6c666039",
   "metadata": {
    "slideshow": {
     "slide_type": "subslide"
    }
   },
   "source": [
    "## Dov'è numpy?\n",
    "\n",
    "![](img/pydata.png)"
   ]
  },
  {
   "cell_type": "markdown",
   "id": "da39b25d",
   "metadata": {
    "slideshow": {
     "slide_type": "slide"
    }
   },
   "source": [
    "## np.array"
   ]
  },
  {
   "cell_type": "code",
   "execution_count": 2,
   "id": "df2c9670",
   "metadata": {
    "slideshow": {
     "slide_type": "-"
    }
   },
   "outputs": [],
   "source": [
    "import numpy as np   #  rinominiamo in `np`"
   ]
  },
  {
   "cell_type": "markdown",
   "id": "fbb446a1",
   "metadata": {
    "slideshow": {
     "slide_type": "-"
    }
   },
   "source": [
    "\n",
    "- numpy di solito  crea in un colpo solo tutta la matrice\n",
    "\n",
    "- regione _contigua_ di memoria"
   ]
  },
  {
   "cell_type": "code",
   "execution_count": 3,
   "id": "4899519d",
   "metadata": {
    "slideshow": {
     "slide_type": "-"
    }
   },
   "outputs": [],
   "source": [
    "mat = np.zeros(  (2,3)  )   # UN SOLO PARAMETRO tupla: 2 righe, 3 colonne"
   ]
  },
  {
   "cell_type": "code",
   "execution_count": 4,
   "id": "d9eca07c",
   "metadata": {
    "slideshow": {
     "slide_type": "-"
    }
   },
   "outputs": [
    {
     "data": {
      "text/plain": [
       "array([[0., 0., 0.],\n",
       "       [0., 0., 0.]])"
      ]
     },
     "execution_count": 4,
     "metadata": {},
     "output_type": "execute_result"
    }
   ],
   "source": [
    "mat"
   ]
  },
  {
   "cell_type": "markdown",
   "id": "bb201891",
   "metadata": {
    "slideshow": {
     "slide_type": "fragment"
    }
   },
   "source": [
    "<div class=\"alert alert-warning\">\n",
    "\n",
    "**ATTENZIONE**: anche se vedi delle quadre, gli oggetti di numpy **non** sono liste di liste!\n",
    "\n",
    "</div>"
   ]
  },
  {
   "cell_type": "code",
   "execution_count": 5,
   "id": "369e359f",
   "metadata": {
    "slideshow": {
     "slide_type": "-"
    }
   },
   "outputs": [
    {
     "data": {
      "text/plain": [
       "numpy.ndarray"
      ]
     },
     "execution_count": 5,
     "metadata": {},
     "output_type": "execute_result"
    }
   ],
   "source": [
    "type(mat)"
   ]
  },
  {
   "cell_type": "markdown",
   "id": "af154ef7",
   "metadata": {
    "slideshow": {
     "slide_type": "subslide"
    }
   },
   "source": [
    "### Matrice da lista di liste\n",
    "\n",
    "Se PROPRIO avete necessità, potete creare una matrice numpy da una lista di liste:"
   ]
  },
  {
   "cell_type": "code",
   "execution_count": 6,
   "id": "e95d9fc8",
   "metadata": {
    "slideshow": {
     "slide_type": "-"
    }
   },
   "outputs": [],
   "source": [
    "mat = np.array( [ [5.0,8.0,1.0],\n",
    "                  [4.0,3.0,2.0]] )"
   ]
  },
  {
   "cell_type": "markdown",
   "id": "7ce7b10f",
   "metadata": {
    "slideshow": {
     "slide_type": "-"
    }
   },
   "source": [
    "**DOMANDA**: quand'è che potrebbe aver senso farlo?"
   ]
  },
  {
   "cell_type": "markdown",
   "id": "0bd35efb",
   "metadata": {
    "slideshow": {
     "slide_type": "fragment"
    }
   },
   "source": [
    "**DOMANDA**: e se ho una matrice numpy, ha senso convertirla a lista di liste?"
   ]
  },
  {
   "cell_type": "markdown",
   "id": "27649668",
   "metadata": {
    "slideshow": {
     "slide_type": "subslide"
    }
   },
   "source": [
    "### Matrice riempita di un numero `k`"
   ]
  },
  {
   "cell_type": "code",
   "execution_count": 7,
   "id": "ba314534",
   "metadata": {
    "slideshow": {
     "slide_type": "-"
    }
   },
   "outputs": [
    {
     "data": {
      "text/plain": [
       "array([[7, 7, 7, 7, 7],\n",
       "       [7, 7, 7, 7, 7],\n",
       "       [7, 7, 7, 7, 7]])"
      ]
     },
     "execution_count": 7,
     "metadata": {},
     "output_type": "execute_result"
    }
   ],
   "source": [
    "np.full( (3,5), 7)"
   ]
  },
  {
   "cell_type": "markdown",
   "id": "d6a5f25e",
   "metadata": {
    "slideshow": {
     "slide_type": "slide"
    }
   },
   "source": [
    "## Dimensioni di una matrice\n",
    "\n",
    "\n",
    "![matrice](img/matrix-dimensions.svg)"
   ]
  },
  {
   "cell_type": "code",
   "execution_count": 8,
   "id": "6938a630",
   "metadata": {},
   "outputs": [
    {
     "data": {
      "text/plain": [
       "(2, 3)"
      ]
     },
     "execution_count": 8,
     "metadata": {},
     "output_type": "execute_result"
    }
   ],
   "source": [
    "mat = np.array( [ [5.0,8.0,1.0],\n",
    "                  [4.0,3.0,2.0] ] )\n",
    "\n",
    "mat.shape"
   ]
  },
  {
   "cell_type": "markdown",
   "id": "4f750056",
   "metadata": {
    "slideshow": {
     "slide_type": "fragment"
    }
   },
   "source": [
    "**DOMANDA 1**: Che cos'è?"
   ]
  },
  {
   "cell_type": "markdown",
   "id": "0c7947fe",
   "metadata": {
    "slideshow": {
     "slide_type": "fragment"
    }
   },
   "source": [
    "**DOMANDA 2**: `.shape` è un attributo o un metodo?"
   ]
  },
  {
   "cell_type": "markdown",
   "id": "a9fc68a0",
   "metadata": {
    "slideshow": {
     "slide_type": "slide"
    }
   },
   "source": [
    "## Lettura e scrittura"
   ]
  },
  {
   "cell_type": "markdown",
   "id": "c5666d2f",
   "metadata": {},
   "source": [
    "<div class=\"alert alert-warning\">\n",
    "\n",
    "**ATTENZIONE**: la notazione `mat[i,j]` funziona **solo** in numpy!\n",
    "    \n",
    "</div>"
   ]
  },
  {
   "cell_type": "code",
   "execution_count": 9,
   "id": "36ea37a3",
   "metadata": {
    "slideshow": {
     "slide_type": "-"
    }
   },
   "outputs": [],
   "source": [
    "mat = np.array( [ [5.0,8.0,1.0],\n",
    "                  [4.0,3.0,2.0]])"
   ]
  },
  {
   "cell_type": "code",
   "execution_count": 10,
   "id": "adc159e2",
   "metadata": {
    "slideshow": {
     "slide_type": "-"
    }
   },
   "outputs": [
    {
     "data": {
      "text/plain": [
       "8.0"
      ]
     },
     "execution_count": 10,
     "metadata": {},
     "output_type": "execute_result"
    }
   ],
   "source": [
    "mat[0,1]"
   ]
  },
  {
   "cell_type": "code",
   "execution_count": 11,
   "id": "6f7a2c13",
   "metadata": {
    "slideshow": {
     "slide_type": "fragment"
    }
   },
   "outputs": [],
   "source": [
    "mat[0,1] = 9"
   ]
  },
  {
   "cell_type": "code",
   "execution_count": 12,
   "id": "e01f3a89",
   "metadata": {
    "slideshow": {
     "slide_type": "-"
    }
   },
   "outputs": [
    {
     "data": {
      "text/plain": [
       "array([[5., 9., 1.],\n",
       "       [4., 3., 2.]])"
      ]
     },
     "execution_count": 12,
     "metadata": {},
     "output_type": "execute_result"
    }
   ],
   "source": [
    "mat"
   ]
  },
  {
   "cell_type": "markdown",
   "id": "0380e7b4",
   "metadata": {
    "slideshow": {
     "slide_type": "subslide"
    }
   },
   "source": [
    "### Scrittura - No fritti misti"
   ]
  },
  {
   "cell_type": "markdown",
   "id": "bbaf850c",
   "metadata": {
    "slideshow": {
     "slide_type": "-"
    }
   },
   "source": [
    "Per efficienza Numpy usa regioni di memoria _contigue_ e _omogenee_:"
   ]
  },
  {
   "cell_type": "markdown",
   "id": "3e1d91af",
   "metadata": {
    "slideshow": {
     "slide_type": "-"
    }
   },
   "source": [
    "```python\n",
    "mat[0,0] = \"c\"\n",
    "```"
   ]
  },
  {
   "cell_type": "markdown",
   "id": "fc62c85f",
   "metadata": {
    "slideshow": {
     "slide_type": "fragment"
    }
   },
   "source": [
    "```python\n",
    "---------------------------------------------------------------------------\n",
    "ValueError                                Traceback (most recent call last)\n",
    "/tmp/ipykernel_45876/3318513095.py in <module>\n",
    "----> 1 mat[0,0] = \"c\"\n",
    "\n",
    "ValueError: could not convert string to float: 'c'\n",
    "```"
   ]
  },
  {
   "cell_type": "markdown",
   "id": "c81d8d91",
   "metadata": {
    "slideshow": {
     "slide_type": "slide"
    }
   },
   "source": [
    "## Slice"
   ]
  },
  {
   "cell_type": "code",
   "execution_count": 13,
   "id": "df133203",
   "metadata": {
    "slideshow": {
     "slide_type": "-"
    }
   },
   "outputs": [],
   "source": [
    "mat = np.array( [ [5, 8, 1],\n",
    "                  [4, 3, 2],\n",
    "                  [6, 7, 9],\n",
    "                  [9, 3, 4],\n",
    "                  [8, 2, 7]])"
   ]
  },
  {
   "cell_type": "markdown",
   "id": "eb600d1f",
   "metadata": {
    "slideshow": {
     "slide_type": "-"
    }
   },
   "source": [
    "Esempio:\n",
    "\n",
    "righe dalla `0` *inclusa* alla `4` *esclusa*\n",
    "\n",
    "colonne dalla `1` *inclusa*  alla `3` *esclusa*"
   ]
  },
  {
   "cell_type": "code",
   "execution_count": 14,
   "id": "9393f8b7",
   "metadata": {
    "slideshow": {
     "slide_type": "-"
    }
   },
   "outputs": [
    {
     "data": {
      "text/plain": [
       "array([[8, 1],\n",
       "       [3, 2],\n",
       "       [7, 9],\n",
       "       [3, 4]])"
      ]
     },
     "execution_count": 14,
     "metadata": {},
     "output_type": "execute_result"
    }
   ],
   "source": [
    "mat[0:4, 1:3]"
   ]
  },
  {
   "cell_type": "markdown",
   "id": "dbef7526",
   "metadata": {
    "slideshow": {
     "slide_type": "subslide"
    }
   },
   "source": [
    "### Slice - esempi lettura "
   ]
  },
  {
   "cell_type": "code",
   "execution_count": 15,
   "id": "42492bd7",
   "metadata": {
    "slideshow": {
     "slide_type": "-"
    }
   },
   "outputs": [],
   "source": [
    "mat = np.array( [ [5, 8, 1],\n",
    "                  [4, 3, 2],\n",
    "                  [6, 7, 9],\n",
    "                  [9, 3, 4]])"
   ]
  },
  {
   "cell_type": "code",
   "execution_count": 16,
   "id": "065ef08d",
   "metadata": {},
   "outputs": [
    {
     "data": {
      "text/plain": [
       "array([[5],\n",
       "       [4],\n",
       "       [6],\n",
       "       [9]])"
      ]
     },
     "execution_count": 16,
     "metadata": {},
     "output_type": "execute_result"
    }
   ],
   "source": [
    "mat[0:4, 0:1]  # tutta la prima colonna"
   ]
  },
  {
   "cell_type": "code",
   "execution_count": 17,
   "id": "4872f01e",
   "metadata": {
    "slideshow": {
     "slide_type": "fragment"
    }
   },
   "outputs": [
    {
     "data": {
      "text/plain": [
       "array([5, 4, 6, 9])"
      ]
     },
     "execution_count": 17,
     "metadata": {},
     "output_type": "execute_result"
    }
   ],
   "source": [
    "mat[0:4, 0]  # ATTENZIONE: senza slice ritorna un vettore, non una matrice"
   ]
  },
  {
   "cell_type": "code",
   "execution_count": 18,
   "id": "5351e4da",
   "metadata": {
    "slideshow": {
     "slide_type": "fragment"
    }
   },
   "outputs": [
    {
     "data": {
      "text/plain": [
       "array([[5, 8, 1]])"
      ]
     },
     "execution_count": 18,
     "metadata": {},
     "output_type": "execute_result"
    }
   ],
   "source": [
    "mat[0:1,:]   # tutta la prima riga"
   ]
  },
  {
   "cell_type": "markdown",
   "id": "d07f1e6e",
   "metadata": {
    "slideshow": {
     "slide_type": "fragment"
    }
   },
   "source": [
    "**DOMANDA**: questo cosa produce? Qual'è la differenza con sopra? &nbsp; &nbsp; `mat[0,:]`    "
   ]
  },
  {
   "cell_type": "markdown",
   "id": "2240e4ce",
   "metadata": {
    "slideshow": {
     "slide_type": "subslide"
    }
   },
   "source": [
    "### Slice - passo\n",
    "\n"
   ]
  },
  {
   "cell_type": "code",
   "execution_count": 19,
   "id": "0d7c2de0",
   "metadata": {},
   "outputs": [
    {
     "data": {
      "text/plain": [
       "array([[5, 8, 1],\n",
       "       [6, 7, 9],\n",
       "       [8, 2, 7]])"
      ]
     },
     "execution_count": 19,
     "metadata": {},
     "output_type": "execute_result"
    }
   ],
   "source": [
    "mat = np.array( [ [5, 8, 1],\n",
    "                  [4, 3, 2],\n",
    "                  [6, 7, 9],\n",
    "                  [9, 3, 4],\n",
    "                  [8, 2, 7]])\n",
    "\n",
    "mat[0:5:2, :]  # prende righe alternate "
   ]
  },
  {
   "cell_type": "markdown",
   "id": "b7834f08",
   "metadata": {
    "slideshow": {
     "slide_type": "subslide"
    }
   },
   "source": [
    "### Slice - scrittura 1/2"
   ]
  },
  {
   "cell_type": "code",
   "execution_count": 20,
   "id": "994bb6a1",
   "metadata": {
    "slideshow": {
     "slide_type": "-"
    }
   },
   "outputs": [],
   "source": [
    "mat = np.array( [ [5, 8, 1],\n",
    "                  [4, 3, 2],\n",
    "                  [6, 7, 9] ])"
   ]
  },
  {
   "cell_type": "code",
   "execution_count": 21,
   "id": "3214670a",
   "metadata": {
    "slideshow": {
     "slide_type": "-"
    }
   },
   "outputs": [],
   "source": [
    "sotto_mat = mat[0:2, 1:3]"
   ]
  },
  {
   "cell_type": "code",
   "execution_count": 22,
   "id": "f1befa9a",
   "metadata": {
    "slideshow": {
     "slide_type": "-"
    }
   },
   "outputs": [
    {
     "data": {
      "text/plain": [
       "array([[8, 1],\n",
       "       [3, 2]])"
      ]
     },
     "execution_count": 22,
     "metadata": {},
     "output_type": "execute_result"
    }
   ],
   "source": [
    "sotto_mat"
   ]
  },
  {
   "cell_type": "markdown",
   "id": "f1f250cd",
   "metadata": {
    "slideshow": {
     "slide_type": "subslide"
    }
   },
   "source": [
    "### Slice - scrittura 2/2"
   ]
  },
  {
   "cell_type": "code",
   "execution_count": 23,
   "id": "20a7645a",
   "metadata": {
    "slideshow": {
     "slide_type": "-"
    }
   },
   "outputs": [],
   "source": [
    "sotto_mat[0,0] = 999"
   ]
  },
  {
   "cell_type": "code",
   "execution_count": 24,
   "id": "422ad7de",
   "metadata": {
    "slideshow": {
     "slide_type": "-"
    }
   },
   "outputs": [
    {
     "data": {
      "text/plain": [
       "array([[999,   1],\n",
       "       [  3,   2]])"
      ]
     },
     "execution_count": 24,
     "metadata": {},
     "output_type": "execute_result"
    }
   ],
   "source": [
    "sotto_mat"
   ]
  },
  {
   "cell_type": "code",
   "execution_count": 25,
   "id": "211fc567",
   "metadata": {
    "slideshow": {
     "slide_type": "fragment"
    }
   },
   "outputs": [
    {
     "data": {
      "text/plain": [
       "array([[  5, 999,   1],\n",
       "       [  4,   3,   2],\n",
       "       [  6,   7,   9]])"
      ]
     },
     "execution_count": 25,
     "metadata": {},
     "output_type": "execute_result"
    }
   ],
   "source": [
    "mat"
   ]
  },
  {
   "cell_type": "markdown",
   "id": "46492072",
   "metadata": {
    "slideshow": {
     "slide_type": "-"
    }
   },
   "source": [
    "<div class=\"alert alert-warning\">\n",
    "    \n",
    "**ATTENZIONE: modifica slice di numpy -> modifica anche la matrice originale!**\n",
    "</div>"
   ]
  },
  {
   "cell_type": "markdown",
   "id": "5e802a1f",
   "metadata": {
    "slideshow": {
     "slide_type": "subslide"
    }
   },
   "source": [
    "### Slice: scrivere una costante"
   ]
  },
  {
   "cell_type": "code",
   "execution_count": 26,
   "id": "07b82ffd",
   "metadata": {
    "slideshow": {
     "slide_type": "-"
    }
   },
   "outputs": [
    {
     "data": {
      "text/plain": [
       "array([[5, 7, 7],\n",
       "       [4, 7, 7],\n",
       "       [6, 7, 7],\n",
       "       [9, 7, 7],\n",
       "       [8, 2, 5]])"
      ]
     },
     "execution_count": 26,
     "metadata": {},
     "output_type": "execute_result"
    }
   ],
   "source": [
    "mat = np.array( [ [5, 8, 1],\n",
    "                  [4, 3, 2],\n",
    "                  [6, 7, 9],\n",
    "                  [9, 3, 4],\n",
    "                  [8, 2, 5]])\n",
    "\n",
    "mat[0:4, 1:3]  = 7\n",
    "\n",
    "mat"
   ]
  },
  {
   "cell_type": "markdown",
   "id": "b9ca20aa",
   "metadata": {
    "slideshow": {
     "slide_type": "subslide"
    }
   },
   "source": [
    "## Slices: Scrivere una matrice\n",
    "\n",
    "<div class=\"alert alert-warning\">\n",
    "\n",
    "**ATTENZIONE**: le dimensioni della slice e della matrice a destra devono coincidere!\n",
    "    \n",
    "</div>"
   ]
  },
  {
   "cell_type": "code",
   "execution_count": 27,
   "id": "242d4404",
   "metadata": {
    "slideshow": {
     "slide_type": "-"
    }
   },
   "outputs": [
    {
     "data": {
      "text/plain": [
       "array([[ 5, 10, 50],\n",
       "       [ 4, 11, 51],\n",
       "       [ 6, 12, 52],\n",
       "       [ 9, 13, 53],\n",
       "       [ 8,  2,  5]])"
      ]
     },
     "execution_count": 27,
     "metadata": {},
     "output_type": "execute_result"
    }
   ],
   "source": [
    "\n",
    "mat = np.array( [ [5, 8, 1],\n",
    "                  [4, 3, 2],\n",
    "                  [6, 7, 9],\n",
    "                  [9, 3, 4],\n",
    "                  [8, 2, 5]])\n",
    "\n",
    "mat[0:4, 1:3]  = np.array([\n",
    "                            [10,50],\n",
    "                            [11,51],\n",
    "                            [12,52],\n",
    "                            [13,53],\n",
    "                        ])\n",
    "\n",
    "mat"
   ]
  },
  {
   "cell_type": "markdown",
   "id": "0daa8067",
   "metadata": {
    "slideshow": {
     "slide_type": "slide"
    }
   },
   "source": [
    "## Assegnazione e copia\n",
    "\n",
    "Gli array di numpy sono _mutabili_:"
   ]
  },
  {
   "cell_type": "code",
   "execution_count": 28,
   "id": "c25ea522",
   "metadata": {
    "slideshow": {
     "slide_type": "-"
    }
   },
   "outputs": [],
   "source": [
    "va = np.array([1,2,3])"
   ]
  },
  {
   "cell_type": "code",
   "execution_count": 29,
   "id": "bcfe9e61",
   "metadata": {
    "slideshow": {
     "slide_type": "-"
    }
   },
   "outputs": [],
   "source": [
    "vb = va"
   ]
  },
  {
   "cell_type": "code",
   "execution_count": 30,
   "id": "45664a46",
   "metadata": {
    "slideshow": {
     "slide_type": "-"
    }
   },
   "outputs": [],
   "source": [
    "vb[0] = 100"
   ]
  },
  {
   "cell_type": "code",
   "execution_count": 31,
   "id": "c06c4420",
   "metadata": {
    "slideshow": {
     "slide_type": "fragment"
    }
   },
   "outputs": [
    {
     "data": {
      "text/plain": [
       "array([100,   2,   3])"
      ]
     },
     "execution_count": 31,
     "metadata": {},
     "output_type": "execute_result"
    }
   ],
   "source": [
    "vb"
   ]
  },
  {
   "cell_type": "code",
   "execution_count": 32,
   "id": "605fddda",
   "metadata": {
    "slideshow": {
     "slide_type": "fragment"
    }
   },
   "outputs": [
    {
     "data": {
      "text/plain": [
       "array([100,   2,   3])"
      ]
     },
     "execution_count": 32,
     "metadata": {},
     "output_type": "execute_result"
    }
   ],
   "source": [
    "va"
   ]
  },
  {
   "cell_type": "markdown",
   "id": "6cc70eee",
   "metadata": {
    "slideshow": {
     "slide_type": "subslide"
    }
   },
   "source": [
    "### Copia"
   ]
  },
  {
   "cell_type": "code",
   "execution_count": 33,
   "id": "6d10dd2c",
   "metadata": {
    "slideshow": {
     "slide_type": "-"
    }
   },
   "outputs": [],
   "source": [
    "ma = np.array([[1,2,3],\n",
    "               [4,5,6]])"
   ]
  },
  {
   "cell_type": "code",
   "execution_count": 34,
   "id": "b07ceb8d",
   "metadata": {
    "slideshow": {
     "slide_type": "-"
    }
   },
   "outputs": [],
   "source": [
    "mc = ma.copy()"
   ]
  },
  {
   "cell_type": "code",
   "execution_count": 35,
   "id": "f7404c77",
   "metadata": {
    "slideshow": {
     "slide_type": "-"
    }
   },
   "outputs": [
    {
     "data": {
      "text/plain": [
       "array([[1, 2, 3],\n",
       "       [4, 5, 6]])"
      ]
     },
     "execution_count": 35,
     "metadata": {},
     "output_type": "execute_result"
    }
   ],
   "source": [
    "mc"
   ]
  },
  {
   "cell_type": "code",
   "execution_count": 36,
   "id": "ebb20d87",
   "metadata": {
    "slideshow": {
     "slide_type": "-"
    }
   },
   "outputs": [],
   "source": [
    "mc[0][0] = 100"
   ]
  },
  {
   "cell_type": "code",
   "execution_count": 37,
   "id": "c77e1aa0",
   "metadata": {
    "slideshow": {
     "slide_type": "fragment"
    }
   },
   "outputs": [
    {
     "data": {
      "text/plain": [
       "array([[100,   2,   3],\n",
       "       [  4,   5,   6]])"
      ]
     },
     "execution_count": 37,
     "metadata": {},
     "output_type": "execute_result"
    }
   ],
   "source": [
    "mc"
   ]
  },
  {
   "cell_type": "code",
   "execution_count": 38,
   "id": "1f2de56e",
   "metadata": {
    "slideshow": {
     "slide_type": "fragment"
    }
   },
   "outputs": [
    {
     "data": {
      "text/plain": [
       "array([[1, 2, 3],\n",
       "       [4, 5, 6]])"
      ]
     },
     "execution_count": 38,
     "metadata": {},
     "output_type": "execute_result"
    }
   ],
   "source": [
    "ma"
   ]
  },
  {
   "cell_type": "markdown",
   "id": "7ed75234",
   "metadata": {
    "slideshow": {
     "slide_type": "slide"
    }
   },
   "source": [
    "## Calcoli"
   ]
  },
  {
   "cell_type": "code",
   "execution_count": 39,
   "id": "3a75fda3",
   "metadata": {
    "slideshow": {
     "slide_type": "-"
    }
   },
   "outputs": [],
   "source": [
    "va = np.array([10,20,30])"
   ]
  },
  {
   "cell_type": "code",
   "execution_count": 40,
   "id": "f3671bb8",
   "metadata": {
    "slideshow": {
     "slide_type": "-"
    }
   },
   "outputs": [],
   "source": [
    "vb = np.array([1,2,3])"
   ]
  },
  {
   "cell_type": "markdown",
   "id": "d6e5b9f6",
   "metadata": {
    "slideshow": {
     "slide_type": "-"
    }
   },
   "source": [
    "\n",
    "operazioni algebriche creano un NUOVO array:"
   ]
  },
  {
   "cell_type": "code",
   "execution_count": 41,
   "id": "1b1f973b",
   "metadata": {
    "slideshow": {
     "slide_type": "-"
    }
   },
   "outputs": [],
   "source": [
    "vc = va + vb"
   ]
  },
  {
   "cell_type": "code",
   "execution_count": 42,
   "id": "68b243c5",
   "metadata": {
    "slideshow": {
     "slide_type": "fragment"
    }
   },
   "outputs": [
    {
     "data": {
      "text/plain": [
       "array([11, 22, 33])"
      ]
     },
     "execution_count": 42,
     "metadata": {},
     "output_type": "execute_result"
    }
   ],
   "source": [
    "vc"
   ]
  },
  {
   "cell_type": "code",
   "execution_count": 43,
   "id": "ad20ba03",
   "metadata": {
    "slideshow": {
     "slide_type": "fragment"
    }
   },
   "outputs": [
    {
     "data": {
      "text/plain": [
       "array([10, 20, 30])"
      ]
     },
     "execution_count": 43,
     "metadata": {},
     "output_type": "execute_result"
    }
   ],
   "source": [
    "va"
   ]
  },
  {
   "cell_type": "markdown",
   "id": "d4587ed9",
   "metadata": {
    "slideshow": {
     "slide_type": "subslide"
    }
   },
   "source": [
    "### Moltiplicazione per uno scalare"
   ]
  },
  {
   "cell_type": "code",
   "execution_count": 44,
   "id": "1df2a7bc",
   "metadata": {
    "slideshow": {
     "slide_type": "-"
    }
   },
   "outputs": [],
   "source": [
    "m = np.array([[5, 9, 7],\n",
    "              [6, 8, 0]])"
   ]
  },
  {
   "cell_type": "code",
   "execution_count": 45,
   "id": "ffd960c9",
   "metadata": {
    "slideshow": {
     "slide_type": "-"
    }
   },
   "outputs": [
    {
     "data": {
      "text/plain": [
       "array([[15, 27, 21],\n",
       "       [18, 24,  0]])"
      ]
     },
     "execution_count": 45,
     "metadata": {},
     "output_type": "execute_result"
    }
   ],
   "source": [
    "m * 3"
   ]
  },
  {
   "cell_type": "code",
   "execution_count": 46,
   "id": "22a05212",
   "metadata": {
    "slideshow": {
     "slide_type": "-"
    }
   },
   "outputs": [
    {
     "data": {
      "text/plain": [
       "array([[ 8, 12, 10],\n",
       "       [ 9, 11,  3]])"
      ]
     },
     "execution_count": 46,
     "metadata": {},
     "output_type": "execute_result"
    }
   ],
   "source": [
    "m + 3"
   ]
  },
  {
   "cell_type": "markdown",
   "id": "237b6a39",
   "metadata": {
    "slideshow": {
     "slide_type": "subslide"
    }
   },
   "source": [
    "### Moltiplicazione con `*`\n",
    "\n",
    "<div class=\"alert alert-warning\">\n",
    "\n",
    "**ATTENZIONE**: `*` in numpy moltiplica _elemento per elemento_!\n",
    "    \n",
    "Richiede quindi matrici di dimensioni identiche:\n",
    "\n",
    "</div>"
   ]
  },
  {
   "cell_type": "code",
   "execution_count": 47,
   "id": "76293541",
   "metadata": {
    "slideshow": {
     "slide_type": "-"
    }
   },
   "outputs": [
    {
     "data": {
      "text/plain": [
       "array([[  1,   0,   3],\n",
       "       [ 40, 100, 180]])"
      ]
     },
     "execution_count": 47,
     "metadata": {},
     "output_type": "execute_result"
    }
   ],
   "source": [
    "ma = np.array([[1,  2,  3],\n",
    "               [10, 20, 30]])\n",
    "\n",
    "mb = np.array([[1,  0,  1],\n",
    "               [4,  5,  6]])\n",
    "\n",
    "ma * mb"
   ]
  },
  {
   "cell_type": "markdown",
   "id": "528ea7de",
   "metadata": {
    "slideshow": {
     "slide_type": "subslide"
    }
   },
   "source": [
    "### Moltiplicazione [righe per colonne](https://it.wikipedia.org/wiki/Moltiplicazione_di_matrici) con `@` \n",
    "\n",
    "- attenzione ad avere matrici di dimensioni compatibili:"
   ]
  },
  {
   "cell_type": "code",
   "execution_count": 48,
   "id": "bc7a2f2c",
   "metadata": {
    "slideshow": {
     "slide_type": "-"
    }
   },
   "outputs": [
    {
     "data": {
      "text/plain": [
       "array([[  4,  32],\n",
       "       [ 40, 320]])"
      ]
     },
     "execution_count": 48,
     "metadata": {},
     "output_type": "execute_result"
    }
   ],
   "source": [
    "mc = np.array([[1,  2,  3],\n",
    "               [10, 20, 30]])\n",
    "md = np.array([[1, 4],\n",
    "               [0, 5],\n",
    "               [1, 6]])\n",
    "\n",
    "mc @ md"
   ]
  },
  {
   "cell_type": "markdown",
   "id": "2d117ce1",
   "metadata": {
    "slideshow": {
     "slide_type": "subslide"
    }
   },
   "source": [
    "### Divisione per uno scalare"
   ]
  },
  {
   "cell_type": "code",
   "execution_count": 49,
   "id": "550de0da",
   "metadata": {
    "slideshow": {
     "slide_type": "-"
    }
   },
   "outputs": [
    {
     "data": {
      "text/plain": [
       "array([[0.25, 0.5 , 0.  ],\n",
       "       [2.5 , 0.  , 7.5 ]])"
      ]
     },
     "execution_count": 49,
     "metadata": {},
     "output_type": "execute_result"
    }
   ],
   "source": [
    "ma = np.array([[1,  2,  0.0],\n",
    "               [10, 0.0, 30]])\n",
    "ma / 4"
   ]
  },
  {
   "cell_type": "markdown",
   "id": "98418e27",
   "metadata": {
    "slideshow": {
     "slide_type": "fragment"
    }
   },
   "source": [
    "Attenzione a divisione per `0.0`"
   ]
  },
  {
   "cell_type": "markdown",
   "id": "c95eff67",
   "metadata": {
    "slideshow": {
     "slide_type": "-"
    }
   },
   "source": [
    "```python\n",
    "print(ma / 0.0)\n",
    "print(\"DOPO\")\n",
    "```"
   ]
  },
  {
   "cell_type": "code",
   "execution_count": 50,
   "id": "f5931922",
   "metadata": {
    "slideshow": {
     "slide_type": "fragment"
    }
   },
   "outputs": [
    {
     "name": "stdout",
     "output_type": "stream",
     "text": [
      "[[inf inf nan]\n",
      " [inf nan inf]]\n",
      "DOPO\n"
     ]
    }
   ],
   "source": [
    "#jupman-purge-input\n",
    "print(ma / 0.0)\n",
    "print(\"DOPO\")"
   ]
  },
  {
   "cell_type": "markdown",
   "id": "35c9b7c0",
   "metadata": {
    "slideshow": {
     "slide_type": "-"
    }
   },
   "source": [
    "<div class=\"alert alert-warning\">\n",
    "stdin:1: RuntimeWarning: divide by zero encountered in true_divide       \n",
    "</div>"
   ]
  },
  {
   "cell_type": "markdown",
   "id": "df7d169a",
   "metadata": {
    "slideshow": {
     "slide_type": "fragment"
    }
   },
   "source": [
    "\n",
    "- l’esecuzione del programma **prosegue comunque** + STAMPA warning extra"
   ]
  },
  {
   "cell_type": "markdown",
   "id": "a0e4f2bf",
   "metadata": {
    "slideshow": {
     "slide_type": "fragment"
    }
   },
   "source": [
    "- quei `nan` e `inf` [possono causare problemi](https://it.softpython.org/matrices-numpy/matrices-numpy1-sol.html#NaN-e-infinit%C3%A0)"
   ]
  },
  {
   "cell_type": "markdown",
   "id": "bd9caf5b",
   "metadata": {
    "slideshow": {
     "slide_type": "slide"
    }
   },
   "source": [
    "## Aggregazione\n",
    "\n",
    "Esempi funzioni che iniziano con `np.`:"
   ]
  },
  {
   "cell_type": "code",
   "execution_count": 51,
   "id": "fc69c107",
   "metadata": {
    "slideshow": {
     "slide_type": "-"
    }
   },
   "outputs": [],
   "source": [
    "m = np.array([[5, 4, 6],\n",
    "              [3, 7, 1]])"
   ]
  },
  {
   "cell_type": "code",
   "execution_count": 52,
   "id": "6ee0fb36",
   "metadata": {
    "slideshow": {
     "slide_type": "-"
    }
   },
   "outputs": [
    {
     "data": {
      "text/plain": [
       "26"
      ]
     },
     "execution_count": 52,
     "metadata": {},
     "output_type": "execute_result"
    }
   ],
   "source": [
    "np.sum(m)"
   ]
  },
  {
   "cell_type": "code",
   "execution_count": 53,
   "id": "d4f41ac0",
   "metadata": {
    "slideshow": {
     "slide_type": "fragment"
    }
   },
   "outputs": [
    {
     "data": {
      "text/plain": [
       "7"
      ]
     },
     "execution_count": 53,
     "metadata": {},
     "output_type": "execute_result"
    }
   ],
   "source": [
    "np.max(m)"
   ]
  },
  {
   "cell_type": "code",
   "execution_count": 54,
   "id": "867d8547",
   "metadata": {
    "slideshow": {
     "slide_type": "fragment"
    }
   },
   "outputs": [
    {
     "data": {
      "text/plain": [
       "1"
      ]
     },
     "execution_count": 54,
     "metadata": {},
     "output_type": "execute_result"
    }
   ],
   "source": [
    "np.min(m)"
   ]
  },
  {
   "cell_type": "markdown",
   "id": "907e9e35",
   "metadata": {
    "slideshow": {
     "slide_type": "subslide"
    }
   },
   "source": [
    "### Aggregazione su riga o colonna\n",
    "\n",
    "parametro `axis`: aggregazione colonna o riga:"
   ]
  },
  {
   "cell_type": "code",
   "execution_count": 55,
   "id": "b9ea19f8",
   "metadata": {
    "slideshow": {
     "slide_type": "-"
    }
   },
   "outputs": [],
   "source": [
    "m = np.array([[5, 4, 6],\n",
    "              [3, 7, 1]])"
   ]
  },
  {
   "cell_type": "code",
   "execution_count": 56,
   "id": "f1f6adbc",
   "metadata": {
    "slideshow": {
     "slide_type": "-"
    }
   },
   "outputs": [
    {
     "data": {
      "text/plain": [
       "array([ 8, 11,  7])"
      ]
     },
     "execution_count": 56,
     "metadata": {},
     "output_type": "execute_result"
    }
   ],
   "source": [
    "np.sum(m, axis=0)   # somma ogni colonna"
   ]
  },
  {
   "cell_type": "code",
   "execution_count": 57,
   "id": "73a957e9",
   "metadata": {
    "slideshow": {
     "slide_type": "fragment"
    }
   },
   "outputs": [
    {
     "data": {
      "text/plain": [
       "array([15, 11])"
      ]
     },
     "execution_count": 57,
     "metadata": {},
     "output_type": "execute_result"
    }
   ],
   "source": [
    "np.sum(m, axis=1)   # somma ogni riga"
   ]
  },
  {
   "cell_type": "markdown",
   "id": "f1dfb074",
   "metadata": {
    "slideshow": {
     "slide_type": "slide"
    }
   },
   "source": [
    "## Filtrare"
   ]
  },
  {
   "cell_type": "code",
   "execution_count": 58,
   "id": "5c5f00b6",
   "metadata": {
    "slideshow": {
     "slide_type": "-"
    }
   },
   "outputs": [],
   "source": [
    "mat = np.array([[5, 2, 6],\n",
    "                [1, 4, 3]])\n"
   ]
  },
  {
   "cell_type": "code",
   "execution_count": 59,
   "id": "15dc1bab",
   "metadata": {
    "slideshow": {
     "slide_type": "-"
    }
   },
   "outputs": [
    {
     "data": {
      "text/plain": [
       "array([5, 6, 4, 3])"
      ]
     },
     "execution_count": 59,
     "metadata": {},
     "output_type": "execute_result"
    }
   ],
   "source": [
    "mat[ mat > 2 ]"
   ]
  },
  {
   "cell_type": "code",
   "execution_count": 60,
   "id": "6b737084",
   "metadata": {
    "slideshow": {
     "slide_type": "fragment"
    }
   },
   "outputs": [
    {
     "data": {
      "text/plain": [
       "array([[ True, False,  True],\n",
       "       [False,  True,  True]])"
      ]
     },
     "execution_count": 60,
     "metadata": {},
     "output_type": "execute_result"
    }
   ],
   "source": [
    "mat > 2    # matrice di booleani"
   ]
  },
  {
   "cell_type": "markdown",
   "id": "7c2a6566",
   "metadata": {
    "slideshow": {
     "slide_type": "fragment"
    }
   },
   "source": [
    "messa dentro `mat[   ]`  funge da filtro:"
   ]
  },
  {
   "cell_type": "code",
   "execution_count": 61,
   "id": "816cc0cb",
   "metadata": {
    "slideshow": {
     "slide_type": "-"
    }
   },
   "outputs": [
    {
     "data": {
      "text/plain": [
       "array([5, 6, 4, 3])"
      ]
     },
     "execution_count": 61,
     "metadata": {},
     "output_type": "execute_result"
    }
   ],
   "source": [
    "mat[ mat > 2 ]    "
   ]
  },
  {
   "cell_type": "markdown",
   "id": "5ff19544",
   "metadata": {
    "slideshow": {
     "slide_type": "subslide"
    }
   },
   "source": [
    "### Filtrare: espressioni 'booleane'"
   ]
  },
  {
   "cell_type": "code",
   "execution_count": 62,
   "id": "9a48b2da",
   "metadata": {
    "slideshow": {
     "slide_type": "-"
    }
   },
   "outputs": [],
   "source": [
    "mat = np.array([[5, 2, 6],\n",
    "                [1, 4, 3]])"
   ]
  },
  {
   "cell_type": "code",
   "execution_count": 63,
   "id": "b82361de",
   "metadata": {
    "slideshow": {
     "slide_type": "-"
    }
   },
   "outputs": [
    {
     "data": {
      "text/plain": [
       "array([5, 4])"
      ]
     },
     "execution_count": 63,
     "metadata": {},
     "output_type": "execute_result"
    }
   ],
   "source": [
    "mat[  (mat > 3) & (mat < 6)  ]"
   ]
  },
  {
   "cell_type": "code",
   "execution_count": 64,
   "id": "c85f1753",
   "metadata": {
    "slideshow": {
     "slide_type": "fragment"
    }
   },
   "outputs": [
    {
     "data": {
      "text/plain": [
       "array([5, 6, 1])"
      ]
     },
     "execution_count": 64,
     "metadata": {},
     "output_type": "execute_result"
    }
   ],
   "source": [
    "mat[  (mat < 2) | (mat > 4)  ]"
   ]
  },
  {
   "cell_type": "markdown",
   "id": "e9b959f7",
   "metadata": {
    "slideshow": {
     "slide_type": "fragment"
    }
   },
   "source": [
    "<div class=\"alert alert-warning\">\n",
    "\n",
    "**ATTENZIONE: RICORDATI LE PARENTESI TONDE TRA LE VARIE ESPRESSIONI!**\n",
    "</div>    "
   ]
  },
  {
   "cell_type": "markdown",
   "id": "ac92563e",
   "metadata": {
    "slideshow": {
     "slide_type": "-"
    }
   },
   "source": [
    "prova a ometterle, che succede?"
   ]
  },
  {
   "cell_type": "markdown",
   "id": "10004bd8",
   "metadata": {
    "slideshow": {
     "slide_type": "fragment"
    }
   },
   "source": [
    "<div class=\"alert alert-warning\"> \n",
    "    \n",
    "**ATTENZIONE:** `and` **E** `or` **NON FUNZIONANO!** \n",
    "\n",
    "</div>"
   ]
  },
  {
   "cell_type": "markdown",
   "id": "309e5947",
   "metadata": {
    "slideshow": {
     "slide_type": "-"
    }
   },
   "source": [
    "prova a usarli, che succede?"
   ]
  },
  {
   "cell_type": "markdown",
   "id": "380d0fb6",
   "metadata": {
    "slideshow": {
     "slide_type": "slide"
    }
   },
   "source": [
    "## Sequenza `np.arange`"
   ]
  },
  {
   "cell_type": "markdown",
   "id": "44aa54bb",
   "metadata": {
    "slideshow": {
     "slide_type": "-"
    }
   },
   "source": [
    "La funzione standard `range` Python **non** permette incrementi con la virgola"
   ]
  },
  {
   "cell_type": "markdown",
   "id": "e7ffa49b",
   "metadata": {
    "slideshow": {
     "slide_type": "-"
    }
   },
   "source": [
    "* Prova a scrive `range(3.2)`, che succede?"
   ]
  },
  {
   "cell_type": "markdown",
   "id": "84285f61",
   "metadata": {
    "slideshow": {
     "slide_type": "fragment"
    }
   },
   "source": [
    "Usiamo invece `np.arange`, specificando:\n",
    "\n",
    "1. limite sinistro, INCLUSO\n",
    "2. destro, ESCLUSO\n",
    "3. incremento"
   ]
  },
  {
   "cell_type": "code",
   "execution_count": 65,
   "id": "b2f42290",
   "metadata": {
    "slideshow": {
     "slide_type": "-"
    }
   },
   "outputs": [
    {
     "data": {
      "text/plain": [
       "array([0. , 0.2, 0.4, 0.6, 0.8])"
      ]
     },
     "execution_count": 65,
     "metadata": {},
     "output_type": "execute_result"
    }
   ],
   "source": [
    "np.arange(0.0, 1.0, 0.2)"
   ]
  },
  {
   "cell_type": "markdown",
   "id": "8a1e4ee2",
   "metadata": {
    "slideshow": {
     "slide_type": "slide"
    }
   },
   "source": [
    " ### Sequenza  `np.linspace`"
   ]
  },
  {
   "cell_type": "markdown",
   "id": "bdcb725a",
   "metadata": {
    "slideshow": {
     "slide_type": "-"
    }
   },
   "source": [
    "Alternativamente, possiamo usare `np.linspace`, specificando:\n",
    "\n",
    "1. limite sinistro, INCLUSO\n",
    "2. limite destro, **questa volta INCLUSO**\n",
    "3. numero di ripartizioni in cui suddividere questo spazio"
   ]
  },
  {
   "cell_type": "code",
   "execution_count": 66,
   "id": "0d8c33b3",
   "metadata": {
    "slideshow": {
     "slide_type": "-"
    }
   },
   "outputs": [
    {
     "data": {
      "text/plain": [
       "array([0. , 0.2, 0.4, 0.6, 0.8])"
      ]
     },
     "execution_count": 66,
     "metadata": {},
     "output_type": "execute_result"
    }
   ],
   "source": [
    "np.linspace(0, 0.8, 5)"
   ]
  },
  {
   "cell_type": "code",
   "execution_count": 67,
   "id": "19e44969",
   "metadata": {
    "slideshow": {
     "slide_type": "fragment"
    }
   },
   "outputs": [
    {
     "data": {
      "text/plain": [
       "array([0.        , 0.08888889, 0.17777778, 0.26666667, 0.35555556,\n",
       "       0.44444444, 0.53333333, 0.62222222, 0.71111111, 0.8       ])"
      ]
     },
     "execution_count": 67,
     "metadata": {},
     "output_type": "execute_result"
    }
   ],
   "source": [
    "np.linspace(0, 0.8, 10)"
   ]
  },
  {
   "cell_type": "markdown",
   "id": "742fceec",
   "metadata": {
    "slideshow": {
     "slide_type": "slide"
    }
   },
   "source": [
    "## NaN e infinità\n",
    "\n",
    "I numeri `float` possono essere:\n",
    "\n",
    "- numeri\n",
    "- 'non numeri'\n",
    "- ..e anche infinità "
   ]
  },
  {
   "cell_type": "markdown",
   "id": "641033c9",
   "metadata": {
    "slideshow": {
     "slide_type": "fragment"
    }
   },
   "source": [
    "A volte durante i calcoli accadono condizioni estreme, esempio:"
   ]
  },
  {
   "cell_type": "code",
   "execution_count": 68,
   "id": "1e0db0fb",
   "metadata": {},
   "outputs": [
    {
     "data": {
      "text/plain": [
       "inf"
      ]
     },
     "execution_count": 68,
     "metadata": {},
     "output_type": "execute_result"
    }
   ],
   "source": [
    "10e99999999999999999999999"
   ]
  },
  {
   "cell_type": "code",
   "execution_count": 69,
   "id": "9f69fa54",
   "metadata": {},
   "outputs": [
    {
     "data": {
      "text/plain": [
       "nan"
      ]
     },
     "execution_count": 69,
     "metadata": {},
     "output_type": "execute_result"
    }
   ],
   "source": [
    "10e99999999999999999999999 / 10e99999999999999999999999"
   ]
  },
  {
   "cell_type": "markdown",
   "id": "25e344ae",
   "metadata": {
    "slideshow": {
     "slide_type": "fragment"
    }
   },
   "source": [
    "Numpy adotta [lo standard IEEE 754](https://it.wikipedia.org/wiki/IEEE_754) per l’Aritmetica in virgola mobile binaria\n",
    "\n",
    "- implementato in tutti i processori ( CPU )\n",
    "- vale per **tutti** i linguaggi di programmazione"
   ]
  },
  {
   "cell_type": "markdown",
   "id": "1f4809e8",
   "metadata": {
    "slideshow": {
     "slide_type": "subslide"
    }
   },
   "source": [
    "### NaN\n",
    "\n",
    "NaN: Not a Number"
   ]
  },
  {
   "cell_type": "code",
   "execution_count": 70,
   "id": "3c4e0935",
   "metadata": {},
   "outputs": [
    {
     "data": {
      "text/plain": [
       "nan"
      ]
     },
     "execution_count": 70,
     "metadata": {},
     "output_type": "execute_result"
    }
   ],
   "source": [
    "import math\n",
    "\n",
    "math.nan"
   ]
  },
  {
   "cell_type": "code",
   "execution_count": 71,
   "id": "fdbed229",
   "metadata": {},
   "outputs": [
    {
     "data": {
      "text/plain": [
       "float"
      ]
     },
     "execution_count": 71,
     "metadata": {},
     "output_type": "execute_result"
    }
   ],
   "source": [
    "type(math.nan)"
   ]
  },
  {
   "cell_type": "markdown",
   "id": "36075566",
   "metadata": {
    "slideshow": {
     "slide_type": "skip"
    }
   },
   "source": [
    "...è un gran bischero:"
   ]
  },
  {
   "cell_type": "markdown",
   "id": "72489880",
   "metadata": {
    "slideshow": {
     "slide_type": "-"
    }
   },
   "source": [
    "```python\n",
    "math.nan == math.nan    # che fa?\n",
    "```"
   ]
  },
  {
   "cell_type": "markdown",
   "id": "af8ab2a2",
   "metadata": {
    "slideshow": {
     "slide_type": "fragment"
    }
   },
   "source": [
    "```python\n",
    "False\n",
    "```"
   ]
  },
  {
   "cell_type": "markdown",
   "id": "3419a69a",
   "metadata": {
    "slideshow": {
     "slide_type": "fragment"
    }
   },
   "source": [
    "<div class=\"alert alert-warning\"> \n",
    "    \n",
    "**NaN** ***NON*** **E’ UGUALE A SE’ STESSO !!!**\n",
    "    \n",
    "</div>"
   ]
  },
  {
   "cell_type": "markdown",
   "id": "d10f9212",
   "metadata": {
    "slideshow": {
     "slide_type": "subslide"
    }
   },
   "source": [
    "### Rilevare i NaN\n",
    "\n",
    "Per vedere se `numero` è un `NaN`, **non** puoi scrivere così:"
   ]
  },
  {
   "cell_type": "code",
   "execution_count": 72,
   "id": "44fdcad1",
   "metadata": {
    "slideshow": {
     "slide_type": "-"
    }
   },
   "outputs": [
    {
     "name": "stdout",
     "output_type": "stream",
     "text": [
      "numero è qualcos'altro ??\n"
     ]
    }
   ],
   "source": [
    "import math\n",
    "\n",
    "numero = math.nan\n",
    "if numero == math.nan:  # SBAGLIATO\n",
    "    print(\"Sono un NaN \")\n",
    "else:\n",
    "    print(\"numero è qualcos'altro ??\")"
   ]
  },
  {
   "cell_type": "markdown",
   "id": "cd819d88",
   "metadata": {
    "slideshow": {
     "slide_type": "fragment"
    }
   },
   "source": [
    "Invece, usa la funzione `math.isnan`:"
   ]
  },
  {
   "cell_type": "code",
   "execution_count": 73,
   "id": "428b6dad",
   "metadata": {
    "slideshow": {
     "slide_type": "-"
    }
   },
   "outputs": [
    {
     "name": "stdout",
     "output_type": "stream",
     "text": [
      "Sono un NaN \n"
     ]
    }
   ],
   "source": [
    "import math\n",
    "numero = math.nan\n",
    "if math.isnan(numero):  # CORRETTO\n",
    "    print(\"Sono un NaN \")\n",
    "else:\n",
    "    print(\"numero è qualcos'altro ??\")"
   ]
  },
  {
   "cell_type": "markdown",
   "id": "dc9bec75",
   "metadata": {
    "slideshow": {
     "slide_type": "subslide"
    }
   },
   "source": [
    "### Numpy e i nan"
   ]
  },
  {
   "cell_type": "code",
   "execution_count": 74,
   "id": "2546fd9c",
   "metadata": {
    "slideshow": {
     "slide_type": "-"
    }
   },
   "outputs": [
    {
     "data": {
      "text/plain": [
       "nan"
      ]
     },
     "execution_count": 74,
     "metadata": {},
     "output_type": "execute_result"
    }
   ],
   "source": [
    "np.nan"
   ]
  },
  {
   "cell_type": "code",
   "execution_count": 75,
   "id": "7f144381",
   "metadata": {
    "slideshow": {
     "slide_type": "-"
    }
   },
   "outputs": [
    {
     "data": {
      "text/plain": [
       "inf"
      ]
     },
     "execution_count": 75,
     "metadata": {},
     "output_type": "execute_result"
    }
   ],
   "source": [
    "np.inf"
   ]
  },
  {
   "cell_type": "markdown",
   "id": "27aa9742",
   "metadata": {
    "slideshow": {
     "slide_type": "fragment"
    }
   },
   "source": [
    "**DOMANDA**: Che succede se chiamiamo `np.sum(malefico)` ?"
   ]
  },
  {
   "cell_type": "code",
   "execution_count": 76,
   "id": "6de0a310",
   "metadata": {
    "slideshow": {
     "slide_type": "-"
    }
   },
   "outputs": [],
   "source": [
    "malefico = np.array([1.0,2.0,np.nan, 3.0, np.nan])"
   ]
  },
  {
   "cell_type": "code",
   "execution_count": 77,
   "id": "1c3f0c41",
   "metadata": {
    "slideshow": {
     "slide_type": "fragment"
    }
   },
   "outputs": [
    {
     "data": {
      "text/plain": [
       "nan"
      ]
     },
     "execution_count": 77,
     "metadata": {},
     "output_type": "execute_result"
    }
   ],
   "source": [
    "np.sum(malefico)"
   ]
  },
  {
   "cell_type": "code",
   "execution_count": 78,
   "id": "3ea70bc1",
   "metadata": {
    "slideshow": {
     "slide_type": "fragment"
    }
   },
   "outputs": [
    {
     "data": {
      "text/plain": [
       "6.0"
      ]
     },
     "execution_count": 78,
     "metadata": {},
     "output_type": "execute_result"
    }
   ],
   "source": [
    "np.nansum(malefico) # Numpy spesso offre modi per ignorare i nan"
   ]
  },
  {
   "cell_type": "markdown",
   "id": "ce226001",
   "metadata": {
    "slideshow": {
     "slide_type": "slide"
    }
   },
   "source": [
    "## Esercizi\n",
    "\n",
    "\n",
    "### [SoftPython - numpy 2](https://it.softpython.org/matrices-numpy/matrices-numpy2-sol.html)\n",
    "\n",
    "diversi esercizi di solito con due soluzioni proposte: \n",
    "\n",
    "- una lenta coi `for`\n",
    "- una veloce senza cicli\n",
    "\n",
    "**Prima provate a risolvere senza cicli**, se non riuscite usate dei `for` o `while`\n",
    "\n",
    "(ai fini dell'esame non valuto le performance, mi basta che passi i test)\n",
    "\n",
    "### [Tutorial immagini](https://en.softpython.org/visualization/visualization-images-sol.html) (in inglese, opzionale) \n",
    "\n",
    "Un modo più interessante per imparare le matrici"
   ]
  },
  {
   "cell_type": "code",
   "execution_count": 79,
   "id": "f95e8943",
   "metadata": {},
   "outputs": [
    {
     "data": {
      "text/plain": [
       "''"
      ]
     },
     "execution_count": 79,
     "metadata": {},
     "output_type": "execute_result"
    }
   ],
   "source": [
    "#jupman-purge-io\n",
    "# scrivi qui\n",
    "''"
   ]
  }
 ],
 "metadata": {
  "celltoolbar": "Slideshow",
  "kernelspec": {
   "display_name": "Python 3 (ipykernel)",
   "language": "python",
   "name": "python3"
  },
  "language_info": {
   "codemirror_mode": {
    "name": "ipython",
    "version": 3
   },
   "file_extension": ".py",
   "mimetype": "text/x-python",
   "name": "python",
   "nbconvert_exporter": "python",
   "pygments_lexer": "ipython3",
   "version": "3.7.17"
  },
  "toc": {
   "base_numbering": 1,
   "nav_menu": {},
   "number_sections": false,
   "sideBar": true,
   "skip_h1_title": false,
   "title_cell": "Table of Contents",
   "title_sidebar": "Contents",
   "toc_cell": false,
   "toc_position": {
    "height": "calc(100% - 180px)",
    "left": "10px",
    "top": "150px",
    "width": "373.188px"
   },
   "toc_section_display": true,
   "toc_window_display": true
  }
 },
 "nbformat": 4,
 "nbformat_minor": 5
}
