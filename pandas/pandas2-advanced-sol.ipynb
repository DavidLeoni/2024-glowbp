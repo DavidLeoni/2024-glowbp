{
 "cells": [
  {
   "cell_type": "code",
   "execution_count": 1,
   "id": "8e77c3a2",
   "metadata": {
    "slideshow": {
     "slide_type": "skip"
    }
   },
   "outputs": [
    {
     "data": {
      "text/html": [
       "        \n",
       "            <script src=\"../_static/js/python.iife.js\" type=\"application/javascript\"></script>\n",
       "        "
      ],
      "text/plain": [
       "<IPython.core.display.HTML object>"
      ]
     },
     "execution_count": 1,
     "metadata": {},
     "output_type": "execute_result"
    }
   ],
   "source": [
    "import sys\n",
    "sys.path.append('../')\n",
    "import jupman\n",
    "\n",
    "import conf\n",
    "\n",
    "conf.jm.init_icp()"
   ]
  },
  {
   "cell_type": "markdown",
   "id": "0049100b",
   "metadata": {
    "slideshow": {
     "slide_type": "slide"
    }
   },
   "source": [
    "\n",
    "# Pandas 2: operazioni avanzate\n",
    "\n",
    "**Riferimenti:** [SoftPython - pandas 2](https://it.softpython.org/pandas/pandas2-advanced-sol.html)\n",
    "\n",
    "* visualizza al meglio in <img style=\"display:inline; width:25px; vertical-align: middle;\" src=\"../_static/img/chrome.png\" alttext=\"Chrome\">\n",
    "* versione stampabile: [clicca qua](?print-pdf)\n",
    "* per navigare nelle slide: premere `Esc`\n",
    "\n",
    "<br>\n",
    "<br>\n",
    "\n",
    "**Summer School Data Science 2023 - Modulo 1 informatica:** [Moodle](https://didatticaonline.unitn.it/dol/course/view.php?id=36683) \n",
    "\n",
    "Docente: David Leoni david.leoni@unitn.it\n",
    "\n",
    "Esercitatore: Luca Bosotti luca.bosotti@studenti.unitn.it\n"
   ]
  },
  {
   "cell_type": "markdown",
   "id": "f4fbf100",
   "metadata": {
    "slideshow": {
     "slide_type": "subslide"
    }
   },
   "source": [
    "## Operazioni avanzate\n",
    "\n",
    "**Raggruppare**\n",
    "\n",
    "**Congiungere**\n",
    "\n",
    "**GeoPandas** (cenni)"
   ]
  },
  {
   "cell_type": "markdown",
   "id": "735d8809",
   "metadata": {
    "slideshow": {
     "slide_type": "slide"
    }
   },
   "source": [
    "## Raggruppare\n",
    "\n",
    "Torniamo nello spazio con il dataset [astropi.csv](astropi.csv)\n",
    "\n",
    "Fonte: [ESA / Raspberry foundation](https://projects.raspberrypi.org/en/projects/astro-pi-flight-data-analysis) (abbiamo sostituito ROW_ID con time_stamp)"
   ]
  },
  {
   "cell_type": "code",
   "execution_count": 2,
   "id": "d3b7fc15",
   "metadata": {
    "slideshow": {
     "slide_type": "-"
    }
   },
   "outputs": [],
   "source": [
    "import pandas as pd\n",
    "import numpy as np\n",
    "\n",
    "df = pd.read_csv('astropi.csv', encoding='UTF-8')"
   ]
  },
  {
   "cell_type": "markdown",
   "id": "7f4bf04c",
   "metadata": {
    "slideshow": {
     "slide_type": "subslide"
    }
   },
   "source": [
    "### Un raggruppamento:\n",
    "\n",
    "### come fare l'istogramma di `humidity`?\n",
    "\n",
    "1. **definire intervalli**\n",
    "2. **come contare le occorrenze?**"
   ]
  },
  {
   "cell_type": "markdown",
   "id": "a920db0f",
   "metadata": {
    "slideshow": {
     "slide_type": "fragment"
    }
   },
   "source": [
    "1. intervalli: interi, es da `42.0` INCLUSO a `43.0` ESCLUSO"
   ]
  },
  {
   "cell_type": "markdown",
   "id": "ac53269d",
   "metadata": {
    "slideshow": {
     "slide_type": "fragment"
    }
   },
   "source": [
    "2. come contare / fare statistiche in genere: con `groupby` \n",
    "\n",
    "- nota: per istogrammi in particolare ci sono [modi più rapidi con numpy](https://stackoverflow.com/a/13130357)"
   ]
  },
  {
   "cell_type": "markdown",
   "id": "b6743449",
   "metadata": {
    "slideshow": {
     "slide_type": "subslide"
    }
   },
   "source": [
    "### Un gruppo d'esempio\n",
    "\n",
    "Il `42` quante righe ha?"
   ]
  },
  {
   "cell_type": "code",
   "execution_count": 3,
   "id": "fb809bad",
   "metadata": {
    "slideshow": {
     "slide_type": "-"
    }
   },
   "outputs": [
    {
     "data": {
      "text/html": [
       "<div>\n",
       "<style scoped>\n",
       "    .dataframe tbody tr th:only-of-type {\n",
       "        vertical-align: middle;\n",
       "    }\n",
       "\n",
       "    .dataframe tbody tr th {\n",
       "        vertical-align: top;\n",
       "    }\n",
       "\n",
       "    .dataframe thead th {\n",
       "        text-align: right;\n",
       "    }\n",
       "</style>\n",
       "<table border=\"1\" class=\"dataframe\">\n",
       "  <thead>\n",
       "    <tr style=\"text-align: right;\">\n",
       "      <th></th>\n",
       "      <th>time_stamp</th>\n",
       "      <th>temp_cpu</th>\n",
       "      <th>temp_h</th>\n",
       "      <th>temp_p</th>\n",
       "      <th>humidity</th>\n",
       "      <th>pressure</th>\n",
       "      <th>pitch</th>\n",
       "      <th>roll</th>\n",
       "      <th>yaw</th>\n",
       "      <th>mag_x</th>\n",
       "      <th>mag_y</th>\n",
       "      <th>mag_z</th>\n",
       "      <th>accel_x</th>\n",
       "      <th>accel_y</th>\n",
       "      <th>accel_z</th>\n",
       "      <th>gyro_x</th>\n",
       "      <th>gyro_y</th>\n",
       "      <th>gyro_z</th>\n",
       "      <th>reset</th>\n",
       "    </tr>\n",
       "  </thead>\n",
       "  <tbody>\n",
       "    <tr>\n",
       "      <th>19222</th>\n",
       "      <td>2016-02-18 16:37:00</td>\n",
       "      <td>33.18</td>\n",
       "      <td>28.96</td>\n",
       "      <td>26.51</td>\n",
       "      <td>42.99</td>\n",
       "      <td>1006.10</td>\n",
       "      <td>1.19</td>\n",
       "      <td>53.23</td>\n",
       "      <td>313.69</td>\n",
       "      <td>9.081925</td>\n",
       "      <td>-32.244905</td>\n",
       "      <td>-35.135448</td>\n",
       "      <td>-0.000581</td>\n",
       "      <td>0.018936</td>\n",
       "      <td>0.014607</td>\n",
       "      <td>0.000563</td>\n",
       "      <td>0.000346</td>\n",
       "      <td>-0.000113</td>\n",
       "      <td>0</td>\n",
       "    </tr>\n",
       "    <tr>\n",
       "      <th>19619</th>\n",
       "      <td>2016-02-18 17:43:50</td>\n",
       "      <td>33.34</td>\n",
       "      <td>29.06</td>\n",
       "      <td>26.62</td>\n",
       "      <td>42.91</td>\n",
       "      <td>1006.30</td>\n",
       "      <td>1.50</td>\n",
       "      <td>52.54</td>\n",
       "      <td>194.49</td>\n",
       "      <td>-53.197113</td>\n",
       "      <td>-4.014863</td>\n",
       "      <td>-20.257249</td>\n",
       "      <td>-0.000439</td>\n",
       "      <td>0.018838</td>\n",
       "      <td>0.014526</td>\n",
       "      <td>-0.000259</td>\n",
       "      <td>0.000323</td>\n",
       "      <td>-0.000181</td>\n",
       "      <td>0</td>\n",
       "    </tr>\n",
       "    <tr>\n",
       "      <th>19621</th>\n",
       "      <td>2016-02-18 17:44:10</td>\n",
       "      <td>33.38</td>\n",
       "      <td>29.06</td>\n",
       "      <td>26.62</td>\n",
       "      <td>42.98</td>\n",
       "      <td>1006.28</td>\n",
       "      <td>1.01</td>\n",
       "      <td>52.89</td>\n",
       "      <td>195.39</td>\n",
       "      <td>-52.911983</td>\n",
       "      <td>-4.207085</td>\n",
       "      <td>-20.754475</td>\n",
       "      <td>-0.000579</td>\n",
       "      <td>0.018903</td>\n",
       "      <td>0.014580</td>\n",
       "      <td>0.000415</td>\n",
       "      <td>-0.000232</td>\n",
       "      <td>0.000400</td>\n",
       "      <td>0</td>\n",
       "    </tr>\n",
       "    <tr>\n",
       "      <th>19655</th>\n",
       "      <td>2016-02-18 17:49:51</td>\n",
       "      <td>33.37</td>\n",
       "      <td>29.07</td>\n",
       "      <td>26.62</td>\n",
       "      <td>42.94</td>\n",
       "      <td>1006.28</td>\n",
       "      <td>0.93</td>\n",
       "      <td>53.21</td>\n",
       "      <td>203.76</td>\n",
       "      <td>-43.124080</td>\n",
       "      <td>-8.181511</td>\n",
       "      <td>-29.151436</td>\n",
       "      <td>-0.000432</td>\n",
       "      <td>0.018919</td>\n",
       "      <td>0.014608</td>\n",
       "      <td>0.000182</td>\n",
       "      <td>0.000341</td>\n",
       "      <td>0.000015</td>\n",
       "      <td>0</td>\n",
       "    </tr>\n",
       "    <tr>\n",
       "      <th>19672</th>\n",
       "      <td>2016-02-18 17:52:40</td>\n",
       "      <td>33.33</td>\n",
       "      <td>29.06</td>\n",
       "      <td>26.62</td>\n",
       "      <td>42.93</td>\n",
       "      <td>1006.24</td>\n",
       "      <td>1.34</td>\n",
       "      <td>52.71</td>\n",
       "      <td>206.97</td>\n",
       "      <td>-36.893841</td>\n",
       "      <td>-10.130503</td>\n",
       "      <td>-31.484077</td>\n",
       "      <td>-0.000551</td>\n",
       "      <td>0.018945</td>\n",
       "      <td>0.014794</td>\n",
       "      <td>-0.000378</td>\n",
       "      <td>-0.000013</td>\n",
       "      <td>-0.000101</td>\n",
       "      <td>0</td>\n",
       "    </tr>\n",
       "  </tbody>\n",
       "</table>\n",
       "</div>"
      ],
      "text/plain": [
       "                time_stamp  temp_cpu  temp_h  temp_p  humidity  pressure  \\\n",
       "19222  2016-02-18 16:37:00     33.18   28.96   26.51     42.99   1006.10   \n",
       "19619  2016-02-18 17:43:50     33.34   29.06   26.62     42.91   1006.30   \n",
       "19621  2016-02-18 17:44:10     33.38   29.06   26.62     42.98   1006.28   \n",
       "19655  2016-02-18 17:49:51     33.37   29.07   26.62     42.94   1006.28   \n",
       "19672  2016-02-18 17:52:40     33.33   29.06   26.62     42.93   1006.24   \n",
       "\n",
       "       pitch   roll     yaw      mag_x      mag_y      mag_z   accel_x  \\\n",
       "19222   1.19  53.23  313.69   9.081925 -32.244905 -35.135448 -0.000581   \n",
       "19619   1.50  52.54  194.49 -53.197113  -4.014863 -20.257249 -0.000439   \n",
       "19621   1.01  52.89  195.39 -52.911983  -4.207085 -20.754475 -0.000579   \n",
       "19655   0.93  53.21  203.76 -43.124080  -8.181511 -29.151436 -0.000432   \n",
       "19672   1.34  52.71  206.97 -36.893841 -10.130503 -31.484077 -0.000551   \n",
       "\n",
       "        accel_y   accel_z    gyro_x    gyro_y    gyro_z  reset  \n",
       "19222  0.018936  0.014607  0.000563  0.000346 -0.000113      0  \n",
       "19619  0.018838  0.014526 -0.000259  0.000323 -0.000181      0  \n",
       "19621  0.018903  0.014580  0.000415 -0.000232  0.000400      0  \n",
       "19655  0.018919  0.014608  0.000182  0.000341  0.000015      0  \n",
       "19672  0.018945  0.014794 -0.000378 -0.000013 -0.000101      0  "
      ]
     },
     "execution_count": 3,
     "metadata": {},
     "output_type": "execute_result"
    }
   ],
   "source": [
    "df[ df['humidity'].transform(int) == 42].head()"
   ]
  },
  {
   "cell_type": "code",
   "execution_count": 4,
   "id": "ab441160",
   "metadata": {
    "slideshow": {
     "slide_type": "-"
    }
   },
   "outputs": [
    {
     "data": {
      "text/plain": [
       "(2776, 19)"
      ]
     },
     "execution_count": 4,
     "metadata": {},
     "output_type": "execute_result"
    }
   ],
   "source": [
    "df[ df['humidity'].transform(int) == 42].shape"
   ]
  },
  {
   "cell_type": "markdown",
   "id": "524a5f01",
   "metadata": {
    "slideshow": {
     "slide_type": "subslide"
    }
   },
   "source": [
    "### A ciascuno il suo gruppo\n",
    "\n",
    "Creiamo una colonna che assegna a ciascuna riga il proprio gruppo:"
   ]
  },
  {
   "cell_type": "code",
   "execution_count": 5,
   "id": "135c7d0f",
   "metadata": {
    "slideshow": {
     "slide_type": "-"
    }
   },
   "outputs": [],
   "source": [
    "df['humidity_int'] = df['humidity'].transform( lambda x: int(x) )"
   ]
  },
  {
   "cell_type": "code",
   "execution_count": 6,
   "id": "7261a185",
   "metadata": {
    "slideshow": {
     "slide_type": "fragment"
    }
   },
   "outputs": [
    {
     "data": {
      "text/html": [
       "<div>\n",
       "<style scoped>\n",
       "    .dataframe tbody tr th:only-of-type {\n",
       "        vertical-align: middle;\n",
       "    }\n",
       "\n",
       "    .dataframe tbody tr th {\n",
       "        vertical-align: top;\n",
       "    }\n",
       "\n",
       "    .dataframe thead th {\n",
       "        text-align: right;\n",
       "    }\n",
       "</style>\n",
       "<table border=\"1\" class=\"dataframe\">\n",
       "  <thead>\n",
       "    <tr style=\"text-align: right;\">\n",
       "      <th></th>\n",
       "      <th>time_stamp</th>\n",
       "      <th>humidity_int</th>\n",
       "      <th>humidity</th>\n",
       "    </tr>\n",
       "  </thead>\n",
       "  <tbody>\n",
       "    <tr>\n",
       "      <th>0</th>\n",
       "      <td>2016-02-16 10:44:40</td>\n",
       "      <td>44</td>\n",
       "      <td>44.94</td>\n",
       "    </tr>\n",
       "    <tr>\n",
       "      <th>1</th>\n",
       "      <td>2016-02-16 10:44:50</td>\n",
       "      <td>45</td>\n",
       "      <td>45.12</td>\n",
       "    </tr>\n",
       "    <tr>\n",
       "      <th>2</th>\n",
       "      <td>2016-02-16 10:45:00</td>\n",
       "      <td>45</td>\n",
       "      <td>45.12</td>\n",
       "    </tr>\n",
       "    <tr>\n",
       "      <th>3</th>\n",
       "      <td>2016-02-16 10:45:10</td>\n",
       "      <td>45</td>\n",
       "      <td>45.32</td>\n",
       "    </tr>\n",
       "    <tr>\n",
       "      <th>4</th>\n",
       "      <td>2016-02-16 10:45:20</td>\n",
       "      <td>45</td>\n",
       "      <td>45.18</td>\n",
       "    </tr>\n",
       "  </tbody>\n",
       "</table>\n",
       "</div>"
      ],
      "text/plain": [
       "            time_stamp  humidity_int  humidity\n",
       "0  2016-02-16 10:44:40            44     44.94\n",
       "1  2016-02-16 10:44:50            45     45.12\n",
       "2  2016-02-16 10:45:00            45     45.12\n",
       "3  2016-02-16 10:45:10            45     45.32\n",
       "4  2016-02-16 10:45:20            45     45.18"
      ]
     },
     "execution_count": 6,
     "metadata": {},
     "output_type": "execute_result"
    }
   ],
   "source": [
    "\n",
    "df[ ['time_stamp', 'humidity_int', 'humidity']  ].head()"
   ]
  },
  {
   "cell_type": "markdown",
   "id": "3b546f0b",
   "metadata": {
    "slideshow": {
     "slide_type": "subslide"
    }
   },
   "source": [
    "### groupby\n",
    "\n",
    "\n",
    "<div class=\"jupman-floating\" data-jupman-style=\"position: absolute;\n",
    "                                 right: 1vw;\n",
    "                                 top: 35vh;\">\n",
    "    \n",
    "**Calcoliamo la statistica desiderata per ogni gruppo:**\n",
    "    \n",
    "- prima la colonna su cui raggruppare `'humidity_int'`\n",
    "- poi la colonna su cui effettuare la statistica `'humidity'`\n",
    "- infine la statistica da calcolare, es `.count()` \n",
    "    - altre: `sum()`, `min()`, `max()`, media `mean()`...\n",
    "\n",
    "</div>\n"
   ]
  },
  {
   "cell_type": "code",
   "execution_count": 7,
   "id": "a88ddfed",
   "metadata": {
    "slideshow": {
     "slide_type": "-"
    }
   },
   "outputs": [
    {
     "data": {
      "text/plain": [
       "humidity_int\n",
       "42     2776\n",
       "43     2479\n",
       "44    13029\n",
       "45    32730\n",
       "46    35775\n",
       "47    14176\n",
       "48     7392\n",
       "49      297\n",
       "50      155\n",
       "51      205\n",
       "52      209\n",
       "53      128\n",
       "54      224\n",
       "55      164\n",
       "56      139\n",
       "57      183\n",
       "58      237\n",
       "59      271\n",
       "60      300\n",
       "Name: humidity, dtype: int64"
      ]
     },
     "execution_count": 7,
     "metadata": {},
     "output_type": "execute_result"
    }
   ],
   "source": [
    "df.groupby(['humidity_int'])['humidity'].count()"
   ]
  },
  {
   "cell_type": "markdown",
   "id": "681bc337",
   "metadata": {
    "slideshow": {
     "slide_type": "subslide"
    }
   },
   "source": [
    "### groupby - il risultato"
   ]
  },
  {
   "cell_type": "code",
   "execution_count": 8,
   "id": "5ccfbcb3",
   "metadata": {
    "slideshow": {
     "slide_type": "-"
    }
   },
   "outputs": [],
   "source": [
    "risultato = df.groupby(['humidity_int'])['humidity'].count()"
   ]
  },
  {
   "cell_type": "code",
   "execution_count": 9,
   "id": "760cd2a0",
   "metadata": {
    "slideshow": {
     "slide_type": "-"
    }
   },
   "outputs": [
    {
     "data": {
      "text/plain": [
       "pandas.core.series.Series"
      ]
     },
     "execution_count": 9,
     "metadata": {},
     "output_type": "execute_result"
    }
   ],
   "source": [
    "type(risultato)"
   ]
  },
  {
   "cell_type": "code",
   "execution_count": 10,
   "id": "3b8b095d",
   "metadata": {
    "slideshow": {
     "slide_type": "fragment"
    }
   },
   "outputs": [
    {
     "data": {
      "text/plain": [
       "Int64Index([42, 43, 44, 45, 46, 47, 48, 49, 50, 51, 52, 53, 54, 55, 56, 57, 58,\n",
       "            59, 60],\n",
       "           dtype='int64', name='humidity_int')"
      ]
     },
     "execution_count": 10,
     "metadata": {},
     "output_type": "execute_result"
    }
   ],
   "source": [
    "risultato.index"
   ]
  },
  {
   "cell_type": "markdown",
   "id": "e8aef9b0",
   "metadata": {
    "slideshow": {
     "slide_type": "subslide"
    }
   },
   "source": [
    "### groupby - plottiamo"
   ]
  },
  {
   "cell_type": "code",
   "execution_count": 11,
   "id": "d812cbf8",
   "metadata": {
    "slideshow": {
     "slide_type": "-"
    }
   },
   "outputs": [
    {
     "data": {
      "image/png": "[encoded data removed]",
      "text/plain": [
       "<Figure size 640x480 with 1 Axes>"
      ]
     },
     "metadata": {},
     "output_type": "display_data"
    }
   ],
   "source": [
    "#jupman-purge-output\n",
    "%matplotlib inline\n",
    "import matplotlib as mpl\n",
    "import matplotlib.pyplot as plt\n",
    "\n",
    "plt.bar(risultato.index, \n",
    "        risultato)\n",
    "\n",
    "plt.xlabel('gruppi umidità')\n",
    "plt.ylabel('conteggio')\n",
    "plt.title('Distribuzione umidità')\n",
    "\n",
    "# mostra le etichette come interi\n",
    "plt.xticks(risultato.index, \n",
    "           risultato.index) \n",
    "# rimuove le linette in fondo\n",
    "plt.tick_params(bottom=False)\n",
    "#jupman-purge\n",
    "plt.savefig('img/astropi-humidity-histogram.png')\n",
    "#/jupman-purge\n",
    "plt.show()\n"
   ]
  },
  {
   "cell_type": "markdown",
   "id": "b01de77d",
   "metadata": {
    "slideshow": {
     "slide_type": "-"
    }
   },
   "source": [
    "<img src=\"img/astropi-humidity-histogram.png\" \n",
    "     data-jupman-style=\"position: absolute;\n",
    "                        right: 1vw;\n",
    "                        top: 22%;\n",
    "                        width: 47%;\" >"
   ]
  },
  {
   "cell_type": "markdown",
   "id": "90401360",
   "metadata": {
    "slideshow": {
     "slide_type": "subslide"
    }
   },
   "source": [
    "### Problema: groupby produce poche righe"
   ]
  },
  {
   "cell_type": "code",
   "execution_count": 12,
   "id": "ca47820b",
   "metadata": {
    "slideshow": {
     "slide_type": "-"
    }
   },
   "outputs": [
    {
     "data": {
      "text/plain": [
       "humidity_int\n",
       "42     2776\n",
       "43     2479\n",
       "44    13029\n",
       "45    32730\n",
       "46    35775\n",
       "47    14176\n",
       "48     7392\n",
       "49      297\n",
       "50      155\n",
       "51      205\n",
       "52      209\n",
       "53      128\n",
       "54      224\n",
       "55      164\n",
       "56      139\n",
       "57      183\n",
       "58      237\n",
       "59      271\n",
       "60      300\n",
       "Name: humidity, dtype: int64"
      ]
     },
     "execution_count": 12,
     "metadata": {},
     "output_type": "execute_result"
    }
   ],
   "source": [
    "df.groupby(['humidity_int'])['humidity'].count()"
   ]
  },
  {
   "cell_type": "markdown",
   "id": "82999dd2",
   "metadata": {
    "slideshow": {
     "slide_type": "fragment"
    }
   },
   "source": [
    "<div class=\"jupman-floating\" data-jupman-style=\"position: absolute;\n",
    "                                                width:40%;\n",
    "                                                right: 5%;\n",
    "                                                top: 40%;\">\n",
    "        \n",
    "E se volessimo assegnare a ciascuna riga nella tabella originale il conteggio del proprio gruppo?\n",
    "    \n",
    "</div>    "
   ]
  },
  {
   "cell_type": "markdown",
   "id": "2e5984a7",
   "metadata": {
    "slideshow": {
     "slide_type": "subslide"
    }
   },
   "source": [
    "### Per ogni riga, qual'è il conteggio del proprio gruppo?"
   ]
  },
  {
   "cell_type": "code",
   "execution_count": 13,
   "id": "f6bccc5d",
   "metadata": {
    "slideshow": {
     "slide_type": "-"
    }
   },
   "outputs": [
    {
     "data": {
      "text/plain": [
       "0         13029\n",
       "1         32730\n",
       "2         32730\n",
       "3         32730\n",
       "4         32730\n",
       "          ...  \n",
       "110864     2776\n",
       "110865     2776\n",
       "110866     2776\n",
       "110867     2776\n",
       "110868     2776\n",
       "Name: humidity, Length: 110869, dtype: int64"
      ]
     },
     "execution_count": 13,
     "metadata": {},
     "output_type": "execute_result"
    }
   ],
   "source": [
    "df.groupby(['humidity_int'])['humidity'].transform('count')"
   ]
  },
  {
   "cell_type": "markdown",
   "id": "33edf4c5",
   "metadata": {
    "slideshow": {
     "slide_type": "subslide"
    }
   },
   "source": [
    "### Per ogni riga, salva il conteggio del proprio gruppo"
   ]
  },
  {
   "cell_type": "code",
   "execution_count": 14,
   "id": "898ef59d",
   "metadata": {
    "slideshow": {
     "slide_type": "-"
    }
   },
   "outputs": [],
   "source": [
    "nuova_colonna = df.groupby(['humidity_int'])['humidity'].transform('count')\n",
    "df['Conteggio umidità'] = nuova_colonna"
   ]
  },
  {
   "cell_type": "markdown",
   "id": "249cc593",
   "metadata": {
    "slideshow": {
     "slide_type": "fragment"
    }
   },
   "source": [
    "Verifichiamo:"
   ]
  },
  {
   "cell_type": "code",
   "execution_count": 15,
   "id": "b6838089",
   "metadata": {
    "scrolled": true,
    "slideshow": {
     "slide_type": "-"
    }
   },
   "outputs": [
    {
     "data": {
      "text/html": [
       "<div>\n",
       "<style scoped>\n",
       "    .dataframe tbody tr th:only-of-type {\n",
       "        vertical-align: middle;\n",
       "    }\n",
       "\n",
       "    .dataframe tbody tr th {\n",
       "        vertical-align: top;\n",
       "    }\n",
       "\n",
       "    .dataframe thead th {\n",
       "        text-align: right;\n",
       "    }\n",
       "</style>\n",
       "<table border=\"1\" class=\"dataframe\">\n",
       "  <thead>\n",
       "    <tr style=\"text-align: right;\">\n",
       "      <th></th>\n",
       "      <th>time_stamp</th>\n",
       "      <th>humidity_int</th>\n",
       "      <th>humidity</th>\n",
       "      <th>Conteggio umidità</th>\n",
       "    </tr>\n",
       "  </thead>\n",
       "  <tbody>\n",
       "    <tr>\n",
       "      <th>0</th>\n",
       "      <td>2016-02-16 10:44:40</td>\n",
       "      <td>44</td>\n",
       "      <td>44.94</td>\n",
       "      <td>13029</td>\n",
       "    </tr>\n",
       "    <tr>\n",
       "      <th>1</th>\n",
       "      <td>2016-02-16 10:44:50</td>\n",
       "      <td>45</td>\n",
       "      <td>45.12</td>\n",
       "      <td>32730</td>\n",
       "    </tr>\n",
       "    <tr>\n",
       "      <th>2</th>\n",
       "      <td>2016-02-16 10:45:00</td>\n",
       "      <td>45</td>\n",
       "      <td>45.12</td>\n",
       "      <td>32730</td>\n",
       "    </tr>\n",
       "    <tr>\n",
       "      <th>3</th>\n",
       "      <td>2016-02-16 10:45:10</td>\n",
       "      <td>45</td>\n",
       "      <td>45.32</td>\n",
       "      <td>32730</td>\n",
       "    </tr>\n",
       "    <tr>\n",
       "      <th>4</th>\n",
       "      <td>2016-02-16 10:45:20</td>\n",
       "      <td>45</td>\n",
       "      <td>45.18</td>\n",
       "      <td>32730</td>\n",
       "    </tr>\n",
       "    <tr>\n",
       "      <th>...</th>\n",
       "      <td>...</td>\n",
       "      <td>...</td>\n",
       "      <td>...</td>\n",
       "      <td>...</td>\n",
       "    </tr>\n",
       "    <tr>\n",
       "      <th>110864</th>\n",
       "      <td>2016-02-29 09:24:21</td>\n",
       "      <td>42</td>\n",
       "      <td>42.94</td>\n",
       "      <td>2776</td>\n",
       "    </tr>\n",
       "    <tr>\n",
       "      <th>110865</th>\n",
       "      <td>2016-02-29 09:24:30</td>\n",
       "      <td>42</td>\n",
       "      <td>42.72</td>\n",
       "      <td>2776</td>\n",
       "    </tr>\n",
       "    <tr>\n",
       "      <th>110866</th>\n",
       "      <td>2016-02-29 09:24:41</td>\n",
       "      <td>42</td>\n",
       "      <td>42.83</td>\n",
       "      <td>2776</td>\n",
       "    </tr>\n",
       "    <tr>\n",
       "      <th>110867</th>\n",
       "      <td>2016-02-29 09:24:50</td>\n",
       "      <td>42</td>\n",
       "      <td>42.81</td>\n",
       "      <td>2776</td>\n",
       "    </tr>\n",
       "    <tr>\n",
       "      <th>110868</th>\n",
       "      <td>2016-02-29 09:25:00</td>\n",
       "      <td>42</td>\n",
       "      <td>42.94</td>\n",
       "      <td>2776</td>\n",
       "    </tr>\n",
       "  </tbody>\n",
       "</table>\n",
       "<p>110869 rows × 4 columns</p>\n",
       "</div>"
      ],
      "text/plain": [
       "                 time_stamp  humidity_int  humidity  Conteggio umidità\n",
       "0       2016-02-16 10:44:40            44     44.94              13029\n",
       "1       2016-02-16 10:44:50            45     45.12              32730\n",
       "2       2016-02-16 10:45:00            45     45.12              32730\n",
       "3       2016-02-16 10:45:10            45     45.32              32730\n",
       "4       2016-02-16 10:45:20            45     45.18              32730\n",
       "...                     ...           ...       ...                ...\n",
       "110864  2016-02-29 09:24:21            42     42.94               2776\n",
       "110865  2016-02-29 09:24:30            42     42.72               2776\n",
       "110866  2016-02-29 09:24:41            42     42.83               2776\n",
       "110867  2016-02-29 09:24:50            42     42.81               2776\n",
       "110868  2016-02-29 09:25:00            42     42.94               2776\n",
       "\n",
       "[110869 rows x 4 columns]"
      ]
     },
     "execution_count": 15,
     "metadata": {},
     "output_type": "execute_result"
    }
   ],
   "source": [
    "df[['time_stamp', 'humidity_int', 'humidity', 'Conteggio umidità']]"
   ]
  },
  {
   "cell_type": "markdown",
   "id": "b8d0dff9",
   "metadata": {},
   "source": [
    "## Esercizi raggruppamento\n",
    "\n",
    "- [Esercizio Temperatura media meteo](https://it.softpython.org/pandas/pandas2-advanced-sol.html#1.4-Esercizio---Temperatura-media-del-meteo)\n",
    "- [Beni culturali regione Umbria](https://it.softpython.org/pandas/pandas2-advanced-sol.html#1.5-Esercizio---Beni-culturali-Regione-Umbria)\n"
   ]
  },
  {
   "cell_type": "markdown",
   "id": "6bcf5bdb",
   "metadata": {
    "slideshow": {
     "slide_type": "slide"
    }
   },
   "source": [
    "## Congiungere dataset\n",
    "\n",
    "Date due tabelle che condividono una colonna, come congiungere le righe?"
   ]
  },
  {
   "cell_type": "markdown",
   "id": "1d78da72",
   "metadata": {
    "slideshow": {
     "slide_type": "-"
    }
   },
   "source": [
    "In pandas si può usare `merge` (o `join`)"
   ]
  },
  {
   "cell_type": "markdown",
   "id": "b45b3001",
   "metadata": {
    "slideshow": {
     "slide_type": "subslide"
    }
   },
   "source": [
    "### Congiungere con `merge`: un esempio\n",
    "\n",
    "il dataset [iss-coords.csv](iss-coords.csv) contiene le coordinate della International Space Station (ISS):"
   ]
  },
  {
   "cell_type": "code",
   "execution_count": 16,
   "id": "7402f245",
   "metadata": {
    "slideshow": {
     "slide_type": "-"
    }
   },
   "outputs": [
    {
     "data": {
      "text/html": [
       "<div>\n",
       "<style scoped>\n",
       "    .dataframe tbody tr th:only-of-type {\n",
       "        vertical-align: middle;\n",
       "    }\n",
       "\n",
       "    .dataframe tbody tr th {\n",
       "        vertical-align: top;\n",
       "    }\n",
       "\n",
       "    .dataframe thead th {\n",
       "        text-align: right;\n",
       "    }\n",
       "</style>\n",
       "<table border=\"1\" class=\"dataframe\">\n",
       "  <thead>\n",
       "    <tr style=\"text-align: right;\">\n",
       "      <th></th>\n",
       "      <th>timestamp</th>\n",
       "      <th>lat</th>\n",
       "      <th>lon</th>\n",
       "    </tr>\n",
       "  </thead>\n",
       "  <tbody>\n",
       "    <tr>\n",
       "      <th>0</th>\n",
       "      <td>2016-01-01 05:11:30</td>\n",
       "      <td>-45.103458</td>\n",
       "      <td>14.083858</td>\n",
       "    </tr>\n",
       "    <tr>\n",
       "      <th>1</th>\n",
       "      <td>2016-01-01 06:49:59</td>\n",
       "      <td>-37.597242</td>\n",
       "      <td>28.931170</td>\n",
       "    </tr>\n",
       "    <tr>\n",
       "      <th>2</th>\n",
       "      <td>2016-01-01 11:52:30</td>\n",
       "      <td>17.126141</td>\n",
       "      <td>77.535602</td>\n",
       "    </tr>\n",
       "  </tbody>\n",
       "</table>\n",
       "</div>"
      ],
      "text/plain": [
       "             timestamp        lat        lon\n",
       "0  2016-01-01 05:11:30 -45.103458  14.083858\n",
       "1  2016-01-01 06:49:59 -37.597242  28.931170\n",
       "2  2016-01-01 11:52:30  17.126141  77.535602"
      ]
     },
     "execution_count": 16,
     "metadata": {},
     "output_type": "execute_result"
    }
   ],
   "source": [
    "iss_coords = pd.read_csv('iss-coords.csv', encoding='UTF-8')\n",
    "iss_coords.head(3)"
   ]
  },
  {
   "cell_type": "markdown",
   "id": "88289bda",
   "metadata": {
    "slideshow": {
     "slide_type": "fragment"
    }
   },
   "source": [
    "Come mostrare le coordinate della ISS nel dataset originale [astropi.csv](astropi.csv)?"
   ]
  },
  {
   "cell_type": "code",
   "execution_count": 17,
   "id": "931d0958",
   "metadata": {
    "slideshow": {
     "slide_type": "-"
    }
   },
   "outputs": [
    {
     "data": {
      "text/html": [
       "<div>\n",
       "<style scoped>\n",
       "    .dataframe tbody tr th:only-of-type {\n",
       "        vertical-align: middle;\n",
       "    }\n",
       "\n",
       "    .dataframe tbody tr th {\n",
       "        vertical-align: top;\n",
       "    }\n",
       "\n",
       "    .dataframe thead th {\n",
       "        text-align: right;\n",
       "    }\n",
       "</style>\n",
       "<table border=\"1\" class=\"dataframe\">\n",
       "  <thead>\n",
       "    <tr style=\"text-align: right;\">\n",
       "      <th></th>\n",
       "      <th>time_stamp</th>\n",
       "      <th>temp_cpu</th>\n",
       "      <th>temp_h</th>\n",
       "      <th>temp_p</th>\n",
       "      <th>humidity</th>\n",
       "      <th>pressure</th>\n",
       "      <th>pitch</th>\n",
       "      <th>roll</th>\n",
       "      <th>yaw</th>\n",
       "      <th>mag_x</th>\n",
       "      <th>mag_y</th>\n",
       "      <th>mag_z</th>\n",
       "      <th>accel_x</th>\n",
       "      <th>accel_y</th>\n",
       "      <th>accel_z</th>\n",
       "      <th>gyro_x</th>\n",
       "      <th>gyro_y</th>\n",
       "      <th>gyro_z</th>\n",
       "      <th>reset</th>\n",
       "    </tr>\n",
       "  </thead>\n",
       "  <tbody>\n",
       "    <tr>\n",
       "      <th>0</th>\n",
       "      <td>2016-02-16 10:44:40</td>\n",
       "      <td>31.88</td>\n",
       "      <td>27.57</td>\n",
       "      <td>25.01</td>\n",
       "      <td>44.94</td>\n",
       "      <td>1001.68</td>\n",
       "      <td>1.49</td>\n",
       "      <td>52.25</td>\n",
       "      <td>185.21</td>\n",
       "      <td>-46.422753</td>\n",
       "      <td>-8.132907</td>\n",
       "      <td>-12.129346</td>\n",
       "      <td>-0.000468</td>\n",
       "      <td>0.019439</td>\n",
       "      <td>0.014569</td>\n",
       "      <td>0.000942</td>\n",
       "      <td>0.000492</td>\n",
       "      <td>-0.000750</td>\n",
       "      <td>20</td>\n",
       "    </tr>\n",
       "    <tr>\n",
       "      <th>1</th>\n",
       "      <td>2016-02-16 10:44:50</td>\n",
       "      <td>31.79</td>\n",
       "      <td>27.53</td>\n",
       "      <td>25.01</td>\n",
       "      <td>45.12</td>\n",
       "      <td>1001.72</td>\n",
       "      <td>1.03</td>\n",
       "      <td>53.73</td>\n",
       "      <td>186.72</td>\n",
       "      <td>-48.778951</td>\n",
       "      <td>-8.304243</td>\n",
       "      <td>-12.943096</td>\n",
       "      <td>-0.000614</td>\n",
       "      <td>0.019436</td>\n",
       "      <td>0.014577</td>\n",
       "      <td>0.000218</td>\n",
       "      <td>-0.000005</td>\n",
       "      <td>-0.000235</td>\n",
       "      <td>0</td>\n",
       "    </tr>\n",
       "    <tr>\n",
       "      <th>2</th>\n",
       "      <td>2016-02-16 10:45:00</td>\n",
       "      <td>31.66</td>\n",
       "      <td>27.53</td>\n",
       "      <td>25.01</td>\n",
       "      <td>45.12</td>\n",
       "      <td>1001.72</td>\n",
       "      <td>1.24</td>\n",
       "      <td>53.57</td>\n",
       "      <td>186.21</td>\n",
       "      <td>-49.161878</td>\n",
       "      <td>-8.470832</td>\n",
       "      <td>-12.642772</td>\n",
       "      <td>-0.000569</td>\n",
       "      <td>0.019359</td>\n",
       "      <td>0.014357</td>\n",
       "      <td>0.000395</td>\n",
       "      <td>0.000600</td>\n",
       "      <td>-0.000003</td>\n",
       "      <td>0</td>\n",
       "    </tr>\n",
       "  </tbody>\n",
       "</table>\n",
       "</div>"
      ],
      "text/plain": [
       "            time_stamp  temp_cpu  temp_h  temp_p  humidity  pressure  pitch  \\\n",
       "0  2016-02-16 10:44:40     31.88   27.57   25.01     44.94   1001.68   1.49   \n",
       "1  2016-02-16 10:44:50     31.79   27.53   25.01     45.12   1001.72   1.03   \n",
       "2  2016-02-16 10:45:00     31.66   27.53   25.01     45.12   1001.72   1.24   \n",
       "\n",
       "    roll     yaw      mag_x     mag_y      mag_z   accel_x   accel_y  \\\n",
       "0  52.25  185.21 -46.422753 -8.132907 -12.129346 -0.000468  0.019439   \n",
       "1  53.73  186.72 -48.778951 -8.304243 -12.943096 -0.000614  0.019436   \n",
       "2  53.57  186.21 -49.161878 -8.470832 -12.642772 -0.000569  0.019359   \n",
       "\n",
       "    accel_z    gyro_x    gyro_y    gyro_z  reset  \n",
       "0  0.014569  0.000942  0.000492 -0.000750     20  \n",
       "1  0.014577  0.000218 -0.000005 -0.000235      0  \n",
       "2  0.014357  0.000395  0.000600 -0.000003      0  "
      ]
     },
     "execution_count": 17,
     "metadata": {},
     "output_type": "execute_result"
    }
   ],
   "source": [
    "df = pd.read_csv('astropi.csv', encoding='UTF-8')\n",
    "df.head(3)"
   ]
  },
  {
   "cell_type": "markdown",
   "id": "4996b892",
   "metadata": {
    "slideshow": {
     "slide_type": "subslide"
    }
   },
   "source": [
    "### Congiungere con `merge`: proviamo!"
   ]
  },
  {
   "cell_type": "code",
   "execution_count": 18,
   "id": "9daf75a5",
   "metadata": {
    "slideshow": {
     "slide_type": "-"
    }
   },
   "outputs": [
    {
     "data": {
      "text/html": [
       "<div>\n",
       "<style scoped>\n",
       "    .dataframe tbody tr th:only-of-type {\n",
       "        vertical-align: middle;\n",
       "    }\n",
       "\n",
       "    .dataframe tbody tr th {\n",
       "        vertical-align: top;\n",
       "    }\n",
       "\n",
       "    .dataframe thead th {\n",
       "        text-align: right;\n",
       "    }\n",
       "</style>\n",
       "<table border=\"1\" class=\"dataframe\">\n",
       "  <thead>\n",
       "    <tr style=\"text-align: right;\">\n",
       "      <th></th>\n",
       "      <th>time_stamp</th>\n",
       "      <th>temp_cpu</th>\n",
       "      <th>temp_h</th>\n",
       "      <th>temp_p</th>\n",
       "      <th>humidity</th>\n",
       "      <th>pressure</th>\n",
       "      <th>pitch</th>\n",
       "      <th>roll</th>\n",
       "      <th>yaw</th>\n",
       "      <th>mag_x</th>\n",
       "      <th>...</th>\n",
       "      <th>mag_z</th>\n",
       "      <th>accel_x</th>\n",
       "      <th>accel_y</th>\n",
       "      <th>accel_z</th>\n",
       "      <th>gyro_x</th>\n",
       "      <th>gyro_y</th>\n",
       "      <th>gyro_z</th>\n",
       "      <th>reset</th>\n",
       "      <th>lat</th>\n",
       "      <th>lon</th>\n",
       "    </tr>\n",
       "  </thead>\n",
       "  <tbody>\n",
       "    <tr>\n",
       "      <th>0</th>\n",
       "      <td>2016-02-19 03:49:00</td>\n",
       "      <td>32.53</td>\n",
       "      <td>28.37</td>\n",
       "      <td>25.89</td>\n",
       "      <td>45.31</td>\n",
       "      <td>1006.04</td>\n",
       "      <td>1.31</td>\n",
       "      <td>51.63</td>\n",
       "      <td>34.91</td>\n",
       "      <td>21.125001</td>\n",
       "      <td>...</td>\n",
       "      <td>-14.474195</td>\n",
       "      <td>-0.000667</td>\n",
       "      <td>0.018851</td>\n",
       "      <td>0.014607</td>\n",
       "      <td>0.000060</td>\n",
       "      <td>-0.000304</td>\n",
       "      <td>0.000046</td>\n",
       "      <td>0</td>\n",
       "      <td>31.434741</td>\n",
       "      <td>52.917464</td>\n",
       "    </tr>\n",
       "    <tr>\n",
       "      <th>1</th>\n",
       "      <td>2016-02-19 14:30:40</td>\n",
       "      <td>32.30</td>\n",
       "      <td>28.12</td>\n",
       "      <td>25.62</td>\n",
       "      <td>45.57</td>\n",
       "      <td>1007.42</td>\n",
       "      <td>1.49</td>\n",
       "      <td>52.29</td>\n",
       "      <td>333.49</td>\n",
       "      <td>16.083471</td>\n",
       "      <td>...</td>\n",
       "      <td>-7.290281</td>\n",
       "      <td>-0.000563</td>\n",
       "      <td>0.018687</td>\n",
       "      <td>0.014502</td>\n",
       "      <td>0.000208</td>\n",
       "      <td>-0.000499</td>\n",
       "      <td>0.000034</td>\n",
       "      <td>0</td>\n",
       "      <td>-46.620658</td>\n",
       "      <td>-57.311657</td>\n",
       "    </tr>\n",
       "    <tr>\n",
       "      <th>2</th>\n",
       "      <td>2016-02-19 14:30:40</td>\n",
       "      <td>32.30</td>\n",
       "      <td>28.12</td>\n",
       "      <td>25.62</td>\n",
       "      <td>45.57</td>\n",
       "      <td>1007.42</td>\n",
       "      <td>1.49</td>\n",
       "      <td>52.29</td>\n",
       "      <td>333.49</td>\n",
       "      <td>16.083471</td>\n",
       "      <td>...</td>\n",
       "      <td>-7.290281</td>\n",
       "      <td>-0.000563</td>\n",
       "      <td>0.018687</td>\n",
       "      <td>0.014502</td>\n",
       "      <td>0.000208</td>\n",
       "      <td>-0.000499</td>\n",
       "      <td>0.000034</td>\n",
       "      <td>0</td>\n",
       "      <td>-46.620477</td>\n",
       "      <td>-57.311138</td>\n",
       "    </tr>\n",
       "    <tr>\n",
       "      <th>3</th>\n",
       "      <td>2016-02-21 22:14:11</td>\n",
       "      <td>32.21</td>\n",
       "      <td>28.05</td>\n",
       "      <td>25.50</td>\n",
       "      <td>47.36</td>\n",
       "      <td>1012.41</td>\n",
       "      <td>0.67</td>\n",
       "      <td>52.40</td>\n",
       "      <td>27.57</td>\n",
       "      <td>15.441683</td>\n",
       "      <td>...</td>\n",
       "      <td>2.230845</td>\n",
       "      <td>-0.000584</td>\n",
       "      <td>0.018800</td>\n",
       "      <td>0.014136</td>\n",
       "      <td>-0.000015</td>\n",
       "      <td>-0.000159</td>\n",
       "      <td>0.000221</td>\n",
       "      <td>0</td>\n",
       "      <td>19.138359</td>\n",
       "      <td>-140.211489</td>\n",
       "    </tr>\n",
       "    <tr>\n",
       "      <th>4</th>\n",
       "      <td>2016-02-23 23:40:50</td>\n",
       "      <td>32.32</td>\n",
       "      <td>28.18</td>\n",
       "      <td>25.61</td>\n",
       "      <td>47.45</td>\n",
       "      <td>1010.62</td>\n",
       "      <td>1.14</td>\n",
       "      <td>51.41</td>\n",
       "      <td>33.68</td>\n",
       "      <td>11.994554</td>\n",
       "      <td>...</td>\n",
       "      <td>1.171099</td>\n",
       "      <td>-0.000659</td>\n",
       "      <td>0.018276</td>\n",
       "      <td>0.014124</td>\n",
       "      <td>0.000368</td>\n",
       "      <td>0.000368</td>\n",
       "      <td>0.000030</td>\n",
       "      <td>0</td>\n",
       "      <td>4.713819</td>\n",
       "      <td>80.261665</td>\n",
       "    </tr>\n",
       "    <tr>\n",
       "      <th>5</th>\n",
       "      <td>2016-02-24 10:05:51</td>\n",
       "      <td>32.39</td>\n",
       "      <td>28.26</td>\n",
       "      <td>25.70</td>\n",
       "      <td>46.83</td>\n",
       "      <td>1010.51</td>\n",
       "      <td>0.61</td>\n",
       "      <td>51.91</td>\n",
       "      <td>287.86</td>\n",
       "      <td>6.554283</td>\n",
       "      <td>...</td>\n",
       "      <td>-15.700529</td>\n",
       "      <td>-0.000647</td>\n",
       "      <td>0.018352</td>\n",
       "      <td>0.014344</td>\n",
       "      <td>-0.000664</td>\n",
       "      <td>-0.000518</td>\n",
       "      <td>0.000171</td>\n",
       "      <td>0</td>\n",
       "      <td>-46.061583</td>\n",
       "      <td>22.246025</td>\n",
       "    </tr>\n",
       "    <tr>\n",
       "      <th>6</th>\n",
       "      <td>2016-02-25 00:23:01</td>\n",
       "      <td>32.38</td>\n",
       "      <td>28.18</td>\n",
       "      <td>25.62</td>\n",
       "      <td>46.52</td>\n",
       "      <td>1008.28</td>\n",
       "      <td>0.90</td>\n",
       "      <td>51.77</td>\n",
       "      <td>30.80</td>\n",
       "      <td>9.947132</td>\n",
       "      <td>...</td>\n",
       "      <td>-1.494121</td>\n",
       "      <td>-0.000663</td>\n",
       "      <td>0.018502</td>\n",
       "      <td>0.014366</td>\n",
       "      <td>0.000290</td>\n",
       "      <td>0.000314</td>\n",
       "      <td>-0.000375</td>\n",
       "      <td>0</td>\n",
       "      <td>47.047346</td>\n",
       "      <td>137.958918</td>\n",
       "    </tr>\n",
       "    <tr>\n",
       "      <th>7</th>\n",
       "      <td>2016-02-27 01:43:10</td>\n",
       "      <td>32.42</td>\n",
       "      <td>28.34</td>\n",
       "      <td>25.76</td>\n",
       "      <td>45.72</td>\n",
       "      <td>1006.79</td>\n",
       "      <td>0.57</td>\n",
       "      <td>49.85</td>\n",
       "      <td>10.57</td>\n",
       "      <td>7.805606</td>\n",
       "      <td>...</td>\n",
       "      <td>-4.886117</td>\n",
       "      <td>-0.000624</td>\n",
       "      <td>0.017930</td>\n",
       "      <td>0.014378</td>\n",
       "      <td>-0.000026</td>\n",
       "      <td>-0.000013</td>\n",
       "      <td>-0.000047</td>\n",
       "      <td>0</td>\n",
       "      <td>-41.049112</td>\n",
       "      <td>30.193004</td>\n",
       "    </tr>\n",
       "    <tr>\n",
       "      <th>8</th>\n",
       "      <td>2016-02-27 01:43:10</td>\n",
       "      <td>32.42</td>\n",
       "      <td>28.34</td>\n",
       "      <td>25.76</td>\n",
       "      <td>45.72</td>\n",
       "      <td>1006.79</td>\n",
       "      <td>0.57</td>\n",
       "      <td>49.85</td>\n",
       "      <td>10.57</td>\n",
       "      <td>7.805606</td>\n",
       "      <td>...</td>\n",
       "      <td>-4.886117</td>\n",
       "      <td>-0.000624</td>\n",
       "      <td>0.017930</td>\n",
       "      <td>0.014378</td>\n",
       "      <td>-0.000026</td>\n",
       "      <td>-0.000013</td>\n",
       "      <td>-0.000047</td>\n",
       "      <td>0</td>\n",
       "      <td>-8.402991</td>\n",
       "      <td>-100.981726</td>\n",
       "    </tr>\n",
       "    <tr>\n",
       "      <th>9</th>\n",
       "      <td>2016-02-28 09:48:40</td>\n",
       "      <td>32.62</td>\n",
       "      <td>28.62</td>\n",
       "      <td>26.02</td>\n",
       "      <td>45.15</td>\n",
       "      <td>1006.06</td>\n",
       "      <td>1.12</td>\n",
       "      <td>50.44</td>\n",
       "      <td>301.74</td>\n",
       "      <td>10.348327</td>\n",
       "      <td>...</td>\n",
       "      <td>-13.590825</td>\n",
       "      <td>-0.000590</td>\n",
       "      <td>0.017620</td>\n",
       "      <td>0.014725</td>\n",
       "      <td>-0.000358</td>\n",
       "      <td>-0.000301</td>\n",
       "      <td>-0.000061</td>\n",
       "      <td>0</td>\n",
       "      <td>50.047523</td>\n",
       "      <td>175.566751</td>\n",
       "    </tr>\n",
       "  </tbody>\n",
       "</table>\n",
       "<p>10 rows × 21 columns</p>\n",
       "</div>"
      ],
      "text/plain": [
       "            time_stamp  temp_cpu  temp_h  temp_p  humidity  pressure  pitch  \\\n",
       "0  2016-02-19 03:49:00     32.53   28.37   25.89     45.31   1006.04   1.31   \n",
       "1  2016-02-19 14:30:40     32.30   28.12   25.62     45.57   1007.42   1.49   \n",
       "2  2016-02-19 14:30:40     32.30   28.12   25.62     45.57   1007.42   1.49   \n",
       "3  2016-02-21 22:14:11     32.21   28.05   25.50     47.36   1012.41   0.67   \n",
       "4  2016-02-23 23:40:50     32.32   28.18   25.61     47.45   1010.62   1.14   \n",
       "5  2016-02-24 10:05:51     32.39   28.26   25.70     46.83   1010.51   0.61   \n",
       "6  2016-02-25 00:23:01     32.38   28.18   25.62     46.52   1008.28   0.90   \n",
       "7  2016-02-27 01:43:10     32.42   28.34   25.76     45.72   1006.79   0.57   \n",
       "8  2016-02-27 01:43:10     32.42   28.34   25.76     45.72   1006.79   0.57   \n",
       "9  2016-02-28 09:48:40     32.62   28.62   26.02     45.15   1006.06   1.12   \n",
       "\n",
       "    roll     yaw      mag_x  ...      mag_z   accel_x   accel_y   accel_z  \\\n",
       "0  51.63   34.91  21.125001  ... -14.474195 -0.000667  0.018851  0.014607   \n",
       "1  52.29  333.49  16.083471  ...  -7.290281 -0.000563  0.018687  0.014502   \n",
       "2  52.29  333.49  16.083471  ...  -7.290281 -0.000563  0.018687  0.014502   \n",
       "3  52.40   27.57  15.441683  ...   2.230845 -0.000584  0.018800  0.014136   \n",
       "4  51.41   33.68  11.994554  ...   1.171099 -0.000659  0.018276  0.014124   \n",
       "5  51.91  287.86   6.554283  ... -15.700529 -0.000647  0.018352  0.014344   \n",
       "6  51.77   30.80   9.947132  ...  -1.494121 -0.000663  0.018502  0.014366   \n",
       "7  49.85   10.57   7.805606  ...  -4.886117 -0.000624  0.017930  0.014378   \n",
       "8  49.85   10.57   7.805606  ...  -4.886117 -0.000624  0.017930  0.014378   \n",
       "9  50.44  301.74  10.348327  ... -13.590825 -0.000590  0.017620  0.014725   \n",
       "\n",
       "     gyro_x    gyro_y    gyro_z  reset        lat         lon  \n",
       "0  0.000060 -0.000304  0.000046      0  31.434741   52.917464  \n",
       "1  0.000208 -0.000499  0.000034      0 -46.620658  -57.311657  \n",
       "2  0.000208 -0.000499  0.000034      0 -46.620477  -57.311138  \n",
       "3 -0.000015 -0.000159  0.000221      0  19.138359 -140.211489  \n",
       "4  0.000368  0.000368  0.000030      0   4.713819   80.261665  \n",
       "5 -0.000664 -0.000518  0.000171      0 -46.061583   22.246025  \n",
       "6  0.000290  0.000314 -0.000375      0  47.047346  137.958918  \n",
       "7 -0.000026 -0.000013 -0.000047      0 -41.049112   30.193004  \n",
       "8 -0.000026 -0.000013 -0.000047      0  -8.402991 -100.981726  \n",
       "9 -0.000358 -0.000301 -0.000061      0  50.047523  175.566751  \n",
       "\n",
       "[10 rows x 21 columns]"
      ]
     },
     "execution_count": 18,
     "metadata": {},
     "output_type": "execute_result"
    }
   ],
   "source": [
    "# ricorda che merge produce un NUOVO dataframe:\n",
    "\n",
    "df = pd.read_csv('astropi.csv', encoding='UTF-8')\n",
    "\n",
    "geo_astropi = df.merge(iss_coords, left_on='time_stamp', right_on='timestamp')\n",
    "\n",
    "# merge aggiunge sia la colonna time_stamp che timestamp,\n",
    "# perciò rimuoviamo la colonna duplicata 'timestamp'\n",
    "\n",
    "geo_astropi = geo_astropi.drop('timestamp', axis=1)\n",
    "geo_astropi"
   ]
  },
  {
   "cell_type": "markdown",
   "id": "63237860",
   "metadata": {
    "slideshow": {
     "slide_type": "subslide"
    }
   },
   "source": [
    "## Esercizio - migliorare merge\n",
    "\n",
    "La tabella di prima ha le colonne `lat` e `lon`...\n",
    "\n",
    "... ma pochissime righe! Perchè? "
   ]
  },
  {
   "cell_type": "markdown",
   "id": "0c531c11",
   "metadata": {
    "slideshow": {
     "slide_type": "-"
    }
   },
   "source": [
    "**Prova a fondere le tabelle in qualche modo utile in modo da avere tutte le righe originali e tutte le celle di lat e lon riempite.**\n",
    "\n",
    "- Per altre strategie di `merge`, leggi l’attributo `how` in [Why And How To Use Merge With Pandas in Python](https://towardsdatascience.com/why-and-how-to-use-merge-with-pandas-in-python-548600f7e738)\n",
    "\n",
    "- Per riempire valori mancanti non usare tecniche di interpolazione, semplicemente metti la posizione della stazione in quel dato giorno o ora.\n",
    "\n",
    "[Discussione e soluzione](https://it.softpython.org/pandas/pandas2-advanced-sol.html#2.-Congiungere-tabelle)"
   ]
  },
  {
   "cell_type": "markdown",
   "id": "01b44695",
   "metadata": {
    "slideshow": {
     "slide_type": "slide"
    }
   },
   "source": [
    "## GeoPandas (menzione)\n",
    "\n",
    "GeoPandas è un'estensione di pandas per agevolare l'utilizzo e visualizzazione di forme geometriche e geografiche nel dataframe:\n",
    "\n",
    "![italy population](img/italy-population.png)"
   ]
  },
  {
   "cell_type": "markdown",
   "id": "781c930b",
   "metadata": {
    "slideshow": {
     "slide_type": "-"
    }
   },
   "source": [
    "Se vi interessa:\n",
    "\n",
    "**su SoftPython**: [c'è una sezione ](https://it.softpython.org/pandas/pandas2-advanced-sol.html#3.-GeoPandas) ma è più che altro una bozza\n",
    "\n",
    "**Per tanti bei tutorial completi online**: raccomando il materiale (in inglese) dal sito [Geospatial Analysis and Representation for Data Science](https://napo.github.io/geospatial_course_unitn/) del relativo corso tenuto da Maurizio Napolitano (FBK) al master in Data Science all’Università di Trento."
   ]
  },
  {
   "cell_type": "code",
   "execution_count": 19,
   "id": "f95e8943",
   "metadata": {},
   "outputs": [
    {
     "data": {
      "text/plain": [
       "''"
      ]
     },
     "execution_count": 19,
     "metadata": {},
     "output_type": "execute_result"
    }
   ],
   "source": [
    "#jupman-purge-io\n",
    "# scrivi qui\n",
    "''"
   ]
  },
  {
   "cell_type": "code",
   "execution_count": null,
   "id": "e089142e",
   "metadata": {},
   "outputs": [],
   "source": []
  }
 ],
 "metadata": {
  "celltoolbar": "Slideshow",
  "kernelspec": {
   "display_name": "Python 3 (ipykernel)",
   "language": "python",
   "name": "python3"
  },
  "language_info": {
   "codemirror_mode": {
    "name": "ipython",
    "version": 3
   },
   "file_extension": ".py",
   "mimetype": "text/x-python",
   "name": "python",
   "nbconvert_exporter": "python",
   "pygments_lexer": "ipython3",
   "version": "3.7.17"
  },
  "toc": {
   "base_numbering": 1,
   "nav_menu": {},
   "number_sections": false,
   "sideBar": true,
   "skip_h1_title": false,
   "title_cell": "Table of Contents",
   "title_sidebar": "Contents",
   "toc_cell": false,
   "toc_position": {
    "height": "calc(100% - 180px)",
    "left": "10px",
    "top": "150px",
    "width": "373.188px"
   },
   "toc_section_display": true,
   "toc_window_display": true
  }
 },
 "nbformat": 4,
 "nbformat_minor": 5
}
