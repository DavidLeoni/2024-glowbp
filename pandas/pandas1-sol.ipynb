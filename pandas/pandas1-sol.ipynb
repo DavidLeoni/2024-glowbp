{
 "cells": [
  {
   "cell_type": "code",
   "execution_count": 1,
   "id": "8e77c3a2",
   "metadata": {
    "slideshow": {
     "slide_type": "skip"
    }
   },
   "outputs": [
    {
     "data": {
      "text/html": [
       "        \n",
       "            <script src=\"../_static/js/python.iife.js\" type=\"application/javascript\"></script>\n",
       "        "
      ],
      "text/plain": [
       "<IPython.core.display.HTML object>"
      ]
     },
     "execution_count": 1,
     "metadata": {},
     "output_type": "execute_result"
    }
   ],
   "source": [
    "import sys\n",
    "sys.path.append('../')\n",
    "import jupman\n",
    "\n",
    "import conf\n",
    "\n",
    "conf.jm.init_icp()"
   ]
  },
  {
   "cell_type": "markdown",
   "id": "0049100b",
   "metadata": {
    "slideshow": {
     "slide_type": "slide"
    }
   },
   "source": [
    "\n",
    "# Pandas 1: introduzione\n",
    "\n",
    "**Riferimenti:** [SoftPython - pandas 1](https://it.softpython.org/pandas/pandas1-intro-sol.html)\n",
    "\n",
    "* visualizza al meglio in <img style=\"display:inline; width:25px; vertical-align: middle;\" src=\"../_static/img/chrome.png\" alttext=\"Chrome\">\n",
    "* versione stampabile: [clicca qua](?print-pdf)\n",
    "* per navigare nelle slide: premere `Esc`\n",
    "\n",
    "<br>\n",
    "<br>\n",
    "\n",
    "**Summer School Data Science 2023 - Modulo 1 informatica:** [Moodle](https://didatticaonline.unitn.it/dol/course/view.php?id=36683) \n",
    "\n",
    "Docente: David Leoni david.leoni@unitn.it\n",
    "\n",
    "Esercitatore: Luca Bosotti luca.bosotti@studenti.unitn.it\n"
   ]
  },
  {
   "cell_type": "markdown",
   "id": "412185c7",
   "metadata": {
    "slideshow": {
     "slide_type": "subslide"
    }
   },
   "source": [
    "## Dov'è Pandas?"
   ]
  },
  {
   "cell_type": "markdown",
   "id": "07ddbe37",
   "metadata": {
    "slideshow": {
     "slide_type": "-"
    }
   },
   "source": [
    "![](img/pydata.png)"
   ]
  },
  {
   "cell_type": "markdown",
   "id": "a00936b9",
   "metadata": {
    "slideshow": {
     "slide_type": "subslide"
    }
   },
   "source": [
    "## Perchè Pandas?\n",
    "\n",
    "Per analizzare rapidamente dataset che stanno in RAM"
   ]
  },
  {
   "cell_type": "markdown",
   "id": "0364e383",
   "metadata": {
    "slideshow": {
     "slide_type": "fragment"
    }
   },
   "source": [
    "### Quale Pandas?\n",
    "\n",
    "1.0: basato su numpy, di solito i tutorial che trovate in giro si riferiscono a questa versione\n",
    "\n",
    "2.0: molto recente (luglio 2023), più efficiente, può supportare opzionalmente [PyArrow](https://levelup.gitconnected.com/welcoming-pandas-2-0-194094e4275b), tipi 'nullabili' "
   ]
  },
  {
   "cell_type": "markdown",
   "id": "2519b740",
   "metadata": {
    "slideshow": {
     "slide_type": "fragment"
    }
   },
   "source": [
    "### Alternative: \n",
    "\n",
    "- [Polars](https://www.pola.rs/) \n",
    "\n",
    "- Per big data: [PySpark](https://spark.apache.org/docs/latest/api/python/) , [PyArrow](https://arrow.apache.org/docs/python/index.html), ..."
   ]
  },
  {
   "cell_type": "markdown",
   "id": "4fbcb48b",
   "metadata": {
    "slideshow": {
     "slide_type": "slide"
    }
   },
   "source": [
    "## Astropi: un dataset... spaziale!\n",
    "\n",
    "- File: [astropi.csv]('astropi.csv')\n",
    "- Fonte: [ESA / Raspberry foundation](https://projects.raspberrypi.org/en/projects/astro-pi-flight-data-analysis) (abbiamo sostituito ROW_ID con time_stamp)"
   ]
  },
  {
   "cell_type": "markdown",
   "id": "faece979",
   "metadata": {
    "slideshow": {
     "slide_type": "-"
    }
   },
   "source": [
    "<img width=\"70%\" src=\"img/International_Space_Station_exploded_diagram_large.jpg\" alttext=\"International_Space_Station_exploded_diagram_large\">"
   ]
  },
  {
   "cell_type": "markdown",
   "id": "5a1a0af7",
   "metadata": {
    "slideshow": {
     "slide_type": "subslide"
    }
   },
   "source": [
    "### Carichiamo il dataset\n",
    "\n",
    "- ricordarti l'encoding"
   ]
  },
  {
   "cell_type": "code",
   "execution_count": 2,
   "id": "9a338923",
   "metadata": {
    "slideshow": {
     "slide_type": "-"
    }
   },
   "outputs": [],
   "source": [
    "import pandas as pd   \n",
    "import numpy as np    \n",
    "df = pd.read_csv('astropi.csv', encoding='UTF-8')"
   ]
  },
  {
   "cell_type": "code",
   "execution_count": 3,
   "id": "6a65c8d9",
   "metadata": {
    "slideshow": {
     "slide_type": "subslide"
    }
   },
   "outputs": [
    {
     "name": "stdout",
     "output_type": "stream",
     "text": [
      "<class 'pandas.core.frame.DataFrame'>\n",
      "RangeIndex: 110869 entries, 0 to 110868\n",
      "Data columns (total 19 columns):\n",
      " #   Column      Non-Null Count   Dtype  \n",
      "---  ------      --------------   -----  \n",
      " 0   time_stamp  110869 non-null  object \n",
      " 1   temp_cpu    110869 non-null  float64\n",
      " 2   temp_h      110869 non-null  float64\n",
      " 3   temp_p      110869 non-null  float64\n",
      " 4   humidity    110869 non-null  float64\n",
      " 5   pressure    110869 non-null  float64\n",
      " 6   pitch       110869 non-null  float64\n",
      " 7   roll        110869 non-null  float64\n",
      " 8   yaw         110869 non-null  float64\n",
      " 9   mag_x       110869 non-null  float64\n",
      " 10  mag_y       110869 non-null  float64\n",
      " 11  mag_z       110869 non-null  float64\n",
      " 12  accel_x     110869 non-null  float64\n",
      " 13  accel_y     110869 non-null  float64\n",
      " 14  accel_z     110869 non-null  float64\n",
      " 15  gyro_x      110869 non-null  float64\n",
      " 16  gyro_y      110869 non-null  float64\n",
      " 17  gyro_z      110869 non-null  float64\n",
      " 18  reset       110869 non-null  int64  \n",
      "dtypes: float64(17), int64(1), object(1)\n",
      "memory usage: 16.1+ MB\n"
     ]
    }
   ],
   "source": [
    "df.info()"
   ]
  },
  {
   "cell_type": "markdown",
   "id": "3124bba7",
   "metadata": {
    "slideshow": {
     "slide_type": "subslide"
    }
   },
   "source": [
    "### Memoria\n",
    "\n",
    "**Perchè c'è** `+` **dopo i megabyte?** \n",
    "\n",
    "- Prova ad aggiungere il parametro `memory_usage=\"deep\"` alla chiamata `df.info`\n",
    "- Confronta con quanto occupa in Windows"
   ]
  },
  {
   "cell_type": "markdown",
   "id": "017e1107",
   "metadata": {
    "slideshow": {
     "slide_type": "fragment"
    }
   },
   "source": [
    "### Dimensioni"
   ]
  },
  {
   "cell_type": "code",
   "execution_count": 4,
   "id": "1272f300",
   "metadata": {
    "slideshow": {
     "slide_type": "-"
    }
   },
   "outputs": [
    {
     "data": {
      "text/plain": [
       "(110869, 19)"
      ]
     },
     "execution_count": 4,
     "metadata": {},
     "output_type": "execute_result"
    }
   ],
   "source": [
    "df.shape"
   ]
  },
  {
   "cell_type": "markdown",
   "id": "7b31e936",
   "metadata": {
    "slideshow": {
     "slide_type": "-"
    }
   },
   "source": [
    "**DOMANDA**: attributo o metodo?"
   ]
  },
  {
   "cell_type": "markdown",
   "id": "df309512",
   "metadata": {
    "slideshow": {
     "slide_type": "subslide"
    }
   },
   "source": [
    "### Esploriamo"
   ]
  },
  {
   "cell_type": "code",
   "execution_count": 5,
   "id": "9d9bb516",
   "metadata": {
    "slideshow": {
     "slide_type": "-"
    }
   },
   "outputs": [
    {
     "data": {
      "text/html": [
       "<div>\n",
       "<style scoped>\n",
       "    .dataframe tbody tr th:only-of-type {\n",
       "        vertical-align: middle;\n",
       "    }\n",
       "\n",
       "    .dataframe tbody tr th {\n",
       "        vertical-align: top;\n",
       "    }\n",
       "\n",
       "    .dataframe thead th {\n",
       "        text-align: right;\n",
       "    }\n",
       "</style>\n",
       "<table border=\"1\" class=\"dataframe\">\n",
       "  <thead>\n",
       "    <tr style=\"text-align: right;\">\n",
       "      <th></th>\n",
       "      <th>time_stamp</th>\n",
       "      <th>temp_cpu</th>\n",
       "      <th>temp_h</th>\n",
       "      <th>temp_p</th>\n",
       "      <th>humidity</th>\n",
       "      <th>pressure</th>\n",
       "      <th>pitch</th>\n",
       "      <th>roll</th>\n",
       "      <th>yaw</th>\n",
       "      <th>mag_x</th>\n",
       "      <th>mag_y</th>\n",
       "      <th>mag_z</th>\n",
       "      <th>accel_x</th>\n",
       "      <th>accel_y</th>\n",
       "      <th>accel_z</th>\n",
       "      <th>gyro_x</th>\n",
       "      <th>gyro_y</th>\n",
       "      <th>gyro_z</th>\n",
       "      <th>reset</th>\n",
       "    </tr>\n",
       "  </thead>\n",
       "  <tbody>\n",
       "    <tr>\n",
       "      <th>0</th>\n",
       "      <td>2016-02-16 10:44:40</td>\n",
       "      <td>31.88</td>\n",
       "      <td>27.57</td>\n",
       "      <td>25.01</td>\n",
       "      <td>44.94</td>\n",
       "      <td>1001.68</td>\n",
       "      <td>1.49</td>\n",
       "      <td>52.25</td>\n",
       "      <td>185.21</td>\n",
       "      <td>-46.422753</td>\n",
       "      <td>-8.132907</td>\n",
       "      <td>-12.129346</td>\n",
       "      <td>-0.000468</td>\n",
       "      <td>0.019439</td>\n",
       "      <td>0.014569</td>\n",
       "      <td>0.000942</td>\n",
       "      <td>0.000492</td>\n",
       "      <td>-0.000750</td>\n",
       "      <td>20</td>\n",
       "    </tr>\n",
       "    <tr>\n",
       "      <th>1</th>\n",
       "      <td>2016-02-16 10:44:50</td>\n",
       "      <td>31.79</td>\n",
       "      <td>27.53</td>\n",
       "      <td>25.01</td>\n",
       "      <td>45.12</td>\n",
       "      <td>1001.72</td>\n",
       "      <td>1.03</td>\n",
       "      <td>53.73</td>\n",
       "      <td>186.72</td>\n",
       "      <td>-48.778951</td>\n",
       "      <td>-8.304243</td>\n",
       "      <td>-12.943096</td>\n",
       "      <td>-0.000614</td>\n",
       "      <td>0.019436</td>\n",
       "      <td>0.014577</td>\n",
       "      <td>0.000218</td>\n",
       "      <td>-0.000005</td>\n",
       "      <td>-0.000235</td>\n",
       "      <td>0</td>\n",
       "    </tr>\n",
       "    <tr>\n",
       "      <th>2</th>\n",
       "      <td>2016-02-16 10:45:00</td>\n",
       "      <td>31.66</td>\n",
       "      <td>27.53</td>\n",
       "      <td>25.01</td>\n",
       "      <td>45.12</td>\n",
       "      <td>1001.72</td>\n",
       "      <td>1.24</td>\n",
       "      <td>53.57</td>\n",
       "      <td>186.21</td>\n",
       "      <td>-49.161878</td>\n",
       "      <td>-8.470832</td>\n",
       "      <td>-12.642772</td>\n",
       "      <td>-0.000569</td>\n",
       "      <td>0.019359</td>\n",
       "      <td>0.014357</td>\n",
       "      <td>0.000395</td>\n",
       "      <td>0.000600</td>\n",
       "      <td>-0.000003</td>\n",
       "      <td>0</td>\n",
       "    </tr>\n",
       "  </tbody>\n",
       "</table>\n",
       "</div>"
      ],
      "text/plain": [
       "            time_stamp  temp_cpu  temp_h  temp_p  humidity  pressure  pitch  \\\n",
       "0  2016-02-16 10:44:40     31.88   27.57   25.01     44.94   1001.68   1.49   \n",
       "1  2016-02-16 10:44:50     31.79   27.53   25.01     45.12   1001.72   1.03   \n",
       "2  2016-02-16 10:45:00     31.66   27.53   25.01     45.12   1001.72   1.24   \n",
       "\n",
       "    roll     yaw      mag_x     mag_y      mag_z   accel_x   accel_y  \\\n",
       "0  52.25  185.21 -46.422753 -8.132907 -12.129346 -0.000468  0.019439   \n",
       "1  53.73  186.72 -48.778951 -8.304243 -12.943096 -0.000614  0.019436   \n",
       "2  53.57  186.21 -49.161878 -8.470832 -12.642772 -0.000569  0.019359   \n",
       "\n",
       "    accel_z    gyro_x    gyro_y    gyro_z  reset  \n",
       "0  0.014569  0.000942  0.000492 -0.000750     20  \n",
       "1  0.014577  0.000218 -0.000005 -0.000235      0  \n",
       "2  0.014357  0.000395  0.000600 -0.000003      0  "
      ]
     },
     "execution_count": 5,
     "metadata": {},
     "output_type": "execute_result"
    }
   ],
   "source": [
    "df.head(3)"
   ]
  },
  {
   "cell_type": "code",
   "execution_count": 6,
   "id": "e6f9b78d",
   "metadata": {
    "slideshow": {
     "slide_type": "fragment"
    }
   },
   "outputs": [
    {
     "data": {
      "text/html": [
       "<div>\n",
       "<style scoped>\n",
       "    .dataframe tbody tr th:only-of-type {\n",
       "        vertical-align: middle;\n",
       "    }\n",
       "\n",
       "    .dataframe tbody tr th {\n",
       "        vertical-align: top;\n",
       "    }\n",
       "\n",
       "    .dataframe thead th {\n",
       "        text-align: right;\n",
       "    }\n",
       "</style>\n",
       "<table border=\"1\" class=\"dataframe\">\n",
       "  <thead>\n",
       "    <tr style=\"text-align: right;\">\n",
       "      <th></th>\n",
       "      <th>time_stamp</th>\n",
       "      <th>temp_cpu</th>\n",
       "      <th>temp_h</th>\n",
       "      <th>temp_p</th>\n",
       "      <th>humidity</th>\n",
       "      <th>pressure</th>\n",
       "      <th>pitch</th>\n",
       "      <th>roll</th>\n",
       "      <th>yaw</th>\n",
       "      <th>mag_x</th>\n",
       "      <th>mag_y</th>\n",
       "      <th>mag_z</th>\n",
       "      <th>accel_x</th>\n",
       "      <th>accel_y</th>\n",
       "      <th>accel_z</th>\n",
       "      <th>gyro_x</th>\n",
       "      <th>gyro_y</th>\n",
       "      <th>gyro_z</th>\n",
       "      <th>reset</th>\n",
       "    </tr>\n",
       "  </thead>\n",
       "  <tbody>\n",
       "    <tr>\n",
       "      <th>110866</th>\n",
       "      <td>2016-02-29 09:24:41</td>\n",
       "      <td>31.58</td>\n",
       "      <td>27.50</td>\n",
       "      <td>24.83</td>\n",
       "      <td>42.83</td>\n",
       "      <td>1005.85</td>\n",
       "      <td>2.09</td>\n",
       "      <td>50.00</td>\n",
       "      <td>132.04</td>\n",
       "      <td>-16.646212</td>\n",
       "      <td>-27.719479</td>\n",
       "      <td>1.629533</td>\n",
       "      <td>-0.000647</td>\n",
       "      <td>0.017657</td>\n",
       "      <td>0.014799</td>\n",
       "      <td>0.000537</td>\n",
       "      <td>0.000257</td>\n",
       "      <td>0.000057</td>\n",
       "      <td>0</td>\n",
       "    </tr>\n",
       "    <tr>\n",
       "      <th>110867</th>\n",
       "      <td>2016-02-29 09:24:50</td>\n",
       "      <td>31.62</td>\n",
       "      <td>27.50</td>\n",
       "      <td>24.83</td>\n",
       "      <td>42.81</td>\n",
       "      <td>1005.88</td>\n",
       "      <td>2.88</td>\n",
       "      <td>49.69</td>\n",
       "      <td>133.00</td>\n",
       "      <td>-17.270447</td>\n",
       "      <td>-27.793136</td>\n",
       "      <td>1.703806</td>\n",
       "      <td>-0.000835</td>\n",
       "      <td>0.017635</td>\n",
       "      <td>0.014877</td>\n",
       "      <td>0.000534</td>\n",
       "      <td>0.000456</td>\n",
       "      <td>0.000195</td>\n",
       "      <td>0</td>\n",
       "    </tr>\n",
       "    <tr>\n",
       "      <th>110868</th>\n",
       "      <td>2016-02-29 09:25:00</td>\n",
       "      <td>31.57</td>\n",
       "      <td>27.51</td>\n",
       "      <td>24.83</td>\n",
       "      <td>42.94</td>\n",
       "      <td>1005.86</td>\n",
       "      <td>2.17</td>\n",
       "      <td>49.77</td>\n",
       "      <td>134.18</td>\n",
       "      <td>-17.885872</td>\n",
       "      <td>-27.824149</td>\n",
       "      <td>1.293345</td>\n",
       "      <td>-0.000787</td>\n",
       "      <td>0.017261</td>\n",
       "      <td>0.014380</td>\n",
       "      <td>0.000459</td>\n",
       "      <td>0.000076</td>\n",
       "      <td>0.000030</td>\n",
       "      <td>0</td>\n",
       "    </tr>\n",
       "  </tbody>\n",
       "</table>\n",
       "</div>"
      ],
      "text/plain": [
       "                 time_stamp  temp_cpu  temp_h  temp_p  humidity  pressure  \\\n",
       "110866  2016-02-29 09:24:41     31.58   27.50   24.83     42.83   1005.85   \n",
       "110867  2016-02-29 09:24:50     31.62   27.50   24.83     42.81   1005.88   \n",
       "110868  2016-02-29 09:25:00     31.57   27.51   24.83     42.94   1005.86   \n",
       "\n",
       "        pitch   roll     yaw      mag_x      mag_y     mag_z   accel_x  \\\n",
       "110866   2.09  50.00  132.04 -16.646212 -27.719479  1.629533 -0.000647   \n",
       "110867   2.88  49.69  133.00 -17.270447 -27.793136  1.703806 -0.000835   \n",
       "110868   2.17  49.77  134.18 -17.885872 -27.824149  1.293345 -0.000787   \n",
       "\n",
       "         accel_y   accel_z    gyro_x    gyro_y    gyro_z  reset  \n",
       "110866  0.017657  0.014799  0.000537  0.000257  0.000057      0  \n",
       "110867  0.017635  0.014877  0.000534  0.000456  0.000195      0  \n",
       "110868  0.017261  0.014380  0.000459  0.000076  0.000030      0  "
      ]
     },
     "execution_count": 6,
     "metadata": {},
     "output_type": "execute_result"
    }
   ],
   "source": [
    "df.tail(3)"
   ]
  },
  {
   "cell_type": "markdown",
   "id": "7e8faa37",
   "metadata": {
    "slideshow": {
     "slide_type": "slide"
    }
   },
   "source": [
    "## Qualche statistica 1/2"
   ]
  },
  {
   "cell_type": "code",
   "execution_count": 7,
   "id": "48a0a63f",
   "metadata": {
    "slideshow": {
     "slide_type": "-"
    }
   },
   "outputs": [
    {
     "data": {
      "text/html": [
       "<div>\n",
       "<style scoped>\n",
       "    .dataframe tbody tr th:only-of-type {\n",
       "        vertical-align: middle;\n",
       "    }\n",
       "\n",
       "    .dataframe tbody tr th {\n",
       "        vertical-align: top;\n",
       "    }\n",
       "\n",
       "    .dataframe thead th {\n",
       "        text-align: right;\n",
       "    }\n",
       "</style>\n",
       "<table border=\"1\" class=\"dataframe\">\n",
       "  <thead>\n",
       "    <tr style=\"text-align: right;\">\n",
       "      <th></th>\n",
       "      <th>temp_cpu</th>\n",
       "      <th>temp_h</th>\n",
       "      <th>temp_p</th>\n",
       "      <th>humidity</th>\n",
       "      <th>pressure</th>\n",
       "      <th>pitch</th>\n",
       "      <th>roll</th>\n",
       "      <th>yaw</th>\n",
       "      <th>mag_x</th>\n",
       "      <th>mag_y</th>\n",
       "      <th>mag_z</th>\n",
       "      <th>accel_x</th>\n",
       "      <th>accel_y</th>\n",
       "      <th>accel_z</th>\n",
       "      <th>gyro_x</th>\n",
       "      <th>gyro_y</th>\n",
       "      <th>gyro_z</th>\n",
       "      <th>reset</th>\n",
       "    </tr>\n",
       "  </thead>\n",
       "  <tbody>\n",
       "    <tr>\n",
       "      <th>count</th>\n",
       "      <td>110869.000000</td>\n",
       "      <td>110869.000000</td>\n",
       "      <td>110869.000000</td>\n",
       "      <td>110869.000000</td>\n",
       "      <td>110869.000000</td>\n",
       "      <td>110869.000000</td>\n",
       "      <td>110869.000000</td>\n",
       "      <td>110869.00000</td>\n",
       "      <td>110869.000000</td>\n",
       "      <td>110869.000000</td>\n",
       "      <td>110869.000000</td>\n",
       "      <td>110869.000000</td>\n",
       "      <td>110869.000000</td>\n",
       "      <td>110869.000000</td>\n",
       "      <td>1.108690e+05</td>\n",
       "      <td>110869.000000</td>\n",
       "      <td>1.108690e+05</td>\n",
       "      <td>110869.000000</td>\n",
       "    </tr>\n",
       "    <tr>\n",
       "      <th>mean</th>\n",
       "      <td>32.236259</td>\n",
       "      <td>28.101773</td>\n",
       "      <td>25.543272</td>\n",
       "      <td>46.252005</td>\n",
       "      <td>1008.126788</td>\n",
       "      <td>2.770553</td>\n",
       "      <td>51.807973</td>\n",
       "      <td>200.90126</td>\n",
       "      <td>-19.465265</td>\n",
       "      <td>-1.174493</td>\n",
       "      <td>-6.004529</td>\n",
       "      <td>-0.000630</td>\n",
       "      <td>0.018504</td>\n",
       "      <td>0.014512</td>\n",
       "      <td>-8.959493e-07</td>\n",
       "      <td>0.000007</td>\n",
       "      <td>-9.671594e-07</td>\n",
       "      <td>0.000180</td>\n",
       "    </tr>\n",
       "    <tr>\n",
       "      <th>std</th>\n",
       "      <td>0.360289</td>\n",
       "      <td>0.369256</td>\n",
       "      <td>0.380877</td>\n",
       "      <td>1.907273</td>\n",
       "      <td>3.093485</td>\n",
       "      <td>21.848940</td>\n",
       "      <td>2.085821</td>\n",
       "      <td>84.47763</td>\n",
       "      <td>28.120202</td>\n",
       "      <td>15.655121</td>\n",
       "      <td>8.552481</td>\n",
       "      <td>0.000224</td>\n",
       "      <td>0.000604</td>\n",
       "      <td>0.000312</td>\n",
       "      <td>2.807614e-03</td>\n",
       "      <td>0.002456</td>\n",
       "      <td>2.133104e-03</td>\n",
       "      <td>0.060065</td>\n",
       "    </tr>\n",
       "    <tr>\n",
       "      <th>min</th>\n",
       "      <td>31.410000</td>\n",
       "      <td>27.200000</td>\n",
       "      <td>24.530000</td>\n",
       "      <td>42.270000</td>\n",
       "      <td>1001.560000</td>\n",
       "      <td>0.000000</td>\n",
       "      <td>30.890000</td>\n",
       "      <td>0.01000</td>\n",
       "      <td>-73.046240</td>\n",
       "      <td>-43.810030</td>\n",
       "      <td>-41.163040</td>\n",
       "      <td>-0.025034</td>\n",
       "      <td>-0.005903</td>\n",
       "      <td>-0.022900</td>\n",
       "      <td>-3.037930e-01</td>\n",
       "      <td>-0.378412</td>\n",
       "      <td>-2.970800e-01</td>\n",
       "      <td>0.000000</td>\n",
       "    </tr>\n",
       "    <tr>\n",
       "      <th>25%</th>\n",
       "      <td>31.960000</td>\n",
       "      <td>27.840000</td>\n",
       "      <td>25.260000</td>\n",
       "      <td>45.230000</td>\n",
       "      <td>1006.090000</td>\n",
       "      <td>1.140000</td>\n",
       "      <td>51.180000</td>\n",
       "      <td>162.43000</td>\n",
       "      <td>-41.742792</td>\n",
       "      <td>-12.982321</td>\n",
       "      <td>-11.238430</td>\n",
       "      <td>-0.000697</td>\n",
       "      <td>0.018009</td>\n",
       "      <td>0.014349</td>\n",
       "      <td>-2.750000e-04</td>\n",
       "      <td>-0.000278</td>\n",
       "      <td>-1.200000e-04</td>\n",
       "      <td>0.000000</td>\n",
       "    </tr>\n",
       "    <tr>\n",
       "      <th>50%</th>\n",
       "      <td>32.280000</td>\n",
       "      <td>28.110000</td>\n",
       "      <td>25.570000</td>\n",
       "      <td>46.130000</td>\n",
       "      <td>1007.650000</td>\n",
       "      <td>1.450000</td>\n",
       "      <td>51.950000</td>\n",
       "      <td>190.58000</td>\n",
       "      <td>-21.339485</td>\n",
       "      <td>-1.350467</td>\n",
       "      <td>-5.764400</td>\n",
       "      <td>-0.000631</td>\n",
       "      <td>0.018620</td>\n",
       "      <td>0.014510</td>\n",
       "      <td>-3.000000e-06</td>\n",
       "      <td>-0.000004</td>\n",
       "      <td>-1.000000e-06</td>\n",
       "      <td>0.000000</td>\n",
       "    </tr>\n",
       "    <tr>\n",
       "      <th>75%</th>\n",
       "      <td>32.480000</td>\n",
       "      <td>28.360000</td>\n",
       "      <td>25.790000</td>\n",
       "      <td>46.880000</td>\n",
       "      <td>1010.270000</td>\n",
       "      <td>1.740000</td>\n",
       "      <td>52.450000</td>\n",
       "      <td>256.34000</td>\n",
       "      <td>7.299000</td>\n",
       "      <td>11.912456</td>\n",
       "      <td>-0.653705</td>\n",
       "      <td>-0.000567</td>\n",
       "      <td>0.018940</td>\n",
       "      <td>0.014673</td>\n",
       "      <td>2.710000e-04</td>\n",
       "      <td>0.000271</td>\n",
       "      <td>1.190000e-04</td>\n",
       "      <td>0.000000</td>\n",
       "    </tr>\n",
       "    <tr>\n",
       "      <th>max</th>\n",
       "      <td>33.700000</td>\n",
       "      <td>29.280000</td>\n",
       "      <td>26.810000</td>\n",
       "      <td>60.590000</td>\n",
       "      <td>1021.780000</td>\n",
       "      <td>360.000000</td>\n",
       "      <td>359.400000</td>\n",
       "      <td>359.98000</td>\n",
       "      <td>33.134748</td>\n",
       "      <td>37.552135</td>\n",
       "      <td>31.003047</td>\n",
       "      <td>0.018708</td>\n",
       "      <td>0.041012</td>\n",
       "      <td>0.029938</td>\n",
       "      <td>2.151470e-01</td>\n",
       "      <td>0.389499</td>\n",
       "      <td>2.698760e-01</td>\n",
       "      <td>20.000000</td>\n",
       "    </tr>\n",
       "  </tbody>\n",
       "</table>\n",
       "</div>"
      ],
      "text/plain": [
       "            temp_cpu         temp_h         temp_p       humidity  \\\n",
       "count  110869.000000  110869.000000  110869.000000  110869.000000   \n",
       "mean       32.236259      28.101773      25.543272      46.252005   \n",
       "std         0.360289       0.369256       0.380877       1.907273   \n",
       "min        31.410000      27.200000      24.530000      42.270000   \n",
       "25%        31.960000      27.840000      25.260000      45.230000   \n",
       "50%        32.280000      28.110000      25.570000      46.130000   \n",
       "75%        32.480000      28.360000      25.790000      46.880000   \n",
       "max        33.700000      29.280000      26.810000      60.590000   \n",
       "\n",
       "            pressure          pitch           roll           yaw  \\\n",
       "count  110869.000000  110869.000000  110869.000000  110869.00000   \n",
       "mean     1008.126788       2.770553      51.807973     200.90126   \n",
       "std         3.093485      21.848940       2.085821      84.47763   \n",
       "min      1001.560000       0.000000      30.890000       0.01000   \n",
       "25%      1006.090000       1.140000      51.180000     162.43000   \n",
       "50%      1007.650000       1.450000      51.950000     190.58000   \n",
       "75%      1010.270000       1.740000      52.450000     256.34000   \n",
       "max      1021.780000     360.000000     359.400000     359.98000   \n",
       "\n",
       "               mag_x          mag_y          mag_z        accel_x  \\\n",
       "count  110869.000000  110869.000000  110869.000000  110869.000000   \n",
       "mean      -19.465265      -1.174493      -6.004529      -0.000630   \n",
       "std        28.120202      15.655121       8.552481       0.000224   \n",
       "min       -73.046240     -43.810030     -41.163040      -0.025034   \n",
       "25%       -41.742792     -12.982321     -11.238430      -0.000697   \n",
       "50%       -21.339485      -1.350467      -5.764400      -0.000631   \n",
       "75%         7.299000      11.912456      -0.653705      -0.000567   \n",
       "max        33.134748      37.552135      31.003047       0.018708   \n",
       "\n",
       "             accel_y        accel_z        gyro_x         gyro_y  \\\n",
       "count  110869.000000  110869.000000  1.108690e+05  110869.000000   \n",
       "mean        0.018504       0.014512 -8.959493e-07       0.000007   \n",
       "std         0.000604       0.000312  2.807614e-03       0.002456   \n",
       "min        -0.005903      -0.022900 -3.037930e-01      -0.378412   \n",
       "25%         0.018009       0.014349 -2.750000e-04      -0.000278   \n",
       "50%         0.018620       0.014510 -3.000000e-06      -0.000004   \n",
       "75%         0.018940       0.014673  2.710000e-04       0.000271   \n",
       "max         0.041012       0.029938  2.151470e-01       0.389499   \n",
       "\n",
       "             gyro_z          reset  \n",
       "count  1.108690e+05  110869.000000  \n",
       "mean  -9.671594e-07       0.000180  \n",
       "std    2.133104e-03       0.060065  \n",
       "min   -2.970800e-01       0.000000  \n",
       "25%   -1.200000e-04       0.000000  \n",
       "50%   -1.000000e-06       0.000000  \n",
       "75%    1.190000e-04       0.000000  \n",
       "max    2.698760e-01      20.000000  "
      ]
     },
     "execution_count": 7,
     "metadata": {},
     "output_type": "execute_result"
    }
   ],
   "source": [
    "df.describe()"
   ]
  },
  {
   "cell_type": "markdown",
   "id": "8afbc396",
   "metadata": {
    "slideshow": {
     "slide_type": "fragment"
    }
   },
   "source": [
    "**DOMANDA**: mancano campi? Perchè?"
   ]
  },
  {
   "cell_type": "markdown",
   "id": "7d4b5a2c",
   "metadata": {
    "slideshow": {
     "slide_type": "subslide"
    }
   },
   "source": [
    "### Qualche statistica 2/2"
   ]
  },
  {
   "cell_type": "code",
   "execution_count": 8,
   "id": "5a5c7b75",
   "metadata": {
    "slideshow": {
     "slide_type": "-"
    }
   },
   "outputs": [
    {
     "data": {
      "text/html": [
       "<div>\n",
       "<style scoped>\n",
       "    .dataframe tbody tr th:only-of-type {\n",
       "        vertical-align: middle;\n",
       "    }\n",
       "\n",
       "    .dataframe tbody tr th {\n",
       "        vertical-align: top;\n",
       "    }\n",
       "\n",
       "    .dataframe thead th {\n",
       "        text-align: right;\n",
       "    }\n",
       "</style>\n",
       "<table border=\"1\" class=\"dataframe\">\n",
       "  <thead>\n",
       "    <tr style=\"text-align: right;\">\n",
       "      <th></th>\n",
       "      <th>temp_cpu</th>\n",
       "      <th>temp_h</th>\n",
       "      <th>temp_p</th>\n",
       "      <th>humidity</th>\n",
       "      <th>pressure</th>\n",
       "      <th>pitch</th>\n",
       "      <th>roll</th>\n",
       "      <th>yaw</th>\n",
       "      <th>mag_x</th>\n",
       "      <th>mag_y</th>\n",
       "      <th>mag_z</th>\n",
       "      <th>accel_x</th>\n",
       "      <th>accel_y</th>\n",
       "      <th>accel_z</th>\n",
       "      <th>gyro_x</th>\n",
       "      <th>gyro_y</th>\n",
       "      <th>gyro_z</th>\n",
       "      <th>reset</th>\n",
       "    </tr>\n",
       "  </thead>\n",
       "  <tbody>\n",
       "    <tr>\n",
       "      <th>temp_cpu</th>\n",
       "      <td>1.000000</td>\n",
       "      <td>0.986872</td>\n",
       "      <td>0.991672</td>\n",
       "      <td>-0.297081</td>\n",
       "      <td>0.038065</td>\n",
       "      <td>0.008076</td>\n",
       "      <td>-0.171644</td>\n",
       "      <td>-0.117972</td>\n",
       "      <td>0.005145</td>\n",
       "      <td>-0.285192</td>\n",
       "      <td>-0.120838</td>\n",
       "      <td>-0.023582</td>\n",
       "      <td>-0.446358</td>\n",
       "      <td>-0.029155</td>\n",
       "      <td>0.002511</td>\n",
       "      <td>0.005947</td>\n",
       "      <td>-0.001250</td>\n",
       "      <td>-0.002970</td>\n",
       "    </tr>\n",
       "    <tr>\n",
       "      <th>temp_h</th>\n",
       "      <td>0.986872</td>\n",
       "      <td>1.000000</td>\n",
       "      <td>0.993260</td>\n",
       "      <td>-0.281422</td>\n",
       "      <td>0.070882</td>\n",
       "      <td>0.005145</td>\n",
       "      <td>-0.199628</td>\n",
       "      <td>-0.117870</td>\n",
       "      <td>0.000428</td>\n",
       "      <td>-0.276276</td>\n",
       "      <td>-0.098864</td>\n",
       "      <td>-0.032188</td>\n",
       "      <td>-0.510126</td>\n",
       "      <td>-0.043213</td>\n",
       "      <td>0.001771</td>\n",
       "      <td>0.005020</td>\n",
       "      <td>-0.001423</td>\n",
       "      <td>-0.004325</td>\n",
       "    </tr>\n",
       "    <tr>\n",
       "      <th>temp_p</th>\n",
       "      <td>0.991672</td>\n",
       "      <td>0.993260</td>\n",
       "      <td>1.000000</td>\n",
       "      <td>-0.288373</td>\n",
       "      <td>0.035496</td>\n",
       "      <td>0.006750</td>\n",
       "      <td>-0.163685</td>\n",
       "      <td>-0.118463</td>\n",
       "      <td>0.004338</td>\n",
       "      <td>-0.283427</td>\n",
       "      <td>-0.114407</td>\n",
       "      <td>-0.018047</td>\n",
       "      <td>-0.428884</td>\n",
       "      <td>-0.036505</td>\n",
       "      <td>0.001829</td>\n",
       "      <td>0.006127</td>\n",
       "      <td>-0.001623</td>\n",
       "      <td>-0.004205</td>\n",
       "    </tr>\n",
       "    <tr>\n",
       "      <th>humidity</th>\n",
       "      <td>-0.297081</td>\n",
       "      <td>-0.281422</td>\n",
       "      <td>-0.288373</td>\n",
       "      <td>1.000000</td>\n",
       "      <td>0.434374</td>\n",
       "      <td>0.004050</td>\n",
       "      <td>0.101304</td>\n",
       "      <td>0.031664</td>\n",
       "      <td>-0.035146</td>\n",
       "      <td>0.077897</td>\n",
       "      <td>0.076424</td>\n",
       "      <td>-0.009741</td>\n",
       "      <td>0.226281</td>\n",
       "      <td>0.005281</td>\n",
       "      <td>0.004345</td>\n",
       "      <td>0.003457</td>\n",
       "      <td>0.001298</td>\n",
       "      <td>-0.002066</td>\n",
       "    </tr>\n",
       "    <tr>\n",
       "      <th>pressure</th>\n",
       "      <td>0.038065</td>\n",
       "      <td>0.070882</td>\n",
       "      <td>0.035496</td>\n",
       "      <td>0.434374</td>\n",
       "      <td>1.000000</td>\n",
       "      <td>0.003018</td>\n",
       "      <td>0.011815</td>\n",
       "      <td>-0.051697</td>\n",
       "      <td>-0.040183</td>\n",
       "      <td>-0.074578</td>\n",
       "      <td>0.092352</td>\n",
       "      <td>0.013556</td>\n",
       "      <td>-0.115642</td>\n",
       "      <td>-0.221208</td>\n",
       "      <td>-0.000611</td>\n",
       "      <td>-0.002493</td>\n",
       "      <td>-0.000615</td>\n",
       "      <td>-0.006259</td>\n",
       "    </tr>\n",
       "    <tr>\n",
       "      <th>pitch</th>\n",
       "      <td>0.008076</td>\n",
       "      <td>0.005145</td>\n",
       "      <td>0.006750</td>\n",
       "      <td>0.004050</td>\n",
       "      <td>0.003018</td>\n",
       "      <td>1.000000</td>\n",
       "      <td>0.087941</td>\n",
       "      <td>-0.011611</td>\n",
       "      <td>0.013331</td>\n",
       "      <td>0.006133</td>\n",
       "      <td>0.000540</td>\n",
       "      <td>0.043285</td>\n",
       "      <td>0.009015</td>\n",
       "      <td>-0.039146</td>\n",
       "      <td>0.066618</td>\n",
       "      <td>-0.015034</td>\n",
       "      <td>0.049340</td>\n",
       "      <td>-0.000176</td>\n",
       "    </tr>\n",
       "    <tr>\n",
       "      <th>roll</th>\n",
       "      <td>-0.171644</td>\n",
       "      <td>-0.199628</td>\n",
       "      <td>-0.163685</td>\n",
       "      <td>0.101304</td>\n",
       "      <td>0.011815</td>\n",
       "      <td>0.087941</td>\n",
       "      <td>1.000000</td>\n",
       "      <td>0.095354</td>\n",
       "      <td>-0.020947</td>\n",
       "      <td>0.060297</td>\n",
       "      <td>-0.080620</td>\n",
       "      <td>0.116637</td>\n",
       "      <td>0.462630</td>\n",
       "      <td>-0.167905</td>\n",
       "      <td>-0.115873</td>\n",
       "      <td>-0.002509</td>\n",
       "      <td>-0.214202</td>\n",
       "      <td>0.000636</td>\n",
       "    </tr>\n",
       "    <tr>\n",
       "      <th>yaw</th>\n",
       "      <td>-0.117972</td>\n",
       "      <td>-0.117870</td>\n",
       "      <td>-0.118463</td>\n",
       "      <td>0.031664</td>\n",
       "      <td>-0.051697</td>\n",
       "      <td>-0.011611</td>\n",
       "      <td>0.095354</td>\n",
       "      <td>1.000000</td>\n",
       "      <td>0.257971</td>\n",
       "      <td>0.549394</td>\n",
       "      <td>-0.328360</td>\n",
       "      <td>0.006943</td>\n",
       "      <td>0.044157</td>\n",
       "      <td>-0.013634</td>\n",
       "      <td>0.003106</td>\n",
       "      <td>0.003665</td>\n",
       "      <td>0.004020</td>\n",
       "      <td>-0.000558</td>\n",
       "    </tr>\n",
       "    <tr>\n",
       "      <th>mag_x</th>\n",
       "      <td>0.005145</td>\n",
       "      <td>0.000428</td>\n",
       "      <td>0.004338</td>\n",
       "      <td>-0.035146</td>\n",
       "      <td>-0.040183</td>\n",
       "      <td>0.013331</td>\n",
       "      <td>-0.020947</td>\n",
       "      <td>0.257971</td>\n",
       "      <td>1.000000</td>\n",
       "      <td>0.001239</td>\n",
       "      <td>-0.213070</td>\n",
       "      <td>-0.006629</td>\n",
       "      <td>0.027921</td>\n",
       "      <td>0.021524</td>\n",
       "      <td>-0.004954</td>\n",
       "      <td>-0.004429</td>\n",
       "      <td>-0.005052</td>\n",
       "      <td>-0.002879</td>\n",
       "    </tr>\n",
       "    <tr>\n",
       "      <th>mag_y</th>\n",
       "      <td>-0.285192</td>\n",
       "      <td>-0.276276</td>\n",
       "      <td>-0.283427</td>\n",
       "      <td>0.077897</td>\n",
       "      <td>-0.074578</td>\n",
       "      <td>0.006133</td>\n",
       "      <td>0.060297</td>\n",
       "      <td>0.549394</td>\n",
       "      <td>0.001239</td>\n",
       "      <td>1.000000</td>\n",
       "      <td>-0.266351</td>\n",
       "      <td>0.014057</td>\n",
       "      <td>0.051619</td>\n",
       "      <td>-0.053016</td>\n",
       "      <td>0.001239</td>\n",
       "      <td>0.001063</td>\n",
       "      <td>0.001530</td>\n",
       "      <td>-0.001335</td>\n",
       "    </tr>\n",
       "    <tr>\n",
       "      <th>mag_z</th>\n",
       "      <td>-0.120838</td>\n",
       "      <td>-0.098864</td>\n",
       "      <td>-0.114407</td>\n",
       "      <td>0.076424</td>\n",
       "      <td>0.092352</td>\n",
       "      <td>0.000540</td>\n",
       "      <td>-0.080620</td>\n",
       "      <td>-0.328360</td>\n",
       "      <td>-0.213070</td>\n",
       "      <td>-0.266351</td>\n",
       "      <td>1.000000</td>\n",
       "      <td>0.024718</td>\n",
       "      <td>-0.083914</td>\n",
       "      <td>-0.061317</td>\n",
       "      <td>-0.008470</td>\n",
       "      <td>-0.009557</td>\n",
       "      <td>-0.008997</td>\n",
       "      <td>-0.002151</td>\n",
       "    </tr>\n",
       "    <tr>\n",
       "      <th>accel_x</th>\n",
       "      <td>-0.023582</td>\n",
       "      <td>-0.032188</td>\n",
       "      <td>-0.018047</td>\n",
       "      <td>-0.009741</td>\n",
       "      <td>0.013556</td>\n",
       "      <td>0.043285</td>\n",
       "      <td>0.116637</td>\n",
       "      <td>0.006943</td>\n",
       "      <td>-0.006629</td>\n",
       "      <td>0.014057</td>\n",
       "      <td>0.024718</td>\n",
       "      <td>1.000000</td>\n",
       "      <td>0.095286</td>\n",
       "      <td>-0.262305</td>\n",
       "      <td>0.035314</td>\n",
       "      <td>0.103449</td>\n",
       "      <td>0.197740</td>\n",
       "      <td>0.002173</td>\n",
       "    </tr>\n",
       "    <tr>\n",
       "      <th>accel_y</th>\n",
       "      <td>-0.446358</td>\n",
       "      <td>-0.510126</td>\n",
       "      <td>-0.428884</td>\n",
       "      <td>0.226281</td>\n",
       "      <td>-0.115642</td>\n",
       "      <td>0.009015</td>\n",
       "      <td>0.462630</td>\n",
       "      <td>0.044157</td>\n",
       "      <td>0.027921</td>\n",
       "      <td>0.051619</td>\n",
       "      <td>-0.083914</td>\n",
       "      <td>0.095286</td>\n",
       "      <td>1.000000</td>\n",
       "      <td>0.120215</td>\n",
       "      <td>0.043263</td>\n",
       "      <td>-0.046463</td>\n",
       "      <td>0.009541</td>\n",
       "      <td>0.004648</td>\n",
       "    </tr>\n",
       "    <tr>\n",
       "      <th>accel_z</th>\n",
       "      <td>-0.029155</td>\n",
       "      <td>-0.043213</td>\n",
       "      <td>-0.036505</td>\n",
       "      <td>0.005281</td>\n",
       "      <td>-0.221208</td>\n",
       "      <td>-0.039146</td>\n",
       "      <td>-0.167905</td>\n",
       "      <td>-0.013634</td>\n",
       "      <td>0.021524</td>\n",
       "      <td>-0.053016</td>\n",
       "      <td>-0.061317</td>\n",
       "      <td>-0.262305</td>\n",
       "      <td>0.120215</td>\n",
       "      <td>1.000000</td>\n",
       "      <td>0.078315</td>\n",
       "      <td>-0.075625</td>\n",
       "      <td>0.057075</td>\n",
       "      <td>0.000554</td>\n",
       "    </tr>\n",
       "    <tr>\n",
       "      <th>gyro_x</th>\n",
       "      <td>0.002511</td>\n",
       "      <td>0.001771</td>\n",
       "      <td>0.001829</td>\n",
       "      <td>0.004345</td>\n",
       "      <td>-0.000611</td>\n",
       "      <td>0.066618</td>\n",
       "      <td>-0.115873</td>\n",
       "      <td>0.003106</td>\n",
       "      <td>-0.004954</td>\n",
       "      <td>0.001239</td>\n",
       "      <td>-0.008470</td>\n",
       "      <td>0.035314</td>\n",
       "      <td>0.043263</td>\n",
       "      <td>0.078315</td>\n",
       "      <td>1.000000</td>\n",
       "      <td>-0.248968</td>\n",
       "      <td>0.337553</td>\n",
       "      <td>0.001009</td>\n",
       "    </tr>\n",
       "    <tr>\n",
       "      <th>gyro_y</th>\n",
       "      <td>0.005947</td>\n",
       "      <td>0.005020</td>\n",
       "      <td>0.006127</td>\n",
       "      <td>0.003457</td>\n",
       "      <td>-0.002493</td>\n",
       "      <td>-0.015034</td>\n",
       "      <td>-0.002509</td>\n",
       "      <td>0.003665</td>\n",
       "      <td>-0.004429</td>\n",
       "      <td>0.001063</td>\n",
       "      <td>-0.009557</td>\n",
       "      <td>0.103449</td>\n",
       "      <td>-0.046463</td>\n",
       "      <td>-0.075625</td>\n",
       "      <td>-0.248968</td>\n",
       "      <td>1.000000</td>\n",
       "      <td>0.190112</td>\n",
       "      <td>0.000593</td>\n",
       "    </tr>\n",
       "    <tr>\n",
       "      <th>gyro_z</th>\n",
       "      <td>-0.001250</td>\n",
       "      <td>-0.001423</td>\n",
       "      <td>-0.001623</td>\n",
       "      <td>0.001298</td>\n",
       "      <td>-0.000615</td>\n",
       "      <td>0.049340</td>\n",
       "      <td>-0.214202</td>\n",
       "      <td>0.004020</td>\n",
       "      <td>-0.005052</td>\n",
       "      <td>0.001530</td>\n",
       "      <td>-0.008997</td>\n",
       "      <td>0.197740</td>\n",
       "      <td>0.009541</td>\n",
       "      <td>0.057075</td>\n",
       "      <td>0.337553</td>\n",
       "      <td>0.190112</td>\n",
       "      <td>1.000000</td>\n",
       "      <td>-0.001055</td>\n",
       "    </tr>\n",
       "    <tr>\n",
       "      <th>reset</th>\n",
       "      <td>-0.002970</td>\n",
       "      <td>-0.004325</td>\n",
       "      <td>-0.004205</td>\n",
       "      <td>-0.002066</td>\n",
       "      <td>-0.006259</td>\n",
       "      <td>-0.000176</td>\n",
       "      <td>0.000636</td>\n",
       "      <td>-0.000558</td>\n",
       "      <td>-0.002879</td>\n",
       "      <td>-0.001335</td>\n",
       "      <td>-0.002151</td>\n",
       "      <td>0.002173</td>\n",
       "      <td>0.004648</td>\n",
       "      <td>0.000554</td>\n",
       "      <td>0.001009</td>\n",
       "      <td>0.000593</td>\n",
       "      <td>-0.001055</td>\n",
       "      <td>1.000000</td>\n",
       "    </tr>\n",
       "  </tbody>\n",
       "</table>\n",
       "</div>"
      ],
      "text/plain": [
       "          temp_cpu    temp_h    temp_p  humidity  pressure     pitch  \\\n",
       "temp_cpu  1.000000  0.986872  0.991672 -0.297081  0.038065  0.008076   \n",
       "temp_h    0.986872  1.000000  0.993260 -0.281422  0.070882  0.005145   \n",
       "temp_p    0.991672  0.993260  1.000000 -0.288373  0.035496  0.006750   \n",
       "humidity -0.297081 -0.281422 -0.288373  1.000000  0.434374  0.004050   \n",
       "pressure  0.038065  0.070882  0.035496  0.434374  1.000000  0.003018   \n",
       "pitch     0.008076  0.005145  0.006750  0.004050  0.003018  1.000000   \n",
       "roll     -0.171644 -0.199628 -0.163685  0.101304  0.011815  0.087941   \n",
       "yaw      -0.117972 -0.117870 -0.118463  0.031664 -0.051697 -0.011611   \n",
       "mag_x     0.005145  0.000428  0.004338 -0.035146 -0.040183  0.013331   \n",
       "mag_y    -0.285192 -0.276276 -0.283427  0.077897 -0.074578  0.006133   \n",
       "mag_z    -0.120838 -0.098864 -0.114407  0.076424  0.092352  0.000540   \n",
       "accel_x  -0.023582 -0.032188 -0.018047 -0.009741  0.013556  0.043285   \n",
       "accel_y  -0.446358 -0.510126 -0.428884  0.226281 -0.115642  0.009015   \n",
       "accel_z  -0.029155 -0.043213 -0.036505  0.005281 -0.221208 -0.039146   \n",
       "gyro_x    0.002511  0.001771  0.001829  0.004345 -0.000611  0.066618   \n",
       "gyro_y    0.005947  0.005020  0.006127  0.003457 -0.002493 -0.015034   \n",
       "gyro_z   -0.001250 -0.001423 -0.001623  0.001298 -0.000615  0.049340   \n",
       "reset    -0.002970 -0.004325 -0.004205 -0.002066 -0.006259 -0.000176   \n",
       "\n",
       "              roll       yaw     mag_x     mag_y     mag_z   accel_x  \\\n",
       "temp_cpu -0.171644 -0.117972  0.005145 -0.285192 -0.120838 -0.023582   \n",
       "temp_h   -0.199628 -0.117870  0.000428 -0.276276 -0.098864 -0.032188   \n",
       "temp_p   -0.163685 -0.118463  0.004338 -0.283427 -0.114407 -0.018047   \n",
       "humidity  0.101304  0.031664 -0.035146  0.077897  0.076424 -0.009741   \n",
       "pressure  0.011815 -0.051697 -0.040183 -0.074578  0.092352  0.013556   \n",
       "pitch     0.087941 -0.011611  0.013331  0.006133  0.000540  0.043285   \n",
       "roll      1.000000  0.095354 -0.020947  0.060297 -0.080620  0.116637   \n",
       "yaw       0.095354  1.000000  0.257971  0.549394 -0.328360  0.006943   \n",
       "mag_x    -0.020947  0.257971  1.000000  0.001239 -0.213070 -0.006629   \n",
       "mag_y     0.060297  0.549394  0.001239  1.000000 -0.266351  0.014057   \n",
       "mag_z    -0.080620 -0.328360 -0.213070 -0.266351  1.000000  0.024718   \n",
       "accel_x   0.116637  0.006943 -0.006629  0.014057  0.024718  1.000000   \n",
       "accel_y   0.462630  0.044157  0.027921  0.051619 -0.083914  0.095286   \n",
       "accel_z  -0.167905 -0.013634  0.021524 -0.053016 -0.061317 -0.262305   \n",
       "gyro_x   -0.115873  0.003106 -0.004954  0.001239 -0.008470  0.035314   \n",
       "gyro_y   -0.002509  0.003665 -0.004429  0.001063 -0.009557  0.103449   \n",
       "gyro_z   -0.214202  0.004020 -0.005052  0.001530 -0.008997  0.197740   \n",
       "reset     0.000636 -0.000558 -0.002879 -0.001335 -0.002151  0.002173   \n",
       "\n",
       "           accel_y   accel_z    gyro_x    gyro_y    gyro_z     reset  \n",
       "temp_cpu -0.446358 -0.029155  0.002511  0.005947 -0.001250 -0.002970  \n",
       "temp_h   -0.510126 -0.043213  0.001771  0.005020 -0.001423 -0.004325  \n",
       "temp_p   -0.428884 -0.036505  0.001829  0.006127 -0.001623 -0.004205  \n",
       "humidity  0.226281  0.005281  0.004345  0.003457  0.001298 -0.002066  \n",
       "pressure -0.115642 -0.221208 -0.000611 -0.002493 -0.000615 -0.006259  \n",
       "pitch     0.009015 -0.039146  0.066618 -0.015034  0.049340 -0.000176  \n",
       "roll      0.462630 -0.167905 -0.115873 -0.002509 -0.214202  0.000636  \n",
       "yaw       0.044157 -0.013634  0.003106  0.003665  0.004020 -0.000558  \n",
       "mag_x     0.027921  0.021524 -0.004954 -0.004429 -0.005052 -0.002879  \n",
       "mag_y     0.051619 -0.053016  0.001239  0.001063  0.001530 -0.001335  \n",
       "mag_z    -0.083914 -0.061317 -0.008470 -0.009557 -0.008997 -0.002151  \n",
       "accel_x   0.095286 -0.262305  0.035314  0.103449  0.197740  0.002173  \n",
       "accel_y   1.000000  0.120215  0.043263 -0.046463  0.009541  0.004648  \n",
       "accel_z   0.120215  1.000000  0.078315 -0.075625  0.057075  0.000554  \n",
       "gyro_x    0.043263  0.078315  1.000000 -0.248968  0.337553  0.001009  \n",
       "gyro_y   -0.046463 -0.075625 -0.248968  1.000000  0.190112  0.000593  \n",
       "gyro_z    0.009541  0.057075  0.337553  0.190112  1.000000 -0.001055  \n",
       "reset     0.004648  0.000554  0.001009  0.000593 -0.001055  1.000000  "
      ]
     },
     "execution_count": 8,
     "metadata": {},
     "output_type": "execute_result"
    }
   ],
   "source": [
    "df.corr()"
   ]
  },
  {
   "cell_type": "markdown",
   "id": "ac8a2bbc",
   "metadata": {
    "slideshow": {
     "slide_type": "slide"
    }
   },
   "source": [
    "### Astropi: Le colonne"
   ]
  },
  {
   "cell_type": "code",
   "execution_count": 9,
   "id": "9da80e57",
   "metadata": {
    "slideshow": {
     "slide_type": "-"
    }
   },
   "outputs": [
    {
     "data": {
      "text/plain": [
       "Index(['time_stamp', 'temp_cpu', 'temp_h', 'temp_p', 'humidity', 'pressure',\n",
       "       'pitch', 'roll', 'yaw', 'mag_x', 'mag_y', 'mag_z', 'accel_x', 'accel_y',\n",
       "       'accel_z', 'gyro_x', 'gyro_y', 'gyro_z', 'reset'],\n",
       "      dtype='object')"
      ]
     },
     "execution_count": 9,
     "metadata": {},
     "output_type": "execute_result"
    }
   ],
   "source": [
    "df.columns"
   ]
  },
  {
   "cell_type": "markdown",
   "id": "37546472",
   "metadata": {
    "slideshow": {
     "slide_type": "fragment"
    }
   },
   "source": [
    "- Che sequenza è?\n",
    "- E' iterabile? \n",
    "- E' indicizzabile?"
   ]
  },
  {
   "cell_type": "markdown",
   "id": "738603d6",
   "metadata": {
    "slideshow": {
     "slide_type": "subslide"
    }
   },
   "source": [
    "### Una colonna, due notazioni  1/2"
   ]
  },
  {
   "cell_type": "code",
   "execution_count": 10,
   "id": "a24d6abb",
   "metadata": {
    "slideshow": {
     "slide_type": "-"
    }
   },
   "outputs": [
    {
     "data": {
      "text/plain": [
       "0         44.94\n",
       "1         45.12\n",
       "2         45.12\n",
       "3         45.32\n",
       "4         45.18\n",
       "          ...  \n",
       "110864    42.94\n",
       "110865    42.72\n",
       "110866    42.83\n",
       "110867    42.81\n",
       "110868    42.94\n",
       "Name: humidity, Length: 110869, dtype: float64"
      ]
     },
     "execution_count": 10,
     "metadata": {},
     "output_type": "execute_result"
    }
   ],
   "source": [
    "df['humidity']"
   ]
  },
  {
   "cell_type": "code",
   "execution_count": 11,
   "id": "2d1a40f1",
   "metadata": {
    "slideshow": {
     "slide_type": "fragment"
    }
   },
   "outputs": [
    {
     "data": {
      "text/plain": [
       "0         44.94\n",
       "1         45.12\n",
       "2         45.12\n",
       "3         45.32\n",
       "4         45.18\n",
       "          ...  \n",
       "110864    42.94\n",
       "110865    42.72\n",
       "110866    42.83\n",
       "110867    42.81\n",
       "110868    42.94\n",
       "Name: humidity, Length: 110869, dtype: float64"
      ]
     },
     "execution_count": 11,
     "metadata": {},
     "output_type": "execute_result"
    }
   ],
   "source": [
    "df.humidity"
   ]
  },
  {
   "cell_type": "markdown",
   "id": "67590bff",
   "metadata": {
    "slideshow": {
     "slide_type": "subslide"
    }
   },
   "source": [
    "### Una colonna, due notazioni 2/2"
   ]
  },
  {
   "cell_type": "markdown",
   "id": "c259d809",
   "metadata": {
    "slideshow": {
     "slide_type": "-"
    }
   },
   "source": [
    "**DOMANDA**: In genere, funzionerà con tutti i campi?"
   ]
  },
  {
   "cell_type": "markdown",
   "id": "c3a953c0",
   "metadata": {
    "slideshow": {
     "slide_type": "subslide"
    }
   },
   "source": [
    "### Una colonna: esploriamo!\n",
    "    \n",
    "- Come possiamo sapere qual'è il tipo di una colonna?\n",
    "\n",
    "\n",
    "- Prova a iterare\n",
    "\n",
    "\n",
    "- Prova ad accedere ad una cella specifica"
   ]
  },
  {
   "cell_type": "markdown",
   "id": "2cf14142",
   "metadata": {
    "slideshow": {
     "slide_type": "slide"
    }
   },
   "source": [
    "### Esercizio - info meteo\n",
    "\n",
    "- Crea dataframe `meteo` da file [meteo.csv](meteo.csv), **assegna il dataframe ad una variabile chiamata** `meteo` (fonte dati: [meteotrentino.it](https://www.meteotrentino.it))\n",
    "- Visualizza qualche info\n",
    "\n"
   ]
  },
  {
   "cell_type": "markdown",
   "id": "361f25f6",
   "metadata": {
    "slideshow": {
     "slide_type": "-"
    }
   },
   "source": [
    "```text\n",
    "COLONNE: Data, Pressione, Pioggia, Temp\n",
    "\n",
    "INFO:\n",
    "<class 'pandas.core.frame.DataFrame'>\n",
    "RangeIndex: 2878 entries, 0 to 2877\n",
    "Data columns (total 4 columns):\n",
    " #   Column     Non-Null Count  Dtype  \n",
    "---  ------     --------------  -----  \n",
    " 0   Data       2878 non-null   object \n",
    " 1   Pressione  2878 non-null   float64\n",
    " 2   Pioggia    2878 non-null   float64\n",
    " 3   Temp       2878 non-null   float64\n",
    "dtypes: float64(3), object(1)\n",
    "memory usage: 272.7 KB\n",
    "\n",
    "PRIME RIGHE:\n",
    "               Data  Pressione  Pioggia  Temp\n",
    "0  01/11/2017 00:00      995.4      0.0   5.4\n",
    "1  01/11/2017 00:15      995.5      0.0   6.0\n",
    "2  01/11/2017 00:30      995.5      0.0   5.9\n",
    "3  01/11/2017 00:45      995.7      0.0   5.4\n",
    "4  01/11/2017 01:00      995.7      0.0   5.3\n",
    "```    "
   ]
  },
  {
   "cell_type": "markdown",
   "id": "ff62345d",
   "metadata": {
    "slideshow": {
     "slide_type": "slide"
    }
   },
   "source": [
    "## Plottiamo!\n",
    "\n",
    "<table>\n",
    "<tr>\n",
    "<td width=\"40%\">\n",
    "\n",
    "```python\n",
    "%matplotlib inline\n",
    "import matplotlib as mpl\n",
    "import matplotlib.pyplot as plt\n",
    "\n",
    "df.humidity.plot(label=\"Humidity\", \n",
    "                 legend=True)\n",
    "\n",
    "df.pressure.plot(secondary_y=True, \n",
    "                 label=\"Pressure\", \n",
    "                 legend=True);\n",
    "plt.show()\n",
    "```\n",
    "</td>\n",
    "<td>\n",
    "<img src=\"img/humidity-pressure-overlay.png\">\n",
    "</td>\n",
    "</tr>\n",
    "</table>\n",
    "\n",
    "per asse y a destra del grafico pressione: `secondary_y=True`"
   ]
  },
  {
   "cell_type": "code",
   "execution_count": 12,
   "id": "03f671f4",
   "metadata": {
    "slideshow": {
     "slide_type": "skip"
    }
   },
   "outputs": [
    {
     "data": {
      "image/png": "[encoded data removed]",
      "text/plain": [
       "<Figure size 640x480 with 2 Axes>"
      ]
     },
     "metadata": {},
     "output_type": "display_data"
    }
   ],
   "source": [
    "%matplotlib inline\n",
    "import matplotlib as mpl\n",
    "import matplotlib.pyplot as plt\n",
    "\n",
    "df.humidity.plot(label=\"Humidity\", legend=True)\n",
    "\n",
    "df.pressure.plot(secondary_y=True, label=\"Pressure\", legend=True);\n",
    "#jupman-purge\n",
    "plt.savefig('img/humidity-pressure-overlay.png')\n",
    "#/jupman-purge\n",
    "plt.show()"
   ]
  },
  {
   "cell_type": "markdown",
   "id": "1bad9e9d",
   "metadata": {
    "slideshow": {
     "slide_type": "subslide"
    }
   },
   "source": [
    "### Il caro vecchio `plt.plot`"
   ]
  },
  {
   "cell_type": "code",
   "execution_count": 13,
   "id": "3be162b1",
   "metadata": {},
   "outputs": [
    {
     "data": {
      "text/plain": [
       "RangeIndex(start=0, stop=110869, step=1)"
      ]
     },
     "execution_count": 13,
     "metadata": {},
     "output_type": "execute_result"
    }
   ],
   "source": [
    "df.index  # Per ottenere le coordinate x"
   ]
  },
  {
   "cell_type": "code",
   "execution_count": 14,
   "id": "d97dc781",
   "metadata": {},
   "outputs": [
    {
     "data": {
      "image/png": "[encoded data removed]",
      "text/plain": [
       "<Figure size 640x480 with 1 Axes>"
      ]
     },
     "metadata": {},
     "output_type": "display_data"
    }
   ],
   "source": [
    "plt.plot(df.index, df['humidity']); # df.index si può usare come sequenza iterabile"
   ]
  },
  {
   "cell_type": "markdown",
   "id": "dfea2f14",
   "metadata": {
    "slideshow": {
     "slide_type": "slide"
    }
   },
   "source": [
    "## Operazioni su righe"
   ]
  },
  {
   "cell_type": "markdown",
   "id": "46ff5d7b",
   "metadata": {},
   "source": [
    "**Selezionare**\n",
    "\n",
    "**Filtrare**\n",
    "\n",
    "**Ordinare**\n"
   ]
  },
  {
   "cell_type": "markdown",
   "id": "b30a8d37",
   "metadata": {
    "slideshow": {
     "slide_type": "subslide"
    }
   },
   "source": [
    "### Selezionare righe con `iloc`"
   ]
  },
  {
   "cell_type": "code",
   "execution_count": 15,
   "id": "6a49e060",
   "metadata": {},
   "outputs": [
    {
     "data": {
      "text/plain": [
       "time_stamp    2016-02-16 10:45:41\n",
       "temp_cpu                    31.68\n",
       "temp_h                      27.53\n",
       "temp_p                      25.01\n",
       "humidity                    45.31\n",
       "pressure                   1001.7\n",
       "pitch                        0.63\n",
       "roll                        53.55\n",
       "yaw                         186.1\n",
       "mag_x                  -50.447346\n",
       "mag_y                   -7.937309\n",
       "mag_z                  -12.188574\n",
       "accel_x                  -0.00051\n",
       "accel_y                  0.019264\n",
       "accel_z                  0.014528\n",
       "gyro_x                  -0.000111\n",
       "gyro_y                    0.00032\n",
       "gyro_z                   0.000222\n",
       "reset                           0\n",
       "Name: 6, dtype: object"
      ]
     },
     "execution_count": 15,
     "metadata": {},
     "output_type": "execute_result"
    }
   ],
   "source": [
    "df.iloc[6]"
   ]
  },
  {
   "cell_type": "markdown",
   "id": "73445f93",
   "metadata": {},
   "source": [
    "**Che tipo ci viene tornato**?"
   ]
  },
  {
   "cell_type": "markdown",
   "id": "8f34ea71",
   "metadata": {
    "slideshow": {
     "slide_type": "subslide"
    }
   },
   "source": [
    "#### Selezionare slice con `iloc`"
   ]
  },
  {
   "cell_type": "code",
   "execution_count": 16,
   "id": "d477bb63",
   "metadata": {
    "slideshow": {
     "slide_type": "-"
    }
   },
   "outputs": [],
   "source": [
    "df2=df.iloc[12500:15000]"
   ]
  },
  {
   "cell_type": "code",
   "execution_count": 17,
   "id": "a5dfe96f",
   "metadata": {
    "slideshow": {
     "slide_type": "fragment"
    }
   },
   "outputs": [
    {
     "data": {
      "image/png": "[encoded data removed]",
      "text/plain": [
       "<Figure size 1000x300 with 1 Axes>"
      ]
     },
     "metadata": {},
     "output_type": "display_data"
    }
   ],
   "source": [
    "# Utile per zoommare!\n",
    "\n",
    "plt.figure(figsize=(10,3))\n",
    "plt.plot(df2.index, df2['humidity']);"
   ]
  },
  {
   "cell_type": "markdown",
   "id": "c2e7d72b",
   "metadata": {
    "slideshow": {
     "slide_type": "subslide"
    }
   },
   "source": [
    "#### `iloc` su dataframe filtrati"
   ]
  },
  {
   "cell_type": "code",
   "execution_count": 18,
   "id": "18c194c0",
   "metadata": {
    "slideshow": {
     "slide_type": "-"
    }
   },
   "outputs": [
    {
     "data": {
      "text/html": [
       "<div>\n",
       "<style scoped>\n",
       "    .dataframe tbody tr th:only-of-type {\n",
       "        vertical-align: middle;\n",
       "    }\n",
       "\n",
       "    .dataframe tbody tr th {\n",
       "        vertical-align: top;\n",
       "    }\n",
       "\n",
       "    .dataframe thead th {\n",
       "        text-align: right;\n",
       "    }\n",
       "</style>\n",
       "<table border=\"1\" class=\"dataframe\">\n",
       "  <thead>\n",
       "    <tr style=\"text-align: right;\">\n",
       "      <th></th>\n",
       "      <th>time_stamp</th>\n",
       "      <th>temp_cpu</th>\n",
       "      <th>temp_h</th>\n",
       "      <th>temp_p</th>\n",
       "      <th>humidity</th>\n",
       "      <th>pressure</th>\n",
       "      <th>pitch</th>\n",
       "      <th>roll</th>\n",
       "      <th>yaw</th>\n",
       "      <th>mag_x</th>\n",
       "      <th>mag_y</th>\n",
       "      <th>mag_z</th>\n",
       "      <th>accel_x</th>\n",
       "      <th>accel_y</th>\n",
       "      <th>accel_z</th>\n",
       "      <th>gyro_x</th>\n",
       "      <th>gyro_y</th>\n",
       "      <th>gyro_z</th>\n",
       "      <th>reset</th>\n",
       "    </tr>\n",
       "  </thead>\n",
       "  <tbody>\n",
       "    <tr>\n",
       "      <th>12500</th>\n",
       "      <td>2016-02-17 21:44:31</td>\n",
       "      <td>31.87</td>\n",
       "      <td>27.7</td>\n",
       "      <td>25.15</td>\n",
       "      <td>45.29</td>\n",
       "      <td>1004.56</td>\n",
       "      <td>0.85</td>\n",
       "      <td>52.78</td>\n",
       "      <td>357.18</td>\n",
       "      <td>30.517177</td>\n",
       "      <td>2.892431</td>\n",
       "      <td>0.371669</td>\n",
       "      <td>-0.000618</td>\n",
       "      <td>0.019318</td>\n",
       "      <td>0.014503</td>\n",
       "      <td>-0.000135</td>\n",
       "      <td>-0.000257</td>\n",
       "      <td>0.000121</td>\n",
       "      <td>0</td>\n",
       "    </tr>\n",
       "    <tr>\n",
       "      <th>12501</th>\n",
       "      <td>2016-02-17 21:44:40</td>\n",
       "      <td>31.84</td>\n",
       "      <td>27.7</td>\n",
       "      <td>25.16</td>\n",
       "      <td>45.32</td>\n",
       "      <td>1004.58</td>\n",
       "      <td>0.97</td>\n",
       "      <td>52.73</td>\n",
       "      <td>357.32</td>\n",
       "      <td>30.364154</td>\n",
       "      <td>2.315241</td>\n",
       "      <td>0.043272</td>\n",
       "      <td>-0.001196</td>\n",
       "      <td>0.019164</td>\n",
       "      <td>0.014545</td>\n",
       "      <td>0.000254</td>\n",
       "      <td>0.000497</td>\n",
       "      <td>-0.000010</td>\n",
       "      <td>0</td>\n",
       "    </tr>\n",
       "    <tr>\n",
       "      <th>12502</th>\n",
       "      <td>2016-02-17 21:44:51</td>\n",
       "      <td>31.83</td>\n",
       "      <td>27.7</td>\n",
       "      <td>25.15</td>\n",
       "      <td>45.23</td>\n",
       "      <td>1004.55</td>\n",
       "      <td>1.40</td>\n",
       "      <td>52.84</td>\n",
       "      <td>357.76</td>\n",
       "      <td>29.760987</td>\n",
       "      <td>1.904932</td>\n",
       "      <td>0.037701</td>\n",
       "      <td>-0.000617</td>\n",
       "      <td>0.019420</td>\n",
       "      <td>0.014672</td>\n",
       "      <td>0.000192</td>\n",
       "      <td>0.000081</td>\n",
       "      <td>0.000024</td>\n",
       "      <td>0</td>\n",
       "    </tr>\n",
       "  </tbody>\n",
       "</table>\n",
       "</div>"
      ],
      "text/plain": [
       "                time_stamp  temp_cpu  temp_h  temp_p  humidity  pressure  \\\n",
       "12500  2016-02-17 21:44:31     31.87    27.7   25.15     45.29   1004.56   \n",
       "12501  2016-02-17 21:44:40     31.84    27.7   25.16     45.32   1004.58   \n",
       "12502  2016-02-17 21:44:51     31.83    27.7   25.15     45.23   1004.55   \n",
       "\n",
       "       pitch   roll     yaw      mag_x     mag_y     mag_z   accel_x  \\\n",
       "12500   0.85  52.78  357.18  30.517177  2.892431  0.371669 -0.000618   \n",
       "12501   0.97  52.73  357.32  30.364154  2.315241  0.043272 -0.001196   \n",
       "12502   1.40  52.84  357.76  29.760987  1.904932  0.037701 -0.000617   \n",
       "\n",
       "        accel_y   accel_z    gyro_x    gyro_y    gyro_z  reset  \n",
       "12500  0.019318  0.014503 -0.000135 -0.000257  0.000121      0  \n",
       "12501  0.019164  0.014545  0.000254  0.000497 -0.000010      0  \n",
       "12502  0.019420  0.014672  0.000192  0.000081  0.000024      0  "
      ]
     },
     "execution_count": 18,
     "metadata": {},
     "output_type": "execute_result"
    }
   ],
   "source": [
    "df2.head(3)"
   ]
  },
  {
   "cell_type": "code",
   "execution_count": 19,
   "id": "a333165d",
   "metadata": {
    "slideshow": {
     "slide_type": "-"
    }
   },
   "outputs": [
    {
     "data": {
      "text/plain": [
       "time_stamp    2016-02-17 21:44:31\n",
       "temp_cpu                    31.87\n",
       "temp_h                       27.7\n",
       "temp_p                      25.15\n",
       "humidity                    45.29\n",
       "pressure                  1004.56\n",
       "pitch                        0.85\n",
       "roll                        52.78\n",
       "yaw                        357.18\n",
       "mag_x                   30.517177\n",
       "mag_y                    2.892431\n",
       "mag_z                    0.371669\n",
       "accel_x                 -0.000618\n",
       "accel_y                  0.019318\n",
       "accel_z                  0.014503\n",
       "gyro_x                  -0.000135\n",
       "gyro_y                  -0.000257\n",
       "gyro_z                   0.000121\n",
       "reset                           0\n",
       "Name: 12500, dtype: object"
      ]
     },
     "execution_count": 19,
     "metadata": {},
     "output_type": "execute_result"
    }
   ],
   "source": [
    "df2.iloc[0]"
   ]
  },
  {
   "cell_type": "markdown",
   "id": "c9d1c88c",
   "metadata": {
    "slideshow": {
     "slide_type": "subslide"
    }
   },
   "source": [
    "#### `iloc` vs `loc`\n",
    "\n",
    "**ATTENZIONE**: \n",
    "\n",
    "- `.iloc[0]` seleziona la riga iniziale\n",
    "- `.loc[0]` seleziona la riga  _ad indice_ con valore zero, _se presente_!\n",
    "\n",
    "**Prova** `.loc[0]` **con una slice come** `df2` **Che succede?**"
   ]
  },
  {
   "cell_type": "code",
   "execution_count": 20,
   "id": "255fabcf",
   "metadata": {
    "scrolled": true,
    "slideshow": {
     "slide_type": "-"
    }
   },
   "outputs": [
    {
     "data": {
      "text/html": [
       "<div>\n",
       "<style scoped>\n",
       "    .dataframe tbody tr th:only-of-type {\n",
       "        vertical-align: middle;\n",
       "    }\n",
       "\n",
       "    .dataframe tbody tr th {\n",
       "        vertical-align: top;\n",
       "    }\n",
       "\n",
       "    .dataframe thead th {\n",
       "        text-align: right;\n",
       "    }\n",
       "</style>\n",
       "<table border=\"1\" class=\"dataframe\">\n",
       "  <thead>\n",
       "    <tr style=\"text-align: right;\">\n",
       "      <th></th>\n",
       "      <th>time_stamp</th>\n",
       "      <th>temp_cpu</th>\n",
       "      <th>temp_h</th>\n",
       "      <th>temp_p</th>\n",
       "      <th>humidity</th>\n",
       "      <th>pressure</th>\n",
       "      <th>pitch</th>\n",
       "      <th>roll</th>\n",
       "      <th>yaw</th>\n",
       "      <th>mag_x</th>\n",
       "      <th>mag_y</th>\n",
       "      <th>mag_z</th>\n",
       "      <th>accel_x</th>\n",
       "      <th>accel_y</th>\n",
       "      <th>accel_z</th>\n",
       "      <th>gyro_x</th>\n",
       "      <th>gyro_y</th>\n",
       "      <th>gyro_z</th>\n",
       "      <th>reset</th>\n",
       "    </tr>\n",
       "  </thead>\n",
       "  <tbody>\n",
       "    <tr>\n",
       "      <th>12500</th>\n",
       "      <td>2016-02-17 21:44:31</td>\n",
       "      <td>31.87</td>\n",
       "      <td>27.7</td>\n",
       "      <td>25.15</td>\n",
       "      <td>45.29</td>\n",
       "      <td>1004.56</td>\n",
       "      <td>0.85</td>\n",
       "      <td>52.78</td>\n",
       "      <td>357.18</td>\n",
       "      <td>30.517177</td>\n",
       "      <td>2.892431</td>\n",
       "      <td>0.371669</td>\n",
       "      <td>-0.000618</td>\n",
       "      <td>0.019318</td>\n",
       "      <td>0.014503</td>\n",
       "      <td>-0.000135</td>\n",
       "      <td>-0.000257</td>\n",
       "      <td>0.000121</td>\n",
       "      <td>0</td>\n",
       "    </tr>\n",
       "    <tr>\n",
       "      <th>12501</th>\n",
       "      <td>2016-02-17 21:44:40</td>\n",
       "      <td>31.84</td>\n",
       "      <td>27.7</td>\n",
       "      <td>25.16</td>\n",
       "      <td>45.32</td>\n",
       "      <td>1004.58</td>\n",
       "      <td>0.97</td>\n",
       "      <td>52.73</td>\n",
       "      <td>357.32</td>\n",
       "      <td>30.364154</td>\n",
       "      <td>2.315241</td>\n",
       "      <td>0.043272</td>\n",
       "      <td>-0.001196</td>\n",
       "      <td>0.019164</td>\n",
       "      <td>0.014545</td>\n",
       "      <td>0.000254</td>\n",
       "      <td>0.000497</td>\n",
       "      <td>-0.000010</td>\n",
       "      <td>0</td>\n",
       "    </tr>\n",
       "    <tr>\n",
       "      <th>12502</th>\n",
       "      <td>2016-02-17 21:44:51</td>\n",
       "      <td>31.83</td>\n",
       "      <td>27.7</td>\n",
       "      <td>25.15</td>\n",
       "      <td>45.23</td>\n",
       "      <td>1004.55</td>\n",
       "      <td>1.40</td>\n",
       "      <td>52.84</td>\n",
       "      <td>357.76</td>\n",
       "      <td>29.760987</td>\n",
       "      <td>1.904932</td>\n",
       "      <td>0.037701</td>\n",
       "      <td>-0.000617</td>\n",
       "      <td>0.019420</td>\n",
       "      <td>0.014672</td>\n",
       "      <td>0.000192</td>\n",
       "      <td>0.000081</td>\n",
       "      <td>0.000024</td>\n",
       "      <td>0</td>\n",
       "    </tr>\n",
       "  </tbody>\n",
       "</table>\n",
       "</div>"
      ],
      "text/plain": [
       "                time_stamp  temp_cpu  temp_h  temp_p  humidity  pressure  \\\n",
       "12500  2016-02-17 21:44:31     31.87    27.7   25.15     45.29   1004.56   \n",
       "12501  2016-02-17 21:44:40     31.84    27.7   25.16     45.32   1004.58   \n",
       "12502  2016-02-17 21:44:51     31.83    27.7   25.15     45.23   1004.55   \n",
       "\n",
       "       pitch   roll     yaw      mag_x     mag_y     mag_z   accel_x  \\\n",
       "12500   0.85  52.78  357.18  30.517177  2.892431  0.371669 -0.000618   \n",
       "12501   0.97  52.73  357.32  30.364154  2.315241  0.043272 -0.001196   \n",
       "12502   1.40  52.84  357.76  29.760987  1.904932  0.037701 -0.000617   \n",
       "\n",
       "        accel_y   accel_z    gyro_x    gyro_y    gyro_z  reset  \n",
       "12500  0.019318  0.014503 -0.000135 -0.000257  0.000121      0  \n",
       "12501  0.019164  0.014545  0.000254  0.000497 -0.000010      0  \n",
       "12502  0.019420  0.014672  0.000192  0.000081  0.000024      0  "
      ]
     },
     "execution_count": 20,
     "metadata": {},
     "output_type": "execute_result"
    }
   ],
   "source": [
    "df2.head(3)"
   ]
  },
  {
   "cell_type": "markdown",
   "id": "56688755",
   "metadata": {
    "slideshow": {
     "slide_type": "subslide"
    }
   },
   "source": [
    "### Filtrare righe"
   ]
  },
  {
   "cell_type": "code",
   "execution_count": 21,
   "id": "1e66877e",
   "metadata": {
    "slideshow": {
     "slide_type": "-"
    }
   },
   "outputs": [
    {
     "data": {
      "text/html": [
       "<div>\n",
       "<style scoped>\n",
       "    .dataframe tbody tr th:only-of-type {\n",
       "        vertical-align: middle;\n",
       "    }\n",
       "\n",
       "    .dataframe tbody tr th {\n",
       "        vertical-align: top;\n",
       "    }\n",
       "\n",
       "    .dataframe thead th {\n",
       "        text-align: right;\n",
       "    }\n",
       "</style>\n",
       "<table border=\"1\" class=\"dataframe\">\n",
       "  <thead>\n",
       "    <tr style=\"text-align: right;\">\n",
       "      <th></th>\n",
       "      <th>time_stamp</th>\n",
       "      <th>temp_cpu</th>\n",
       "      <th>temp_h</th>\n",
       "      <th>temp_p</th>\n",
       "      <th>humidity</th>\n",
       "      <th>pressure</th>\n",
       "      <th>pitch</th>\n",
       "      <th>roll</th>\n",
       "      <th>yaw</th>\n",
       "      <th>mag_x</th>\n",
       "      <th>mag_y</th>\n",
       "      <th>mag_z</th>\n",
       "      <th>accel_x</th>\n",
       "      <th>accel_y</th>\n",
       "      <th>accel_z</th>\n",
       "      <th>gyro_x</th>\n",
       "      <th>gyro_y</th>\n",
       "      <th>gyro_z</th>\n",
       "      <th>reset</th>\n",
       "    </tr>\n",
       "  </thead>\n",
       "  <tbody>\n",
       "    <tr>\n",
       "      <th>0</th>\n",
       "      <td>2016-02-16 10:44:40</td>\n",
       "      <td>31.88</td>\n",
       "      <td>27.57</td>\n",
       "      <td>25.01</td>\n",
       "      <td>44.94</td>\n",
       "      <td>1001.68</td>\n",
       "      <td>1.49</td>\n",
       "      <td>52.25</td>\n",
       "      <td>185.21</td>\n",
       "      <td>-46.422753</td>\n",
       "      <td>-8.132907</td>\n",
       "      <td>-12.129346</td>\n",
       "      <td>-0.000468</td>\n",
       "      <td>0.019439</td>\n",
       "      <td>0.014569</td>\n",
       "      <td>0.000942</td>\n",
       "      <td>0.000492</td>\n",
       "      <td>-0.000750</td>\n",
       "      <td>20</td>\n",
       "    </tr>\n",
       "    <tr>\n",
       "      <th>1</th>\n",
       "      <td>2016-02-16 10:44:50</td>\n",
       "      <td>31.79</td>\n",
       "      <td>27.53</td>\n",
       "      <td>25.01</td>\n",
       "      <td>45.12</td>\n",
       "      <td>1001.72</td>\n",
       "      <td>1.03</td>\n",
       "      <td>53.73</td>\n",
       "      <td>186.72</td>\n",
       "      <td>-48.778951</td>\n",
       "      <td>-8.304243</td>\n",
       "      <td>-12.943096</td>\n",
       "      <td>-0.000614</td>\n",
       "      <td>0.019436</td>\n",
       "      <td>0.014577</td>\n",
       "      <td>0.000218</td>\n",
       "      <td>-0.000005</td>\n",
       "      <td>-0.000235</td>\n",
       "      <td>0</td>\n",
       "    </tr>\n",
       "    <tr>\n",
       "      <th>2</th>\n",
       "      <td>2016-02-16 10:45:00</td>\n",
       "      <td>31.66</td>\n",
       "      <td>27.53</td>\n",
       "      <td>25.01</td>\n",
       "      <td>45.12</td>\n",
       "      <td>1001.72</td>\n",
       "      <td>1.24</td>\n",
       "      <td>53.57</td>\n",
       "      <td>186.21</td>\n",
       "      <td>-49.161878</td>\n",
       "      <td>-8.470832</td>\n",
       "      <td>-12.642772</td>\n",
       "      <td>-0.000569</td>\n",
       "      <td>0.019359</td>\n",
       "      <td>0.014357</td>\n",
       "      <td>0.000395</td>\n",
       "      <td>0.000600</td>\n",
       "      <td>-0.000003</td>\n",
       "      <td>0</td>\n",
       "    </tr>\n",
       "    <tr>\n",
       "      <th>3</th>\n",
       "      <td>2016-02-16 10:45:10</td>\n",
       "      <td>31.69</td>\n",
       "      <td>27.52</td>\n",
       "      <td>25.01</td>\n",
       "      <td>45.32</td>\n",
       "      <td>1001.69</td>\n",
       "      <td>1.57</td>\n",
       "      <td>53.63</td>\n",
       "      <td>186.03</td>\n",
       "      <td>-49.341941</td>\n",
       "      <td>-8.457380</td>\n",
       "      <td>-12.615509</td>\n",
       "      <td>-0.000575</td>\n",
       "      <td>0.019383</td>\n",
       "      <td>0.014409</td>\n",
       "      <td>0.000308</td>\n",
       "      <td>0.000577</td>\n",
       "      <td>-0.000102</td>\n",
       "      <td>0</td>\n",
       "    </tr>\n",
       "    <tr>\n",
       "      <th>4</th>\n",
       "      <td>2016-02-16 10:45:20</td>\n",
       "      <td>31.66</td>\n",
       "      <td>27.54</td>\n",
       "      <td>25.01</td>\n",
       "      <td>45.18</td>\n",
       "      <td>1001.71</td>\n",
       "      <td>0.85</td>\n",
       "      <td>53.66</td>\n",
       "      <td>186.46</td>\n",
       "      <td>-50.056683</td>\n",
       "      <td>-8.122609</td>\n",
       "      <td>-12.678341</td>\n",
       "      <td>-0.000548</td>\n",
       "      <td>0.019378</td>\n",
       "      <td>0.014380</td>\n",
       "      <td>0.000321</td>\n",
       "      <td>0.000691</td>\n",
       "      <td>0.000272</td>\n",
       "      <td>0</td>\n",
       "    </tr>\n",
       "  </tbody>\n",
       "</table>\n",
       "</div>"
      ],
      "text/plain": [
       "            time_stamp  temp_cpu  temp_h  temp_p  humidity  pressure  pitch  \\\n",
       "0  2016-02-16 10:44:40     31.88   27.57   25.01     44.94   1001.68   1.49   \n",
       "1  2016-02-16 10:44:50     31.79   27.53   25.01     45.12   1001.72   1.03   \n",
       "2  2016-02-16 10:45:00     31.66   27.53   25.01     45.12   1001.72   1.24   \n",
       "3  2016-02-16 10:45:10     31.69   27.52   25.01     45.32   1001.69   1.57   \n",
       "4  2016-02-16 10:45:20     31.66   27.54   25.01     45.18   1001.71   0.85   \n",
       "\n",
       "    roll     yaw      mag_x     mag_y      mag_z   accel_x   accel_y  \\\n",
       "0  52.25  185.21 -46.422753 -8.132907 -12.129346 -0.000468  0.019439   \n",
       "1  53.73  186.72 -48.778951 -8.304243 -12.943096 -0.000614  0.019436   \n",
       "2  53.57  186.21 -49.161878 -8.470832 -12.642772 -0.000569  0.019359   \n",
       "3  53.63  186.03 -49.341941 -8.457380 -12.615509 -0.000575  0.019383   \n",
       "4  53.66  186.46 -50.056683 -8.122609 -12.678341 -0.000548  0.019378   \n",
       "\n",
       "    accel_z    gyro_x    gyro_y    gyro_z  reset  \n",
       "0  0.014569  0.000942  0.000492 -0.000750     20  \n",
       "1  0.014577  0.000218 -0.000005 -0.000235      0  \n",
       "2  0.014357  0.000395  0.000600 -0.000003      0  \n",
       "3  0.014409  0.000308  0.000577 -0.000102      0  \n",
       "4  0.014380  0.000321  0.000691  0.000272      0  "
      ]
     },
     "execution_count": 21,
     "metadata": {},
     "output_type": "execute_result"
    }
   ],
   "source": [
    "df.head()"
   ]
  },
  {
   "cell_type": "code",
   "execution_count": 22,
   "id": "a640cad9",
   "metadata": {
    "slideshow": {
     "slide_type": "-"
    }
   },
   "outputs": [
    {
     "data": {
      "text/plain": [
       "0          True\n",
       "1          True\n",
       "2          True\n",
       "3         False\n",
       "4          True\n",
       "          ...  \n",
       "110864     True\n",
       "110865     True\n",
       "110866     True\n",
       "110867     True\n",
       "110868     True\n",
       "Name: humidity, Length: 110869, dtype: bool"
      ]
     },
     "execution_count": 22,
     "metadata": {},
     "output_type": "execute_result"
    }
   ],
   "source": [
    "df.humidity < 45.2"
   ]
  },
  {
   "cell_type": "markdown",
   "id": "94117c4e",
   "metadata": {
    "slideshow": {
     "slide_type": "subslide"
    }
   },
   "source": [
    "#### Combinare filtri"
   ]
  },
  {
   "cell_type": "code",
   "execution_count": 23,
   "id": "7a1a0f1f",
   "metadata": {
    "slideshow": {
     "slide_type": "-"
    }
   },
   "outputs": [
    {
     "data": {
      "text/html": [
       "<div>\n",
       "<style scoped>\n",
       "    .dataframe tbody tr th:only-of-type {\n",
       "        vertical-align: middle;\n",
       "    }\n",
       "\n",
       "    .dataframe tbody tr th {\n",
       "        vertical-align: top;\n",
       "    }\n",
       "\n",
       "    .dataframe thead th {\n",
       "        text-align: right;\n",
       "    }\n",
       "</style>\n",
       "<table border=\"1\" class=\"dataframe\">\n",
       "  <thead>\n",
       "    <tr style=\"text-align: right;\">\n",
       "      <th></th>\n",
       "      <th>time_stamp</th>\n",
       "      <th>temp_cpu</th>\n",
       "      <th>temp_h</th>\n",
       "      <th>temp_p</th>\n",
       "      <th>humidity</th>\n",
       "      <th>pressure</th>\n",
       "      <th>pitch</th>\n",
       "      <th>roll</th>\n",
       "      <th>yaw</th>\n",
       "      <th>mag_x</th>\n",
       "      <th>mag_y</th>\n",
       "      <th>mag_z</th>\n",
       "      <th>accel_x</th>\n",
       "      <th>accel_y</th>\n",
       "      <th>accel_z</th>\n",
       "      <th>gyro_x</th>\n",
       "      <th>gyro_y</th>\n",
       "      <th>gyro_z</th>\n",
       "      <th>reset</th>\n",
       "    </tr>\n",
       "  </thead>\n",
       "  <tbody>\n",
       "    <tr>\n",
       "      <th>0</th>\n",
       "      <td>2016-02-16 10:44:40</td>\n",
       "      <td>31.88</td>\n",
       "      <td>27.57</td>\n",
       "      <td>25.01</td>\n",
       "      <td>44.94</td>\n",
       "      <td>1001.68</td>\n",
       "      <td>1.49</td>\n",
       "      <td>52.25</td>\n",
       "      <td>185.21</td>\n",
       "      <td>-46.422753</td>\n",
       "      <td>-8.132907</td>\n",
       "      <td>-12.129346</td>\n",
       "      <td>-0.000468</td>\n",
       "      <td>0.019439</td>\n",
       "      <td>0.014569</td>\n",
       "      <td>0.000942</td>\n",
       "      <td>0.000492</td>\n",
       "      <td>-0.000750</td>\n",
       "      <td>20</td>\n",
       "    </tr>\n",
       "    <tr>\n",
       "      <th>1</th>\n",
       "      <td>2016-02-16 10:44:50</td>\n",
       "      <td>31.79</td>\n",
       "      <td>27.53</td>\n",
       "      <td>25.01</td>\n",
       "      <td>45.12</td>\n",
       "      <td>1001.72</td>\n",
       "      <td>1.03</td>\n",
       "      <td>53.73</td>\n",
       "      <td>186.72</td>\n",
       "      <td>-48.778951</td>\n",
       "      <td>-8.304243</td>\n",
       "      <td>-12.943096</td>\n",
       "      <td>-0.000614</td>\n",
       "      <td>0.019436</td>\n",
       "      <td>0.014577</td>\n",
       "      <td>0.000218</td>\n",
       "      <td>-0.000005</td>\n",
       "      <td>-0.000235</td>\n",
       "      <td>0</td>\n",
       "    </tr>\n",
       "    <tr>\n",
       "      <th>2</th>\n",
       "      <td>2016-02-16 10:45:00</td>\n",
       "      <td>31.66</td>\n",
       "      <td>27.53</td>\n",
       "      <td>25.01</td>\n",
       "      <td>45.12</td>\n",
       "      <td>1001.72</td>\n",
       "      <td>1.24</td>\n",
       "      <td>53.57</td>\n",
       "      <td>186.21</td>\n",
       "      <td>-49.161878</td>\n",
       "      <td>-8.470832</td>\n",
       "      <td>-12.642772</td>\n",
       "      <td>-0.000569</td>\n",
       "      <td>0.019359</td>\n",
       "      <td>0.014357</td>\n",
       "      <td>0.000395</td>\n",
       "      <td>0.000600</td>\n",
       "      <td>-0.000003</td>\n",
       "      <td>0</td>\n",
       "    </tr>\n",
       "    <tr>\n",
       "      <th>3</th>\n",
       "      <td>2016-02-16 10:45:10</td>\n",
       "      <td>31.69</td>\n",
       "      <td>27.52</td>\n",
       "      <td>25.01</td>\n",
       "      <td>45.32</td>\n",
       "      <td>1001.69</td>\n",
       "      <td>1.57</td>\n",
       "      <td>53.63</td>\n",
       "      <td>186.03</td>\n",
       "      <td>-49.341941</td>\n",
       "      <td>-8.457380</td>\n",
       "      <td>-12.615509</td>\n",
       "      <td>-0.000575</td>\n",
       "      <td>0.019383</td>\n",
       "      <td>0.014409</td>\n",
       "      <td>0.000308</td>\n",
       "      <td>0.000577</td>\n",
       "      <td>-0.000102</td>\n",
       "      <td>0</td>\n",
       "    </tr>\n",
       "    <tr>\n",
       "      <th>4</th>\n",
       "      <td>2016-02-16 10:45:20</td>\n",
       "      <td>31.66</td>\n",
       "      <td>27.54</td>\n",
       "      <td>25.01</td>\n",
       "      <td>45.18</td>\n",
       "      <td>1001.71</td>\n",
       "      <td>0.85</td>\n",
       "      <td>53.66</td>\n",
       "      <td>186.46</td>\n",
       "      <td>-50.056683</td>\n",
       "      <td>-8.122609</td>\n",
       "      <td>-12.678341</td>\n",
       "      <td>-0.000548</td>\n",
       "      <td>0.019378</td>\n",
       "      <td>0.014380</td>\n",
       "      <td>0.000321</td>\n",
       "      <td>0.000691</td>\n",
       "      <td>0.000272</td>\n",
       "      <td>0</td>\n",
       "    </tr>\n",
       "  </tbody>\n",
       "</table>\n",
       "</div>"
      ],
      "text/plain": [
       "            time_stamp  temp_cpu  temp_h  temp_p  humidity  pressure  pitch  \\\n",
       "0  2016-02-16 10:44:40     31.88   27.57   25.01     44.94   1001.68   1.49   \n",
       "1  2016-02-16 10:44:50     31.79   27.53   25.01     45.12   1001.72   1.03   \n",
       "2  2016-02-16 10:45:00     31.66   27.53   25.01     45.12   1001.72   1.24   \n",
       "3  2016-02-16 10:45:10     31.69   27.52   25.01     45.32   1001.69   1.57   \n",
       "4  2016-02-16 10:45:20     31.66   27.54   25.01     45.18   1001.71   0.85   \n",
       "\n",
       "    roll     yaw      mag_x     mag_y      mag_z   accel_x   accel_y  \\\n",
       "0  52.25  185.21 -46.422753 -8.132907 -12.129346 -0.000468  0.019439   \n",
       "1  53.73  186.72 -48.778951 -8.304243 -12.943096 -0.000614  0.019436   \n",
       "2  53.57  186.21 -49.161878 -8.470832 -12.642772 -0.000569  0.019359   \n",
       "3  53.63  186.03 -49.341941 -8.457380 -12.615509 -0.000575  0.019383   \n",
       "4  53.66  186.46 -50.056683 -8.122609 -12.678341 -0.000548  0.019378   \n",
       "\n",
       "    accel_z    gyro_x    gyro_y    gyro_z  reset  \n",
       "0  0.014569  0.000942  0.000492 -0.000750     20  \n",
       "1  0.014577  0.000218 -0.000005 -0.000235      0  \n",
       "2  0.014357  0.000395  0.000600 -0.000003      0  \n",
       "3  0.014409  0.000308  0.000577 -0.000102      0  \n",
       "4  0.014380  0.000321  0.000691  0.000272      0  "
      ]
     },
     "execution_count": 23,
     "metadata": {},
     "output_type": "execute_result"
    }
   ],
   "source": [
    "df.head()"
   ]
  },
  {
   "cell_type": "code",
   "execution_count": 24,
   "id": "4b1c9d1a",
   "metadata": {
    "slideshow": {
     "slide_type": "-"
    }
   },
   "outputs": [
    {
     "data": {
      "text/plain": [
       "0         False\n",
       "1          True\n",
       "2          True\n",
       "3         False\n",
       "4          True\n",
       "          ...  \n",
       "110864    False\n",
       "110865    False\n",
       "110866    False\n",
       "110867    False\n",
       "110868    False\n",
       "Name: humidity, Length: 110869, dtype: bool"
      ]
     },
     "execution_count": 24,
     "metadata": {},
     "output_type": "execute_result"
    }
   ],
   "source": [
    "(df.humidity > 45.0) & (df.humidity < 45.2)    # come numpy!"
   ]
  },
  {
   "cell_type": "markdown",
   "id": "c52d7ab3",
   "metadata": {
    "slideshow": {
     "slide_type": "subslide"
    }
   },
   "source": [
    "### Combinare filtri: `or` ?"
   ]
  },
  {
   "cell_type": "code",
   "execution_count": 25,
   "id": "1191936f",
   "metadata": {
    "slideshow": {
     "slide_type": "fragment"
    }
   },
   "outputs": [
    {
     "data": {
      "text/plain": [
       "0          True\n",
       "1         False\n",
       "2         False\n",
       "3          True\n",
       "4         False\n",
       "          ...  \n",
       "110864     True\n",
       "110865     True\n",
       "110866     True\n",
       "110867     True\n",
       "110868     True\n",
       "Name: humidity, Length: 110869, dtype: bool"
      ]
     },
     "execution_count": 25,
     "metadata": {},
     "output_type": "execute_result"
    }
   ],
   "source": [
    "(df.humidity < 45.0) | (df.humidity > 45.2) "
   ]
  },
  {
   "cell_type": "markdown",
   "id": "ab522857",
   "metadata": {
    "slideshow": {
     "slide_type": "subslide"
    }
   },
   "source": [
    "#### Applicare filtri 1/2"
   ]
  },
  {
   "cell_type": "code",
   "execution_count": 26,
   "id": "d7ce743b",
   "metadata": {
    "slideshow": {
     "slide_type": "-"
    }
   },
   "outputs": [
    {
     "data": {
      "text/html": [
       "<div>\n",
       "<style scoped>\n",
       "    .dataframe tbody tr th:only-of-type {\n",
       "        vertical-align: middle;\n",
       "    }\n",
       "\n",
       "    .dataframe tbody tr th {\n",
       "        vertical-align: top;\n",
       "    }\n",
       "\n",
       "    .dataframe thead th {\n",
       "        text-align: right;\n",
       "    }\n",
       "</style>\n",
       "<table border=\"1\" class=\"dataframe\">\n",
       "  <thead>\n",
       "    <tr style=\"text-align: right;\">\n",
       "      <th></th>\n",
       "      <th>time_stamp</th>\n",
       "      <th>temp_cpu</th>\n",
       "      <th>temp_h</th>\n",
       "      <th>temp_p</th>\n",
       "      <th>humidity</th>\n",
       "      <th>pressure</th>\n",
       "      <th>pitch</th>\n",
       "      <th>roll</th>\n",
       "      <th>yaw</th>\n",
       "      <th>mag_x</th>\n",
       "      <th>mag_y</th>\n",
       "      <th>mag_z</th>\n",
       "      <th>accel_x</th>\n",
       "      <th>accel_y</th>\n",
       "      <th>accel_z</th>\n",
       "      <th>gyro_x</th>\n",
       "      <th>gyro_y</th>\n",
       "      <th>gyro_z</th>\n",
       "      <th>reset</th>\n",
       "    </tr>\n",
       "  </thead>\n",
       "  <tbody>\n",
       "    <tr>\n",
       "      <th>1</th>\n",
       "      <td>2016-02-16 10:44:50</td>\n",
       "      <td>31.79</td>\n",
       "      <td>27.53</td>\n",
       "      <td>25.01</td>\n",
       "      <td>45.12</td>\n",
       "      <td>1001.72</td>\n",
       "      <td>1.03</td>\n",
       "      <td>53.73</td>\n",
       "      <td>186.72</td>\n",
       "      <td>-48.778951</td>\n",
       "      <td>-8.304243</td>\n",
       "      <td>-12.943096</td>\n",
       "      <td>-0.000614</td>\n",
       "      <td>0.019436</td>\n",
       "      <td>0.014577</td>\n",
       "      <td>0.000218</td>\n",
       "      <td>-0.000005</td>\n",
       "      <td>-0.000235</td>\n",
       "      <td>0</td>\n",
       "    </tr>\n",
       "    <tr>\n",
       "      <th>2</th>\n",
       "      <td>2016-02-16 10:45:00</td>\n",
       "      <td>31.66</td>\n",
       "      <td>27.53</td>\n",
       "      <td>25.01</td>\n",
       "      <td>45.12</td>\n",
       "      <td>1001.72</td>\n",
       "      <td>1.24</td>\n",
       "      <td>53.57</td>\n",
       "      <td>186.21</td>\n",
       "      <td>-49.161878</td>\n",
       "      <td>-8.470832</td>\n",
       "      <td>-12.642772</td>\n",
       "      <td>-0.000569</td>\n",
       "      <td>0.019359</td>\n",
       "      <td>0.014357</td>\n",
       "      <td>0.000395</td>\n",
       "      <td>0.000600</td>\n",
       "      <td>-0.000003</td>\n",
       "      <td>0</td>\n",
       "    </tr>\n",
       "    <tr>\n",
       "      <th>4</th>\n",
       "      <td>2016-02-16 10:45:20</td>\n",
       "      <td>31.66</td>\n",
       "      <td>27.54</td>\n",
       "      <td>25.01</td>\n",
       "      <td>45.18</td>\n",
       "      <td>1001.71</td>\n",
       "      <td>0.85</td>\n",
       "      <td>53.66</td>\n",
       "      <td>186.46</td>\n",
       "      <td>-50.056683</td>\n",
       "      <td>-8.122609</td>\n",
       "      <td>-12.678341</td>\n",
       "      <td>-0.000548</td>\n",
       "      <td>0.019378</td>\n",
       "      <td>0.014380</td>\n",
       "      <td>0.000321</td>\n",
       "      <td>0.000691</td>\n",
       "      <td>0.000272</td>\n",
       "      <td>0</td>\n",
       "    </tr>\n",
       "    <tr>\n",
       "      <th>5</th>\n",
       "      <td>2016-02-16 10:45:30</td>\n",
       "      <td>31.69</td>\n",
       "      <td>27.55</td>\n",
       "      <td>25.01</td>\n",
       "      <td>45.12</td>\n",
       "      <td>1001.67</td>\n",
       "      <td>0.85</td>\n",
       "      <td>53.53</td>\n",
       "      <td>185.52</td>\n",
       "      <td>-50.246476</td>\n",
       "      <td>-8.343209</td>\n",
       "      <td>-11.938124</td>\n",
       "      <td>-0.000536</td>\n",
       "      <td>0.019453</td>\n",
       "      <td>0.014380</td>\n",
       "      <td>0.000273</td>\n",
       "      <td>0.000494</td>\n",
       "      <td>-0.000059</td>\n",
       "      <td>0</td>\n",
       "    </tr>\n",
       "    <tr>\n",
       "      <th>10</th>\n",
       "      <td>2016-02-16 10:46:20</td>\n",
       "      <td>31.68</td>\n",
       "      <td>27.53</td>\n",
       "      <td>25.00</td>\n",
       "      <td>45.16</td>\n",
       "      <td>1001.72</td>\n",
       "      <td>1.32</td>\n",
       "      <td>53.52</td>\n",
       "      <td>186.24</td>\n",
       "      <td>-51.616473</td>\n",
       "      <td>-6.818130</td>\n",
       "      <td>-11.860839</td>\n",
       "      <td>-0.000530</td>\n",
       "      <td>0.019477</td>\n",
       "      <td>0.014500</td>\n",
       "      <td>0.000268</td>\n",
       "      <td>0.001194</td>\n",
       "      <td>0.000106</td>\n",
       "      <td>0</td>\n",
       "    </tr>\n",
       "    <tr>\n",
       "      <th>...</th>\n",
       "      <td>...</td>\n",
       "      <td>...</td>\n",
       "      <td>...</td>\n",
       "      <td>...</td>\n",
       "      <td>...</td>\n",
       "      <td>...</td>\n",
       "      <td>...</td>\n",
       "      <td>...</td>\n",
       "      <td>...</td>\n",
       "      <td>...</td>\n",
       "      <td>...</td>\n",
       "      <td>...</td>\n",
       "      <td>...</td>\n",
       "      <td>...</td>\n",
       "      <td>...</td>\n",
       "      <td>...</td>\n",
       "      <td>...</td>\n",
       "      <td>...</td>\n",
       "      <td>...</td>\n",
       "    </tr>\n",
       "    <tr>\n",
       "      <th>108001</th>\n",
       "      <td>2016-02-29 01:23:30</td>\n",
       "      <td>32.32</td>\n",
       "      <td>28.20</td>\n",
       "      <td>25.57</td>\n",
       "      <td>45.05</td>\n",
       "      <td>1005.74</td>\n",
       "      <td>1.32</td>\n",
       "      <td>50.04</td>\n",
       "      <td>338.15</td>\n",
       "      <td>15.549799</td>\n",
       "      <td>-1.424077</td>\n",
       "      <td>-9.087291</td>\n",
       "      <td>-0.000754</td>\n",
       "      <td>0.017375</td>\n",
       "      <td>0.014826</td>\n",
       "      <td>0.000908</td>\n",
       "      <td>0.000447</td>\n",
       "      <td>0.000149</td>\n",
       "      <td>0</td>\n",
       "    </tr>\n",
       "    <tr>\n",
       "      <th>108003</th>\n",
       "      <td>2016-02-29 01:23:50</td>\n",
       "      <td>32.28</td>\n",
       "      <td>28.18</td>\n",
       "      <td>25.57</td>\n",
       "      <td>45.10</td>\n",
       "      <td>1005.76</td>\n",
       "      <td>1.65</td>\n",
       "      <td>50.03</td>\n",
       "      <td>338.91</td>\n",
       "      <td>15.134025</td>\n",
       "      <td>-1.776843</td>\n",
       "      <td>-8.806690</td>\n",
       "      <td>-0.000819</td>\n",
       "      <td>0.017378</td>\n",
       "      <td>0.014974</td>\n",
       "      <td>0.000048</td>\n",
       "      <td>-0.000084</td>\n",
       "      <td>-0.000039</td>\n",
       "      <td>0</td>\n",
       "    </tr>\n",
       "    <tr>\n",
       "      <th>108004</th>\n",
       "      <td>2016-02-29 01:24:00</td>\n",
       "      <td>32.30</td>\n",
       "      <td>28.18</td>\n",
       "      <td>25.57</td>\n",
       "      <td>45.11</td>\n",
       "      <td>1005.74</td>\n",
       "      <td>1.70</td>\n",
       "      <td>50.21</td>\n",
       "      <td>338.19</td>\n",
       "      <td>14.799790</td>\n",
       "      <td>-1.695364</td>\n",
       "      <td>-8.895130</td>\n",
       "      <td>-0.000739</td>\n",
       "      <td>0.017478</td>\n",
       "      <td>0.014792</td>\n",
       "      <td>-0.000311</td>\n",
       "      <td>-0.000417</td>\n",
       "      <td>-0.000008</td>\n",
       "      <td>0</td>\n",
       "    </tr>\n",
       "    <tr>\n",
       "      <th>108006</th>\n",
       "      <td>2016-02-29 01:24:20</td>\n",
       "      <td>32.29</td>\n",
       "      <td>28.19</td>\n",
       "      <td>25.57</td>\n",
       "      <td>45.02</td>\n",
       "      <td>1005.73</td>\n",
       "      <td>0.81</td>\n",
       "      <td>49.81</td>\n",
       "      <td>339.24</td>\n",
       "      <td>14.333920</td>\n",
       "      <td>-2.173228</td>\n",
       "      <td>-8.694976</td>\n",
       "      <td>-0.000606</td>\n",
       "      <td>0.017275</td>\n",
       "      <td>0.014725</td>\n",
       "      <td>-0.000589</td>\n",
       "      <td>-0.000443</td>\n",
       "      <td>-0.000032</td>\n",
       "      <td>0</td>\n",
       "    </tr>\n",
       "    <tr>\n",
       "      <th>108012</th>\n",
       "      <td>2016-02-29 01:25:21</td>\n",
       "      <td>32.27</td>\n",
       "      <td>28.19</td>\n",
       "      <td>25.57</td>\n",
       "      <td>45.01</td>\n",
       "      <td>1005.72</td>\n",
       "      <td>0.44</td>\n",
       "      <td>50.34</td>\n",
       "      <td>342.01</td>\n",
       "      <td>14.364146</td>\n",
       "      <td>-2.974811</td>\n",
       "      <td>-8.287531</td>\n",
       "      <td>-0.000754</td>\n",
       "      <td>0.017800</td>\n",
       "      <td>0.014704</td>\n",
       "      <td>-0.000033</td>\n",
       "      <td>-0.000491</td>\n",
       "      <td>0.000309</td>\n",
       "      <td>0</td>\n",
       "    </tr>\n",
       "  </tbody>\n",
       "</table>\n",
       "<p>7275 rows × 19 columns</p>\n",
       "</div>"
      ],
      "text/plain": [
       "                 time_stamp  temp_cpu  temp_h  temp_p  humidity  pressure  \\\n",
       "1       2016-02-16 10:44:50     31.79   27.53   25.01     45.12   1001.72   \n",
       "2       2016-02-16 10:45:00     31.66   27.53   25.01     45.12   1001.72   \n",
       "4       2016-02-16 10:45:20     31.66   27.54   25.01     45.18   1001.71   \n",
       "5       2016-02-16 10:45:30     31.69   27.55   25.01     45.12   1001.67   \n",
       "10      2016-02-16 10:46:20     31.68   27.53   25.00     45.16   1001.72   \n",
       "...                     ...       ...     ...     ...       ...       ...   \n",
       "108001  2016-02-29 01:23:30     32.32   28.20   25.57     45.05   1005.74   \n",
       "108003  2016-02-29 01:23:50     32.28   28.18   25.57     45.10   1005.76   \n",
       "108004  2016-02-29 01:24:00     32.30   28.18   25.57     45.11   1005.74   \n",
       "108006  2016-02-29 01:24:20     32.29   28.19   25.57     45.02   1005.73   \n",
       "108012  2016-02-29 01:25:21     32.27   28.19   25.57     45.01   1005.72   \n",
       "\n",
       "        pitch   roll     yaw      mag_x     mag_y      mag_z   accel_x  \\\n",
       "1        1.03  53.73  186.72 -48.778951 -8.304243 -12.943096 -0.000614   \n",
       "2        1.24  53.57  186.21 -49.161878 -8.470832 -12.642772 -0.000569   \n",
       "4        0.85  53.66  186.46 -50.056683 -8.122609 -12.678341 -0.000548   \n",
       "5        0.85  53.53  185.52 -50.246476 -8.343209 -11.938124 -0.000536   \n",
       "10       1.32  53.52  186.24 -51.616473 -6.818130 -11.860839 -0.000530   \n",
       "...       ...    ...     ...        ...       ...        ...       ...   \n",
       "108001   1.32  50.04  338.15  15.549799 -1.424077  -9.087291 -0.000754   \n",
       "108003   1.65  50.03  338.91  15.134025 -1.776843  -8.806690 -0.000819   \n",
       "108004   1.70  50.21  338.19  14.799790 -1.695364  -8.895130 -0.000739   \n",
       "108006   0.81  49.81  339.24  14.333920 -2.173228  -8.694976 -0.000606   \n",
       "108012   0.44  50.34  342.01  14.364146 -2.974811  -8.287531 -0.000754   \n",
       "\n",
       "         accel_y   accel_z    gyro_x    gyro_y    gyro_z  reset  \n",
       "1       0.019436  0.014577  0.000218 -0.000005 -0.000235      0  \n",
       "2       0.019359  0.014357  0.000395  0.000600 -0.000003      0  \n",
       "4       0.019378  0.014380  0.000321  0.000691  0.000272      0  \n",
       "5       0.019453  0.014380  0.000273  0.000494 -0.000059      0  \n",
       "10      0.019477  0.014500  0.000268  0.001194  0.000106      0  \n",
       "...          ...       ...       ...       ...       ...    ...  \n",
       "108001  0.017375  0.014826  0.000908  0.000447  0.000149      0  \n",
       "108003  0.017378  0.014974  0.000048 -0.000084 -0.000039      0  \n",
       "108004  0.017478  0.014792 -0.000311 -0.000417 -0.000008      0  \n",
       "108006  0.017275  0.014725 -0.000589 -0.000443 -0.000032      0  \n",
       "108012  0.017800  0.014704 -0.000033 -0.000491  0.000309      0  \n",
       "\n",
       "[7275 rows x 19 columns]"
      ]
     },
     "execution_count": 26,
     "metadata": {},
     "output_type": "execute_result"
    }
   ],
   "source": [
    "df[  (df.humidity > 45.0) & (df.humidity < 45.2)   ]"
   ]
  },
  {
   "cell_type": "markdown",
   "id": "161f7216",
   "metadata": {
    "slideshow": {
     "slide_type": "subslide"
    }
   },
   "source": [
    "#### Applicare filtri 2/2 - Come trovare riga la cui pressione è massima?"
   ]
  },
  {
   "cell_type": "code",
   "execution_count": 27,
   "id": "5501b8a1",
   "metadata": {
    "slideshow": {
     "slide_type": "-"
    }
   },
   "outputs": [
    {
     "data": {
      "text/html": [
       "<div>\n",
       "<style scoped>\n",
       "    .dataframe tbody tr th:only-of-type {\n",
       "        vertical-align: middle;\n",
       "    }\n",
       "\n",
       "    .dataframe tbody tr th {\n",
       "        vertical-align: top;\n",
       "    }\n",
       "\n",
       "    .dataframe thead th {\n",
       "        text-align: right;\n",
       "    }\n",
       "</style>\n",
       "<table border=\"1\" class=\"dataframe\">\n",
       "  <thead>\n",
       "    <tr style=\"text-align: right;\">\n",
       "      <th></th>\n",
       "      <th>time_stamp</th>\n",
       "      <th>temp_cpu</th>\n",
       "      <th>temp_h</th>\n",
       "      <th>temp_p</th>\n",
       "      <th>humidity</th>\n",
       "      <th>pressure</th>\n",
       "      <th>pitch</th>\n",
       "      <th>roll</th>\n",
       "      <th>yaw</th>\n",
       "      <th>mag_x</th>\n",
       "      <th>mag_y</th>\n",
       "      <th>mag_z</th>\n",
       "      <th>accel_x</th>\n",
       "      <th>accel_y</th>\n",
       "      <th>accel_z</th>\n",
       "      <th>gyro_x</th>\n",
       "      <th>gyro_y</th>\n",
       "      <th>gyro_z</th>\n",
       "      <th>reset</th>\n",
       "    </tr>\n",
       "  </thead>\n",
       "  <tbody>\n",
       "    <tr>\n",
       "      <th>77602</th>\n",
       "      <td>2016-02-25 12:13:20</td>\n",
       "      <td>32.44</td>\n",
       "      <td>28.31</td>\n",
       "      <td>25.74</td>\n",
       "      <td>47.57</td>\n",
       "      <td>1021.78</td>\n",
       "      <td>1.1</td>\n",
       "      <td>51.82</td>\n",
       "      <td>267.39</td>\n",
       "      <td>-0.797428</td>\n",
       "      <td>10.891803</td>\n",
       "      <td>-15.728202</td>\n",
       "      <td>-0.000612</td>\n",
       "      <td>0.01817</td>\n",
       "      <td>0.014295</td>\n",
       "      <td>-0.000139</td>\n",
       "      <td>-0.000179</td>\n",
       "      <td>-0.000298</td>\n",
       "      <td>0</td>\n",
       "    </tr>\n",
       "  </tbody>\n",
       "</table>\n",
       "</div>"
      ],
      "text/plain": [
       "                time_stamp  temp_cpu  temp_h  temp_p  humidity  pressure  \\\n",
       "77602  2016-02-25 12:13:20     32.44   28.31   25.74     47.57   1021.78   \n",
       "\n",
       "       pitch   roll     yaw     mag_x      mag_y      mag_z   accel_x  \\\n",
       "77602    1.1  51.82  267.39 -0.797428  10.891803 -15.728202 -0.000612   \n",
       "\n",
       "       accel_y   accel_z    gyro_x    gyro_y    gyro_z  reset  \n",
       "77602  0.01817  0.014295 -0.000139 -0.000179 -0.000298      0  "
      ]
     },
     "execution_count": 27,
     "metadata": {},
     "output_type": "execute_result"
    }
   ],
   "source": [
    "df[  (df.pressure == df.pressure.values.max())  ]"
   ]
  },
  {
   "cell_type": "markdown",
   "id": "dac8fd75",
   "metadata": {
    "slideshow": {
     "slide_type": "subslide"
    }
   },
   "source": [
    "### Ordinare\n",
    "\n",
    "Nota: di default produce un NUOVO dataset"
   ]
  },
  {
   "cell_type": "code",
   "execution_count": 28,
   "id": "1865fc71",
   "metadata": {
    "slideshow": {
     "slide_type": "-"
    }
   },
   "outputs": [
    {
     "data": {
      "text/html": [
       "<div>\n",
       "<style scoped>\n",
       "    .dataframe tbody tr th:only-of-type {\n",
       "        vertical-align: middle;\n",
       "    }\n",
       "\n",
       "    .dataframe tbody tr th {\n",
       "        vertical-align: top;\n",
       "    }\n",
       "\n",
       "    .dataframe thead th {\n",
       "        text-align: right;\n",
       "    }\n",
       "</style>\n",
       "<table border=\"1\" class=\"dataframe\">\n",
       "  <thead>\n",
       "    <tr style=\"text-align: right;\">\n",
       "      <th></th>\n",
       "      <th>time_stamp</th>\n",
       "      <th>temp_cpu</th>\n",
       "      <th>temp_h</th>\n",
       "      <th>temp_p</th>\n",
       "      <th>humidity</th>\n",
       "      <th>pressure</th>\n",
       "      <th>pitch</th>\n",
       "      <th>roll</th>\n",
       "      <th>yaw</th>\n",
       "      <th>mag_x</th>\n",
       "      <th>mag_y</th>\n",
       "      <th>mag_z</th>\n",
       "      <th>accel_x</th>\n",
       "      <th>accel_y</th>\n",
       "      <th>accel_z</th>\n",
       "      <th>gyro_x</th>\n",
       "      <th>gyro_y</th>\n",
       "      <th>gyro_z</th>\n",
       "      <th>reset</th>\n",
       "    </tr>\n",
       "  </thead>\n",
       "  <tbody>\n",
       "    <tr>\n",
       "      <th>77602</th>\n",
       "      <td>2016-02-25 12:13:20</td>\n",
       "      <td>32.44</td>\n",
       "      <td>28.31</td>\n",
       "      <td>25.74</td>\n",
       "      <td>47.57</td>\n",
       "      <td>1021.78</td>\n",
       "      <td>1.10</td>\n",
       "      <td>51.82</td>\n",
       "      <td>267.39</td>\n",
       "      <td>-0.797428</td>\n",
       "      <td>10.891803</td>\n",
       "      <td>-15.728202</td>\n",
       "      <td>-0.000612</td>\n",
       "      <td>0.018170</td>\n",
       "      <td>0.014295</td>\n",
       "      <td>-0.000139</td>\n",
       "      <td>-0.000179</td>\n",
       "      <td>-0.000298</td>\n",
       "      <td>0</td>\n",
       "    </tr>\n",
       "    <tr>\n",
       "      <th>77601</th>\n",
       "      <td>2016-02-25 12:13:10</td>\n",
       "      <td>32.45</td>\n",
       "      <td>28.30</td>\n",
       "      <td>25.74</td>\n",
       "      <td>47.26</td>\n",
       "      <td>1021.75</td>\n",
       "      <td>1.53</td>\n",
       "      <td>51.76</td>\n",
       "      <td>266.12</td>\n",
       "      <td>-1.266335</td>\n",
       "      <td>10.927442</td>\n",
       "      <td>-15.690558</td>\n",
       "      <td>-0.000661</td>\n",
       "      <td>0.018357</td>\n",
       "      <td>0.014533</td>\n",
       "      <td>0.000152</td>\n",
       "      <td>0.000459</td>\n",
       "      <td>-0.000298</td>\n",
       "      <td>0</td>\n",
       "    </tr>\n",
       "    <tr>\n",
       "      <th>77603</th>\n",
       "      <td>2016-02-25 12:13:30</td>\n",
       "      <td>32.44</td>\n",
       "      <td>28.30</td>\n",
       "      <td>25.74</td>\n",
       "      <td>47.29</td>\n",
       "      <td>1021.75</td>\n",
       "      <td>1.86</td>\n",
       "      <td>51.83</td>\n",
       "      <td>268.83</td>\n",
       "      <td>-0.320795</td>\n",
       "      <td>10.651441</td>\n",
       "      <td>-15.565123</td>\n",
       "      <td>-0.000648</td>\n",
       "      <td>0.018290</td>\n",
       "      <td>0.014372</td>\n",
       "      <td>0.000049</td>\n",
       "      <td>0.000473</td>\n",
       "      <td>-0.000029</td>\n",
       "      <td>0</td>\n",
       "    </tr>\n",
       "    <tr>\n",
       "      <th>77604</th>\n",
       "      <td>2016-02-25 12:13:40</td>\n",
       "      <td>32.43</td>\n",
       "      <td>28.30</td>\n",
       "      <td>25.74</td>\n",
       "      <td>47.39</td>\n",
       "      <td>1021.75</td>\n",
       "      <td>1.78</td>\n",
       "      <td>51.54</td>\n",
       "      <td>269.41</td>\n",
       "      <td>-0.130574</td>\n",
       "      <td>10.628383</td>\n",
       "      <td>-15.488983</td>\n",
       "      <td>-0.000672</td>\n",
       "      <td>0.018154</td>\n",
       "      <td>0.014602</td>\n",
       "      <td>0.000360</td>\n",
       "      <td>0.000089</td>\n",
       "      <td>-0.000002</td>\n",
       "      <td>0</td>\n",
       "    </tr>\n",
       "    <tr>\n",
       "      <th>77608</th>\n",
       "      <td>2016-02-25 12:14:20</td>\n",
       "      <td>32.42</td>\n",
       "      <td>28.29</td>\n",
       "      <td>25.74</td>\n",
       "      <td>47.36</td>\n",
       "      <td>1021.73</td>\n",
       "      <td>0.86</td>\n",
       "      <td>51.89</td>\n",
       "      <td>272.77</td>\n",
       "      <td>0.952025</td>\n",
       "      <td>10.435951</td>\n",
       "      <td>-16.027235</td>\n",
       "      <td>-0.000607</td>\n",
       "      <td>0.018186</td>\n",
       "      <td>0.014232</td>\n",
       "      <td>-0.000260</td>\n",
       "      <td>-0.000059</td>\n",
       "      <td>-0.000187</td>\n",
       "      <td>0</td>\n",
       "    </tr>\n",
       "    <tr>\n",
       "      <th>...</th>\n",
       "      <td>...</td>\n",
       "      <td>...</td>\n",
       "      <td>...</td>\n",
       "      <td>...</td>\n",
       "      <td>...</td>\n",
       "      <td>...</td>\n",
       "      <td>...</td>\n",
       "      <td>...</td>\n",
       "      <td>...</td>\n",
       "      <td>...</td>\n",
       "      <td>...</td>\n",
       "      <td>...</td>\n",
       "      <td>...</td>\n",
       "      <td>...</td>\n",
       "      <td>...</td>\n",
       "      <td>...</td>\n",
       "      <td>...</td>\n",
       "      <td>...</td>\n",
       "      <td>...</td>\n",
       "    </tr>\n",
       "    <tr>\n",
       "      <th>441</th>\n",
       "      <td>2016-02-16 11:58:41</td>\n",
       "      <td>31.71</td>\n",
       "      <td>27.49</td>\n",
       "      <td>24.99</td>\n",
       "      <td>45.05</td>\n",
       "      <td>1001.57</td>\n",
       "      <td>1.25</td>\n",
       "      <td>53.62</td>\n",
       "      <td>228.15</td>\n",
       "      <td>-4.808056</td>\n",
       "      <td>1.551141</td>\n",
       "      <td>-5.496866</td>\n",
       "      <td>-0.000579</td>\n",
       "      <td>0.019500</td>\n",
       "      <td>0.014510</td>\n",
       "      <td>-0.000039</td>\n",
       "      <td>0.000111</td>\n",
       "      <td>0.000098</td>\n",
       "      <td>0</td>\n",
       "    </tr>\n",
       "    <tr>\n",
       "      <th>442</th>\n",
       "      <td>2016-02-16 11:58:50</td>\n",
       "      <td>31.68</td>\n",
       "      <td>27.48</td>\n",
       "      <td>24.98</td>\n",
       "      <td>45.20</td>\n",
       "      <td>1001.57</td>\n",
       "      <td>2.01</td>\n",
       "      <td>53.24</td>\n",
       "      <td>226.81</td>\n",
       "      <td>-4.815926</td>\n",
       "      <td>1.513994</td>\n",
       "      <td>-5.251955</td>\n",
       "      <td>-0.000609</td>\n",
       "      <td>0.019570</td>\n",
       "      <td>0.014721</td>\n",
       "      <td>0.000449</td>\n",
       "      <td>0.000260</td>\n",
       "      <td>0.000249</td>\n",
       "      <td>0</td>\n",
       "    </tr>\n",
       "    <tr>\n",
       "      <th>432</th>\n",
       "      <td>2016-02-16 11:57:11</td>\n",
       "      <td>31.67</td>\n",
       "      <td>27.50</td>\n",
       "      <td>24.99</td>\n",
       "      <td>45.08</td>\n",
       "      <td>1001.56</td>\n",
       "      <td>1.34</td>\n",
       "      <td>53.47</td>\n",
       "      <td>226.80</td>\n",
       "      <td>-5.030561</td>\n",
       "      <td>1.955167</td>\n",
       "      <td>-5.163678</td>\n",
       "      <td>-0.000564</td>\n",
       "      <td>0.019500</td>\n",
       "      <td>0.014483</td>\n",
       "      <td>0.000365</td>\n",
       "      <td>0.000869</td>\n",
       "      <td>-0.000011</td>\n",
       "      <td>0</td>\n",
       "    </tr>\n",
       "    <tr>\n",
       "      <th>440</th>\n",
       "      <td>2016-02-16 11:58:30</td>\n",
       "      <td>31.68</td>\n",
       "      <td>27.50</td>\n",
       "      <td>24.99</td>\n",
       "      <td>45.15</td>\n",
       "      <td>1001.56</td>\n",
       "      <td>1.47</td>\n",
       "      <td>53.54</td>\n",
       "      <td>227.68</td>\n",
       "      <td>-4.908951</td>\n",
       "      <td>1.617281</td>\n",
       "      <td>-5.434710</td>\n",
       "      <td>-0.000566</td>\n",
       "      <td>0.019576</td>\n",
       "      <td>0.014451</td>\n",
       "      <td>-0.000438</td>\n",
       "      <td>0.000080</td>\n",
       "      <td>-0.000182</td>\n",
       "      <td>0</td>\n",
       "    </tr>\n",
       "    <tr>\n",
       "      <th>444</th>\n",
       "      <td>2016-02-16 11:59:11</td>\n",
       "      <td>31.70</td>\n",
       "      <td>27.49</td>\n",
       "      <td>24.98</td>\n",
       "      <td>45.00</td>\n",
       "      <td>1001.56</td>\n",
       "      <td>1.81</td>\n",
       "      <td>53.27</td>\n",
       "      <td>229.48</td>\n",
       "      <td>-4.786967</td>\n",
       "      <td>1.502788</td>\n",
       "      <td>-5.921817</td>\n",
       "      <td>-0.000595</td>\n",
       "      <td>0.019500</td>\n",
       "      <td>0.014579</td>\n",
       "      <td>0.000192</td>\n",
       "      <td>0.000303</td>\n",
       "      <td>0.000104</td>\n",
       "      <td>0</td>\n",
       "    </tr>\n",
       "  </tbody>\n",
       "</table>\n",
       "<p>110869 rows × 19 columns</p>\n",
       "</div>"
      ],
      "text/plain": [
       "                time_stamp  temp_cpu  temp_h  temp_p  humidity  pressure  \\\n",
       "77602  2016-02-25 12:13:20     32.44   28.31   25.74     47.57   1021.78   \n",
       "77601  2016-02-25 12:13:10     32.45   28.30   25.74     47.26   1021.75   \n",
       "77603  2016-02-25 12:13:30     32.44   28.30   25.74     47.29   1021.75   \n",
       "77604  2016-02-25 12:13:40     32.43   28.30   25.74     47.39   1021.75   \n",
       "77608  2016-02-25 12:14:20     32.42   28.29   25.74     47.36   1021.73   \n",
       "...                    ...       ...     ...     ...       ...       ...   \n",
       "441    2016-02-16 11:58:41     31.71   27.49   24.99     45.05   1001.57   \n",
       "442    2016-02-16 11:58:50     31.68   27.48   24.98     45.20   1001.57   \n",
       "432    2016-02-16 11:57:11     31.67   27.50   24.99     45.08   1001.56   \n",
       "440    2016-02-16 11:58:30     31.68   27.50   24.99     45.15   1001.56   \n",
       "444    2016-02-16 11:59:11     31.70   27.49   24.98     45.00   1001.56   \n",
       "\n",
       "       pitch   roll     yaw     mag_x      mag_y      mag_z   accel_x  \\\n",
       "77602   1.10  51.82  267.39 -0.797428  10.891803 -15.728202 -0.000612   \n",
       "77601   1.53  51.76  266.12 -1.266335  10.927442 -15.690558 -0.000661   \n",
       "77603   1.86  51.83  268.83 -0.320795  10.651441 -15.565123 -0.000648   \n",
       "77604   1.78  51.54  269.41 -0.130574  10.628383 -15.488983 -0.000672   \n",
       "77608   0.86  51.89  272.77  0.952025  10.435951 -16.027235 -0.000607   \n",
       "...      ...    ...     ...       ...        ...        ...       ...   \n",
       "441     1.25  53.62  228.15 -4.808056   1.551141  -5.496866 -0.000579   \n",
       "442     2.01  53.24  226.81 -4.815926   1.513994  -5.251955 -0.000609   \n",
       "432     1.34  53.47  226.80 -5.030561   1.955167  -5.163678 -0.000564   \n",
       "440     1.47  53.54  227.68 -4.908951   1.617281  -5.434710 -0.000566   \n",
       "444     1.81  53.27  229.48 -4.786967   1.502788  -5.921817 -0.000595   \n",
       "\n",
       "        accel_y   accel_z    gyro_x    gyro_y    gyro_z  reset  \n",
       "77602  0.018170  0.014295 -0.000139 -0.000179 -0.000298      0  \n",
       "77601  0.018357  0.014533  0.000152  0.000459 -0.000298      0  \n",
       "77603  0.018290  0.014372  0.000049  0.000473 -0.000029      0  \n",
       "77604  0.018154  0.014602  0.000360  0.000089 -0.000002      0  \n",
       "77608  0.018186  0.014232 -0.000260 -0.000059 -0.000187      0  \n",
       "...         ...       ...       ...       ...       ...    ...  \n",
       "441    0.019500  0.014510 -0.000039  0.000111  0.000098      0  \n",
       "442    0.019570  0.014721  0.000449  0.000260  0.000249      0  \n",
       "432    0.019500  0.014483  0.000365  0.000869 -0.000011      0  \n",
       "440    0.019576  0.014451 -0.000438  0.000080 -0.000182      0  \n",
       "444    0.019500  0.014579  0.000192  0.000303  0.000104      0  \n",
       "\n",
       "[110869 rows x 19 columns]"
      ]
     },
     "execution_count": 28,
     "metadata": {},
     "output_type": "execute_result"
    }
   ],
   "source": [
    "df.sort_values('pressure',ascending=False)"
   ]
  },
  {
   "cell_type": "markdown",
   "id": "632c387d",
   "metadata": {
    "slideshow": {
     "slide_type": "subslide"
    }
   },
   "source": [
    "### Esercizio - statistiche meteo\n",
    "\n",
    "✪ Analizza i dati del Dataframe `meteo` per trovare:\n",
    "\n",
    "- i valori di pressione media, minima e massima\n",
    "\n",
    "- la temperatura media\n",
    "\n",
    "- le date delle giornate di pioggia"
   ]
  },
  {
   "cell_type": "markdown",
   "id": "23c2a512",
   "metadata": {
    "slideshow": {
     "slide_type": "slide"
    }
   },
   "source": [
    "## Valori object e stringhe\n",
    "\n"
   ]
  },
  {
   "cell_type": "markdown",
   "id": "1225afe5",
   "metadata": {
    "slideshow": {
     "slide_type": "-"
    }
   },
   "source": [
    "Gli operatori e funzioni normali di Python **operano su stringhe singole**\n",
    "\n",
    "Con Pandas dobbiamo **cambiare approccio**"
   ]
  },
  {
   "cell_type": "markdown",
   "id": "7ccf00a4",
   "metadata": {
    "slideshow": {
     "slide_type": "fragment"
    }
   },
   "source": [
    "Collezione di funzioni **che operano su serie di stringhe**:"
   ]
  },
  {
   "cell_type": "code",
   "execution_count": 29,
   "id": "31b971c3",
   "metadata": {
    "slideshow": {
     "slide_type": "-"
    }
   },
   "outputs": [
    {
     "data": {
      "text/plain": [
       "<pandas.core.strings.accessor.StringMethods at 0x7f817e58cfd0>"
      ]
     },
     "execution_count": 29,
     "metadata": {},
     "output_type": "execute_result"
    }
   ],
   "source": [
    "df['time_stamp'].str"
   ]
  },
  {
   "cell_type": "markdown",
   "id": "9c8f5ee9",
   "metadata": {
    "slideshow": {
     "slide_type": "subslide"
    }
   },
   "source": [
    "###  `in` non funziona"
   ]
  },
  {
   "cell_type": "markdown",
   "id": "9a2235e0",
   "metadata": {
    "slideshow": {
     "slide_type": "fragment"
    }
   },
   "source": [
    "Esempio: Come filtriare gli ultimi giorni di febbraio?"
   ]
  },
  {
   "cell_type": "code",
   "execution_count": 30,
   "id": "b1e12a38",
   "metadata": {
    "slideshow": {
     "slide_type": "-"
    }
   },
   "outputs": [
    {
     "data": {
      "text/plain": [
       "False"
      ]
     },
     "execution_count": 30,
     "metadata": {},
     "output_type": "execute_result"
    }
   ],
   "source": [
    "'2016-02-2' in df['time_stamp']  # SBAGLIATO!"
   ]
  },
  {
   "cell_type": "markdown",
   "id": "5bfdf91e",
   "metadata": {
    "slideshow": {
     "slide_type": "fragment"
    }
   },
   "source": [
    "```python\n",
    "df[ '2016-02-2' in df['time_stamp'] ]   # BOOM!\n",
    "```"
   ]
  },
  {
   "cell_type": "markdown",
   "id": "c024a4bb",
   "metadata": {
    "slideshow": {
     "slide_type": "-"
    }
   },
   "source": [
    "```python\n",
    "---------------------------------------------------------------------------\n",
    "KeyError                                  Traceback (most recent call last)\n",
    "~/.local/lib/python3.7/site-packages/pandas/core/indexes/base.py in get_loc(self, key, method, tolerance)\n",
    "   3360             try:\n",
    "-> 3361                 return self._engine.get_loc(casted_key)\n",
    "   3362             except KeyError as err:\n",
    "\n",
    "~/.local/lib/python3.7/site-packages/pandas/_libs/index.pyx in pandas._libs.index.IndexEngine.get_loc()\n",
    "\n",
    "~/.local/lib/python3.7/site-packages/pandas/_libs/index.pyx in pandas._libs.index.IndexEngine.get_loc()\n",
    "\n",
    "pandas/_libs/hashtable_class_helper.pxi in pandas._libs.hashtable.PyObjectHashTable.get_item()\n",
    "\n",
    "pandas/_libs/hashtable_class_helper.pxi in pandas._libs.hashtable.PyObjectHashTable.get_item()\n",
    "\n",
    "KeyError: False\n",
    "```"
   ]
  },
  {
   "cell_type": "markdown",
   "id": "9e45c433",
   "metadata": {
    "slideshow": {
     "slide_type": "subslide"
    }
   },
   "source": [
    "### Come filtriare gli ultimi giorni di febbraio?"
   ]
  },
  {
   "cell_type": "code",
   "execution_count": 31,
   "id": "a5e11702",
   "metadata": {
    "slideshow": {
     "slide_type": "-"
    }
   },
   "outputs": [
    {
     "data": {
      "text/plain": [
       "0         False\n",
       "1         False\n",
       "2         False\n",
       "3         False\n",
       "4         False\n",
       "          ...  \n",
       "110864     True\n",
       "110865     True\n",
       "110866     True\n",
       "110867     True\n",
       "110868     True\n",
       "Name: time_stamp, Length: 110869, dtype: bool"
      ]
     },
     "execution_count": 31,
     "metadata": {},
     "output_type": "execute_result"
    }
   ],
   "source": [
    "df['time_stamp'].str.contains('2016-02-2')  # OK"
   ]
  },
  {
   "cell_type": "markdown",
   "id": "986d55fd",
   "metadata": {
    "slideshow": {
     "slide_type": "subslide"
    }
   },
   "source": [
    "###  Applichiamo il filtro con `contains`\n",
    "\n",
    "Filtra ultimi giorni di febbraio:"
   ]
  },
  {
   "cell_type": "code",
   "execution_count": 32,
   "id": "9ab0b336",
   "metadata": {
    "slideshow": {
     "slide_type": "-"
    }
   },
   "outputs": [
    {
     "data": {
      "text/html": [
       "<div>\n",
       "<style scoped>\n",
       "    .dataframe tbody tr th:only-of-type {\n",
       "        vertical-align: middle;\n",
       "    }\n",
       "\n",
       "    .dataframe tbody tr th {\n",
       "        vertical-align: top;\n",
       "    }\n",
       "\n",
       "    .dataframe thead th {\n",
       "        text-align: right;\n",
       "    }\n",
       "</style>\n",
       "<table border=\"1\" class=\"dataframe\">\n",
       "  <thead>\n",
       "    <tr style=\"text-align: right;\">\n",
       "      <th></th>\n",
       "      <th>time_stamp</th>\n",
       "      <th>temp_cpu</th>\n",
       "      <th>temp_h</th>\n",
       "      <th>temp_p</th>\n",
       "      <th>humidity</th>\n",
       "      <th>pressure</th>\n",
       "      <th>pitch</th>\n",
       "      <th>roll</th>\n",
       "      <th>yaw</th>\n",
       "      <th>mag_x</th>\n",
       "      <th>mag_y</th>\n",
       "      <th>mag_z</th>\n",
       "      <th>accel_x</th>\n",
       "      <th>accel_y</th>\n",
       "      <th>accel_z</th>\n",
       "      <th>gyro_x</th>\n",
       "      <th>gyro_y</th>\n",
       "      <th>gyro_z</th>\n",
       "      <th>reset</th>\n",
       "    </tr>\n",
       "  </thead>\n",
       "  <tbody>\n",
       "    <tr>\n",
       "      <th>30442</th>\n",
       "      <td>2016-02-20 00:00:00</td>\n",
       "      <td>32.30</td>\n",
       "      <td>28.12</td>\n",
       "      <td>25.59</td>\n",
       "      <td>45.05</td>\n",
       "      <td>1008.01</td>\n",
       "      <td>1.47</td>\n",
       "      <td>51.82</td>\n",
       "      <td>51.18</td>\n",
       "      <td>9.215883</td>\n",
       "      <td>-12.947023</td>\n",
       "      <td>4.066202</td>\n",
       "      <td>-0.000612</td>\n",
       "      <td>0.018792</td>\n",
       "      <td>0.014558</td>\n",
       "      <td>-0.000042</td>\n",
       "      <td>0.000275</td>\n",
       "      <td>0.000157</td>\n",
       "      <td>0</td>\n",
       "    </tr>\n",
       "    <tr>\n",
       "      <th>30443</th>\n",
       "      <td>2016-02-20 00:00:10</td>\n",
       "      <td>32.25</td>\n",
       "      <td>28.13</td>\n",
       "      <td>25.59</td>\n",
       "      <td>44.82</td>\n",
       "      <td>1008.02</td>\n",
       "      <td>0.81</td>\n",
       "      <td>51.53</td>\n",
       "      <td>52.21</td>\n",
       "      <td>8.710130</td>\n",
       "      <td>-13.143595</td>\n",
       "      <td>3.499386</td>\n",
       "      <td>-0.000718</td>\n",
       "      <td>0.019290</td>\n",
       "      <td>0.014667</td>\n",
       "      <td>0.000260</td>\n",
       "      <td>0.001011</td>\n",
       "      <td>0.000149</td>\n",
       "      <td>0</td>\n",
       "    </tr>\n",
       "    <tr>\n",
       "      <th>30444</th>\n",
       "      <td>2016-02-20 00:00:41</td>\n",
       "      <td>33.07</td>\n",
       "      <td>28.13</td>\n",
       "      <td>25.59</td>\n",
       "      <td>45.08</td>\n",
       "      <td>1008.09</td>\n",
       "      <td>0.68</td>\n",
       "      <td>51.69</td>\n",
       "      <td>57.36</td>\n",
       "      <td>7.383435</td>\n",
       "      <td>-13.827667</td>\n",
       "      <td>4.438656</td>\n",
       "      <td>-0.000700</td>\n",
       "      <td>0.018714</td>\n",
       "      <td>0.014598</td>\n",
       "      <td>0.000299</td>\n",
       "      <td>0.000343</td>\n",
       "      <td>-0.000025</td>\n",
       "      <td>0</td>\n",
       "    </tr>\n",
       "    <tr>\n",
       "      <th>30445</th>\n",
       "      <td>2016-02-20 00:00:50</td>\n",
       "      <td>32.63</td>\n",
       "      <td>28.10</td>\n",
       "      <td>25.60</td>\n",
       "      <td>44.87</td>\n",
       "      <td>1008.07</td>\n",
       "      <td>1.42</td>\n",
       "      <td>52.13</td>\n",
       "      <td>59.95</td>\n",
       "      <td>7.292313</td>\n",
       "      <td>-13.999682</td>\n",
       "      <td>4.517029</td>\n",
       "      <td>-0.000657</td>\n",
       "      <td>0.018857</td>\n",
       "      <td>0.014565</td>\n",
       "      <td>0.000160</td>\n",
       "      <td>0.000349</td>\n",
       "      <td>-0.000190</td>\n",
       "      <td>0</td>\n",
       "    </tr>\n",
       "    <tr>\n",
       "      <th>30446</th>\n",
       "      <td>2016-02-20 00:01:01</td>\n",
       "      <td>32.55</td>\n",
       "      <td>28.11</td>\n",
       "      <td>25.60</td>\n",
       "      <td>44.94</td>\n",
       "      <td>1008.07</td>\n",
       "      <td>1.41</td>\n",
       "      <td>51.86</td>\n",
       "      <td>61.83</td>\n",
       "      <td>6.699141</td>\n",
       "      <td>-14.065591</td>\n",
       "      <td>4.448778</td>\n",
       "      <td>-0.000678</td>\n",
       "      <td>0.018871</td>\n",
       "      <td>0.014564</td>\n",
       "      <td>-0.000608</td>\n",
       "      <td>-0.000381</td>\n",
       "      <td>-0.000243</td>\n",
       "      <td>0</td>\n",
       "    </tr>\n",
       "  </tbody>\n",
       "</table>\n",
       "</div>"
      ],
      "text/plain": [
       "                time_stamp  temp_cpu  temp_h  temp_p  humidity  pressure  \\\n",
       "30442  2016-02-20 00:00:00     32.30   28.12   25.59     45.05   1008.01   \n",
       "30443  2016-02-20 00:00:10     32.25   28.13   25.59     44.82   1008.02   \n",
       "30444  2016-02-20 00:00:41     33.07   28.13   25.59     45.08   1008.09   \n",
       "30445  2016-02-20 00:00:50     32.63   28.10   25.60     44.87   1008.07   \n",
       "30446  2016-02-20 00:01:01     32.55   28.11   25.60     44.94   1008.07   \n",
       "\n",
       "       pitch   roll    yaw     mag_x      mag_y     mag_z   accel_x   accel_y  \\\n",
       "30442   1.47  51.82  51.18  9.215883 -12.947023  4.066202 -0.000612  0.018792   \n",
       "30443   0.81  51.53  52.21  8.710130 -13.143595  3.499386 -0.000718  0.019290   \n",
       "30444   0.68  51.69  57.36  7.383435 -13.827667  4.438656 -0.000700  0.018714   \n",
       "30445   1.42  52.13  59.95  7.292313 -13.999682  4.517029 -0.000657  0.018857   \n",
       "30446   1.41  51.86  61.83  6.699141 -14.065591  4.448778 -0.000678  0.018871   \n",
       "\n",
       "        accel_z    gyro_x    gyro_y    gyro_z  reset  \n",
       "30442  0.014558 -0.000042  0.000275  0.000157      0  \n",
       "30443  0.014667  0.000260  0.001011  0.000149      0  \n",
       "30444  0.014598  0.000299  0.000343 -0.000025      0  \n",
       "30445  0.014565  0.000160  0.000349 -0.000190      0  \n",
       "30446  0.014564 -0.000608 -0.000381 -0.000243      0  "
      ]
     },
     "execution_count": 32,
     "metadata": {},
     "output_type": "execute_result"
    }
   ],
   "source": [
    "df[  df['time_stamp'].str.contains('2016-02-2') ].head()"
   ]
  },
  {
   "cell_type": "markdown",
   "id": "99b8aae7",
   "metadata": {
    "slideshow": {
     "slide_type": "subslide"
    }
   },
   "source": [
    "### Slice di stringhe\n",
    "\n",
    "Supponiamo di voler estrarre il giorno:"
   ]
  },
  {
   "cell_type": "code",
   "execution_count": 33,
   "id": "818f831c",
   "metadata": {
    "slideshow": {
     "slide_type": "-"
    }
   },
   "outputs": [
    {
     "data": {
      "text/plain": [
       "0    2016-02-16 10:44:40\n",
       "1    2016-02-16 10:44:50\n",
       "2    2016-02-16 10:45:00\n",
       "3    2016-02-16 10:45:10\n",
       "4    2016-02-16 10:45:20\n",
       "Name: time_stamp, dtype: object"
      ]
     },
     "execution_count": 33,
     "metadata": {},
     "output_type": "execute_result"
    }
   ],
   "source": [
    "df['time_stamp'].head()"
   ]
  },
  {
   "cell_type": "markdown",
   "id": "209ce6ab",
   "metadata": {
    "slideshow": {
     "slide_type": "fragment"
    }
   },
   "source": [
    "Possiamo usare `.str` _come se fosse una stringa_ e applicare la solita notazione con quadre per le slice:"
   ]
  },
  {
   "cell_type": "code",
   "execution_count": 34,
   "id": "63da4886",
   "metadata": {
    "slideshow": {
     "slide_type": "-"
    }
   },
   "outputs": [
    {
     "data": {
      "text/plain": [
       "0         16\n",
       "1         16\n",
       "2         16\n",
       "3         16\n",
       "4         16\n",
       "          ..\n",
       "110864    29\n",
       "110865    29\n",
       "110866    29\n",
       "110867    29\n",
       "110868    29\n",
       "Name: time_stamp, Length: 110869, dtype: object"
      ]
     },
     "execution_count": 34,
     "metadata": {},
     "output_type": "execute_result"
    }
   ],
   "source": [
    "df['time_stamp'].str[8:10]"
   ]
  },
  {
   "cell_type": "markdown",
   "id": "d3203fae",
   "metadata": {
    "slideshow": {
     "slide_type": "slide"
    }
   },
   "source": [
    "## Operazioni su colonne\n",
    "\n",
    "**Selezionare**\n",
    "\n",
    "**Aggiungere / scrivere**\n",
    "\n",
    "**Trasformare**"
   ]
  },
  {
   "cell_type": "markdown",
   "id": "e5d70e2a",
   "metadata": {
    "slideshow": {
     "slide_type": "subslide"
    }
   },
   "source": [
    "### Selezionare colonne"
   ]
  },
  {
   "cell_type": "code",
   "execution_count": 35,
   "id": "6802e60b",
   "metadata": {
    "slideshow": {
     "slide_type": "-"
    }
   },
   "outputs": [
    {
     "data": {
      "text/html": [
       "<div>\n",
       "<style scoped>\n",
       "    .dataframe tbody tr th:only-of-type {\n",
       "        vertical-align: middle;\n",
       "    }\n",
       "\n",
       "    .dataframe tbody tr th {\n",
       "        vertical-align: top;\n",
       "    }\n",
       "\n",
       "    .dataframe thead th {\n",
       "        text-align: right;\n",
       "    }\n",
       "</style>\n",
       "<table border=\"1\" class=\"dataframe\">\n",
       "  <thead>\n",
       "    <tr style=\"text-align: right;\">\n",
       "      <th></th>\n",
       "      <th>temp_h</th>\n",
       "      <th>temp_p</th>\n",
       "      <th>time_stamp</th>\n",
       "    </tr>\n",
       "  </thead>\n",
       "  <tbody>\n",
       "    <tr>\n",
       "      <th>0</th>\n",
       "      <td>27.57</td>\n",
       "      <td>25.01</td>\n",
       "      <td>2016-02-16 10:44:40</td>\n",
       "    </tr>\n",
       "    <tr>\n",
       "      <th>1</th>\n",
       "      <td>27.53</td>\n",
       "      <td>25.01</td>\n",
       "      <td>2016-02-16 10:44:50</td>\n",
       "    </tr>\n",
       "    <tr>\n",
       "      <th>2</th>\n",
       "      <td>27.53</td>\n",
       "      <td>25.01</td>\n",
       "      <td>2016-02-16 10:45:00</td>\n",
       "    </tr>\n",
       "    <tr>\n",
       "      <th>3</th>\n",
       "      <td>27.52</td>\n",
       "      <td>25.01</td>\n",
       "      <td>2016-02-16 10:45:10</td>\n",
       "    </tr>\n",
       "    <tr>\n",
       "      <th>4</th>\n",
       "      <td>27.54</td>\n",
       "      <td>25.01</td>\n",
       "      <td>2016-02-16 10:45:20</td>\n",
       "    </tr>\n",
       "    <tr>\n",
       "      <th>...</th>\n",
       "      <td>...</td>\n",
       "      <td>...</td>\n",
       "      <td>...</td>\n",
       "    </tr>\n",
       "    <tr>\n",
       "      <th>110864</th>\n",
       "      <td>27.52</td>\n",
       "      <td>24.83</td>\n",
       "      <td>2016-02-29 09:24:21</td>\n",
       "    </tr>\n",
       "    <tr>\n",
       "      <th>110865</th>\n",
       "      <td>27.50</td>\n",
       "      <td>24.83</td>\n",
       "      <td>2016-02-29 09:24:30</td>\n",
       "    </tr>\n",
       "    <tr>\n",
       "      <th>110866</th>\n",
       "      <td>27.50</td>\n",
       "      <td>24.83</td>\n",
       "      <td>2016-02-29 09:24:41</td>\n",
       "    </tr>\n",
       "    <tr>\n",
       "      <th>110867</th>\n",
       "      <td>27.50</td>\n",
       "      <td>24.83</td>\n",
       "      <td>2016-02-29 09:24:50</td>\n",
       "    </tr>\n",
       "    <tr>\n",
       "      <th>110868</th>\n",
       "      <td>27.51</td>\n",
       "      <td>24.83</td>\n",
       "      <td>2016-02-29 09:25:00</td>\n",
       "    </tr>\n",
       "  </tbody>\n",
       "</table>\n",
       "<p>110869 rows × 3 columns</p>\n",
       "</div>"
      ],
      "text/plain": [
       "        temp_h  temp_p           time_stamp\n",
       "0        27.57   25.01  2016-02-16 10:44:40\n",
       "1        27.53   25.01  2016-02-16 10:44:50\n",
       "2        27.53   25.01  2016-02-16 10:45:00\n",
       "3        27.52   25.01  2016-02-16 10:45:10\n",
       "4        27.54   25.01  2016-02-16 10:45:20\n",
       "...        ...     ...                  ...\n",
       "110864   27.52   24.83  2016-02-29 09:24:21\n",
       "110865   27.50   24.83  2016-02-29 09:24:30\n",
       "110866   27.50   24.83  2016-02-29 09:24:41\n",
       "110867   27.50   24.83  2016-02-29 09:24:50\n",
       "110868   27.51   24.83  2016-02-29 09:25:00\n",
       "\n",
       "[110869 rows x 3 columns]"
      ]
     },
     "execution_count": 35,
     "metadata": {},
     "output_type": "execute_result"
    }
   ],
   "source": [
    "df[  ['temp_h', 'temp_p', 'time_stamp']  ]"
   ]
  },
  {
   "cell_type": "markdown",
   "id": "a34e045f",
   "metadata": {
    "slideshow": {
     "slide_type": "subslide"
    }
   },
   "source": [
    "### Aggiungere colonne\n",
    "\n",
    "Pandas supporta operazioni algebriche. \n",
    "\n",
    "Creaiamo NUOVA colonna in fondo:"
   ]
  },
  {
   "cell_type": "code",
   "execution_count": 36,
   "id": "64f9e3b5",
   "metadata": {
    "slideshow": {
     "slide_type": "-"
    }
   },
   "outputs": [],
   "source": [
    "df['mag_tot'] = df['mag_x']**2 + df['mag_y']**2 + df['mag_z']**2 "
   ]
  },
  {
   "cell_type": "markdown",
   "id": "6373cc3e",
   "metadata": {},
   "source": [
    "Selezioniamo per vedere il risultato:"
   ]
  },
  {
   "cell_type": "code",
   "execution_count": 37,
   "id": "efe1e6e2",
   "metadata": {
    "scrolled": false,
    "slideshow": {
     "slide_type": "-"
    }
   },
   "outputs": [
    {
     "data": {
      "text/html": [
       "<div>\n",
       "<style scoped>\n",
       "    .dataframe tbody tr th:only-of-type {\n",
       "        vertical-align: middle;\n",
       "    }\n",
       "\n",
       "    .dataframe tbody tr th {\n",
       "        vertical-align: top;\n",
       "    }\n",
       "\n",
       "    .dataframe thead th {\n",
       "        text-align: right;\n",
       "    }\n",
       "</style>\n",
       "<table border=\"1\" class=\"dataframe\">\n",
       "  <thead>\n",
       "    <tr style=\"text-align: right;\">\n",
       "      <th></th>\n",
       "      <th>time_stamp</th>\n",
       "      <th>mag_x</th>\n",
       "      <th>mag_y</th>\n",
       "      <th>mag_z</th>\n",
       "      <th>mag_tot</th>\n",
       "    </tr>\n",
       "  </thead>\n",
       "  <tbody>\n",
       "    <tr>\n",
       "      <th>0</th>\n",
       "      <td>2016-02-16 10:44:40</td>\n",
       "      <td>-46.422753</td>\n",
       "      <td>-8.132907</td>\n",
       "      <td>-12.129346</td>\n",
       "      <td>2368.337207</td>\n",
       "    </tr>\n",
       "    <tr>\n",
       "      <th>1</th>\n",
       "      <td>2016-02-16 10:44:50</td>\n",
       "      <td>-48.778951</td>\n",
       "      <td>-8.304243</td>\n",
       "      <td>-12.943096</td>\n",
       "      <td>2615.870247</td>\n",
       "    </tr>\n",
       "    <tr>\n",
       "      <th>2</th>\n",
       "      <td>2016-02-16 10:45:00</td>\n",
       "      <td>-49.161878</td>\n",
       "      <td>-8.470832</td>\n",
       "      <td>-12.642772</td>\n",
       "      <td>2648.484927</td>\n",
       "    </tr>\n",
       "    <tr>\n",
       "      <th>3</th>\n",
       "      <td>2016-02-16 10:45:10</td>\n",
       "      <td>-49.341941</td>\n",
       "      <td>-8.457380</td>\n",
       "      <td>-12.615509</td>\n",
       "      <td>2665.305485</td>\n",
       "    </tr>\n",
       "    <tr>\n",
       "      <th>4</th>\n",
       "      <td>2016-02-16 10:45:20</td>\n",
       "      <td>-50.056683</td>\n",
       "      <td>-8.122609</td>\n",
       "      <td>-12.678341</td>\n",
       "      <td>2732.388620</td>\n",
       "    </tr>\n",
       "  </tbody>\n",
       "</table>\n",
       "</div>"
      ],
      "text/plain": [
       "            time_stamp      mag_x     mag_y      mag_z      mag_tot\n",
       "0  2016-02-16 10:44:40 -46.422753 -8.132907 -12.129346  2368.337207\n",
       "1  2016-02-16 10:44:50 -48.778951 -8.304243 -12.943096  2615.870247\n",
       "2  2016-02-16 10:45:00 -49.161878 -8.470832 -12.642772  2648.484927\n",
       "3  2016-02-16 10:45:10 -49.341941 -8.457380 -12.615509  2665.305485\n",
       "4  2016-02-16 10:45:20 -50.056683 -8.122609 -12.678341  2732.388620"
      ]
     },
     "execution_count": 37,
     "metadata": {},
     "output_type": "execute_result"
    }
   ],
   "source": [
    "df.head()[['time_stamp', 'mag_x', 'mag_y', 'mag_z', 'mag_tot']] "
   ]
  },
  {
   "cell_type": "markdown",
   "id": "e6d22cb4",
   "metadata": {
    "slideshow": {
     "slide_type": "subslide"
    }
   },
   "source": [
    "### Quando il campo magnetico è più forte?"
   ]
  },
  {
   "cell_type": "code",
   "execution_count": 38,
   "id": "3885f06b",
   "metadata": {
    "slideshow": {
     "slide_type": "-"
    }
   },
   "outputs": [
    {
     "data": {
      "image/png": "[encoded data removed]",
      "text/plain": [
       "<Figure size 700x300 with 1 Axes>"
      ]
     },
     "metadata": {},
     "output_type": "display_data"
    }
   ],
   "source": [
    "plt.figure(figsize=(7,3))\n",
    "df.mag_tot.plot();"
   ]
  },
  {
   "cell_type": "code",
   "execution_count": 39,
   "id": "8fc0fef4",
   "metadata": {
    "slideshow": {
     "slide_type": "fragment"
    }
   },
   "outputs": [
    {
     "data": {
      "text/plain": [
       "96156    2016-02-27 16:12:31\n",
       "Name: time_stamp, dtype: object"
      ]
     },
     "execution_count": 39,
     "metadata": {},
     "output_type": "execute_result"
    }
   ],
   "source": [
    "df['time_stamp'][df.mag_tot == df.mag_tot.values.max()]"
   ]
  },
  {
   "cell_type": "markdown",
   "id": "9390b0ee",
   "metadata": {
    "slideshow": {
     "slide_type": "fragment"
    }
   },
   "source": [
    "**Dov'era più forte?** Prova a inserire il valore in questo sito: [isstracker.com/historical](http://www.isstracker.com/historical)"
   ]
  },
  {
   "cell_type": "markdown",
   "id": "b985a6fb",
   "metadata": {
    "slideshow": {
     "slide_type": "subslide"
    }
   },
   "source": [
    "### Esercizio - temperatura meteo in Fahrenheit \n",
    "\n",
    "Nel dataframe `meteo`, crea una colonna `TempFahrenheit` con la temperatura misurata in gradi Fahrenheit\n",
    "\n",
    "Formula per calcolare la conversione dai gradi Celsius (C):\n",
    "\n",
    "$Fahrenheit = \\frac{9}{5}C + 32$"
   ]
  },
  {
   "cell_type": "markdown",
   "id": "ae13062c",
   "metadata": {
    "slideshow": {
     "slide_type": "fragment"
    }
   },
   "source": [
    "### Esercizio - Pressione vs Temperatura\n",
    "\n",
    "Secondo la [Legge di Gay-Lussac](https://en.wikipedia.org/wiki/Gay-Lussac%27s_law), in un ambiente chiuso la pressione dovrebbe essere direttamente proporzionale alla temperatura:\n",
    "\n",
    "$\\frac{P}{T} = k$\n",
    "\n",
    "E' vero per il dataset del `meteo`? Prova a scoprirlo calcolando direttamente la formula e comparando con i risultati del metodo `corr()`"
   ]
  },
  {
   "cell_type": "markdown",
   "id": "7ead0e2d",
   "metadata": {
    "slideshow": {
     "slide_type": "subslide"
    }
   },
   "source": [
    "### Scrivere in colonne filtrate con `.loc`"
   ]
  },
  {
   "cell_type": "code",
   "execution_count": 40,
   "id": "0e3b9d3f",
   "metadata": {
    "slideshow": {
     "slide_type": "-"
    }
   },
   "outputs": [],
   "source": [
    "df.loc[ df.temp_cpu > 31.68,'cpu_troppo_calda'] = True"
   ]
  },
  {
   "cell_type": "code",
   "execution_count": 41,
   "id": "aaf54d3b",
   "metadata": {
    "scrolled": true,
    "slideshow": {
     "slide_type": "fragment"
    }
   },
   "outputs": [
    {
     "data": {
      "text/html": [
       "<div>\n",
       "<style scoped>\n",
       "    .dataframe tbody tr th:only-of-type {\n",
       "        vertical-align: middle;\n",
       "    }\n",
       "\n",
       "    .dataframe tbody tr th {\n",
       "        vertical-align: top;\n",
       "    }\n",
       "\n",
       "    .dataframe thead th {\n",
       "        text-align: right;\n",
       "    }\n",
       "</style>\n",
       "<table border=\"1\" class=\"dataframe\">\n",
       "  <thead>\n",
       "    <tr style=\"text-align: right;\">\n",
       "      <th></th>\n",
       "      <th>time_stamp</th>\n",
       "      <th>temp_cpu</th>\n",
       "      <th>cpu_troppo_calda</th>\n",
       "    </tr>\n",
       "  </thead>\n",
       "  <tbody>\n",
       "    <tr>\n",
       "      <th>0</th>\n",
       "      <td>2016-02-16 10:44:40</td>\n",
       "      <td>31.88</td>\n",
       "      <td>True</td>\n",
       "    </tr>\n",
       "    <tr>\n",
       "      <th>1</th>\n",
       "      <td>2016-02-16 10:44:50</td>\n",
       "      <td>31.79</td>\n",
       "      <td>True</td>\n",
       "    </tr>\n",
       "    <tr>\n",
       "      <th>2</th>\n",
       "      <td>2016-02-16 10:45:00</td>\n",
       "      <td>31.66</td>\n",
       "      <td>NaN</td>\n",
       "    </tr>\n",
       "    <tr>\n",
       "      <th>3</th>\n",
       "      <td>2016-02-16 10:45:10</td>\n",
       "      <td>31.69</td>\n",
       "      <td>True</td>\n",
       "    </tr>\n",
       "    <tr>\n",
       "      <th>4</th>\n",
       "      <td>2016-02-16 10:45:20</td>\n",
       "      <td>31.66</td>\n",
       "      <td>NaN</td>\n",
       "    </tr>\n",
       "  </tbody>\n",
       "</table>\n",
       "</div>"
      ],
      "text/plain": [
       "            time_stamp  temp_cpu cpu_troppo_calda\n",
       "0  2016-02-16 10:44:40     31.88             True\n",
       "1  2016-02-16 10:44:50     31.79             True\n",
       "2  2016-02-16 10:45:00     31.66              NaN\n",
       "3  2016-02-16 10:45:10     31.69             True\n",
       "4  2016-02-16 10:45:20     31.66              NaN"
      ]
     },
     "execution_count": 41,
     "metadata": {},
     "output_type": "execute_result"
    }
   ],
   "source": [
    "df.head()[['time_stamp', 'temp_cpu', 'cpu_troppo_calda']]  "
   ]
  },
  {
   "cell_type": "markdown",
   "id": "2c049762",
   "metadata": {
    "slideshow": {
     "slide_type": "-"
    }
   },
   "source": [
    "**DOMANDA**: cosa ha scritto nelle righe _non_ selezionate?"
   ]
  },
  {
   "cell_type": "markdown",
   "id": "c14575f2",
   "metadata": {
    "slideshow": {
     "slide_type": "subslide"
    }
   },
   "source": [
    "### Scrivere in colonne filtrate con `.where`"
   ]
  },
  {
   "cell_type": "code",
   "execution_count": 42,
   "id": "caa8ec3a",
   "metadata": {
    "slideshow": {
     "slide_type": "-"
    }
   },
   "outputs": [],
   "source": [
    "pressione_media = df.pressure.values.mean()"
   ]
  },
  {
   "cell_type": "code",
   "execution_count": 43,
   "id": "2320efcb",
   "metadata": {
    "slideshow": {
     "slide_type": "-"
    }
   },
   "outputs": [],
   "source": [
    "df['controllo_pressione']=np.where(df.pressure <= pressione_media,'sotto','sopra')"
   ]
  },
  {
   "cell_type": "markdown",
   "id": "fa8db398",
   "metadata": {
    "slideshow": {
     "slide_type": "fragment"
    }
   },
   "source": [
    "Selezioniamo per vedere righe con variazioni:"
   ]
  },
  {
   "cell_type": "code",
   "execution_count": 44,
   "id": "d8c31b8f",
   "metadata": {
    "slideshow": {
     "slide_type": "-"
    }
   },
   "outputs": [
    {
     "data": {
      "text/html": [
       "<div>\n",
       "<style scoped>\n",
       "    .dataframe tbody tr th:only-of-type {\n",
       "        vertical-align: middle;\n",
       "    }\n",
       "\n",
       "    .dataframe tbody tr th {\n",
       "        vertical-align: top;\n",
       "    }\n",
       "\n",
       "    .dataframe thead th {\n",
       "        text-align: right;\n",
       "    }\n",
       "</style>\n",
       "<table border=\"1\" class=\"dataframe\">\n",
       "  <thead>\n",
       "    <tr style=\"text-align: right;\">\n",
       "      <th></th>\n",
       "      <th>time_stamp</th>\n",
       "      <th>pressure</th>\n",
       "      <th>controllo_pressione</th>\n",
       "    </tr>\n",
       "  </thead>\n",
       "  <tbody>\n",
       "    <tr>\n",
       "      <th>29739</th>\n",
       "      <td>2016-02-19 22:01:30</td>\n",
       "      <td>1008.10</td>\n",
       "      <td>sotto</td>\n",
       "    </tr>\n",
       "    <tr>\n",
       "      <th>29740</th>\n",
       "      <td>2016-02-19 22:01:40</td>\n",
       "      <td>1008.11</td>\n",
       "      <td>sotto</td>\n",
       "    </tr>\n",
       "    <tr>\n",
       "      <th>29741</th>\n",
       "      <td>2016-02-19 22:01:50</td>\n",
       "      <td>1008.15</td>\n",
       "      <td>sopra</td>\n",
       "    </tr>\n",
       "    <tr>\n",
       "      <th>29742</th>\n",
       "      <td>2016-02-19 22:02:01</td>\n",
       "      <td>1008.13</td>\n",
       "      <td>sopra</td>\n",
       "    </tr>\n",
       "    <tr>\n",
       "      <th>29743</th>\n",
       "      <td>2016-02-19 22:02:10</td>\n",
       "      <td>1008.11</td>\n",
       "      <td>sotto</td>\n",
       "    </tr>\n",
       "    <tr>\n",
       "      <th>29744</th>\n",
       "      <td>2016-02-19 22:02:21</td>\n",
       "      <td>1008.12</td>\n",
       "      <td>sotto</td>\n",
       "    </tr>\n",
       "  </tbody>\n",
       "</table>\n",
       "</div>"
      ],
      "text/plain": [
       "                time_stamp  pressure controllo_pressione\n",
       "29739  2016-02-19 22:01:30   1008.10               sotto\n",
       "29740  2016-02-19 22:01:40   1008.11               sotto\n",
       "29741  2016-02-19 22:01:50   1008.15               sopra\n",
       "29742  2016-02-19 22:02:01   1008.13               sopra\n",
       "29743  2016-02-19 22:02:10   1008.11               sotto\n",
       "29744  2016-02-19 22:02:21   1008.12               sotto"
      ]
     },
     "execution_count": 44,
     "metadata": {},
     "output_type": "execute_result"
    }
   ],
   "source": [
    "df.iloc[29739:29745][['time_stamp', 'pressure', 'controllo_pressione']] "
   ]
  },
  {
   "cell_type": "markdown",
   "id": "a539e2f3",
   "metadata": {
    "slideshow": {
     "slide_type": "subslide"
    }
   },
   "source": [
    "### Trasformare una colonna - un problema\n",
    "\n",
    "Come convertire tutti i valori della colonna umidità da float a interi?"
   ]
  },
  {
   "cell_type": "code",
   "execution_count": 45,
   "id": "414a7a61",
   "metadata": {
    "slideshow": {
     "slide_type": "-"
    }
   },
   "outputs": [
    {
     "data": {
      "text/plain": [
       "0         44.94\n",
       "1         45.12\n",
       "2         45.12\n",
       "3         45.32\n",
       "4         45.18\n",
       "          ...  \n",
       "110864    42.94\n",
       "110865    42.72\n",
       "110866    42.83\n",
       "110867    42.81\n",
       "110868    42.94\n",
       "Name: humidity, Length: 110869, dtype: float64"
      ]
     },
     "execution_count": 45,
     "metadata": {},
     "output_type": "execute_result"
    }
   ],
   "source": [
    "df['humidity']"
   ]
  },
  {
   "cell_type": "markdown",
   "id": "6ca7d541",
   "metadata": {
    "slideshow": {
     "slide_type": "fragment"
    }
   },
   "source": [
    "Intanto, come convertire  UN solo valore?"
   ]
  },
  {
   "cell_type": "code",
   "execution_count": 46,
   "id": "91f33b99",
   "metadata": {
    "slideshow": {
     "slide_type": "fragment"
    }
   },
   "outputs": [
    {
     "data": {
      "text/plain": [
       "44"
      ]
     },
     "execution_count": 46,
     "metadata": {},
     "output_type": "execute_result"
    }
   ],
   "source": [
    "int(44.12)"
   ]
  },
  {
   "cell_type": "markdown",
   "id": "19a56bad",
   "metadata": {
    "slideshow": {
     "slide_type": "subslide"
    }
   },
   "source": [
    "### Come trasformare TUTTA una colonna?\n",
    "\n",
    "Usiamo il metodo `.transform`:"
   ]
  },
  {
   "cell_type": "code",
   "execution_count": 47,
   "id": "fce8228d",
   "metadata": {
    "slideshow": {
     "slide_type": "-"
    }
   },
   "outputs": [
    {
     "data": {
      "text/plain": [
       "0         44\n",
       "1         45\n",
       "2         45\n",
       "3         45\n",
       "4         45\n",
       "          ..\n",
       "110864    42\n",
       "110865    42\n",
       "110866    42\n",
       "110867    42\n",
       "110868    42\n",
       "Name: humidity, Length: 110869, dtype: int64"
      ]
     },
     "execution_count": 47,
     "metadata": {},
     "output_type": "execute_result"
    }
   ],
   "source": [
    "df['humidity'].transform(int)"
   ]
  },
  {
   "cell_type": "markdown",
   "id": "f12716cd",
   "metadata": {
    "slideshow": {
     "slide_type": "fragment"
    }
   },
   "source": [
    "**NOTA**: a `transform` passiamo _l'oggetto funzione_ `int`\n",
    "\n",
    "**DOMANDA**: chi chiama `int`?"
   ]
  },
  {
   "cell_type": "markdown",
   "id": "03404bf9",
   "metadata": {
    "slideshow": {
     "slide_type": "subslide"
    }
   },
   "source": [
    "## Trasformare una colonna\n",
    "\n",
    "### ...stessa minestra"
   ]
  },
  {
   "cell_type": "code",
   "execution_count": 48,
   "id": "2ed631e2",
   "metadata": {
    "slideshow": {
     "slide_type": "-"
    }
   },
   "outputs": [
    {
     "data": {
      "text/plain": [
       "0         44\n",
       "1         45\n",
       "2         45\n",
       "3         45\n",
       "4         45\n",
       "          ..\n",
       "110864    42\n",
       "110865    42\n",
       "110866    42\n",
       "110867    42\n",
       "110868    42\n",
       "Name: humidity, Length: 110869, dtype: int64"
      ]
     },
     "execution_count": 48,
     "metadata": {},
     "output_type": "execute_result"
    }
   ],
   "source": [
    "def mia_f(x):\n",
    "    return int(x)\n",
    "\n",
    "df['humidity'].transform(mia_f)"
   ]
  },
  {
   "cell_type": "markdown",
   "id": "0e34fb26",
   "metadata": {
    "slideshow": {
     "slide_type": "subslide"
    }
   },
   "source": [
    "### Trasformare una colonna\n",
    "\n",
    "### ...minestra alla `lambda`"
   ]
  },
  {
   "cell_type": "code",
   "execution_count": 49,
   "id": "6edf5214",
   "metadata": {
    "slideshow": {
     "slide_type": "-"
    }
   },
   "outputs": [
    {
     "data": {
      "text/plain": [
       "0         44\n",
       "1         45\n",
       "2         45\n",
       "3         45\n",
       "4         45\n",
       "          ..\n",
       "110864    42\n",
       "110865    42\n",
       "110866    42\n",
       "110867    42\n",
       "110868    42\n",
       "Name: humidity, Length: 110869, dtype: int64"
      ]
     },
     "execution_count": 49,
     "metadata": {},
     "output_type": "execute_result"
    }
   ],
   "source": [
    "df['humidity'].transform( lambda x: int(x) )"
   ]
  },
  {
   "cell_type": "markdown",
   "id": "73a90293",
   "metadata": {
    "slideshow": {
     "slide_type": "subslide"
    }
   },
   "source": [
    "### Trasformare - è cambiato qualcosa?"
   ]
  },
  {
   "cell_type": "code",
   "execution_count": 50,
   "id": "a064ca0a",
   "metadata": {},
   "outputs": [
    {
     "data": {
      "text/plain": [
       "0         44.94\n",
       "1         45.12\n",
       "2         45.12\n",
       "3         45.32\n",
       "4         45.18\n",
       "          ...  \n",
       "110864    42.94\n",
       "110865    42.72\n",
       "110866    42.83\n",
       "110867    42.81\n",
       "110868    42.94\n",
       "Name: humidity, Length: 110869, dtype: float64"
      ]
     },
     "execution_count": 50,
     "metadata": {},
     "output_type": "execute_result"
    }
   ],
   "source": [
    "df['humidity']"
   ]
  },
  {
   "cell_type": "markdown",
   "id": "654f3a5a",
   "metadata": {
    "slideshow": {
     "slide_type": "subslide"
    }
   },
   "source": [
    "### Trasformare veramente - riassegnamo!"
   ]
  },
  {
   "cell_type": "code",
   "execution_count": 51,
   "id": "bf2dc1ef",
   "metadata": {
    "slideshow": {
     "slide_type": "-"
    }
   },
   "outputs": [],
   "source": [
    "df['humidity_int'] = df['humidity'].transform( lambda x: int(x) )"
   ]
  },
  {
   "cell_type": "code",
   "execution_count": 52,
   "id": "83536858",
   "metadata": {},
   "outputs": [
    {
     "data": {
      "text/html": [
       "<div>\n",
       "<style scoped>\n",
       "    .dataframe tbody tr th:only-of-type {\n",
       "        vertical-align: middle;\n",
       "    }\n",
       "\n",
       "    .dataframe tbody tr th {\n",
       "        vertical-align: top;\n",
       "    }\n",
       "\n",
       "    .dataframe thead th {\n",
       "        text-align: right;\n",
       "    }\n",
       "</style>\n",
       "<table border=\"1\" class=\"dataframe\">\n",
       "  <thead>\n",
       "    <tr style=\"text-align: right;\">\n",
       "      <th></th>\n",
       "      <th>time_stamp</th>\n",
       "      <th>humidity_int</th>\n",
       "      <th>humidity</th>\n",
       "    </tr>\n",
       "  </thead>\n",
       "  <tbody>\n",
       "    <tr>\n",
       "      <th>0</th>\n",
       "      <td>2016-02-16 10:44:40</td>\n",
       "      <td>44</td>\n",
       "      <td>44.94</td>\n",
       "    </tr>\n",
       "    <tr>\n",
       "      <th>1</th>\n",
       "      <td>2016-02-16 10:44:50</td>\n",
       "      <td>45</td>\n",
       "      <td>45.12</td>\n",
       "    </tr>\n",
       "    <tr>\n",
       "      <th>2</th>\n",
       "      <td>2016-02-16 10:45:00</td>\n",
       "      <td>45</td>\n",
       "      <td>45.12</td>\n",
       "    </tr>\n",
       "    <tr>\n",
       "      <th>3</th>\n",
       "      <td>2016-02-16 10:45:10</td>\n",
       "      <td>45</td>\n",
       "      <td>45.32</td>\n",
       "    </tr>\n",
       "    <tr>\n",
       "      <th>4</th>\n",
       "      <td>2016-02-16 10:45:20</td>\n",
       "      <td>45</td>\n",
       "      <td>45.18</td>\n",
       "    </tr>\n",
       "    <tr>\n",
       "      <th>...</th>\n",
       "      <td>...</td>\n",
       "      <td>...</td>\n",
       "      <td>...</td>\n",
       "    </tr>\n",
       "    <tr>\n",
       "      <th>110864</th>\n",
       "      <td>2016-02-29 09:24:21</td>\n",
       "      <td>42</td>\n",
       "      <td>42.94</td>\n",
       "    </tr>\n",
       "    <tr>\n",
       "      <th>110865</th>\n",
       "      <td>2016-02-29 09:24:30</td>\n",
       "      <td>42</td>\n",
       "      <td>42.72</td>\n",
       "    </tr>\n",
       "    <tr>\n",
       "      <th>110866</th>\n",
       "      <td>2016-02-29 09:24:41</td>\n",
       "      <td>42</td>\n",
       "      <td>42.83</td>\n",
       "    </tr>\n",
       "    <tr>\n",
       "      <th>110867</th>\n",
       "      <td>2016-02-29 09:24:50</td>\n",
       "      <td>42</td>\n",
       "      <td>42.81</td>\n",
       "    </tr>\n",
       "    <tr>\n",
       "      <th>110868</th>\n",
       "      <td>2016-02-29 09:25:00</td>\n",
       "      <td>42</td>\n",
       "      <td>42.94</td>\n",
       "    </tr>\n",
       "  </tbody>\n",
       "</table>\n",
       "<p>110869 rows × 3 columns</p>\n",
       "</div>"
      ],
      "text/plain": [
       "                 time_stamp  humidity_int  humidity\n",
       "0       2016-02-16 10:44:40            44     44.94\n",
       "1       2016-02-16 10:44:50            45     45.12\n",
       "2       2016-02-16 10:45:00            45     45.12\n",
       "3       2016-02-16 10:45:10            45     45.32\n",
       "4       2016-02-16 10:45:20            45     45.18\n",
       "...                     ...           ...       ...\n",
       "110864  2016-02-29 09:24:21            42     42.94\n",
       "110865  2016-02-29 09:24:30            42     42.72\n",
       "110866  2016-02-29 09:24:41            42     42.83\n",
       "110867  2016-02-29 09:24:50            42     42.81\n",
       "110868  2016-02-29 09:25:00            42     42.94\n",
       "\n",
       "[110869 rows x 3 columns]"
      ]
     },
     "execution_count": 52,
     "metadata": {},
     "output_type": "execute_result"
    }
   ],
   "source": [
    "df[ ['time_stamp', 'humidity_int', 'humidity' ]  ]"
   ]
  },
  {
   "cell_type": "code",
   "execution_count": 53,
   "id": "f95e8943",
   "metadata": {},
   "outputs": [
    {
     "data": {
      "text/plain": [
       "''"
      ]
     },
     "execution_count": 53,
     "metadata": {},
     "output_type": "execute_result"
    }
   ],
   "source": [
    "#jupman-purge-io\n",
    "# scrivi qui\n",
    "''"
   ]
  },
  {
   "cell_type": "code",
   "execution_count": null,
   "id": "a944c618",
   "metadata": {},
   "outputs": [],
   "source": []
  }
 ],
 "metadata": {
  "celltoolbar": "Slideshow",
  "kernelspec": {
   "display_name": "Python 3 (ipykernel)",
   "language": "python",
   "name": "python3"
  },
  "language_info": {
   "codemirror_mode": {
    "name": "ipython",
    "version": 3
   },
   "file_extension": ".py",
   "mimetype": "text/x-python",
   "name": "python",
   "nbconvert_exporter": "python",
   "pygments_lexer": "ipython3",
   "version": "3.7.17"
  },
  "toc": {
   "base_numbering": 1,
   "nav_menu": {},
   "number_sections": false,
   "sideBar": true,
   "skip_h1_title": false,
   "title_cell": "Table of Contents",
   "title_sidebar": "Contents",
   "toc_cell": false,
   "toc_position": {
    "height": "calc(100% - 180px)",
    "left": "10px",
    "top": "150px",
    "width": "373.188px"
   },
   "toc_section_display": true,
   "toc_window_display": true
  }
 },
 "nbformat": 4,
 "nbformat_minor": 5
}
