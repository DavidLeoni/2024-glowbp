{
 "cells": [
  {
   "cell_type": "code",
   "execution_count": 1,
   "id": "8e77c3a2",
   "metadata": {
    "slideshow": {
     "slide_type": "skip"
    }
   },
   "outputs": [
    {
     "data": {
      "text/html": [
       "        \n",
       "            <script src=\"../_static/js/python.iife.js\" type=\"application/javascript\"></script>\n",
       "        "
      ],
      "text/plain": [
       "<IPython.core.display.HTML object>"
      ]
     },
     "execution_count": 1,
     "metadata": {},
     "output_type": "execute_result"
    }
   ],
   "source": [
    "import sys\n",
    "sys.path.append('../')\n",
    "import jupman\n",
    "\n",
    "import conf\n",
    "\n",
    "conf.jm.init_icp()"
   ]
  },
  {
   "cell_type": "markdown",
   "id": "0049100b",
   "metadata": {
    "slideshow": {
     "slide_type": "slide"
    }
   },
   "source": [
    "\n",
    "# If 1: introduzione\n",
    "\n",
    "**Riferimenti:** [SoftPython - liste 1](https://it.softpython.org/if/if1-sol.html)\n",
    "\n",
    "* visualizza al meglio in <img style=\"display:inline; width:25px; vertical-align: middle;\" src=\"../_static/img/chrome.png\" alttext=\"Chrome\">\n",
    "* versione stampabile: [clicca qua](?print-pdf)\n",
    "* per navigare nelle slide: premere `Esc`\n",
    "\n",
    "<br>\n",
    "<br>\n",
    "\n",
    "**Summer School Data Science 2023 - Modulo 1 informatica:** [Moodle](https://didatticaonline.unitn.it/dol/course/view.php?id=36683) \n",
    "\n",
    "Docente: David Leoni david.leoni@unitn.it\n",
    "\n",
    "Esercitatore: Luca Bosotti luca.bosotti@studenti.unitn.it\n"
   ]
  },
  {
   "cell_type": "markdown",
   "id": "9a663aad",
   "metadata": {
    "slideshow": {
     "slide_type": "slide"
    }
   },
   "source": [
    "## Controllo di flusso - `if`\n",
    "\n",
    "**Riferimenti:** [SoftPython - if](https://it.softpython.org/if/if1-sol.html)\n",
    "\n",
    "Come eseguire codice solo se una condizione è vera?"
   ]
  },
  {
   "cell_type": "code",
   "execution_count": 2,
   "id": "a6bde6e2",
   "metadata": {
    "slideshow": {
     "slide_type": "-"
    }
   },
   "outputs": [
    {
     "name": "stdout",
     "output_type": "stream",
     "text": [
      "fatto tutto !\n",
      "posso uscire di casa.\n",
      "Fine.\n"
     ]
    }
   ],
   "source": [
    "fatto_colazione, lavato_denti = True, True\n",
    "\n",
    "if fatto_colazione and lavato_denti:\n",
    "    print(\"fatto tutto !\")\n",
    "    print(\"posso uscire di casa.\")\n",
    "    \n",
    "print(\"Fine.\")    "
   ]
  },
  {
   "cell_type": "markdown",
   "id": "2a7ecf1a",
   "metadata": {
    "slideshow": {
     "slide_type": "fragment"
    }
   },
   "source": [
    "Sintassi: \n",
    "\n",
    "```python\n",
    "if ESPRESSIONE_BOOLEANA:\n",
    "    BLOCCO COMANDI\n",
    "```"
   ]
  },
  {
   "cell_type": "markdown",
   "id": "343f23d4",
   "metadata": {
    "slideshow": {
     "slide_type": "subslide"
    }
   },
   "source": [
    "Cosa fare se la condizione è falsa?"
   ]
  },
  {
   "cell_type": "code",
   "execution_count": 3,
   "id": "d6e720cd",
   "metadata": {
    "slideshow": {
     "slide_type": "-"
    }
   },
   "outputs": [
    {
     "name": "stdout",
     "output_type": "stream",
     "text": [
      "NON posso uscire di casa.\n",
      "Fine.\n"
     ]
    }
   ],
   "source": [
    "\n",
    "fatto_colazione, lavato_denti = True, False\n",
    "\n",
    "if fatto_colazione and lavato_denti:\n",
    "    print(\"fatto tutto !\")\n",
    "    print(\"posso uscire di casa.\")\n",
    "else:\n",
    "    print(\"NON posso uscire di casa.\")\n",
    "\n",
    "print(\"Fine.\")"
   ]
  },
  {
   "cell_type": "markdown",
   "id": "b5403966",
   "metadata": {
    "slideshow": {
     "slide_type": "fragment"
    }
   },
   "source": [
    "\n",
    "```python\n",
    "if ESPRESSIONE_BOOLEANA:\n",
    "    BLOCCO COMANDI\n",
    "else:\n",
    "    ALTRO BLOCCO COMANDI   \n",
    "```    "
   ]
  },
  {
   "cell_type": "markdown",
   "id": "eb44b3ca",
   "metadata": {
    "slideshow": {
     "slide_type": "subslide"
    }
   },
   "source": [
    "### `if`: Attenzione\n",
    "\n",
    "<div class=\"alert alert-warning\">\n",
    "\n",
    "**RICORDATI I DUE PUNTI `:` ALLA FINE DELLA LINEA DELL'IF !!!**\n",
    "</div>"
   ]
  },
  {
   "cell_type": "markdown",
   "id": "7f1079f2",
   "metadata": {
    "slideshow": {
     "slide_type": "fragment"
    }
   },
   "source": [
    "<div class=\"alert alert-warning\">\n",
    "\n",
    "**Per indentare, usa SEMPRE 4 spazi bianchi**\n",
    "    \n",
    "Sequenze di 2 soli spazi per quanto consentite non sono raccomandate. \n",
    "</div>"
   ]
  },
  {
   "cell_type": "markdown",
   "id": "a7801fcb",
   "metadata": {
    "slideshow": {
     "slide_type": "fragment"
    }
   },
   "source": [
    "<div class=\"alert alert-warning\">\n",
    "\n",
    "**Il comportamento di TAB dipende dal tuo editor**\n",
    "\n",
    "A seconda dell'editor che usi, premendo TAB potresti ottenere:\n",
    "    \n",
    "- una sequenza di spazi bianchi (4 in Jupyter)\n",
    "- ...oppure un carattere speciale di tabulazione (da evitare)! \n",
    "    \n",
    "</div>"
   ]
  },
  {
   "cell_type": "markdown",
   "id": "e8dd6b60",
   "metadata": {
    "slideshow": {
     "slide_type": "subslide"
    }
   },
   "source": [
    "### Esercizio - qualche test\n",
    "\n",
    "✪ prova a scrivere [in Python Tutor](https://pythontutor.com/visualize.html#mode=edit) il programma di prima. Prova a cambiare i valori da `True` a `False` e guarda che succede. \n",
    "\n",
    "**NON fare copia e incolla**, scrivi a mano!\n",
    "\n",
    "Assicurati di provare tutti i casi:\n",
    "\n",
    "- `True` `True`\n",
    "- `True` `False`\n",
    "- `False` `True`\n",
    "- `False` `False`\n",
    "\n",
    "<div class=\"alert alert-warning\">\n",
    "\n",
    "**ATTENZIONE**: Ricordati i `:` alla fine della riga con `if` !!!!\n",
    "\n",
    "</div>"
   ]
  },
  {
   "cell_type": "code",
   "execution_count": 4,
   "id": "9e23be7f",
   "metadata": {
    "slideshow": {
     "slide_type": "-"
    }
   },
   "outputs": [
    {
     "name": "stdout",
     "output_type": "stream",
     "text": [
      "NON posso uscire di casa.\n",
      "Fine.\n"
     ]
    }
   ],
   "source": [
    "#jupman-purge-output\n",
    "fatto_colazione, lavato_denti = True, False\n",
    "\n",
    "if fatto_colazione and lavato_denti:\n",
    "    print(\"fatto tutto !\")\n",
    "    print(\"posso uscire di casa.\")\n",
    "else:\n",
    "    print(\"NON posso uscire di casa.\")\n",
    "\n",
    "print(\"Fine.\")"
   ]
  },
  {
   "cell_type": "markdown",
   "id": "d8ca7e0d",
   "metadata": {
    "slideshow": {
     "slide_type": "slide"
    }
   },
   "source": [
    "## valori logici\n",
    "\n",
    "\n",
    "In Python, gli oggetti 'vuoti' hanno valore logico `False`:\n",
    "    \n",
    "- numero `0`, oggetto `None`, la stringa vuota `\"\"`, lista vuota `[]`, ..."
   ]
  },
  {
   "cell_type": "markdown",
   "id": "44355f8a",
   "metadata": {
    "slideshow": {
     "slide_type": "fragment"
    }
   },
   "source": [
    "Tutto ciò che non è 'vuoto' è considerato `True`: "
   ]
  },
  {
   "cell_type": "markdown",
   "id": "f570a0c8",
   "metadata": {
    "slideshow": {
     "slide_type": "fragment"
    }
   },
   "source": [
    "```python\n",
    "if ['Che', 'tempo', 'farà', 'domani?']:    \n",
    "    print(\"Sole!\")\n",
    "else:\n",
    "    print(\"Pioggia\")\n",
    "```"
   ]
  },
  {
   "cell_type": "markdown",
   "id": "9ea992d0",
   "metadata": {
    "colab": {
     "autoexec": {
      "startup": false,
      "wait_interval": 0
     }
    },
    "colab_type": "code",
    "id": "6GWu1jIUAFSd",
    "slideshow": {
     "slide_type": "fragment"
    }
   },
   "source": [
    "```bash\n",
    "Sole!\n",
    "```"
   ]
  },
  {
   "cell_type": "markdown",
   "id": "24074a1a",
   "metadata": {
    "slideshow": {
     "slide_type": "slide"
    }
   },
   "source": [
    "## Blocchi comandi"
   ]
  },
  {
   "cell_type": "code",
   "execution_count": 5,
   "id": "a677b8e8",
   "metadata": {
    "slideshow": {
     "slide_type": "-"
    }
   },
   "outputs": [],
   "source": [
    "#jupman-purge-output\n",
    "if 2 != 2:\n",
    "    'PERBACCO'\n",
    "else:\n",
    "    'PERGIOVE'"
   ]
  },
  {
   "cell_type": "markdown",
   "id": "3bcfa26d",
   "metadata": {
    "slideshow": {
     "slide_type": "fragment"
    }
   },
   "source": [
    "<non stampa nulla!>"
   ]
  },
  {
   "cell_type": "code",
   "execution_count": 6,
   "id": "0d018b57",
   "metadata": {
    "slideshow": {
     "slide_type": "fragment"
    }
   },
   "outputs": [
    {
     "name": "stdout",
     "output_type": "stream",
     "text": [
      "PERGIOVE\n"
     ]
    }
   ],
   "source": [
    "#jupman-purge-output\n",
    "if 2 != 2:\n",
    "    print('PERBACCO')\n",
    "else:\n",
    "    print('PERGIOVE')"
   ]
  },
  {
   "cell_type": "markdown",
   "id": "1bd40548",
   "metadata": {
    "slideshow": {
     "slide_type": "fragment"
    }
   },
   "source": [
    "PERGIOVE"
   ]
  },
  {
   "cell_type": "markdown",
   "id": "1226ec52",
   "metadata": {
    "slideshow": {
     "slide_type": "slide"
    }
   },
   "source": [
    "## `if` annidati\n",
    "\n",
    "Si può anche mettere un `if` dentro l'altro (_nested if_). "
   ]
  },
  {
   "cell_type": "markdown",
   "id": "6639f365",
   "metadata": {
    "slideshow": {
     "slide_type": "fragment"
    }
   },
   "source": [
    "Esempio (funziona esattamente come il precedente):"
   ]
  },
  {
   "cell_type": "code",
   "execution_count": 7,
   "id": "6b309a22",
   "metadata": {
    "slideshow": {
     "slide_type": "-"
    }
   },
   "outputs": [
    {
     "name": "stdout",
     "output_type": "stream",
     "text": [
      "fatto tutto !\n",
      "posso uscire di casa!\n"
     ]
    }
   ],
   "source": [
    "fatto_colazione, lavato_denti = True,True\n",
    "\n",
    "if fatto_colazione:\n",
    "    if lavato_denti:                        # NOTA: Questo blocco è indentato\n",
    "        print(\"fatto tutto !\")              #       rispetto all'if esterno\n",
    "        print(\"posso uscire di casa!\")      #\n",
    "    else:\n",
    "        print(\"NON posso uscire di casa\")\n",
    "else:\n",
    "    print(\"NON posso uscire di casa\")"
   ]
  },
  {
   "cell_type": "markdown",
   "id": "a2a31a4d",
   "metadata": {
    "slideshow": {
     "slide_type": "subslide"
    }
   },
   "source": [
    "### Esercizio: tutticasi\n",
    "\n",
    "✪ Modifica il programma di prima [in Python Tutor](https://pythontutor.com/visualize.html#mode=edit) per riportare lo stato delle varie azioni compiute. Elenchiamo qui i possibili casi e i risultati attesi:\n",
    "\n",
    "```\n",
    "True False:\n",
    "ho fatto colazione\n",
    "non ho lavato i denti\n",
    "NON posso uscire di casa\n",
    "```\n",
    "\n",
    "```\n",
    "False True\n",
    "False False:\n",
    "non ho fatto colazione\n",
    "NON posso uscire di casa\n",
    "```\n",
    "\n",
    "```\n",
    "True True:\n",
    "ho fatto colazione\n",
    "ho lavato i denti\n",
    "fatto tutto !\n",
    "posso uscire di casa!\n",
    "```"
   ]
  },
  {
   "cell_type": "code",
   "execution_count": 8,
   "id": "50f78cca",
   "metadata": {
    "slideshow": {
     "slide_type": "-"
    }
   },
   "outputs": [
    {
     "name": "stdout",
     "output_type": "stream",
     "text": [
      "fatto tutto !\n",
      "posso uscire di casa!\n"
     ]
    }
   ],
   "source": [
    "#jupman-purge-output\n",
    "fatto_colazione, lavato_denti = True,True\n",
    "if fatto_colazione:\n",
    "    if lavato_denti:                        \n",
    "        print(\"fatto tutto !\")              \n",
    "        print(\"posso uscire di casa!\")      \n",
    "    else:\n",
    "        print(\"NON posso uscire di casa\")\n",
    "else:\n",
    "    print(\"NON posso uscire di casa\")"
   ]
  },
  {
   "cell_type": "markdown",
   "id": "a26185b4",
   "metadata": {
    "slideshow": {
     "slide_type": "subslide"
    }
   },
   "source": [
    "### Esercizio: Latte intero/scremato\n",
    "\n",
    "✪✪ Prova a fare un programma in [Python Tutor](https://pythontutor.com/visualize.html#mode=edit) che ti dice se puoi uscire di casa solo se  hai fatto colazione (per cui devi avere almeno un tipo di latte) e lavato i denti"
   ]
  },
  {
   "cell_type": "code",
   "execution_count": 9,
   "id": "c5f4979b",
   "metadata": {
    "slideshow": {
     "slide_type": "-"
    }
   },
   "outputs": [],
   "source": [
    "ho_latte_intero = False\n",
    "ho_latte_scremato = True\n",
    "lavato_denti = False\n",
    "\n",
    "\n",
    "# scrivi qui\n",
    "\n"
   ]
  },
  {
   "cell_type": "markdown",
   "id": "abbcb1d9",
   "metadata": {
    "slideshow": {
     "slide_type": "subslide"
    }
   },
   "source": [
    "### Esercizio: nuotare\n",
    "\n",
    "✪✪ prova a fare un programma [in Python Tutor](https://pythontutor.com/visualize.html#mode=edit) che ti dice se puoi nuotare se NON hai fatto colazione E hai il salvagente\n",
    "\n",
    "Assicurati di provare tutti i casi:\n",
    "\n",
    "- `True` `True`\n",
    "- `True` `False`\n",
    "- `False` `True`\n",
    "- `False` `False`"
   ]
  },
  {
   "cell_type": "code",
   "execution_count": 10,
   "id": "c982b667",
   "metadata": {
    "slideshow": {
     "slide_type": "-"
    }
   },
   "outputs": [],
   "source": [
    "\n",
    "hai_salvagente = True\n",
    "fatto_colazione = True\n",
    "\n",
    "# scrivi qui\n"
   ]
  },
  {
   "cell_type": "markdown",
   "id": "8832afdc",
   "metadata": {
    "slideshow": {
     "slide_type": "slide"
    }
   },
   "source": [
    "## if in cascata:  `elif` 1/2"
   ]
  },
  {
   "cell_type": "code",
   "execution_count": 11,
   "id": "d8c5b55d",
   "metadata": {
    "slideshow": {
     "slide_type": "-"
    }
   },
   "outputs": [
    {
     "name": "stdout",
     "output_type": "stream",
     "text": [
      "poche caramelle!\n"
     ]
    }
   ],
   "source": [
    "caramelle = 3\n",
    "\n",
    "if caramelle > 10:\n",
    "    print('tante caramelle!')\n",
    "elif caramelle > 5:\n",
    "    print('abbastanza caramelle!')\n",
    "elif caramelle > 0:\n",
    "    print('poche caramelle!')    \n",
    "else:\n",
    "    print('Non ci sono caramelle!')"
   ]
  },
  {
   "cell_type": "markdown",
   "id": "671c3f53",
   "metadata": {
    "slideshow": {
     "slide_type": "subslide"
    }
   },
   "source": [
    "## if in cascata:  `elif` 2/2"
   ]
  },
  {
   "cell_type": "code",
   "execution_count": 12,
   "id": "9a931519",
   "metadata": {
    "slideshow": {
     "slide_type": "-"
    }
   },
   "outputs": [
    {
     "name": "stdout",
     "output_type": "stream",
     "text": [
      "Non ci sono caramelle!\n"
     ]
    }
   ],
   "source": [
    "caramelle = 0\n",
    "\n",
    "if caramelle > 10:\n",
    "    print('tante caramelle!')\n",
    "elif caramelle > 5:\n",
    "    print('abbastanza caramelle!')\n",
    "elif caramelle > 0:\n",
    "    print('poche caramelle!')    \n",
    "else:\n",
    "    print('Non ci sono caramelle!')"
   ]
  },
  {
   "cell_type": "markdown",
   "id": "0f3fe774",
   "metadata": {
    "slideshow": {
     "slide_type": "slide"
    }
   },
   "source": [
    "## Operatore ternario\n",
    "\n",
    "Se abbiamo fatto tanta spesa, ci faranno uno sconto, altrimenti no."
   ]
  },
  {
   "cell_type": "code",
   "execution_count": 13,
   "id": "53e41eed",
   "metadata": {
    "slideshow": {
     "slide_type": "-"
    }
   },
   "outputs": [
    {
     "name": "stdout",
     "output_type": "stream",
     "text": [
      "spesa: 200   sconto: 0.1\n"
     ]
    }
   ],
   "source": [
    "# con if normale...\n",
    "spesa = 200\n",
    "sconto = 0\n",
    "\n",
    "if spesa > 100:\n",
    "    sconto = 0.1\n",
    "else:\n",
    "    sconto = 0    # necessario?\n",
    "\n",
    "print(\"spesa:\", spesa, \"  sconto:\", sconto)"
   ]
  },
  {
   "cell_type": "markdown",
   "id": "3080a365",
   "metadata": {
    "slideshow": {
     "slide_type": "fragment"
    }
   },
   "source": [
    "### Più brevemente...\n",
    "    \n",
    "VARIABILE = VALORE `if` CONDIZIONE `else` ALTRO_VALORE"
   ]
  },
  {
   "cell_type": "code",
   "execution_count": 14,
   "id": "daa45bb1",
   "metadata": {
    "slideshow": {
     "slide_type": "-"
    }
   },
   "outputs": [
    {
     "name": "stdout",
     "output_type": "stream",
     "text": [
      "spesa: 200   sconto: 0.1\n"
     ]
    }
   ],
   "source": [
    "spesa = 200\n",
    "sconto = 0.1 if spesa > 100 else 0\n",
    "print(\"spesa:\", spesa, \"  sconto:\", sconto)"
   ]
  },
  {
   "cell_type": "code",
   "execution_count": 15,
   "id": "4e5fc656",
   "metadata": {},
   "outputs": [
    {
     "data": {
      "text/plain": [
       "''"
      ]
     },
     "execution_count": 15,
     "metadata": {},
     "output_type": "execute_result"
    }
   ],
   "source": [
    "#jupman-purge-io\n",
    "#scrivi qui\n",
    "''"
   ]
  }
 ],
 "metadata": {
  "celltoolbar": "Slideshow",
  "kernelspec": {
   "display_name": "Python 3 (ipykernel)",
   "language": "python",
   "name": "python3"
  },
  "language_info": {
   "codemirror_mode": {
    "name": "ipython",
    "version": 3
   },
   "file_extension": ".py",
   "mimetype": "text/x-python",
   "name": "python",
   "nbconvert_exporter": "python",
   "pygments_lexer": "ipython3",
   "version": "3.7.17"
  },
  "toc": {
   "base_numbering": 1,
   "nav_menu": {},
   "number_sections": false,
   "sideBar": true,
   "skip_h1_title": false,
   "title_cell": "Table of Contents",
   "title_sidebar": "Contents",
   "toc_cell": false,
   "toc_position": {
    "height": "calc(100% - 180px)",
    "left": "10px",
    "top": "150px",
    "width": "373.2px"
   },
   "toc_section_display": true,
   "toc_window_display": true
  }
 },
 "nbformat": 4,
 "nbformat_minor": 5
}
