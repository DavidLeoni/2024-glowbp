{
 "cells": [
  {
   "cell_type": "markdown",
   "id": "51e149ba",
   "metadata": {
    "colab_type": "text",
    "id": "dW_7xwCZAFP5",
    "slideshow": {
     "slide_type": "slide"
    }
   },
   "source": [
    "# Variabili e interi \n",
    "\n",
    "Repository github per questi tutorial: https://github.com/DavidLeoni/gib24p\n",
    "\n",
    "Materiale tratto dal libro [SoftPython](https://it.softpython.org)\n",
    "\n",
    "(Per navigare nelle slide premi Esc)"
   ]
  },
  {
   "cell_type": "markdown",
   "id": "95c8b694",
   "metadata": {
    "slideshow": {
     "slide_type": "subslide"
    }
   },
   "source": [
    "### Variabili e stampa\n",
    "\n",
    "Per creare una variabile è sufficiente assegnarle direttamente un valore: "
   ]
  },
  {
   "cell_type": "code",
   "execution_count": 3,
   "id": "90077a08",
   "metadata": {
    "slideshow": {
     "slide_type": "-"
    }
   },
   "outputs": [],
   "source": [
    "fiori = 5"
   ]
  },
  {
   "cell_type": "markdown",
   "id": "0c19a776",
   "metadata": {},
   "source": [
    "(volendo potremmo anche dichiarare il tipo ma non è necessario)"
   ]
  },
  {
   "cell_type": "markdown",
   "id": "d8249805",
   "metadata": {
    "slideshow": {
     "slide_type": "fragment"
    }
   },
   "source": [
    "Per stampare sequenze di caratteri:"
   ]
  },
  {
   "cell_type": "code",
   "execution_count": 4,
   "id": "5ea7bf27",
   "metadata": {
    "slideshow": {
     "slide_type": "-"
    }
   },
   "outputs": [
    {
     "name": "stdout",
     "output_type": "stream",
     "text": [
      "La mattina abbiamo raccolto 5 fiori\n"
     ]
    }
   ],
   "source": [
    "print(\"La mattina abbiamo raccolto\", fiori, \"fiori\")"
   ]
  },
  {
   "cell_type": "markdown",
   "id": "65da74b1",
   "metadata": {
    "slideshow": {
     "slide_type": "subslide"
    }
   },
   "source": [
    "Per aggiornare delle variabili le puoi riassegnare:"
   ]
  },
  {
   "cell_type": "code",
   "execution_count": 5,
   "id": "06274865",
   "metadata": {
    "slideshow": {
     "slide_type": "-"
    }
   },
   "outputs": [
    {
     "name": "stdout",
     "output_type": "stream",
     "text": [
      "La mattina abbiamo raccolto 5 fiori\n",
      "Pomeriggio abbiamo raccolto altre 3 rose\n",
      "Adesso abbiamo 8 fiori.\n"
     ]
    }
   ],
   "source": [
    "fiori = 5\n",
    "print(\"La mattina abbiamo raccolto\", fiori, \"fiori\")\n",
    "rose_rosse = 3\n",
    "print(\"Pomeriggio abbiamo raccolto altre\", rose_rosse, \"rose\")\n",
    "fiori = fiori + rose_rosse\n",
    "print(\"Adesso abbiamo\", fiori, \"fiori.\")"
   ]
  },
  {
   "cell_type": "markdown",
   "id": "29342138",
   "metadata": {
    "slideshow": {
     "slide_type": "fragment"
    }
   },
   "source": [
    "### Assegnazione multipla\n",
    "\n",
    "Possiamo inizializzare più variabili su una sola linea così separandole con virgole:"
   ]
  },
  {
   "cell_type": "code",
   "execution_count": 6,
   "id": "c5e37b91",
   "metadata": {
    "slideshow": {
     "slide_type": "-"
    }
   },
   "outputs": [
    {
     "name": "stdout",
     "output_type": "stream",
     "text": [
      "Ho comprato 3 libri e 7 quaderni.\n"
     ]
    }
   ],
   "source": [
    "libri, quaderni = 3,7\n",
    "\n",
    "print(\"Ho comprato\", libri, \"libri e\", quaderni, \"quaderni.\")"
   ]
  },
  {
   "cell_type": "markdown",
   "id": "39668c1e",
   "metadata": {
    "colab_type": "text",
    "id": "uZyXs9KLAFQB",
    "slideshow": {
     "slide_type": "slide"
    }
   },
   "source": [
    "## Principali tipi di dati Python"
   ]
  },
  {
   "cell_type": "markdown",
   "id": "60070d1c",
   "metadata": {
    "colab_type": "text",
    "id": "1ecI-hRCAFQG"
   },
   "source": [
    "<style>\n",
    "    #data-types-table-marker + table {\n",
    "      font-size:15px;\n",
    "    }\n",
    "</style>\n",
    "\n",
    "<div id=\"data-types-table-marker\"></div>\n",
    "\n",
    "| Tipo | Valore 'vuoto' | Esempio | Altro esempio|Mutabilità|Nota|\n",
    "|------|----------------|---------|--------------|----------|----|\n",
    "|`int`|  `0`|`3`| `-5`|immutabili|possono essere arbitrariamente grandi|\n",
    "|`float`| `0.0`| `3.7` | `-2.3`| immutabili|numeri in virgola mobile|\n",
    "|`bool`|`False`|`True`||immutabili||\n",
    "|`str`  |`\"\"`| `\"Buon giorno\"`|`'come stai?'`|immutabili||\n",
    "|`tuple` | `()`|`(5, 7, 10, 7)`|`(\"qualcosa\", 5, \"altro ancora\")`|immutabili||\n",
    "|`list` | `[]`|`[5, 7, 10, 7]`|`[\"qualcosa\", 5, \"altro ancora\"]`|mutabili||\n",
    "|`set` | `set()`|`{7, 5, 10}`|`{\"altro ancora\", \"qualcosa\", 5}`|mutabili||\n",
    "| `dict` |`{}`|`{'limoni':4, 'arance':7}`|`{'lampada':'illumina', 'termosifone':'scalda'}`|mutabili||\n",
    "|`NoneType`|`None`|||||\n",
    "\n",
    "**Riferimenti**: [SoftPython, Fondamenti - Tipi di dati](https://it.softpython.org/#data-types) "
   ]
  },
  {
   "cell_type": "markdown",
   "id": "58e214d2",
   "metadata": {
    "colab_type": "text",
    "id": "GBvgbl0xAFQL",
    "slideshow": {
     "slide_type": "skip"
    }
   },
   "source": [
    "A volte, useremo tipi più complessi, per esempio i valori temporali si potrebbero mettere in oggetti di tipo `datetime` che oltre alla data vera e propria possono contenere anche il fuso orario, oppure più avanti ci creeremo i nostri tipi (usando le _classi_).\n",
    "\n",
    "In quel che segue, forniremo alcuni esempi rapidi su quello che si può fare sui vari tipi di dato, mettendo riferimenti a spiegazioni più dettagliate."
   ]
  },
  {
   "cell_type": "markdown",
   "id": "40276d1d",
   "metadata": {
    "colab_type": "text",
    "id": "p_V71t9BAFQQ",
    "slideshow": {
     "slide_type": "slide"
    }
   },
   "source": [
    "## Numeri interi e con virgola\n",
    "\n",
    "**Riferimenti**: [SoftPython - Tipi di dato - Basi](https://it.softpython.org/#basics)\n",
    "\n",
    "In Python abbiamo numeri interi:"
   ]
  },
  {
   "cell_type": "code",
   "execution_count": 7,
   "id": "e9120768",
   "metadata": {
    "colab": {
     "autoexec": {
      "startup": false,
      "wait_interval": 0
     },
     "output_extras": [
      {}
     ]
    },
    "colab_type": "code",
    "id": "--cJxUntAFQT",
    "outputId": "6a261e4f-6f7f-481d-9f4e-02f951c18010",
    "slideshow": {
     "slide_type": "-"
    }
   },
   "outputs": [
    {
     "data": {
      "text/plain": [
       "8"
      ]
     },
     "execution_count": 7,
     "metadata": {},
     "output_type": "execute_result"
    }
   ],
   "source": [
    "3 + 5"
   ]
  },
  {
   "cell_type": "markdown",
   "id": "7f9ecc03",
   "metadata": {
    "colab_type": "text",
    "id": "rEV6BEORAFQo",
    "slideshow": {
     "slide_type": "fragment"
    }
   },
   "source": [
    "La somma tra interi ovviamente ci da un intero:"
   ]
  },
  {
   "cell_type": "code",
   "execution_count": 8,
   "id": "7bb39b6c",
   "metadata": {
    "colab": {
     "autoexec": {
      "startup": false,
      "wait_interval": 0
     },
     "output_extras": [
      {}
     ]
    },
    "colab_type": "code",
    "id": "Vk7aiqO5AFQr",
    "outputId": "6408cc81-e7db-4778-c929-c42fdf178b0f",
    "slideshow": {
     "slide_type": "-"
    }
   },
   "outputs": [
    {
     "data": {
      "text/plain": [
       "int"
      ]
     },
     "execution_count": 8,
     "metadata": {},
     "output_type": "execute_result"
    }
   ],
   "source": [
    "type(3 + 5)"
   ]
  },
  {
   "cell_type": "markdown",
   "id": "29b230e1",
   "metadata": {
    "colab_type": "text",
    "id": "Z49LC8g3AFRQ",
    "slideshow": {
     "slide_type": "subslide"
    }
   },
   "source": [
    "E se dividiamo interi? Ci troveremo con il tipo in virgola mobile _float_:"
   ]
  },
  {
   "cell_type": "code",
   "execution_count": 9,
   "id": "3d1f3eeb",
   "metadata": {
    "colab": {
     "autoexec": {
      "startup": false,
      "wait_interval": 0
     },
     "output_extras": [
      {}
     ]
    },
    "colab_type": "code",
    "id": "fGqrVdg6AFRT",
    "outputId": "ead8a066-1d37-4ccb-8cf5-d7bf6bb7b5ad",
    "slideshow": {
     "slide_type": "-"
    }
   },
   "outputs": [
    {
     "data": {
      "text/plain": [
       "2.6"
      ]
     },
     "execution_count": 9,
     "metadata": {},
     "output_type": "execute_result"
    }
   ],
   "source": [
    "13 / 5"
   ]
  },
  {
   "cell_type": "code",
   "execution_count": 10,
   "id": "92162d96",
   "metadata": {
    "colab": {
     "autoexec": {
      "startup": false,
      "wait_interval": 0
     },
     "output_extras": [
      {}
     ]
    },
    "colab_type": "code",
    "id": "AuREnwBmAFRn",
    "outputId": "96b737a9-d30f-4696-9805-8974a1b731d3",
    "slideshow": {
     "slide_type": "-"
    }
   },
   "outputs": [
    {
     "data": {
      "text/plain": [
       "float"
      ]
     },
     "execution_count": 10,
     "metadata": {},
     "output_type": "execute_result"
    }
   ],
   "source": [
    "type(13 / 5)"
   ]
  },
  {
   "cell_type": "markdown",
   "id": "f9fc8d89",
   "metadata": {
    "colab_type": "text",
    "id": "DIcwRoa7AFR4",
    "slideshow": {
     "slide_type": "fragment"
    }
   },
   "source": [
    "<div class=\"alert alert-warning\">\n",
    "\n",
    "**ATTENZIONE al punto !**\n",
    "\n",
    "In Python e in molti formati dati, al posto della nostra virgola si usa il formato inglese con il punto `.` <br/>\n",
    "</div>"
   ]
  },
  {
   "cell_type": "code",
   "execution_count": 11,
   "id": "4179f0fd",
   "metadata": {
    "slideshow": {
     "slide_type": "fragment"
    }
   },
   "outputs": [
    {
     "data": {
      "text/plain": [
       "2"
      ]
     },
     "execution_count": 11,
     "metadata": {},
     "output_type": "execute_result"
    }
   ],
   "source": [
    "13 // 5   # divisione intera"
   ]
  },
  {
   "cell_type": "code",
   "execution_count": 1,
   "id": "1bf300f0",
   "metadata": {},
   "outputs": [
    {
     "data": {
      "text/plain": [
       "3"
      ]
     },
     "execution_count": 1,
     "metadata": {},
     "output_type": "execute_result"
    }
   ],
   "source": [
    "13 % 5   # resto"
   ]
  },
  {
   "cell_type": "code",
   "execution_count": null,
   "id": "b4acb922-stripped",
   "metadata": {},
   "outputs": [],
   "source": [
    "# scrivi qui\n",
    "\n"
   ]
  }
 ],
 "metadata": {
  "kernelspec": {
   "display_name": "Python 3 (ipykernel)",
   "language": "python",
   "name": "python3"
  },
  "language_info": {
   "codemirror_mode": {
    "name": "ipython",
    "version": 3
   },
   "file_extension": ".py",
   "mimetype": "text/x-python",
   "name": "python",
   "nbconvert_exporter": "python",
   "pygments_lexer": "ipython3",
   "version": "3.7.17"
  },
  "toc": {
   "base_numbering": 1,
   "nav_menu": {},
   "number_sections": false,
   "sideBar": true,
   "skip_h1_title": false,
   "title_cell": "Table of Contents",
   "title_sidebar": "Contents",
   "toc_cell": false,
   "toc_position": {
    "height": "calc(100% - 180px)",
    "left": "10px",
    "top": "150px",
    "width": "311px"
   },
   "toc_section_display": true,
   "toc_window_display": true
  }
 },
 "nbformat": 4,
 "nbformat_minor": 5
}
