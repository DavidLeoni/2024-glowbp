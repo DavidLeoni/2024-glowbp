{
 "cells": [
  {
   "cell_type": "code",
   "execution_count": 1,
   "id": "8e77c3a2",
   "metadata": {
    "slideshow": {
     "slide_type": "skip"
    }
   },
   "outputs": [
    {
     "data": {
      "text/html": [
       "        \n",
       "            <script src=\"../_static/js/python.iife.js\" type=\"application/javascript\"></script>\n",
       "        "
      ],
      "text/plain": [
       "<IPython.core.display.HTML object>"
      ]
     },
     "execution_count": 1,
     "metadata": {},
     "output_type": "execute_result"
    }
   ],
   "source": [
    "import sys\n",
    "sys.path.append('../')\n",
    "import jupman\n",
    "\n",
    "import conf\n",
    "\n",
    "conf.jm.init_icp()"
   ]
  },
  {
   "cell_type": "markdown",
   "id": "0049100b",
   "metadata": {
    "slideshow": {
     "slide_type": "slide"
    }
   },
   "source": [
    "\n",
    "# Strutture composte 1: introduzione\n",
    "\n",
    "**Riferimenti:** [SoftPython - strutture composte 1](https://it.softpython.org/mixed-structures/mixed-structures1-sol.html)\n",
    "\n",
    "* visualizza al meglio in <img style=\"display:inline; width:25px; vertical-align: middle;\" src=\"../_static/img/chrome.png\" alttext=\"Chrome\">\n",
    "* versione stampabile: [clicca qua](?print-pdf)\n",
    "* per navigare nelle slide: premere `Esc`\n",
    "\n",
    "<br>\n",
    "<br>\n",
    "\n",
    "**Summer School Data Science 2023 - Modulo 1 informatica:** [Moodle](https://didatticaonline.unitn.it/dol/course/view.php?id=36683) \n",
    "\n",
    "Docente: David Leoni david.leoni@unitn.it\n",
    "\n",
    "Esercitatore: Luca Bosotti luca.bosotti@studenti.unitn.it\n"
   ]
  },
  {
   "cell_type": "markdown",
   "id": "cc4ebc54",
   "metadata": {
    "slideshow": {
     "slide_type": "subslide"
    }
   },
   "source": [
    "## Scatole di scatole di scatole...\n",
    "\n",
    "**Riferimenti ed esercizi:** [SoftPython - strutture composte 1](https://it.softpython.org/mixed-structures/mixed-structures1-sol.html)"
   ]
  },
  {
   "cell_type": "markdown",
   "id": "0949088b",
   "metadata": {},
   "source": [
    "Quando programmiamo possiamo trovare varie strutture dati composte"
   ]
  },
  {
   "cell_type": "markdown",
   "id": "f645f6f8",
   "metadata": {},
   "source": [
    "Vediamo una lista di dizionari: \n",
    "\n",
    "- esempio piuttosto comune\n",
    "\n",
    "- in questo caso, rappresenta i manager di una holding del lusso"
   ]
  },
  {
   "cell_type": "markdown",
   "id": "4fb52755",
   "metadata": {
    "slideshow": {
     "slide_type": "subslide"
    }
   },
   "source": [
    "### La holding del lusso: [vedi db completo](https://it.softpython.org/mixed-structures/mixed-structures1-sol.html#Esercizio---la-holding-del-lusso)\n",
    "\n",
    "```python\n",
    "managers_db = [\n",
    "  { \"nome\"   : \"Alessandro\",\n",
    "    \"cognome\": \"Borgoloso\",\n",
    "    \"età\"    : 34,\n",
    "    \"azienda\": {  \"nome\"    : \"Aringhe Candite Spa\",\n",
    "                  \"settore\" : \"Alimentari\"\n",
    "               }\n",
    "  },\n",
    "  { \"nome\"   : \"Arianna\",\n",
    "    \"cognome\": \"Schei\",\n",
    "    \"età\"    : 37,\n",
    "    \"azienda\": {  \"nome\"    : \"Diamantoni Unlimited\",\n",
    "                  \"settore\" : \"Pietre preziose\"\n",
    "               }\n",
    "  },\n",
    "  { \"nome\"    : \"Antonione\",\n",
    "    \"cognome\" : \"Cannavacci\",\n",
    "    \"età\"     : 25,\n",
    "    \"azienda\" : {  \"nome\"    : \"Aringhe Candite Spa\",\n",
    "                   \"settore\" : \"Alimentari\"\n",
    "                }\n",
    "  },\n",
    "    .\n",
    "    .\n",
    "]\n",
    "```"
   ]
  },
  {
   "cell_type": "markdown",
   "id": "79411cf1",
   "metadata": {
    "slideshow": {
     "slide_type": "subslide"
    }
   },
   "source": [
    "## Un manager"
   ]
  },
  {
   "cell_type": "code",
   "execution_count": 2,
   "id": "f993479a",
   "metadata": {
    "slideshow": {
     "slide_type": "-"
    }
   },
   "outputs": [
    {
     "data": {
      "text/plain": [
       "{'nome': 'Alessandro',\n",
       " 'cognome': 'Borgoloso',\n",
       " 'età': 34,\n",
       " 'azienda': {'nome': 'Aringhe Candite Spa', 'settore': 'Alimentari'}}"
      ]
     },
     "execution_count": 2,
     "metadata": {},
     "output_type": "execute_result"
    }
   ],
   "source": [
    "#jupman-purge-output\n",
    "{\n",
    "    \"nome\"   : \"Alessandro\",\n",
    "    \"cognome\": \"Borgoloso\",\n",
    "    \"età\"    : 34,\n",
    "    \"azienda\": {\n",
    "                   \"nome\": \"Aringhe Candite Spa\",\n",
    "                   \"settore\":\"Alimentari\"\n",
    "               }\n",
    "}"
   ]
  },
  {
   "cell_type": "markdown",
   "id": "0b79b8f2",
   "metadata": {
    "slideshow": {
     "slide_type": "-"
    }
   },
   "source": [
    "\n",
    "- `nome`, `cognome`, `età`: attributi semplici\n",
    "\n",
    "- `azienda`: attributo più complesso\n"
   ]
  },
  {
   "cell_type": "markdown",
   "id": "b54c914e",
   "metadata": {
    "slideshow": {
     "slide_type": "subslide"
    }
   },
   "source": [
    "## Esercizi holding del lusso\n",
    "\n",
    "Scrivi delle funzioni che prendono in input un puntatore al database e restituiscono i dati indicati:\n",
    "\n",
    "- come argomento usa un nome **diverso** da `managers_db`!\n",
    "\n",
    "✪✪ [estrai_manager](https://it.softpython.org/mixed-structures/mixed-structures1-sol.html#Esercizio---estrai_manager)\n",
    " RITORNA i nomi dei manager in una lista\n",
    "\n",
    "✪✪ [estrai_aziende](https://it.softpython.org/mixed-structures/mixed-structures1-sol.html#Esercizio---estrai_aziende) : RITORNA i nomi di azienda in una lista (i duplicati sono ammessi)\n",
    "\n",
    "\n",
    "✪✪ [eta_media](https://it.softpython.org/mixed-structures/mixed-structures1-sol.html#Esercizio---eta_media)  : RITORNA l’età media dei manager di azienda\n",
    "\n",
    "✪✪ [settori](https://it.softpython.org/mixed-structures/mixed-structures1-sol.html#Esercizio---settori) : RITORNA i settori di azienda in una lista, SENZA duplicati e ordinati alfabeticamente."
   ]
  },
  {
   "cell_type": "markdown",
   "id": "d9416798",
   "metadata": {
    "slideshow": {
     "slide_type": "slide"
    }
   },
   "source": [
    "## [Vedi altri esercizi](https://it.softpython.org/mixed-structures/mixed-structures1-sol.html#Altri-esercizi)"
   ]
  },
  {
   "cell_type": "code",
   "execution_count": 3,
   "id": "f95e8943",
   "metadata": {},
   "outputs": [
    {
     "data": {
      "text/plain": [
       "''"
      ]
     },
     "execution_count": 3,
     "metadata": {},
     "output_type": "execute_result"
    }
   ],
   "source": [
    "#jupman-purge-io\n",
    "# scrivi qui\n",
    "''"
   ]
  }
 ],
 "metadata": {
  "celltoolbar": "Slideshow",
  "kernelspec": {
   "display_name": "Python 3 (ipykernel)",
   "language": "python",
   "name": "python3"
  },
  "language_info": {
   "codemirror_mode": {
    "name": "ipython",
    "version": 3
   },
   "file_extension": ".py",
   "mimetype": "text/x-python",
   "name": "python",
   "nbconvert_exporter": "python",
   "pygments_lexer": "ipython3",
   "version": "3.7.17"
  },
  "toc": {
   "base_numbering": 1,
   "nav_menu": {},
   "number_sections": false,
   "sideBar": true,
   "skip_h1_title": false,
   "title_cell": "Table of Contents",
   "title_sidebar": "Contents",
   "toc_cell": false,
   "toc_position": {
    "height": "calc(100% - 180px)",
    "left": "10px",
    "top": "150px",
    "width": "373.188px"
   },
   "toc_section_display": true,
   "toc_window_display": true
  }
 },
 "nbformat": 4,
 "nbformat_minor": 5
}
