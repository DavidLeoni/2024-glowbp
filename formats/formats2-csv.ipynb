{
 "cells": [
  {
   "cell_type": "code",
   "execution_count": 1,
   "id": "8e77c3a2",
   "metadata": {
    "slideshow": {
     "slide_type": "skip"
    }
   },
   "outputs": [
    {
     "data": {
      "text/html": [
       "        \n",
       "            <script src=\"_static/js/python.iife.js\" type=\"application/javascript\"></script>\n",
       "        "
      ],
      "text/plain": [
       "<IPython.core.display.HTML object>"
      ]
     },
     "execution_count": 1,
     "metadata": {},
     "output_type": "execute_result"
    }
   ],
   "source": [
    "import jupman\n",
    "\n",
    "import conf\n",
    "\n",
    "conf.jm.init_icp()"
   ]
  },
  {
   "cell_type": "markdown",
   "id": "0049100b",
   "metadata": {
    "slideshow": {
     "slide_type": "slide"
    }
   },
   "source": [
    "# Formati file 2: CSV \n",
    "\n",
    "**Riferimenti:** [SoftPython - formati 2](https://it.softpython.org/formats/formats2-csv-sol.html)\n",
    "\n",
    "* visualizza al meglio in <img style=\"display:inline; width:25px; vertical-align: middle;\" src=\"../_static/img/chrome.png\" alttext=\"Chrome\">\n",
    "* versione stampabile: [clicca qua](?print-pdf)\n",
    "* per navigare nelle slide: premere `Esc`\n",
    "\n",
    "<br>\n",
    "<br>\n",
    "\n",
    "**Summer School Data Science 2023 - Modulo 1 informatica:** [Moodle](https://didatticaonline.unitn.it/dol/course/view.php?id=36683) \n",
    "\n",
    "Docente: David Leoni david.leoni@unitn.it\n",
    "\n",
    "Esercitatore: Luca Bosotti luca.bosotti@studenti.unitn.it\n"
   ]
  },
  {
   "cell_type": "markdown",
   "id": "d3b3716a",
   "metadata": {
    "slideshow": {
     "slide_type": "subslide"
    }
   },
   "source": [
    "## CSV\n",
    "\n",
    "**Riferimenti**\n",
    "\n",
    "* [SoftPython Formati 2 - CSV](https://it.softpython.org/formats/formats2-csv-sol.html)\n",
    "\n",
    "[esempio-1.csv](esempio-1.csv) \n",
    "\n",
    "```text\n",
    "animale,anni\n",
    "cane,12\n",
    "gatto,14\n",
    "pellicano,30\n",
    "scoiattolo,6\n",
    "aquila,25\n",
    "```"
   ]
  },
  {
   "cell_type": "markdown",
   "id": "48740a30",
   "metadata": {
    "slideshow": {
     "slide_type": "fragment"
    }
   },
   "source": [
    "file di testo"
   ]
  },
  {
   "cell_type": "markdown",
   "id": "0c8fef3e",
   "metadata": {
    "slideshow": {
     "slide_type": "fragment"
    }
   },
   "source": [
    "dati tabulari"
   ]
  },
  {
   "cell_type": "markdown",
   "id": "37850447",
   "metadata": {
    "slideshow": {
     "slide_type": "fragment"
    }
   },
   "source": [
    "'Comma Separated Value'\n",
    "\n",
    "- anche altri separatori (`;`, `tab`, `|`, ...)"
   ]
  },
  {
   "cell_type": "markdown",
   "id": "9aff53c5",
   "metadata": {
    "slideshow": {
     "slide_type": "subslide"
    }
   },
   "source": [
    "### Perchè usare CSV?\n",
    "\n",
    "[esempio-1.csv](esempio-1.csv) \n",
    "\n",
    "```text\n",
    "animale,anni\n",
    "cane,12\n",
    "gatto,14\n",
    "pellicano,30\n",
    "scoiattolo,6\n",
    "aquila,25\n",
    "```"
   ]
  },
  {
   "cell_type": "markdown",
   "id": "0c45aa14",
   "metadata": {
    "slideshow": {
     "slide_type": "fragment"
    }
   },
   "source": [
    "formato molto semplice"
   ]
  },
  {
   "cell_type": "markdown",
   "id": "3d201a90",
   "metadata": {
    "slideshow": {
     "slide_type": "fragment"
    }
   },
   "source": [
    "maggiore controllo in lettura\n",
    "\n",
    "- es. non scambiano giorni con mesi nelle date.."
   ]
  },
  {
   "cell_type": "markdown",
   "id": "5bc66e10",
   "metadata": {
    "slideshow": {
     "slide_type": "subslide"
    }
   },
   "source": [
    "### Come è fatto un CSV?\n",
    "\n",
    "File [esempio-1.csv](esempio-1.csv) \n",
    "\n",
    "```text\n",
    "animale,anni\n",
    "cane,12\n",
    "gatto,14\n",
    "pellicano,30\n",
    "scoiattolo,6\n",
    "aquila,25\n",
    "```"
   ]
  },
  {
   "cell_type": "markdown",
   "id": "b9cb5d00",
   "metadata": {
    "slideshow": {
     "slide_type": "fragment"
    }
   },
   "source": [
    "prima linea:  nomi delle colonne, separati da virgole es. `animale, anni`"
   ]
  },
  {
   "cell_type": "markdown",
   "id": "3c1910bd",
   "metadata": {
    "slideshow": {
     "slide_type": "fragment"
    }
   },
   "source": [
    "corpo: campi separati da virgole `,` es. `cane, 12`"
   ]
  },
  {
   "cell_type": "markdown",
   "id": "3c93e061",
   "metadata": {
    "slideshow": {
     "slide_type": "fragment"
    }
   },
   "source": [
    "non ci sono spazi dopo le virgole"
   ]
  },
  {
   "cell_type": "markdown",
   "id": "1cfd2214",
   "metadata": {
    "slideshow": {
     "slide_type": "subslide"
    }
   },
   "source": [
    "### Come leggere un CSV?"
   ]
  },
  {
   "cell_type": "markdown",
   "id": "a32e7578",
   "metadata": {
    "slideshow": {
     "slide_type": "fragment"
    }
   },
   "source": [
    "a) una riga alla volta\n",
    "\n",
    "- utile per CSV enormi\n"
   ]
  },
  {
   "cell_type": "markdown",
   "id": "6b271593",
   "metadata": {
    "slideshow": {
     "slide_type": "fragment"
    }
   },
   "source": [
    "b) caricare tutto in RAM (es. con Pandas)"
   ]
  },
  {
   "cell_type": "markdown",
   "id": "aea5b85f",
   "metadata": {
    "slideshow": {
     "slide_type": "fragment"
    }
   },
   "source": [
    "**DOMANDA**: se vogliamo sapere se un certo file da 100 terabyte contiene almeno 3 milioni di righe in cui è presente la parola 'pippo'...\n",
    "\n",
    "Dobbiamo mettere in RAM contemporaneamente tutte le righe?"
   ]
  },
  {
   "cell_type": "markdown",
   "id": "17164597",
   "metadata": {
    "slideshow": {
     "slide_type": "fragment"
    }
   },
   "source": [
    "**DOMANDA**: E se volessimo partendo da un file da 100 terabyte crearne un'altro con gli stessi contenuti del primo file a cui a tutte le righe è aggiunta la parola 'pippo' alla fine...\n",
    "\n",
    "Dovremmo mettere in RAM contemporaneamente tutte le righe del primo file? "
   ]
  },
  {
   "cell_type": "markdown",
   "id": "636f0b8c",
   "metadata": {
    "slideshow": {
     "slide_type": "fragment"
    }
   },
   "source": [
    "E quelle del secondo ?"
   ]
  },
  {
   "cell_type": "markdown",
   "id": "908177d2",
   "metadata": {
    "slideshow": {
     "slide_type": "subslide"
    }
   },
   "source": [
    "### Aprire un csv in Excel\n",
    "\n",
    "Prova ad aprire in Excel e/o LibreOffice Calc, guarda le opzioni che ti vengono presentate:\n",
    "\n",
    "- il semplice [esempio-1.csv](esempio-1.csv)\n",
    "- un file un po' più complesso: [impianti-bifuni.csv](impianti-bifuni.csv)\n",
    "\n",
    "<div class=\"alert alert-warning\"> \n",
    "    \n",
    "**ATTENZIONE SE USI Excel!**\n",
    "    \n",
    "Facendo direttamente `File->Apri` in Excel, probabilmente Excel cercherà di immaginarsi da solo come intabellare il CSV, e potrebbe sbagliare a caricare alcune cose (esempi tipici: potrebbe non rilevare il separatore giusto, o sbagliare completamente le date). Per ovviare al problema, dobbiamo dire ad Excel di mostrare un pannello per chiederci come vogliamo aprire il CSV, facendo così:\n",
    "\n",
    "- In Excel vecchi, cerca `File-> Importa`    \n",
    "- In Excel recenti, clicca la scheda `Dati` e poi seleziona `Da testo`. Per ulteriori riferimenti su Excel, vedere [guida di Salvatore Aranzulla](https://www.aranzulla.it/come-aprire-file-csv-672903.html)"
   ]
  },
  {
   "cell_type": "markdown",
   "id": "deb67cdf",
   "metadata": {
    "slideshow": {
     "slide_type": "slide"
    }
   },
   "source": [
    "## `lettore` CSV in Python\n",
    "\n",
    "<table>\n",
    "<tr>\n",
    "<td colspan=\"2\">\n",
    "\n",
    "```python\n",
    "import csv\n",
    "\n",
    "with open('esempio-1.csv', encoding='utf-8', newline='') as f:\n",
    "    \n",
    "    lettore = csv.reader(f, delimiter=',') \n",
    "    \n",
    "    for riga in lettore:     \n",
    "        print(riga) \n",
    "```\n",
    "</td>\n",
    "</tr>\n",
    "<tr>\n",
    "<td width=\"40%\">\n",
    "\n",
    "**Output**\n",
    "\n",
    "```text\n",
    "['animale', 'anni']\n",
    "['cane', '12']\n",
    "['gatto', '14']\n",
    "['pellicano', '30']\n",
    "['scoiattolo', '6']\n",
    "['aquila', '25']        \n",
    "```       \n",
    "</td>\n",
    "<td style=\"padding-left:10%\">\n",
    "\n",
    "Modulo `csv` nativo\n",
    "\n",
    "apertura file testuale,  con parametro `newline=''` \n",
    "\n",
    "creazione oggetto `lettore`\n",
    "\n",
    "iterazione `for` su oggetto `lettore`\n",
    "\n",
    "`riga` è una lista\n",
    "\n",
    "</td>\n",
    "</tr>\n",
    "</table>"
   ]
  },
  {
   "cell_type": "markdown",
   "id": "90b63502",
   "metadata": {
    "slideshow": {
     "slide_type": "subslide"
    }
   },
   "source": [
    "### Cos'è esattamente `lettore` ?"
   ]
  },
  {
   "cell_type": "code",
   "execution_count": 2,
   "id": "f3c3dea4",
   "metadata": {
    "slideshow": {
     "slide_type": "-"
    }
   },
   "outputs": [
    {
     "name": "stdout",
     "output_type": "stream",
     "text": [
      "<_csv.reader object at 0x7fddb7c43b50>\n"
     ]
    }
   ],
   "source": [
    "import csv\n",
    "with open('esempio-1.csv', encoding='utf-8', newline='') as f:    \n",
    "    lettore = csv.reader(f, delimiter=',')     \n",
    "    print(lettore)"
   ]
  },
  {
   "cell_type": "markdown",
   "id": "294f7c49",
   "metadata": {
    "slideshow": {
     "slide_type": "fragment"
    }
   },
   "source": [
    "`lettore` è una specie di macchinetta ferma"
   ]
  },
  {
   "cell_type": "markdown",
   "id": "f7ffe1d2",
   "metadata": {
    "slideshow": {
     "slide_type": "fragment"
    }
   },
   "source": [
    "conosce solo la posizione in cui sta guardando all'interno del file"
   ]
  },
  {
   "cell_type": "markdown",
   "id": "816f5cd6",
   "metadata": {
    "slideshow": {
     "slide_type": "fragment"
    }
   },
   "source": [
    "Come attivarla?"
   ]
  },
  {
   "cell_type": "markdown",
   "id": "19915791",
   "metadata": {
    "slideshow": {
     "slide_type": "slide"
    }
   },
   "source": [
    "## Come materializzare una sequenza?"
   ]
  },
  {
   "cell_type": "code",
   "execution_count": 3,
   "id": "42077891",
   "metadata": {
    "slideshow": {
     "slide_type": "fragment"
    }
   },
   "outputs": [
    {
     "name": "stdout",
     "output_type": "stream",
     "text": [
      "[['animale', 'anni'], ['cane', '12'], ['gatto', '14'], ['pellicano', '30'], ['scoiattolo', '6'], ['aquila', '25']]\n"
     ]
    }
   ],
   "source": [
    "\n",
    "import csv\n",
    "with open('esempio-1.csv', encoding='utf-8', newline='') as f:    \n",
    "    lettore = csv.reader(f, delimiter=',')     \n",
    "    print(list(lettore))"
   ]
  },
  {
   "cell_type": "markdown",
   "id": "62c435fb",
   "metadata": {
    "slideshow": {
     "slide_type": "subslide"
    }
   },
   "source": [
    "### Consumerai due volte nel `with`?\n",
    "\n",
    "```python\n",
    "import csv\n",
    "with open('esempio-1.csv', encoding='utf-8', newline='') as f:    \n",
    "    lettore = csv.reader(f, delimiter=',')     \n",
    "    print(list(lettore))\n",
    "    print(list(lettore))\n",
    "```\n"
   ]
  },
  {
   "cell_type": "markdown",
   "id": "9ebde2f9",
   "metadata": {
    "slideshow": {
     "slide_type": "fragment"
    }
   },
   "source": [
    "```python\n",
    "[['animale', 'anni'], ['cane', '12'], ['gatto', '14'], ['pellicano', '30'], ['scoiattolo', '6'], ['aquila', '25']]\n",
    "[]\n",
    "```"
   ]
  },
  {
   "cell_type": "markdown",
   "id": "dca48191",
   "metadata": {
    "slideshow": {
     "slide_type": "subslide"
    }
   },
   "source": [
    "### Consumerai fuori dal `with` ?\n",
    "\n",
    "```python\n",
    "import csv\n",
    "with open('esempio-1.csv', encoding='utf-8', newline='') as f:    \n",
    "    lettore = csv.reader(f, delimiter=',')      \n",
    "       \n",
    "print(list(lettore))   \n",
    "```"
   ]
  },
  {
   "cell_type": "markdown",
   "id": "9d930722",
   "metadata": {
    "slideshow": {
     "slide_type": "fragment"
    }
   },
   "source": [
    "```python\n",
    "---------------------------------------------------------------------------\n",
    "ValueError                                Traceback (most recent call last)\n",
    "Cell In[30], line 6\n",
    "      4 with open('esempio-1.csv', encoding='utf-8', newline='') as f:    \n",
    "      5     lettore = csv.reader(f, delimiter=',')       \n",
    "      6  \n",
    "----> 7 print(list(lettore))\n",
    "\n",
    "ValueError: I/O operation on closed file.\n",
    "```"
   ]
  },
  {
   "cell_type": "markdown",
   "id": "2f06c1f8",
   "metadata": {
    "slideshow": {
     "slide_type": "subslide"
    }
   },
   "source": [
    "## Leggere come dizionari\n",
    "\n",
    "Tramite l'oggetto [csv.DictReader](https://docs.python.org/3/library/csv.html#csv.DictReader) sarai in grado di recuperare dizionari\n",
    "\n",
    "le chiavi saranno i nomi dei campi presi dall'intestazione "
   ]
  },
  {
   "cell_type": "code",
   "execution_count": 4,
   "id": "aacc5d97",
   "metadata": {
    "slideshow": {
     "slide_type": "-"
    }
   },
   "outputs": [
    {
     "name": "stdout",
     "output_type": "stream",
     "text": [
      "OrderedDict([('animale', 'cane'), ('anni', '12')])\n",
      "OrderedDict([('animale', 'gatto'), ('anni', '14')])\n",
      "OrderedDict([('animale', 'pellicano'), ('anni', '30')])\n",
      "OrderedDict([('animale', 'scoiattolo'), ('anni', '6')])\n",
      "OrderedDict([('animale', 'aquila'), ('anni', '25')])\n"
     ]
    }
   ],
   "source": [
    "import csv\n",
    "with open('esempio-1.csv', encoding='utf-8', newline='') as f:    \n",
    "    lettore = csv.DictReader(f, delimiter=',')   # Notice we now used DictReader\n",
    "    for diz in lettore:\n",
    "        print(diz)"
   ]
  },
  {
   "cell_type": "markdown",
   "id": "48331d3d",
   "metadata": {
    "slideshow": {
     "slide_type": "fragment"
    }
   },
   "source": [
    "**NOTA**: diverse versioni di Python producono diversi dizionari:\n",
    "\n",
    "* $<$ 3.6: `dict`\n",
    "* 3.6, 3.7: `OrderedDict`\n",
    "* $\\geq$ 3.8: `dict`"
   ]
  },
  {
   "cell_type": "markdown",
   "id": "0df58968",
   "metadata": {
    "slideshow": {
     "slide_type": "slide"
    }
   },
   "source": [
    "## Scrivere un CSV\n",
    "\n",
    "Puoi facilmente creare un CSV instanziando un oggetto `writer`:"
   ]
  },
  {
   "cell_type": "code",
   "execution_count": 5,
   "id": "4029c461",
   "metadata": {
    "slideshow": {
     "slide_type": "-"
    }
   },
   "outputs": [],
   "source": [
    "import csv\n",
    "\n",
    "with open('file-scritto.csv', 'w', newline='') as csv_da_scrivere: \n",
    "    \n",
    "    scrittore = csv.writer(csv_da_scrivere, delimiter=',')    \n",
    "    \n",
    "    scrittore.writerow(['Questo', 'è', 'uno header'])\n",
    "    scrittore.writerow(['Questa', 'è', 'una riga'])\n",
    "    scrittore.writerow(['Altra', 'riga', 'di esempio'])"
   ]
  },
  {
   "cell_type": "markdown",
   "id": "ed3c1fea",
   "metadata": {
    "slideshow": {
     "slide_type": "fragment"
    }
   },
   "source": [
    "Per scrivere, RICORDATI di specificare l'opzione `'w'`"
   ]
  },
  {
   "cell_type": "markdown",
   "id": "96f148ea",
   "metadata": {
    "slideshow": {
     "slide_type": "fragment"
    }
   },
   "source": [
    "<div class=\"alert alert-warning\">\n",
    "\n",
    "**ATTENZIONE:** `'w'` *rimpiazza completamente* eventuali file  esistenti!\n",
    "\n",
    "</div>"
   ]
  },
  {
   "cell_type": "markdown",
   "id": "875e8744",
   "metadata": {
    "slideshow": {
     "slide_type": "fragment"
    }
   },
   "source": [
    "<div class=\"alert alert-warning\">\n",
    "\n",
    "**ATTENZIONE: ASSICURATI DI SCRIVERE NEL FILE GIUSTO!**\n",
    "\n",
    "Se non stai più che attento ai nomi dei file, **rischi di cancellare dati** !!!\n",
    "</div>"
   ]
  },
  {
   "cell_type": "markdown",
   "id": "3c72e128",
   "metadata": {
    "slideshow": {
     "slide_type": "subslide"
    }
   },
   "source": [
    "### Leggere e scrivere un CSV 1/2\n",
    "\n",
    "Per scrivere un nuovo CSV [esempio-1-arricchito.csv](esempio-1-arricchito.csv) prendendo dati da un CSV esistente: \n",
    "\n",
    "- annidare un `with` per la lettura dentro uno per la scrittura"
   ]
  },
  {
   "cell_type": "code",
   "execution_count": 6,
   "id": "4233dac8",
   "metadata": {
    "slideshow": {
     "slide_type": "fragment"
    }
   },
   "outputs": [
    {
     "name": "stdout",
     "output_type": "stream",
     "text": [
      "Finito di scrivere esempio-1-arricchito.csv\n"
     ]
    }
   ],
   "source": [
    "import csv\n",
    "    \n",
    "# Per scrivere, RICORDATI di specificare l'opzione 'w'\n",
    "# ATTENZIONE: 'w' rimpiazza *completamente* eventuali file  esistenti!\n",
    "# ATTENZIONE: l'handle *esterno* l'abbiamo chiamato  csv_da_scrivere\n",
    "with open('esempio-1-arricchito.csv', 'w', encoding='utf-8', newline='') as csv_da_scrivere: \n",
    "    scrittore = csv.writer(csv_da_scrivere, delimiter=',')\n",
    "\n",
    "    # Nota come questo 'with' sia dentro quello esterno    \n",
    "    # ATTENZIONE: l'handle *interno* l'abbiamo chiamato csv_da_leggere\n",
    "    with open('esempio-1.csv', encoding='utf-8', newline='') as csv_da_leggere:    \n",
    "        lettore = csv.reader(csv_da_leggere, delimiter=',')      \n",
    "        \n",
    "        for riga in lettore:\n",
    "            riga.append(\"qualcos'altro\")\n",
    "            scrittore.writerow(riga)           \n",
    "            \n",
    "        print(\"Finito di scrivere\", csv_da_scrivere.name)"
   ]
  },
  {
   "cell_type": "markdown",
   "id": "0b66bfe6",
   "metadata": {
    "slideshow": {
     "slide_type": "subslide"
    }
   },
   "source": [
    "### Leggere e scrivere un CSV 2/2\n",
    "\n",
    "<div class=\"alert alert-warning\">\n",
    "\n",
    "**ATTENZIONE A SCAMBIARE I NOMI DEI FILE!**\n",
    "\n",
    "Quando leggiamo e scriviamo è facile commettere un errore e sovrascrivere accidentalmente i nostri preziosi dati \n",
    "</div>"
   ]
  },
  {
   "cell_type": "markdown",
   "id": "ff25e5f2",
   "metadata": {
    "slideshow": {
     "slide_type": "fragment"
    }
   },
   "source": [
    "**Per evitare problemi:**\n",
    "\n",
    "* usa nomi espliciti sia per i file di output (es: `esempio-1-arricchito.csv')` che per gli handle (es: `csv_da_scrivere`)\n",
    "* fai una copia di backup dei dati da leggere\n",
    "* controlla sempre prima di eseguire il codice !"
   ]
  },
  {
   "cell_type": "code",
   "execution_count": 7,
   "id": "06f33724-stripped",
   "metadata": {
    "nbsphinx": "hidden"
   },
   "outputs": [],
   "source": []
  }
 ],
 "metadata": {
  "celltoolbar": "Slideshow",
  "kernelspec": {
   "display_name": "Python 3 (ipykernel)",
   "language": "python",
   "name": "python3"
  },
  "language_info": {
   "codemirror_mode": {
    "name": "ipython",
    "version": 3
   },
   "file_extension": ".py",
   "mimetype": "text/x-python",
   "name": "python",
   "nbconvert_exporter": "python",
   "pygments_lexer": "ipython3",
   "version": "3.7.17"
  },
  "toc": {
   "base_numbering": 1,
   "nav_menu": {},
   "number_sections": false,
   "sideBar": true,
   "skip_h1_title": false,
   "title_cell": "Table of Contents",
   "title_sidebar": "Contents",
   "toc_cell": false,
   "toc_position": {
    "height": "calc(100% - 180px)",
    "left": "10px",
    "top": "150px",
    "width": "373.188px"
   },
   "toc_section_display": true,
   "toc_window_display": true
  }
 },
 "nbformat": 4,
 "nbformat_minor": 5
}
