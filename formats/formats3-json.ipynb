{
 "cells": [
  {
   "cell_type": "code",
   "execution_count": 1,
   "id": "8e77c3a2",
   "metadata": {
    "slideshow": {
     "slide_type": "skip"
    }
   },
   "outputs": [
    {
     "data": {
      "text/html": [
       "        \n",
       "            <script src=\"_static/js/python.iife.js\" type=\"application/javascript\"></script>\n",
       "        "
      ],
      "text/plain": [
       "<IPython.core.display.HTML object>"
      ]
     },
     "execution_count": 1,
     "metadata": {},
     "output_type": "execute_result"
    }
   ],
   "source": [
    "import jupman\n",
    "\n",
    "import conf\n",
    "\n",
    "conf.jm.init_icp()"
   ]
  },
  {
   "cell_type": "markdown",
   "id": "0049100b",
   "metadata": {
    "slideshow": {
     "slide_type": "slide"
    }
   },
   "source": [
    "# Formati file 3: JSON e XML \n",
    "\n",
    "**Riferimenti:** [SoftPython - formati 3](https://it.softpython.org/formats/formats3-json-sol.html)\n",
    "\n",
    "* visualizza al meglio in <img style=\"display:inline; width:25px; vertical-align: middle;\" src=\"../_static/img/chrome.png\" alttext=\"Chrome\">\n",
    "* versione stampabile: [clicca qua](?print-pdf)\n",
    "* per navigare nelle slide: premere `Esc`\n",
    "\n",
    "<br>\n",
    "<br>\n",
    "\n",
    "**Summer School Data Science 2023 - Modulo 1 informatica:** [Moodle](https://didatticaonline.unitn.it/dol/course/view.php?id=36683) \n",
    "\n",
    "Docente: David Leoni david.leoni@unitn.it\n",
    "\n",
    "Esercitatore: Luca Bosotti luca.bosotti@studenti.unitn.it\n"
   ]
  },
  {
   "cell_type": "markdown",
   "id": "5bf1b37a",
   "metadata": {
    "slideshow": {
     "slide_type": "slide"
    }
   },
   "source": [
    "\n",
    "<table><tr>\n",
    "<td width=\"50%\">\n",
    "\n",
    "## JSON\n",
    "\n",
    "file di testo\n",
    "\n",
    "formato più elaborato _ad albero_\n",
    "\n",
    "profondità arbitraria\n",
    "\n",
    "schema non necessario\n",
    "\n",
    "molto diffuso in applicazioni web \n",
    "\n",
    "**Riferimenti:**\n",
    "\n",
    "[SoftPython Formati 3 - JSON](https://it.softpython.org/formats/formats3-json-sol.html)\n",
    "\n",
    "</td>\n",
    "<td>\n",
    "\n",
    "\n",
    "\n",
    "```json\n",
    "[\n",
    "  {\n",
    "    \"name\": \"Grazioli\",\n",
    "    \"address\": \"Piazza Grazioli - Lavis\",\n",
    "    \"slots\": 7,\n",
    "    \"position\": [\n",
    "      46.139732902099794,\n",
    "      11.111516155225331\n",
    "    ]\n",
    "  },\n",
    "  {\n",
    "    \"name\": \"Pressano\",\n",
    "    \"address\": \"Piazza della Croce - Pressano\",\n",
    "    \"slots\": 5,\n",
    "    \"position\": [\n",
    "      46.15368174037716,\n",
    "      11.106601229430453\n",
    "    ]\n",
    "  }\n",
    "]\n",
    "```\n",
    "</td>\n",
    "</tr>\n",
    "</table>"
   ]
  },
  {
   "cell_type": "markdown",
   "id": "08b9519e",
   "metadata": {
    "slideshow": {
     "slide_type": "subslide"
    }
   },
   "source": []
  },
  {
   "cell_type": "markdown",
   "id": "c85a358e",
   "metadata": {},
   "source": [
    "<table><tr>\n",
    "<td width=\"50%\">\n",
    "\n",
    "```python\n",
    "import json\n",
    "from pprint import pprint\n",
    "\n",
    "with open('bike-sharing-lavis.json',  \n",
    "          encoding='utf-8') as f:    \n",
    "    \n",
    "    contenuto_python = json.load(f)\n",
    "    pprint(contenuto_python)\n",
    "```\n",
    "\n",
    "```python\n",
    "[{'address': 'Piazza Grazioli',\n",
    "  'bikes': 3,\n",
    "  'name': 'Grazioli',\n",
    "  'position': [46.139, 11.111],\n",
    "  'slots': 7},\n",
    " {'address': 'Piazza della Croce',\n",
    "  'bikes': 2,\n",
    "  'name': 'Pressano',\n",
    "  'position': [46.153, 11.106],\n",
    "  'slots': 5},\n",
    " .\n",
    " .\n",
    "]\n",
    "```\n",
    "</td>\n",
    "<td>\n",
    "\n",
    "## JSON E Python 1/2\n",
    "\n",
    "- molto simile a strutture dati in Python\n",
    "- numeri interi, float, stringhe, liste e dizionari\n",
    "- unica differenza: campi `null` del JSON che diventano `None` in Python\n",
    "\n",
    "- Per caricare: modulo già pronto `json`, con la funzione `json.load`\n",
    "</td>\n",
    "</tr>\n",
    "</table>"
   ]
  },
  {
   "cell_type": "markdown",
   "id": "61dda4aa",
   "metadata": {
    "slideshow": {
     "slide_type": "subslide"
    }
   },
   "source": [
    "## JSON E Python 2/2"
   ]
  },
  {
   "cell_type": "markdown",
   "id": "b2d10576",
   "metadata": {},
   "source": [
    "```python\n",
    "contenuto_python[0]\n",
    "\n",
    "{'address': 'Piazza Grazioli',\n",
    "  'bikes': 3,\n",
    "  'name': 'Grazioli',\n",
    "  'position': [46.139, 11.111],\n",
    "  'slots': 7}\n",
    "```"
   ]
  },
  {
   "cell_type": "markdown",
   "id": "176902a8",
   "metadata": {
    "slideshow": {
     "slide_type": "fragment"
    }
   },
   "source": [
    "```python\n",
    "contenuto_python[0]['address']\n",
    "```\n",
    "\n",
    "```python\n",
    "'Piazza Grazioli'\n",
    "```"
   ]
  },
  {
   "cell_type": "markdown",
   "id": "dc1bb813",
   "metadata": {
    "slideshow": {
     "slide_type": "fragment"
    }
   },
   "source": [
    "```python\n",
    "contenuto_python[0]['position']\n",
    "```\n",
    "\n",
    "```python\n",
    "[46.139732902099794, 11.111516155225331]\n",
    "```"
   ]
  },
  {
   "cell_type": "markdown",
   "id": "8391eeaa",
   "metadata": {
    "slideshow": {
     "slide_type": "subslide"
    }
   },
   "source": [
    "## JSONL\n",
    "\n",
    "Particolare [tipo di file](http://jsonlines.org/) \n",
    " JSON\n",
    "\n",
    "- Nota `L` alla fine"
   ]
  },
  {
   "cell_type": "markdown",
   "id": "9b1a1d52",
   "metadata": {
    "slideshow": {
     "slide_type": "fragment"
    }
   },
   "source": [
    "File di testo contenente una sequenza di linee\n",
    "\n",
    "- ciascuna rappresenta un oggetto valido json"
   ]
  },
  {
   "cell_type": "markdown",
   "id": "7b5aff40",
   "metadata": {
    "slideshow": {
     "slide_type": "fragment"
    }
   },
   "source": [
    "Si può trovare per file grossi o _in streaming_"
   ]
  },
  {
   "cell_type": "markdown",
   "id": "ea671bb3",
   "metadata": {},
   "source": [
    "[impiegati.jsonl](impiegati.jsonl) :"
   ]
  },
  {
   "cell_type": "markdown",
   "id": "81f092c1",
   "metadata": {},
   "source": [
    "```json\n",
    "{\"nome\": \"Mario\", \"cognome\":\"Rossi\"}\n",
    "{\"nome\": \"Paolo\", \"cognome\":\"Bianchi\"}\n",
    "{\"nome\": \"Luca\", \"cognome\":\"Verdi\"}\n",
    "```"
   ]
  },
  {
   "cell_type": "markdown",
   "id": "970e9705",
   "metadata": {
    "slideshow": {
     "slide_type": "subslide"
    }
   },
   "source": [
    "[impiegati.jsonl](impiegati.jsonl) :"
   ]
  },
  {
   "cell_type": "markdown",
   "id": "385233ff",
   "metadata": {},
   "source": [
    "```json\n",
    "{\"nome\": \"Mario\", \"cognome\":\"Rossi\"}\n",
    "{\"nome\": \"Paolo\", \"cognome\":\"Bianchi\"}\n",
    "{\"nome\": \"Luca\", \"cognome\":\"Verdi\"}\n",
    "```"
   ]
  },
  {
   "cell_type": "code",
   "execution_count": 4,
   "id": "617acb66",
   "metadata": {},
   "outputs": [
    {
     "name": "stdout",
     "output_type": "stream",
     "text": [
      "Oggetto  0\n",
      "{'nome': 'Mario', 'cognome': 'Rossi'}\n",
      "Oggetto  1\n",
      "{'nome': 'Paolo', 'cognome': 'Bianchi'}\n",
      "Oggetto  2\n",
      "{'nome': 'Luca', 'cognome': 'Verdi'}\n"
     ]
    }
   ],
   "source": [
    "import json\n",
    "\n",
    "with open('./impiegati.jsonl', encoding='utf-8',) as f:\n",
    "\n",
    "    i = 0\n",
    "    for linea_testo in f:  # interpreta come file di testo\n",
    "        contenuto_python = json.loads(linea_testo)  # converte linea di testo \n",
    "                                                    # in vero oggetto python \n",
    "        print('Oggetto ', i)\n",
    "        print(contenuto_python)\n",
    "        i = i + 1\n",
    "        "
   ]
  },
  {
   "cell_type": "markdown",
   "id": "0494c1c4",
   "metadata": {
    "slideshow": {
     "slide_type": "slide"
    }
   },
   "source": [
    "## XML (menzione)\n",
    "<table> <tr>\n",
    "\n",
    "<td>\n",
    "\n",
    "Formato ad albero, più complesso dei json\n",
    "\n",
    "    \n",
    "- File di testo `.xml`\n",
    "\n",
    "- nodi `<TAG> CONTENUTO </TAG>`\n",
    "    \n",
    "- supporta attributi anche per i nodi (metadati)\n",
    "\n",
    " &ensp; &ensp;`<TAG ATTR1=\"bla\" ATTR2=\"bla\">`\n",
    "\n",
    "Tipicamente fornito di schema\n",
    "\n",
    "- il linguaggio HTML per le pagine web segue lo standard XML\n",
    "\n",
    "Per scansionare XML e HTML in Python:\n",
    "\n",
    "- [Libreria beautiful soup](https://beautiful-soup-4.readthedocs.io/en/latest/)\n",
    "- [Tutorial estrazione](https://it.softpython.org/extraction/extraction-sol.html) da SoftPython\n",
    "\n",
    "</td>\n",
    "\n",
    "<td>\n",
    "\n",
    "```html\n",
    "<div class=\"moodbo text-white\">\n",
    "    <div>\n",
    "        <h4 class=\"headline\">\n",
    "            Coppa del Mondo di Snowboard\n",
    "        </h4>\n",
    "        <span class=\"abc\">14/12/2017</span>\n",
    "        <span class=\"moodboard\">\n",
    "            <span class=\"icon fz20\"></span> \n",
    "            Passo Costalunga\n",
    "        </span>\n",
    "    </div>\n",
    "    <div class=\"text-right\">\n",
    "        <a href=\"visit\">\n",
    "            <span class=\"icon fz30\">\n",
    "            </span>\n",
    "        </a>\n",
    "    </div>\n",
    "</div>\n",
    "```\n",
    "\n",
    "</td>\n",
    "</tr>\n",
    "</table>"
   ]
  },
  {
   "cell_type": "code",
   "execution_count": 1,
   "id": "fad6d20f-stripped",
   "metadata": {
    "nbsphinx": "hidden"
   },
   "outputs": [],
   "source": []
  }
 ],
 "metadata": {
  "kernelspec": {
   "display_name": "Python 3 (ipykernel)",
   "language": "python",
   "name": "python3"
  },
  "language_info": {
   "codemirror_mode": {
    "name": "ipython",
    "version": 3
   },
   "file_extension": ".py",
   "mimetype": "text/x-python",
   "name": "python",
   "nbconvert_exporter": "python",
   "pygments_lexer": "ipython3",
   "version": "3.7.17"
  },
  "toc": {
   "base_numbering": 1,
   "nav_menu": {},
   "number_sections": false,
   "sideBar": true,
   "skip_h1_title": false,
   "title_cell": "Table of Contents",
   "title_sidebar": "Contents",
   "toc_cell": false,
   "toc_position": {
    "height": "calc(100% - 180px)",
    "left": "10px",
    "top": "150px",
    "width": "373.2px"
   },
   "toc_section_display": true,
   "toc_window_display": true
  }
 },
 "nbformat": 4,
 "nbformat_minor": 5
}
