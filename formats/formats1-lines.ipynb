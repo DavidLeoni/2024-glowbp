{
 "cells": [
  {
   "cell_type": "code",
   "execution_count": 1,
   "id": "8e77c3a2",
   "metadata": {
    "slideshow": {
     "slide_type": "skip"
    }
   },
   "outputs": [
    {
     "data": {
      "text/html": [
       "        \n",
       "            <script src=\"_static/js/python.iife.js\" type=\"application/javascript\"></script>\n",
       "        "
      ],
      "text/plain": [
       "<IPython.core.display.HTML object>"
      ]
     },
     "execution_count": 1,
     "metadata": {},
     "output_type": "execute_result"
    }
   ],
   "source": [
    "import jupman\n",
    "\n",
    "import conf\n",
    "\n",
    "conf.jm.init_icp()"
   ]
  },
  {
   "cell_type": "markdown",
   "id": "0049100b",
   "metadata": {
    "slideshow": {
     "slide_type": "slide"
    }
   },
   "source": [
    "# Formati file 1: intro, file a linee \n",
    "\n",
    "**Riferimenti:** [SoftPython - formati 1](https://it.softpython.org/formats/formats1-sol.html)\n",
    "\n",
    "* visualizza al meglio in <img style=\"display:inline; width:25px; vertical-align: middle;\" src=\"../_static/img/chrome.png\" alttext=\"Chrome\">\n",
    "* versione stampabile: [clicca qua](?print-pdf)\n",
    "* per navigare nelle slide: premere `Esc`\n",
    "\n",
    "<br>\n",
    "<br>\n",
    "\n",
    "**Summer School Data Science 2023 - Modulo 1 informatica:** [Moodle](https://didatticaonline.unitn.it/dol/course/view.php?id=36683) \n",
    "\n",
    "Docente: David Leoni david.leoni@unitn.it\n",
    "\n",
    "Esercitatore: Luca Bosotti luca.bosotti@studenti.unitn.it\n"
   ]
  },
  {
   "cell_type": "markdown",
   "id": "9eba9c53",
   "metadata": {
    "slideshow": {
     "slide_type": "subslide"
    }
   },
   "source": [
    "## File \n",
    "\n",
    "**binari:** Sequenze di 0 e 1"
   ]
  },
  {
   "cell_type": "markdown",
   "id": "fe860a4d",
   "metadata": {
    "slideshow": {
     "slide_type": "fragment"
    }
   },
   "source": [
    "- Excel (`.xls`, `.xlsx`)\n",
    "- LibreOffice Calc (`.ods`)\n",
    "- Adobe PDF (`.pdf`)\n",
    "- Immagini (`.jpg`, `.jpeg`, `.png`, `.gif`, `.webp`)\n",
    "- ..."
   ]
  },
  {
   "cell_type": "markdown",
   "id": "5d376b40",
   "metadata": {
    "slideshow": {
     "slide_type": "fragment"
    }
   },
   "source": [
    "per essere aperti richiedono librerie specializzate "
   ]
  },
  {
   "cell_type": "markdown",
   "id": "f97697de",
   "metadata": {
    "slideshow": {
     "slide_type": "fragment"
    }
   },
   "source": [
    "**di testo:**\n",
    "\n",
    "- `.txt`\n",
    "- `.csv`, `.tsv`\n",
    "- `.json`\n",
    "- `.xml`, `.html`\n",
    "- ..."
   ]
  },
  {
   "cell_type": "markdown",
   "id": "e7d78df1",
   "metadata": {
    "slideshow": {
     "slide_type": "fragment"
    }
   },
   "source": [
    "Apribili anche con Blocco note!"
   ]
  },
  {
   "cell_type": "markdown",
   "id": "d4783f53",
   "metadata": {
    "slideshow": {
     "slide_type": "slide"
    }
   },
   "source": [
    "## File a linee\n",
    "\n",
    "- file di testo\n",
    "- informazioni raggruppate per linee\n",
    "\n",
    "**Riferimenti**: [SoftPython Formati 1 - File a linee](https://it.softpython.org/formats/formats1-lines-sol.html)\n",
    "\n",
    "[people-simple.txt](people-simple.txt):\n",
    "\n",
    "```text\n",
    "Leonardo\n",
    "da Vinci\n",
    "Sandro\n",
    "Botticelli\n",
    "Niccolò \n",
    "Macchiavelli\n",
    "```"
   ]
  },
  {
   "cell_type": "markdown",
   "id": "63687b90",
   "metadata": {
    "slideshow": {
     "slide_type": "subslide"
    }
   },
   "source": [
    "## Serve leggere 'per linea'?\n",
    "\n",
    "Quando capitano file:\n",
    "\n",
    "* in formati strani"
   ]
  },
  {
   "cell_type": "markdown",
   "id": "86fa5f6e",
   "metadata": {
    "slideshow": {
     "slide_type": "fragment"
    }
   },
   "source": [
    "* enormi"
   ]
  },
  {
   "cell_type": "markdown",
   "id": "bb0f2903",
   "metadata": {
    "slideshow": {
     "slide_type": "fragment"
    }
   },
   "source": [
    "* corrotti"
   ]
  },
  {
   "cell_type": "markdown",
   "id": "4fe2f52d",
   "metadata": {
    "slideshow": {
     "slide_type": "subslide"
    }
   },
   "source": [
    "## Esempio lettura"
   ]
  },
  {
   "cell_type": "code",
   "execution_count": 2,
   "id": "705779cb",
   "metadata": {},
   "outputs": [
    {
     "name": "stdout",
     "output_type": "stream",
     "text": [
      "Leonardo\n",
      "\n"
     ]
    }
   ],
   "source": [
    "with open('people-simple.txt', encoding='utf-8') as f:\n",
    "    linea=f.readline()\n",
    "    print(linea)"
   ]
  },
  {
   "cell_type": "markdown",
   "id": "a8292761",
   "metadata": {
    "slideshow": {
     "slide_type": "subslide"
    }
   },
   "source": [
    "\n",
    "### La codifica `encoding`\n",
    "\n",
    "dipende da sistema operativo, editor "
   ]
  },
  {
   "cell_type": "markdown",
   "id": "31cfd6ce",
   "metadata": {
    "slideshow": {
     "slide_type": "fragment"
    }
   },
   "source": [
    "se non specifichi la codifica, Python prova a indovinare..."
   ]
  },
  {
   "cell_type": "markdown",
   "id": "53a05456",
   "metadata": {
    "slideshow": {
     "slide_type": "fragment"
    }
   },
   "source": [
    "...se sbaglia -> vedrai caratteri strani (es. quadratini) "
   ]
  },
  {
   "cell_type": "markdown",
   "id": "893238d3",
   "metadata": {
    "slideshow": {
     "slide_type": "fragment"
    }
   },
   "source": [
    "Meglio specificare!\n",
    "\n",
    "- il più comune: `utf-8` \n",
    "- altrimenti, qui in Italia: `encoding='latin-1'` \n",
    "- Per fare la detection: Charset Normalizer [tool online](https://charsetnormalizerweb-ousret.vercel.app/) | [libreria](https://github.com/Ousret/charset_normalizer)\n",
    "\n",
    "- Approfondimenti: [SoftPython - capitolo Stringhe - encodings](https://it.softpython.org/strings/strings1-sol.html#Encodings)\n"
   ]
  },
  {
   "cell_type": "markdown",
   "id": "446d7be6",
   "metadata": {
    "slideshow": {
     "slide_type": "subslide"
    }
   },
   "source": [
    "##  Aprire e chiudere un file 1/3\n",
    "\n",
    "```python\n",
    "with open('people-simple.txt', encoding='utf-8') as f:\n",
    "    linea=f.readline()\n",
    "    print(linea)\n",
    "```\n",
    "\n",
    "Se non si chiude propriamente un file, si rischiano:\n",
    "\n",
    "- spreco di risorse\n",
    "- errori strani"
   ]
  },
  {
   "cell_type": "markdown",
   "id": "33002970",
   "metadata": {
    "slideshow": {
     "slide_type": "fragment"
    }
   },
   "source": [
    "`with` _CONTESTO_ \n",
    "\n",
    "- definisce un blocco di codice con degli automatismi"
   ]
  },
  {
   "cell_type": "markdown",
   "id": "be282487",
   "metadata": {
    "slideshow": {
     "slide_type": "fragment"
    }
   },
   "source": [
    "`with open` \n",
    "\n",
    "- **anche se accadono errori** nel corpo del `with`...\n",
    "- ... alla fine Python chiuderà automaticamente il file"
   ]
  },
  {
   "cell_type": "markdown",
   "id": "700240a5",
   "metadata": {
    "slideshow": {
     "slide_type": "subslide"
    }
   },
   "source": [
    "##  Aprire e chiudere un file 2/3\n",
    "\n",
    "```python\n",
    "with open('people-simple.txt', encoding='utf-8') as f:\n",
    "    linea=f.readline()\n",
    "    print(linea)\n",
    "```\n",
    "\n",
    "Nella parte `as f:` \n",
    "\n",
    "- abbiamo assegnato il file ad una variabile chiamata qui `f`\n",
    "- ma potevamo usare un qualunque altro nome"
   ]
  },
  {
   "cell_type": "markdown",
   "id": "ba529a69",
   "metadata": {
    "slideshow": {
     "slide_type": "fragment"
    }
   },
   "source": [
    "\n",
    "<div class=\"alert alert-warning\">\n",
    "\n",
    "**ATTENZIONE**:  ricordati di mettere sempre il carattere dei doppi punti `:` alla fine della linea del `with` !\n",
    "</div>"
   ]
  },
  {
   "cell_type": "markdown",
   "id": "d29b2e9d",
   "metadata": {
    "slideshow": {
     "slide_type": "subslide"
    }
   },
   "source": [
    "##  Aprire e chiudere un file 3/3"
   ]
  },
  {
   "cell_type": "code",
   "execution_count": 3,
   "id": "f6f6f8aa",
   "metadata": {},
   "outputs": [
    {
     "name": "stdout",
     "output_type": "stream",
     "text": [
      "Leonardo\n",
      " da Vinci\n",
      "\n"
     ]
    }
   ],
   "source": [
    "with open('people-simple.txt', encoding='utf-8') as f:\n",
    "    nome=f.readline()      # sposta in avanti il cursore di lettura\n",
    "    cognome=f.readline()   # legge dalla *nuova* posizione del cursore!\n",
    "    print(nome + ' ' + cognome)\n"
   ]
  },
  {
   "cell_type": "markdown",
   "id": "2c6335dd",
   "metadata": {},
   "source": [
    "`nome=f.readline()` mette in `nome` l'intera linea: **vedi problemi?** "
   ]
  },
  {
   "cell_type": "markdown",
   "id": "c57cccfd",
   "metadata": {
    "slideshow": {
     "slide_type": "fragment"
    }
   },
   "source": [
    "<div class=\"alert alert-warning\">\n",
    "\n",
    "**ATTENZIONE**: `f.readline()` metterà alla fine il carattere di ritorno a capo `\\n`\n",
    "</div>"
   ]
  },
  {
   "cell_type": "code",
   "execution_count": 4,
   "id": "5d9689a1",
   "metadata": {
    "slideshow": {
     "slide_type": "fragment"
    }
   },
   "outputs": [
    {
     "name": "stdout",
     "output_type": "stream",
     "text": [
      "Leonardo da Vinci\n"
     ]
    }
   ],
   "source": [
    "with open('people-simple.txt', encoding='utf-8') as f:\n",
    "    nome=f.readline().rstrip()    # meglio...\n",
    "    cognome=f.readline().rstrip()\n",
    "    print(nome + ' ' + cognome)"
   ]
  },
  {
   "cell_type": "markdown",
   "id": "12704b13",
   "metadata": {
    "slideshow": {
     "slide_type": "subslide"
    }
   },
   "source": [
    "## Leggere tutto il file con `while`"
   ]
  },
  {
   "cell_type": "code",
   "execution_count": 5,
   "id": "0a2d0f05",
   "metadata": {},
   "outputs": [
    {
     "name": "stdout",
     "output_type": "stream",
     "text": [
      "Leonardo da Vinci\n",
      "Sandro Botticelli\n",
      "Niccolò Macchiavelli\n"
     ]
    }
   ],
   "source": [
    "with open('people-simple.txt', encoding='utf-8') as f:\n",
    "    linea=f.readline()\n",
    "    while linea != \"\":                \n",
    "        nome = linea.rstrip()\n",
    "        cognome=f.readline().rstrip()\n",
    "        print(nome + ' ' + cognome)\n",
    "        linea=f.readline()"
   ]
  },
  {
   "cell_type": "markdown",
   "id": "972296b7",
   "metadata": {
    "slideshow": {
     "slide_type": "fragment"
    }
   },
   "source": [
    "Se siamo alla fine del file (o il file è vuoto):\n",
    "\n",
    "-  la chiamata a  `f.readline()` ritorna una stringa vuota"
   ]
  },
  {
   "cell_type": "markdown",
   "id": "104633e8",
   "metadata": {
    "slideshow": {
     "slide_type": "subslide"
    }
   },
   "source": [
    "## Leggere con un `for`"
   ]
  },
  {
   "cell_type": "code",
   "execution_count": 6,
   "id": "9ac2bc00",
   "metadata": {},
   "outputs": [
    {
     "name": "stdout",
     "output_type": "stream",
     "text": [
      "Leonardo\n",
      "\n",
      "da Vinci\n",
      "\n",
      "Sandro\n",
      "\n",
      "Botticelli\n",
      "\n",
      "Niccolò \n",
      "\n",
      "Macchiavelli\n"
     ]
    }
   ],
   "source": [
    "with open('people-simple.txt', encoding='utf-8') as f:    \n",
    "    for linea in f:\n",
    "        print(linea)"
   ]
  },
  {
   "cell_type": "markdown",
   "id": "c93b6ca6",
   "metadata": {
    "slideshow": {
     "slide_type": "fragment"
    }
   },
   "source": [
    "non abbiamo più chiamate a `f.readline()`"
   ]
  },
  {
   "cell_type": "markdown",
   "id": "dfd923e6",
   "metadata": {
    "slideshow": {
     "slide_type": "fragment"
    }
   },
   "source": [
    "Quando incontra il ciclo, Python automagicamente fa un sacco di cose!\n",
    "\n",
    "- solo per i file di testo!"
   ]
  },
  {
   "cell_type": "markdown",
   "id": "155fb673",
   "metadata": {
    "slideshow": {
     "slide_type": "subslide"
    }
   },
   "source": [
    "## `for` vs `while`\n",
    "\n",
    "`for`: tipicamente  per iterare _tutto_ il file"
   ]
  },
  {
   "cell_type": "markdown",
   "id": "47b6cd0e",
   "metadata": {
    "slideshow": {
     "slide_type": "fragment"
    }
   },
   "source": [
    "`while`: per maggior controllo\n",
    "    \n",
    "- es stai cercando qualcosa in un file enorme e vuoi fermarti appena lo trovi"
   ]
  },
  {
   "cell_type": "markdown",
   "id": "f28fdac0",
   "metadata": {
    "slideshow": {
     "slide_type": "fragment"
    }
   },
   "source": [
    "Per esempi di ricerca: [Cicli while - ricercare in una sequenza](https://it.softpython.org/while/while1-sol.html#Ricercare-in-una-sequenza) \n",
    "\n",
    "- su liste invece che file, ma stesso concetto"
   ]
  },
  {
   "cell_type": "markdown",
   "id": "debbe29e",
   "metadata": {
    "slideshow": {
     "slide_type": "subslide"
    }
   },
   "source": [
    "### Cos'è esattamente `f` ?"
   ]
  },
  {
   "cell_type": "code",
   "execution_count": 7,
   "id": "9adb56dd",
   "metadata": {},
   "outputs": [
    {
     "name": "stdout",
     "output_type": "stream",
     "text": [
      "<_io.TextIOWrapper name='people-simple.txt' mode='r' encoding='utf-8'>\n"
     ]
    }
   ],
   "source": [
    "import csv\n",
    "with open('people-simple.txt', encoding='utf-8', newline='') as f:        \n",
    "    print(f)"
   ]
  },
  {
   "cell_type": "markdown",
   "id": "d6cb193b",
   "metadata": {
    "slideshow": {
     "slide_type": "fragment"
    }
   },
   "source": [
    "Come materializzare?"
   ]
  },
  {
   "cell_type": "code",
   "execution_count": 8,
   "id": "e0a1d938",
   "metadata": {
    "slideshow": {
     "slide_type": "fragment"
    }
   },
   "outputs": [
    {
     "name": "stdout",
     "output_type": "stream",
     "text": [
      "['Leonardo\\n', 'da Vinci\\n', 'Sandro\\n', 'Botticelli\\n', 'Niccolò \\n', 'Macchiavelli']\n"
     ]
    }
   ],
   "source": [
    "\n",
    "with open('people-simple.txt', encoding='utf-8', newline='') as f:    \n",
    "    print(list(f))"
   ]
  },
  {
   "cell_type": "markdown",
   "id": "adf58981",
   "metadata": {
    "slideshow": {
     "slide_type": "subslide"
    }
   },
   "source": [
    "## NON consumare due volte nel `with`"
   ]
  },
  {
   "cell_type": "markdown",
   "id": "ebc17635",
   "metadata": {},
   "source": [
    "\n",
    "```python\n",
    "with open('people-simple.txt', encoding='utf-8', newline='') as f:            \n",
    "    print(list(f))\n",
    "    print(list(f)) \n",
    "```"
   ]
  },
  {
   "cell_type": "markdown",
   "id": "948c77df",
   "metadata": {
    "slideshow": {
     "slide_type": "fragment"
    }
   },
   "source": [
    "```text\n",
    "['Leonardo\\n', 'da Vinci\\n', 'Sandro\\n', 'Botticelli\\n', 'Niccolò \\n', 'Macchiavelli']\n",
    "[]\n",
    "```"
   ]
  },
  {
   "cell_type": "markdown",
   "id": "1c89fce4",
   "metadata": {
    "slideshow": {
     "slide_type": "fragment"
    }
   },
   "source": [
    "<div class=\"alert alert-warning\">\n",
    "\n",
    "**ATTENZIONE:** qualunque lettura muove in avanti il cursore di lettura!\n",
    "\n",
    "</div>"
   ]
  },
  {
   "cell_type": "markdown",
   "id": "8722b475",
   "metadata": {},
   "source": [
    "Alla seconda chiamata il file è ormai 'consumato' e stampa `[]`"
   ]
  },
  {
   "cell_type": "markdown",
   "id": "6e6cda28",
   "metadata": {
    "slideshow": {
     "slide_type": "subslide"
    }
   },
   "source": [
    "## NON consumare `f` fuori dal `with`"
   ]
  },
  {
   "cell_type": "markdown",
   "id": "60560afb",
   "metadata": {},
   "source": [
    "```python\n",
    "with open('people-simple.txt', encoding='utf-8') as f:        \n",
    "    print(\"Occhio all'indentazione..\")\n",
    "\n",
    "print(list(f))   \n",
    "```"
   ]
  },
  {
   "cell_type": "markdown",
   "id": "8a505315",
   "metadata": {
    "slideshow": {
     "slide_type": "fragment"
    }
   },
   "source": [
    "```python\n",
    "---------------------------------------------------------------------------\n",
    "ValueError                                Traceback (most recent call last)\n",
    "Cell In[16], line 6\n",
    "      4 with open('people-simple.txt', encoding='utf-8', newline='') as f:        \n",
    "      5     print(\"Occhio all'indentazione..\")\n",
    "      6\n",
    "----> 7 print(list(f))   # BOOM!\n",
    "\n",
    "ValueError: I/O operation on closed file.\n",
    "```"
   ]
  },
  {
   "cell_type": "markdown",
   "id": "6acce44c",
   "metadata": {
    "slideshow": {
     "slide_type": "subslide"
    }
   },
   "source": [
    "## Se proprio vuoi consumare due volte..."
   ]
  },
  {
   "cell_type": "code",
   "execution_count": 9,
   "id": "97059297",
   "metadata": {},
   "outputs": [
    {
     "name": "stdout",
     "output_type": "stream",
     "text": [
      "['Leonardo\\n', 'da Vinci\\n', 'Sandro\\n', 'Botticelli\\n', 'Niccolò \\n', 'Macchiavelli']\n",
      "['Leonardo\\n', 'da Vinci\\n', 'Sandro\\n', 'Botticelli\\n', 'Niccolò \\n', 'Macchiavelli']\n"
     ]
    }
   ],
   "source": [
    "with open('people-simple.txt', encoding='utf-8', newline='') as f:            \n",
    "    print(list(f))\n",
    "    \n",
    "with open('people-simple.txt', encoding='utf-8', newline='') as f:      \n",
    "    print(list(f)) "
   ]
  },
  {
   "cell_type": "code",
   "execution_count": 10,
   "id": "a2912c82-stripped",
   "metadata": {
    "nbsphinx": "hidden"
   },
   "outputs": [],
   "source": []
  }
 ],
 "metadata": {
  "kernelspec": {
   "display_name": "Python 3 (ipykernel)",
   "language": "python",
   "name": "python3"
  },
  "language_info": {
   "codemirror_mode": {
    "name": "ipython",
    "version": 3
   },
   "file_extension": ".py",
   "mimetype": "text/x-python",
   "name": "python",
   "nbconvert_exporter": "python",
   "pygments_lexer": "ipython3",
   "version": "3.7.17"
  },
  "toc": {
   "base_numbering": 1,
   "nav_menu": {},
   "number_sections": false,
   "sideBar": true,
   "skip_h1_title": false,
   "title_cell": "Table of Contents",
   "title_sidebar": "Contents",
   "toc_cell": false,
   "toc_position": {
    "height": "calc(100% - 180px)",
    "left": "10px",
    "top": "150px",
    "width": "373.2px"
   },
   "toc_section_display": true,
   "toc_window_display": true
  }
 },
 "nbformat": 4,
 "nbformat_minor": 5
}
