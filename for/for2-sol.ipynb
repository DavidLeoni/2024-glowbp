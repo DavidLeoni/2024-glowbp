{
 "cells": [
  {
   "cell_type": "code",
   "execution_count": 1,
   "id": "8e77c3a2",
   "metadata": {
    "slideshow": {
     "slide_type": "skip"
    }
   },
   "outputs": [
    {
     "data": {
      "text/html": [
       "        \n",
       "            <script src=\"../_static/js/python.iife.js\" type=\"application/javascript\"></script>\n",
       "        "
      ],
      "text/plain": [
       "<IPython.core.display.HTML object>"
      ]
     },
     "execution_count": 1,
     "metadata": {},
     "output_type": "execute_result"
    }
   ],
   "source": [
    "import sys\n",
    "sys.path.append('../')\n",
    "import jupman\n",
    "\n",
    "import conf\n",
    "\n",
    "conf.jm.init_icp()"
   ]
  },
  {
   "cell_type": "markdown",
   "id": "0049100b",
   "metadata": {
    "slideshow": {
     "slide_type": "slide"
    }
   },
   "source": [
    "\n",
    "#  Slides for 2\n",
    "\n",
    "**Iterare sequenze, for annidati**\n",
    "\n",
    "**Riferimenti:** esercizi su SoftPython: [for 2: stringhe](https://it.softpython.org/for/for2-sol.html) &ensp;  [for 3: liste](https://it.softpython.org/for/for3-sol.html)\n",
    "\n",
    "[for 4: tuple](https://it.softpython.org/for/for4-sol.html) &ensp;  [for 5: insiemi](https://it.softpython.org/for/for5-sol.html) &ensp;  [for 6: dizionari](https://it.softpython.org/for/for6-sol.html)\n",
    "\n",
    "[for 7: for annidati](https://it.softpython.org/for/for7-sol.html)\n",
    "\n",
    "* visualizza al meglio in <img style=\"display:inline; width:25px; vertical-align: middle;\" src=\"../_static/img/chrome.png\" alttext=\"Chrome\">\n",
    "* versione stampabile: [clicca qua](?print-pdf)\n",
    "* per navigare nelle slide: premere `Esc`\n",
    "\n",
    "<br>\n",
    "<br>\n",
    "\n",
    "**Summer School Data Science 2023 - Modulo 1 informatica:** [Moodle](https://didatticaonline.unitn.it/dol/course/view.php?id=36683) \n",
    "\n",
    "Docente: David Leoni david.leoni@unitn.it\n",
    "\n",
    "Esercitatore: Luca Bosotti luca.bosotti@studenti.unitn.it\n"
   ]
  },
  {
   "cell_type": "markdown",
   "id": "a298f1bb",
   "metadata": {
    "slideshow": {
     "slide_type": "slide"
    }
   },
   "source": [
    "## Iterare stringhe\n",
    "\n",
    "[Esercizi for 2: stringhe](https://it.softpython.org/for/for2-sol.html)"
   ]
  },
  {
   "cell_type": "code",
   "execution_count": 2,
   "id": "1de49ad8",
   "metadata": {
    "slideshow": {
     "slide_type": "-"
    }
   },
   "outputs": [
    {
     "name": "stdout",
     "output_type": "stream",
     "text": [
      "t\n",
      "r\n",
      "o\n",
      "t\n",
      "a\n"
     ]
    },
    {
     "data": {
      "text/html": [
       "        \n",
       "        <script src=\"../_static/js/pytutor-embed.bundle.min.js\" #type=\"application/javascript\"></script>\n",
       "    \n",
       "        <style>\n",
       "        @import \"../_static/css/jupman.css\";\n",
       "        </style>\n",
       "     \n",
       "        <script id=\"trace-jm-7f8bf2aed30889e0f0b752ba7622e2f7-4\" type=\"application/json\" >\n",
       "            {\"code\": \" \\nfor carattere in \\\"trota\\\":\\n    print(carattere)\", \"trace\": [{\"line\": 2, \"event\": \"step_line\", \"func_name\": \"<module>\", \"globals\": {}, \"ordered_globals\": [], \"stack_to_render\": [], \"heap\": {}, \"stdout\": \"\"}, {\"line\": 3, \"event\": \"step_line\", \"func_name\": \"<module>\", \"globals\": {\"carattere\": \"t\"}, \"ordered_globals\": [\"carattere\"], \"stack_to_render\": [], \"heap\": {}, \"stdout\": \"\"}, {\"line\": 2, \"event\": \"step_line\", \"func_name\": \"<module>\", \"globals\": {\"carattere\": \"t\"}, \"ordered_globals\": [\"carattere\"], \"stack_to_render\": [], \"heap\": {}, \"stdout\": \"t\\n\"}, {\"line\": 3, \"event\": \"step_line\", \"func_name\": \"<module>\", \"globals\": {\"carattere\": \"r\"}, \"ordered_globals\": [\"carattere\"], \"stack_to_render\": [], \"heap\": {}, \"stdout\": \"t\\n\"}, {\"line\": 2, \"event\": \"step_line\", \"func_name\": \"<module>\", \"globals\": {\"carattere\": \"r\"}, \"ordered_globals\": [\"carattere\"], \"stack_to_render\": [], \"heap\": {}, \"stdout\": \"t\\nr\\n\"}, {\"line\": 3, \"event\": \"step_line\", \"func_name\": \"<module>\", \"globals\": {\"carattere\": \"o\"}, \"ordered_globals\": [\"carattere\"], \"stack_to_render\": [], \"heap\": {}, \"stdout\": \"t\\nr\\n\"}, {\"line\": 2, \"event\": \"step_line\", \"func_name\": \"<module>\", \"globals\": {\"carattere\": \"o\"}, \"ordered_globals\": [\"carattere\"], \"stack_to_render\": [], \"heap\": {}, \"stdout\": \"t\\nr\\no\\n\"}, {\"line\": 3, \"event\": \"step_line\", \"func_name\": \"<module>\", \"globals\": {\"carattere\": \"t\"}, \"ordered_globals\": [\"carattere\"], \"stack_to_render\": [], \"heap\": {}, \"stdout\": \"t\\nr\\no\\n\"}, {\"line\": 2, \"event\": \"step_line\", \"func_name\": \"<module>\", \"globals\": {\"carattere\": \"t\"}, \"ordered_globals\": [\"carattere\"], \"stack_to_render\": [], \"heap\": {}, \"stdout\": \"t\\nr\\no\\nt\\n\"}, {\"line\": 3, \"event\": \"step_line\", \"func_name\": \"<module>\", \"globals\": {\"carattere\": \"a\"}, \"ordered_globals\": [\"carattere\"], \"stack_to_render\": [], \"heap\": {}, \"stdout\": \"t\\nr\\no\\nt\\n\"}, {\"line\": 2, \"event\": \"step_line\", \"func_name\": \"<module>\", \"globals\": {\"carattere\": \"a\"}, \"ordered_globals\": [\"carattere\"], \"stack_to_render\": [], \"heap\": {}, \"stdout\": \"t\\nr\\no\\nt\\na\\n\"}, {\"line\": 2, \"event\": \"return\", \"func_name\": \"<module>\", \"globals\": {\"carattere\": \"a\"}, \"ordered_globals\": [\"carattere\"], \"stack_to_render\": [], \"heap\": {}, \"stdout\": \"t\\nr\\no\\nt\\na\\n\"}]}\n",
       "        </script>\n",
       "        <div id=\"jm-7f8bf2aed30889e0f0b752ba7622e2f7-4\" class=\"pytutorVisualizer\"> </div>\n",
       "                            \n",
       "        <script>\n",
       "                          \n",
       "        var jmRenderPytut = function(trace_id, div_id, config){\n",
       "            console.log(\"jupman.py embedded javascript: rendering Python tutor visualizer...\")\n",
       "            \n",
       "            let oldAlert = window.alert;\n",
       "            window.alert = function ( text ) { \n",
       "                console.log( 'tried to alert: ', text );         \n",
       "                return true; \n",
       "            };\n",
       "            let executionVisualizer = null;\n",
       "            try {\n",
       "            \n",
       "                var trace = JSON.parse(document.getElementById(trace_id).innerHTML);                                        \n",
       "                // NOTE: id without #\n",
       "                        \n",
       "                executionVisualizer = addVisualizerToPage(trace, div_id, config);\n",
       "                // hack in case visualizer decides to hide them for no good reason\n",
       "                $('#' + div_id + ' #jmpFirstInstr').show();\n",
       "                $('#' + div_id + ' #jmpLastInstr').show();\n",
       "                \n",
       "                // set overflow for pytuts - need to do in python as css \n",
       "                // does not allow parent selection\n",
       "                var pytuts = $('.pytutorVisualizer');\n",
       "                pytuts.closest('div.output_html.rendered_html.output_result')\n",
       "                        .css('overflow-x', 'visible');\n",
       "            \n",
       "                //pytuts.closest('div.output_html.rendered_html.output_result')\n",
       "                //      .css('background-color','red');                \n",
       "            } catch (error) {\n",
       "                console.error(\"jupman slides: Couldn't visualize Python tutor properly\", error);\n",
       "            }\n",
       "            window.alert = oldAlert;\n",
       "            return executionVisualizer;\n",
       "            \n",
       "        };\n",
       "        </script>\n",
       "        \n",
       "        <script>\n",
       "        var pytut_cfg_7f8bf2aed30889e0f0b752ba7622e2f7_4 = (function(){\n",
       "            var rootFontSize = window.getComputedStyle(document.body).getPropertyValue('font-size');\n",
       "            var rootFontSizeNum = 12;\n",
       "            if (rootFontSize.endsWith('px')){\n",
       "                rootFontSizeNum = Number(rootFontSize.substring(0, rootFontSize.length-2));\n",
       "            } else {\n",
       "                console.error(\"Unrecognized font unit:\", rootFontSize, \"assuming default\", rootFontSizeNum);\n",
       "            }\n",
       "            console.log('rootFontSize', rootFontSize);\n",
       "            \n",
       "            var codeWidthInChars = Math.max(23, 25);\n",
       "            if (0){\n",
       "                codeWidthInChars = 0;    // override\n",
       "            }\n",
       "            return {'embeddedMode' : false,\n",
       "                  'disableHeapNesting': true,\n",
       "                  'visualizerIdOverride':'viz-jm-7f8bf2aed30889e0f0b752ba7622e2f7-4',\n",
       "                  'codeDivWidth': Math.trunc(rootFontSizeNum * codeWidthInChars)\n",
       "                  };\n",
       "        })();                 \n",
       "        \n",
       "        jmRenderPytut('trace-jm-7f8bf2aed30889e0f0b752ba7622e2f7-4', 'jm-7f8bf2aed30889e0f0b752ba7622e2f7-4', pytut_cfg_7f8bf2aed30889e0f0b752ba7622e2f7_4);\n",
       "        </script>\n",
       "                \n",
       "    \n",
       "    <div style=\"text-align:center; font-size:0.9em\"> <a href=\"https://pythontutor.com/visualize.html#mode=edit\" target=\"_blank\">Python Tutor</a> visualization</div> \n",
       "    "
      ],
      "text/plain": [
       "<IPython.core.display.HTML object>"
      ]
     },
     "execution_count": 2,
     "metadata": {},
     "output_type": "execute_result"
    }
   ],
   "source": [
    "#jupman-purge-input\n",
    "#jupman-purge-text-output\n",
    "for carattere in \"trota\":\n",
    "    print(carattere)\n",
    "conf.jm.python_tutor()"
   ]
  },
  {
   "cell_type": "markdown",
   "id": "c0c25883",
   "metadata": {
    "slideshow": {
     "slide_type": "slide"
    }
   },
   "source": [
    "## Iterare liste con range\n",
    "\n",
    "[Esercizi for 3: liste](https://it.softpython.org/for/for3-sol.html)"
   ]
  },
  {
   "cell_type": "code",
   "execution_count": 3,
   "id": "b021a3ef",
   "metadata": {
    "slideshow": {
     "slide_type": "-"
    }
   },
   "outputs": [
    {
     "name": "stdout",
     "output_type": "stream",
     "text": [
      "['OCCHIO', 'ALLE', 'MUTAZIONI']\n"
     ]
    },
    {
     "data": {
      "text/html": [
       "        \n",
       "        <script src=\"../_static/js/pytutor-embed.bundle.min.js\" #type=\"application/javascript\"></script>\n",
       "    \n",
       "        <style>\n",
       "        @import \"../_static/css/jupman.css\";\n",
       "        </style>\n",
       "     \n",
       "        <script id=\"trace-jm-f06214e122a394707766f7265e5d1fa4-5\" type=\"application/json\" >\n",
       "            {\"code\": \" \\nparole=['Occhio','alle','mutazioni']\\nfor i in range(len(parole)):\\n    parole[i] = parole[i].upper()\\nprint(parole)\", \"trace\": [{\"line\": 2, \"event\": \"step_line\", \"func_name\": \"<module>\", \"globals\": {}, \"ordered_globals\": [], \"stack_to_render\": [], \"heap\": {}, \"stdout\": \"\"}, {\"line\": 3, \"event\": \"step_line\", \"func_name\": \"<module>\", \"globals\": {\"parole\": [\"REF\", 1]}, \"ordered_globals\": [\"parole\"], \"stack_to_render\": [], \"heap\": {\"1\": [\"LIST\", \"Occhio\", \"alle\", \"mutazioni\"]}, \"stdout\": \"\"}, {\"line\": 4, \"event\": \"step_line\", \"func_name\": \"<module>\", \"globals\": {\"parole\": [\"REF\", 1], \"i\": 0}, \"ordered_globals\": [\"parole\", \"i\"], \"stack_to_render\": [], \"heap\": {\"1\": [\"LIST\", \"Occhio\", \"alle\", \"mutazioni\"]}, \"stdout\": \"\"}, {\"line\": 3, \"event\": \"step_line\", \"func_name\": \"<module>\", \"globals\": {\"parole\": [\"REF\", 1], \"i\": 0}, \"ordered_globals\": [\"parole\", \"i\"], \"stack_to_render\": [], \"heap\": {\"1\": [\"LIST\", \"OCCHIO\", \"alle\", \"mutazioni\"]}, \"stdout\": \"\"}, {\"line\": 4, \"event\": \"step_line\", \"func_name\": \"<module>\", \"globals\": {\"parole\": [\"REF\", 1], \"i\": 1}, \"ordered_globals\": [\"parole\", \"i\"], \"stack_to_render\": [], \"heap\": {\"1\": [\"LIST\", \"OCCHIO\", \"alle\", \"mutazioni\"]}, \"stdout\": \"\"}, {\"line\": 3, \"event\": \"step_line\", \"func_name\": \"<module>\", \"globals\": {\"parole\": [\"REF\", 1], \"i\": 1}, \"ordered_globals\": [\"parole\", \"i\"], \"stack_to_render\": [], \"heap\": {\"1\": [\"LIST\", \"OCCHIO\", \"ALLE\", \"mutazioni\"]}, \"stdout\": \"\"}, {\"line\": 4, \"event\": \"step_line\", \"func_name\": \"<module>\", \"globals\": {\"parole\": [\"REF\", 1], \"i\": 2}, \"ordered_globals\": [\"parole\", \"i\"], \"stack_to_render\": [], \"heap\": {\"1\": [\"LIST\", \"OCCHIO\", \"ALLE\", \"mutazioni\"]}, \"stdout\": \"\"}, {\"line\": 3, \"event\": \"step_line\", \"func_name\": \"<module>\", \"globals\": {\"parole\": [\"REF\", 1], \"i\": 2}, \"ordered_globals\": [\"parole\", \"i\"], \"stack_to_render\": [], \"heap\": {\"1\": [\"LIST\", \"OCCHIO\", \"ALLE\", \"MUTAZIONI\"]}, \"stdout\": \"\"}, {\"line\": 5, \"event\": \"step_line\", \"func_name\": \"<module>\", \"globals\": {\"parole\": [\"REF\", 1], \"i\": 2}, \"ordered_globals\": [\"parole\", \"i\"], \"stack_to_render\": [], \"heap\": {\"1\": [\"LIST\", \"OCCHIO\", \"ALLE\", \"MUTAZIONI\"]}, \"stdout\": \"\"}, {\"line\": 5, \"event\": \"return\", \"func_name\": \"<module>\", \"globals\": {\"parole\": [\"REF\", 1], \"i\": 2}, \"ordered_globals\": [\"parole\", \"i\"], \"stack_to_render\": [], \"heap\": {\"1\": [\"LIST\", \"OCCHIO\", \"ALLE\", \"MUTAZIONI\"]}, \"stdout\": \"['OCCHIO', 'ALLE', 'MUTAZIONI']\\n\"}]}\n",
       "        </script>\n",
       "        <div id=\"jm-f06214e122a394707766f7265e5d1fa4-5\" class=\"pytutorVisualizer\"> </div>\n",
       "                            \n",
       "        <script>\n",
       "                          \n",
       "        var jmRenderPytut = function(trace_id, div_id, config){\n",
       "            console.log(\"jupman.py embedded javascript: rendering Python tutor visualizer...\")\n",
       "            \n",
       "            let oldAlert = window.alert;\n",
       "            window.alert = function ( text ) { \n",
       "                console.log( 'tried to alert: ', text );         \n",
       "                return true; \n",
       "            };\n",
       "            let executionVisualizer = null;\n",
       "            try {\n",
       "            \n",
       "                var trace = JSON.parse(document.getElementById(trace_id).innerHTML);                                        \n",
       "                // NOTE: id without #\n",
       "                        \n",
       "                executionVisualizer = addVisualizerToPage(trace, div_id, config);\n",
       "                // hack in case visualizer decides to hide them for no good reason\n",
       "                $('#' + div_id + ' #jmpFirstInstr').show();\n",
       "                $('#' + div_id + ' #jmpLastInstr').show();\n",
       "                \n",
       "                // set overflow for pytuts - need to do in python as css \n",
       "                // does not allow parent selection\n",
       "                var pytuts = $('.pytutorVisualizer');\n",
       "                pytuts.closest('div.output_html.rendered_html.output_result')\n",
       "                        .css('overflow-x', 'visible');\n",
       "            \n",
       "                //pytuts.closest('div.output_html.rendered_html.output_result')\n",
       "                //      .css('background-color','red');                \n",
       "            } catch (error) {\n",
       "                console.error(\"jupman slides: Couldn't visualize Python tutor properly\", error);\n",
       "            }\n",
       "            window.alert = oldAlert;\n",
       "            return executionVisualizer;\n",
       "            \n",
       "        };\n",
       "        </script>\n",
       "        \n",
       "        <script>\n",
       "        var pytut_cfg_f06214e122a394707766f7265e5d1fa4_5 = (function(){\n",
       "            var rootFontSize = window.getComputedStyle(document.body).getPropertyValue('font-size');\n",
       "            var rootFontSizeNum = 12;\n",
       "            if (rootFontSize.endsWith('px')){\n",
       "                rootFontSizeNum = Number(rootFontSize.substring(0, rootFontSize.length-2));\n",
       "            } else {\n",
       "                console.error(\"Unrecognized font unit:\", rootFontSize, \"assuming default\", rootFontSizeNum);\n",
       "            }\n",
       "            console.log('rootFontSize', rootFontSize);\n",
       "            \n",
       "            var codeWidthInChars = Math.max(23, 36);\n",
       "            if (30){\n",
       "                codeWidthInChars = 30;    // override\n",
       "            }\n",
       "            return {'embeddedMode' : false,\n",
       "                  'disableHeapNesting': true,\n",
       "                  'visualizerIdOverride':'viz-jm-f06214e122a394707766f7265e5d1fa4-5',\n",
       "                  'codeDivWidth': Math.trunc(rootFontSizeNum * codeWidthInChars)\n",
       "                  };\n",
       "        })();                 \n",
       "        \n",
       "        jmRenderPytut('trace-jm-f06214e122a394707766f7265e5d1fa4-5', 'jm-f06214e122a394707766f7265e5d1fa4-5', pytut_cfg_f06214e122a394707766f7265e5d1fa4_5);\n",
       "        </script>\n",
       "                \n",
       "    \n",
       "    <div style=\"text-align:center; font-size:0.9em\"> <a href=\"https://pythontutor.com/visualize.html#mode=edit\" target=\"_blank\">Python Tutor</a> visualization</div> \n",
       "    "
      ],
      "text/plain": [
       "<IPython.core.display.HTML object>"
      ]
     },
     "execution_count": 3,
     "metadata": {},
     "output_type": "execute_result"
    }
   ],
   "source": [
    "#jupman-purge-input\n",
    "#jupman-purge-text-output\n",
    "parole=['Occhio','alle','mutazioni']\n",
    "for i in range(len(parole)):\n",
    "    parole[i] = parole[i].upper()\n",
    "print(parole)\n",
    "conf.jm.python_tutor(text_length=30)"
   ]
  },
  {
   "cell_type": "markdown",
   "id": "f994e58e",
   "metadata": {
    "slideshow": {
     "slide_type": "slide"
    }
   },
   "source": [
    "## Iterare tuple\n",
    "\n",
    "[Esercizi for 4: tuple](https://it.softpython.org/for/for4-sol.html)"
   ]
  },
  {
   "cell_type": "code",
   "execution_count": 4,
   "id": "6c555674",
   "metadata": {
    "slideshow": {
     "slide_type": "-"
    }
   },
   "outputs": [
    {
     "name": "stdout",
     "output_type": "stream",
     "text": [
      "artisti\n",
      "di\n",
      "strada\n"
     ]
    },
    {
     "data": {
      "text/html": [
       "        \n",
       "        <script src=\"../_static/js/pytutor-embed.bundle.min.js\" #type=\"application/javascript\"></script>\n",
       "    \n",
       "        <style>\n",
       "        @import \"../_static/css/jupman.css\";\n",
       "        </style>\n",
       "     \n",
       "        <script id=\"trace-jm-81980b9f938fa940894860d35ee417d9-6\" type=\"application/json\" >\n",
       "            {\"code\": \" \\nparole = ('artisti','di','strada')\\nfor parola in parole:\\n    print(parola)\", \"trace\": [{\"line\": 2, \"event\": \"step_line\", \"func_name\": \"<module>\", \"globals\": {}, \"ordered_globals\": [], \"stack_to_render\": [], \"heap\": {}, \"stdout\": \"\"}, {\"line\": 3, \"event\": \"step_line\", \"func_name\": \"<module>\", \"globals\": {\"parole\": [\"REF\", 1]}, \"ordered_globals\": [\"parole\"], \"stack_to_render\": [], \"heap\": {\"1\": [\"TUPLE\", \"artisti\", \"di\", \"strada\"]}, \"stdout\": \"\"}, {\"line\": 4, \"event\": \"step_line\", \"func_name\": \"<module>\", \"globals\": {\"parole\": [\"REF\", 1], \"parola\": \"artisti\"}, \"ordered_globals\": [\"parole\", \"parola\"], \"stack_to_render\": [], \"heap\": {\"1\": [\"TUPLE\", \"artisti\", \"di\", \"strada\"]}, \"stdout\": \"\"}, {\"line\": 3, \"event\": \"step_line\", \"func_name\": \"<module>\", \"globals\": {\"parole\": [\"REF\", 1], \"parola\": \"artisti\"}, \"ordered_globals\": [\"parole\", \"parola\"], \"stack_to_render\": [], \"heap\": {\"1\": [\"TUPLE\", \"artisti\", \"di\", \"strada\"]}, \"stdout\": \"artisti\\n\"}, {\"line\": 4, \"event\": \"step_line\", \"func_name\": \"<module>\", \"globals\": {\"parole\": [\"REF\", 1], \"parola\": \"di\"}, \"ordered_globals\": [\"parole\", \"parola\"], \"stack_to_render\": [], \"heap\": {\"1\": [\"TUPLE\", \"artisti\", \"di\", \"strada\"]}, \"stdout\": \"artisti\\n\"}, {\"line\": 3, \"event\": \"step_line\", \"func_name\": \"<module>\", \"globals\": {\"parole\": [\"REF\", 1], \"parola\": \"di\"}, \"ordered_globals\": [\"parole\", \"parola\"], \"stack_to_render\": [], \"heap\": {\"1\": [\"TUPLE\", \"artisti\", \"di\", \"strada\"]}, \"stdout\": \"artisti\\ndi\\n\"}, {\"line\": 4, \"event\": \"step_line\", \"func_name\": \"<module>\", \"globals\": {\"parole\": [\"REF\", 1], \"parola\": \"strada\"}, \"ordered_globals\": [\"parole\", \"parola\"], \"stack_to_render\": [], \"heap\": {\"1\": [\"TUPLE\", \"artisti\", \"di\", \"strada\"]}, \"stdout\": \"artisti\\ndi\\n\"}, {\"line\": 3, \"event\": \"step_line\", \"func_name\": \"<module>\", \"globals\": {\"parole\": [\"REF\", 1], \"parola\": \"strada\"}, \"ordered_globals\": [\"parole\", \"parola\"], \"stack_to_render\": [], \"heap\": {\"1\": [\"TUPLE\", \"artisti\", \"di\", \"strada\"]}, \"stdout\": \"artisti\\ndi\\nstrada\\n\"}, {\"line\": 3, \"event\": \"return\", \"func_name\": \"<module>\", \"globals\": {\"parole\": [\"REF\", 1], \"parola\": \"strada\"}, \"ordered_globals\": [\"parole\", \"parola\"], \"stack_to_render\": [], \"heap\": {\"1\": [\"TUPLE\", \"artisti\", \"di\", \"strada\"]}, \"stdout\": \"artisti\\ndi\\nstrada\\n\"}]}\n",
       "        </script>\n",
       "        <div id=\"jm-81980b9f938fa940894860d35ee417d9-6\" class=\"pytutorVisualizer\"> </div>\n",
       "                            \n",
       "        <script>\n",
       "                          \n",
       "        var jmRenderPytut = function(trace_id, div_id, config){\n",
       "            console.log(\"jupman.py embedded javascript: rendering Python tutor visualizer...\")\n",
       "            \n",
       "            let oldAlert = window.alert;\n",
       "            window.alert = function ( text ) { \n",
       "                console.log( 'tried to alert: ', text );         \n",
       "                return true; \n",
       "            };\n",
       "            let executionVisualizer = null;\n",
       "            try {\n",
       "            \n",
       "                var trace = JSON.parse(document.getElementById(trace_id).innerHTML);                                        \n",
       "                // NOTE: id without #\n",
       "                        \n",
       "                executionVisualizer = addVisualizerToPage(trace, div_id, config);\n",
       "                // hack in case visualizer decides to hide them for no good reason\n",
       "                $('#' + div_id + ' #jmpFirstInstr').show();\n",
       "                $('#' + div_id + ' #jmpLastInstr').show();\n",
       "                \n",
       "                // set overflow for pytuts - need to do in python as css \n",
       "                // does not allow parent selection\n",
       "                var pytuts = $('.pytutorVisualizer');\n",
       "                pytuts.closest('div.output_html.rendered_html.output_result')\n",
       "                        .css('overflow-x', 'visible');\n",
       "            \n",
       "                //pytuts.closest('div.output_html.rendered_html.output_result')\n",
       "                //      .css('background-color','red');                \n",
       "            } catch (error) {\n",
       "                console.error(\"jupman slides: Couldn't visualize Python tutor properly\", error);\n",
       "            }\n",
       "            window.alert = oldAlert;\n",
       "            return executionVisualizer;\n",
       "            \n",
       "        };\n",
       "        </script>\n",
       "        \n",
       "        <script>\n",
       "        var pytut_cfg_81980b9f938fa940894860d35ee417d9_6 = (function(){\n",
       "            var rootFontSize = window.getComputedStyle(document.body).getPropertyValue('font-size');\n",
       "            var rootFontSizeNum = 12;\n",
       "            if (rootFontSize.endsWith('px')){\n",
       "                rootFontSizeNum = Number(rootFontSize.substring(0, rootFontSize.length-2));\n",
       "            } else {\n",
       "                console.error(\"Unrecognized font unit:\", rootFontSize, \"assuming default\", rootFontSizeNum);\n",
       "            }\n",
       "            console.log('rootFontSize', rootFontSize);\n",
       "            \n",
       "            var codeWidthInChars = Math.max(23, 34);\n",
       "            if (28){\n",
       "                codeWidthInChars = 28;    // override\n",
       "            }\n",
       "            return {'embeddedMode' : false,\n",
       "                  'disableHeapNesting': true,\n",
       "                  'visualizerIdOverride':'viz-jm-81980b9f938fa940894860d35ee417d9-6',\n",
       "                  'codeDivWidth': Math.trunc(rootFontSizeNum * codeWidthInChars)\n",
       "                  };\n",
       "        })();                 \n",
       "        \n",
       "        jmRenderPytut('trace-jm-81980b9f938fa940894860d35ee417d9-6', 'jm-81980b9f938fa940894860d35ee417d9-6', pytut_cfg_81980b9f938fa940894860d35ee417d9_6);\n",
       "        </script>\n",
       "                \n",
       "    \n",
       "    <div style=\"text-align:center; font-size:0.9em\"> <a href=\"https://pythontutor.com/visualize.html#mode=edit\" target=\"_blank\">Python Tutor</a> visualization</div> \n",
       "    "
      ],
      "text/plain": [
       "<IPython.core.display.HTML object>"
      ]
     },
     "execution_count": 4,
     "metadata": {},
     "output_type": "execute_result"
    }
   ],
   "source": [
    "#jupman-purge-input\n",
    "#jupman-purge-text-output\n",
    "parole = ('artisti','di','strada')\n",
    "for parola in parole:\n",
    "    print(parola)\n",
    "conf.jm.python_tutor(text_length=28)"
   ]
  },
  {
   "cell_type": "markdown",
   "id": "bb92784b",
   "metadata": {
    "slideshow": {
     "slide_type": "slide"
    }
   },
   "source": [
    "## Iterare Insiemi\n",
    "\n",
    "[Esercizi for 5: insiemi](https://it.softpython.org/for/for5-sol.html)"
   ]
  },
  {
   "cell_type": "code",
   "execution_count": 5,
   "id": "b5d73ed5",
   "metadata": {
    "slideshow": {
     "slide_type": "-"
    }
   },
   "outputs": [
    {
     "name": "stdout",
     "output_type": "stream",
     "text": [
      "è\n",
      "insieme\n",
      "questo\n",
      "un\n"
     ]
    },
    {
     "data": {
      "text/html": [
       "        \n",
       "        <script src=\"../_static/js/pytutor-embed.bundle.min.js\" #type=\"application/javascript\"></script>\n",
       "    \n",
       "        <style>\n",
       "        @import \"../_static/css/jupman.css\";\n",
       "        </style>\n",
       "     \n",
       "        <script id=\"trace-jm-5f8f7be523e565c1f305a7845ae5a09e-7\" type=\"application/json\" >\n",
       "            {\"code\": \" \\ns={'questo','\\u00e8','un','insieme'}\\nfor elemento in s:\\n    print(elemento)\", \"trace\": [{\"line\": 2, \"event\": \"step_line\", \"func_name\": \"<module>\", \"globals\": {}, \"ordered_globals\": [], \"stack_to_render\": [], \"heap\": {}, \"stdout\": \"\"}, {\"line\": 3, \"event\": \"step_line\", \"func_name\": \"<module>\", \"globals\": {\"s\": [\"REF\", 1]}, \"ordered_globals\": [\"s\"], \"stack_to_render\": [], \"heap\": {\"1\": [\"SET\", \"\\u00e8\", \"insieme\", \"questo\", \"un\"]}, \"stdout\": \"\"}, {\"line\": 4, \"event\": \"step_line\", \"func_name\": \"<module>\", \"globals\": {\"s\": [\"REF\", 1], \"elemento\": \"\\u00e8\"}, \"ordered_globals\": [\"s\", \"elemento\"], \"stack_to_render\": [], \"heap\": {\"1\": [\"SET\", \"\\u00e8\", \"insieme\", \"questo\", \"un\"]}, \"stdout\": \"\"}, {\"line\": 3, \"event\": \"step_line\", \"func_name\": \"<module>\", \"globals\": {\"s\": [\"REF\", 1], \"elemento\": \"\\u00e8\"}, \"ordered_globals\": [\"s\", \"elemento\"], \"stack_to_render\": [], \"heap\": {\"1\": [\"SET\", \"\\u00e8\", \"insieme\", \"questo\", \"un\"]}, \"stdout\": \"\\u00e8\\n\"}, {\"line\": 4, \"event\": \"step_line\", \"func_name\": \"<module>\", \"globals\": {\"s\": [\"REF\", 1], \"elemento\": \"insieme\"}, \"ordered_globals\": [\"s\", \"elemento\"], \"stack_to_render\": [], \"heap\": {\"1\": [\"SET\", \"\\u00e8\", \"insieme\", \"questo\", \"un\"]}, \"stdout\": \"\\u00e8\\n\"}, {\"line\": 3, \"event\": \"step_line\", \"func_name\": \"<module>\", \"globals\": {\"s\": [\"REF\", 1], \"elemento\": \"insieme\"}, \"ordered_globals\": [\"s\", \"elemento\"], \"stack_to_render\": [], \"heap\": {\"1\": [\"SET\", \"\\u00e8\", \"insieme\", \"questo\", \"un\"]}, \"stdout\": \"\\u00e8\\ninsieme\\n\"}, {\"line\": 4, \"event\": \"step_line\", \"func_name\": \"<module>\", \"globals\": {\"s\": [\"REF\", 1], \"elemento\": \"questo\"}, \"ordered_globals\": [\"s\", \"elemento\"], \"stack_to_render\": [], \"heap\": {\"1\": [\"SET\", \"\\u00e8\", \"insieme\", \"questo\", \"un\"]}, \"stdout\": \"\\u00e8\\ninsieme\\n\"}, {\"line\": 3, \"event\": \"step_line\", \"func_name\": \"<module>\", \"globals\": {\"s\": [\"REF\", 1], \"elemento\": \"questo\"}, \"ordered_globals\": [\"s\", \"elemento\"], \"stack_to_render\": [], \"heap\": {\"1\": [\"SET\", \"\\u00e8\", \"insieme\", \"questo\", \"un\"]}, \"stdout\": \"\\u00e8\\ninsieme\\nquesto\\n\"}, {\"line\": 4, \"event\": \"step_line\", \"func_name\": \"<module>\", \"globals\": {\"s\": [\"REF\", 1], \"elemento\": \"un\"}, \"ordered_globals\": [\"s\", \"elemento\"], \"stack_to_render\": [], \"heap\": {\"1\": [\"SET\", \"\\u00e8\", \"insieme\", \"questo\", \"un\"]}, \"stdout\": \"\\u00e8\\ninsieme\\nquesto\\n\"}, {\"line\": 3, \"event\": \"step_line\", \"func_name\": \"<module>\", \"globals\": {\"s\": [\"REF\", 1], \"elemento\": \"un\"}, \"ordered_globals\": [\"s\", \"elemento\"], \"stack_to_render\": [], \"heap\": {\"1\": [\"SET\", \"\\u00e8\", \"insieme\", \"questo\", \"un\"]}, \"stdout\": \"\\u00e8\\ninsieme\\nquesto\\nun\\n\"}, {\"line\": 3, \"event\": \"return\", \"func_name\": \"<module>\", \"globals\": {\"s\": [\"REF\", 1], \"elemento\": \"un\"}, \"ordered_globals\": [\"s\", \"elemento\"], \"stack_to_render\": [], \"heap\": {\"1\": [\"SET\", \"\\u00e8\", \"insieme\", \"questo\", \"un\"]}, \"stdout\": \"\\u00e8\\ninsieme\\nquesto\\nun\\n\"}]}\n",
       "        </script>\n",
       "        <div id=\"jm-5f8f7be523e565c1f305a7845ae5a09e-7\" class=\"pytutorVisualizer\"> </div>\n",
       "                            \n",
       "        <script>\n",
       "                          \n",
       "        var jmRenderPytut = function(trace_id, div_id, config){\n",
       "            console.log(\"jupman.py embedded javascript: rendering Python tutor visualizer...\")\n",
       "            \n",
       "            let oldAlert = window.alert;\n",
       "            window.alert = function ( text ) { \n",
       "                console.log( 'tried to alert: ', text );         \n",
       "                return true; \n",
       "            };\n",
       "            let executionVisualizer = null;\n",
       "            try {\n",
       "            \n",
       "                var trace = JSON.parse(document.getElementById(trace_id).innerHTML);                                        \n",
       "                // NOTE: id without #\n",
       "                        \n",
       "                executionVisualizer = addVisualizerToPage(trace, div_id, config);\n",
       "                // hack in case visualizer decides to hide them for no good reason\n",
       "                $('#' + div_id + ' #jmpFirstInstr').show();\n",
       "                $('#' + div_id + ' #jmpLastInstr').show();\n",
       "                \n",
       "                // set overflow for pytuts - need to do in python as css \n",
       "                // does not allow parent selection\n",
       "                var pytuts = $('.pytutorVisualizer');\n",
       "                pytuts.closest('div.output_html.rendered_html.output_result')\n",
       "                        .css('overflow-x', 'visible');\n",
       "            \n",
       "                //pytuts.closest('div.output_html.rendered_html.output_result')\n",
       "                //      .css('background-color','red');                \n",
       "            } catch (error) {\n",
       "                console.error(\"jupman slides: Couldn't visualize Python tutor properly\", error);\n",
       "            }\n",
       "            window.alert = oldAlert;\n",
       "            return executionVisualizer;\n",
       "            \n",
       "        };\n",
       "        </script>\n",
       "        \n",
       "        <script>\n",
       "        var pytut_cfg_5f8f7be523e565c1f305a7845ae5a09e_7 = (function(){\n",
       "            var rootFontSize = window.getComputedStyle(document.body).getPropertyValue('font-size');\n",
       "            var rootFontSizeNum = 12;\n",
       "            if (rootFontSize.endsWith('px')){\n",
       "                rootFontSizeNum = Number(rootFontSize.substring(0, rootFontSize.length-2));\n",
       "            } else {\n",
       "                console.error(\"Unrecognized font unit:\", rootFontSize, \"assuming default\", rootFontSizeNum);\n",
       "            }\n",
       "            console.log('rootFontSize', rootFontSize);\n",
       "            \n",
       "            var codeWidthInChars = Math.max(23, 31);\n",
       "            if (28){\n",
       "                codeWidthInChars = 28;    // override\n",
       "            }\n",
       "            return {'embeddedMode' : false,\n",
       "                  'disableHeapNesting': true,\n",
       "                  'visualizerIdOverride':'viz-jm-5f8f7be523e565c1f305a7845ae5a09e-7',\n",
       "                  'codeDivWidth': Math.trunc(rootFontSizeNum * codeWidthInChars)\n",
       "                  };\n",
       "        })();                 \n",
       "        \n",
       "        jmRenderPytut('trace-jm-5f8f7be523e565c1f305a7845ae5a09e-7', 'jm-5f8f7be523e565c1f305a7845ae5a09e-7', pytut_cfg_5f8f7be523e565c1f305a7845ae5a09e_7);\n",
       "        </script>\n",
       "                \n",
       "    \n",
       "    <div style=\"text-align:center; font-size:0.9em\"> <a href=\"https://pythontutor.com/visualize.html#mode=edit\" target=\"_blank\">Python Tutor</a> visualization</div> \n",
       "    "
      ],
      "text/plain": [
       "<IPython.core.display.HTML object>"
      ]
     },
     "execution_count": 5,
     "metadata": {},
     "output_type": "execute_result"
    }
   ],
   "source": [
    "#jupman-purge-input\n",
    "#jupman-purge-text-output\n",
    "s={'questo','è','un','insieme'}\n",
    "for elemento in s:\n",
    "    print(elemento)\n",
    "conf.jm.python_tutor(text_length=28)"
   ]
  },
  {
   "cell_type": "markdown",
   "id": "d509f4f7",
   "metadata": {
    "slideshow": {
     "slide_type": "fragment"
    }
   },
   "source": [
    "<div class=\"alert alert-warning\">\n",
    "    \n",
    "**ATTENZIONE: l’ordine di iterazione negli insiemi** [non è prevedibile !](https://it.softpython.org/sets/sets-sol.html#Creare-un-insieme)\n",
    "\n",
    "</div>"
   ]
  },
  {
   "cell_type": "markdown",
   "id": "57f2d07e",
   "metadata": {
    "slideshow": {
     "slide_type": "slide"
    }
   },
   "source": [
    "## Iterare dizionari [Esercizi for 6](https://it.softpython.org/for/for6-sol.html)\n",
    "\n",
    "<div class=\"alert alert-warning\">\n",
    "\n",
    "**ATTENZIONE: l’ordine di iterazione delle chiavi non è prevedibile !**\n",
    "\n",
    "</div>"
   ]
  },
  {
   "cell_type": "code",
   "execution_count": 6,
   "id": "82007f5f",
   "metadata": {
    "slideshow": {
     "slide_type": "-"
    }
   },
   "outputs": [
    {
     "name": "stdout",
     "output_type": "stream",
     "text": [
      "Trovata chiave bignè\n",
      "    con valore 5\n",
      "Trovata chiave brioche\n",
      "    con valore 8\n",
      "Trovata chiave krapfen\n",
      "    con valore 2\n"
     ]
    },
    {
     "data": {
      "text/html": [
       "        \n",
       "        <script src=\"../_static/js/pytutor-embed.bundle.min.js\" #type=\"application/javascript\"></script>\n",
       "    \n",
       "        <style>\n",
       "        @import \"../_static/css/jupman.css\";\n",
       "        </style>\n",
       "     \n",
       "        <script id=\"trace-jm-5751d11bdeba7d5400b513c1c1416f05-8\" type=\"application/json\" >\n",
       "            {\"code\": \" \\ndiz = {\\n    'bign\\u00e8':5,\\n    'brioche':8,\\n    'krapfen':2\\n}\\nfor chiave in diz:\\n    print('Trovata chiave', chiave)\\n    print('    con valore', diz[chiave])\", \"trace\": [{\"line\": 3, \"event\": \"step_line\", \"func_name\": \"<module>\", \"globals\": {}, \"ordered_globals\": [], \"stack_to_render\": [], \"heap\": {}, \"stdout\": \"\"}, {\"line\": 4, \"event\": \"step_line\", \"func_name\": \"<module>\", \"globals\": {}, \"ordered_globals\": [], \"stack_to_render\": [], \"heap\": {}, \"stdout\": \"\"}, {\"line\": 5, \"event\": \"step_line\", \"func_name\": \"<module>\", \"globals\": {}, \"ordered_globals\": [], \"stack_to_render\": [], \"heap\": {}, \"stdout\": \"\"}, {\"line\": 7, \"event\": \"step_line\", \"func_name\": \"<module>\", \"globals\": {\"diz\": [\"REF\", 1]}, \"ordered_globals\": [\"diz\"], \"stack_to_render\": [], \"heap\": {\"1\": [\"DICT\", [\"bign\\u00e8\", 5], [\"brioche\", 8], [\"krapfen\", 2]]}, \"stdout\": \"\"}, {\"line\": 8, \"event\": \"step_line\", \"func_name\": \"<module>\", \"globals\": {\"diz\": [\"REF\", 1], \"chiave\": \"bign\\u00e8\"}, \"ordered_globals\": [\"diz\", \"chiave\"], \"stack_to_render\": [], \"heap\": {\"1\": [\"DICT\", [\"bign\\u00e8\", 5], [\"brioche\", 8], [\"krapfen\", 2]]}, \"stdout\": \"\"}, {\"line\": 9, \"event\": \"step_line\", \"func_name\": \"<module>\", \"globals\": {\"diz\": [\"REF\", 1], \"chiave\": \"bign\\u00e8\"}, \"ordered_globals\": [\"diz\", \"chiave\"], \"stack_to_render\": [], \"heap\": {\"1\": [\"DICT\", [\"bign\\u00e8\", 5], [\"brioche\", 8], [\"krapfen\", 2]]}, \"stdout\": \"Trovata chiave bign\\u00e8\\n\"}, {\"line\": 7, \"event\": \"step_line\", \"func_name\": \"<module>\", \"globals\": {\"diz\": [\"REF\", 1], \"chiave\": \"bign\\u00e8\"}, \"ordered_globals\": [\"diz\", \"chiave\"], \"stack_to_render\": [], \"heap\": {\"1\": [\"DICT\", [\"bign\\u00e8\", 5], [\"brioche\", 8], [\"krapfen\", 2]]}, \"stdout\": \"Trovata chiave bign\\u00e8\\n    con valore 5\\n\"}, {\"line\": 8, \"event\": \"step_line\", \"func_name\": \"<module>\", \"globals\": {\"diz\": [\"REF\", 1], \"chiave\": \"brioche\"}, \"ordered_globals\": [\"diz\", \"chiave\"], \"stack_to_render\": [], \"heap\": {\"1\": [\"DICT\", [\"bign\\u00e8\", 5], [\"brioche\", 8], [\"krapfen\", 2]]}, \"stdout\": \"Trovata chiave bign\\u00e8\\n    con valore 5\\n\"}, {\"line\": 9, \"event\": \"step_line\", \"func_name\": \"<module>\", \"globals\": {\"diz\": [\"REF\", 1], \"chiave\": \"brioche\"}, \"ordered_globals\": [\"diz\", \"chiave\"], \"stack_to_render\": [], \"heap\": {\"1\": [\"DICT\", [\"bign\\u00e8\", 5], [\"brioche\", 8], [\"krapfen\", 2]]}, \"stdout\": \"Trovata chiave bign\\u00e8\\n    con valore 5\\nTrovata chiave brioche\\n\"}, {\"line\": 7, \"event\": \"step_line\", \"func_name\": \"<module>\", \"globals\": {\"diz\": [\"REF\", 1], \"chiave\": \"brioche\"}, \"ordered_globals\": [\"diz\", \"chiave\"], \"stack_to_render\": [], \"heap\": {\"1\": [\"DICT\", [\"bign\\u00e8\", 5], [\"brioche\", 8], [\"krapfen\", 2]]}, \"stdout\": \"Trovata chiave bign\\u00e8\\n    con valore 5\\nTrovata chiave brioche\\n    con valore 8\\n\"}, {\"line\": 8, \"event\": \"step_line\", \"func_name\": \"<module>\", \"globals\": {\"diz\": [\"REF\", 1], \"chiave\": \"krapfen\"}, \"ordered_globals\": [\"diz\", \"chiave\"], \"stack_to_render\": [], \"heap\": {\"1\": [\"DICT\", [\"bign\\u00e8\", 5], [\"brioche\", 8], [\"krapfen\", 2]]}, \"stdout\": \"Trovata chiave bign\\u00e8\\n    con valore 5\\nTrovata chiave brioche\\n    con valore 8\\n\"}, {\"line\": 9, \"event\": \"step_line\", \"func_name\": \"<module>\", \"globals\": {\"diz\": [\"REF\", 1], \"chiave\": \"krapfen\"}, \"ordered_globals\": [\"diz\", \"chiave\"], \"stack_to_render\": [], \"heap\": {\"1\": [\"DICT\", [\"bign\\u00e8\", 5], [\"brioche\", 8], [\"krapfen\", 2]]}, \"stdout\": \"Trovata chiave bign\\u00e8\\n    con valore 5\\nTrovata chiave brioche\\n    con valore 8\\nTrovata chiave krapfen\\n\"}, {\"line\": 7, \"event\": \"step_line\", \"func_name\": \"<module>\", \"globals\": {\"diz\": [\"REF\", 1], \"chiave\": \"krapfen\"}, \"ordered_globals\": [\"diz\", \"chiave\"], \"stack_to_render\": [], \"heap\": {\"1\": [\"DICT\", [\"bign\\u00e8\", 5], [\"brioche\", 8], [\"krapfen\", 2]]}, \"stdout\": \"Trovata chiave bign\\u00e8\\n    con valore 5\\nTrovata chiave brioche\\n    con valore 8\\nTrovata chiave krapfen\\n    con valore 2\\n\"}, {\"line\": 7, \"event\": \"return\", \"func_name\": \"<module>\", \"globals\": {\"diz\": [\"REF\", 1], \"chiave\": \"krapfen\"}, \"ordered_globals\": [\"diz\", \"chiave\"], \"stack_to_render\": [], \"heap\": {\"1\": [\"DICT\", [\"bign\\u00e8\", 5], [\"brioche\", 8], [\"krapfen\", 2]]}, \"stdout\": \"Trovata chiave bign\\u00e8\\n    con valore 5\\nTrovata chiave brioche\\n    con valore 8\\nTrovata chiave krapfen\\n    con valore 2\\n\"}]}\n",
       "        </script>\n",
       "        <div id=\"jm-5751d11bdeba7d5400b513c1c1416f05-8\" class=\"pytutorVisualizer\"> </div>\n",
       "                            \n",
       "        <script>\n",
       "                          \n",
       "        var jmRenderPytut = function(trace_id, div_id, config){\n",
       "            console.log(\"jupman.py embedded javascript: rendering Python tutor visualizer...\")\n",
       "            \n",
       "            let oldAlert = window.alert;\n",
       "            window.alert = function ( text ) { \n",
       "                console.log( 'tried to alert: ', text );         \n",
       "                return true; \n",
       "            };\n",
       "            let executionVisualizer = null;\n",
       "            try {\n",
       "            \n",
       "                var trace = JSON.parse(document.getElementById(trace_id).innerHTML);                                        \n",
       "                // NOTE: id without #\n",
       "                        \n",
       "                executionVisualizer = addVisualizerToPage(trace, div_id, config);\n",
       "                // hack in case visualizer decides to hide them for no good reason\n",
       "                $('#' + div_id + ' #jmpFirstInstr').show();\n",
       "                $('#' + div_id + ' #jmpLastInstr').show();\n",
       "                \n",
       "                // set overflow for pytuts - need to do in python as css \n",
       "                // does not allow parent selection\n",
       "                var pytuts = $('.pytutorVisualizer');\n",
       "                pytuts.closest('div.output_html.rendered_html.output_result')\n",
       "                        .css('overflow-x', 'visible');\n",
       "            \n",
       "                //pytuts.closest('div.output_html.rendered_html.output_result')\n",
       "                //      .css('background-color','red');                \n",
       "            } catch (error) {\n",
       "                console.error(\"jupman slides: Couldn't visualize Python tutor properly\", error);\n",
       "            }\n",
       "            window.alert = oldAlert;\n",
       "            return executionVisualizer;\n",
       "            \n",
       "        };\n",
       "        </script>\n",
       "        \n",
       "        <script>\n",
       "        var pytut_cfg_5751d11bdeba7d5400b513c1c1416f05_8 = (function(){\n",
       "            var rootFontSize = window.getComputedStyle(document.body).getPropertyValue('font-size');\n",
       "            var rootFontSizeNum = 12;\n",
       "            if (rootFontSize.endsWith('px')){\n",
       "                rootFontSizeNum = Number(rootFontSize.substring(0, rootFontSize.length-2));\n",
       "            } else {\n",
       "                console.error(\"Unrecognized font unit:\", rootFontSize, \"assuming default\", rootFontSizeNum);\n",
       "            }\n",
       "            console.log('rootFontSize', rootFontSize);\n",
       "            \n",
       "            var codeWidthInChars = Math.max(23, 40);\n",
       "            if (33){\n",
       "                codeWidthInChars = 33;    // override\n",
       "            }\n",
       "            return {'embeddedMode' : false,\n",
       "                  'disableHeapNesting': true,\n",
       "                  'visualizerIdOverride':'viz-jm-5751d11bdeba7d5400b513c1c1416f05-8',\n",
       "                  'codeDivWidth': Math.trunc(rootFontSizeNum * codeWidthInChars)\n",
       "                  };\n",
       "        })();                 \n",
       "        \n",
       "        jmRenderPytut('trace-jm-5751d11bdeba7d5400b513c1c1416f05-8', 'jm-5751d11bdeba7d5400b513c1c1416f05-8', pytut_cfg_5751d11bdeba7d5400b513c1c1416f05_8);\n",
       "        </script>\n",
       "                \n",
       "    \n",
       "    <div style=\"text-align:center; font-size:0.9em\"> <a href=\"https://pythontutor.com/visualize.html#mode=edit\" target=\"_blank\">Python Tutor</a> visualization</div> \n",
       "    "
      ],
      "text/plain": [
       "<IPython.core.display.HTML object>"
      ]
     },
     "execution_count": 6,
     "metadata": {},
     "output_type": "execute_result"
    }
   ],
   "source": [
    "#jupman-purge-input\n",
    "#jupman-purge-text-output\n",
    "diz = {\n",
    "    'bignè':5,\n",
    "    'brioche':8,\n",
    "    'krapfen':2\n",
    "}\n",
    "for chiave in diz:\n",
    "    print('Trovata chiave', chiave)\n",
    "    print('    con valore', diz[chiave])\n",
    "conf.jm.python_tutor(text_length=33)"
   ]
  },
  {
   "cell_type": "markdown",
   "id": "d52c62c8",
   "metadata": {
    "slideshow": {
     "slide_type": "subslide"
    }
   },
   "source": [
    "### Che cosa stampa?"
   ]
  },
  {
   "cell_type": "code",
   "execution_count": 7,
   "id": "262f07e7",
   "metadata": {
    "slideshow": {
     "slide_type": "-"
    }
   },
   "outputs": [
    {
     "name": "stdout",
     "output_type": "stream",
     "text": [
      "3\n"
     ]
    }
   ],
   "source": [
    "#jupman-purge-output\n",
    "diz = {'a':1,'b':2,'c':3}\n",
    "for x in diz:\n",
    "    if x == 'c':\n",
    "        print(diz[x])"
   ]
  },
  {
   "cell_type": "markdown",
   "id": "61c8bbf4",
   "metadata": {
    "slideshow": {
     "slide_type": "fragment"
    }
   },
   "source": [
    "se lo trova: 3\n",
    "\n",
    "se non lo trova: non stampa niente"
   ]
  },
  {
   "cell_type": "markdown",
   "id": "18f29f31",
   "metadata": {
    "slideshow": {
     "slide_type": "fragment"
    }
   },
   "source": [
    "<div class=\"alert alert-warning\">\n",
    "    \n",
    "**DOMANDA: C'è un modo più efficiente di scrivere la ricerca?**\n",
    "</div>"
   ]
  },
  {
   "cell_type": "markdown",
   "id": "17e4aa95",
   "metadata": {
    "slideshow": {
     "slide_type": "subslide"
    }
   },
   "source": [
    "### Iterare coppie chiave valore"
   ]
  },
  {
   "cell_type": "code",
   "execution_count": 8,
   "id": "f755a66e",
   "metadata": {
    "slideshow": {
     "slide_type": "-"
    }
   },
   "outputs": [
    {
     "name": "stdout",
     "output_type": "stream",
     "text": [
      "Trovata chiave a\n",
      "    con valore 1\n",
      "Trovata chiave b\n",
      "    con valore 2\n",
      "Trovata chiave c\n",
      "    con valore 3\n"
     ]
    }
   ],
   "source": [
    "for chiave, valore in diz.items():\n",
    "    print('Trovata chiave', chiave)\n",
    "    print('    con valore', diz[chiave])\n"
   ]
  },
  {
   "cell_type": "markdown",
   "id": "f7c17fb8",
   "metadata": {
    "slideshow": {
     "slide_type": "fragment"
    }
   },
   "source": [
    "`.items()` ritorna una lista di coppie chiave/valore"
   ]
  },
  {
   "cell_type": "markdown",
   "id": "8505884d",
   "metadata": {
    "slideshow": {
     "slide_type": "fragment"
    }
   },
   "source": [
    "ad ogni iterazione una coppia viene assegnata alle variabili chiave e valore."
   ]
  },
  {
   "cell_type": "markdown",
   "id": "ca231fb6",
   "metadata": {
    "slideshow": {
     "slide_type": "fragment"
    }
   },
   "source": [
    "<div class=\"alert alert-warning\">\n",
    "\n",
    "**ATTENZIONE: anche l’ordine di iterazione dei valori non è prevedibile !**\n",
    "    \n",
    "</div>"
   ]
  },
  {
   "cell_type": "markdown",
   "id": "d3cef45d",
   "metadata": {
    "slideshow": {
     "slide_type": "subslide"
    }
   },
   "source": [
    "### Iterare valori"
   ]
  },
  {
   "cell_type": "code",
   "execution_count": 9,
   "id": "bd6b4a7e",
   "metadata": {
    "slideshow": {
     "slide_type": "-"
    }
   },
   "outputs": [
    {
     "name": "stdout",
     "output_type": "stream",
     "text": [
      "Trovato valore 5\n",
      "Trovato valore 8\n",
      "Trovato valore 2\n"
     ]
    }
   ],
   "source": [
    "diz = {\n",
    "    'bignè':5,\n",
    "    'brioche':8,\n",
    "    'krapfen':2\n",
    "}\n",
    "\n",
    "\n",
    "for valore in diz.values():\n",
    "    print('Trovato valore', valore)"
   ]
  },
  {
   "cell_type": "markdown",
   "id": "29eba757",
   "metadata": {
    "slideshow": {
     "slide_type": "fragment"
    }
   },
   "source": [
    "<div class=\"alert alert-warning\">\n",
    "\n",
    "**ATTENZIONE: anche l’ordine di iterazione dei valori non è prevedibile !**\n",
    "    \n",
    "</div>"
   ]
  },
  {
   "cell_type": "markdown",
   "id": "c202dea1",
   "metadata": {
    "slideshow": {
     "slide_type": "subslide"
    }
   },
   "source": [
    "### Dizionari: aggiungere/togliere durante l'iterazione"
   ]
  },
  {
   "cell_type": "markdown",
   "id": "c5756d5f",
   "metadata": {
    "slideshow": {
     "slide_type": "-"
    }
   },
   "source": [
    "```python\n",
    "province = {'tn': 'Trento',\n",
    "            'mi':'Milano',\n",
    "            'na':'Napoli',\n",
    "}\n",
    "for chiave in province:\n",
    "    province[chiave.upper()] = province[chiave]    # ATTENZIONE !\n",
    "```"
   ]
  },
  {
   "cell_type": "markdown",
   "id": "3da3ba60",
   "metadata": {
    "slideshow": {
     "slide_type": "fragment"
    }
   },
   "source": [
    "```python\n",
    "---------------------------------------------------------------------------\n",
    "RuntimeError                              Traceback (most recent call last)\n",
    "/tmp/ipykernel_9280/4163376861.py in <module>\n",
    "      4             'na':'Napoli',\n",
    "      5 }\n",
    "----> 6 for chiave in province:\n",
    "      7     province[chiave.upper()] = province[chiave]    # ATTENZIONE !\n",
    "  \n",
    "RuntimeError: dictionary changed size during iteration\n",
    "```"
   ]
  },
  {
   "cell_type": "markdown",
   "id": "40296979",
   "metadata": {
    "slideshow": {
     "slide_type": "slide"
    }
   },
   "source": [
    "## for annidati\n",
    "\n",
    "[Esercizi for 7](https://it.softpython.org/for/for7-sol.html)"
   ]
  },
  {
   "cell_type": "code",
   "execution_count": 10,
   "id": "9fc8b9c3",
   "metadata": {
    "slideshow": {
     "slide_type": "-"
    }
   },
   "outputs": [
    {
     "name": "stdout",
     "output_type": "stream",
     "text": [
      "  v\n",
      "  e\n",
      "  d\n",
      "  o\n",
      "-----\n",
      "  u\n",
      "  n\n",
      "  a\n",
      "-----\n",
      "  t\n",
      "  o\n",
      "  r\n",
      "  r\n",
      "  e\n",
      "-----\n"
     ]
    },
    {
     "data": {
      "text/html": [
       "        \n",
       "        <script src=\"../_static/js/pytutor-embed.bundle.min.js\" #type=\"application/javascript\"></script>\n",
       "    \n",
       "        <style>\n",
       "        @import \"../_static/css/jupman.css\";\n",
       "        </style>\n",
       "     \n",
       "        <script id=\"trace-jm-766a6c5786943e67d2204c7fcc24a68a-12\" type=\"application/json\" >\n",
       "            {\"code\": \" \\nparole = [\\\"vedo\\\",\\n          \\\"una\\\",\\n          \\\"torre\\\"]\\n\\nfor parola in parole:\\n    for carattere in parola:\\n        print(' ', carattere)\\n    print('-----')\", \"trace\": [{\"line\": 2, \"event\": \"step_line\", \"func_name\": \"<module>\", \"globals\": {}, \"ordered_globals\": [], \"stack_to_render\": [], \"heap\": {}, \"stdout\": \"\"}, {\"line\": 3, \"event\": \"step_line\", \"func_name\": \"<module>\", \"globals\": {}, \"ordered_globals\": [], \"stack_to_render\": [], \"heap\": {}, \"stdout\": \"\"}, {\"line\": 4, \"event\": \"step_line\", \"func_name\": \"<module>\", \"globals\": {}, \"ordered_globals\": [], \"stack_to_render\": [], \"heap\": {}, \"stdout\": \"\"}, {\"line\": 6, \"event\": \"step_line\", \"func_name\": \"<module>\", \"globals\": {\"parole\": [\"REF\", 1]}, \"ordered_globals\": [\"parole\"], \"stack_to_render\": [], \"heap\": {\"1\": [\"LIST\", \"vedo\", \"una\", \"torre\"]}, \"stdout\": \"\"}, {\"line\": 7, \"event\": \"step_line\", \"func_name\": \"<module>\", \"globals\": {\"parole\": [\"REF\", 1], \"parola\": \"vedo\"}, \"ordered_globals\": [\"parole\", \"parola\"], \"stack_to_render\": [], \"heap\": {\"1\": [\"LIST\", \"vedo\", \"una\", \"torre\"]}, \"stdout\": \"\"}, {\"line\": 8, \"event\": \"step_line\", \"func_name\": \"<module>\", \"globals\": {\"parole\": [\"REF\", 1], \"parola\": \"vedo\", \"carattere\": \"v\"}, \"ordered_globals\": [\"parole\", \"parola\", \"carattere\"], \"stack_to_render\": [], \"heap\": {\"1\": [\"LIST\", \"vedo\", \"una\", \"torre\"]}, \"stdout\": \"\"}, {\"line\": 7, \"event\": \"step_line\", \"func_name\": \"<module>\", \"globals\": {\"parole\": [\"REF\", 1], \"parola\": \"vedo\", \"carattere\": \"v\"}, \"ordered_globals\": [\"parole\", \"parola\", \"carattere\"], \"stack_to_render\": [], \"heap\": {\"1\": [\"LIST\", \"vedo\", \"una\", \"torre\"]}, \"stdout\": \"  v\\n\"}, {\"line\": 8, \"event\": \"step_line\", \"func_name\": \"<module>\", \"globals\": {\"parole\": [\"REF\", 1], \"parola\": \"vedo\", \"carattere\": \"e\"}, \"ordered_globals\": [\"parole\", \"parola\", \"carattere\"], \"stack_to_render\": [], \"heap\": {\"1\": [\"LIST\", \"vedo\", \"una\", \"torre\"]}, \"stdout\": \"  v\\n\"}, {\"line\": 7, \"event\": \"step_line\", \"func_name\": \"<module>\", \"globals\": {\"parole\": [\"REF\", 1], \"parola\": \"vedo\", \"carattere\": \"e\"}, \"ordered_globals\": [\"parole\", \"parola\", \"carattere\"], \"stack_to_render\": [], \"heap\": {\"1\": [\"LIST\", \"vedo\", \"una\", \"torre\"]}, \"stdout\": \"  v\\n  e\\n\"}, {\"line\": 8, \"event\": \"step_line\", \"func_name\": \"<module>\", \"globals\": {\"parole\": [\"REF\", 1], \"parola\": \"vedo\", \"carattere\": \"d\"}, \"ordered_globals\": [\"parole\", \"parola\", \"carattere\"], \"stack_to_render\": [], \"heap\": {\"1\": [\"LIST\", \"vedo\", \"una\", \"torre\"]}, \"stdout\": \"  v\\n  e\\n\"}, {\"line\": 7, \"event\": \"step_line\", \"func_name\": \"<module>\", \"globals\": {\"parole\": [\"REF\", 1], \"parola\": \"vedo\", \"carattere\": \"d\"}, \"ordered_globals\": [\"parole\", \"parola\", \"carattere\"], \"stack_to_render\": [], \"heap\": {\"1\": [\"LIST\", \"vedo\", \"una\", \"torre\"]}, \"stdout\": \"  v\\n  e\\n  d\\n\"}, {\"line\": 8, \"event\": \"step_line\", \"func_name\": \"<module>\", \"globals\": {\"parole\": [\"REF\", 1], \"parola\": \"vedo\", \"carattere\": \"o\"}, \"ordered_globals\": [\"parole\", \"parola\", \"carattere\"], \"stack_to_render\": [], \"heap\": {\"1\": [\"LIST\", \"vedo\", \"una\", \"torre\"]}, \"stdout\": \"  v\\n  e\\n  d\\n\"}, {\"line\": 7, \"event\": \"step_line\", \"func_name\": \"<module>\", \"globals\": {\"parole\": [\"REF\", 1], \"parola\": \"vedo\", \"carattere\": \"o\"}, \"ordered_globals\": [\"parole\", \"parola\", \"carattere\"], \"stack_to_render\": [], \"heap\": {\"1\": [\"LIST\", \"vedo\", \"una\", \"torre\"]}, \"stdout\": \"  v\\n  e\\n  d\\n  o\\n\"}, {\"line\": 9, \"event\": \"step_line\", \"func_name\": \"<module>\", \"globals\": {\"parole\": [\"REF\", 1], \"parola\": \"vedo\", \"carattere\": \"o\"}, \"ordered_globals\": [\"parole\", \"parola\", \"carattere\"], \"stack_to_render\": [], \"heap\": {\"1\": [\"LIST\", \"vedo\", \"una\", \"torre\"]}, \"stdout\": \"  v\\n  e\\n  d\\n  o\\n\"}, {\"line\": 6, \"event\": \"step_line\", \"func_name\": \"<module>\", \"globals\": {\"parole\": [\"REF\", 1], \"parola\": \"vedo\", \"carattere\": \"o\"}, \"ordered_globals\": [\"parole\", \"parola\", \"carattere\"], \"stack_to_render\": [], \"heap\": {\"1\": [\"LIST\", \"vedo\", \"una\", \"torre\"]}, \"stdout\": \"  v\\n  e\\n  d\\n  o\\n-----\\n\"}, {\"line\": 7, \"event\": \"step_line\", \"func_name\": \"<module>\", \"globals\": {\"parole\": [\"REF\", 1], \"parola\": \"una\", \"carattere\": \"o\"}, \"ordered_globals\": [\"parole\", \"parola\", \"carattere\"], \"stack_to_render\": [], \"heap\": {\"1\": [\"LIST\", \"vedo\", \"una\", \"torre\"]}, \"stdout\": \"  v\\n  e\\n  d\\n  o\\n-----\\n\"}, {\"line\": 8, \"event\": \"step_line\", \"func_name\": \"<module>\", \"globals\": {\"parole\": [\"REF\", 1], \"parola\": \"una\", \"carattere\": \"u\"}, \"ordered_globals\": [\"parole\", \"parola\", \"carattere\"], \"stack_to_render\": [], \"heap\": {\"1\": [\"LIST\", \"vedo\", \"una\", \"torre\"]}, \"stdout\": \"  v\\n  e\\n  d\\n  o\\n-----\\n\"}, {\"line\": 7, \"event\": \"step_line\", \"func_name\": \"<module>\", \"globals\": {\"parole\": [\"REF\", 1], \"parola\": \"una\", \"carattere\": \"u\"}, \"ordered_globals\": [\"parole\", \"parola\", \"carattere\"], \"stack_to_render\": [], \"heap\": {\"1\": [\"LIST\", \"vedo\", \"una\", \"torre\"]}, \"stdout\": \"  v\\n  e\\n  d\\n  o\\n-----\\n  u\\n\"}, {\"line\": 8, \"event\": \"step_line\", \"func_name\": \"<module>\", \"globals\": {\"parole\": [\"REF\", 1], \"parola\": \"una\", \"carattere\": \"n\"}, \"ordered_globals\": [\"parole\", \"parola\", \"carattere\"], \"stack_to_render\": [], \"heap\": {\"1\": [\"LIST\", \"vedo\", \"una\", \"torre\"]}, \"stdout\": \"  v\\n  e\\n  d\\n  o\\n-----\\n  u\\n\"}, {\"line\": 7, \"event\": \"step_line\", \"func_name\": \"<module>\", \"globals\": {\"parole\": [\"REF\", 1], \"parola\": \"una\", \"carattere\": \"n\"}, \"ordered_globals\": [\"parole\", \"parola\", \"carattere\"], \"stack_to_render\": [], \"heap\": {\"1\": [\"LIST\", \"vedo\", \"una\", \"torre\"]}, \"stdout\": \"  v\\n  e\\n  d\\n  o\\n-----\\n  u\\n  n\\n\"}, {\"line\": 8, \"event\": \"step_line\", \"func_name\": \"<module>\", \"globals\": {\"parole\": [\"REF\", 1], \"parola\": \"una\", \"carattere\": \"a\"}, \"ordered_globals\": [\"parole\", \"parola\", \"carattere\"], \"stack_to_render\": [], \"heap\": {\"1\": [\"LIST\", \"vedo\", \"una\", \"torre\"]}, \"stdout\": \"  v\\n  e\\n  d\\n  o\\n-----\\n  u\\n  n\\n\"}, {\"line\": 7, \"event\": \"step_line\", \"func_name\": \"<module>\", \"globals\": {\"parole\": [\"REF\", 1], \"parola\": \"una\", \"carattere\": \"a\"}, \"ordered_globals\": [\"parole\", \"parola\", \"carattere\"], \"stack_to_render\": [], \"heap\": {\"1\": [\"LIST\", \"vedo\", \"una\", \"torre\"]}, \"stdout\": \"  v\\n  e\\n  d\\n  o\\n-----\\n  u\\n  n\\n  a\\n\"}, {\"line\": 9, \"event\": \"step_line\", \"func_name\": \"<module>\", \"globals\": {\"parole\": [\"REF\", 1], \"parola\": \"una\", \"carattere\": \"a\"}, \"ordered_globals\": [\"parole\", \"parola\", \"carattere\"], \"stack_to_render\": [], \"heap\": {\"1\": [\"LIST\", \"vedo\", \"una\", \"torre\"]}, \"stdout\": \"  v\\n  e\\n  d\\n  o\\n-----\\n  u\\n  n\\n  a\\n\"}, {\"line\": 6, \"event\": \"step_line\", \"func_name\": \"<module>\", \"globals\": {\"parole\": [\"REF\", 1], \"parola\": \"una\", \"carattere\": \"a\"}, \"ordered_globals\": [\"parole\", \"parola\", \"carattere\"], \"stack_to_render\": [], \"heap\": {\"1\": [\"LIST\", \"vedo\", \"una\", \"torre\"]}, \"stdout\": \"  v\\n  e\\n  d\\n  o\\n-----\\n  u\\n  n\\n  a\\n-----\\n\"}, {\"line\": 7, \"event\": \"step_line\", \"func_name\": \"<module>\", \"globals\": {\"parole\": [\"REF\", 1], \"parola\": \"torre\", \"carattere\": \"a\"}, \"ordered_globals\": [\"parole\", \"parola\", \"carattere\"], \"stack_to_render\": [], \"heap\": {\"1\": [\"LIST\", \"vedo\", \"una\", \"torre\"]}, \"stdout\": \"  v\\n  e\\n  d\\n  o\\n-----\\n  u\\n  n\\n  a\\n-----\\n\"}, {\"line\": 8, \"event\": \"step_line\", \"func_name\": \"<module>\", \"globals\": {\"parole\": [\"REF\", 1], \"parola\": \"torre\", \"carattere\": \"t\"}, \"ordered_globals\": [\"parole\", \"parola\", \"carattere\"], \"stack_to_render\": [], \"heap\": {\"1\": [\"LIST\", \"vedo\", \"una\", \"torre\"]}, \"stdout\": \"  v\\n  e\\n  d\\n  o\\n-----\\n  u\\n  n\\n  a\\n-----\\n\"}, {\"line\": 7, \"event\": \"step_line\", \"func_name\": \"<module>\", \"globals\": {\"parole\": [\"REF\", 1], \"parola\": \"torre\", \"carattere\": \"t\"}, \"ordered_globals\": [\"parole\", \"parola\", \"carattere\"], \"stack_to_render\": [], \"heap\": {\"1\": [\"LIST\", \"vedo\", \"una\", \"torre\"]}, \"stdout\": \"  v\\n  e\\n  d\\n  o\\n-----\\n  u\\n  n\\n  a\\n-----\\n  t\\n\"}, {\"line\": 8, \"event\": \"step_line\", \"func_name\": \"<module>\", \"globals\": {\"parole\": [\"REF\", 1], \"parola\": \"torre\", \"carattere\": \"o\"}, \"ordered_globals\": [\"parole\", \"parola\", \"carattere\"], \"stack_to_render\": [], \"heap\": {\"1\": [\"LIST\", \"vedo\", \"una\", \"torre\"]}, \"stdout\": \"  v\\n  e\\n  d\\n  o\\n-----\\n  u\\n  n\\n  a\\n-----\\n  t\\n\"}, {\"line\": 7, \"event\": \"step_line\", \"func_name\": \"<module>\", \"globals\": {\"parole\": [\"REF\", 1], \"parola\": \"torre\", \"carattere\": \"o\"}, \"ordered_globals\": [\"parole\", \"parola\", \"carattere\"], \"stack_to_render\": [], \"heap\": {\"1\": [\"LIST\", \"vedo\", \"una\", \"torre\"]}, \"stdout\": \"  v\\n  e\\n  d\\n  o\\n-----\\n  u\\n  n\\n  a\\n-----\\n  t\\n  o\\n\"}, {\"line\": 8, \"event\": \"step_line\", \"func_name\": \"<module>\", \"globals\": {\"parole\": [\"REF\", 1], \"parola\": \"torre\", \"carattere\": \"r\"}, \"ordered_globals\": [\"parole\", \"parola\", \"carattere\"], \"stack_to_render\": [], \"heap\": {\"1\": [\"LIST\", \"vedo\", \"una\", \"torre\"]}, \"stdout\": \"  v\\n  e\\n  d\\n  o\\n-----\\n  u\\n  n\\n  a\\n-----\\n  t\\n  o\\n\"}, {\"line\": 7, \"event\": \"step_line\", \"func_name\": \"<module>\", \"globals\": {\"parole\": [\"REF\", 1], \"parola\": \"torre\", \"carattere\": \"r\"}, \"ordered_globals\": [\"parole\", \"parola\", \"carattere\"], \"stack_to_render\": [], \"heap\": {\"1\": [\"LIST\", \"vedo\", \"una\", \"torre\"]}, \"stdout\": \"  v\\n  e\\n  d\\n  o\\n-----\\n  u\\n  n\\n  a\\n-----\\n  t\\n  o\\n  r\\n\"}, {\"line\": 8, \"event\": \"step_line\", \"func_name\": \"<module>\", \"globals\": {\"parole\": [\"REF\", 1], \"parola\": \"torre\", \"carattere\": \"r\"}, \"ordered_globals\": [\"parole\", \"parola\", \"carattere\"], \"stack_to_render\": [], \"heap\": {\"1\": [\"LIST\", \"vedo\", \"una\", \"torre\"]}, \"stdout\": \"  v\\n  e\\n  d\\n  o\\n-----\\n  u\\n  n\\n  a\\n-----\\n  t\\n  o\\n  r\\n\"}, {\"line\": 7, \"event\": \"step_line\", \"func_name\": \"<module>\", \"globals\": {\"parole\": [\"REF\", 1], \"parola\": \"torre\", \"carattere\": \"r\"}, \"ordered_globals\": [\"parole\", \"parola\", \"carattere\"], \"stack_to_render\": [], \"heap\": {\"1\": [\"LIST\", \"vedo\", \"una\", \"torre\"]}, \"stdout\": \"  v\\n  e\\n  d\\n  o\\n-----\\n  u\\n  n\\n  a\\n-----\\n  t\\n  o\\n  r\\n  r\\n\"}, {\"line\": 8, \"event\": \"step_line\", \"func_name\": \"<module>\", \"globals\": {\"parole\": [\"REF\", 1], \"parola\": \"torre\", \"carattere\": \"e\"}, \"ordered_globals\": [\"parole\", \"parola\", \"carattere\"], \"stack_to_render\": [], \"heap\": {\"1\": [\"LIST\", \"vedo\", \"una\", \"torre\"]}, \"stdout\": \"  v\\n  e\\n  d\\n  o\\n-----\\n  u\\n  n\\n  a\\n-----\\n  t\\n  o\\n  r\\n  r\\n\"}, {\"line\": 7, \"event\": \"step_line\", \"func_name\": \"<module>\", \"globals\": {\"parole\": [\"REF\", 1], \"parola\": \"torre\", \"carattere\": \"e\"}, \"ordered_globals\": [\"parole\", \"parola\", \"carattere\"], \"stack_to_render\": [], \"heap\": {\"1\": [\"LIST\", \"vedo\", \"una\", \"torre\"]}, \"stdout\": \"  v\\n  e\\n  d\\n  o\\n-----\\n  u\\n  n\\n  a\\n-----\\n  t\\n  o\\n  r\\n  r\\n  e\\n\"}, {\"line\": 9, \"event\": \"step_line\", \"func_name\": \"<module>\", \"globals\": {\"parole\": [\"REF\", 1], \"parola\": \"torre\", \"carattere\": \"e\"}, \"ordered_globals\": [\"parole\", \"parola\", \"carattere\"], \"stack_to_render\": [], \"heap\": {\"1\": [\"LIST\", \"vedo\", \"una\", \"torre\"]}, \"stdout\": \"  v\\n  e\\n  d\\n  o\\n-----\\n  u\\n  n\\n  a\\n-----\\n  t\\n  o\\n  r\\n  r\\n  e\\n\"}, {\"line\": 6, \"event\": \"step_line\", \"func_name\": \"<module>\", \"globals\": {\"parole\": [\"REF\", 1], \"parola\": \"torre\", \"carattere\": \"e\"}, \"ordered_globals\": [\"parole\", \"parola\", \"carattere\"], \"stack_to_render\": [], \"heap\": {\"1\": [\"LIST\", \"vedo\", \"una\", \"torre\"]}, \"stdout\": \"  v\\n  e\\n  d\\n  o\\n-----\\n  u\\n  n\\n  a\\n-----\\n  t\\n  o\\n  r\\n  r\\n  e\\n-----\\n\"}, {\"line\": 6, \"event\": \"return\", \"func_name\": \"<module>\", \"globals\": {\"parole\": [\"REF\", 1], \"parola\": \"torre\", \"carattere\": \"e\"}, \"ordered_globals\": [\"parole\", \"parola\", \"carattere\"], \"stack_to_render\": [], \"heap\": {\"1\": [\"LIST\", \"vedo\", \"una\", \"torre\"]}, \"stdout\": \"  v\\n  e\\n  d\\n  o\\n-----\\n  u\\n  n\\n  a\\n-----\\n  t\\n  o\\n  r\\n  r\\n  e\\n-----\\n\"}]}\n",
       "        </script>\n",
       "        <div id=\"jm-766a6c5786943e67d2204c7fcc24a68a-12\" class=\"pytutorVisualizer\"> </div>\n",
       "                            \n",
       "        <script>\n",
       "                          \n",
       "        var jmRenderPytut = function(trace_id, div_id, config){\n",
       "            console.log(\"jupman.py embedded javascript: rendering Python tutor visualizer...\")\n",
       "            \n",
       "            let oldAlert = window.alert;\n",
       "            window.alert = function ( text ) { \n",
       "                console.log( 'tried to alert: ', text );         \n",
       "                return true; \n",
       "            };\n",
       "            let executionVisualizer = null;\n",
       "            try {\n",
       "            \n",
       "                var trace = JSON.parse(document.getElementById(trace_id).innerHTML);                                        \n",
       "                // NOTE: id without #\n",
       "                        \n",
       "                executionVisualizer = addVisualizerToPage(trace, div_id, config);\n",
       "                // hack in case visualizer decides to hide them for no good reason\n",
       "                $('#' + div_id + ' #jmpFirstInstr').show();\n",
       "                $('#' + div_id + ' #jmpLastInstr').show();\n",
       "                \n",
       "                // set overflow for pytuts - need to do in python as css \n",
       "                // does not allow parent selection\n",
       "                var pytuts = $('.pytutorVisualizer');\n",
       "                pytuts.closest('div.output_html.rendered_html.output_result')\n",
       "                        .css('overflow-x', 'visible');\n",
       "            \n",
       "                //pytuts.closest('div.output_html.rendered_html.output_result')\n",
       "                //      .css('background-color','red');                \n",
       "            } catch (error) {\n",
       "                console.error(\"jupman slides: Couldn't visualize Python tutor properly\", error);\n",
       "            }\n",
       "            window.alert = oldAlert;\n",
       "            return executionVisualizer;\n",
       "            \n",
       "        };\n",
       "        </script>\n",
       "        \n",
       "        <script>\n",
       "        var pytut_cfg_766a6c5786943e67d2204c7fcc24a68a_12 = (function(){\n",
       "            var rootFontSize = window.getComputedStyle(document.body).getPropertyValue('font-size');\n",
       "            var rootFontSizeNum = 12;\n",
       "            if (rootFontSize.endsWith('px')){\n",
       "                rootFontSizeNum = Number(rootFontSize.substring(0, rootFontSize.length-2));\n",
       "            } else {\n",
       "                console.error(\"Unrecognized font unit:\", rootFontSize, \"assuming default\", rootFontSizeNum);\n",
       "            }\n",
       "            console.log('rootFontSize', rootFontSize);\n",
       "            \n",
       "            var codeWidthInChars = Math.max(23, 29);\n",
       "            if (0){\n",
       "                codeWidthInChars = 0;    // override\n",
       "            }\n",
       "            return {'embeddedMode' : false,\n",
       "                  'disableHeapNesting': true,\n",
       "                  'visualizerIdOverride':'viz-jm-766a6c5786943e67d2204c7fcc24a68a-12',\n",
       "                  'codeDivWidth': Math.trunc(rootFontSizeNum * codeWidthInChars)\n",
       "                  };\n",
       "        })();                 \n",
       "        \n",
       "        jmRenderPytut('trace-jm-766a6c5786943e67d2204c7fcc24a68a-12', 'jm-766a6c5786943e67d2204c7fcc24a68a-12', pytut_cfg_766a6c5786943e67d2204c7fcc24a68a_12);\n",
       "        </script>\n",
       "                \n",
       "    \n",
       "    <div style=\"text-align:center; font-size:0.9em\"> <a href=\"https://pythontutor.com/visualize.html#mode=edit\" target=\"_blank\">Python Tutor</a> visualization</div> \n",
       "    "
      ],
      "text/plain": [
       "<IPython.core.display.HTML object>"
      ]
     },
     "execution_count": 10,
     "metadata": {},
     "output_type": "execute_result"
    }
   ],
   "source": [
    "#jupman-purge-input\n",
    "#jupman-purge-text-output\n",
    "parole = [\"vedo\",\n",
    "          \"una\",\n",
    "          \"torre\"]\n",
    "\n",
    "for parola in parole:\n",
    "    for carattere in parola:\n",
    "        print(' ', carattere)\n",
    "    print('-----')\n",
    "conf.jm.python_tutor()"
   ]
  },
  {
   "cell_type": "markdown",
   "id": "dcec880a",
   "metadata": {
    "slideshow": {
     "slide_type": "subslide"
    }
   },
   "source": [
    "## for annidati - problemi?"
   ]
  },
  {
   "cell_type": "code",
   "execution_count": 11,
   "id": "1fb4f309",
   "metadata": {
    "slideshow": {
     "slide_type": "-"
    }
   },
   "outputs": [
    {
     "name": "stdout",
     "output_type": "stream",
     "text": [
      "0\n",
      "1\n",
      "2\n",
      "2\n",
      "0\n",
      "1\n",
      "2\n",
      "2\n",
      "0\n",
      "1\n",
      "2\n",
      "2\n"
     ]
    },
    {
     "data": {
      "text/html": [
       "        \n",
       "        <script src=\"../_static/js/pytutor-embed.bundle.min.js\" #type=\"application/javascript\"></script>\n",
       "    \n",
       "        <style>\n",
       "        @import \"../_static/css/jupman.css\";\n",
       "        </style>\n",
       "     \n",
       "        <script id=\"trace-jm-8dbd1764d9d1f3511912b59a41c74487-13\" type=\"application/json\" >\n",
       "            {\"code\": \" \\nsport = ['hockey','tennis','golf']\\nfor s in sport:\\n    for s in range(3):  \\n        print(s)\\n    print(s)\", \"trace\": [{\"line\": 2, \"event\": \"step_line\", \"func_name\": \"<module>\", \"globals\": {}, \"ordered_globals\": [], \"stack_to_render\": [], \"heap\": {}, \"stdout\": \"\"}, {\"line\": 3, \"event\": \"step_line\", \"func_name\": \"<module>\", \"globals\": {\"sport\": [\"REF\", 1]}, \"ordered_globals\": [\"sport\"], \"stack_to_render\": [], \"heap\": {\"1\": [\"LIST\", \"hockey\", \"tennis\", \"golf\"]}, \"stdout\": \"\"}, {\"line\": 4, \"event\": \"step_line\", \"func_name\": \"<module>\", \"globals\": {\"sport\": [\"REF\", 1], \"s\": \"hockey\"}, \"ordered_globals\": [\"sport\", \"s\"], \"stack_to_render\": [], \"heap\": {\"1\": [\"LIST\", \"hockey\", \"tennis\", \"golf\"]}, \"stdout\": \"\"}, {\"line\": 5, \"event\": \"step_line\", \"func_name\": \"<module>\", \"globals\": {\"sport\": [\"REF\", 1], \"s\": 0}, \"ordered_globals\": [\"sport\", \"s\"], \"stack_to_render\": [], \"heap\": {\"1\": [\"LIST\", \"hockey\", \"tennis\", \"golf\"]}, \"stdout\": \"\"}, {\"line\": 4, \"event\": \"step_line\", \"func_name\": \"<module>\", \"globals\": {\"sport\": [\"REF\", 1], \"s\": 0}, \"ordered_globals\": [\"sport\", \"s\"], \"stack_to_render\": [], \"heap\": {\"1\": [\"LIST\", \"hockey\", \"tennis\", \"golf\"]}, \"stdout\": \"0\\n\"}, {\"line\": 5, \"event\": \"step_line\", \"func_name\": \"<module>\", \"globals\": {\"sport\": [\"REF\", 1], \"s\": 1}, \"ordered_globals\": [\"sport\", \"s\"], \"stack_to_render\": [], \"heap\": {\"1\": [\"LIST\", \"hockey\", \"tennis\", \"golf\"]}, \"stdout\": \"0\\n\"}, {\"line\": 4, \"event\": \"step_line\", \"func_name\": \"<module>\", \"globals\": {\"sport\": [\"REF\", 1], \"s\": 1}, \"ordered_globals\": [\"sport\", \"s\"], \"stack_to_render\": [], \"heap\": {\"1\": [\"LIST\", \"hockey\", \"tennis\", \"golf\"]}, \"stdout\": \"0\\n1\\n\"}, {\"line\": 5, \"event\": \"step_line\", \"func_name\": \"<module>\", \"globals\": {\"sport\": [\"REF\", 1], \"s\": 2}, \"ordered_globals\": [\"sport\", \"s\"], \"stack_to_render\": [], \"heap\": {\"1\": [\"LIST\", \"hockey\", \"tennis\", \"golf\"]}, \"stdout\": \"0\\n1\\n\"}, {\"line\": 4, \"event\": \"step_line\", \"func_name\": \"<module>\", \"globals\": {\"sport\": [\"REF\", 1], \"s\": 2}, \"ordered_globals\": [\"sport\", \"s\"], \"stack_to_render\": [], \"heap\": {\"1\": [\"LIST\", \"hockey\", \"tennis\", \"golf\"]}, \"stdout\": \"0\\n1\\n2\\n\"}, {\"line\": 6, \"event\": \"step_line\", \"func_name\": \"<module>\", \"globals\": {\"sport\": [\"REF\", 1], \"s\": 2}, \"ordered_globals\": [\"sport\", \"s\"], \"stack_to_render\": [], \"heap\": {\"1\": [\"LIST\", \"hockey\", \"tennis\", \"golf\"]}, \"stdout\": \"0\\n1\\n2\\n\"}, {\"line\": 3, \"event\": \"step_line\", \"func_name\": \"<module>\", \"globals\": {\"sport\": [\"REF\", 1], \"s\": 2}, \"ordered_globals\": [\"sport\", \"s\"], \"stack_to_render\": [], \"heap\": {\"1\": [\"LIST\", \"hockey\", \"tennis\", \"golf\"]}, \"stdout\": \"0\\n1\\n2\\n2\\n\"}, {\"line\": 4, \"event\": \"step_line\", \"func_name\": \"<module>\", \"globals\": {\"sport\": [\"REF\", 1], \"s\": \"tennis\"}, \"ordered_globals\": [\"sport\", \"s\"], \"stack_to_render\": [], \"heap\": {\"1\": [\"LIST\", \"hockey\", \"tennis\", \"golf\"]}, \"stdout\": \"0\\n1\\n2\\n2\\n\"}, {\"line\": 5, \"event\": \"step_line\", \"func_name\": \"<module>\", \"globals\": {\"sport\": [\"REF\", 1], \"s\": 0}, \"ordered_globals\": [\"sport\", \"s\"], \"stack_to_render\": [], \"heap\": {\"1\": [\"LIST\", \"hockey\", \"tennis\", \"golf\"]}, \"stdout\": \"0\\n1\\n2\\n2\\n\"}, {\"line\": 4, \"event\": \"step_line\", \"func_name\": \"<module>\", \"globals\": {\"sport\": [\"REF\", 1], \"s\": 0}, \"ordered_globals\": [\"sport\", \"s\"], \"stack_to_render\": [], \"heap\": {\"1\": [\"LIST\", \"hockey\", \"tennis\", \"golf\"]}, \"stdout\": \"0\\n1\\n2\\n2\\n0\\n\"}, {\"line\": 5, \"event\": \"step_line\", \"func_name\": \"<module>\", \"globals\": {\"sport\": [\"REF\", 1], \"s\": 1}, \"ordered_globals\": [\"sport\", \"s\"], \"stack_to_render\": [], \"heap\": {\"1\": [\"LIST\", \"hockey\", \"tennis\", \"golf\"]}, \"stdout\": \"0\\n1\\n2\\n2\\n0\\n\"}, {\"line\": 4, \"event\": \"step_line\", \"func_name\": \"<module>\", \"globals\": {\"sport\": [\"REF\", 1], \"s\": 1}, \"ordered_globals\": [\"sport\", \"s\"], \"stack_to_render\": [], \"heap\": {\"1\": [\"LIST\", \"hockey\", \"tennis\", \"golf\"]}, \"stdout\": \"0\\n1\\n2\\n2\\n0\\n1\\n\"}, {\"line\": 5, \"event\": \"step_line\", \"func_name\": \"<module>\", \"globals\": {\"sport\": [\"REF\", 1], \"s\": 2}, \"ordered_globals\": [\"sport\", \"s\"], \"stack_to_render\": [], \"heap\": {\"1\": [\"LIST\", \"hockey\", \"tennis\", \"golf\"]}, \"stdout\": \"0\\n1\\n2\\n2\\n0\\n1\\n\"}, {\"line\": 4, \"event\": \"step_line\", \"func_name\": \"<module>\", \"globals\": {\"sport\": [\"REF\", 1], \"s\": 2}, \"ordered_globals\": [\"sport\", \"s\"], \"stack_to_render\": [], \"heap\": {\"1\": [\"LIST\", \"hockey\", \"tennis\", \"golf\"]}, \"stdout\": \"0\\n1\\n2\\n2\\n0\\n1\\n2\\n\"}, {\"line\": 6, \"event\": \"step_line\", \"func_name\": \"<module>\", \"globals\": {\"sport\": [\"REF\", 1], \"s\": 2}, \"ordered_globals\": [\"sport\", \"s\"], \"stack_to_render\": [], \"heap\": {\"1\": [\"LIST\", \"hockey\", \"tennis\", \"golf\"]}, \"stdout\": \"0\\n1\\n2\\n2\\n0\\n1\\n2\\n\"}, {\"line\": 3, \"event\": \"step_line\", \"func_name\": \"<module>\", \"globals\": {\"sport\": [\"REF\", 1], \"s\": 2}, \"ordered_globals\": [\"sport\", \"s\"], \"stack_to_render\": [], \"heap\": {\"1\": [\"LIST\", \"hockey\", \"tennis\", \"golf\"]}, \"stdout\": \"0\\n1\\n2\\n2\\n0\\n1\\n2\\n2\\n\"}, {\"line\": 4, \"event\": \"step_line\", \"func_name\": \"<module>\", \"globals\": {\"sport\": [\"REF\", 1], \"s\": \"golf\"}, \"ordered_globals\": [\"sport\", \"s\"], \"stack_to_render\": [], \"heap\": {\"1\": [\"LIST\", \"hockey\", \"tennis\", \"golf\"]}, \"stdout\": \"0\\n1\\n2\\n2\\n0\\n1\\n2\\n2\\n\"}, {\"line\": 5, \"event\": \"step_line\", \"func_name\": \"<module>\", \"globals\": {\"sport\": [\"REF\", 1], \"s\": 0}, \"ordered_globals\": [\"sport\", \"s\"], \"stack_to_render\": [], \"heap\": {\"1\": [\"LIST\", \"hockey\", \"tennis\", \"golf\"]}, \"stdout\": \"0\\n1\\n2\\n2\\n0\\n1\\n2\\n2\\n\"}, {\"line\": 4, \"event\": \"step_line\", \"func_name\": \"<module>\", \"globals\": {\"sport\": [\"REF\", 1], \"s\": 0}, \"ordered_globals\": [\"sport\", \"s\"], \"stack_to_render\": [], \"heap\": {\"1\": [\"LIST\", \"hockey\", \"tennis\", \"golf\"]}, \"stdout\": \"0\\n1\\n2\\n2\\n0\\n1\\n2\\n2\\n0\\n\"}, {\"line\": 5, \"event\": \"step_line\", \"func_name\": \"<module>\", \"globals\": {\"sport\": [\"REF\", 1], \"s\": 1}, \"ordered_globals\": [\"sport\", \"s\"], \"stack_to_render\": [], \"heap\": {\"1\": [\"LIST\", \"hockey\", \"tennis\", \"golf\"]}, \"stdout\": \"0\\n1\\n2\\n2\\n0\\n1\\n2\\n2\\n0\\n\"}, {\"line\": 4, \"event\": \"step_line\", \"func_name\": \"<module>\", \"globals\": {\"sport\": [\"REF\", 1], \"s\": 1}, \"ordered_globals\": [\"sport\", \"s\"], \"stack_to_render\": [], \"heap\": {\"1\": [\"LIST\", \"hockey\", \"tennis\", \"golf\"]}, \"stdout\": \"0\\n1\\n2\\n2\\n0\\n1\\n2\\n2\\n0\\n1\\n\"}, {\"line\": 5, \"event\": \"step_line\", \"func_name\": \"<module>\", \"globals\": {\"sport\": [\"REF\", 1], \"s\": 2}, \"ordered_globals\": [\"sport\", \"s\"], \"stack_to_render\": [], \"heap\": {\"1\": [\"LIST\", \"hockey\", \"tennis\", \"golf\"]}, \"stdout\": \"0\\n1\\n2\\n2\\n0\\n1\\n2\\n2\\n0\\n1\\n\"}, {\"line\": 4, \"event\": \"step_line\", \"func_name\": \"<module>\", \"globals\": {\"sport\": [\"REF\", 1], \"s\": 2}, \"ordered_globals\": [\"sport\", \"s\"], \"stack_to_render\": [], \"heap\": {\"1\": [\"LIST\", \"hockey\", \"tennis\", \"golf\"]}, \"stdout\": \"0\\n1\\n2\\n2\\n0\\n1\\n2\\n2\\n0\\n1\\n2\\n\"}, {\"line\": 6, \"event\": \"step_line\", \"func_name\": \"<module>\", \"globals\": {\"sport\": [\"REF\", 1], \"s\": 2}, \"ordered_globals\": [\"sport\", \"s\"], \"stack_to_render\": [], \"heap\": {\"1\": [\"LIST\", \"hockey\", \"tennis\", \"golf\"]}, \"stdout\": \"0\\n1\\n2\\n2\\n0\\n1\\n2\\n2\\n0\\n1\\n2\\n\"}, {\"line\": 3, \"event\": \"step_line\", \"func_name\": \"<module>\", \"globals\": {\"sport\": [\"REF\", 1], \"s\": 2}, \"ordered_globals\": [\"sport\", \"s\"], \"stack_to_render\": [], \"heap\": {\"1\": [\"LIST\", \"hockey\", \"tennis\", \"golf\"]}, \"stdout\": \"0\\n1\\n2\\n2\\n0\\n1\\n2\\n2\\n0\\n1\\n2\\n2\\n\"}, {\"line\": 3, \"event\": \"return\", \"func_name\": \"<module>\", \"globals\": {\"sport\": [\"REF\", 1], \"s\": 2}, \"ordered_globals\": [\"sport\", \"s\"], \"stack_to_render\": [], \"heap\": {\"1\": [\"LIST\", \"hockey\", \"tennis\", \"golf\"]}, \"stdout\": \"0\\n1\\n2\\n2\\n0\\n1\\n2\\n2\\n0\\n1\\n2\\n2\\n\"}]}\n",
       "        </script>\n",
       "        <div id=\"jm-8dbd1764d9d1f3511912b59a41c74487-13\" class=\"pytutorVisualizer\"> </div>\n",
       "                            \n",
       "        <script>\n",
       "                          \n",
       "        var jmRenderPytut = function(trace_id, div_id, config){\n",
       "            console.log(\"jupman.py embedded javascript: rendering Python tutor visualizer...\")\n",
       "            \n",
       "            let oldAlert = window.alert;\n",
       "            window.alert = function ( text ) { \n",
       "                console.log( 'tried to alert: ', text );         \n",
       "                return true; \n",
       "            };\n",
       "            let executionVisualizer = null;\n",
       "            try {\n",
       "            \n",
       "                var trace = JSON.parse(document.getElementById(trace_id).innerHTML);                                        \n",
       "                // NOTE: id without #\n",
       "                        \n",
       "                executionVisualizer = addVisualizerToPage(trace, div_id, config);\n",
       "                // hack in case visualizer decides to hide them for no good reason\n",
       "                $('#' + div_id + ' #jmpFirstInstr').show();\n",
       "                $('#' + div_id + ' #jmpLastInstr').show();\n",
       "                \n",
       "                // set overflow for pytuts - need to do in python as css \n",
       "                // does not allow parent selection\n",
       "                var pytuts = $('.pytutorVisualizer');\n",
       "                pytuts.closest('div.output_html.rendered_html.output_result')\n",
       "                        .css('overflow-x', 'visible');\n",
       "            \n",
       "                //pytuts.closest('div.output_html.rendered_html.output_result')\n",
       "                //      .css('background-color','red');                \n",
       "            } catch (error) {\n",
       "                console.error(\"jupman slides: Couldn't visualize Python tutor properly\", error);\n",
       "            }\n",
       "            window.alert = oldAlert;\n",
       "            return executionVisualizer;\n",
       "            \n",
       "        };\n",
       "        </script>\n",
       "        \n",
       "        <script>\n",
       "        var pytut_cfg_8dbd1764d9d1f3511912b59a41c74487_13 = (function(){\n",
       "            var rootFontSize = window.getComputedStyle(document.body).getPropertyValue('font-size');\n",
       "            var rootFontSizeNum = 12;\n",
       "            if (rootFontSize.endsWith('px')){\n",
       "                rootFontSizeNum = Number(rootFontSize.substring(0, rootFontSize.length-2));\n",
       "            } else {\n",
       "                console.error(\"Unrecognized font unit:\", rootFontSize, \"assuming default\", rootFontSizeNum);\n",
       "            }\n",
       "            console.log('rootFontSize', rootFontSize);\n",
       "            \n",
       "            var codeWidthInChars = Math.max(23, 34);\n",
       "            if (27){\n",
       "                codeWidthInChars = 27;    // override\n",
       "            }\n",
       "            return {'embeddedMode' : false,\n",
       "                  'disableHeapNesting': true,\n",
       "                  'visualizerIdOverride':'viz-jm-8dbd1764d9d1f3511912b59a41c74487-13',\n",
       "                  'codeDivWidth': Math.trunc(rootFontSizeNum * codeWidthInChars)\n",
       "                  };\n",
       "        })();                 \n",
       "        \n",
       "        jmRenderPytut('trace-jm-8dbd1764d9d1f3511912b59a41c74487-13', 'jm-8dbd1764d9d1f3511912b59a41c74487-13', pytut_cfg_8dbd1764d9d1f3511912b59a41c74487_13);\n",
       "        </script>\n",
       "                \n",
       "    \n",
       "    <div style=\"text-align:center; font-size:0.9em\"> <a href=\"https://pythontutor.com/visualize.html#mode=edit\" target=\"_blank\">Python Tutor</a> visualization</div> \n",
       "    "
      ],
      "text/plain": [
       "<IPython.core.display.HTML object>"
      ]
     },
     "execution_count": 11,
     "metadata": {},
     "output_type": "execute_result"
    }
   ],
   "source": [
    "#jupman-purge-input\n",
    "#jupman-purge-text-output\n",
    "sport = ['hockey','tennis','golf']\n",
    "for s in sport:\n",
    "    for s in range(3):  \n",
    "        print(s)\n",
    "    print(s)  \n",
    "conf.jm.python_tutor(text_length=27)"
   ]
  },
  {
   "cell_type": "markdown",
   "id": "698f0b52",
   "metadata": {
    "slideshow": {
     "slide_type": "fragment"
    }
   },
   "source": [
    "<div class=\"jupman-alert-principle\">\n",
    "<div class=\"alert alert-info\">\n",
    "\n",
    "[II COMANDAMENTO](https://it.softpython.org/commandments.html#II-COMANDAMENTO) **Quando inserisci una variabile in un ciclo** `for` <br> **questa variabile deve essere nuova**\n",
    "</div>"
   ]
  },
  {
   "cell_type": "code",
   "execution_count": 12,
   "id": "bc41c363",
   "metadata": {},
   "outputs": [
    {
     "data": {
      "text/plain": [
       "''"
      ]
     },
     "execution_count": 12,
     "metadata": {},
     "output_type": "execute_result"
    }
   ],
   "source": [
    "#jupman-purge-io\n",
    "# scrivi qui\n",
    "''"
   ]
  }
 ],
 "metadata": {
  "celltoolbar": "Slideshow",
  "kernelspec": {
   "display_name": "Python 3 (ipykernel)",
   "language": "python",
   "name": "python3"
  },
  "language_info": {
   "codemirror_mode": {
    "name": "ipython",
    "version": 3
   },
   "file_extension": ".py",
   "mimetype": "text/x-python",
   "name": "python",
   "nbconvert_exporter": "python",
   "pygments_lexer": "ipython3",
   "version": "3.7.17"
  },
  "toc": {
   "base_numbering": 1,
   "nav_menu": {},
   "number_sections": false,
   "sideBar": true,
   "skip_h1_title": false,
   "title_cell": "Table of Contents",
   "title_sidebar": "Contents",
   "toc_cell": false,
   "toc_position": {
    "height": "calc(100% - 180px)",
    "left": "10px",
    "top": "150px",
    "width": "373.188px"
   },
   "toc_section_display": true,
   "toc_window_display": true
  }
 },
 "nbformat": 4,
 "nbformat_minor": 5
}
