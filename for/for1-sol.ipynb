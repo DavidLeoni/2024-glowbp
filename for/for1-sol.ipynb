{
 "cells": [
  {
   "cell_type": "code",
   "execution_count": 1,
   "id": "8e77c3a2",
   "metadata": {
    "slideshow": {
     "slide_type": "skip"
    }
   },
   "outputs": [
    {
     "data": {
      "text/html": [
       "        \n",
       "            <script src=\"../_static/js/python.iife.js\" type=\"application/javascript\"></script>\n",
       "        "
      ],
      "text/plain": [
       "<IPython.core.display.HTML object>"
      ]
     },
     "execution_count": 1,
     "metadata": {},
     "output_type": "execute_result"
    }
   ],
   "source": [
    "import sys\n",
    "sys.path.append('../')\n",
    "import jupman\n",
    "\n",
    "import conf\n",
    "\n",
    "conf.jm.init_icp()"
   ]
  },
  {
   "cell_type": "markdown",
   "id": "0049100b",
   "metadata": {
    "slideshow": {
     "slide_type": "slide"
    }
   },
   "source": [
    "\n",
    "#  Cicli for 1: introduzione\n",
    "\n",
    "**Riferimenti:** [SoftPython - for 1](https://it.softpython.org/if/for1-intro-sol.html)\n",
    "\n",
    "* visualizza al meglio in <img style=\"display:inline; width:25px; vertical-align: middle;\" src=\"../_static/img/chrome.png\" alttext=\"Chrome\">\n",
    "* versione stampabile: [clicca qua](?print-pdf)\n",
    "* per navigare nelle slide: premere `Esc`\n",
    "\n",
    "<br>\n",
    "<br>\n",
    "\n",
    "**Summer School Data Science 2023 - Modulo 1 informatica:** [Moodle](https://didatticaonline.unitn.it/dol/course/view.php?id=36683) \n",
    "\n",
    "Docente: David Leoni david.leoni@unitn.it\n",
    "\n",
    "Esercitatore: Luca Bosotti luca.bosotti@studenti.unitn.it\n"
   ]
  },
  {
   "cell_type": "markdown",
   "id": "090bb847",
   "metadata": {
    "colab_type": "text",
    "id": "y1_ipl04AFYh",
    "slideshow": {
     "slide_type": "subslide"
    }
   },
   "source": [
    "## Iterazione\n",
    "\n",
    "Come compiere azioni su ogni elemento di una sequenza?\n"
   ]
  },
  {
   "cell_type": "markdown",
   "id": "9c5d620f",
   "metadata": {
    "slideshow": {
     "slide_type": "fragment"
    }
   },
   "source": [
    "Cicli `for` \n",
    "\n",
    "- normali\n",
    "- list comprehension\n",
    "\n",
    "Cicli `while`\n",
    "\n",
    "**Riferimenti**: [SoftPython - controllo di flusso](https://it.softpython.org/#for)"
   ]
  },
  {
   "cell_type": "markdown",
   "id": "9d8f9145",
   "metadata": {
    "slideshow": {
     "slide_type": "subslide"
    }
   },
   "source": [
    "**Esempio ciclo `for`**"
   ]
  },
  {
   "cell_type": "code",
   "execution_count": 2,
   "id": "6e727286",
   "metadata": {
    "colab": {
     "autoexec": {
      "startup": false,
      "wait_interval": 0
     },
     "output_extras": [
      {}
     ]
    },
    "colab_type": "code",
    "id": "dvT2rnbBAFYi",
    "outputId": "e5deee14-f728-4236-9a21-0cb13531897e",
    "slideshow": {
     "slide_type": "-"
    }
   },
   "outputs": [
    {
     "name": "stdout",
     "output_type": "stream",
     "text": [
      "Nella lista ci sono:\n",
      "cani\n",
      "Nella lista ci sono:\n",
      "gatti\n",
      "Nella lista ci sono:\n",
      "lepri\n"
     ]
    },
    {
     "data": {
      "text/html": [
       "        \n",
       "        <script src=\"../_static/js/pytutor-embed.bundle.min.js\" #type=\"application/javascript\"></script>\n",
       "    \n",
       "        <style>\n",
       "        @import \"../_static/css/jupman.css\";\n",
       "        </style>\n",
       "     \n",
       "        <script id=\"trace-jm-2445b67bcadd21f58c4c145c459d3efa-4\" type=\"application/json\" >\n",
       "            {\"code\": \" \\nanimali = ['cani','gatti','lepri']\\nfor animale in animali:\\n    print(\\\"Nella lista ci sono:\\\")\\n    print(animale)\", \"trace\": [{\"line\": 2, \"event\": \"step_line\", \"func_name\": \"<module>\", \"globals\": {}, \"ordered_globals\": [], \"stack_to_render\": [], \"heap\": {}, \"stdout\": \"\"}, {\"line\": 3, \"event\": \"step_line\", \"func_name\": \"<module>\", \"globals\": {\"animali\": [\"REF\", 1]}, \"ordered_globals\": [\"animali\"], \"stack_to_render\": [], \"heap\": {\"1\": [\"LIST\", \"cani\", \"gatti\", \"lepri\"]}, \"stdout\": \"\"}, {\"line\": 4, \"event\": \"step_line\", \"func_name\": \"<module>\", \"globals\": {\"animali\": [\"REF\", 1], \"animale\": \"cani\"}, \"ordered_globals\": [\"animali\", \"animale\"], \"stack_to_render\": [], \"heap\": {\"1\": [\"LIST\", \"cani\", \"gatti\", \"lepri\"]}, \"stdout\": \"\"}, {\"line\": 5, \"event\": \"step_line\", \"func_name\": \"<module>\", \"globals\": {\"animali\": [\"REF\", 1], \"animale\": \"cani\"}, \"ordered_globals\": [\"animali\", \"animale\"], \"stack_to_render\": [], \"heap\": {\"1\": [\"LIST\", \"cani\", \"gatti\", \"lepri\"]}, \"stdout\": \"Nella lista ci sono:\\n\"}, {\"line\": 3, \"event\": \"step_line\", \"func_name\": \"<module>\", \"globals\": {\"animali\": [\"REF\", 1], \"animale\": \"cani\"}, \"ordered_globals\": [\"animali\", \"animale\"], \"stack_to_render\": [], \"heap\": {\"1\": [\"LIST\", \"cani\", \"gatti\", \"lepri\"]}, \"stdout\": \"Nella lista ci sono:\\ncani\\n\"}, {\"line\": 4, \"event\": \"step_line\", \"func_name\": \"<module>\", \"globals\": {\"animali\": [\"REF\", 1], \"animale\": \"gatti\"}, \"ordered_globals\": [\"animali\", \"animale\"], \"stack_to_render\": [], \"heap\": {\"1\": [\"LIST\", \"cani\", \"gatti\", \"lepri\"]}, \"stdout\": \"Nella lista ci sono:\\ncani\\n\"}, {\"line\": 5, \"event\": \"step_line\", \"func_name\": \"<module>\", \"globals\": {\"animali\": [\"REF\", 1], \"animale\": \"gatti\"}, \"ordered_globals\": [\"animali\", \"animale\"], \"stack_to_render\": [], \"heap\": {\"1\": [\"LIST\", \"cani\", \"gatti\", \"lepri\"]}, \"stdout\": \"Nella lista ci sono:\\ncani\\nNella lista ci sono:\\n\"}, {\"line\": 3, \"event\": \"step_line\", \"func_name\": \"<module>\", \"globals\": {\"animali\": [\"REF\", 1], \"animale\": \"gatti\"}, \"ordered_globals\": [\"animali\", \"animale\"], \"stack_to_render\": [], \"heap\": {\"1\": [\"LIST\", \"cani\", \"gatti\", \"lepri\"]}, \"stdout\": \"Nella lista ci sono:\\ncani\\nNella lista ci sono:\\ngatti\\n\"}, {\"line\": 4, \"event\": \"step_line\", \"func_name\": \"<module>\", \"globals\": {\"animali\": [\"REF\", 1], \"animale\": \"lepri\"}, \"ordered_globals\": [\"animali\", \"animale\"], \"stack_to_render\": [], \"heap\": {\"1\": [\"LIST\", \"cani\", \"gatti\", \"lepri\"]}, \"stdout\": \"Nella lista ci sono:\\ncani\\nNella lista ci sono:\\ngatti\\n\"}, {\"line\": 5, \"event\": \"step_line\", \"func_name\": \"<module>\", \"globals\": {\"animali\": [\"REF\", 1], \"animale\": \"lepri\"}, \"ordered_globals\": [\"animali\", \"animale\"], \"stack_to_render\": [], \"heap\": {\"1\": [\"LIST\", \"cani\", \"gatti\", \"lepri\"]}, \"stdout\": \"Nella lista ci sono:\\ncani\\nNella lista ci sono:\\ngatti\\nNella lista ci sono:\\n\"}, {\"line\": 3, \"event\": \"step_line\", \"func_name\": \"<module>\", \"globals\": {\"animali\": [\"REF\", 1], \"animale\": \"lepri\"}, \"ordered_globals\": [\"animali\", \"animale\"], \"stack_to_render\": [], \"heap\": {\"1\": [\"LIST\", \"cani\", \"gatti\", \"lepri\"]}, \"stdout\": \"Nella lista ci sono:\\ncani\\nNella lista ci sono:\\ngatti\\nNella lista ci sono:\\nlepri\\n\"}, {\"line\": 3, \"event\": \"return\", \"func_name\": \"<module>\", \"globals\": {\"animali\": [\"REF\", 1], \"animale\": \"lepri\"}, \"ordered_globals\": [\"animali\", \"animale\"], \"stack_to_render\": [], \"heap\": {\"1\": [\"LIST\", \"cani\", \"gatti\", \"lepri\"]}, \"stdout\": \"Nella lista ci sono:\\ncani\\nNella lista ci sono:\\ngatti\\nNella lista ci sono:\\nlepri\\n\"}]}\n",
       "        </script>\n",
       "        <div id=\"jm-2445b67bcadd21f58c4c145c459d3efa-4\" class=\"pytutorVisualizer\"> </div>\n",
       "                            \n",
       "        <script>\n",
       "                          \n",
       "        var jmRenderPytut = function(trace_id, div_id, config){\n",
       "            console.log(\"jupman.py embedded javascript: rendering Python tutor visualizer...\")\n",
       "            \n",
       "            let oldAlert = window.alert;\n",
       "            window.alert = function ( text ) { \n",
       "                console.log( 'tried to alert: ', text );         \n",
       "                return true; \n",
       "            };\n",
       "            let executionVisualizer = null;\n",
       "            try {\n",
       "            \n",
       "                var trace = JSON.parse(document.getElementById(trace_id).innerHTML);                                        \n",
       "                // NOTE: id without #\n",
       "                        \n",
       "                executionVisualizer = addVisualizerToPage(trace, div_id, config);\n",
       "                // hack in case visualizer decides to hide them for no good reason\n",
       "                $('#' + div_id + ' #jmpFirstInstr').show();\n",
       "                $('#' + div_id + ' #jmpLastInstr').show();\n",
       "                \n",
       "                // set overflow for pytuts - need to do in python as css \n",
       "                // does not allow parent selection\n",
       "                var pytuts = $('.pytutorVisualizer');\n",
       "                pytuts.closest('div.output_html.rendered_html.output_result')\n",
       "                        .css('overflow-x', 'visible');\n",
       "            \n",
       "                //pytuts.closest('div.output_html.rendered_html.output_result')\n",
       "                //      .css('background-color','red');                \n",
       "            } catch (error) {\n",
       "                console.error(\"jupman slides: Couldn't visualize Python tutor properly\", error);\n",
       "            }\n",
       "            window.alert = oldAlert;\n",
       "            return executionVisualizer;\n",
       "            \n",
       "        };\n",
       "        </script>\n",
       "        \n",
       "        <script>\n",
       "        var pytut_cfg_2445b67bcadd21f58c4c145c459d3efa_4 = (function(){\n",
       "            var rootFontSize = window.getComputedStyle(document.body).getPropertyValue('font-size');\n",
       "            var rootFontSizeNum = 12;\n",
       "            if (rootFontSize.endsWith('px')){\n",
       "                rootFontSizeNum = Number(rootFontSize.substring(0, rootFontSize.length-2));\n",
       "            } else {\n",
       "                console.error(\"Unrecognized font unit:\", rootFontSize, \"assuming default\", rootFontSizeNum);\n",
       "            }\n",
       "            console.log('rootFontSize', rootFontSize);\n",
       "            \n",
       "            var codeWidthInChars = Math.max(23, 34);\n",
       "            if (30){\n",
       "                codeWidthInChars = 30;    // override\n",
       "            }\n",
       "            return {'embeddedMode' : false,\n",
       "                  'disableHeapNesting': true,\n",
       "                  'visualizerIdOverride':'viz-jm-2445b67bcadd21f58c4c145c459d3efa-4',\n",
       "                  'codeDivWidth': Math.trunc(rootFontSizeNum * codeWidthInChars)\n",
       "                  };\n",
       "        })();                 \n",
       "        \n",
       "        jmRenderPytut('trace-jm-2445b67bcadd21f58c4c145c459d3efa-4', 'jm-2445b67bcadd21f58c4c145c459d3efa-4', pytut_cfg_2445b67bcadd21f58c4c145c459d3efa_4);\n",
       "        </script>\n",
       "                \n",
       "    \n",
       "    <div style=\"text-align:center; font-size:0.9em\"> <a href=\"https://pythontutor.com/visualize.html#mode=edit\" target=\"_blank\">Python Tutor</a> visualization</div> \n",
       "    "
      ],
      "text/plain": [
       "<IPython.core.display.HTML object>"
      ]
     },
     "execution_count": 2,
     "metadata": {},
     "output_type": "execute_result"
    }
   ],
   "source": [
    "#jupman-purge-input\n",
    "#jupman-purge-text-output\n",
    "animali = ['cani','gatti','lepri']\n",
    "for animale in animali:\n",
    "    print(\"Nella lista ci sono:\")\n",
    "    print(animale)\n",
    "conf.jm.python_tutor(text_length=30)    "
   ]
  },
  {
   "cell_type": "markdown",
   "id": "f46f77cb",
   "metadata": {
    "colab_type": "text",
    "id": "aYoeEiXoAFYn",
    "slideshow": {
     "slide_type": "fragment"
    }
   },
   "source": [
    "1. abbiamo definito la variabile `animale` \n",
    "2. per ogni elemento nella lista `animali`: \n",
    "\n",
    "    - la variabile `animale` assume il valore dell'elemento\n",
    "    - vengono eseguite le istruzioni dentro il blocco"
   ]
  },
  {
   "cell_type": "markdown",
   "id": "8a726197",
   "metadata": {
    "colab_type": "text",
    "id": "4JM8nJYtAFYx",
    "slideshow": {
     "slide_type": "slide"
    }
   },
   "source": [
    "## Sequenza `range`"
   ]
  },
  {
   "cell_type": "code",
   "execution_count": 3,
   "id": "33830426",
   "metadata": {
    "slideshow": {
     "slide_type": "-"
    }
   },
   "outputs": [
    {
     "data": {
      "text/plain": [
       "range(0, 5)"
      ]
     },
     "execution_count": 3,
     "metadata": {},
     "output_type": "execute_result"
    }
   ],
   "source": [
    "range(5)"
   ]
  },
  {
   "cell_type": "markdown",
   "id": "f2ab0aea",
   "metadata": {
    "slideshow": {
     "slide_type": "fragment"
    }
   },
   "source": [
    "`range(n)` rappresenta una sequenza con i primi numeri da `0` incluso a `n` _escluso_"
   ]
  },
  {
   "cell_type": "markdown",
   "id": "888e7f35",
   "metadata": {
    "slideshow": {
     "slide_type": "fragment"
    }
   },
   "source": [
    "la sequenza è 'congelata'"
   ]
  },
  {
   "cell_type": "markdown",
   "id": "122ad12b",
   "metadata": {
    "slideshow": {
     "slide_type": "fragment"
    }
   },
   "source": [
    "Per materializzare i numeri, convertire esplicitamente a `list`:"
   ]
  },
  {
   "cell_type": "code",
   "execution_count": 4,
   "id": "4265e2b7",
   "metadata": {
    "slideshow": {
     "slide_type": "-"
    }
   },
   "outputs": [
    {
     "data": {
      "text/plain": [
       "[0, 1, 2, 3, 4]"
      ]
     },
     "execution_count": 4,
     "metadata": {},
     "output_type": "execute_result"
    }
   ],
   "source": [
    "list(range(5))"
   ]
  },
  {
   "cell_type": "markdown",
   "id": "65c752e7",
   "metadata": {
    "slideshow": {
     "slide_type": "slide"
    }
   },
   "source": [
    "## for in range\n",
    "\n",
    "Come incrementare un contatore ad ogni ciclo?\n",
    "\n",
    "Possiamo usare `range`\n",
    "\n",
    "Il `for` scorre automaticamente la sequenza:"
   ]
  },
  {
   "cell_type": "code",
   "execution_count": 5,
   "id": "8bc42863",
   "metadata": {
    "colab": {
     "autoexec": {
      "startup": false,
      "wait_interval": 0
     },
     "output_extras": [
      {}
     ]
    },
    "colab_type": "code",
    "id": "AKaswfGQAFYy",
    "outputId": "7110d199-e29a-4c79-9ff6-c04a1b64bb63",
    "slideshow": {
     "slide_type": "-"
    }
   },
   "outputs": [
    {
     "name": "stdout",
     "output_type": "stream",
     "text": [
      "0\n",
      "1\n",
      "2\n",
      "3\n",
      "4\n"
     ]
    },
    {
     "data": {
      "text/html": [
       "        \n",
       "        <script src=\"../_static/js/pytutor-embed.bundle.min.js\" #type=\"application/javascript\"></script>\n",
       "    \n",
       "        <style>\n",
       "        @import \"../_static/css/jupman.css\";\n",
       "        </style>\n",
       "     \n",
       "        <script id=\"trace-jm-9adc1b0e1789538d2cdb86fb58f20a78-7\" type=\"application/json\" >\n",
       "            {\"code\": \" \\nfor indice in range(5):\\n    print(indice)\", \"trace\": [{\"line\": 2, \"event\": \"step_line\", \"func_name\": \"<module>\", \"globals\": {}, \"ordered_globals\": [], \"stack_to_render\": [], \"heap\": {}, \"stdout\": \"\"}, {\"line\": 3, \"event\": \"step_line\", \"func_name\": \"<module>\", \"globals\": {\"indice\": 0}, \"ordered_globals\": [\"indice\"], \"stack_to_render\": [], \"heap\": {}, \"stdout\": \"\"}, {\"line\": 2, \"event\": \"step_line\", \"func_name\": \"<module>\", \"globals\": {\"indice\": 0}, \"ordered_globals\": [\"indice\"], \"stack_to_render\": [], \"heap\": {}, \"stdout\": \"0\\n\"}, {\"line\": 3, \"event\": \"step_line\", \"func_name\": \"<module>\", \"globals\": {\"indice\": 1}, \"ordered_globals\": [\"indice\"], \"stack_to_render\": [], \"heap\": {}, \"stdout\": \"0\\n\"}, {\"line\": 2, \"event\": \"step_line\", \"func_name\": \"<module>\", \"globals\": {\"indice\": 1}, \"ordered_globals\": [\"indice\"], \"stack_to_render\": [], \"heap\": {}, \"stdout\": \"0\\n1\\n\"}, {\"line\": 3, \"event\": \"step_line\", \"func_name\": \"<module>\", \"globals\": {\"indice\": 2}, \"ordered_globals\": [\"indice\"], \"stack_to_render\": [], \"heap\": {}, \"stdout\": \"0\\n1\\n\"}, {\"line\": 2, \"event\": \"step_line\", \"func_name\": \"<module>\", \"globals\": {\"indice\": 2}, \"ordered_globals\": [\"indice\"], \"stack_to_render\": [], \"heap\": {}, \"stdout\": \"0\\n1\\n2\\n\"}, {\"line\": 3, \"event\": \"step_line\", \"func_name\": \"<module>\", \"globals\": {\"indice\": 3}, \"ordered_globals\": [\"indice\"], \"stack_to_render\": [], \"heap\": {}, \"stdout\": \"0\\n1\\n2\\n\"}, {\"line\": 2, \"event\": \"step_line\", \"func_name\": \"<module>\", \"globals\": {\"indice\": 3}, \"ordered_globals\": [\"indice\"], \"stack_to_render\": [], \"heap\": {}, \"stdout\": \"0\\n1\\n2\\n3\\n\"}, {\"line\": 3, \"event\": \"step_line\", \"func_name\": \"<module>\", \"globals\": {\"indice\": 4}, \"ordered_globals\": [\"indice\"], \"stack_to_render\": [], \"heap\": {}, \"stdout\": \"0\\n1\\n2\\n3\\n\"}, {\"line\": 2, \"event\": \"step_line\", \"func_name\": \"<module>\", \"globals\": {\"indice\": 4}, \"ordered_globals\": [\"indice\"], \"stack_to_render\": [], \"heap\": {}, \"stdout\": \"0\\n1\\n2\\n3\\n4\\n\"}, {\"line\": 2, \"event\": \"return\", \"func_name\": \"<module>\", \"globals\": {\"indice\": 4}, \"ordered_globals\": [\"indice\"], \"stack_to_render\": [], \"heap\": {}, \"stdout\": \"0\\n1\\n2\\n3\\n4\\n\"}]}\n",
       "        </script>\n",
       "        <div id=\"jm-9adc1b0e1789538d2cdb86fb58f20a78-7\" class=\"pytutorVisualizer\"> </div>\n",
       "                            \n",
       "        <script>\n",
       "                          \n",
       "        var jmRenderPytut = function(trace_id, div_id, config){\n",
       "            console.log(\"jupman.py embedded javascript: rendering Python tutor visualizer...\")\n",
       "            \n",
       "            let oldAlert = window.alert;\n",
       "            window.alert = function ( text ) { \n",
       "                console.log( 'tried to alert: ', text );         \n",
       "                return true; \n",
       "            };\n",
       "            let executionVisualizer = null;\n",
       "            try {\n",
       "            \n",
       "                var trace = JSON.parse(document.getElementById(trace_id).innerHTML);                                        \n",
       "                // NOTE: id without #\n",
       "                        \n",
       "                executionVisualizer = addVisualizerToPage(trace, div_id, config);\n",
       "                // hack in case visualizer decides to hide them for no good reason\n",
       "                $('#' + div_id + ' #jmpFirstInstr').show();\n",
       "                $('#' + div_id + ' #jmpLastInstr').show();\n",
       "                \n",
       "                // set overflow for pytuts - need to do in python as css \n",
       "                // does not allow parent selection\n",
       "                var pytuts = $('.pytutorVisualizer');\n",
       "                pytuts.closest('div.output_html.rendered_html.output_result')\n",
       "                        .css('overflow-x', 'visible');\n",
       "            \n",
       "                //pytuts.closest('div.output_html.rendered_html.output_result')\n",
       "                //      .css('background-color','red');                \n",
       "            } catch (error) {\n",
       "                console.error(\"jupman slides: Couldn't visualize Python tutor properly\", error);\n",
       "            }\n",
       "            window.alert = oldAlert;\n",
       "            return executionVisualizer;\n",
       "            \n",
       "        };\n",
       "        </script>\n",
       "        \n",
       "        <script>\n",
       "        var pytut_cfg_9adc1b0e1789538d2cdb86fb58f20a78_7 = (function(){\n",
       "            var rootFontSize = window.getComputedStyle(document.body).getPropertyValue('font-size');\n",
       "            var rootFontSizeNum = 12;\n",
       "            if (rootFontSize.endsWith('px')){\n",
       "                rootFontSizeNum = Number(rootFontSize.substring(0, rootFontSize.length-2));\n",
       "            } else {\n",
       "                console.error(\"Unrecognized font unit:\", rootFontSize, \"assuming default\", rootFontSizeNum);\n",
       "            }\n",
       "            console.log('rootFontSize', rootFontSize);\n",
       "            \n",
       "            var codeWidthInChars = Math.max(23, 23);\n",
       "            if (0){\n",
       "                codeWidthInChars = 0;    // override\n",
       "            }\n",
       "            return {'embeddedMode' : false,\n",
       "                  'disableHeapNesting': true,\n",
       "                  'visualizerIdOverride':'viz-jm-9adc1b0e1789538d2cdb86fb58f20a78-7',\n",
       "                  'codeDivWidth': Math.trunc(rootFontSizeNum * codeWidthInChars)\n",
       "                  };\n",
       "        })();                 \n",
       "        \n",
       "        jmRenderPytut('trace-jm-9adc1b0e1789538d2cdb86fb58f20a78-7', 'jm-9adc1b0e1789538d2cdb86fb58f20a78-7', pytut_cfg_9adc1b0e1789538d2cdb86fb58f20a78_7);\n",
       "        </script>\n",
       "                \n",
       "    \n",
       "    <div style=\"text-align:center; font-size:0.9em\"> <a href=\"https://pythontutor.com/visualize.html#mode=edit\" target=\"_blank\">Python Tutor</a> visualization</div> \n",
       "    "
      ],
      "text/plain": [
       "<IPython.core.display.HTML object>"
      ]
     },
     "execution_count": 5,
     "metadata": {},
     "output_type": "execute_result"
    }
   ],
   "source": [
    "#jupman-purge-input\n",
    "#jupman-purge-text-output\n",
    "for indice in range(5):\n",
    "    print(indice)\n",
    "conf.jm.python_tutor()    "
   ]
  },
  {
   "cell_type": "markdown",
   "id": "10e1e426",
   "metadata": {
    "slideshow": {
     "slide_type": "subslide"
    }
   },
   "source": [
    "### A cosa serve `for in range`? 1/2\n",
    "\n",
    "Per leggere da una lista possiamo usare gli indici:"
   ]
  },
  {
   "cell_type": "code",
   "execution_count": 6,
   "id": "8ab019e7",
   "metadata": {
    "slideshow": {
     "slide_type": "-"
    }
   },
   "outputs": [
    {
     "name": "stdout",
     "output_type": "stream",
     "text": [
      "cani\n",
      "gatti\n",
      "lepri\n"
     ]
    },
    {
     "data": {
      "text/html": [
       "        \n",
       "        <script src=\"../_static/js/pytutor-embed.bundle.min.js\" #type=\"application/javascript\"></script>\n",
       "    \n",
       "        <style>\n",
       "        @import \"../_static/css/jupman.css\";\n",
       "        </style>\n",
       "     \n",
       "        <script id=\"trace-jm-ab5b76bef1b449594d9ff720cba948aa-8\" type=\"application/json\" >\n",
       "            {\"code\": \" \\nanimali=['cani','gatti','lepri']\\n\\nfor indice in range(len(animali)):        \\n    print(animali[indice])\", \"trace\": [{\"line\": 2, \"event\": \"step_line\", \"func_name\": \"<module>\", \"globals\": {}, \"ordered_globals\": [], \"stack_to_render\": [], \"heap\": {}, \"stdout\": \"\"}, {\"line\": 4, \"event\": \"step_line\", \"func_name\": \"<module>\", \"globals\": {\"animali\": [\"REF\", 1]}, \"ordered_globals\": [\"animali\"], \"stack_to_render\": [], \"heap\": {\"1\": [\"LIST\", \"cani\", \"gatti\", \"lepri\"]}, \"stdout\": \"\"}, {\"line\": 5, \"event\": \"step_line\", \"func_name\": \"<module>\", \"globals\": {\"animali\": [\"REF\", 1], \"indice\": 0}, \"ordered_globals\": [\"animali\", \"indice\"], \"stack_to_render\": [], \"heap\": {\"1\": [\"LIST\", \"cani\", \"gatti\", \"lepri\"]}, \"stdout\": \"\"}, {\"line\": 4, \"event\": \"step_line\", \"func_name\": \"<module>\", \"globals\": {\"animali\": [\"REF\", 1], \"indice\": 0}, \"ordered_globals\": [\"animali\", \"indice\"], \"stack_to_render\": [], \"heap\": {\"1\": [\"LIST\", \"cani\", \"gatti\", \"lepri\"]}, \"stdout\": \"cani\\n\"}, {\"line\": 5, \"event\": \"step_line\", \"func_name\": \"<module>\", \"globals\": {\"animali\": [\"REF\", 1], \"indice\": 1}, \"ordered_globals\": [\"animali\", \"indice\"], \"stack_to_render\": [], \"heap\": {\"1\": [\"LIST\", \"cani\", \"gatti\", \"lepri\"]}, \"stdout\": \"cani\\n\"}, {\"line\": 4, \"event\": \"step_line\", \"func_name\": \"<module>\", \"globals\": {\"animali\": [\"REF\", 1], \"indice\": 1}, \"ordered_globals\": [\"animali\", \"indice\"], \"stack_to_render\": [], \"heap\": {\"1\": [\"LIST\", \"cani\", \"gatti\", \"lepri\"]}, \"stdout\": \"cani\\ngatti\\n\"}, {\"line\": 5, \"event\": \"step_line\", \"func_name\": \"<module>\", \"globals\": {\"animali\": [\"REF\", 1], \"indice\": 2}, \"ordered_globals\": [\"animali\", \"indice\"], \"stack_to_render\": [], \"heap\": {\"1\": [\"LIST\", \"cani\", \"gatti\", \"lepri\"]}, \"stdout\": \"cani\\ngatti\\n\"}, {\"line\": 4, \"event\": \"step_line\", \"func_name\": \"<module>\", \"globals\": {\"animali\": [\"REF\", 1], \"indice\": 2}, \"ordered_globals\": [\"animali\", \"indice\"], \"stack_to_render\": [], \"heap\": {\"1\": [\"LIST\", \"cani\", \"gatti\", \"lepri\"]}, \"stdout\": \"cani\\ngatti\\nlepri\\n\"}, {\"line\": 4, \"event\": \"return\", \"func_name\": \"<module>\", \"globals\": {\"animali\": [\"REF\", 1], \"indice\": 2}, \"ordered_globals\": [\"animali\", \"indice\"], \"stack_to_render\": [], \"heap\": {\"1\": [\"LIST\", \"cani\", \"gatti\", \"lepri\"]}, \"stdout\": \"cani\\ngatti\\nlepri\\n\"}]}\n",
       "        </script>\n",
       "        <div id=\"jm-ab5b76bef1b449594d9ff720cba948aa-8\" class=\"pytutorVisualizer\"> </div>\n",
       "                            \n",
       "        <script>\n",
       "                          \n",
       "        var jmRenderPytut = function(trace_id, div_id, config){\n",
       "            console.log(\"jupman.py embedded javascript: rendering Python tutor visualizer...\")\n",
       "            \n",
       "            let oldAlert = window.alert;\n",
       "            window.alert = function ( text ) { \n",
       "                console.log( 'tried to alert: ', text );         \n",
       "                return true; \n",
       "            };\n",
       "            let executionVisualizer = null;\n",
       "            try {\n",
       "            \n",
       "                var trace = JSON.parse(document.getElementById(trace_id).innerHTML);                                        \n",
       "                // NOTE: id without #\n",
       "                        \n",
       "                executionVisualizer = addVisualizerToPage(trace, div_id, config);\n",
       "                // hack in case visualizer decides to hide them for no good reason\n",
       "                $('#' + div_id + ' #jmpFirstInstr').show();\n",
       "                $('#' + div_id + ' #jmpLastInstr').show();\n",
       "                \n",
       "                // set overflow for pytuts - need to do in python as css \n",
       "                // does not allow parent selection\n",
       "                var pytuts = $('.pytutorVisualizer');\n",
       "                pytuts.closest('div.output_html.rendered_html.output_result')\n",
       "                        .css('overflow-x', 'visible');\n",
       "            \n",
       "                //pytuts.closest('div.output_html.rendered_html.output_result')\n",
       "                //      .css('background-color','red');                \n",
       "            } catch (error) {\n",
       "                console.error(\"jupman slides: Couldn't visualize Python tutor properly\", error);\n",
       "            }\n",
       "            window.alert = oldAlert;\n",
       "            return executionVisualizer;\n",
       "            \n",
       "        };\n",
       "        </script>\n",
       "        \n",
       "        <script>\n",
       "        var pytut_cfg_ab5b76bef1b449594d9ff720cba948aa_8 = (function(){\n",
       "            var rootFontSize = window.getComputedStyle(document.body).getPropertyValue('font-size');\n",
       "            var rootFontSizeNum = 12;\n",
       "            if (rootFontSize.endsWith('px')){\n",
       "                rootFontSizeNum = Number(rootFontSize.substring(0, rootFontSize.length-2));\n",
       "            } else {\n",
       "                console.error(\"Unrecognized font unit:\", rootFontSize, \"assuming default\", rootFontSizeNum);\n",
       "            }\n",
       "            console.log('rootFontSize', rootFontSize);\n",
       "            \n",
       "            var codeWidthInChars = Math.max(23, 42);\n",
       "            if (28){\n",
       "                codeWidthInChars = 28;    // override\n",
       "            }\n",
       "            return {'embeddedMode' : false,\n",
       "                  'disableHeapNesting': true,\n",
       "                  'visualizerIdOverride':'viz-jm-ab5b76bef1b449594d9ff720cba948aa-8',\n",
       "                  'codeDivWidth': Math.trunc(rootFontSizeNum * codeWidthInChars)\n",
       "                  };\n",
       "        })();                 \n",
       "        \n",
       "        jmRenderPytut('trace-jm-ab5b76bef1b449594d9ff720cba948aa-8', 'jm-ab5b76bef1b449594d9ff720cba948aa-8', pytut_cfg_ab5b76bef1b449594d9ff720cba948aa_8);\n",
       "        </script>\n",
       "                \n",
       "    \n",
       "    <div style=\"text-align:center; font-size:0.9em\"> <a href=\"https://pythontutor.com/visualize.html#mode=edit\" target=\"_blank\">Python Tutor</a> visualization</div> \n",
       "    "
      ],
      "text/plain": [
       "<IPython.core.display.HTML object>"
      ]
     },
     "execution_count": 6,
     "metadata": {},
     "output_type": "execute_result"
    }
   ],
   "source": [
    "#jupman-purge-input\n",
    "#jupman-purge-text-output\n",
    "animali=['cani','gatti','lepri']\n",
    "\n",
    "for indice in range(len(animali)):        \n",
    "    print(animali[indice])\n",
    "conf.jm.python_tutor(text_length=28)        "
   ]
  },
  {
   "cell_type": "markdown",
   "id": "9245c08d",
   "metadata": {
    "colab_type": "text",
    "id": "Z5jrBwStAFZQ",
    "slideshow": {
     "slide_type": "subslide"
    }
   },
   "source": [
    "### A cosa serve `for in range`? 2/2\n",
    "\n",
    "Per MODIFICARE celle esistenti di una lista, **dobbiamo** usare gli indici:"
   ]
  },
  {
   "cell_type": "code",
   "execution_count": 7,
   "id": "ecf802ff",
   "metadata": {
    "slideshow": {
     "slide_type": "-"
    }
   },
   "outputs": [
    {
     "name": "stdout",
     "output_type": "stream",
     "text": [
      "['CANI', 'GATTI', 'LEPRI']\n"
     ]
    },
    {
     "data": {
      "text/html": [
       "        \n",
       "        <script src=\"../_static/js/pytutor-embed.bundle.min.js\" #type=\"application/javascript\"></script>\n",
       "    \n",
       "        <style>\n",
       "        @import \"../_static/css/jupman.css\";\n",
       "        </style>\n",
       "     \n",
       "        <script id=\"trace-jm-a4811037ec263e1a04400c431ec1ed88-9\" type=\"application/json\" >\n",
       "            {\"code\": \" \\nanimali=['cani','gatti','lepri']\\n\\nfor indice in range(len(animali)):    \\n    maiuscolo = animali[indice].upper()  \\n    animali[indice] = maiuscolo\\n    \\nprint(animali)\", \"trace\": [{\"line\": 2, \"event\": \"step_line\", \"func_name\": \"<module>\", \"globals\": {}, \"ordered_globals\": [], \"stack_to_render\": [], \"heap\": {}, \"stdout\": \"\"}, {\"line\": 4, \"event\": \"step_line\", \"func_name\": \"<module>\", \"globals\": {\"animali\": [\"REF\", 1]}, \"ordered_globals\": [\"animali\"], \"stack_to_render\": [], \"heap\": {\"1\": [\"LIST\", \"cani\", \"gatti\", \"lepri\"]}, \"stdout\": \"\"}, {\"line\": 5, \"event\": \"step_line\", \"func_name\": \"<module>\", \"globals\": {\"animali\": [\"REF\", 1], \"indice\": 0}, \"ordered_globals\": [\"animali\", \"indice\"], \"stack_to_render\": [], \"heap\": {\"1\": [\"LIST\", \"cani\", \"gatti\", \"lepri\"]}, \"stdout\": \"\"}, {\"line\": 6, \"event\": \"step_line\", \"func_name\": \"<module>\", \"globals\": {\"animali\": [\"REF\", 1], \"indice\": 0, \"maiuscolo\": \"CANI\"}, \"ordered_globals\": [\"animali\", \"indice\", \"maiuscolo\"], \"stack_to_render\": [], \"heap\": {\"1\": [\"LIST\", \"cani\", \"gatti\", \"lepri\"]}, \"stdout\": \"\"}, {\"line\": 4, \"event\": \"step_line\", \"func_name\": \"<module>\", \"globals\": {\"animali\": [\"REF\", 1], \"indice\": 0, \"maiuscolo\": \"CANI\"}, \"ordered_globals\": [\"animali\", \"indice\", \"maiuscolo\"], \"stack_to_render\": [], \"heap\": {\"1\": [\"LIST\", \"CANI\", \"gatti\", \"lepri\"]}, \"stdout\": \"\"}, {\"line\": 5, \"event\": \"step_line\", \"func_name\": \"<module>\", \"globals\": {\"animali\": [\"REF\", 1], \"indice\": 1, \"maiuscolo\": \"CANI\"}, \"ordered_globals\": [\"animali\", \"indice\", \"maiuscolo\"], \"stack_to_render\": [], \"heap\": {\"1\": [\"LIST\", \"CANI\", \"gatti\", \"lepri\"]}, \"stdout\": \"\"}, {\"line\": 6, \"event\": \"step_line\", \"func_name\": \"<module>\", \"globals\": {\"animali\": [\"REF\", 1], \"indice\": 1, \"maiuscolo\": \"GATTI\"}, \"ordered_globals\": [\"animali\", \"indice\", \"maiuscolo\"], \"stack_to_render\": [], \"heap\": {\"1\": [\"LIST\", \"CANI\", \"gatti\", \"lepri\"]}, \"stdout\": \"\"}, {\"line\": 4, \"event\": \"step_line\", \"func_name\": \"<module>\", \"globals\": {\"animali\": [\"REF\", 1], \"indice\": 1, \"maiuscolo\": \"GATTI\"}, \"ordered_globals\": [\"animali\", \"indice\", \"maiuscolo\"], \"stack_to_render\": [], \"heap\": {\"1\": [\"LIST\", \"CANI\", \"GATTI\", \"lepri\"]}, \"stdout\": \"\"}, {\"line\": 5, \"event\": \"step_line\", \"func_name\": \"<module>\", \"globals\": {\"animali\": [\"REF\", 1], \"indice\": 2, \"maiuscolo\": \"GATTI\"}, \"ordered_globals\": [\"animali\", \"indice\", \"maiuscolo\"], \"stack_to_render\": [], \"heap\": {\"1\": [\"LIST\", \"CANI\", \"GATTI\", \"lepri\"]}, \"stdout\": \"\"}, {\"line\": 6, \"event\": \"step_line\", \"func_name\": \"<module>\", \"globals\": {\"animali\": [\"REF\", 1], \"indice\": 2, \"maiuscolo\": \"LEPRI\"}, \"ordered_globals\": [\"animali\", \"indice\", \"maiuscolo\"], \"stack_to_render\": [], \"heap\": {\"1\": [\"LIST\", \"CANI\", \"GATTI\", \"lepri\"]}, \"stdout\": \"\"}, {\"line\": 4, \"event\": \"step_line\", \"func_name\": \"<module>\", \"globals\": {\"animali\": [\"REF\", 1], \"indice\": 2, \"maiuscolo\": \"LEPRI\"}, \"ordered_globals\": [\"animali\", \"indice\", \"maiuscolo\"], \"stack_to_render\": [], \"heap\": {\"1\": [\"LIST\", \"CANI\", \"GATTI\", \"LEPRI\"]}, \"stdout\": \"\"}, {\"line\": 8, \"event\": \"step_line\", \"func_name\": \"<module>\", \"globals\": {\"animali\": [\"REF\", 1], \"indice\": 2, \"maiuscolo\": \"LEPRI\"}, \"ordered_globals\": [\"animali\", \"indice\", \"maiuscolo\"], \"stack_to_render\": [], \"heap\": {\"1\": [\"LIST\", \"CANI\", \"GATTI\", \"LEPRI\"]}, \"stdout\": \"\"}, {\"line\": 8, \"event\": \"return\", \"func_name\": \"<module>\", \"globals\": {\"animali\": [\"REF\", 1], \"indice\": 2, \"maiuscolo\": \"LEPRI\"}, \"ordered_globals\": [\"animali\", \"indice\", \"maiuscolo\"], \"stack_to_render\": [], \"heap\": {\"1\": [\"LIST\", \"CANI\", \"GATTI\", \"LEPRI\"]}, \"stdout\": \"['CANI', 'GATTI', 'LEPRI']\\n\"}]}\n",
       "        </script>\n",
       "        <div id=\"jm-a4811037ec263e1a04400c431ec1ed88-9\" class=\"pytutorVisualizer\"> </div>\n",
       "                            \n",
       "        <script>\n",
       "                          \n",
       "        var jmRenderPytut = function(trace_id, div_id, config){\n",
       "            console.log(\"jupman.py embedded javascript: rendering Python tutor visualizer...\")\n",
       "            \n",
       "            let oldAlert = window.alert;\n",
       "            window.alert = function ( text ) { \n",
       "                console.log( 'tried to alert: ', text );         \n",
       "                return true; \n",
       "            };\n",
       "            let executionVisualizer = null;\n",
       "            try {\n",
       "            \n",
       "                var trace = JSON.parse(document.getElementById(trace_id).innerHTML);                                        \n",
       "                // NOTE: id without #\n",
       "                        \n",
       "                executionVisualizer = addVisualizerToPage(trace, div_id, config);\n",
       "                // hack in case visualizer decides to hide them for no good reason\n",
       "                $('#' + div_id + ' #jmpFirstInstr').show();\n",
       "                $('#' + div_id + ' #jmpLastInstr').show();\n",
       "                \n",
       "                // set overflow for pytuts - need to do in python as css \n",
       "                // does not allow parent selection\n",
       "                var pytuts = $('.pytutorVisualizer');\n",
       "                pytuts.closest('div.output_html.rendered_html.output_result')\n",
       "                        .css('overflow-x', 'visible');\n",
       "            \n",
       "                //pytuts.closest('div.output_html.rendered_html.output_result')\n",
       "                //      .css('background-color','red');                \n",
       "            } catch (error) {\n",
       "                console.error(\"jupman slides: Couldn't visualize Python tutor properly\", error);\n",
       "            }\n",
       "            window.alert = oldAlert;\n",
       "            return executionVisualizer;\n",
       "            \n",
       "        };\n",
       "        </script>\n",
       "        \n",
       "        <script>\n",
       "        var pytut_cfg_a4811037ec263e1a04400c431ec1ed88_9 = (function(){\n",
       "            var rootFontSize = window.getComputedStyle(document.body).getPropertyValue('font-size');\n",
       "            var rootFontSizeNum = 12;\n",
       "            if (rootFontSize.endsWith('px')){\n",
       "                rootFontSizeNum = Number(rootFontSize.substring(0, rootFontSize.length-2));\n",
       "            } else {\n",
       "                console.error(\"Unrecognized font unit:\", rootFontSize, \"assuming default\", rootFontSizeNum);\n",
       "            }\n",
       "            console.log('rootFontSize', rootFontSize);\n",
       "            \n",
       "            var codeWidthInChars = Math.max(23, 41);\n",
       "            if (30){\n",
       "                codeWidthInChars = 30;    // override\n",
       "            }\n",
       "            return {'embeddedMode' : false,\n",
       "                  'disableHeapNesting': true,\n",
       "                  'visualizerIdOverride':'viz-jm-a4811037ec263e1a04400c431ec1ed88-9',\n",
       "                  'codeDivWidth': Math.trunc(rootFontSizeNum * codeWidthInChars)\n",
       "                  };\n",
       "        })();                 \n",
       "        \n",
       "        jmRenderPytut('trace-jm-a4811037ec263e1a04400c431ec1ed88-9', 'jm-a4811037ec263e1a04400c431ec1ed88-9', pytut_cfg_a4811037ec263e1a04400c431ec1ed88_9);\n",
       "        </script>\n",
       "                \n",
       "    \n",
       "    <div style=\"text-align:center; font-size:0.9em\"> <a href=\"https://pythontutor.com/visualize.html#mode=edit\" target=\"_blank\">Python Tutor</a> visualization</div> \n",
       "    "
      ],
      "text/plain": [
       "<IPython.core.display.HTML object>"
      ]
     },
     "execution_count": 7,
     "metadata": {},
     "output_type": "execute_result"
    }
   ],
   "source": [
    "#jupman-purge-input\n",
    "#jupman-purge-text-output\n",
    "animali=['cani','gatti','lepri']\n",
    "\n",
    "for indice in range(len(animali)):    \n",
    "    maiuscolo = animali[indice].upper()  \n",
    "    animali[indice] = maiuscolo\n",
    "    \n",
    "print(animali)    \n",
    "conf.jm.python_tutor(text_length=30)"
   ]
  },
  {
   "cell_type": "markdown",
   "id": "662b3c15",
   "metadata": {
    "slideshow": {
     "slide_type": "fragment"
    }
   },
   "source": [
    "Senza indici, non funziona:"
   ]
  },
  {
   "cell_type": "code",
   "execution_count": 8,
   "id": "dc58bc12",
   "metadata": {
    "slideshow": {
     "slide_type": "-"
    }
   },
   "outputs": [
    {
     "name": "stdout",
     "output_type": "stream",
     "text": [
      "['cani', 'gatti', 'scoiattoli']\n"
     ]
    },
    {
     "data": {
      "text/html": [
       "        \n",
       "        <script src=\"../_static/js/pytutor-embed.bundle.min.js\" #type=\"application/javascript\"></script>\n",
       "    \n",
       "        <style>\n",
       "        @import \"../_static/css/jupman.css\";\n",
       "        </style>\n",
       "     \n",
       "        <script id=\"trace-jm-a07a0707d054ca291a882703ae9620a3-10\" type=\"application/json\" >\n",
       "            {\"code\": \" \\nanimali = ['cani', 'gatti', 'scoiattoli']\\n\\nfor animale in animali:\\n    animale = animale.upper()  # SBAGLIATO, NON FA NULLA\\nprint(animali)\", \"trace\": [{\"line\": 2, \"event\": \"step_line\", \"func_name\": \"<module>\", \"globals\": {}, \"ordered_globals\": [], \"stack_to_render\": [], \"heap\": {}, \"stdout\": \"\"}, {\"line\": 4, \"event\": \"step_line\", \"func_name\": \"<module>\", \"globals\": {\"animali\": [\"REF\", 1]}, \"ordered_globals\": [\"animali\"], \"stack_to_render\": [], \"heap\": {\"1\": [\"LIST\", \"cani\", \"gatti\", \"scoiattoli\"]}, \"stdout\": \"\"}, {\"line\": 5, \"event\": \"step_line\", \"func_name\": \"<module>\", \"globals\": {\"animali\": [\"REF\", 1], \"animale\": \"cani\"}, \"ordered_globals\": [\"animali\", \"animale\"], \"stack_to_render\": [], \"heap\": {\"1\": [\"LIST\", \"cani\", \"gatti\", \"scoiattoli\"]}, \"stdout\": \"\"}, {\"line\": 4, \"event\": \"step_line\", \"func_name\": \"<module>\", \"globals\": {\"animali\": [\"REF\", 1], \"animale\": \"CANI\"}, \"ordered_globals\": [\"animali\", \"animale\"], \"stack_to_render\": [], \"heap\": {\"1\": [\"LIST\", \"cani\", \"gatti\", \"scoiattoli\"]}, \"stdout\": \"\"}, {\"line\": 5, \"event\": \"step_line\", \"func_name\": \"<module>\", \"globals\": {\"animali\": [\"REF\", 1], \"animale\": \"gatti\"}, \"ordered_globals\": [\"animali\", \"animale\"], \"stack_to_render\": [], \"heap\": {\"1\": [\"LIST\", \"cani\", \"gatti\", \"scoiattoli\"]}, \"stdout\": \"\"}, {\"line\": 4, \"event\": \"step_line\", \"func_name\": \"<module>\", \"globals\": {\"animali\": [\"REF\", 1], \"animale\": \"GATTI\"}, \"ordered_globals\": [\"animali\", \"animale\"], \"stack_to_render\": [], \"heap\": {\"1\": [\"LIST\", \"cani\", \"gatti\", \"scoiattoli\"]}, \"stdout\": \"\"}, {\"line\": 5, \"event\": \"step_line\", \"func_name\": \"<module>\", \"globals\": {\"animali\": [\"REF\", 1], \"animale\": \"scoiattoli\"}, \"ordered_globals\": [\"animali\", \"animale\"], \"stack_to_render\": [], \"heap\": {\"1\": [\"LIST\", \"cani\", \"gatti\", \"scoiattoli\"]}, \"stdout\": \"\"}, {\"line\": 4, \"event\": \"step_line\", \"func_name\": \"<module>\", \"globals\": {\"animali\": [\"REF\", 1], \"animale\": \"SCOIATTOLI\"}, \"ordered_globals\": [\"animali\", \"animale\"], \"stack_to_render\": [], \"heap\": {\"1\": [\"LIST\", \"cani\", \"gatti\", \"scoiattoli\"]}, \"stdout\": \"\"}, {\"line\": 6, \"event\": \"step_line\", \"func_name\": \"<module>\", \"globals\": {\"animali\": [\"REF\", 1], \"animale\": \"SCOIATTOLI\"}, \"ordered_globals\": [\"animali\", \"animale\"], \"stack_to_render\": [], \"heap\": {\"1\": [\"LIST\", \"cani\", \"gatti\", \"scoiattoli\"]}, \"stdout\": \"\"}, {\"line\": 6, \"event\": \"return\", \"func_name\": \"<module>\", \"globals\": {\"animali\": [\"REF\", 1], \"animale\": \"SCOIATTOLI\"}, \"ordered_globals\": [\"animali\", \"animale\"], \"stack_to_render\": [], \"heap\": {\"1\": [\"LIST\", \"cani\", \"gatti\", \"scoiattoli\"]}, \"stdout\": \"['cani', 'gatti', 'scoiattoli']\\n\"}]}\n",
       "        </script>\n",
       "        <div id=\"jm-a07a0707d054ca291a882703ae9620a3-10\" class=\"pytutorVisualizer\"> </div>\n",
       "                            \n",
       "        <script>\n",
       "                          \n",
       "        var jmRenderPytut = function(trace_id, div_id, config){\n",
       "            console.log(\"jupman.py embedded javascript: rendering Python tutor visualizer...\")\n",
       "            \n",
       "            let oldAlert = window.alert;\n",
       "            window.alert = function ( text ) { \n",
       "                console.log( 'tried to alert: ', text );         \n",
       "                return true; \n",
       "            };\n",
       "            let executionVisualizer = null;\n",
       "            try {\n",
       "            \n",
       "                var trace = JSON.parse(document.getElementById(trace_id).innerHTML);                                        \n",
       "                // NOTE: id without #\n",
       "                        \n",
       "                executionVisualizer = addVisualizerToPage(trace, div_id, config);\n",
       "                // hack in case visualizer decides to hide them for no good reason\n",
       "                $('#' + div_id + ' #jmpFirstInstr').show();\n",
       "                $('#' + div_id + ' #jmpLastInstr').show();\n",
       "                \n",
       "                // set overflow for pytuts - need to do in python as css \n",
       "                // does not allow parent selection\n",
       "                var pytuts = $('.pytutorVisualizer');\n",
       "                pytuts.closest('div.output_html.rendered_html.output_result')\n",
       "                        .css('overflow-x', 'visible');\n",
       "            \n",
       "                //pytuts.closest('div.output_html.rendered_html.output_result')\n",
       "                //      .css('background-color','red');                \n",
       "            } catch (error) {\n",
       "                console.error(\"jupman slides: Couldn't visualize Python tutor properly\", error);\n",
       "            }\n",
       "            window.alert = oldAlert;\n",
       "            return executionVisualizer;\n",
       "            \n",
       "        };\n",
       "        </script>\n",
       "        \n",
       "        <script>\n",
       "        var pytut_cfg_a07a0707d054ca291a882703ae9620a3_10 = (function(){\n",
       "            var rootFontSize = window.getComputedStyle(document.body).getPropertyValue('font-size');\n",
       "            var rootFontSizeNum = 12;\n",
       "            if (rootFontSize.endsWith('px')){\n",
       "                rootFontSizeNum = Number(rootFontSize.substring(0, rootFontSize.length-2));\n",
       "            } else {\n",
       "                console.error(\"Unrecognized font unit:\", rootFontSize, \"assuming default\", rootFontSizeNum);\n",
       "            }\n",
       "            console.log('rootFontSize', rootFontSize);\n",
       "            \n",
       "            var codeWidthInChars = Math.max(23, 56);\n",
       "            if (34){\n",
       "                codeWidthInChars = 34;    // override\n",
       "            }\n",
       "            return {'embeddedMode' : false,\n",
       "                  'disableHeapNesting': true,\n",
       "                  'visualizerIdOverride':'viz-jm-a07a0707d054ca291a882703ae9620a3-10',\n",
       "                  'codeDivWidth': Math.trunc(rootFontSizeNum * codeWidthInChars)\n",
       "                  };\n",
       "        })();                 \n",
       "        \n",
       "        jmRenderPytut('trace-jm-a07a0707d054ca291a882703ae9620a3-10', 'jm-a07a0707d054ca291a882703ae9620a3-10', pytut_cfg_a07a0707d054ca291a882703ae9620a3_10);\n",
       "        </script>\n",
       "                \n",
       "    \n",
       "    <div style=\"text-align:center; font-size:0.9em\"> <a href=\"https://pythontutor.com/visualize.html#mode=edit\" target=\"_blank\">Python Tutor</a> visualization</div> \n",
       "    "
      ],
      "text/plain": [
       "<IPython.core.display.HTML object>"
      ]
     },
     "execution_count": 8,
     "metadata": {},
     "output_type": "execute_result"
    }
   ],
   "source": [
    "#jupman-purge-input\n",
    "#jupman-purge-text-output\n",
    "animali = ['cani', 'gatti', 'scoiattoli']\n",
    "\n",
    "for animale in animali:\n",
    "    animale = animale.upper()  # SBAGLIATO, NON FA NULLA\n",
    "print(animali)    \n",
    "conf.jm.python_tutor(text_length=34)"
   ]
  },
  {
   "cell_type": "markdown",
   "id": "43403dcb",
   "metadata": {
    "slideshow": {
     "slide_type": "subslide"
    }
   },
   "source": [
    "## Sequenze mutabili - non aggiungere\n",
    "\n",
    "<div class=\"jupman-alert-principle\" >\n",
    "<div class=\"alert alert-info\" >\n",
    "\n",
    "[X COMANDAMENTO a)](https://it.softpython.org/commandments.html#X-COMANDAMENTO): **Non aggiungerai mai elementi da una sequenza <br> che iteri con un** `for` **!**\n",
    "</div>\n",
    "    \n",
    "```python\n",
    "la = ['a','b','c']\n",
    "    \n",
    "for elemento in la:\n",
    "    la.append(elemento)    # ATTENZIONE !\n",
    "```"
   ]
  },
  {
   "cell_type": "markdown",
   "id": "980a9777",
   "metadata": {
    "slideshow": {
     "slide_type": "subslide"
    }
   },
   "source": [
    "## Sequenze mutabili - non togliere\n",
    "\n",
    "<div class=\"jupman-alert-principle\" >\n",
    "<div class=\"alert alert-info\" >\n",
    "\n",
    "[X COMANDAMENTO b)](https://it.softpython.org/commandments.html#X-COMANDAMENTO): **Non toglierai mai elementi da una sequenza <br> che iteri con un** `for` **!**\n",
    "</div>"
   ]
  },
  {
   "cell_type": "code",
   "execution_count": 9,
   "id": "e3bf216d",
   "metadata": {
    "slideshow": {
     "slide_type": "-"
    }
   },
   "outputs": [
    {
     "name": "stdout",
     "output_type": "stream",
     "text": [
      "['b', 'd']\n"
     ]
    },
    {
     "data": {
      "text/html": [
       "        \n",
       "        <script src=\"../_static/js/pytutor-embed.bundle.min.js\" #type=\"application/javascript\"></script>\n",
       "    \n",
       "        <style>\n",
       "        @import \"../_static/css/jupman.css\";\n",
       "        </style>\n",
       "     \n",
       "        <script id=\"trace-jm-bf3e4c9793b890d605347a73558ce9ea-11\" type=\"application/json\" >\n",
       "            {\"code\": \" \\nlista = ['a','b','c','d','e']\\nfor el in lista:\\n    lista.remove(el)   # PESSIMA IDEA\\n\\nprint(lista)  # RISULTATO IMPREVEDIBILE  !!!!\", \"trace\": [{\"line\": 2, \"event\": \"step_line\", \"func_name\": \"<module>\", \"globals\": {}, \"ordered_globals\": [], \"stack_to_render\": [], \"heap\": {}, \"stdout\": \"\"}, {\"line\": 3, \"event\": \"step_line\", \"func_name\": \"<module>\", \"globals\": {\"lista\": [\"REF\", 1]}, \"ordered_globals\": [\"lista\"], \"stack_to_render\": [], \"heap\": {\"1\": [\"LIST\", \"a\", \"b\", \"c\", \"d\", \"e\"]}, \"stdout\": \"\"}, {\"line\": 4, \"event\": \"step_line\", \"func_name\": \"<module>\", \"globals\": {\"lista\": [\"REF\", 1], \"el\": \"a\"}, \"ordered_globals\": [\"lista\", \"el\"], \"stack_to_render\": [], \"heap\": {\"1\": [\"LIST\", \"a\", \"b\", \"c\", \"d\", \"e\"]}, \"stdout\": \"\"}, {\"line\": 3, \"event\": \"step_line\", \"func_name\": \"<module>\", \"globals\": {\"lista\": [\"REF\", 1], \"el\": \"a\"}, \"ordered_globals\": [\"lista\", \"el\"], \"stack_to_render\": [], \"heap\": {\"1\": [\"LIST\", \"b\", \"c\", \"d\", \"e\"]}, \"stdout\": \"\"}, {\"line\": 4, \"event\": \"step_line\", \"func_name\": \"<module>\", \"globals\": {\"lista\": [\"REF\", 1], \"el\": \"c\"}, \"ordered_globals\": [\"lista\", \"el\"], \"stack_to_render\": [], \"heap\": {\"1\": [\"LIST\", \"b\", \"c\", \"d\", \"e\"]}, \"stdout\": \"\"}, {\"line\": 3, \"event\": \"step_line\", \"func_name\": \"<module>\", \"globals\": {\"lista\": [\"REF\", 1], \"el\": \"c\"}, \"ordered_globals\": [\"lista\", \"el\"], \"stack_to_render\": [], \"heap\": {\"1\": [\"LIST\", \"b\", \"d\", \"e\"]}, \"stdout\": \"\"}, {\"line\": 4, \"event\": \"step_line\", \"func_name\": \"<module>\", \"globals\": {\"lista\": [\"REF\", 1], \"el\": \"e\"}, \"ordered_globals\": [\"lista\", \"el\"], \"stack_to_render\": [], \"heap\": {\"1\": [\"LIST\", \"b\", \"d\", \"e\"]}, \"stdout\": \"\"}, {\"line\": 3, \"event\": \"step_line\", \"func_name\": \"<module>\", \"globals\": {\"lista\": [\"REF\", 1], \"el\": \"e\"}, \"ordered_globals\": [\"lista\", \"el\"], \"stack_to_render\": [], \"heap\": {\"1\": [\"LIST\", \"b\", \"d\"]}, \"stdout\": \"\"}, {\"line\": 6, \"event\": \"step_line\", \"func_name\": \"<module>\", \"globals\": {\"lista\": [\"REF\", 1], \"el\": \"e\"}, \"ordered_globals\": [\"lista\", \"el\"], \"stack_to_render\": [], \"heap\": {\"1\": [\"LIST\", \"b\", \"d\"]}, \"stdout\": \"\"}, {\"line\": 6, \"event\": \"return\", \"func_name\": \"<module>\", \"globals\": {\"lista\": [\"REF\", 1], \"el\": \"e\"}, \"ordered_globals\": [\"lista\", \"el\"], \"stack_to_render\": [], \"heap\": {\"1\": [\"LIST\", \"b\", \"d\"]}, \"stdout\": \"['b', 'd']\\n\"}]}\n",
       "        </script>\n",
       "        <div id=\"jm-bf3e4c9793b890d605347a73558ce9ea-11\" class=\"pytutorVisualizer\"> </div>\n",
       "                            \n",
       "        <script>\n",
       "                          \n",
       "        var jmRenderPytut = function(trace_id, div_id, config){\n",
       "            console.log(\"jupman.py embedded javascript: rendering Python tutor visualizer...\")\n",
       "            \n",
       "            let oldAlert = window.alert;\n",
       "            window.alert = function ( text ) { \n",
       "                console.log( 'tried to alert: ', text );         \n",
       "                return true; \n",
       "            };\n",
       "            let executionVisualizer = null;\n",
       "            try {\n",
       "            \n",
       "                var trace = JSON.parse(document.getElementById(trace_id).innerHTML);                                        \n",
       "                // NOTE: id without #\n",
       "                        \n",
       "                executionVisualizer = addVisualizerToPage(trace, div_id, config);\n",
       "                // hack in case visualizer decides to hide them for no good reason\n",
       "                $('#' + div_id + ' #jmpFirstInstr').show();\n",
       "                $('#' + div_id + ' #jmpLastInstr').show();\n",
       "                \n",
       "                // set overflow for pytuts - need to do in python as css \n",
       "                // does not allow parent selection\n",
       "                var pytuts = $('.pytutorVisualizer');\n",
       "                pytuts.closest('div.output_html.rendered_html.output_result')\n",
       "                        .css('overflow-x', 'visible');\n",
       "            \n",
       "                //pytuts.closest('div.output_html.rendered_html.output_result')\n",
       "                //      .css('background-color','red');                \n",
       "            } catch (error) {\n",
       "                console.error(\"jupman slides: Couldn't visualize Python tutor properly\", error);\n",
       "            }\n",
       "            window.alert = oldAlert;\n",
       "            return executionVisualizer;\n",
       "            \n",
       "        };\n",
       "        </script>\n",
       "        \n",
       "        <script>\n",
       "        var pytut_cfg_bf3e4c9793b890d605347a73558ce9ea_11 = (function(){\n",
       "            var rootFontSize = window.getComputedStyle(document.body).getPropertyValue('font-size');\n",
       "            var rootFontSizeNum = 12;\n",
       "            if (rootFontSize.endsWith('px')){\n",
       "                rootFontSizeNum = Number(rootFontSize.substring(0, rootFontSize.length-2));\n",
       "            } else {\n",
       "                console.error(\"Unrecognized font unit:\", rootFontSize, \"assuming default\", rootFontSizeNum);\n",
       "            }\n",
       "            console.log('rootFontSize', rootFontSize);\n",
       "            \n",
       "            var codeWidthInChars = Math.max(23, 45);\n",
       "            if (32){\n",
       "                codeWidthInChars = 32;    // override\n",
       "            }\n",
       "            return {'embeddedMode' : false,\n",
       "                  'disableHeapNesting': true,\n",
       "                  'visualizerIdOverride':'viz-jm-bf3e4c9793b890d605347a73558ce9ea-11',\n",
       "                  'codeDivWidth': Math.trunc(rootFontSizeNum * codeWidthInChars)\n",
       "                  };\n",
       "        })();                 \n",
       "        \n",
       "        jmRenderPytut('trace-jm-bf3e4c9793b890d605347a73558ce9ea-11', 'jm-bf3e4c9793b890d605347a73558ce9ea-11', pytut_cfg_bf3e4c9793b890d605347a73558ce9ea_11);\n",
       "        </script>\n",
       "                \n",
       "    \n",
       "    <div style=\"text-align:center; font-size:0.9em\"> <a href=\"https://pythontutor.com/visualize.html#mode=edit\" target=\"_blank\">Python Tutor</a> visualization</div> \n",
       "    "
      ],
      "text/plain": [
       "<IPython.core.display.HTML object>"
      ]
     },
     "execution_count": 9,
     "metadata": {},
     "output_type": "execute_result"
    }
   ],
   "source": [
    "#jupman-purge-input\n",
    "#jupman-purge-text-output\n",
    "lista = ['a','b','c','d','e']\n",
    "for el in lista:\n",
    "    lista.remove(el)   # PESSIMA IDEA\n",
    "\n",
    "print(lista)  # RISULTATO IMPREVEDIBILE  !!!!\n",
    "conf.jm.python_tutor(text_length=32)"
   ]
  },
  {
   "cell_type": "markdown",
   "id": "48d7c8b2",
   "metadata": {
    "slideshow": {
     "slide_type": "slide"
    }
   },
   "source": [
    "## Comando `break`\n",
    "\n",
    "Serve a uscire immediamente da un ciclo:"
   ]
  },
  {
   "cell_type": "code",
   "execution_count": 10,
   "id": "f359f236",
   "metadata": {
    "scrolled": false,
    "slideshow": {
     "slide_type": "-"
    }
   },
   "outputs": [
    {
     "name": "stdout",
     "output_type": "stream",
     "text": [
      "l\n",
      "a\n",
      "v\n",
      "a\n",
      "break, esce dal ciclo!\n",
      "Ciclo finito !\n"
     ]
    },
    {
     "data": {
      "text/html": [
       "        \n",
       "        <script src=\"../_static/js/pytutor-embed.bundle.min.js\" #type=\"application/javascript\"></script>\n",
       "    \n",
       "        <style>\n",
       "        @import \"../_static/css/jupman.css\";\n",
       "        </style>\n",
       "     \n",
       "        <script id=\"trace-jm-dd91b1dbe478185dc24da7c4cb676416-12\" type=\"application/json\" >\n",
       "            {\"code\": \" \\nfor x in 'lavato':\\n    if x == 't':\\n        print('break, esce dal ciclo!')\\n        break\\n        print('Dopo il break')\\n    print(x)\\n\\nprint('Ciclo finito !')\", \"trace\": [{\"line\": 2, \"event\": \"step_line\", \"func_name\": \"<module>\", \"globals\": {}, \"ordered_globals\": [], \"stack_to_render\": [], \"heap\": {}, \"stdout\": \"\"}, {\"line\": 3, \"event\": \"step_line\", \"func_name\": \"<module>\", \"globals\": {\"x\": \"l\"}, \"ordered_globals\": [\"x\"], \"stack_to_render\": [], \"heap\": {}, \"stdout\": \"\"}, {\"line\": 7, \"event\": \"step_line\", \"func_name\": \"<module>\", \"globals\": {\"x\": \"l\"}, \"ordered_globals\": [\"x\"], \"stack_to_render\": [], \"heap\": {}, \"stdout\": \"\"}, {\"line\": 2, \"event\": \"step_line\", \"func_name\": \"<module>\", \"globals\": {\"x\": \"l\"}, \"ordered_globals\": [\"x\"], \"stack_to_render\": [], \"heap\": {}, \"stdout\": \"l\\n\"}, {\"line\": 3, \"event\": \"step_line\", \"func_name\": \"<module>\", \"globals\": {\"x\": \"a\"}, \"ordered_globals\": [\"x\"], \"stack_to_render\": [], \"heap\": {}, \"stdout\": \"l\\n\"}, {\"line\": 7, \"event\": \"step_line\", \"func_name\": \"<module>\", \"globals\": {\"x\": \"a\"}, \"ordered_globals\": [\"x\"], \"stack_to_render\": [], \"heap\": {}, \"stdout\": \"l\\n\"}, {\"line\": 2, \"event\": \"step_line\", \"func_name\": \"<module>\", \"globals\": {\"x\": \"a\"}, \"ordered_globals\": [\"x\"], \"stack_to_render\": [], \"heap\": {}, \"stdout\": \"l\\na\\n\"}, {\"line\": 3, \"event\": \"step_line\", \"func_name\": \"<module>\", \"globals\": {\"x\": \"v\"}, \"ordered_globals\": [\"x\"], \"stack_to_render\": [], \"heap\": {}, \"stdout\": \"l\\na\\n\"}, {\"line\": 7, \"event\": \"step_line\", \"func_name\": \"<module>\", \"globals\": {\"x\": \"v\"}, \"ordered_globals\": [\"x\"], \"stack_to_render\": [], \"heap\": {}, \"stdout\": \"l\\na\\n\"}, {\"line\": 2, \"event\": \"step_line\", \"func_name\": \"<module>\", \"globals\": {\"x\": \"v\"}, \"ordered_globals\": [\"x\"], \"stack_to_render\": [], \"heap\": {}, \"stdout\": \"l\\na\\nv\\n\"}, {\"line\": 3, \"event\": \"step_line\", \"func_name\": \"<module>\", \"globals\": {\"x\": \"a\"}, \"ordered_globals\": [\"x\"], \"stack_to_render\": [], \"heap\": {}, \"stdout\": \"l\\na\\nv\\n\"}, {\"line\": 7, \"event\": \"step_line\", \"func_name\": \"<module>\", \"globals\": {\"x\": \"a\"}, \"ordered_globals\": [\"x\"], \"stack_to_render\": [], \"heap\": {}, \"stdout\": \"l\\na\\nv\\n\"}, {\"line\": 2, \"event\": \"step_line\", \"func_name\": \"<module>\", \"globals\": {\"x\": \"a\"}, \"ordered_globals\": [\"x\"], \"stack_to_render\": [], \"heap\": {}, \"stdout\": \"l\\na\\nv\\na\\n\"}, {\"line\": 3, \"event\": \"step_line\", \"func_name\": \"<module>\", \"globals\": {\"x\": \"t\"}, \"ordered_globals\": [\"x\"], \"stack_to_render\": [], \"heap\": {}, \"stdout\": \"l\\na\\nv\\na\\n\"}, {\"line\": 4, \"event\": \"step_line\", \"func_name\": \"<module>\", \"globals\": {\"x\": \"t\"}, \"ordered_globals\": [\"x\"], \"stack_to_render\": [], \"heap\": {}, \"stdout\": \"l\\na\\nv\\na\\n\"}, {\"line\": 5, \"event\": \"step_line\", \"func_name\": \"<module>\", \"globals\": {\"x\": \"t\"}, \"ordered_globals\": [\"x\"], \"stack_to_render\": [], \"heap\": {}, \"stdout\": \"l\\na\\nv\\na\\nbreak, esce dal ciclo!\\n\"}, {\"line\": 9, \"event\": \"step_line\", \"func_name\": \"<module>\", \"globals\": {\"x\": \"t\"}, \"ordered_globals\": [\"x\"], \"stack_to_render\": [], \"heap\": {}, \"stdout\": \"l\\na\\nv\\na\\nbreak, esce dal ciclo!\\n\"}, {\"line\": 9, \"event\": \"return\", \"func_name\": \"<module>\", \"globals\": {\"x\": \"t\"}, \"ordered_globals\": [\"x\"], \"stack_to_render\": [], \"heap\": {}, \"stdout\": \"l\\na\\nv\\na\\nbreak, esce dal ciclo!\\nCiclo finito !\\n\"}]}\n",
       "        </script>\n",
       "        <div id=\"jm-dd91b1dbe478185dc24da7c4cb676416-12\" class=\"pytutorVisualizer\"> </div>\n",
       "                            \n",
       "        <script>\n",
       "                          \n",
       "        var jmRenderPytut = function(trace_id, div_id, config){\n",
       "            console.log(\"jupman.py embedded javascript: rendering Python tutor visualizer...\")\n",
       "            \n",
       "            let oldAlert = window.alert;\n",
       "            window.alert = function ( text ) { \n",
       "                console.log( 'tried to alert: ', text );         \n",
       "                return true; \n",
       "            };\n",
       "            let executionVisualizer = null;\n",
       "            try {\n",
       "            \n",
       "                var trace = JSON.parse(document.getElementById(trace_id).innerHTML);                                        \n",
       "                // NOTE: id without #\n",
       "                        \n",
       "                executionVisualizer = addVisualizerToPage(trace, div_id, config);\n",
       "                // hack in case visualizer decides to hide them for no good reason\n",
       "                $('#' + div_id + ' #jmpFirstInstr').show();\n",
       "                $('#' + div_id + ' #jmpLastInstr').show();\n",
       "                \n",
       "                // set overflow for pytuts - need to do in python as css \n",
       "                // does not allow parent selection\n",
       "                var pytuts = $('.pytutorVisualizer');\n",
       "                pytuts.closest('div.output_html.rendered_html.output_result')\n",
       "                        .css('overflow-x', 'visible');\n",
       "            \n",
       "                //pytuts.closest('div.output_html.rendered_html.output_result')\n",
       "                //      .css('background-color','red');                \n",
       "            } catch (error) {\n",
       "                console.error(\"jupman slides: Couldn't visualize Python tutor properly\", error);\n",
       "            }\n",
       "            window.alert = oldAlert;\n",
       "            return executionVisualizer;\n",
       "            \n",
       "        };\n",
       "        </script>\n",
       "        \n",
       "        <script>\n",
       "        var pytut_cfg_dd91b1dbe478185dc24da7c4cb676416_12 = (function(){\n",
       "            var rootFontSize = window.getComputedStyle(document.body).getPropertyValue('font-size');\n",
       "            var rootFontSizeNum = 12;\n",
       "            if (rootFontSize.endsWith('px')){\n",
       "                rootFontSizeNum = Number(rootFontSize.substring(0, rootFontSize.length-2));\n",
       "            } else {\n",
       "                console.error(\"Unrecognized font unit:\", rootFontSize, \"assuming default\", rootFontSizeNum);\n",
       "            }\n",
       "            console.log('rootFontSize', rootFontSize);\n",
       "            \n",
       "            var codeWidthInChars = Math.max(23, 39);\n",
       "            if (0){\n",
       "                codeWidthInChars = 0;    // override\n",
       "            }\n",
       "            return {'embeddedMode' : false,\n",
       "                  'disableHeapNesting': true,\n",
       "                  'visualizerIdOverride':'viz-jm-dd91b1dbe478185dc24da7c4cb676416-12',\n",
       "                  'codeDivWidth': Math.trunc(rootFontSizeNum * codeWidthInChars)\n",
       "                  };\n",
       "        })();                 \n",
       "        \n",
       "        jmRenderPytut('trace-jm-dd91b1dbe478185dc24da7c4cb676416-12', 'jm-dd91b1dbe478185dc24da7c4cb676416-12', pytut_cfg_dd91b1dbe478185dc24da7c4cb676416_12);\n",
       "        </script>\n",
       "                \n",
       "    \n",
       "    <div style=\"text-align:center; font-size:0.9em\"> <a href=\"https://pythontutor.com/visualize.html#mode=edit\" target=\"_blank\">Python Tutor</a> visualization</div> \n",
       "    "
      ],
      "text/plain": [
       "<IPython.core.display.HTML object>"
      ]
     },
     "execution_count": 10,
     "metadata": {},
     "output_type": "execute_result"
    }
   ],
   "source": [
    "#jupman-purge-input\n",
    "#jupman-purge-text-output\n",
    "for x in 'lavato':\n",
    "    if x == 't':\n",
    "        print('break, esce dal ciclo!')\n",
    "        break\n",
    "        print('Dopo il break')\n",
    "    print(x)\n",
    "\n",
    "print('Ciclo finito !')\n",
    "conf.jm.python_tutor()"
   ]
  },
  {
   "cell_type": "markdown",
   "id": "e12a71a6",
   "metadata": {
    "slideshow": {
     "slide_type": "slide"
    }
   },
   "source": [
    "## Comando `continue`\n",
    "\n",
    "salta immediatamente all'iterazione successiva"
   ]
  },
  {
   "cell_type": "code",
   "execution_count": 11,
   "id": "aec280c5",
   "metadata": {
    "scrolled": true,
    "slideshow": {
     "slide_type": "-"
    }
   },
   "outputs": [
    {
     "name": "stdout",
     "output_type": "stream",
     "text": [
      "l\n",
      "salta all'elemento successivo\n",
      "v\n",
      "salta all'elemento successivo\n",
      "t\n",
      "o\n",
      "Ciclo finito !\n"
     ]
    },
    {
     "data": {
      "text/html": [
       "        \n",
       "        <script src=\"../_static/js/pytutor-embed.bundle.min.js\" #type=\"application/javascript\"></script>\n",
       "    \n",
       "        <style>\n",
       "        @import \"../_static/css/jupman.css\";\n",
       "        </style>\n",
       "     \n",
       "        <script id=\"trace-jm-9edf6d7e7bf7448d42444716bb765973-13\" type=\"application/json\" >\n",
       "            {\"code\": \" \\ni = 1\\nfor x in 'lavato':\\n    if x == 'a':\\n        print(\\\"salta all'elemento successivo\\\")\\n        continue\\n    print(x)\\nprint('Ciclo finito !')\", \"trace\": [{\"line\": 2, \"event\": \"step_line\", \"func_name\": \"<module>\", \"globals\": {}, \"ordered_globals\": [], \"stack_to_render\": [], \"heap\": {}, \"stdout\": \"\"}, {\"line\": 3, \"event\": \"step_line\", \"func_name\": \"<module>\", \"globals\": {\"i\": 1}, \"ordered_globals\": [\"i\"], \"stack_to_render\": [], \"heap\": {}, \"stdout\": \"\"}, {\"line\": 4, \"event\": \"step_line\", \"func_name\": \"<module>\", \"globals\": {\"i\": 1, \"x\": \"l\"}, \"ordered_globals\": [\"i\", \"x\"], \"stack_to_render\": [], \"heap\": {}, \"stdout\": \"\"}, {\"line\": 7, \"event\": \"step_line\", \"func_name\": \"<module>\", \"globals\": {\"i\": 1, \"x\": \"l\"}, \"ordered_globals\": [\"i\", \"x\"], \"stack_to_render\": [], \"heap\": {}, \"stdout\": \"\"}, {\"line\": 3, \"event\": \"step_line\", \"func_name\": \"<module>\", \"globals\": {\"i\": 1, \"x\": \"l\"}, \"ordered_globals\": [\"i\", \"x\"], \"stack_to_render\": [], \"heap\": {}, \"stdout\": \"l\\n\"}, {\"line\": 4, \"event\": \"step_line\", \"func_name\": \"<module>\", \"globals\": {\"i\": 1, \"x\": \"a\"}, \"ordered_globals\": [\"i\", \"x\"], \"stack_to_render\": [], \"heap\": {}, \"stdout\": \"l\\n\"}, {\"line\": 5, \"event\": \"step_line\", \"func_name\": \"<module>\", \"globals\": {\"i\": 1, \"x\": \"a\"}, \"ordered_globals\": [\"i\", \"x\"], \"stack_to_render\": [], \"heap\": {}, \"stdout\": \"l\\n\"}, {\"line\": 6, \"event\": \"step_line\", \"func_name\": \"<module>\", \"globals\": {\"i\": 1, \"x\": \"a\"}, \"ordered_globals\": [\"i\", \"x\"], \"stack_to_render\": [], \"heap\": {}, \"stdout\": \"l\\nsalta all'elemento successivo\\n\"}, {\"line\": 3, \"event\": \"step_line\", \"func_name\": \"<module>\", \"globals\": {\"i\": 1, \"x\": \"a\"}, \"ordered_globals\": [\"i\", \"x\"], \"stack_to_render\": [], \"heap\": {}, \"stdout\": \"l\\nsalta all'elemento successivo\\n\"}, {\"line\": 4, \"event\": \"step_line\", \"func_name\": \"<module>\", \"globals\": {\"i\": 1, \"x\": \"v\"}, \"ordered_globals\": [\"i\", \"x\"], \"stack_to_render\": [], \"heap\": {}, \"stdout\": \"l\\nsalta all'elemento successivo\\n\"}, {\"line\": 7, \"event\": \"step_line\", \"func_name\": \"<module>\", \"globals\": {\"i\": 1, \"x\": \"v\"}, \"ordered_globals\": [\"i\", \"x\"], \"stack_to_render\": [], \"heap\": {}, \"stdout\": \"l\\nsalta all'elemento successivo\\n\"}, {\"line\": 3, \"event\": \"step_line\", \"func_name\": \"<module>\", \"globals\": {\"i\": 1, \"x\": \"v\"}, \"ordered_globals\": [\"i\", \"x\"], \"stack_to_render\": [], \"heap\": {}, \"stdout\": \"l\\nsalta all'elemento successivo\\nv\\n\"}, {\"line\": 4, \"event\": \"step_line\", \"func_name\": \"<module>\", \"globals\": {\"i\": 1, \"x\": \"a\"}, \"ordered_globals\": [\"i\", \"x\"], \"stack_to_render\": [], \"heap\": {}, \"stdout\": \"l\\nsalta all'elemento successivo\\nv\\n\"}, {\"line\": 5, \"event\": \"step_line\", \"func_name\": \"<module>\", \"globals\": {\"i\": 1, \"x\": \"a\"}, \"ordered_globals\": [\"i\", \"x\"], \"stack_to_render\": [], \"heap\": {}, \"stdout\": \"l\\nsalta all'elemento successivo\\nv\\n\"}, {\"line\": 6, \"event\": \"step_line\", \"func_name\": \"<module>\", \"globals\": {\"i\": 1, \"x\": \"a\"}, \"ordered_globals\": [\"i\", \"x\"], \"stack_to_render\": [], \"heap\": {}, \"stdout\": \"l\\nsalta all'elemento successivo\\nv\\nsalta all'elemento successivo\\n\"}, {\"line\": 3, \"event\": \"step_line\", \"func_name\": \"<module>\", \"globals\": {\"i\": 1, \"x\": \"a\"}, \"ordered_globals\": [\"i\", \"x\"], \"stack_to_render\": [], \"heap\": {}, \"stdout\": \"l\\nsalta all'elemento successivo\\nv\\nsalta all'elemento successivo\\n\"}, {\"line\": 4, \"event\": \"step_line\", \"func_name\": \"<module>\", \"globals\": {\"i\": 1, \"x\": \"t\"}, \"ordered_globals\": [\"i\", \"x\"], \"stack_to_render\": [], \"heap\": {}, \"stdout\": \"l\\nsalta all'elemento successivo\\nv\\nsalta all'elemento successivo\\n\"}, {\"line\": 7, \"event\": \"step_line\", \"func_name\": \"<module>\", \"globals\": {\"i\": 1, \"x\": \"t\"}, \"ordered_globals\": [\"i\", \"x\"], \"stack_to_render\": [], \"heap\": {}, \"stdout\": \"l\\nsalta all'elemento successivo\\nv\\nsalta all'elemento successivo\\n\"}, {\"line\": 3, \"event\": \"step_line\", \"func_name\": \"<module>\", \"globals\": {\"i\": 1, \"x\": \"t\"}, \"ordered_globals\": [\"i\", \"x\"], \"stack_to_render\": [], \"heap\": {}, \"stdout\": \"l\\nsalta all'elemento successivo\\nv\\nsalta all'elemento successivo\\nt\\n\"}, {\"line\": 4, \"event\": \"step_line\", \"func_name\": \"<module>\", \"globals\": {\"i\": 1, \"x\": \"o\"}, \"ordered_globals\": [\"i\", \"x\"], \"stack_to_render\": [], \"heap\": {}, \"stdout\": \"l\\nsalta all'elemento successivo\\nv\\nsalta all'elemento successivo\\nt\\n\"}, {\"line\": 7, \"event\": \"step_line\", \"func_name\": \"<module>\", \"globals\": {\"i\": 1, \"x\": \"o\"}, \"ordered_globals\": [\"i\", \"x\"], \"stack_to_render\": [], \"heap\": {}, \"stdout\": \"l\\nsalta all'elemento successivo\\nv\\nsalta all'elemento successivo\\nt\\n\"}, {\"line\": 3, \"event\": \"step_line\", \"func_name\": \"<module>\", \"globals\": {\"i\": 1, \"x\": \"o\"}, \"ordered_globals\": [\"i\", \"x\"], \"stack_to_render\": [], \"heap\": {}, \"stdout\": \"l\\nsalta all'elemento successivo\\nv\\nsalta all'elemento successivo\\nt\\no\\n\"}, {\"line\": 8, \"event\": \"step_line\", \"func_name\": \"<module>\", \"globals\": {\"i\": 1, \"x\": \"o\"}, \"ordered_globals\": [\"i\", \"x\"], \"stack_to_render\": [], \"heap\": {}, \"stdout\": \"l\\nsalta all'elemento successivo\\nv\\nsalta all'elemento successivo\\nt\\no\\n\"}, {\"line\": 8, \"event\": \"return\", \"func_name\": \"<module>\", \"globals\": {\"i\": 1, \"x\": \"o\"}, \"ordered_globals\": [\"i\", \"x\"], \"stack_to_render\": [], \"heap\": {}, \"stdout\": \"l\\nsalta all'elemento successivo\\nv\\nsalta all'elemento successivo\\nt\\no\\nCiclo finito !\\n\"}]}\n",
       "        </script>\n",
       "        <div id=\"jm-9edf6d7e7bf7448d42444716bb765973-13\" class=\"pytutorVisualizer\"> </div>\n",
       "                            \n",
       "        <script>\n",
       "                          \n",
       "        var jmRenderPytut = function(trace_id, div_id, config){\n",
       "            console.log(\"jupman.py embedded javascript: rendering Python tutor visualizer...\")\n",
       "            \n",
       "            let oldAlert = window.alert;\n",
       "            window.alert = function ( text ) { \n",
       "                console.log( 'tried to alert: ', text );         \n",
       "                return true; \n",
       "            };\n",
       "            let executionVisualizer = null;\n",
       "            try {\n",
       "            \n",
       "                var trace = JSON.parse(document.getElementById(trace_id).innerHTML);                                        \n",
       "                // NOTE: id without #\n",
       "                        \n",
       "                executionVisualizer = addVisualizerToPage(trace, div_id, config);\n",
       "                // hack in case visualizer decides to hide them for no good reason\n",
       "                $('#' + div_id + ' #jmpFirstInstr').show();\n",
       "                $('#' + div_id + ' #jmpLastInstr').show();\n",
       "                \n",
       "                // set overflow for pytuts - need to do in python as css \n",
       "                // does not allow parent selection\n",
       "                var pytuts = $('.pytutorVisualizer');\n",
       "                pytuts.closest('div.output_html.rendered_html.output_result')\n",
       "                        .css('overflow-x', 'visible');\n",
       "            \n",
       "                //pytuts.closest('div.output_html.rendered_html.output_result')\n",
       "                //      .css('background-color','red');                \n",
       "            } catch (error) {\n",
       "                console.error(\"jupman slides: Couldn't visualize Python tutor properly\", error);\n",
       "            }\n",
       "            window.alert = oldAlert;\n",
       "            return executionVisualizer;\n",
       "            \n",
       "        };\n",
       "        </script>\n",
       "        \n",
       "        <script>\n",
       "        var pytut_cfg_9edf6d7e7bf7448d42444716bb765973_13 = (function(){\n",
       "            var rootFontSize = window.getComputedStyle(document.body).getPropertyValue('font-size');\n",
       "            var rootFontSizeNum = 12;\n",
       "            if (rootFontSize.endsWith('px')){\n",
       "                rootFontSizeNum = Number(rootFontSize.substring(0, rootFontSize.length-2));\n",
       "            } else {\n",
       "                console.error(\"Unrecognized font unit:\", rootFontSize, \"assuming default\", rootFontSizeNum);\n",
       "            }\n",
       "            console.log('rootFontSize', rootFontSize);\n",
       "            \n",
       "            var codeWidthInChars = Math.max(23, 46);\n",
       "            if (35){\n",
       "                codeWidthInChars = 35;    // override\n",
       "            }\n",
       "            return {'embeddedMode' : false,\n",
       "                  'disableHeapNesting': true,\n",
       "                  'visualizerIdOverride':'viz-jm-9edf6d7e7bf7448d42444716bb765973-13',\n",
       "                  'codeDivWidth': Math.trunc(rootFontSizeNum * codeWidthInChars)\n",
       "                  };\n",
       "        })();                 \n",
       "        \n",
       "        jmRenderPytut('trace-jm-9edf6d7e7bf7448d42444716bb765973-13', 'jm-9edf6d7e7bf7448d42444716bb765973-13', pytut_cfg_9edf6d7e7bf7448d42444716bb765973_13);\n",
       "        </script>\n",
       "                \n",
       "    \n",
       "    <div style=\"text-align:center; font-size:0.9em\"> <a href=\"https://pythontutor.com/visualize.html#mode=edit\" target=\"_blank\">Python Tutor</a> visualization</div> \n",
       "    "
      ],
      "text/plain": [
       "<IPython.core.display.HTML object>"
      ]
     },
     "execution_count": 11,
     "metadata": {},
     "output_type": "execute_result"
    }
   ],
   "source": [
    "#jupman-purge-input\n",
    "#jupman-purge-text-output\n",
    "i = 1\n",
    "for x in 'lavato':\n",
    "    if x == 'a':\n",
    "        print(\"salta all'elemento successivo\")\n",
    "        continue\n",
    "    print(x)\n",
    "print('Ciclo finito !')\n",
    "conf.jm.python_tutor(text_length=35)"
   ]
  },
  {
   "cell_type": "markdown",
   "id": "d24204a1",
   "metadata": {
    "slideshow": {
     "slide_type": "subslide"
    }
   },
   "source": [
    "### Che stampa 1/2?"
   ]
  },
  {
   "cell_type": "code",
   "execution_count": 12,
   "id": "f7d1f01f",
   "metadata": {
    "slideshow": {
     "slide_type": "-"
    }
   },
   "outputs": [
    {
     "name": "stdout",
     "output_type": "stream",
     "text": [
      "ZUM 0\n",
      "ZUM 1\n",
      "ZUM 2\n",
      "ZUM 3\n"
     ]
    },
    {
     "data": {
      "text/html": [
       "        \n",
       "        <script src=\"../_static/js/pytutor-embed.bundle.min.js\" #type=\"application/javascript\"></script>\n",
       "    \n",
       "        <style>\n",
       "        @import \"../_static/css/jupman.css\";\n",
       "        </style>\n",
       "     \n",
       "        <script id=\"trace-jm-5b6e6a4feab3a7dbdc4de5d7bf09b11f-14\" type=\"application/json\" >\n",
       "            {\"code\": \" \\nfor x in range(8):\\n    if x >= 4:\\n        break\\n    print('ZUM', x)\", \"trace\": [{\"line\": 2, \"event\": \"step_line\", \"func_name\": \"<module>\", \"globals\": {}, \"ordered_globals\": [], \"stack_to_render\": [], \"heap\": {}, \"stdout\": \"\"}, {\"line\": 3, \"event\": \"step_line\", \"func_name\": \"<module>\", \"globals\": {\"x\": 0}, \"ordered_globals\": [\"x\"], \"stack_to_render\": [], \"heap\": {}, \"stdout\": \"\"}, {\"line\": 5, \"event\": \"step_line\", \"func_name\": \"<module>\", \"globals\": {\"x\": 0}, \"ordered_globals\": [\"x\"], \"stack_to_render\": [], \"heap\": {}, \"stdout\": \"\"}, {\"line\": 2, \"event\": \"step_line\", \"func_name\": \"<module>\", \"globals\": {\"x\": 0}, \"ordered_globals\": [\"x\"], \"stack_to_render\": [], \"heap\": {}, \"stdout\": \"ZUM 0\\n\"}, {\"line\": 3, \"event\": \"step_line\", \"func_name\": \"<module>\", \"globals\": {\"x\": 1}, \"ordered_globals\": [\"x\"], \"stack_to_render\": [], \"heap\": {}, \"stdout\": \"ZUM 0\\n\"}, {\"line\": 5, \"event\": \"step_line\", \"func_name\": \"<module>\", \"globals\": {\"x\": 1}, \"ordered_globals\": [\"x\"], \"stack_to_render\": [], \"heap\": {}, \"stdout\": \"ZUM 0\\n\"}, {\"line\": 2, \"event\": \"step_line\", \"func_name\": \"<module>\", \"globals\": {\"x\": 1}, \"ordered_globals\": [\"x\"], \"stack_to_render\": [], \"heap\": {}, \"stdout\": \"ZUM 0\\nZUM 1\\n\"}, {\"line\": 3, \"event\": \"step_line\", \"func_name\": \"<module>\", \"globals\": {\"x\": 2}, \"ordered_globals\": [\"x\"], \"stack_to_render\": [], \"heap\": {}, \"stdout\": \"ZUM 0\\nZUM 1\\n\"}, {\"line\": 5, \"event\": \"step_line\", \"func_name\": \"<module>\", \"globals\": {\"x\": 2}, \"ordered_globals\": [\"x\"], \"stack_to_render\": [], \"heap\": {}, \"stdout\": \"ZUM 0\\nZUM 1\\n\"}, {\"line\": 2, \"event\": \"step_line\", \"func_name\": \"<module>\", \"globals\": {\"x\": 2}, \"ordered_globals\": [\"x\"], \"stack_to_render\": [], \"heap\": {}, \"stdout\": \"ZUM 0\\nZUM 1\\nZUM 2\\n\"}, {\"line\": 3, \"event\": \"step_line\", \"func_name\": \"<module>\", \"globals\": {\"x\": 3}, \"ordered_globals\": [\"x\"], \"stack_to_render\": [], \"heap\": {}, \"stdout\": \"ZUM 0\\nZUM 1\\nZUM 2\\n\"}, {\"line\": 5, \"event\": \"step_line\", \"func_name\": \"<module>\", \"globals\": {\"x\": 3}, \"ordered_globals\": [\"x\"], \"stack_to_render\": [], \"heap\": {}, \"stdout\": \"ZUM 0\\nZUM 1\\nZUM 2\\n\"}, {\"line\": 2, \"event\": \"step_line\", \"func_name\": \"<module>\", \"globals\": {\"x\": 3}, \"ordered_globals\": [\"x\"], \"stack_to_render\": [], \"heap\": {}, \"stdout\": \"ZUM 0\\nZUM 1\\nZUM 2\\nZUM 3\\n\"}, {\"line\": 3, \"event\": \"step_line\", \"func_name\": \"<module>\", \"globals\": {\"x\": 4}, \"ordered_globals\": [\"x\"], \"stack_to_render\": [], \"heap\": {}, \"stdout\": \"ZUM 0\\nZUM 1\\nZUM 2\\nZUM 3\\n\"}, {\"line\": 4, \"event\": \"step_line\", \"func_name\": \"<module>\", \"globals\": {\"x\": 4}, \"ordered_globals\": [\"x\"], \"stack_to_render\": [], \"heap\": {}, \"stdout\": \"ZUM 0\\nZUM 1\\nZUM 2\\nZUM 3\\n\"}, {\"line\": 4, \"event\": \"return\", \"func_name\": \"<module>\", \"globals\": {\"x\": 4}, \"ordered_globals\": [\"x\"], \"stack_to_render\": [], \"heap\": {}, \"stdout\": \"ZUM 0\\nZUM 1\\nZUM 2\\nZUM 3\\n\"}]}\n",
       "        </script>\n",
       "        <div id=\"jm-5b6e6a4feab3a7dbdc4de5d7bf09b11f-14\" class=\"pytutorVisualizer\"> </div>\n",
       "                            \n",
       "        <script>\n",
       "                          \n",
       "        var jmRenderPytut = function(trace_id, div_id, config){\n",
       "            console.log(\"jupman.py embedded javascript: rendering Python tutor visualizer...\")\n",
       "            \n",
       "            let oldAlert = window.alert;\n",
       "            window.alert = function ( text ) { \n",
       "                console.log( 'tried to alert: ', text );         \n",
       "                return true; \n",
       "            };\n",
       "            let executionVisualizer = null;\n",
       "            try {\n",
       "            \n",
       "                var trace = JSON.parse(document.getElementById(trace_id).innerHTML);                                        \n",
       "                // NOTE: id without #\n",
       "                        \n",
       "                executionVisualizer = addVisualizerToPage(trace, div_id, config);\n",
       "                // hack in case visualizer decides to hide them for no good reason\n",
       "                $('#' + div_id + ' #jmpFirstInstr').show();\n",
       "                $('#' + div_id + ' #jmpLastInstr').show();\n",
       "                \n",
       "                // set overflow for pytuts - need to do in python as css \n",
       "                // does not allow parent selection\n",
       "                var pytuts = $('.pytutorVisualizer');\n",
       "                pytuts.closest('div.output_html.rendered_html.output_result')\n",
       "                        .css('overflow-x', 'visible');\n",
       "            \n",
       "                //pytuts.closest('div.output_html.rendered_html.output_result')\n",
       "                //      .css('background-color','red');                \n",
       "            } catch (error) {\n",
       "                console.error(\"jupman slides: Couldn't visualize Python tutor properly\", error);\n",
       "            }\n",
       "            window.alert = oldAlert;\n",
       "            return executionVisualizer;\n",
       "            \n",
       "        };\n",
       "        </script>\n",
       "        \n",
       "        <script>\n",
       "        var pytut_cfg_5b6e6a4feab3a7dbdc4de5d7bf09b11f_14 = (function(){\n",
       "            var rootFontSize = window.getComputedStyle(document.body).getPropertyValue('font-size');\n",
       "            var rootFontSizeNum = 12;\n",
       "            if (rootFontSize.endsWith('px')){\n",
       "                rootFontSizeNum = Number(rootFontSize.substring(0, rootFontSize.length-2));\n",
       "            } else {\n",
       "                console.error(\"Unrecognized font unit:\", rootFontSize, \"assuming default\", rootFontSizeNum);\n",
       "            }\n",
       "            console.log('rootFontSize', rootFontSize);\n",
       "            \n",
       "            var codeWidthInChars = Math.max(23, 19);\n",
       "            if (0){\n",
       "                codeWidthInChars = 0;    // override\n",
       "            }\n",
       "            return {'embeddedMode' : false,\n",
       "                  'disableHeapNesting': true,\n",
       "                  'visualizerIdOverride':'viz-jm-5b6e6a4feab3a7dbdc4de5d7bf09b11f-14',\n",
       "                  'codeDivWidth': Math.trunc(rootFontSizeNum * codeWidthInChars)\n",
       "                  };\n",
       "        })();                 \n",
       "        \n",
       "        jmRenderPytut('trace-jm-5b6e6a4feab3a7dbdc4de5d7bf09b11f-14', 'jm-5b6e6a4feab3a7dbdc4de5d7bf09b11f-14', pytut_cfg_5b6e6a4feab3a7dbdc4de5d7bf09b11f_14);\n",
       "        </script>\n",
       "                \n",
       "    \n",
       "    <div style=\"text-align:center; font-size:0.9em\"> <a href=\"https://pythontutor.com/visualize.html#mode=edit\" target=\"_blank\">Python Tutor</a> visualization</div> \n",
       "    "
      ],
      "text/plain": [
       "<IPython.core.display.HTML object>"
      ]
     },
     "execution_count": 12,
     "metadata": {},
     "output_type": "execute_result"
    }
   ],
   "source": [
    "#jupman-purge-input\n",
    "#jupman-purge-text-output\n",
    "for x in range(8):\n",
    "    if x >= 4:\n",
    "        break\n",
    "    print('ZUM', x)\n",
    "conf.jm.python_tutor()"
   ]
  },
  {
   "cell_type": "markdown",
   "id": "58335940",
   "metadata": {
    "slideshow": {
     "slide_type": "subslide"
    }
   },
   "source": [
    "### Che stampa 2/2?"
   ]
  },
  {
   "cell_type": "code",
   "execution_count": 13,
   "id": "726eee7d",
   "metadata": {
    "slideshow": {
     "slide_type": "-"
    }
   },
   "outputs": [
    {
     "name": "stdout",
     "output_type": "stream",
     "text": [
      "ZAM 4\n",
      "ZAM 5\n",
      "ZAM 6\n",
      "ZAM 7\n"
     ]
    },
    {
     "data": {
      "text/html": [
       "        \n",
       "        <script src=\"../_static/js/pytutor-embed.bundle.min.js\" #type=\"application/javascript\"></script>\n",
       "    \n",
       "        <style>\n",
       "        @import \"../_static/css/jupman.css\";\n",
       "        </style>\n",
       "     \n",
       "        <script id=\"trace-jm-bc48ddc247a4893302320863d735be79-15\" type=\"application/json\" >\n",
       "            {\"code\": \" \\nfor x in range(8):\\n    if x < 4:\\n        continue\\n    print('ZAM', x)\", \"trace\": [{\"line\": 2, \"event\": \"step_line\", \"func_name\": \"<module>\", \"globals\": {}, \"ordered_globals\": [], \"stack_to_render\": [], \"heap\": {}, \"stdout\": \"\"}, {\"line\": 3, \"event\": \"step_line\", \"func_name\": \"<module>\", \"globals\": {\"x\": 0}, \"ordered_globals\": [\"x\"], \"stack_to_render\": [], \"heap\": {}, \"stdout\": \"\"}, {\"line\": 4, \"event\": \"step_line\", \"func_name\": \"<module>\", \"globals\": {\"x\": 0}, \"ordered_globals\": [\"x\"], \"stack_to_render\": [], \"heap\": {}, \"stdout\": \"\"}, {\"line\": 2, \"event\": \"step_line\", \"func_name\": \"<module>\", \"globals\": {\"x\": 0}, \"ordered_globals\": [\"x\"], \"stack_to_render\": [], \"heap\": {}, \"stdout\": \"\"}, {\"line\": 3, \"event\": \"step_line\", \"func_name\": \"<module>\", \"globals\": {\"x\": 1}, \"ordered_globals\": [\"x\"], \"stack_to_render\": [], \"heap\": {}, \"stdout\": \"\"}, {\"line\": 4, \"event\": \"step_line\", \"func_name\": \"<module>\", \"globals\": {\"x\": 1}, \"ordered_globals\": [\"x\"], \"stack_to_render\": [], \"heap\": {}, \"stdout\": \"\"}, {\"line\": 2, \"event\": \"step_line\", \"func_name\": \"<module>\", \"globals\": {\"x\": 1}, \"ordered_globals\": [\"x\"], \"stack_to_render\": [], \"heap\": {}, \"stdout\": \"\"}, {\"line\": 3, \"event\": \"step_line\", \"func_name\": \"<module>\", \"globals\": {\"x\": 2}, \"ordered_globals\": [\"x\"], \"stack_to_render\": [], \"heap\": {}, \"stdout\": \"\"}, {\"line\": 4, \"event\": \"step_line\", \"func_name\": \"<module>\", \"globals\": {\"x\": 2}, \"ordered_globals\": [\"x\"], \"stack_to_render\": [], \"heap\": {}, \"stdout\": \"\"}, {\"line\": 2, \"event\": \"step_line\", \"func_name\": \"<module>\", \"globals\": {\"x\": 2}, \"ordered_globals\": [\"x\"], \"stack_to_render\": [], \"heap\": {}, \"stdout\": \"\"}, {\"line\": 3, \"event\": \"step_line\", \"func_name\": \"<module>\", \"globals\": {\"x\": 3}, \"ordered_globals\": [\"x\"], \"stack_to_render\": [], \"heap\": {}, \"stdout\": \"\"}, {\"line\": 4, \"event\": \"step_line\", \"func_name\": \"<module>\", \"globals\": {\"x\": 3}, \"ordered_globals\": [\"x\"], \"stack_to_render\": [], \"heap\": {}, \"stdout\": \"\"}, {\"line\": 2, \"event\": \"step_line\", \"func_name\": \"<module>\", \"globals\": {\"x\": 3}, \"ordered_globals\": [\"x\"], \"stack_to_render\": [], \"heap\": {}, \"stdout\": \"\"}, {\"line\": 3, \"event\": \"step_line\", \"func_name\": \"<module>\", \"globals\": {\"x\": 4}, \"ordered_globals\": [\"x\"], \"stack_to_render\": [], \"heap\": {}, \"stdout\": \"\"}, {\"line\": 5, \"event\": \"step_line\", \"func_name\": \"<module>\", \"globals\": {\"x\": 4}, \"ordered_globals\": [\"x\"], \"stack_to_render\": [], \"heap\": {}, \"stdout\": \"\"}, {\"line\": 2, \"event\": \"step_line\", \"func_name\": \"<module>\", \"globals\": {\"x\": 4}, \"ordered_globals\": [\"x\"], \"stack_to_render\": [], \"heap\": {}, \"stdout\": \"ZAM 4\\n\"}, {\"line\": 3, \"event\": \"step_line\", \"func_name\": \"<module>\", \"globals\": {\"x\": 5}, \"ordered_globals\": [\"x\"], \"stack_to_render\": [], \"heap\": {}, \"stdout\": \"ZAM 4\\n\"}, {\"line\": 5, \"event\": \"step_line\", \"func_name\": \"<module>\", \"globals\": {\"x\": 5}, \"ordered_globals\": [\"x\"], \"stack_to_render\": [], \"heap\": {}, \"stdout\": \"ZAM 4\\n\"}, {\"line\": 2, \"event\": \"step_line\", \"func_name\": \"<module>\", \"globals\": {\"x\": 5}, \"ordered_globals\": [\"x\"], \"stack_to_render\": [], \"heap\": {}, \"stdout\": \"ZAM 4\\nZAM 5\\n\"}, {\"line\": 3, \"event\": \"step_line\", \"func_name\": \"<module>\", \"globals\": {\"x\": 6}, \"ordered_globals\": [\"x\"], \"stack_to_render\": [], \"heap\": {}, \"stdout\": \"ZAM 4\\nZAM 5\\n\"}, {\"line\": 5, \"event\": \"step_line\", \"func_name\": \"<module>\", \"globals\": {\"x\": 6}, \"ordered_globals\": [\"x\"], \"stack_to_render\": [], \"heap\": {}, \"stdout\": \"ZAM 4\\nZAM 5\\n\"}, {\"line\": 2, \"event\": \"step_line\", \"func_name\": \"<module>\", \"globals\": {\"x\": 6}, \"ordered_globals\": [\"x\"], \"stack_to_render\": [], \"heap\": {}, \"stdout\": \"ZAM 4\\nZAM 5\\nZAM 6\\n\"}, {\"line\": 3, \"event\": \"step_line\", \"func_name\": \"<module>\", \"globals\": {\"x\": 7}, \"ordered_globals\": [\"x\"], \"stack_to_render\": [], \"heap\": {}, \"stdout\": \"ZAM 4\\nZAM 5\\nZAM 6\\n\"}, {\"line\": 5, \"event\": \"step_line\", \"func_name\": \"<module>\", \"globals\": {\"x\": 7}, \"ordered_globals\": [\"x\"], \"stack_to_render\": [], \"heap\": {}, \"stdout\": \"ZAM 4\\nZAM 5\\nZAM 6\\n\"}, {\"line\": 2, \"event\": \"step_line\", \"func_name\": \"<module>\", \"globals\": {\"x\": 7}, \"ordered_globals\": [\"x\"], \"stack_to_render\": [], \"heap\": {}, \"stdout\": \"ZAM 4\\nZAM 5\\nZAM 6\\nZAM 7\\n\"}, {\"line\": 2, \"event\": \"return\", \"func_name\": \"<module>\", \"globals\": {\"x\": 7}, \"ordered_globals\": [\"x\"], \"stack_to_render\": [], \"heap\": {}, \"stdout\": \"ZAM 4\\nZAM 5\\nZAM 6\\nZAM 7\\n\"}]}\n",
       "        </script>\n",
       "        <div id=\"jm-bc48ddc247a4893302320863d735be79-15\" class=\"pytutorVisualizer\"> </div>\n",
       "                            \n",
       "        <script>\n",
       "                          \n",
       "        var jmRenderPytut = function(trace_id, div_id, config){\n",
       "            console.log(\"jupman.py embedded javascript: rendering Python tutor visualizer...\")\n",
       "            \n",
       "            let oldAlert = window.alert;\n",
       "            window.alert = function ( text ) { \n",
       "                console.log( 'tried to alert: ', text );         \n",
       "                return true; \n",
       "            };\n",
       "            let executionVisualizer = null;\n",
       "            try {\n",
       "            \n",
       "                var trace = JSON.parse(document.getElementById(trace_id).innerHTML);                                        \n",
       "                // NOTE: id without #\n",
       "                        \n",
       "                executionVisualizer = addVisualizerToPage(trace, div_id, config);\n",
       "                // hack in case visualizer decides to hide them for no good reason\n",
       "                $('#' + div_id + ' #jmpFirstInstr').show();\n",
       "                $('#' + div_id + ' #jmpLastInstr').show();\n",
       "                \n",
       "                // set overflow for pytuts - need to do in python as css \n",
       "                // does not allow parent selection\n",
       "                var pytuts = $('.pytutorVisualizer');\n",
       "                pytuts.closest('div.output_html.rendered_html.output_result')\n",
       "                        .css('overflow-x', 'visible');\n",
       "            \n",
       "                //pytuts.closest('div.output_html.rendered_html.output_result')\n",
       "                //      .css('background-color','red');                \n",
       "            } catch (error) {\n",
       "                console.error(\"jupman slides: Couldn't visualize Python tutor properly\", error);\n",
       "            }\n",
       "            window.alert = oldAlert;\n",
       "            return executionVisualizer;\n",
       "            \n",
       "        };\n",
       "        </script>\n",
       "        \n",
       "        <script>\n",
       "        var pytut_cfg_bc48ddc247a4893302320863d735be79_15 = (function(){\n",
       "            var rootFontSize = window.getComputedStyle(document.body).getPropertyValue('font-size');\n",
       "            var rootFontSizeNum = 12;\n",
       "            if (rootFontSize.endsWith('px')){\n",
       "                rootFontSizeNum = Number(rootFontSize.substring(0, rootFontSize.length-2));\n",
       "            } else {\n",
       "                console.error(\"Unrecognized font unit:\", rootFontSize, \"assuming default\", rootFontSizeNum);\n",
       "            }\n",
       "            console.log('rootFontSize', rootFontSize);\n",
       "            \n",
       "            var codeWidthInChars = Math.max(23, 19);\n",
       "            if (0){\n",
       "                codeWidthInChars = 0;    // override\n",
       "            }\n",
       "            return {'embeddedMode' : false,\n",
       "                  'disableHeapNesting': true,\n",
       "                  'visualizerIdOverride':'viz-jm-bc48ddc247a4893302320863d735be79-15',\n",
       "                  'codeDivWidth': Math.trunc(rootFontSizeNum * codeWidthInChars)\n",
       "                  };\n",
       "        })();                 \n",
       "        \n",
       "        jmRenderPytut('trace-jm-bc48ddc247a4893302320863d735be79-15', 'jm-bc48ddc247a4893302320863d735be79-15', pytut_cfg_bc48ddc247a4893302320863d735be79_15);\n",
       "        </script>\n",
       "                \n",
       "    \n",
       "    <div style=\"text-align:center; font-size:0.9em\"> <a href=\"https://pythontutor.com/visualize.html#mode=edit\" target=\"_blank\">Python Tutor</a> visualization</div> \n",
       "    "
      ],
      "text/plain": [
       "<IPython.core.display.HTML object>"
      ]
     },
     "execution_count": 13,
     "metadata": {},
     "output_type": "execute_result"
    }
   ],
   "source": [
    "#jupman-purge-input\n",
    "#jupman-purge-text-output\n",
    "for x in range(8):\n",
    "    if x < 4:\n",
    "        continue\n",
    "    print('ZAM', x)\n",
    "conf.jm.python_tutor()    "
   ]
  },
  {
   "cell_type": "code",
   "execution_count": 14,
   "id": "35c4a30c",
   "metadata": {},
   "outputs": [
    {
     "data": {
      "text/plain": [
       "''"
      ]
     },
     "execution_count": 14,
     "metadata": {},
     "output_type": "execute_result"
    }
   ],
   "source": [
    "#jupman-purge-io\n",
    "# scrivi qui\n",
    "''"
   ]
  }
 ],
 "metadata": {
  "celltoolbar": "Slideshow",
  "kernelspec": {
   "display_name": "Python 3 (ipykernel)",
   "language": "python",
   "name": "python3"
  },
  "language_info": {
   "codemirror_mode": {
    "name": "ipython",
    "version": 3
   },
   "file_extension": ".py",
   "mimetype": "text/x-python",
   "name": "python",
   "nbconvert_exporter": "python",
   "pygments_lexer": "ipython3",
   "version": "3.7.17"
  },
  "toc": {
   "base_numbering": 1,
   "nav_menu": {},
   "number_sections": false,
   "sideBar": true,
   "skip_h1_title": false,
   "title_cell": "Table of Contents",
   "title_sidebar": "Contents",
   "toc_cell": false,
   "toc_position": {
    "height": "calc(100% - 180px)",
    "left": "10px",
    "top": "150px",
    "width": "373.188px"
   },
   "toc_section_display": true,
   "toc_window_display": true
  }
 },
 "nbformat": 4,
 "nbformat_minor": 5
}
