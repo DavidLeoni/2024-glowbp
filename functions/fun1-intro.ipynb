{
 "cells": [
  {
   "cell_type": "code",
   "execution_count": 1,
   "id": "8e77c3a2",
   "metadata": {
    "slideshow": {
     "slide_type": "skip"
    }
   },
   "outputs": [
    {
     "data": {
      "text/html": [
       "        \n",
       "            <script src=\"_static/js/python.iife.js\" type=\"application/javascript\"></script>\n",
       "        "
      ],
      "text/plain": [
       "<IPython.core.display.HTML object>"
      ]
     },
     "execution_count": 1,
     "metadata": {},
     "output_type": "execute_result"
    }
   ],
   "source": [
    "import jupman\n",
    "\n",
    "import conf\n",
    "\n",
    "conf.jm.init_icp()"
   ]
  },
  {
   "cell_type": "markdown",
   "id": "0049100b",
   "metadata": {
    "slideshow": {
     "slide_type": "slide"
    }
   },
   "source": [
    "# Funzioni 1: introduzione \n",
    "\n",
    "**Riferimenti:** [SoftPython - funzioni 1](https://it.softpython.org/functions/fun1-intro-sol.html)\n",
    "\n",
    "* visualizza al meglio in <img style=\"display:inline; width:25px; vertical-align: middle;\" src=\"../_static/img/chrome.png\" alttext=\"Chrome\">\n",
    "* versione stampabile: [clicca qua](?print-pdf)\n",
    "* per navigare nelle slide: premere `Esc`\n",
    "\n",
    "<br>\n",
    "<br>\n",
    "\n",
    "**Summer School Data Science 2023 - Modulo 1 informatica:** [Moodle](https://didatticaonline.unitn.it/dol/course/view.php?id=36683) \n",
    "\n",
    "Docente: David Leoni david.leoni@unitn.it\n",
    "\n",
    "Esercitatore: Luca Bosotti luca.bosotti@studenti.unitn.it\n"
   ]
  },
  {
   "cell_type": "markdown",
   "id": "4a991f48",
   "metadata": {
    "slideshow": {
     "slide_type": "slide"
    }
   },
   "source": [
    "## Tipi di funzioni (all'incirca...)\n",
    "\n",
    "![](img/functions-pie.svg)"
   ]
  },
  {
   "cell_type": "markdown",
   "id": "687ec7d2",
   "metadata": {
    "slideshow": {
     "slide_type": "slide"
    }
   },
   "source": [
    "## SIDE EFFECTS\n",
    "\n",
    "<img src=\"img/side-effects.svg\" width=\"100%\" alttext=\"side effects\">"
   ]
  },
  {
   "cell_type": "markdown",
   "id": "ada7b419",
   "metadata": {
    "slideshow": {
     "slide_type": "subslide"
    }
   },
   "source": [
    "### SIDE EFFECTS - esempio\n",
    "\n",
    "**Riferimenti**: [SoftPyhon - funzioni](https://it.softpython.org/functions/fun1-intro-sol.html)"
   ]
  },
  {
   "cell_type": "markdown",
   "id": "b7c79c23",
   "metadata": {
    "colab": {
     "autoexec": {
      "startup": false,
      "wait_interval": 0
     }
    },
    "colab_type": "code",
    "id": "JHBncVarIG0a",
    "slideshow": {
     "slide_type": "-"
    }
   },
   "source": [
    "```python\n",
    "def mia_stampa():\n",
    "    primo = input('Dammi un numero: ')\n",
    "    secondo = input('Dammi un altro numero')\n",
    "    x = int(primo)\n",
    "    y = int(secondo)\n",
    "    print(f'La somma è {x + y}')    \n",
    "    \n",
    "mia_stampa()\n",
    "```"
   ]
  },
  {
   "cell_type": "markdown",
   "id": "a05d74f3",
   "metadata": {},
   "source": [
    "#### [Guarda in Python Tutor](https://pythontutor.com/visualize.html#code=def%20mia_stampa%28%29%3A%0A%20%20%20%20primo%20%3D%20input%28'Dammi%20un%20numero%3A%20'%29%0A%20%20%20%20secondo%20%3D%20input%28'Dammi%20un%20altro%20numero'%29%0A%20%20%20%20x%20%3D%20int%28primo%29%0A%20%20%20%20y%20%3D%20int%28secondo%29%0A%20%20%20%20print%28f'La%20somma%20%C3%A8%20%7Bx%20%2B%20y%7D'%29%20%20%20%20%0A%20%20%20%20%0Amia_stampa%28%29&cumulative=false&heapPrimitives=nevernest&mode=edit&origin=opt-frontend.js&py=3&rawInputLstJSON=%5B%5D&textReferences=false)"
   ]
  },
  {
   "cell_type": "markdown",
   "id": "f10043d0",
   "metadata": {
    "slideshow": {
     "slide_type": "fragment"
    }
   },
   "source": [
    "Per definire una funzione, possiamo usare la parola chiave `def`: \n",
    "\n",
    "Ricordati i due punti `:` alla fine della riga !!"
   ]
  },
  {
   "cell_type": "markdown",
   "id": "f02007fb",
   "metadata": {
    "slideshow": {
     "slide_type": "subslide"
    }
   },
   "source": [
    "### Side effects: funziona?"
   ]
  },
  {
   "cell_type": "markdown",
   "id": "b02b1690",
   "metadata": {
    "slideshow": {
     "slide_type": "-"
    }
   },
   "source": [
    "```python\n",
    "def altra_stampa(x,y):   \n",
    "    print('Stampiamo!')\n",
    "    print('La somma è %s' % (x + y))    \n",
    "    \n",
    "risultato = altra_stampa(3,5)\n",
    "print('risultato:', risultato)\n",
    "print(risultato + 4)\n",
    "```"
   ]
  },
  {
   "cell_type": "markdown",
   "id": "5fb4ca81",
   "metadata": {
    "slideshow": {
     "slide_type": "fragment"
    }
   },
   "source": [
    "```bash\n",
    "Stampiamo!\n",
    "La somma è 8\n",
    "risultato: None\n",
    "---------------------------------------------------------------------------\n",
    "TypeError                                 Traceback (most recent call last)\n",
    "/tmp/ipykernel_12038/1339349047.py in <module>\n",
    "      6 risultato = altra_stampa(3,5)\n",
    "      7 print('risultato:', risultato)\n",
    "----> 8 print(risultato + 4)\n",
    "\n",
    "TypeError: unsupported operand type(s) for +: 'NoneType' and 'int'\n",
    "```"
   ]
  },
  {
   "cell_type": "markdown",
   "id": "9936b6ea",
   "metadata": {
    "colab_type": "text",
    "id": "TNftj3qzJWgv",
    "slideshow": {
     "slide_type": "subslide"
    }
   },
   "source": [
    "### SIDE EFFECTS: Ricapitoliamo\n",
    "\n",
    "Una funzione ha _side effects_ quando modifica l'ambiente\n",
    "\n",
    "<img src=\"img/side-effects.svg\" width=\"50%\" alttext=\"side effects\">\n"
   ]
  },
  {
   "cell_type": "markdown",
   "id": "c9c61235",
   "metadata": {
    "slideshow": {
     "slide_type": "fragment"
    }
   },
   "source": [
    "- richiedere input manuale all'utente"
   ]
  },
  {
   "cell_type": "markdown",
   "id": "011cb7af",
   "metadata": {
    "slideshow": {
     "slide_type": "fragment"
    }
   },
   "source": [
    "- leggere da file"
   ]
  },
  {
   "cell_type": "markdown",
   "id": "01ff50b4",
   "metadata": {
    "slideshow": {
     "slide_type": "fragment"
    }
   },
   "source": [
    "- illuminare i pixel sullo schermo con `print`"
   ]
  },
  {
   "cell_type": "markdown",
   "id": "862917d8",
   "metadata": {
    "slideshow": {
     "slide_type": "fragment"
    }
   },
   "source": [
    "- scrivere su file"
   ]
  },
  {
   "cell_type": "markdown",
   "id": "eff68212",
   "metadata": {
    "slideshow": {
     "slide_type": "slide"
    }
   },
   "source": [
    "## RITORNA un valore\n",
    "\n",
    "\n",
    "<img src=\"img/fun-return.svg\"  alttext=\"schema return\">"
   ]
  },
  {
   "cell_type": "markdown",
   "id": "5551fdff",
   "metadata": {
    "slideshow": {
     "slide_type": "subslide"
    }
   },
   "source": [
    "### RITORNA un valore - esempio"
   ]
  },
  {
   "cell_type": "code",
   "execution_count": 2,
   "id": "b058b2e6-stripped",
   "metadata": {
    "colab": {
     "autoexec": {
      "startup": false,
      "wait_interval": 0
     }
    },
    "colab_type": "code",
    "id": "FN9Ek84QIZdK",
    "slideshow": {
     "slide_type": "-"
    }
   },
   "outputs": [
    {
     "data": {
      "text/html": [
       "        \n",
       "        <script src=\"_static/js/pytutor-embed.bundle.min.js\" #type=\"application/javascript\"></script>\n",
       "    \n",
       "        <style>\n",
       "        @import \"_static/css/jupman.css\";\n",
       "        </style>\n",
       "     \n",
       "        <script id=\"trace-jm-e0dccd3104e49ed04a8f7c41d59cc345-4\" type=\"application/json\" >\n",
       "            {\"code\": \" \\ndef mia_somma(x,y):\\n    s = x + y\\n    return s\\n\\nrisultato = mia_somma(3,5)\\nprint(risultato)\", \"trace\": [{\"line\": 2, \"event\": \"step_line\", \"func_name\": \"<module>\", \"globals\": {}, \"ordered_globals\": [], \"stack_to_render\": [], \"heap\": {}, \"stdout\": \"\"}, {\"line\": 6, \"event\": \"step_line\", \"func_name\": \"<module>\", \"globals\": {\"mia_somma\": [\"REF\", 1]}, \"ordered_globals\": [\"mia_somma\"], \"stack_to_render\": [], \"heap\": {\"1\": [\"FUNCTION\", \"mia_somma(x, y)\", null]}, \"stdout\": \"\"}, {\"line\": 2, \"event\": \"call\", \"func_name\": \"mia_somma\", \"globals\": {\"mia_somma\": [\"REF\", 1]}, \"ordered_globals\": [\"mia_somma\"], \"stack_to_render\": [{\"func_name\": \"mia_somma\", \"is_parent\": false, \"frame_id\": 1, \"parent_frame_id_list\": [], \"encoded_locals\": {\"x\": 3, \"y\": 5}, \"ordered_varnames\": [\"x\", \"y\"], \"is_zombie\": false, \"is_highlighted\": true, \"unique_hash\": \"mia_somma_f1\"}], \"heap\": {\"1\": [\"FUNCTION\", \"mia_somma(x, y)\", null]}, \"stdout\": \"\"}, {\"line\": 3, \"event\": \"step_line\", \"func_name\": \"mia_somma\", \"globals\": {\"mia_somma\": [\"REF\", 1]}, \"ordered_globals\": [\"mia_somma\"], \"stack_to_render\": [{\"func_name\": \"mia_somma\", \"is_parent\": false, \"frame_id\": 1, \"parent_frame_id_list\": [], \"encoded_locals\": {\"x\": 3, \"y\": 5}, \"ordered_varnames\": [\"x\", \"y\"], \"is_zombie\": false, \"is_highlighted\": true, \"unique_hash\": \"mia_somma_f1\"}], \"heap\": {\"1\": [\"FUNCTION\", \"mia_somma(x, y)\", null]}, \"stdout\": \"\"}, {\"line\": 4, \"event\": \"step_line\", \"func_name\": \"mia_somma\", \"globals\": {\"mia_somma\": [\"REF\", 1]}, \"ordered_globals\": [\"mia_somma\"], \"stack_to_render\": [{\"func_name\": \"mia_somma\", \"is_parent\": false, \"frame_id\": 1, \"parent_frame_id_list\": [], \"encoded_locals\": {\"x\": 3, \"y\": 5, \"s\": 8}, \"ordered_varnames\": [\"x\", \"y\", \"s\"], \"is_zombie\": false, \"is_highlighted\": true, \"unique_hash\": \"mia_somma_f1\"}], \"heap\": {\"1\": [\"FUNCTION\", \"mia_somma(x, y)\", null]}, \"stdout\": \"\"}, {\"line\": 4, \"event\": \"return\", \"func_name\": \"mia_somma\", \"globals\": {\"mia_somma\": [\"REF\", 1]}, \"ordered_globals\": [\"mia_somma\"], \"stack_to_render\": [{\"func_name\": \"mia_somma\", \"is_parent\": false, \"frame_id\": 1, \"parent_frame_id_list\": [], \"encoded_locals\": {\"x\": 3, \"y\": 5, \"s\": 8, \"__return__\": 8}, \"ordered_varnames\": [\"x\", \"y\", \"s\", \"__return__\"], \"is_zombie\": false, \"is_highlighted\": true, \"unique_hash\": \"mia_somma_f1\"}], \"heap\": {\"1\": [\"FUNCTION\", \"mia_somma(x, y)\", null]}, \"stdout\": \"\"}, {\"line\": 7, \"event\": \"step_line\", \"func_name\": \"<module>\", \"globals\": {\"mia_somma\": [\"REF\", 1], \"risultato\": 8}, \"ordered_globals\": [\"mia_somma\", \"risultato\"], \"stack_to_render\": [], \"heap\": {\"1\": [\"FUNCTION\", \"mia_somma(x, y)\", null]}, \"stdout\": \"\"}, {\"line\": 7, \"event\": \"return\", \"func_name\": \"<module>\", \"globals\": {\"mia_somma\": [\"REF\", 1], \"risultato\": 8}, \"ordered_globals\": [\"mia_somma\", \"risultato\"], \"stack_to_render\": [], \"heap\": {\"1\": [\"FUNCTION\", \"mia_somma(x, y)\", null]}, \"stdout\": \"8\\n\"}]}\n",
       "        </script>\n",
       "        <div id=\"jm-e0dccd3104e49ed04a8f7c41d59cc345-4\" class=\"pytutorVisualizer\"> </div>\n",
       "                            \n",
       "        <script>\n",
       "                          \n",
       "        var jmRenderPytut = function(trace_id, div_id, config){\n",
       "            console.log(\"jupman.py embedded javascript: rendering Python tutor visualizer...\")\n",
       "            \n",
       "            let oldAlert = window.alert;\n",
       "            window.alert = function ( text ) { \n",
       "                console.log( 'tried to alert: ', text );         \n",
       "                return true; \n",
       "            };\n",
       "            let executionVisualizer = null;\n",
       "            try {\n",
       "            \n",
       "                var trace = JSON.parse(document.getElementById(trace_id).innerHTML);                                        \n",
       "                // NOTE: id without #\n",
       "                        \n",
       "                executionVisualizer = addVisualizerToPage(trace, div_id, config);\n",
       "                // hack in case visualizer decides to hide them for no good reason\n",
       "                $('#' + div_id + ' #jmpFirstInstr').show();\n",
       "                $('#' + div_id + ' #jmpLastInstr').show();\n",
       "                \n",
       "                // set overflow for pytuts - need to do in python as css \n",
       "                // does not allow parent selection\n",
       "                var pytuts = $('.pytutorVisualizer');\n",
       "                pytuts.closest('div.output_html.rendered_html.output_result')\n",
       "                        .css('overflow-x', 'visible');\n",
       "            \n",
       "                //pytuts.closest('div.output_html.rendered_html.output_result')\n",
       "                //      .css('background-color','red');                \n",
       "            } catch (error) {\n",
       "                console.error(\"jupman slides: Couldn't visualize Python tutor properly\", error);\n",
       "            }\n",
       "            window.alert = oldAlert;\n",
       "            return executionVisualizer;\n",
       "            \n",
       "        };\n",
       "        </script>\n",
       "        \n",
       "        <script>\n",
       "        var pytut_cfg_e0dccd3104e49ed04a8f7c41d59cc345_4 = (function(){\n",
       "            var rootFontSize = window.getComputedStyle(document.body).getPropertyValue('font-size');\n",
       "            var rootFontSizeNum = 12;\n",
       "            if (rootFontSize.endsWith('px')){\n",
       "                rootFontSizeNum = Number(rootFontSize.substring(0, rootFontSize.length-2));\n",
       "            } else {\n",
       "                console.error(\"Unrecognized font unit:\", rootFontSize, \"assuming default\", rootFontSizeNum);\n",
       "            }\n",
       "            console.log('rootFontSize', rootFontSize);\n",
       "            \n",
       "            var codeWidthInChars = Math.max(23, 26);\n",
       "            if (0){\n",
       "                codeWidthInChars = 0;    // override\n",
       "            }\n",
       "            return {'embeddedMode' : false,\n",
       "                  'disableHeapNesting': true,\n",
       "                  'visualizerIdOverride':'viz-jm-e0dccd3104e49ed04a8f7c41d59cc345-4',\n",
       "                  'codeDivWidth': Math.trunc(rootFontSizeNum * codeWidthInChars)\n",
       "                  };\n",
       "        })();                 \n",
       "        \n",
       "        jmRenderPytut('trace-jm-e0dccd3104e49ed04a8f7c41d59cc345-4', 'jm-e0dccd3104e49ed04a8f7c41d59cc345-4', pytut_cfg_e0dccd3104e49ed04a8f7c41d59cc345_4);\n",
       "        </script>\n",
       "                \n",
       "    \n",
       "    <div style=\"text-align:center; font-size:0.9em\"> <a href=\"https://pythontutor.com/visualize.html#mode=edit\" target=\"_blank\">Python Tutor</a> visualization</div> \n",
       "    "
      ],
      "text/plain": [
       "<IPython.core.display.HTML object>"
      ]
     },
     "execution_count": 2,
     "metadata": {},
     "output_type": "execute_result"
    }
   ],
   "source": []
  },
  {
   "cell_type": "markdown",
   "id": "77a694de",
   "metadata": {
    "slideshow": {
     "slide_type": "fragment"
    }
   },
   "source": [
    "Per restituire un valore usabile _fuori_ dalla funzione:\n",
    "\n",
    "usa la parola chiave `return` seguita da una ESPRESSIONE"
   ]
  },
  {
   "cell_type": "markdown",
   "id": "2ecb3246",
   "metadata": {
    "slideshow": {
     "slide_type": "subslide"
    }
   },
   "source": [
    "### E se ci dimentichiamo il `return` ?\n"
   ]
  },
  {
   "cell_type": "code",
   "execution_count": 3,
   "id": "22a3b4cf",
   "metadata": {
    "slideshow": {
     "slide_type": "-"
    }
   },
   "outputs": [],
   "source": [
    "\n",
    "def mia_somma_sbagliata(x,y):\n",
    "    x + y    \n",
    "\n",
    "risultato = mia_somma_sbagliata(5,3)"
   ]
  },
  {
   "cell_type": "code",
   "execution_count": 4,
   "id": "32ba151a",
   "metadata": {
    "slideshow": {
     "slide_type": "fragment"
    }
   },
   "outputs": [],
   "source": [
    "risultato  # Jupyter non mostra niente!"
   ]
  },
  {
   "cell_type": "code",
   "execution_count": 5,
   "id": "2a8c5df2",
   "metadata": {
    "slideshow": {
     "slide_type": "fragment"
    }
   },
   "outputs": [
    {
     "name": "stdout",
     "output_type": "stream",
     "text": [
      "None\n"
     ]
    }
   ],
   "source": [
    "print(risultato)  # forziamo stampa con print"
   ]
  },
  {
   "cell_type": "code",
   "execution_count": 6,
   "id": "12f4a86b-stripped",
   "metadata": {
    "slideshow": {
     "slide_type": "subslide"
    }
   },
   "outputs": [
    {
     "data": {
      "text/html": [
       "        \n",
       "        <script src=\"_static/js/pytutor-embed.bundle.min.js\" #type=\"application/javascript\"></script>\n",
       "    \n",
       "        <style>\n",
       "        @import \"_static/css/jupman.css\";\n",
       "        </style>\n",
       "     \n",
       "        <script id=\"trace-jm-35442f271686d7a2e5e07d82cd8d95fd-8\" type=\"application/json\" >\n",
       "            {\"code\": \" \\ndef mia_somma_sbagliata(x,y):\\n    x + y    \\n\\nrisultato = mia_somma_sbagliata(5,3)\", \"trace\": [{\"line\": 2, \"event\": \"step_line\", \"func_name\": \"<module>\", \"globals\": {}, \"ordered_globals\": [], \"stack_to_render\": [], \"heap\": {}, \"stdout\": \"\"}, {\"line\": 5, \"event\": \"step_line\", \"func_name\": \"<module>\", \"globals\": {\"mia_somma_sbagliata\": [\"REF\", 1]}, \"ordered_globals\": [\"mia_somma_sbagliata\"], \"stack_to_render\": [], \"heap\": {\"1\": [\"FUNCTION\", \"mia_somma_sbagliata(x, y)\", null]}, \"stdout\": \"\"}, {\"line\": 2, \"event\": \"call\", \"func_name\": \"mia_somma_sbagliata\", \"globals\": {\"mia_somma_sbagliata\": [\"REF\", 1]}, \"ordered_globals\": [\"mia_somma_sbagliata\"], \"stack_to_render\": [{\"func_name\": \"mia_somma_sbagliata\", \"is_parent\": false, \"frame_id\": 1, \"parent_frame_id_list\": [], \"encoded_locals\": {\"x\": 5, \"y\": 3}, \"ordered_varnames\": [\"x\", \"y\"], \"is_zombie\": false, \"is_highlighted\": true, \"unique_hash\": \"mia_somma_sbagliata_f1\"}], \"heap\": {\"1\": [\"FUNCTION\", \"mia_somma_sbagliata(x, y)\", null]}, \"stdout\": \"\"}, {\"line\": 3, \"event\": \"step_line\", \"func_name\": \"mia_somma_sbagliata\", \"globals\": {\"mia_somma_sbagliata\": [\"REF\", 1]}, \"ordered_globals\": [\"mia_somma_sbagliata\"], \"stack_to_render\": [{\"func_name\": \"mia_somma_sbagliata\", \"is_parent\": false, \"frame_id\": 1, \"parent_frame_id_list\": [], \"encoded_locals\": {\"x\": 5, \"y\": 3}, \"ordered_varnames\": [\"x\", \"y\"], \"is_zombie\": false, \"is_highlighted\": true, \"unique_hash\": \"mia_somma_sbagliata_f1\"}], \"heap\": {\"1\": [\"FUNCTION\", \"mia_somma_sbagliata(x, y)\", null]}, \"stdout\": \"\"}, {\"line\": 3, \"event\": \"return\", \"func_name\": \"mia_somma_sbagliata\", \"globals\": {\"mia_somma_sbagliata\": [\"REF\", 1]}, \"ordered_globals\": [\"mia_somma_sbagliata\"], \"stack_to_render\": [{\"func_name\": \"mia_somma_sbagliata\", \"is_parent\": false, \"frame_id\": 1, \"parent_frame_id_list\": [], \"encoded_locals\": {\"x\": 5, \"y\": 3, \"__return__\": null}, \"ordered_varnames\": [\"x\", \"y\", \"__return__\"], \"is_zombie\": false, \"is_highlighted\": true, \"unique_hash\": \"mia_somma_sbagliata_f1\"}], \"heap\": {\"1\": [\"FUNCTION\", \"mia_somma_sbagliata(x, y)\", null]}, \"stdout\": \"\"}, {\"line\": 5, \"event\": \"return\", \"func_name\": \"<module>\", \"globals\": {\"mia_somma_sbagliata\": [\"REF\", 1], \"risultato\": null}, \"ordered_globals\": [\"mia_somma_sbagliata\", \"risultato\"], \"stack_to_render\": [], \"heap\": {\"1\": [\"FUNCTION\", \"mia_somma_sbagliata(x, y)\", null]}, \"stdout\": \"\"}]}\n",
       "        </script>\n",
       "        <div id=\"jm-35442f271686d7a2e5e07d82cd8d95fd-8\" class=\"pytutorVisualizer\"> </div>\n",
       "                            \n",
       "        <script>\n",
       "                          \n",
       "        var jmRenderPytut = function(trace_id, div_id, config){\n",
       "            console.log(\"jupman.py embedded javascript: rendering Python tutor visualizer...\")\n",
       "            \n",
       "            let oldAlert = window.alert;\n",
       "            window.alert = function ( text ) { \n",
       "                console.log( 'tried to alert: ', text );         \n",
       "                return true; \n",
       "            };\n",
       "            let executionVisualizer = null;\n",
       "            try {\n",
       "            \n",
       "                var trace = JSON.parse(document.getElementById(trace_id).innerHTML);                                        \n",
       "                // NOTE: id without #\n",
       "                        \n",
       "                executionVisualizer = addVisualizerToPage(trace, div_id, config);\n",
       "                // hack in case visualizer decides to hide them for no good reason\n",
       "                $('#' + div_id + ' #jmpFirstInstr').show();\n",
       "                $('#' + div_id + ' #jmpLastInstr').show();\n",
       "                \n",
       "                // set overflow for pytuts - need to do in python as css \n",
       "                // does not allow parent selection\n",
       "                var pytuts = $('.pytutorVisualizer');\n",
       "                pytuts.closest('div.output_html.rendered_html.output_result')\n",
       "                        .css('overflow-x', 'visible');\n",
       "            \n",
       "                //pytuts.closest('div.output_html.rendered_html.output_result')\n",
       "                //      .css('background-color','red');                \n",
       "            } catch (error) {\n",
       "                console.error(\"jupman slides: Couldn't visualize Python tutor properly\", error);\n",
       "            }\n",
       "            window.alert = oldAlert;\n",
       "            return executionVisualizer;\n",
       "            \n",
       "        };\n",
       "        </script>\n",
       "        \n",
       "        <script>\n",
       "        var pytut_cfg_35442f271686d7a2e5e07d82cd8d95fd_8 = (function(){\n",
       "            var rootFontSize = window.getComputedStyle(document.body).getPropertyValue('font-size');\n",
       "            var rootFontSizeNum = 12;\n",
       "            if (rootFontSize.endsWith('px')){\n",
       "                rootFontSizeNum = Number(rootFontSize.substring(0, rootFontSize.length-2));\n",
       "            } else {\n",
       "                console.error(\"Unrecognized font unit:\", rootFontSize, \"assuming default\", rootFontSizeNum);\n",
       "            }\n",
       "            console.log('rootFontSize', rootFontSize);\n",
       "            \n",
       "            var codeWidthInChars = Math.max(23, 36);\n",
       "            if (0){\n",
       "                codeWidthInChars = 0;    // override\n",
       "            }\n",
       "            return {'embeddedMode' : false,\n",
       "                  'disableHeapNesting': true,\n",
       "                  'visualizerIdOverride':'viz-jm-35442f271686d7a2e5e07d82cd8d95fd-8',\n",
       "                  'codeDivWidth': Math.trunc(rootFontSizeNum * codeWidthInChars)\n",
       "                  };\n",
       "        })();                 \n",
       "        \n",
       "        jmRenderPytut('trace-jm-35442f271686d7a2e5e07d82cd8d95fd-8', 'jm-35442f271686d7a2e5e07d82cd8d95fd-8', pytut_cfg_35442f271686d7a2e5e07d82cd8d95fd_8);\n",
       "        </script>\n",
       "                \n",
       "    \n",
       "    <div style=\"text-align:center; font-size:0.9em\"> <a href=\"https://pythontutor.com/visualize.html#mode=edit\" target=\"_blank\">Python Tutor</a> visualization</div> \n",
       "    "
      ],
      "text/plain": [
       "<IPython.core.display.HTML object>"
      ]
     },
     "execution_count": 6,
     "metadata": {},
     "output_type": "execute_result"
    }
   ],
   "source": []
  },
  {
   "cell_type": "code",
   "execution_count": 7,
   "id": "c1e566fe",
   "metadata": {
    "slideshow": {
     "slide_type": "fragment"
    }
   },
   "outputs": [
    {
     "name": "stdout",
     "output_type": "stream",
     "text": [
      "8\n"
     ]
    }
   ],
   "source": [
    "def mia_somma_corretta(x,y):\n",
    "    return x + y  \n",
    "\n",
    "risultato = mia_somma_corretta(5,3)\n",
    "print(risultato)"
   ]
  },
  {
   "cell_type": "markdown",
   "id": "9642a011",
   "metadata": {
    "slideshow": {
     "slide_type": "subslide"
    }
   },
   "source": [
    "### RITORNA un valore - `if`\n",
    "\n",
    "Se sono presenti condizionali nella funzione:\n",
    "\n",
    "ricordarsi di mettere un `return` in tutti i rami"
   ]
  },
  {
   "cell_type": "code",
   "execution_count": 8,
   "id": "a364557b-stripped",
   "metadata": {
    "slideshow": {
     "slide_type": "-"
    }
   },
   "outputs": [
    {
     "data": {
      "text/html": [
       "        \n",
       "        <script src=\"_static/js/pytutor-embed.bundle.min.js\" #type=\"application/javascript\"></script>\n",
       "    \n",
       "        <style>\n",
       "        @import \"_static/css/jupman.css\";\n",
       "        </style>\n",
       "     \n",
       "        <script id=\"trace-jm-af207655b058a45e65da827fef1bd007-10\" type=\"application/json\" >\n",
       "            {\"code\": \" \\ndef penso_positivo(numero):\\n    if numero >= 0:\\n        return numero\\n    else:\\n        return -numero\\n    \\nrisultato1 = penso_positivo(4)\\nrisultato2 = penso_positivo(-9)\", \"trace\": [{\"line\": 2, \"event\": \"step_line\", \"func_name\": \"<module>\", \"globals\": {}, \"ordered_globals\": [], \"stack_to_render\": [], \"heap\": {}, \"stdout\": \"\"}, {\"line\": 8, \"event\": \"step_line\", \"func_name\": \"<module>\", \"globals\": {\"penso_positivo\": [\"REF\", 1]}, \"ordered_globals\": [\"penso_positivo\"], \"stack_to_render\": [], \"heap\": {\"1\": [\"FUNCTION\", \"penso_positivo(numero)\", null]}, \"stdout\": \"\"}, {\"line\": 2, \"event\": \"call\", \"func_name\": \"penso_positivo\", \"globals\": {\"penso_positivo\": [\"REF\", 1]}, \"ordered_globals\": [\"penso_positivo\"], \"stack_to_render\": [{\"func_name\": \"penso_positivo\", \"is_parent\": false, \"frame_id\": 1, \"parent_frame_id_list\": [], \"encoded_locals\": {\"numero\": 4}, \"ordered_varnames\": [\"numero\"], \"is_zombie\": false, \"is_highlighted\": true, \"unique_hash\": \"penso_positivo_f1\"}], \"heap\": {\"1\": [\"FUNCTION\", \"penso_positivo(numero)\", null]}, \"stdout\": \"\"}, {\"line\": 3, \"event\": \"step_line\", \"func_name\": \"penso_positivo\", \"globals\": {\"penso_positivo\": [\"REF\", 1]}, \"ordered_globals\": [\"penso_positivo\"], \"stack_to_render\": [{\"func_name\": \"penso_positivo\", \"is_parent\": false, \"frame_id\": 1, \"parent_frame_id_list\": [], \"encoded_locals\": {\"numero\": 4}, \"ordered_varnames\": [\"numero\"], \"is_zombie\": false, \"is_highlighted\": true, \"unique_hash\": \"penso_positivo_f1\"}], \"heap\": {\"1\": [\"FUNCTION\", \"penso_positivo(numero)\", null]}, \"stdout\": \"\"}, {\"line\": 4, \"event\": \"step_line\", \"func_name\": \"penso_positivo\", \"globals\": {\"penso_positivo\": [\"REF\", 1]}, \"ordered_globals\": [\"penso_positivo\"], \"stack_to_render\": [{\"func_name\": \"penso_positivo\", \"is_parent\": false, \"frame_id\": 1, \"parent_frame_id_list\": [], \"encoded_locals\": {\"numero\": 4}, \"ordered_varnames\": [\"numero\"], \"is_zombie\": false, \"is_highlighted\": true, \"unique_hash\": \"penso_positivo_f1\"}], \"heap\": {\"1\": [\"FUNCTION\", \"penso_positivo(numero)\", null]}, \"stdout\": \"\"}, {\"line\": 4, \"event\": \"return\", \"func_name\": \"penso_positivo\", \"globals\": {\"penso_positivo\": [\"REF\", 1]}, \"ordered_globals\": [\"penso_positivo\"], \"stack_to_render\": [{\"func_name\": \"penso_positivo\", \"is_parent\": false, \"frame_id\": 1, \"parent_frame_id_list\": [], \"encoded_locals\": {\"numero\": 4, \"__return__\": 4}, \"ordered_varnames\": [\"numero\", \"__return__\"], \"is_zombie\": false, \"is_highlighted\": true, \"unique_hash\": \"penso_positivo_f1\"}], \"heap\": {\"1\": [\"FUNCTION\", \"penso_positivo(numero)\", null]}, \"stdout\": \"\"}, {\"line\": 9, \"event\": \"step_line\", \"func_name\": \"<module>\", \"globals\": {\"penso_positivo\": [\"REF\", 1], \"risultato1\": 4}, \"ordered_globals\": [\"penso_positivo\", \"risultato1\"], \"stack_to_render\": [], \"heap\": {\"1\": [\"FUNCTION\", \"penso_positivo(numero)\", null]}, \"stdout\": \"\"}, {\"line\": 2, \"event\": \"call\", \"func_name\": \"penso_positivo\", \"globals\": {\"penso_positivo\": [\"REF\", 1], \"risultato1\": 4}, \"ordered_globals\": [\"penso_positivo\", \"risultato1\"], \"stack_to_render\": [{\"func_name\": \"penso_positivo\", \"is_parent\": false, \"frame_id\": 2, \"parent_frame_id_list\": [], \"encoded_locals\": {\"numero\": -9}, \"ordered_varnames\": [\"numero\"], \"is_zombie\": false, \"is_highlighted\": true, \"unique_hash\": \"penso_positivo_f2\"}], \"heap\": {\"1\": [\"FUNCTION\", \"penso_positivo(numero)\", null]}, \"stdout\": \"\"}, {\"line\": 3, \"event\": \"step_line\", \"func_name\": \"penso_positivo\", \"globals\": {\"penso_positivo\": [\"REF\", 1], \"risultato1\": 4}, \"ordered_globals\": [\"penso_positivo\", \"risultato1\"], \"stack_to_render\": [{\"func_name\": \"penso_positivo\", \"is_parent\": false, \"frame_id\": 2, \"parent_frame_id_list\": [], \"encoded_locals\": {\"numero\": -9}, \"ordered_varnames\": [\"numero\"], \"is_zombie\": false, \"is_highlighted\": true, \"unique_hash\": \"penso_positivo_f2\"}], \"heap\": {\"1\": [\"FUNCTION\", \"penso_positivo(numero)\", null]}, \"stdout\": \"\"}, {\"line\": 6, \"event\": \"step_line\", \"func_name\": \"penso_positivo\", \"globals\": {\"penso_positivo\": [\"REF\", 1], \"risultato1\": 4}, \"ordered_globals\": [\"penso_positivo\", \"risultato1\"], \"stack_to_render\": [{\"func_name\": \"penso_positivo\", \"is_parent\": false, \"frame_id\": 2, \"parent_frame_id_list\": [], \"encoded_locals\": {\"numero\": -9}, \"ordered_varnames\": [\"numero\"], \"is_zombie\": false, \"is_highlighted\": true, \"unique_hash\": \"penso_positivo_f2\"}], \"heap\": {\"1\": [\"FUNCTION\", \"penso_positivo(numero)\", null]}, \"stdout\": \"\"}, {\"line\": 6, \"event\": \"return\", \"func_name\": \"penso_positivo\", \"globals\": {\"penso_positivo\": [\"REF\", 1], \"risultato1\": 4}, \"ordered_globals\": [\"penso_positivo\", \"risultato1\"], \"stack_to_render\": [{\"func_name\": \"penso_positivo\", \"is_parent\": false, \"frame_id\": 2, \"parent_frame_id_list\": [], \"encoded_locals\": {\"numero\": -9, \"__return__\": 9}, \"ordered_varnames\": [\"numero\", \"__return__\"], \"is_zombie\": false, \"is_highlighted\": true, \"unique_hash\": \"penso_positivo_f2\"}], \"heap\": {\"1\": [\"FUNCTION\", \"penso_positivo(numero)\", null]}, \"stdout\": \"\"}, {\"line\": 9, \"event\": \"return\", \"func_name\": \"<module>\", \"globals\": {\"penso_positivo\": [\"REF\", 1], \"risultato1\": 4, \"risultato2\": 9}, \"ordered_globals\": [\"penso_positivo\", \"risultato1\", \"risultato2\"], \"stack_to_render\": [], \"heap\": {\"1\": [\"FUNCTION\", \"penso_positivo(numero)\", null]}, \"stdout\": \"\"}]}\n",
       "        </script>\n",
       "        <div id=\"jm-af207655b058a45e65da827fef1bd007-10\" class=\"pytutorVisualizer\"> </div>\n",
       "                            \n",
       "        <script>\n",
       "                          \n",
       "        var jmRenderPytut = function(trace_id, div_id, config){\n",
       "            console.log(\"jupman.py embedded javascript: rendering Python tutor visualizer...\")\n",
       "            \n",
       "            let oldAlert = window.alert;\n",
       "            window.alert = function ( text ) { \n",
       "                console.log( 'tried to alert: ', text );         \n",
       "                return true; \n",
       "            };\n",
       "            let executionVisualizer = null;\n",
       "            try {\n",
       "            \n",
       "                var trace = JSON.parse(document.getElementById(trace_id).innerHTML);                                        \n",
       "                // NOTE: id without #\n",
       "                        \n",
       "                executionVisualizer = addVisualizerToPage(trace, div_id, config);\n",
       "                // hack in case visualizer decides to hide them for no good reason\n",
       "                $('#' + div_id + ' #jmpFirstInstr').show();\n",
       "                $('#' + div_id + ' #jmpLastInstr').show();\n",
       "                \n",
       "                // set overflow for pytuts - need to do in python as css \n",
       "                // does not allow parent selection\n",
       "                var pytuts = $('.pytutorVisualizer');\n",
       "                pytuts.closest('div.output_html.rendered_html.output_result')\n",
       "                        .css('overflow-x', 'visible');\n",
       "            \n",
       "                //pytuts.closest('div.output_html.rendered_html.output_result')\n",
       "                //      .css('background-color','red');                \n",
       "            } catch (error) {\n",
       "                console.error(\"jupman slides: Couldn't visualize Python tutor properly\", error);\n",
       "            }\n",
       "            window.alert = oldAlert;\n",
       "            return executionVisualizer;\n",
       "            \n",
       "        };\n",
       "        </script>\n",
       "        \n",
       "        <script>\n",
       "        var pytut_cfg_af207655b058a45e65da827fef1bd007_10 = (function(){\n",
       "            var rootFontSize = window.getComputedStyle(document.body).getPropertyValue('font-size');\n",
       "            var rootFontSizeNum = 12;\n",
       "            if (rootFontSize.endsWith('px')){\n",
       "                rootFontSizeNum = Number(rootFontSize.substring(0, rootFontSize.length-2));\n",
       "            } else {\n",
       "                console.error(\"Unrecognized font unit:\", rootFontSize, \"assuming default\", rootFontSizeNum);\n",
       "            }\n",
       "            console.log('rootFontSize', rootFontSize);\n",
       "            \n",
       "            var codeWidthInChars = Math.max(23, 31);\n",
       "            if (0){\n",
       "                codeWidthInChars = 0;    // override\n",
       "            }\n",
       "            return {'embeddedMode' : false,\n",
       "                  'disableHeapNesting': true,\n",
       "                  'visualizerIdOverride':'viz-jm-af207655b058a45e65da827fef1bd007-10',\n",
       "                  'codeDivWidth': Math.trunc(rootFontSizeNum * codeWidthInChars)\n",
       "                  };\n",
       "        })();                 \n",
       "        \n",
       "        jmRenderPytut('trace-jm-af207655b058a45e65da827fef1bd007-10', 'jm-af207655b058a45e65da827fef1bd007-10', pytut_cfg_af207655b058a45e65da827fef1bd007_10);\n",
       "        </script>\n",
       "                \n",
       "    \n",
       "    <div style=\"text-align:center; font-size:0.9em\"> <a href=\"https://pythontutor.com/visualize.html#mode=edit\" target=\"_blank\">Python Tutor</a> visualization</div> \n",
       "    "
      ],
      "text/plain": [
       "<IPython.core.display.HTML object>"
      ]
     },
     "execution_count": 8,
     "metadata": {},
     "output_type": "execute_result"
    }
   ],
   "source": []
  },
  {
   "cell_type": "markdown",
   "id": "a267fd35",
   "metadata": {
    "slideshow": {
     "slide_type": "slide"
    }
   },
   "source": [
    "## MODIFICA - che vuol dire? 1/3\n",
    "\n",
    "<img src=\"img/fun-modify-1.svg\" alttext=\"schema modifica 1\">"
   ]
  },
  {
   "cell_type": "markdown",
   "id": "227a8362",
   "metadata": {
    "slideshow": {
     "slide_type": "subslide"
    }
   },
   "source": [
    "### MODIFICA - che vuol dire? 2/3\n",
    "\n",
    "<img src=\"img/fun-modify-2.svg\"  alttext=\"schema modifica 2\">"
   ]
  },
  {
   "cell_type": "markdown",
   "id": "fabb27d4",
   "metadata": {
    "slideshow": {
     "slide_type": "subslide"
    }
   },
   "source": [
    "### MODIFICA - che vuol dire? 3/3\n",
    "\n",
    "<img src=\"img/fun-modify-3.svg\"  alttext=\"schema modifica 2\">"
   ]
  },
  {
   "cell_type": "markdown",
   "id": "b0248b94",
   "metadata": {
    "slideshow": {
     "slide_type": "subslide"
    }
   },
   "source": [
    "### MODIFICA - Esempio\n",
    "\n"
   ]
  },
  {
   "cell_type": "code",
   "execution_count": 9,
   "id": "a17d5989-stripped",
   "metadata": {
    "slideshow": {
     "slide_type": "-"
    }
   },
   "outputs": [
    {
     "data": {
      "text/html": [
       "        \n",
       "        <script src=\"_static/js/pytutor-embed.bundle.min.js\" #type=\"application/javascript\"></script>\n",
       "    \n",
       "        <style>\n",
       "        @import \"_static/css/jupman.css\";\n",
       "        </style>\n",
       "     \n",
       "        <script id=\"trace-jm-da05ec6a7d338eb67cd0eb793f962dd7-11\" type=\"application/json\" >\n",
       "            {\"code\": \" \\ndef ordina(lista):\\n    \\\"\\\"\\\"Prende in input una lista e la MODIFICA\\n       in modo che sia ordinata in-place\\n    \\\"\\\"\\\"\\n    lista.sort()\\n\\nvestiti = [60,40,50,30]  # taglie\\nordina(vestiti)\\nprint(vestiti)\", \"trace\": [{\"line\": 2, \"event\": \"step_line\", \"func_name\": \"<module>\", \"globals\": {}, \"ordered_globals\": [], \"stack_to_render\": [], \"heap\": {}, \"stdout\": \"\"}, {\"line\": 8, \"event\": \"step_line\", \"func_name\": \"<module>\", \"globals\": {\"ordina\": [\"REF\", 1]}, \"ordered_globals\": [\"ordina\"], \"stack_to_render\": [], \"heap\": {\"1\": [\"FUNCTION\", \"ordina(lista)\", null]}, \"stdout\": \"\"}, {\"line\": 9, \"event\": \"step_line\", \"func_name\": \"<module>\", \"globals\": {\"ordina\": [\"REF\", 1], \"vestiti\": [\"REF\", 2]}, \"ordered_globals\": [\"ordina\", \"vestiti\"], \"stack_to_render\": [], \"heap\": {\"1\": [\"FUNCTION\", \"ordina(lista)\", null], \"2\": [\"LIST\", 60, 40, 50, 30]}, \"stdout\": \"\"}, {\"line\": 2, \"event\": \"call\", \"func_name\": \"ordina\", \"globals\": {\"ordina\": [\"REF\", 1], \"vestiti\": [\"REF\", 2]}, \"ordered_globals\": [\"ordina\", \"vestiti\"], \"stack_to_render\": [{\"func_name\": \"ordina\", \"is_parent\": false, \"frame_id\": 1, \"parent_frame_id_list\": [], \"encoded_locals\": {\"lista\": [\"REF\", 2]}, \"ordered_varnames\": [\"lista\"], \"is_zombie\": false, \"is_highlighted\": true, \"unique_hash\": \"ordina_f1\"}], \"heap\": {\"2\": [\"LIST\", 60, 40, 50, 30], \"1\": [\"FUNCTION\", \"ordina(lista)\", null]}, \"stdout\": \"\"}, {\"line\": 6, \"event\": \"step_line\", \"func_name\": \"ordina\", \"globals\": {\"ordina\": [\"REF\", 1], \"vestiti\": [\"REF\", 2]}, \"ordered_globals\": [\"ordina\", \"vestiti\"], \"stack_to_render\": [{\"func_name\": \"ordina\", \"is_parent\": false, \"frame_id\": 1, \"parent_frame_id_list\": [], \"encoded_locals\": {\"lista\": [\"REF\", 2]}, \"ordered_varnames\": [\"lista\"], \"is_zombie\": false, \"is_highlighted\": true, \"unique_hash\": \"ordina_f1\"}], \"heap\": {\"2\": [\"LIST\", 60, 40, 50, 30], \"1\": [\"FUNCTION\", \"ordina(lista)\", null]}, \"stdout\": \"\"}, {\"line\": 6, \"event\": \"return\", \"func_name\": \"ordina\", \"globals\": {\"ordina\": [\"REF\", 1], \"vestiti\": [\"REF\", 2]}, \"ordered_globals\": [\"ordina\", \"vestiti\"], \"stack_to_render\": [{\"func_name\": \"ordina\", \"is_parent\": false, \"frame_id\": 1, \"parent_frame_id_list\": [], \"encoded_locals\": {\"lista\": [\"REF\", 2], \"__return__\": null}, \"ordered_varnames\": [\"lista\", \"__return__\"], \"is_zombie\": false, \"is_highlighted\": true, \"unique_hash\": \"ordina_f1\"}], \"heap\": {\"2\": [\"LIST\", 30, 40, 50, 60], \"1\": [\"FUNCTION\", \"ordina(lista)\", null]}, \"stdout\": \"\"}, {\"line\": 10, \"event\": \"step_line\", \"func_name\": \"<module>\", \"globals\": {\"ordina\": [\"REF\", 1], \"vestiti\": [\"REF\", 2]}, \"ordered_globals\": [\"ordina\", \"vestiti\"], \"stack_to_render\": [], \"heap\": {\"1\": [\"FUNCTION\", \"ordina(lista)\", null], \"2\": [\"LIST\", 30, 40, 50, 60]}, \"stdout\": \"\"}, {\"line\": 10, \"event\": \"return\", \"func_name\": \"<module>\", \"globals\": {\"ordina\": [\"REF\", 1], \"vestiti\": [\"REF\", 2]}, \"ordered_globals\": [\"ordina\", \"vestiti\"], \"stack_to_render\": [], \"heap\": {\"1\": [\"FUNCTION\", \"ordina(lista)\", null], \"2\": [\"LIST\", 30, 40, 50, 60]}, \"stdout\": \"[30, 40, 50, 60]\\n\"}]}\n",
       "        </script>\n",
       "        <div id=\"jm-da05ec6a7d338eb67cd0eb793f962dd7-11\" class=\"pytutorVisualizer\"> </div>\n",
       "                            \n",
       "        <script>\n",
       "                          \n",
       "        var jmRenderPytut = function(trace_id, div_id, config){\n",
       "            console.log(\"jupman.py embedded javascript: rendering Python tutor visualizer...\")\n",
       "            \n",
       "            let oldAlert = window.alert;\n",
       "            window.alert = function ( text ) { \n",
       "                console.log( 'tried to alert: ', text );         \n",
       "                return true; \n",
       "            };\n",
       "            let executionVisualizer = null;\n",
       "            try {\n",
       "            \n",
       "                var trace = JSON.parse(document.getElementById(trace_id).innerHTML);                                        \n",
       "                // NOTE: id without #\n",
       "                        \n",
       "                executionVisualizer = addVisualizerToPage(trace, div_id, config);\n",
       "                // hack in case visualizer decides to hide them for no good reason\n",
       "                $('#' + div_id + ' #jmpFirstInstr').show();\n",
       "                $('#' + div_id + ' #jmpLastInstr').show();\n",
       "                \n",
       "                // set overflow for pytuts - need to do in python as css \n",
       "                // does not allow parent selection\n",
       "                var pytuts = $('.pytutorVisualizer');\n",
       "                pytuts.closest('div.output_html.rendered_html.output_result')\n",
       "                        .css('overflow-x', 'visible');\n",
       "            \n",
       "                //pytuts.closest('div.output_html.rendered_html.output_result')\n",
       "                //      .css('background-color','red');                \n",
       "            } catch (error) {\n",
       "                console.error(\"jupman slides: Couldn't visualize Python tutor properly\", error);\n",
       "            }\n",
       "            window.alert = oldAlert;\n",
       "            return executionVisualizer;\n",
       "            \n",
       "        };\n",
       "        </script>\n",
       "        \n",
       "        <script>\n",
       "        var pytut_cfg_da05ec6a7d338eb67cd0eb793f962dd7_11 = (function(){\n",
       "            var rootFontSize = window.getComputedStyle(document.body).getPropertyValue('font-size');\n",
       "            var rootFontSizeNum = 12;\n",
       "            if (rootFontSize.endsWith('px')){\n",
       "                rootFontSizeNum = Number(rootFontSize.substring(0, rootFontSize.length-2));\n",
       "            } else {\n",
       "                console.error(\"Unrecognized font unit:\", rootFontSize, \"assuming default\", rootFontSizeNum);\n",
       "            }\n",
       "            console.log('rootFontSize', rootFontSize);\n",
       "            \n",
       "            var codeWidthInChars = Math.max(23, 46);\n",
       "            if (38){\n",
       "                codeWidthInChars = 38;    // override\n",
       "            }\n",
       "            return {'embeddedMode' : false,\n",
       "                  'disableHeapNesting': true,\n",
       "                  'visualizerIdOverride':'viz-jm-da05ec6a7d338eb67cd0eb793f962dd7-11',\n",
       "                  'codeDivWidth': Math.trunc(rootFontSizeNum * codeWidthInChars)\n",
       "                  };\n",
       "        })();                 \n",
       "        \n",
       "        jmRenderPytut('trace-jm-da05ec6a7d338eb67cd0eb793f962dd7-11', 'jm-da05ec6a7d338eb67cd0eb793f962dd7-11', pytut_cfg_da05ec6a7d338eb67cd0eb793f962dd7_11);\n",
       "        </script>\n",
       "                \n",
       "    \n",
       "    <div style=\"text-align:center; font-size:0.9em\"> <a href=\"https://pythontutor.com/visualize.html#mode=edit\" target=\"_blank\">Python Tutor</a> visualization</div> \n",
       "    "
      ],
      "text/plain": [
       "<IPython.core.display.HTML object>"
      ]
     },
     "execution_count": 9,
     "metadata": {},
     "output_type": "execute_result"
    }
   ],
   "source": []
  },
  {
   "cell_type": "markdown",
   "id": "24334ccc",
   "metadata": {
    "slideshow": {
     "slide_type": "subslide"
    }
   },
   "source": [
    "### MODIFICA - funziona?"
   ]
  },
  {
   "cell_type": "markdown",
   "id": "857a144f",
   "metadata": {
    "slideshow": {
     "slide_type": "-"
    }
   },
   "source": [
    "```python\n",
    "def ordina(lista):\n",
    "    \"\"\"Prende in input una lista e la MODIFICA\n",
    "       in modo che sia ordinata in-place\n",
    "    \"\"\"\n",
    "    lista.sort()\n",
    "\n",
    "vestiti = [60,40,50,30]  # taglie\n",
    "mistero = ordina(vestiti)\n",
    "print('mistero:', mistero)\n",
    "mistero.append(\"Chissà...\")\n",
    "print(mistero)\n",
    "```"
   ]
  },
  {
   "cell_type": "markdown",
   "id": "8dde5d50",
   "metadata": {
    "slideshow": {
     "slide_type": "fragment"
    }
   },
   "source": [
    "```python\n",
    "mistero: None\n",
    "---------------------------------------------------------------------------\n",
    "AttributeError                            Traceback (most recent call last)\n",
    "/tmp/ipykernel_11086/4147884502.py in <module>\n",
    "      8 mistero = ordina(vestiti)\n",
    "      9 print('mistero:', mistero)\n",
    "---> 10 mistero.append(\"Chissà...\")\n",
    "     11 print(mistero)\n",
    "\n",
    "AttributeError: 'NoneType' object has no attribute 'append'\n",
    "```"
   ]
  },
  {
   "cell_type": "markdown",
   "id": "8008a232",
   "metadata": {
    "slideshow": {
     "slide_type": "subslide"
    }
   },
   "source": [
    "### MODIFICA - Ricapitoliamo\n",
    "\n",
    "<img src=\"img/fun-modify-2.svg\" width=\"60%\" alttext=\"schema modifica 2\">\n",
    "\n",
    "Cambia dati in regioni di memoria esistenti"
   ]
  },
  {
   "cell_type": "markdown",
   "id": "21e631c7",
   "metadata": {
    "slideshow": {
     "slide_type": "fragment"
    }
   },
   "source": [
    "NON ritorna niente!"
   ]
  },
  {
   "cell_type": "markdown",
   "id": "f4197de6",
   "metadata": {
    "slideshow": {
     "slide_type": "fragment"
    }
   },
   "source": [
    "NON stampa niente!"
   ]
  },
  {
   "cell_type": "markdown",
   "id": "b7f46fa3",
   "metadata": {
    "slideshow": {
     "slide_type": "fragment"
    }
   },
   "source": [
    "NON crea nuove regioni di memoria     \n",
    "\n",
    "- (o limita la creazione al minimo necessario)"
   ]
  },
  {
   "cell_type": "markdown",
   "id": "89574d8c",
   "metadata": {
    "slideshow": {
     "slide_type": "slide"
    }
   },
   "source": [
    "## MODIFICA e RITORNA INPUT 1/2\n",
    "\n",
    "<img src=\"img/fun-modirit-1.svg\"  alttext=\"schema modifica 2\">"
   ]
  },
  {
   "cell_type": "markdown",
   "id": "a46a1ae2",
   "metadata": {
    "slideshow": {
     "slide_type": "subslide"
    }
   },
   "source": [
    "### MODIFICA e RITORNA INPUT 2/2\n",
    "\n",
    "<img src=\"img/fun-modirit-2.svg\"  alttext=\"schema modifica 2\">"
   ]
  },
  {
   "cell_type": "markdown",
   "id": "632183b7",
   "metadata": {
    "slideshow": {
     "slide_type": "subslide"
    }
   },
   "source": [
    "### MODIFICA e RITORNA INPUT - Esempio"
   ]
  },
  {
   "cell_type": "code",
   "execution_count": 10,
   "id": "bef4d45f-stripped",
   "metadata": {
    "scrolled": false,
    "slideshow": {
     "slide_type": "-"
    }
   },
   "outputs": [
    {
     "data": {
      "text/html": [
       "        \n",
       "        <script src=\"_static/js/pytutor-embed.bundle.min.js\" #type=\"application/javascript\"></script>\n",
       "    \n",
       "        <style>\n",
       "        @import \"_static/css/jupman.css\";\n",
       "        </style>\n",
       "     \n",
       "        <script id=\"trace-jm-66285a80fe9b4c8a624e159129381962-12\" type=\"application/json\" >\n",
       "            {\"code\": \" \\ndef miracolo(tavolo):\\n    \\\"\\\"\\\"MODIFICA la lista tavolo raddoppiando \\n       tutti i suoi elementi,\\n       e infine RITORNA la lista di input\\n    \\\"\\\"\\\"\\n    for i in range(len(tavolo)):\\n        tavolo[i] = tavolo[i] * 2\\n    return tavolo\\n\\npani_pesci = [7,5]\\nrisultato = miracolo(pani_pesci)\\nprint(\\\"risultato: \\\",    risultato)    \\nprint(\\\"pani e pesci: \\\", pani_pesci)\", \"trace\": [{\"line\": 2, \"event\": \"step_line\", \"func_name\": \"<module>\", \"globals\": {}, \"ordered_globals\": [], \"stack_to_render\": [], \"heap\": {}, \"stdout\": \"\"}, {\"line\": 11, \"event\": \"step_line\", \"func_name\": \"<module>\", \"globals\": {\"miracolo\": [\"REF\", 1]}, \"ordered_globals\": [\"miracolo\"], \"stack_to_render\": [], \"heap\": {\"1\": [\"FUNCTION\", \"miracolo(tavolo)\", null]}, \"stdout\": \"\"}, {\"line\": 12, \"event\": \"step_line\", \"func_name\": \"<module>\", \"globals\": {\"miracolo\": [\"REF\", 1], \"pani_pesci\": [\"REF\", 2]}, \"ordered_globals\": [\"miracolo\", \"pani_pesci\"], \"stack_to_render\": [], \"heap\": {\"1\": [\"FUNCTION\", \"miracolo(tavolo)\", null], \"2\": [\"LIST\", 7, 5]}, \"stdout\": \"\"}, {\"line\": 2, \"event\": \"call\", \"func_name\": \"miracolo\", \"globals\": {\"miracolo\": [\"REF\", 1], \"pani_pesci\": [\"REF\", 2]}, \"ordered_globals\": [\"miracolo\", \"pani_pesci\"], \"stack_to_render\": [{\"func_name\": \"miracolo\", \"is_parent\": false, \"frame_id\": 1, \"parent_frame_id_list\": [], \"encoded_locals\": {\"tavolo\": [\"REF\", 2]}, \"ordered_varnames\": [\"tavolo\"], \"is_zombie\": false, \"is_highlighted\": true, \"unique_hash\": \"miracolo_f1\"}], \"heap\": {\"2\": [\"LIST\", 7, 5], \"1\": [\"FUNCTION\", \"miracolo(tavolo)\", null]}, \"stdout\": \"\"}, {\"line\": 7, \"event\": \"step_line\", \"func_name\": \"miracolo\", \"globals\": {\"miracolo\": [\"REF\", 1], \"pani_pesci\": [\"REF\", 2]}, \"ordered_globals\": [\"miracolo\", \"pani_pesci\"], \"stack_to_render\": [{\"func_name\": \"miracolo\", \"is_parent\": false, \"frame_id\": 1, \"parent_frame_id_list\": [], \"encoded_locals\": {\"tavolo\": [\"REF\", 2]}, \"ordered_varnames\": [\"tavolo\"], \"is_zombie\": false, \"is_highlighted\": true, \"unique_hash\": \"miracolo_f1\"}], \"heap\": {\"2\": [\"LIST\", 7, 5], \"1\": [\"FUNCTION\", \"miracolo(tavolo)\", null]}, \"stdout\": \"\"}, {\"line\": 8, \"event\": \"step_line\", \"func_name\": \"miracolo\", \"globals\": {\"miracolo\": [\"REF\", 1], \"pani_pesci\": [\"REF\", 2]}, \"ordered_globals\": [\"miracolo\", \"pani_pesci\"], \"stack_to_render\": [{\"func_name\": \"miracolo\", \"is_parent\": false, \"frame_id\": 1, \"parent_frame_id_list\": [], \"encoded_locals\": {\"tavolo\": [\"REF\", 2], \"i\": 0}, \"ordered_varnames\": [\"tavolo\", \"i\"], \"is_zombie\": false, \"is_highlighted\": true, \"unique_hash\": \"miracolo_f1\"}], \"heap\": {\"2\": [\"LIST\", 7, 5], \"1\": [\"FUNCTION\", \"miracolo(tavolo)\", null]}, \"stdout\": \"\"}, {\"line\": 7, \"event\": \"step_line\", \"func_name\": \"miracolo\", \"globals\": {\"miracolo\": [\"REF\", 1], \"pani_pesci\": [\"REF\", 2]}, \"ordered_globals\": [\"miracolo\", \"pani_pesci\"], \"stack_to_render\": [{\"func_name\": \"miracolo\", \"is_parent\": false, \"frame_id\": 1, \"parent_frame_id_list\": [], \"encoded_locals\": {\"tavolo\": [\"REF\", 2], \"i\": 0}, \"ordered_varnames\": [\"tavolo\", \"i\"], \"is_zombie\": false, \"is_highlighted\": true, \"unique_hash\": \"miracolo_f1\"}], \"heap\": {\"2\": [\"LIST\", 14, 5], \"1\": [\"FUNCTION\", \"miracolo(tavolo)\", null]}, \"stdout\": \"\"}, {\"line\": 8, \"event\": \"step_line\", \"func_name\": \"miracolo\", \"globals\": {\"miracolo\": [\"REF\", 1], \"pani_pesci\": [\"REF\", 2]}, \"ordered_globals\": [\"miracolo\", \"pani_pesci\"], \"stack_to_render\": [{\"func_name\": \"miracolo\", \"is_parent\": false, \"frame_id\": 1, \"parent_frame_id_list\": [], \"encoded_locals\": {\"tavolo\": [\"REF\", 2], \"i\": 1}, \"ordered_varnames\": [\"tavolo\", \"i\"], \"is_zombie\": false, \"is_highlighted\": true, \"unique_hash\": \"miracolo_f1\"}], \"heap\": {\"2\": [\"LIST\", 14, 5], \"1\": [\"FUNCTION\", \"miracolo(tavolo)\", null]}, \"stdout\": \"\"}, {\"line\": 7, \"event\": \"step_line\", \"func_name\": \"miracolo\", \"globals\": {\"miracolo\": [\"REF\", 1], \"pani_pesci\": [\"REF\", 2]}, \"ordered_globals\": [\"miracolo\", \"pani_pesci\"], \"stack_to_render\": [{\"func_name\": \"miracolo\", \"is_parent\": false, \"frame_id\": 1, \"parent_frame_id_list\": [], \"encoded_locals\": {\"tavolo\": [\"REF\", 2], \"i\": 1}, \"ordered_varnames\": [\"tavolo\", \"i\"], \"is_zombie\": false, \"is_highlighted\": true, \"unique_hash\": \"miracolo_f1\"}], \"heap\": {\"2\": [\"LIST\", 14, 10], \"1\": [\"FUNCTION\", \"miracolo(tavolo)\", null]}, \"stdout\": \"\"}, {\"line\": 9, \"event\": \"step_line\", \"func_name\": \"miracolo\", \"globals\": {\"miracolo\": [\"REF\", 1], \"pani_pesci\": [\"REF\", 2]}, \"ordered_globals\": [\"miracolo\", \"pani_pesci\"], \"stack_to_render\": [{\"func_name\": \"miracolo\", \"is_parent\": false, \"frame_id\": 1, \"parent_frame_id_list\": [], \"encoded_locals\": {\"tavolo\": [\"REF\", 2], \"i\": 1}, \"ordered_varnames\": [\"tavolo\", \"i\"], \"is_zombie\": false, \"is_highlighted\": true, \"unique_hash\": \"miracolo_f1\"}], \"heap\": {\"2\": [\"LIST\", 14, 10], \"1\": [\"FUNCTION\", \"miracolo(tavolo)\", null]}, \"stdout\": \"\"}, {\"line\": 9, \"event\": \"return\", \"func_name\": \"miracolo\", \"globals\": {\"miracolo\": [\"REF\", 1], \"pani_pesci\": [\"REF\", 2]}, \"ordered_globals\": [\"miracolo\", \"pani_pesci\"], \"stack_to_render\": [{\"func_name\": \"miracolo\", \"is_parent\": false, \"frame_id\": 1, \"parent_frame_id_list\": [], \"encoded_locals\": {\"tavolo\": [\"REF\", 2], \"i\": 1, \"__return__\": [\"REF\", 2]}, \"ordered_varnames\": [\"tavolo\", \"i\", \"__return__\"], \"is_zombie\": false, \"is_highlighted\": true, \"unique_hash\": \"miracolo_f1\"}], \"heap\": {\"2\": [\"LIST\", 14, 10], \"1\": [\"FUNCTION\", \"miracolo(tavolo)\", null]}, \"stdout\": \"\"}, {\"line\": 13, \"event\": \"step_line\", \"func_name\": \"<module>\", \"globals\": {\"miracolo\": [\"REF\", 1], \"pani_pesci\": [\"REF\", 2], \"risultato\": [\"REF\", 2]}, \"ordered_globals\": [\"miracolo\", \"pani_pesci\", \"risultato\"], \"stack_to_render\": [], \"heap\": {\"1\": [\"FUNCTION\", \"miracolo(tavolo)\", null], \"2\": [\"LIST\", 14, 10]}, \"stdout\": \"\"}, {\"line\": 14, \"event\": \"step_line\", \"func_name\": \"<module>\", \"globals\": {\"miracolo\": [\"REF\", 1], \"pani_pesci\": [\"REF\", 2], \"risultato\": [\"REF\", 2]}, \"ordered_globals\": [\"miracolo\", \"pani_pesci\", \"risultato\"], \"stack_to_render\": [], \"heap\": {\"1\": [\"FUNCTION\", \"miracolo(tavolo)\", null], \"2\": [\"LIST\", 14, 10]}, \"stdout\": \"risultato:  [14, 10]\\n\"}, {\"line\": 14, \"event\": \"return\", \"func_name\": \"<module>\", \"globals\": {\"miracolo\": [\"REF\", 1], \"pani_pesci\": [\"REF\", 2], \"risultato\": [\"REF\", 2]}, \"ordered_globals\": [\"miracolo\", \"pani_pesci\", \"risultato\"], \"stack_to_render\": [], \"heap\": {\"1\": [\"FUNCTION\", \"miracolo(tavolo)\", null], \"2\": [\"LIST\", 14, 10]}, \"stdout\": \"risultato:  [14, 10]\\npani e pesci:  [14, 10]\\n\"}]}\n",
       "        </script>\n",
       "        <div id=\"jm-66285a80fe9b4c8a624e159129381962-12\" class=\"pytutorVisualizer\"> </div>\n",
       "                            \n",
       "        <script>\n",
       "                          \n",
       "        var jmRenderPytut = function(trace_id, div_id, config){\n",
       "            console.log(\"jupman.py embedded javascript: rendering Python tutor visualizer...\")\n",
       "            \n",
       "            let oldAlert = window.alert;\n",
       "            window.alert = function ( text ) { \n",
       "                console.log( 'tried to alert: ', text );         \n",
       "                return true; \n",
       "            };\n",
       "            let executionVisualizer = null;\n",
       "            try {\n",
       "            \n",
       "                var trace = JSON.parse(document.getElementById(trace_id).innerHTML);                                        \n",
       "                // NOTE: id without #\n",
       "                        \n",
       "                executionVisualizer = addVisualizerToPage(trace, div_id, config);\n",
       "                // hack in case visualizer decides to hide them for no good reason\n",
       "                $('#' + div_id + ' #jmpFirstInstr').show();\n",
       "                $('#' + div_id + ' #jmpLastInstr').show();\n",
       "                \n",
       "                // set overflow for pytuts - need to do in python as css \n",
       "                // does not allow parent selection\n",
       "                var pytuts = $('.pytutorVisualizer');\n",
       "                pytuts.closest('div.output_html.rendered_html.output_result')\n",
       "                        .css('overflow-x', 'visible');\n",
       "            \n",
       "                //pytuts.closest('div.output_html.rendered_html.output_result')\n",
       "                //      .css('background-color','red');                \n",
       "            } catch (error) {\n",
       "                console.error(\"jupman slides: Couldn't visualize Python tutor properly\", error);\n",
       "            }\n",
       "            window.alert = oldAlert;\n",
       "            return executionVisualizer;\n",
       "            \n",
       "        };\n",
       "        </script>\n",
       "        \n",
       "        <script>\n",
       "        var pytut_cfg_66285a80fe9b4c8a624e159129381962_12 = (function(){\n",
       "            var rootFontSize = window.getComputedStyle(document.body).getPropertyValue('font-size');\n",
       "            var rootFontSizeNum = 12;\n",
       "            if (rootFontSize.endsWith('px')){\n",
       "                rootFontSizeNum = Number(rootFontSize.substring(0, rootFontSize.length-2));\n",
       "            } else {\n",
       "                console.error(\"Unrecognized font unit:\", rootFontSize, \"assuming default\", rootFontSizeNum);\n",
       "            }\n",
       "            console.log('rootFontSize', rootFontSize);\n",
       "            \n",
       "            var codeWidthInChars = Math.max(23, 45);\n",
       "            if (0){\n",
       "                codeWidthInChars = 0;    // override\n",
       "            }\n",
       "            return {'embeddedMode' : false,\n",
       "                  'disableHeapNesting': true,\n",
       "                  'visualizerIdOverride':'viz-jm-66285a80fe9b4c8a624e159129381962-12',\n",
       "                  'codeDivWidth': Math.trunc(rootFontSizeNum * codeWidthInChars)\n",
       "                  };\n",
       "        })();                 \n",
       "        \n",
       "        jmRenderPytut('trace-jm-66285a80fe9b4c8a624e159129381962-12', 'jm-66285a80fe9b4c8a624e159129381962-12', pytut_cfg_66285a80fe9b4c8a624e159129381962_12);\n",
       "        </script>\n",
       "                \n",
       "    \n",
       "    <div style=\"text-align:center; font-size:0.9em\"> <a href=\"https://pythontutor.com/visualize.html#mode=edit\" target=\"_blank\">Python Tutor</a> visualization</div> \n",
       "    "
      ],
      "text/plain": [
       "<IPython.core.display.HTML object>"
      ]
     },
     "execution_count": 10,
     "metadata": {},
     "output_type": "execute_result"
    }
   ],
   "source": []
  },
  {
   "cell_type": "markdown",
   "id": "0f13bc67",
   "metadata": {
    "slideshow": {
     "slide_type": "subslide"
    }
   },
   "source": [
    "### MODIFICA e RITORNA INPUT - Funziona? 1/2"
   ]
  },
  {
   "cell_type": "code",
   "execution_count": 11,
   "id": "a31e458f-stripped",
   "metadata": {
    "slideshow": {
     "slide_type": "-"
    }
   },
   "outputs": [],
   "source": [
    "\n",
    "\n",
    "def miracolo(tavolo):\n",
    "    \"\"\"MODIFICA la lista tavolo raddoppiando \n",
    "       tutti i suoi elementi,\n",
    "       e infine RITORNA la lista di input\n",
    "    \"\"\"\n",
    "    for i in range(len(tavolo)):\n",
    "        tavolo[i] = tavolo[i] * 2\n",
    "    return tavolo\n",
    "\n",
    "\n",
    "pani_pesci = [7,5]\n",
    "miracolo(pani_pesci).reverse()              \n",
    "print(\"pani e pesci: \", pani_pesci)    "
   ]
  },
  {
   "cell_type": "markdown",
   "id": "d6e8d9a5",
   "metadata": {
    "slideshow": {
     "slide_type": "fragment"
    }
   },
   "source": [
    "```python\n",
    "pani e pesci:  [10, 14]\n",
    "```"
   ]
  },
  {
   "cell_type": "markdown",
   "id": "fb654827",
   "metadata": {
    "slideshow": {
     "slide_type": "subslide"
    }
   },
   "source": [
    "### MODIFICA e RITORNA INPUT - Funziona? 2/2"
   ]
  },
  {
   "cell_type": "markdown",
   "id": "14b23ac8",
   "metadata": {
    "slideshow": {
     "slide_type": "-"
    }
   },
   "source": [
    "```python\n",
    "def miracolo(tavolo):\n",
    "    \"\"\"MODIFICA la lista tavolo raddoppiando \n",
    "       tutti i suoi elementi,\n",
    "       e infine RITORNA la lista di input\n",
    "    \"\"\"\n",
    "    for i in range(len(tavolo)):\n",
    "        tavolo[i] = tavolo[i] * 2\n",
    "    return tavolo\n",
    "\n",
    "\n",
    "pani_pesci = [7,5]\n",
    "miracolo(pani_pesci).reverse().append(16) \n",
    "```"
   ]
  },
  {
   "cell_type": "markdown",
   "id": "3a6901aa",
   "metadata": {
    "slideshow": {
     "slide_type": "fragment"
    }
   },
   "source": [
    "```python\n",
    "---------------------------------------------------------------------------\n",
    "AttributeError                            Traceback (most recent call last)\n",
    "/tmp/ipykernel_5605/3100610722.py in <module>\n",
    "----> 1 miracolo(pani_pesci).reverse().append(16)\n",
    "\n",
    "AttributeError: 'NoneType' object has no attribute 'append'\n",
    "```    "
   ]
  },
  {
   "cell_type": "markdown",
   "id": "3fe95dfb",
   "metadata": {
    "slideshow": {
     "slide_type": "subslide"
    }
   },
   "source": [
    "### MODIFICA e RITORNA INPUT: Ricapitoliamo\n",
    "\n",
    "<img src=\"img/fun-modirit-2.svg\" width=\"60%\" alttext=\"schema modifica 2\">"
   ]
  },
  {
   "cell_type": "markdown",
   "id": "f8359954",
   "metadata": {
    "slideshow": {
     "slide_type": "-"
    }
   },
   "source": [
    "NON STAMPA niente!"
   ]
  },
  {
   "cell_type": "markdown",
   "id": "25456115",
   "metadata": {
    "slideshow": {
     "slide_type": "fragment"
    }
   },
   "source": [
    "NON crea nuove regioni di memoria (o limita la creazione al minimo necessario)"
   ]
  },
  {
   "cell_type": "markdown",
   "id": "839a1713",
   "metadata": {
    "slideshow": {
     "slide_type": "fragment"
    }
   },
   "source": [
    "Nota: permette così il concatenamento di chiamate (detto chaining)"
   ]
  },
  {
   "cell_type": "markdown",
   "id": "eb4087ee",
   "metadata": {
    "slideshow": {
     "slide_type": "slide"
    }
   },
   "source": [
    "## MODIFICA E RITORNA PARTE INPUT"
   ]
  },
  {
   "cell_type": "code",
   "execution_count": 12,
   "id": "dd09aebe-stripped",
   "metadata": {
    "slideshow": {
     "slide_type": "-"
    }
   },
   "outputs": [
    {
     "data": {
      "text/html": [
       "        \n",
       "        <script src=\"_static/js/pytutor-embed.bundle.min.js\" #type=\"application/javascript\"></script>\n",
       "    \n",
       "        <style>\n",
       "        @import \"_static/css/jupman.css\";\n",
       "        </style>\n",
       "     \n",
       "        <script id=\"trace-jm-76bb90bfbe8caaa3825511fdb7d983cb-14\" type=\"application/json\" >\n",
       "            {\"code\": \" \\ndef modirip(lista):\\n    \\\"\\\"\\\"MODIFICA lista affinch\\u00e8 diventi ordinata \\n       e l'elemento pi\\u00f9 grande sia rimosso,\\n       infine RITORNA l'elemento rimosso\\n    \\\"\\\"\\\"\\n    lista.sort()\\n    ret = lista[-1]\\n    lista.pop()\\n    return ret\\nla = ['b','c','a']\\nrisultato = modirip(la)\\nprint(\\\"risultato:\\\", risultato)  # pezzo di input \\nprint(\\\"       la:\\\", la)         # la MODIFICATA\", \"trace\": [{\"line\": 2, \"event\": \"step_line\", \"func_name\": \"<module>\", \"globals\": {}, \"ordered_globals\": [], \"stack_to_render\": [], \"heap\": {}, \"stdout\": \"\"}, {\"line\": 11, \"event\": \"step_line\", \"func_name\": \"<module>\", \"globals\": {\"modirip\": [\"REF\", 1]}, \"ordered_globals\": [\"modirip\"], \"stack_to_render\": [], \"heap\": {\"1\": [\"FUNCTION\", \"modirip(lista)\", null]}, \"stdout\": \"\"}, {\"line\": 12, \"event\": \"step_line\", \"func_name\": \"<module>\", \"globals\": {\"modirip\": [\"REF\", 1], \"la\": [\"REF\", 2]}, \"ordered_globals\": [\"modirip\", \"la\"], \"stack_to_render\": [], \"heap\": {\"1\": [\"FUNCTION\", \"modirip(lista)\", null], \"2\": [\"LIST\", \"b\", \"c\", \"a\"]}, \"stdout\": \"\"}, {\"line\": 2, \"event\": \"call\", \"func_name\": \"modirip\", \"globals\": {\"modirip\": [\"REF\", 1], \"la\": [\"REF\", 2]}, \"ordered_globals\": [\"modirip\", \"la\"], \"stack_to_render\": [{\"func_name\": \"modirip\", \"is_parent\": false, \"frame_id\": 1, \"parent_frame_id_list\": [], \"encoded_locals\": {\"lista\": [\"REF\", 2]}, \"ordered_varnames\": [\"lista\"], \"is_zombie\": false, \"is_highlighted\": true, \"unique_hash\": \"modirip_f1\"}], \"heap\": {\"2\": [\"LIST\", \"b\", \"c\", \"a\"], \"1\": [\"FUNCTION\", \"modirip(lista)\", null]}, \"stdout\": \"\"}, {\"line\": 7, \"event\": \"step_line\", \"func_name\": \"modirip\", \"globals\": {\"modirip\": [\"REF\", 1], \"la\": [\"REF\", 2]}, \"ordered_globals\": [\"modirip\", \"la\"], \"stack_to_render\": [{\"func_name\": \"modirip\", \"is_parent\": false, \"frame_id\": 1, \"parent_frame_id_list\": [], \"encoded_locals\": {\"lista\": [\"REF\", 2]}, \"ordered_varnames\": [\"lista\"], \"is_zombie\": false, \"is_highlighted\": true, \"unique_hash\": \"modirip_f1\"}], \"heap\": {\"2\": [\"LIST\", \"b\", \"c\", \"a\"], \"1\": [\"FUNCTION\", \"modirip(lista)\", null]}, \"stdout\": \"\"}, {\"line\": 8, \"event\": \"step_line\", \"func_name\": \"modirip\", \"globals\": {\"modirip\": [\"REF\", 1], \"la\": [\"REF\", 2]}, \"ordered_globals\": [\"modirip\", \"la\"], \"stack_to_render\": [{\"func_name\": \"modirip\", \"is_parent\": false, \"frame_id\": 1, \"parent_frame_id_list\": [], \"encoded_locals\": {\"lista\": [\"REF\", 2]}, \"ordered_varnames\": [\"lista\"], \"is_zombie\": false, \"is_highlighted\": true, \"unique_hash\": \"modirip_f1\"}], \"heap\": {\"2\": [\"LIST\", \"a\", \"b\", \"c\"], \"1\": [\"FUNCTION\", \"modirip(lista)\", null]}, \"stdout\": \"\"}, {\"line\": 9, \"event\": \"step_line\", \"func_name\": \"modirip\", \"globals\": {\"modirip\": [\"REF\", 1], \"la\": [\"REF\", 2]}, \"ordered_globals\": [\"modirip\", \"la\"], \"stack_to_render\": [{\"func_name\": \"modirip\", \"is_parent\": false, \"frame_id\": 1, \"parent_frame_id_list\": [], \"encoded_locals\": {\"lista\": [\"REF\", 2], \"ret\": \"c\"}, \"ordered_varnames\": [\"lista\", \"ret\"], \"is_zombie\": false, \"is_highlighted\": true, \"unique_hash\": \"modirip_f1\"}], \"heap\": {\"2\": [\"LIST\", \"a\", \"b\", \"c\"], \"1\": [\"FUNCTION\", \"modirip(lista)\", null]}, \"stdout\": \"\"}, {\"line\": 10, \"event\": \"step_line\", \"func_name\": \"modirip\", \"globals\": {\"modirip\": [\"REF\", 1], \"la\": [\"REF\", 2]}, \"ordered_globals\": [\"modirip\", \"la\"], \"stack_to_render\": [{\"func_name\": \"modirip\", \"is_parent\": false, \"frame_id\": 1, \"parent_frame_id_list\": [], \"encoded_locals\": {\"lista\": [\"REF\", 2], \"ret\": \"c\"}, \"ordered_varnames\": [\"lista\", \"ret\"], \"is_zombie\": false, \"is_highlighted\": true, \"unique_hash\": \"modirip_f1\"}], \"heap\": {\"2\": [\"LIST\", \"a\", \"b\"], \"1\": [\"FUNCTION\", \"modirip(lista)\", null]}, \"stdout\": \"\"}, {\"line\": 10, \"event\": \"return\", \"func_name\": \"modirip\", \"globals\": {\"modirip\": [\"REF\", 1], \"la\": [\"REF\", 2]}, \"ordered_globals\": [\"modirip\", \"la\"], \"stack_to_render\": [{\"func_name\": \"modirip\", \"is_parent\": false, \"frame_id\": 1, \"parent_frame_id_list\": [], \"encoded_locals\": {\"lista\": [\"REF\", 2], \"ret\": \"c\", \"__return__\": \"c\"}, \"ordered_varnames\": [\"lista\", \"ret\", \"__return__\"], \"is_zombie\": false, \"is_highlighted\": true, \"unique_hash\": \"modirip_f1\"}], \"heap\": {\"2\": [\"LIST\", \"a\", \"b\"], \"1\": [\"FUNCTION\", \"modirip(lista)\", null]}, \"stdout\": \"\"}, {\"line\": 13, \"event\": \"step_line\", \"func_name\": \"<module>\", \"globals\": {\"modirip\": [\"REF\", 1], \"la\": [\"REF\", 2], \"risultato\": \"c\"}, \"ordered_globals\": [\"modirip\", \"la\", \"risultato\"], \"stack_to_render\": [], \"heap\": {\"1\": [\"FUNCTION\", \"modirip(lista)\", null], \"2\": [\"LIST\", \"a\", \"b\"]}, \"stdout\": \"\"}, {\"line\": 14, \"event\": \"step_line\", \"func_name\": \"<module>\", \"globals\": {\"modirip\": [\"REF\", 1], \"la\": [\"REF\", 2], \"risultato\": \"c\"}, \"ordered_globals\": [\"modirip\", \"la\", \"risultato\"], \"stack_to_render\": [], \"heap\": {\"1\": [\"FUNCTION\", \"modirip(lista)\", null], \"2\": [\"LIST\", \"a\", \"b\"]}, \"stdout\": \"risultato: c\\n\"}, {\"line\": 14, \"event\": \"return\", \"func_name\": \"<module>\", \"globals\": {\"modirip\": [\"REF\", 1], \"la\": [\"REF\", 2], \"risultato\": \"c\"}, \"ordered_globals\": [\"modirip\", \"la\", \"risultato\"], \"stack_to_render\": [], \"heap\": {\"1\": [\"FUNCTION\", \"modirip(lista)\", null], \"2\": [\"LIST\", \"a\", \"b\"]}, \"stdout\": \"risultato: c\\n       la: ['a', 'b']\\n\"}]}\n",
       "        </script>\n",
       "        <div id=\"jm-76bb90bfbe8caaa3825511fdb7d983cb-14\" class=\"pytutorVisualizer\"> </div>\n",
       "                            \n",
       "        <script>\n",
       "                          \n",
       "        var jmRenderPytut = function(trace_id, div_id, config){\n",
       "            console.log(\"jupman.py embedded javascript: rendering Python tutor visualizer...\")\n",
       "            \n",
       "            let oldAlert = window.alert;\n",
       "            window.alert = function ( text ) { \n",
       "                console.log( 'tried to alert: ', text );         \n",
       "                return true; \n",
       "            };\n",
       "            let executionVisualizer = null;\n",
       "            try {\n",
       "            \n",
       "                var trace = JSON.parse(document.getElementById(trace_id).innerHTML);                                        \n",
       "                // NOTE: id without #\n",
       "                        \n",
       "                executionVisualizer = addVisualizerToPage(trace, div_id, config);\n",
       "                // hack in case visualizer decides to hide them for no good reason\n",
       "                $('#' + div_id + ' #jmpFirstInstr').show();\n",
       "                $('#' + div_id + ' #jmpLastInstr').show();\n",
       "                \n",
       "                // set overflow for pytuts - need to do in python as css \n",
       "                // does not allow parent selection\n",
       "                var pytuts = $('.pytutorVisualizer');\n",
       "                pytuts.closest('div.output_html.rendered_html.output_result')\n",
       "                        .css('overflow-x', 'visible');\n",
       "            \n",
       "                //pytuts.closest('div.output_html.rendered_html.output_result')\n",
       "                //      .css('background-color','red');                \n",
       "            } catch (error) {\n",
       "                console.error(\"jupman slides: Couldn't visualize Python tutor properly\", error);\n",
       "            }\n",
       "            window.alert = oldAlert;\n",
       "            return executionVisualizer;\n",
       "            \n",
       "        };\n",
       "        </script>\n",
       "        \n",
       "        <script>\n",
       "        var pytut_cfg_76bb90bfbe8caaa3825511fdb7d983cb_14 = (function(){\n",
       "            var rootFontSize = window.getComputedStyle(document.body).getPropertyValue('font-size');\n",
       "            var rootFontSizeNum = 12;\n",
       "            if (rootFontSize.endsWith('px')){\n",
       "                rootFontSizeNum = Number(rootFontSize.substring(0, rootFontSize.length-2));\n",
       "            } else {\n",
       "                console.error(\"Unrecognized font unit:\", rootFontSize, \"assuming default\", rootFontSizeNum);\n",
       "            }\n",
       "            console.log('rootFontSize', rootFontSize);\n",
       "            \n",
       "            var codeWidthInChars = Math.max(23, 49);\n",
       "            if (38){\n",
       "                codeWidthInChars = 38;    // override\n",
       "            }\n",
       "            return {'embeddedMode' : false,\n",
       "                  'disableHeapNesting': true,\n",
       "                  'visualizerIdOverride':'viz-jm-76bb90bfbe8caaa3825511fdb7d983cb-14',\n",
       "                  'codeDivWidth': Math.trunc(rootFontSizeNum * codeWidthInChars)\n",
       "                  };\n",
       "        })();                 \n",
       "        \n",
       "        jmRenderPytut('trace-jm-76bb90bfbe8caaa3825511fdb7d983cb-14', 'jm-76bb90bfbe8caaa3825511fdb7d983cb-14', pytut_cfg_76bb90bfbe8caaa3825511fdb7d983cb_14);\n",
       "        </script>\n",
       "                \n",
       "    \n",
       "    <div style=\"text-align:center; font-size:0.9em\"> <a href=\"https://pythontutor.com/visualize.html#mode=edit\" target=\"_blank\">Python Tutor</a> visualization</div> \n",
       "    "
      ],
      "text/plain": [
       "<IPython.core.display.HTML object>"
      ]
     },
     "execution_count": 12,
     "metadata": {},
     "output_type": "execute_result"
    }
   ],
   "source": []
  },
  {
   "cell_type": "markdown",
   "id": "a1db6b7c",
   "metadata": {
    "slideshow": {
     "slide_type": "slide"
    }
   },
   "source": [
    "### MODIFICA E RITORNA UNA PARTE: Ricapitoliamo\n",
    "\n",
    "MODIFICA l’input e RITORNA una parte di esso"
   ]
  },
  {
   "cell_type": "markdown",
   "id": "030a012a",
   "metadata": {
    "slideshow": {
     "slide_type": "fragment"
    }
   },
   "source": [
    "NON STAMPA niente!"
   ]
  },
  {
   "cell_type": "markdown",
   "id": "1eee4395",
   "metadata": {
    "slideshow": {
     "slide_type": "slide"
    }
   },
   "source": [
    "## Argomenti keyword\n",
    "\n",
    "Si possono aggiungere argomenti di default _alla fine_:"
   ]
  },
  {
   "cell_type": "code",
   "execution_count": 13,
   "id": "496ffb53",
   "metadata": {
    "slideshow": {
     "slide_type": "-"
    }
   },
   "outputs": [],
   "source": [
    "def ripeti(stringa, volte=3):    \n",
    "    return stringa * volte"
   ]
  },
  {
   "cell_type": "markdown",
   "id": "0881d260",
   "metadata": {
    "slideshow": {
     "slide_type": "fragment"
    }
   },
   "source": [
    "Quando si chiama la funzione si può:"
   ]
  },
  {
   "cell_type": "code",
   "execution_count": 14,
   "id": "818bedee",
   "metadata": {
    "slideshow": {
     "slide_type": "-"
    }
   },
   "outputs": [
    {
     "data": {
      "text/plain": [
       "'RotolaRotolaRotola'"
      ]
     },
     "execution_count": 14,
     "metadata": {},
     "output_type": "execute_result"
    }
   ],
   "source": [
    "ripeti('Rotola')             # omettere l'argomento di default"
   ]
  },
  {
   "cell_type": "code",
   "execution_count": 15,
   "id": "34f12034",
   "metadata": {
    "slideshow": {
     "slide_type": "fragment"
    }
   },
   "outputs": [
    {
     "data": {
      "text/plain": [
       "'RotolaRotolaRotolaRotolaRotolaRotolaRotola'"
      ]
     },
     "execution_count": 15,
     "metadata": {},
     "output_type": "execute_result"
    }
   ],
   "source": [
    "ripeti(\"Rotola\", volte=7)    # specificarlo per nome"
   ]
  },
  {
   "cell_type": "code",
   "execution_count": 16,
   "id": "88811f61",
   "metadata": {
    "slideshow": {
     "slide_type": "fragment"
    }
   },
   "outputs": [
    {
     "data": {
      "text/plain": [
       "'RotolaRotola'"
      ]
     },
     "execution_count": 16,
     "metadata": {},
     "output_type": "execute_result"
    }
   ],
   "source": [
    "ripeti(\"Rotola\",  2)         # scriverlo direttamente"
   ]
  },
  {
   "cell_type": "markdown",
   "id": "d4af1641",
   "metadata": {
    "slideshow": {
     "slide_type": "subslide"
    }
   },
   "source": [
    "### Argomenti keyword mutabili 1/2\n",
    "\n",
    "<div class=\"alert alert-warning\">\n",
    "    \n",
    "**ATTENZIONE: NON mettere argomenti di defaut mutabili**\n",
    "    \n",
    "Lo stesso oggetto verrà condiviso da tutte le invocazioni della funzione!\n",
    "    \n",
    "</div>    "
   ]
  },
  {
   "cell_type": "code",
   "execution_count": 17,
   "id": "f323eda4",
   "metadata": {
    "slideshow": {
     "slide_type": "fragment"
    }
   },
   "outputs": [],
   "source": [
    "def tragedia(lista=[]):\n",
    "    lista.append('occhio!')\n",
    "    print(lista)"
   ]
  },
  {
   "cell_type": "code",
   "execution_count": 18,
   "id": "68f17016",
   "metadata": {
    "slideshow": {
     "slide_type": "fragment"
    }
   },
   "outputs": [
    {
     "name": "stdout",
     "output_type": "stream",
     "text": [
      "['occhio!']\n"
     ]
    }
   ],
   "source": [
    "tragedia()  # prima invocazione: sembra a posto.."
   ]
  },
  {
   "cell_type": "code",
   "execution_count": 19,
   "id": "ab910def",
   "metadata": {
    "slideshow": {
     "slide_type": "fragment"
    }
   },
   "outputs": [
    {
     "name": "stdout",
     "output_type": "stream",
     "text": [
      "['occhio!', 'occhio!']\n"
     ]
    }
   ],
   "source": [
    "tragedia()  # seconda invocazione: guai!"
   ]
  },
  {
   "cell_type": "markdown",
   "id": "ff0aca48",
   "metadata": {
    "slideshow": {
     "slide_type": "subslide"
    }
   },
   "source": [
    "### Argomenti keyword mutabili 2/2"
   ]
  },
  {
   "cell_type": "code",
   "execution_count": 20,
   "id": "ffd58c0b",
   "metadata": {},
   "outputs": [
    {
     "name": "stdout",
     "output_type": "stream",
     "text": [
      "['ok']\n"
     ]
    }
   ],
   "source": [
    "def meglio(lista=None):\n",
    "    if lista == None:\n",
    "        lista = []\n",
    "    lista.append('ok')\n",
    "    print(lista)\n",
    "        \n",
    "meglio()  # prima invocazione"
   ]
  },
  {
   "cell_type": "code",
   "execution_count": 21,
   "id": "180e839f",
   "metadata": {
    "slideshow": {
     "slide_type": "fragment"
    }
   },
   "outputs": [
    {
     "name": "stdout",
     "output_type": "stream",
     "text": [
      "['ok']\n"
     ]
    }
   ],
   "source": [
    "meglio()  # seconda invocazione"
   ]
  },
  {
   "cell_type": "markdown",
   "id": "070c4b9f",
   "metadata": {
    "slideshow": {
     "slide_type": "slide"
    }
   },
   "source": [
    "## Variabili esterne\n",
    "\n",
    "Da dentro una funzione, possiamo _leggere_ variabili esterne:"
   ]
  },
  {
   "cell_type": "code",
   "execution_count": 22,
   "id": "594ec16e-stripped",
   "metadata": {
    "slideshow": {
     "slide_type": "-"
    }
   },
   "outputs": [
    {
     "data": {
      "text/html": [
       "        \n",
       "        <script src=\"_static/js/pytutor-embed.bundle.min.js\" #type=\"application/javascript\"></script>\n",
       "    \n",
       "        <style>\n",
       "        @import \"_static/css/jupman.css\";\n",
       "        </style>\n",
       "     \n",
       "        <script id=\"trace-jm-de12607ce685b08557086f1fd39bdb14-24\" type=\"application/json\" >\n",
       "            {\"code\": \" \\nmuro = \\\"bianco\\\"\\n\\ndef guarda():    \\n    print('Vedo un muro', muro)   \\n    \\nguarda()\", \"trace\": [{\"line\": 2, \"event\": \"step_line\", \"func_name\": \"<module>\", \"globals\": {}, \"ordered_globals\": [], \"stack_to_render\": [], \"heap\": {}, \"stdout\": \"\"}, {\"line\": 4, \"event\": \"step_line\", \"func_name\": \"<module>\", \"globals\": {\"muro\": \"bianco\"}, \"ordered_globals\": [\"muro\"], \"stack_to_render\": [], \"heap\": {}, \"stdout\": \"\"}, {\"line\": 7, \"event\": \"step_line\", \"func_name\": \"<module>\", \"globals\": {\"muro\": \"bianco\", \"guarda\": [\"REF\", 1]}, \"ordered_globals\": [\"muro\", \"guarda\"], \"stack_to_render\": [], \"heap\": {\"1\": [\"FUNCTION\", \"guarda()\", null]}, \"stdout\": \"\"}, {\"line\": 4, \"event\": \"call\", \"func_name\": \"guarda\", \"globals\": {\"muro\": \"bianco\", \"guarda\": [\"REF\", 1]}, \"ordered_globals\": [\"muro\", \"guarda\"], \"stack_to_render\": [{\"func_name\": \"guarda\", \"is_parent\": false, \"frame_id\": 1, \"parent_frame_id_list\": [], \"encoded_locals\": {}, \"ordered_varnames\": [], \"is_zombie\": false, \"is_highlighted\": true, \"unique_hash\": \"guarda_f1\"}], \"heap\": {\"1\": [\"FUNCTION\", \"guarda()\", null]}, \"stdout\": \"\"}, {\"line\": 5, \"event\": \"step_line\", \"func_name\": \"guarda\", \"globals\": {\"muro\": \"bianco\", \"guarda\": [\"REF\", 1]}, \"ordered_globals\": [\"muro\", \"guarda\"], \"stack_to_render\": [{\"func_name\": \"guarda\", \"is_parent\": false, \"frame_id\": 1, \"parent_frame_id_list\": [], \"encoded_locals\": {}, \"ordered_varnames\": [], \"is_zombie\": false, \"is_highlighted\": true, \"unique_hash\": \"guarda_f1\"}], \"heap\": {\"1\": [\"FUNCTION\", \"guarda()\", null]}, \"stdout\": \"\"}, {\"line\": 5, \"event\": \"return\", \"func_name\": \"guarda\", \"globals\": {\"muro\": \"bianco\", \"guarda\": [\"REF\", 1]}, \"ordered_globals\": [\"muro\", \"guarda\"], \"stack_to_render\": [{\"func_name\": \"guarda\", \"is_parent\": false, \"frame_id\": 1, \"parent_frame_id_list\": [], \"encoded_locals\": {\"__return__\": null}, \"ordered_varnames\": [\"__return__\"], \"is_zombie\": false, \"is_highlighted\": true, \"unique_hash\": \"guarda_f1\"}], \"heap\": {\"1\": [\"FUNCTION\", \"guarda()\", null]}, \"stdout\": \"Vedo un muro bianco\\n\"}, {\"line\": 7, \"event\": \"return\", \"func_name\": \"<module>\", \"globals\": {\"muro\": \"bianco\", \"guarda\": [\"REF\", 1]}, \"ordered_globals\": [\"muro\", \"guarda\"], \"stack_to_render\": [], \"heap\": {\"1\": [\"FUNCTION\", \"guarda()\", null]}, \"stdout\": \"Vedo un muro bianco\\n\"}]}\n",
       "        </script>\n",
       "        <div id=\"jm-de12607ce685b08557086f1fd39bdb14-24\" class=\"pytutorVisualizer\"> </div>\n",
       "                            \n",
       "        <script>\n",
       "                          \n",
       "        var jmRenderPytut = function(trace_id, div_id, config){\n",
       "            console.log(\"jupman.py embedded javascript: rendering Python tutor visualizer...\")\n",
       "            \n",
       "            let oldAlert = window.alert;\n",
       "            window.alert = function ( text ) { \n",
       "                console.log( 'tried to alert: ', text );         \n",
       "                return true; \n",
       "            };\n",
       "            let executionVisualizer = null;\n",
       "            try {\n",
       "            \n",
       "                var trace = JSON.parse(document.getElementById(trace_id).innerHTML);                                        \n",
       "                // NOTE: id without #\n",
       "                        \n",
       "                executionVisualizer = addVisualizerToPage(trace, div_id, config);\n",
       "                // hack in case visualizer decides to hide them for no good reason\n",
       "                $('#' + div_id + ' #jmpFirstInstr').show();\n",
       "                $('#' + div_id + ' #jmpLastInstr').show();\n",
       "                \n",
       "                // set overflow for pytuts - need to do in python as css \n",
       "                // does not allow parent selection\n",
       "                var pytuts = $('.pytutorVisualizer');\n",
       "                pytuts.closest('div.output_html.rendered_html.output_result')\n",
       "                        .css('overflow-x', 'visible');\n",
       "            \n",
       "                //pytuts.closest('div.output_html.rendered_html.output_result')\n",
       "                //      .css('background-color','red');                \n",
       "            } catch (error) {\n",
       "                console.error(\"jupman slides: Couldn't visualize Python tutor properly\", error);\n",
       "            }\n",
       "            window.alert = oldAlert;\n",
       "            return executionVisualizer;\n",
       "            \n",
       "        };\n",
       "        </script>\n",
       "        \n",
       "        <script>\n",
       "        var pytut_cfg_de12607ce685b08557086f1fd39bdb14_24 = (function(){\n",
       "            var rootFontSize = window.getComputedStyle(document.body).getPropertyValue('font-size');\n",
       "            var rootFontSizeNum = 12;\n",
       "            if (rootFontSize.endsWith('px')){\n",
       "                rootFontSizeNum = Number(rootFontSize.substring(0, rootFontSize.length-2));\n",
       "            } else {\n",
       "                console.error(\"Unrecognized font unit:\", rootFontSize, \"assuming default\", rootFontSizeNum);\n",
       "            }\n",
       "            console.log('rootFontSize', rootFontSize);\n",
       "            \n",
       "            var codeWidthInChars = Math.max(23, 34);\n",
       "            if (0){\n",
       "                codeWidthInChars = 0;    // override\n",
       "            }\n",
       "            return {'embeddedMode' : false,\n",
       "                  'disableHeapNesting': true,\n",
       "                  'visualizerIdOverride':'viz-jm-de12607ce685b08557086f1fd39bdb14-24',\n",
       "                  'codeDivWidth': Math.trunc(rootFontSizeNum * codeWidthInChars)\n",
       "                  };\n",
       "        })();                 \n",
       "        \n",
       "        jmRenderPytut('trace-jm-de12607ce685b08557086f1fd39bdb14-24', 'jm-de12607ce685b08557086f1fd39bdb14-24', pytut_cfg_de12607ce685b08557086f1fd39bdb14_24);\n",
       "        </script>\n",
       "                \n",
       "    \n",
       "    <div style=\"text-align:center; font-size:0.9em\"> <a href=\"https://pythontutor.com/visualize.html#mode=edit\" target=\"_blank\">Python Tutor</a> visualization</div> \n",
       "    "
      ],
      "text/plain": [
       "<IPython.core.display.HTML object>"
      ]
     },
     "execution_count": 22,
     "metadata": {},
     "output_type": "execute_result"
    }
   ],
   "source": []
  },
  {
   "cell_type": "markdown",
   "id": "6af94bab",
   "metadata": {
    "slideshow": {
     "slide_type": "subslide"
    }
   },
   "source": [
    "### Variabili esterne: problemi"
   ]
  },
  {
   "cell_type": "code",
   "execution_count": 23,
   "id": "55237351-stripped",
   "metadata": {
    "slideshow": {
     "slide_type": "-"
    }
   },
   "outputs": [
    {
     "data": {
      "text/html": [
       "        \n",
       "        <script src=\"_static/js/pytutor-embed.bundle.min.js\" #type=\"application/javascript\"></script>\n",
       "    \n",
       "        <style>\n",
       "        @import \"_static/css/jupman.css\";\n",
       "        </style>\n",
       "     \n",
       "        <script id=\"trace-jm-b0a902c100eea331cd70cc96a4246930-25\" type=\"application/json\" >\n",
       "            {\"code\": \" \\nmuro = \\\"bianco\\\"\\n\\ndef dipingi():                 \\n    print('Dipingo....')        \\n    muro = 'arancione'   # OCCHIO\\n    print('Esco')    \\n    \\ndipingi()\\nprint('Adesso il muro \\u00e8', muro)\", \"trace\": [{\"line\": 2, \"event\": \"step_line\", \"func_name\": \"<module>\", \"globals\": {}, \"ordered_globals\": [], \"stack_to_render\": [], \"heap\": {}, \"stdout\": \"\"}, {\"line\": 4, \"event\": \"step_line\", \"func_name\": \"<module>\", \"globals\": {\"muro\": \"bianco\"}, \"ordered_globals\": [\"muro\"], \"stack_to_render\": [], \"heap\": {}, \"stdout\": \"\"}, {\"line\": 9, \"event\": \"step_line\", \"func_name\": \"<module>\", \"globals\": {\"muro\": \"bianco\", \"dipingi\": [\"REF\", 1]}, \"ordered_globals\": [\"muro\", \"dipingi\"], \"stack_to_render\": [], \"heap\": {\"1\": [\"FUNCTION\", \"dipingi()\", null]}, \"stdout\": \"\"}, {\"line\": 4, \"event\": \"call\", \"func_name\": \"dipingi\", \"globals\": {\"muro\": \"bianco\", \"dipingi\": [\"REF\", 1]}, \"ordered_globals\": [\"muro\", \"dipingi\"], \"stack_to_render\": [{\"func_name\": \"dipingi\", \"is_parent\": false, \"frame_id\": 1, \"parent_frame_id_list\": [], \"encoded_locals\": {}, \"ordered_varnames\": [], \"is_zombie\": false, \"is_highlighted\": true, \"unique_hash\": \"dipingi_f1\"}], \"heap\": {\"1\": [\"FUNCTION\", \"dipingi()\", null]}, \"stdout\": \"\"}, {\"line\": 5, \"event\": \"step_line\", \"func_name\": \"dipingi\", \"globals\": {\"muro\": \"bianco\", \"dipingi\": [\"REF\", 1]}, \"ordered_globals\": [\"muro\", \"dipingi\"], \"stack_to_render\": [{\"func_name\": \"dipingi\", \"is_parent\": false, \"frame_id\": 1, \"parent_frame_id_list\": [], \"encoded_locals\": {}, \"ordered_varnames\": [], \"is_zombie\": false, \"is_highlighted\": true, \"unique_hash\": \"dipingi_f1\"}], \"heap\": {\"1\": [\"FUNCTION\", \"dipingi()\", null]}, \"stdout\": \"\"}, {\"line\": 6, \"event\": \"step_line\", \"func_name\": \"dipingi\", \"globals\": {\"muro\": \"bianco\", \"dipingi\": [\"REF\", 1]}, \"ordered_globals\": [\"muro\", \"dipingi\"], \"stack_to_render\": [{\"func_name\": \"dipingi\", \"is_parent\": false, \"frame_id\": 1, \"parent_frame_id_list\": [], \"encoded_locals\": {}, \"ordered_varnames\": [], \"is_zombie\": false, \"is_highlighted\": true, \"unique_hash\": \"dipingi_f1\"}], \"heap\": {\"1\": [\"FUNCTION\", \"dipingi()\", null]}, \"stdout\": \"Dipingo....\\n\"}, {\"line\": 7, \"event\": \"step_line\", \"func_name\": \"dipingi\", \"globals\": {\"muro\": \"bianco\", \"dipingi\": [\"REF\", 1]}, \"ordered_globals\": [\"muro\", \"dipingi\"], \"stack_to_render\": [{\"func_name\": \"dipingi\", \"is_parent\": false, \"frame_id\": 1, \"parent_frame_id_list\": [], \"encoded_locals\": {\"muro\": \"arancione\"}, \"ordered_varnames\": [\"muro\"], \"is_zombie\": false, \"is_highlighted\": true, \"unique_hash\": \"dipingi_f1\"}], \"heap\": {\"1\": [\"FUNCTION\", \"dipingi()\", null]}, \"stdout\": \"Dipingo....\\n\"}, {\"line\": 7, \"event\": \"return\", \"func_name\": \"dipingi\", \"globals\": {\"muro\": \"bianco\", \"dipingi\": [\"REF\", 1]}, \"ordered_globals\": [\"muro\", \"dipingi\"], \"stack_to_render\": [{\"func_name\": \"dipingi\", \"is_parent\": false, \"frame_id\": 1, \"parent_frame_id_list\": [], \"encoded_locals\": {\"muro\": \"arancione\", \"__return__\": null}, \"ordered_varnames\": [\"muro\", \"__return__\"], \"is_zombie\": false, \"is_highlighted\": true, \"unique_hash\": \"dipingi_f1\"}], \"heap\": {\"1\": [\"FUNCTION\", \"dipingi()\", null]}, \"stdout\": \"Dipingo....\\nEsco\\n\"}, {\"line\": 10, \"event\": \"step_line\", \"func_name\": \"<module>\", \"globals\": {\"muro\": \"bianco\", \"dipingi\": [\"REF\", 1]}, \"ordered_globals\": [\"muro\", \"dipingi\"], \"stack_to_render\": [], \"heap\": {\"1\": [\"FUNCTION\", \"dipingi()\", null]}, \"stdout\": \"Dipingo....\\nEsco\\n\"}, {\"line\": 10, \"event\": \"return\", \"func_name\": \"<module>\", \"globals\": {\"muro\": \"bianco\", \"dipingi\": [\"REF\", 1]}, \"ordered_globals\": [\"muro\", \"dipingi\"], \"stack_to_render\": [], \"heap\": {\"1\": [\"FUNCTION\", \"dipingi()\", null]}, \"stdout\": \"Dipingo....\\nEsco\\nAdesso il muro \\u00e8 bianco\\n\"}]}\n",
       "        </script>\n",
       "        <div id=\"jm-b0a902c100eea331cd70cc96a4246930-25\" class=\"pytutorVisualizer\"> </div>\n",
       "                            \n",
       "        <script>\n",
       "                          \n",
       "        var jmRenderPytut = function(trace_id, div_id, config){\n",
       "            console.log(\"jupman.py embedded javascript: rendering Python tutor visualizer...\")\n",
       "            \n",
       "            let oldAlert = window.alert;\n",
       "            window.alert = function ( text ) { \n",
       "                console.log( 'tried to alert: ', text );         \n",
       "                return true; \n",
       "            };\n",
       "            let executionVisualizer = null;\n",
       "            try {\n",
       "            \n",
       "                var trace = JSON.parse(document.getElementById(trace_id).innerHTML);                                        \n",
       "                // NOTE: id without #\n",
       "                        \n",
       "                executionVisualizer = addVisualizerToPage(trace, div_id, config);\n",
       "                // hack in case visualizer decides to hide them for no good reason\n",
       "                $('#' + div_id + ' #jmpFirstInstr').show();\n",
       "                $('#' + div_id + ' #jmpLastInstr').show();\n",
       "                \n",
       "                // set overflow for pytuts - need to do in python as css \n",
       "                // does not allow parent selection\n",
       "                var pytuts = $('.pytutorVisualizer');\n",
       "                pytuts.closest('div.output_html.rendered_html.output_result')\n",
       "                        .css('overflow-x', 'visible');\n",
       "            \n",
       "                //pytuts.closest('div.output_html.rendered_html.output_result')\n",
       "                //      .css('background-color','red');                \n",
       "            } catch (error) {\n",
       "                console.error(\"jupman slides: Couldn't visualize Python tutor properly\", error);\n",
       "            }\n",
       "            window.alert = oldAlert;\n",
       "            return executionVisualizer;\n",
       "            \n",
       "        };\n",
       "        </script>\n",
       "        \n",
       "        <script>\n",
       "        var pytut_cfg_b0a902c100eea331cd70cc96a4246930_25 = (function(){\n",
       "            var rootFontSize = window.getComputedStyle(document.body).getPropertyValue('font-size');\n",
       "            var rootFontSizeNum = 12;\n",
       "            if (rootFontSize.endsWith('px')){\n",
       "                rootFontSizeNum = Number(rootFontSize.substring(0, rootFontSize.length-2));\n",
       "            } else {\n",
       "                console.error(\"Unrecognized font unit:\", rootFontSize, \"assuming default\", rootFontSizeNum);\n",
       "            }\n",
       "            console.log('rootFontSize', rootFontSize);\n",
       "            \n",
       "            var codeWidthInChars = Math.max(23, 33);\n",
       "            if (0){\n",
       "                codeWidthInChars = 0;    // override\n",
       "            }\n",
       "            return {'embeddedMode' : false,\n",
       "                  'disableHeapNesting': true,\n",
       "                  'visualizerIdOverride':'viz-jm-b0a902c100eea331cd70cc96a4246930-25',\n",
       "                  'codeDivWidth': Math.trunc(rootFontSizeNum * codeWidthInChars)\n",
       "                  };\n",
       "        })();                 \n",
       "        \n",
       "        jmRenderPytut('trace-jm-b0a902c100eea331cd70cc96a4246930-25', 'jm-b0a902c100eea331cd70cc96a4246930-25', pytut_cfg_b0a902c100eea331cd70cc96a4246930_25);\n",
       "        </script>\n",
       "                \n",
       "    \n",
       "    <div style=\"text-align:center; font-size:0.9em\"> <a href=\"https://pythontutor.com/visualize.html#mode=edit\" target=\"_blank\">Python Tutor</a> visualization</div> \n",
       "    "
      ],
      "text/plain": [
       "<IPython.core.display.HTML object>"
      ]
     },
     "execution_count": 23,
     "metadata": {},
     "output_type": "execute_result"
    }
   ],
   "source": []
  },
  {
   "cell_type": "markdown",
   "id": "0ea6078c",
   "metadata": {
    "slideshow": {
     "slide_type": "fragment"
    }
   },
   "source": [
    "\n",
    "Ma se proviamo a _riassegnare_, Python crea una NUOVA variabile!"
   ]
  },
  {
   "cell_type": "markdown",
   "id": "09bdc90f",
   "metadata": {
    "slideshow": {
     "slide_type": "subslide"
    }
   },
   "source": [
    "### Variabili esterne: `global`\n",
    "\n",
    "Per evitare problemi, si può dichiarare la variabile esterna come `global`:"
   ]
  },
  {
   "cell_type": "code",
   "execution_count": 24,
   "id": "d463a9b5-stripped",
   "metadata": {
    "slideshow": {
     "slide_type": "-"
    }
   },
   "outputs": [
    {
     "data": {
      "text/html": [
       "        \n",
       "        <script src=\"_static/js/pytutor-embed.bundle.min.js\" #type=\"application/javascript\"></script>\n",
       "    \n",
       "        <style>\n",
       "        @import \"_static/css/jupman.css\";\n",
       "        </style>\n",
       "     \n",
       "        <script id=\"trace-jm-a1b60cf3358a98acce69b779de63cced-26\" type=\"application/json\" >\n",
       "            {\"code\": \" \\nmuro = \\\"bianco\\\"\\n\\ndef dipingi():        \\n    global muro          # CORRETTO \\n    print('Dipingo....')        \\n    muro = 'arancione'   \\n    print('Esco')\\n    \\ndipingi()\\nprint('Adesso il muro \\u00e8', muro)\", \"trace\": [{\"line\": 2, \"event\": \"step_line\", \"func_name\": \"<module>\", \"globals\": {}, \"ordered_globals\": [], \"stack_to_render\": [], \"heap\": {}, \"stdout\": \"\"}, {\"line\": 4, \"event\": \"step_line\", \"func_name\": \"<module>\", \"globals\": {\"muro\": \"bianco\"}, \"ordered_globals\": [\"muro\"], \"stack_to_render\": [], \"heap\": {}, \"stdout\": \"\"}, {\"line\": 10, \"event\": \"step_line\", \"func_name\": \"<module>\", \"globals\": {\"muro\": \"bianco\", \"dipingi\": [\"REF\", 1]}, \"ordered_globals\": [\"muro\", \"dipingi\"], \"stack_to_render\": [], \"heap\": {\"1\": [\"FUNCTION\", \"dipingi()\", null]}, \"stdout\": \"\"}, {\"line\": 4, \"event\": \"call\", \"func_name\": \"dipingi\", \"globals\": {\"muro\": \"bianco\", \"dipingi\": [\"REF\", 1]}, \"ordered_globals\": [\"muro\", \"dipingi\"], \"stack_to_render\": [{\"func_name\": \"dipingi\", \"is_parent\": false, \"frame_id\": 1, \"parent_frame_id_list\": [], \"encoded_locals\": {}, \"ordered_varnames\": [], \"is_zombie\": false, \"is_highlighted\": true, \"unique_hash\": \"dipingi_f1\"}], \"heap\": {\"1\": [\"FUNCTION\", \"dipingi()\", null]}, \"stdout\": \"\"}, {\"line\": 6, \"event\": \"step_line\", \"func_name\": \"dipingi\", \"globals\": {\"muro\": \"bianco\", \"dipingi\": [\"REF\", 1]}, \"ordered_globals\": [\"muro\", \"dipingi\"], \"stack_to_render\": [{\"func_name\": \"dipingi\", \"is_parent\": false, \"frame_id\": 1, \"parent_frame_id_list\": [], \"encoded_locals\": {}, \"ordered_varnames\": [], \"is_zombie\": false, \"is_highlighted\": true, \"unique_hash\": \"dipingi_f1\"}], \"heap\": {\"1\": [\"FUNCTION\", \"dipingi()\", null]}, \"stdout\": \"\"}, {\"line\": 7, \"event\": \"step_line\", \"func_name\": \"dipingi\", \"globals\": {\"muro\": \"bianco\", \"dipingi\": [\"REF\", 1]}, \"ordered_globals\": [\"muro\", \"dipingi\"], \"stack_to_render\": [{\"func_name\": \"dipingi\", \"is_parent\": false, \"frame_id\": 1, \"parent_frame_id_list\": [], \"encoded_locals\": {}, \"ordered_varnames\": [], \"is_zombie\": false, \"is_highlighted\": true, \"unique_hash\": \"dipingi_f1\"}], \"heap\": {\"1\": [\"FUNCTION\", \"dipingi()\", null]}, \"stdout\": \"Dipingo....\\n\"}, {\"line\": 8, \"event\": \"step_line\", \"func_name\": \"dipingi\", \"globals\": {\"muro\": \"arancione\", \"dipingi\": [\"REF\", 1]}, \"ordered_globals\": [\"muro\", \"dipingi\"], \"stack_to_render\": [{\"func_name\": \"dipingi\", \"is_parent\": false, \"frame_id\": 1, \"parent_frame_id_list\": [], \"encoded_locals\": {}, \"ordered_varnames\": [], \"is_zombie\": false, \"is_highlighted\": true, \"unique_hash\": \"dipingi_f1\"}], \"heap\": {\"1\": [\"FUNCTION\", \"dipingi()\", null]}, \"stdout\": \"Dipingo....\\n\"}, {\"line\": 8, \"event\": \"return\", \"func_name\": \"dipingi\", \"globals\": {\"muro\": \"arancione\", \"dipingi\": [\"REF\", 1]}, \"ordered_globals\": [\"muro\", \"dipingi\"], \"stack_to_render\": [{\"func_name\": \"dipingi\", \"is_parent\": false, \"frame_id\": 1, \"parent_frame_id_list\": [], \"encoded_locals\": {\"__return__\": null}, \"ordered_varnames\": [\"__return__\"], \"is_zombie\": false, \"is_highlighted\": true, \"unique_hash\": \"dipingi_f1\"}], \"heap\": {\"1\": [\"FUNCTION\", \"dipingi()\", null]}, \"stdout\": \"Dipingo....\\nEsco\\n\"}, {\"line\": 11, \"event\": \"step_line\", \"func_name\": \"<module>\", \"globals\": {\"muro\": \"arancione\", \"dipingi\": [\"REF\", 1]}, \"ordered_globals\": [\"muro\", \"dipingi\"], \"stack_to_render\": [], \"heap\": {\"1\": [\"FUNCTION\", \"dipingi()\", null]}, \"stdout\": \"Dipingo....\\nEsco\\n\"}, {\"line\": 11, \"event\": \"return\", \"func_name\": \"<module>\", \"globals\": {\"muro\": \"arancione\", \"dipingi\": [\"REF\", 1]}, \"ordered_globals\": [\"muro\", \"dipingi\"], \"stack_to_render\": [], \"heap\": {\"1\": [\"FUNCTION\", \"dipingi()\", null]}, \"stdout\": \"Dipingo....\\nEsco\\nAdesso il muro \\u00e8 arancione\\n\"}]}\n",
       "        </script>\n",
       "        <div id=\"jm-a1b60cf3358a98acce69b779de63cced-26\" class=\"pytutorVisualizer\"> </div>\n",
       "                            \n",
       "        <script>\n",
       "                          \n",
       "        var jmRenderPytut = function(trace_id, div_id, config){\n",
       "            console.log(\"jupman.py embedded javascript: rendering Python tutor visualizer...\")\n",
       "            \n",
       "            let oldAlert = window.alert;\n",
       "            window.alert = function ( text ) { \n",
       "                console.log( 'tried to alert: ', text );         \n",
       "                return true; \n",
       "            };\n",
       "            let executionVisualizer = null;\n",
       "            try {\n",
       "            \n",
       "                var trace = JSON.parse(document.getElementById(trace_id).innerHTML);                                        \n",
       "                // NOTE: id without #\n",
       "                        \n",
       "                executionVisualizer = addVisualizerToPage(trace, div_id, config);\n",
       "                // hack in case visualizer decides to hide them for no good reason\n",
       "                $('#' + div_id + ' #jmpFirstInstr').show();\n",
       "                $('#' + div_id + ' #jmpLastInstr').show();\n",
       "                \n",
       "                // set overflow for pytuts - need to do in python as css \n",
       "                // does not allow parent selection\n",
       "                var pytuts = $('.pytutorVisualizer');\n",
       "                pytuts.closest('div.output_html.rendered_html.output_result')\n",
       "                        .css('overflow-x', 'visible');\n",
       "            \n",
       "                //pytuts.closest('div.output_html.rendered_html.output_result')\n",
       "                //      .css('background-color','red');                \n",
       "            } catch (error) {\n",
       "                console.error(\"jupman slides: Couldn't visualize Python tutor properly\", error);\n",
       "            }\n",
       "            window.alert = oldAlert;\n",
       "            return executionVisualizer;\n",
       "            \n",
       "        };\n",
       "        </script>\n",
       "        \n",
       "        <script>\n",
       "        var pytut_cfg_a1b60cf3358a98acce69b779de63cced_26 = (function(){\n",
       "            var rootFontSize = window.getComputedStyle(document.body).getPropertyValue('font-size');\n",
       "            var rootFontSizeNum = 12;\n",
       "            if (rootFontSize.endsWith('px')){\n",
       "                rootFontSizeNum = Number(rootFontSize.substring(0, rootFontSize.length-2));\n",
       "            } else {\n",
       "                console.error(\"Unrecognized font unit:\", rootFontSize, \"assuming default\", rootFontSizeNum);\n",
       "            }\n",
       "            console.log('rootFontSize', rootFontSize);\n",
       "            \n",
       "            var codeWidthInChars = Math.max(23, 36);\n",
       "            if (0){\n",
       "                codeWidthInChars = 0;    // override\n",
       "            }\n",
       "            return {'embeddedMode' : false,\n",
       "                  'disableHeapNesting': true,\n",
       "                  'visualizerIdOverride':'viz-jm-a1b60cf3358a98acce69b779de63cced-26',\n",
       "                  'codeDivWidth': Math.trunc(rootFontSizeNum * codeWidthInChars)\n",
       "                  };\n",
       "        })();                 \n",
       "        \n",
       "        jmRenderPytut('trace-jm-a1b60cf3358a98acce69b779de63cced-26', 'jm-a1b60cf3358a98acce69b779de63cced-26', pytut_cfg_a1b60cf3358a98acce69b779de63cced_26);\n",
       "        </script>\n",
       "                \n",
       "    \n",
       "    <div style=\"text-align:center; font-size:0.9em\"> <a href=\"https://pythontutor.com/visualize.html#mode=edit\" target=\"_blank\">Python Tutor</a> visualization</div> \n",
       "    "
      ],
      "text/plain": [
       "<IPython.core.display.HTML object>"
      ]
     },
     "execution_count": 24,
     "metadata": {},
     "output_type": "execute_result"
    }
   ],
   "source": []
  },
  {
   "cell_type": "markdown",
   "id": "4deefe21",
   "metadata": {
    "slideshow": {
     "slide_type": "subslide"
    }
   },
   "source": [
    "### NO `global`! Variabili esterne immutabili\n",
    "\n",
    "**Di solito è preferibile evitare** `global`**, come facciamo senza?**\n",
    "\n",
    "Consegna informale: Scrivi una funzione che dipinge `muro`  di arancione\n",
    "\n",
    "\n",
    "```python\n",
    "muro = \"bianco\"\n",
    "\n",
    "def dipingi(   ):  # A. che parametri???        \n",
    "    \"\"\" B. scrivi un testo il più preciso possibile per descrivere la funzione\n",
    "    \"\"\"\n",
    "    # C. che corpo ????\n",
    "\n",
    "\n",
    "# D. come chiamare??? \n",
    "\n",
    "\n",
    "print('Adesso il muro è', muro) \n",
    "```"
   ]
  },
  {
   "cell_type": "markdown",
   "id": "07af2b2b",
   "metadata": {
    "slideshow": {
     "slide_type": "subslide"
    }
   },
   "source": [
    "### NO `global`! Variabili esterne mutabili \n",
    "\n",
    "**Di solito è preferibile evitare** `global`**, come facciamo senza?**\n",
    "\n",
    "- Consegna informale: Scrivi una funzione che dipinge _tutti_ i `muri` _originali_ di arancione\n",
    "\n",
    "- Controlla di aver _veramente_ cambiato la regione di memoria originale!!\n",
    "\n",
    "\n",
    "```python\n",
    "muri = [\"bianco\", \"azzurro\", \"bianco\"]\n",
    "\n",
    "def dipingi(   ):  # A. che parametri???    \n",
    "    \"\"\" B. scrivi un testo il più preciso possibile per descrivere la funzione\n",
    "    \"\"\"    \n",
    "    # C. che corpo ????\n",
    "\n",
    "\n",
    "# D. come chiamare??? \n",
    "\n",
    "\n",
    "print('Adesso i muri sono', muri) \n",
    "```"
   ]
  },
  {
   "cell_type": "markdown",
   "id": "460ca6bb",
   "metadata": {
    "colab_type": "text",
    "id": "4X1oP2z2Nz4z",
    "slideshow": {
     "slide_type": "slide"
    }
   },
   "source": [
    "## Funzioni lambda\n",
    "\n",
    "Che cos'è una funzione? Un oggetto\n",
    "\n",
    "Esempio: funzione `len`"
   ]
  },
  {
   "cell_type": "code",
   "execution_count": 25,
   "id": "42654d67",
   "metadata": {
    "colab": {
     "autoexec": {
      "startup": false,
      "wait_interval": 0
     },
     "base_uri": "https://localhost:8080/",
     "height": 34,
     "output_extras": [
      {
       "item_id": 1
      }
     ]
    },
    "colab_type": "code",
    "executionInfo": {
     "elapsed": 500,
     "status": "ok",
     "timestamp": 1519046536040,
     "user": {
      "displayName": "David Leoni",
      "photoUrl": "https://lh3.googleusercontent.com/a/default-user=s128",
      "userId": "102920557909426557439"
     },
     "user_tz": -60
    },
    "id": "El31mlUNOoRX",
    "outputId": "24ca6750-254e-4062-f24a-6850eb7af742",
    "slideshow": {
     "slide_type": "-"
    }
   },
   "outputs": [
    {
     "data": {
      "text/plain": [
       "<function len(obj, /)>"
      ]
     },
     "execution_count": 25,
     "metadata": {},
     "output_type": "execute_result"
    }
   ],
   "source": [
    "len"
   ]
  },
  {
   "cell_type": "code",
   "execution_count": 26,
   "id": "c1c37a98",
   "metadata": {
    "slideshow": {
     "slide_type": "fragment"
    }
   },
   "outputs": [
    {
     "data": {
      "text/plain": [
       "4"
      ]
     },
     "execution_count": 26,
     "metadata": {},
     "output_type": "execute_result"
    }
   ],
   "source": [
    "len(\"rosa\")         # invocazione"
   ]
  },
  {
   "cell_type": "markdown",
   "id": "aa5bd059",
   "metadata": {
    "colab_type": "text",
    "id": "ENEMhfSiOrUM",
    "slideshow": {
     "slide_type": "subslide"
    }
   },
   "source": [
    "Proviamo a creare una var `mia_var` che punta all'_oggetto_ `len`: "
   ]
  },
  {
   "cell_type": "code",
   "execution_count": 27,
   "id": "72dc20d4",
   "metadata": {
    "colab": {
     "autoexec": {
      "startup": false,
      "wait_interval": 0
     }
    },
    "colab_type": "code",
    "id": "6S-wDPTYOJUO",
    "slideshow": {
     "slide_type": "-"
    }
   },
   "outputs": [],
   "source": [
    "mia_var = len"
   ]
  },
  {
   "cell_type": "markdown",
   "id": "3c4e60c2",
   "metadata": {
    "colab_type": "text",
    "id": "PX1hxxoOOUJg",
    "slideshow": {
     "slide_type": "fragment"
    }
   },
   "source": [
    "**NOTA**: _non_ abbiamo aggiunto parametri a `len`!"
   ]
  },
  {
   "cell_type": "markdown",
   "id": "31c1a1ed",
   "metadata": {
    "slideshow": {
     "slide_type": "fragment"
    }
   },
   "source": [
    "Adesso possiamo usare `mia_var` esattamente come usiamo la funzione `len`:"
   ]
  },
  {
   "cell_type": "code",
   "execution_count": 28,
   "id": "1322b9f2",
   "metadata": {
    "colab": {
     "autoexec": {
      "startup": false,
      "wait_interval": 0
     },
     "base_uri": "https://localhost:8080/",
     "height": 34,
     "output_extras": [
      {
       "item_id": 1
      }
     ]
    },
    "colab_type": "code",
    "executionInfo": {
     "elapsed": 649,
     "status": "ok",
     "timestamp": 1519046587953,
     "user": {
      "displayName": "David Leoni",
      "photoUrl": "https://lh3.googleusercontent.com/a/default-user=s128",
      "userId": "102920557909426557439"
     },
     "user_tz": -60
    },
    "id": "Lh6V_SAeOS3O",
    "outputId": "efd81d20-9aa9-40b4-8540-ac5d6f45ea6d",
    "slideshow": {
     "slide_type": "-"
    }
   },
   "outputs": [
    {
     "data": {
      "text/plain": [
       "4"
      ]
     },
     "execution_count": 28,
     "metadata": {},
     "output_type": "execute_result"
    }
   ],
   "source": [
    "mia_var(\"rosa\")"
   ]
  },
  {
   "cell_type": "markdown",
   "id": "378312cd",
   "metadata": {
    "colab_type": "text",
    "id": "Q3CoQlvZPWTG",
    "slideshow": {
     "slide_type": "subslide"
    }
   },
   "source": [
    "### Funzioni lambda - esempio\n",
    "\n",
    "Per creare una funzione 'al volo', usa la parola chiave `lambda`:"
   ]
  },
  {
   "cell_type": "code",
   "execution_count": 29,
   "id": "2eaed396",
   "metadata": {
    "colab": {
     "autoexec": {
      "startup": false,
      "wait_interval": 0
     }
    },
    "colab_type": "code",
    "id": "uXGgflBePBlW",
    "slideshow": {
     "slide_type": "-"
    }
   },
   "outputs": [
    {
     "data": {
      "text/plain": [
       "<function __main__.<lambda>(x, y)>"
      ]
     },
     "execution_count": 29,
     "metadata": {},
     "output_type": "execute_result"
    }
   ],
   "source": [
    "lambda x, y: x + y"
   ]
  },
  {
   "cell_type": "markdown",
   "id": "1fc7a253",
   "metadata": {
    "slideshow": {
     "slide_type": "fragment"
    }
   },
   "source": [
    "- **NON** c'è il `def`\n",
    "- **NON** bisogna mettere `return`\n",
    "- **DEVE** stare su una riga sola"
   ]
  },
  {
   "cell_type": "markdown",
   "id": "108b3d57",
   "metadata": {
    "slideshow": {
     "slide_type": "fragment"
    }
   },
   "source": [
    "Una funzione `lambda` è un oggetto -> si può assegnare ad una variabile:"
   ]
  },
  {
   "cell_type": "code",
   "execution_count": 30,
   "id": "30d66191",
   "metadata": {
    "slideshow": {
     "slide_type": "-"
    }
   },
   "outputs": [],
   "source": [
    "mia_somma = lambda x, y: x + y"
   ]
  },
  {
   "cell_type": "code",
   "execution_count": 31,
   "id": "41a7cae6",
   "metadata": {
    "slideshow": {
     "slide_type": "-"
    }
   },
   "outputs": [
    {
     "data": {
      "text/plain": [
       "8"
      ]
     },
     "execution_count": 31,
     "metadata": {},
     "output_type": "execute_result"
    }
   ],
   "source": [
    "mia_somma(3,5)"
   ]
  },
  {
   "cell_type": "markdown",
   "id": "5cb2c86d",
   "metadata": {
    "slideshow": {
     "slide_type": "subslide"
    }
   },
   "source": [
    "### funzioni lambda e def\n",
    "\n",
    "Queste due scritture sono completamente equivalenti:"
   ]
  },
  {
   "cell_type": "code",
   "execution_count": 32,
   "id": "ff8112fd",
   "metadata": {
    "slideshow": {
     "slide_type": "-"
    }
   },
   "outputs": [],
   "source": [
    "def mia_somma(x, y):\n",
    "    return x + y"
   ]
  },
  {
   "cell_type": "code",
   "execution_count": 33,
   "id": "8f438edb",
   "metadata": {
    "slideshow": {
     "slide_type": "-"
    }
   },
   "outputs": [],
   "source": [
    "mia_somma = lambda x, y: x + y"
   ]
  },
  {
   "cell_type": "markdown",
   "id": "8cc9c56b",
   "metadata": {
    "slideshow": {
     "slide_type": "subslide"
    }
   },
   "source": [
    "### Esempio: sorted e lambda\n",
    "\n",
    "Aspettative di vita di animali:"
   ]
  },
  {
   "cell_type": "code",
   "execution_count": 34,
   "id": "b21a357c",
   "metadata": {
    "slideshow": {
     "slide_type": "-"
    }
   },
   "outputs": [],
   "source": [
    "animali = [('cane', 12), \n",
    "           ('gatto', 14), \n",
    "           ('pellicano', 30), \n",
    "           ('acquila', 25), \n",
    "           ('scoiattolo', 6)]"
   ]
  },
  {
   "cell_type": "markdown",
   "id": "f993c1a5",
   "metadata": {
    "slideshow": {
     "slide_type": "fragment"
    }
   },
   "source": [
    "Come fare a ordinare per anni?"
   ]
  },
  {
   "cell_type": "code",
   "execution_count": 35,
   "id": "e31aaee1",
   "metadata": {
    "slideshow": {
     "slide_type": "-"
    }
   },
   "outputs": [
    {
     "data": {
      "text/plain": [
       "[('acquila', 25),\n",
       " ('cane', 12),\n",
       " ('gatto', 14),\n",
       " ('pellicano', 30),\n",
       " ('scoiattolo', 6)]"
      ]
     },
     "execution_count": 35,
     "metadata": {},
     "output_type": "execute_result"
    }
   ],
   "source": [
    "sorted(animali)   # SBAGLIATO"
   ]
  },
  {
   "cell_type": "markdown",
   "id": "9bc5a5d9",
   "metadata": {
    "slideshow": {
     "slide_type": "fragment"
    }
   },
   "source": [
    "Così è alfabetico..."
   ]
  },
  {
   "cell_type": "markdown",
   "id": "fa37af3e",
   "metadata": {
    "slideshow": {
     "slide_type": "subslide"
    }
   },
   "source": [
    "### Esempio: sorted `key`\n",
    "\n",
    "Possiamo passare al parametro `key` una funzione che:\n",
    "\n",
    "* dato un elemento della lista...\n",
    "* ...produce un numero per ordinare\n",
    "\n",
    "Scriviamo una `lambda` per estrarre aspettativa di vita:"
   ]
  },
  {
   "cell_type": "code",
   "execution_count": 36,
   "id": "bdbfcde0",
   "metadata": {
    "slideshow": {
     "slide_type": "-"
    }
   },
   "outputs": [
    {
     "data": {
      "text/plain": [
       "[('scoiattolo', 6),\n",
       " ('cane', 12),\n",
       " ('gatto', 14),\n",
       " ('acquila', 25),\n",
       " ('pellicano', 30)]"
      ]
     },
     "execution_count": 36,
     "metadata": {},
     "output_type": "execute_result"
    }
   ],
   "source": [
    "sorted( animali, key=lambda tup: tup[1]  )"
   ]
  },
  {
   "cell_type": "code",
   "execution_count": 37,
   "id": "97d06299-stripped",
   "metadata": {
    "nbsphinx": "hidden"
   },
   "outputs": [],
   "source": []
  }
 ],
 "metadata": {
  "celltoolbar": "Slideshow",
  "kernelspec": {
   "display_name": "Python 3 (ipykernel)",
   "language": "python",
   "name": "python3"
  },
  "language_info": {
   "codemirror_mode": {
    "name": "ipython",
    "version": 3
   },
   "file_extension": ".py",
   "mimetype": "text/x-python",
   "name": "python",
   "nbconvert_exporter": "python",
   "pygments_lexer": "ipython3",
   "version": "3.7.17"
  },
  "toc": {
   "base_numbering": 1,
   "nav_menu": {},
   "number_sections": false,
   "sideBar": true,
   "skip_h1_title": false,
   "title_cell": "Table of Contents",
   "title_sidebar": "Contents",
   "toc_cell": false,
   "toc_position": {
    "height": "calc(100% - 180px)",
    "left": "10px",
    "top": "150px",
    "width": "373.188px"
   },
   "toc_section_display": true,
   "toc_window_display": true
  }
 },
 "nbformat": 4,
 "nbformat_minor": 5
}
