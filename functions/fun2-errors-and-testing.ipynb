{
 "cells": [
  {
   "cell_type": "code",
   "execution_count": 1,
   "id": "8e77c3a2",
   "metadata": {
    "slideshow": {
     "slide_type": "skip"
    }
   },
   "outputs": [
    {
     "data": {
      "text/html": [
       "        \n",
       "            <script src=\"_static/js/python.iife.js\" type=\"application/javascript\"></script>\n",
       "        "
      ],
      "text/plain": [
       "<IPython.core.display.HTML object>"
      ]
     },
     "execution_count": 1,
     "metadata": {},
     "output_type": "execute_result"
    }
   ],
   "source": [
    "import jupman\n",
    "\n",
    "import conf\n",
    "\n",
    "conf.jm.init_icp()"
   ]
  },
  {
   "cell_type": "markdown",
   "id": "0049100b",
   "metadata": {
    "slideshow": {
     "slide_type": "slide"
    }
   },
   "source": [
    "# Funzioni 2: gestione errori e testing \n",
    "\n",
    "**Riferimenti:** [SoftPython - funzioni 2](https://it.softpython.org/functions/fun2-errors-and-testing-sol.html)\n",
    "\n",
    "* visualizza al meglio in <img style=\"display:inline; width:25px; vertical-align: middle;\" src=\"../_static/img/chrome.png\" alttext=\"Chrome\">\n",
    "* versione stampabile: [clicca qua](?print-pdf)\n",
    "* per navigare nelle slide: premere `Esc`\n",
    "\n",
    "<br>\n",
    "<br>\n",
    "\n",
    "**Summer School Data Science 2023 - Modulo 1 informatica:** [Moodle](https://didatticaonline.unitn.it/dol/course/view.php?id=36683) \n",
    "\n",
    "Docente: David Leoni david.leoni@unitn.it\n",
    "\n",
    "Esercitatore: Luca Bosotti luca.bosotti@studenti.unitn.it\n"
   ]
  },
  {
   "cell_type": "markdown",
   "id": "ea3dbc35",
   "metadata": {
    "slideshow": {
     "slide_type": "slide"
    }
   },
   "source": [
    "## Le eccezioni 1/2\n",
    "\n",
    "\n",
    "\n",
    "**Come fermare l'esecuzione di tutto il programma appena riscontriamo una situazione imprevista?**\n",
    "\n",
    "**Riferimenti**: \n",
    "\n",
    "- [SoftPython - Gestione errori e testing](https://it.softpython.org/functions/fun2-errors-and-testing-sol.html)\n",
    "- [Nicola Cassetta - 19: La gestione delle eccezioni](http://ncassetta.altervista.org/Tutorial_Python/Lezione_19.html)"
   ]
  },
  {
   "cell_type": "markdown",
   "id": "be1bdf77",
   "metadata": {
    "slideshow": {
     "slide_type": "fragment"
    }
   },
   "source": [
    "Per **interrompere** l'esecuzione del programma in un punto, si può inserire l'istruzione `raise` così:\n",
    "\n",
    "```python\n",
    "raise Exception()\n",
    "```\n",
    "\n",
    "Volendo, si può anche scrivere una indicazione _per i programmatori_: \n",
    "\n",
    "```python\n",
    "raise Exception(\"Non c'è abbastanza farina !\")\n",
    "```"
   ]
  },
  {
   "cell_type": "markdown",
   "id": "cc12cd10",
   "metadata": {
    "slideshow": {
     "slide_type": "subslide"
    }
   },
   "source": [
    "### Le eccezioni 2/2\n",
    "\n",
    "```python\n",
    "print(\"PRIMA\")\n",
    "raise Exception(\"Non c'è abbastanza farina !\")\n",
    "print(\"DOPO\")\n",
    "```"
   ]
  },
  {
   "cell_type": "markdown",
   "id": "7f7417a0",
   "metadata": {
    "slideshow": {
     "slide_type": "fragment"
    }
   },
   "source": [
    "```python\n",
    "PRIMA\n",
    "---------------------------------------------------------------------------\n",
    "Exception                                 Traceback (most recent call last)\n",
    "/tmp/ipykernel_10578/2095967716.py in <module>\n",
    "      1 print(\"Prima\")\n",
    "----> 2 raise Exception(\"Non c'è abbastanza farina !\")\n",
    "      3 print(\"Dopo\")\n",
    "\n",
    "Exception: Non c'è abbastanza farina !\n",
    "```"
   ]
  },
  {
   "cell_type": "markdown",
   "id": "fe0ef8eb",
   "metadata": {
    "slideshow": {
     "slide_type": "subslide"
    }
   },
   "source": [
    "### Torta printolosa: sarà buona?"
   ]
  },
  {
   "cell_type": "code",
   "execution_count": 2,
   "id": "5faa9c12-stripped",
   "metadata": {
    "slideshow": {
     "slide_type": "-"
    }
   },
   "outputs": [
    {
     "data": {
      "text/html": [
       "        \n",
       "        <script src=\"_static/js/pytutor-embed.bundle.min.js\" #type=\"application/javascript\"></script>\n",
       "    \n",
       "        <style>\n",
       "        @import \"_static/css/jupman.css\";\n",
       "        </style>\n",
       "     \n",
       "        <script id=\"trace-jm-583adae4ff959283f9a90632e38bd197-4\" type=\"application/json\" >\n",
       "            {\"code\": \" \\ndef fai_torta_printolosa(latte, farina):\\n    \\\"\\\"\\\" Prende ingredienti float \\n        e STAMPA il procedimento\\n    - servono 1.3 kg per il latte \\n      e 1.0kg per la farina\\n    \\\"\\\"\\\"\\n\\n    if latte < 1.3:\\n        print(\\\"Non ho abbastanza latte !\\\")\\n    if farina < 1.0:\\n        print(\\\"Non ho abbastanza farina !\\\")\\n    print(\\\"Impasto\\\")\\n    print(\\\"Scaldo\\\")\\n    print(\\\"Ho fatto la torta !\\\")\\n\\nfai_torta_printolosa(5.0, 0.2)  \\n\\nprint(\\\"Festeggia!\\\")\", \"trace\": [{\"line\": 2, \"event\": \"step_line\", \"func_name\": \"<module>\", \"globals\": {}, \"ordered_globals\": [], \"stack_to_render\": [], \"heap\": {}, \"stdout\": \"\"}, {\"line\": 17, \"event\": \"step_line\", \"func_name\": \"<module>\", \"globals\": {\"fai_torta_printolosa\": [\"REF\", 1]}, \"ordered_globals\": [\"fai_torta_printolosa\"], \"stack_to_render\": [], \"heap\": {\"1\": [\"FUNCTION\", \"fai_torta_printolosa(latte, farina)\", null]}, \"stdout\": \"\"}, {\"line\": 2, \"event\": \"call\", \"func_name\": \"fai_torta_printolosa\", \"globals\": {\"fai_torta_printolosa\": [\"REF\", 1]}, \"ordered_globals\": [\"fai_torta_printolosa\"], \"stack_to_render\": [{\"func_name\": \"fai_torta_printolosa\", \"is_parent\": false, \"frame_id\": 1, \"parent_frame_id_list\": [], \"encoded_locals\": {\"latte\": [\"SPECIAL_FLOAT\", \"5.0\"], \"farina\": 0.2}, \"ordered_varnames\": [\"latte\", \"farina\"], \"is_zombie\": false, \"is_highlighted\": true, \"unique_hash\": \"fai_torta_printolosa_f1\"}], \"heap\": {\"1\": [\"FUNCTION\", \"fai_torta_printolosa(latte, farina)\", null]}, \"stdout\": \"\"}, {\"line\": 9, \"event\": \"step_line\", \"func_name\": \"fai_torta_printolosa\", \"globals\": {\"fai_torta_printolosa\": [\"REF\", 1]}, \"ordered_globals\": [\"fai_torta_printolosa\"], \"stack_to_render\": [{\"func_name\": \"fai_torta_printolosa\", \"is_parent\": false, \"frame_id\": 1, \"parent_frame_id_list\": [], \"encoded_locals\": {\"latte\": [\"SPECIAL_FLOAT\", \"5.0\"], \"farina\": 0.2}, \"ordered_varnames\": [\"latte\", \"farina\"], \"is_zombie\": false, \"is_highlighted\": true, \"unique_hash\": \"fai_torta_printolosa_f1\"}], \"heap\": {\"1\": [\"FUNCTION\", \"fai_torta_printolosa(latte, farina)\", null]}, \"stdout\": \"\"}, {\"line\": 11, \"event\": \"step_line\", \"func_name\": \"fai_torta_printolosa\", \"globals\": {\"fai_torta_printolosa\": [\"REF\", 1]}, \"ordered_globals\": [\"fai_torta_printolosa\"], \"stack_to_render\": [{\"func_name\": \"fai_torta_printolosa\", \"is_parent\": false, \"frame_id\": 1, \"parent_frame_id_list\": [], \"encoded_locals\": {\"latte\": [\"SPECIAL_FLOAT\", \"5.0\"], \"farina\": 0.2}, \"ordered_varnames\": [\"latte\", \"farina\"], \"is_zombie\": false, \"is_highlighted\": true, \"unique_hash\": \"fai_torta_printolosa_f1\"}], \"heap\": {\"1\": [\"FUNCTION\", \"fai_torta_printolosa(latte, farina)\", null]}, \"stdout\": \"\"}, {\"line\": 12, \"event\": \"step_line\", \"func_name\": \"fai_torta_printolosa\", \"globals\": {\"fai_torta_printolosa\": [\"REF\", 1]}, \"ordered_globals\": [\"fai_torta_printolosa\"], \"stack_to_render\": [{\"func_name\": \"fai_torta_printolosa\", \"is_parent\": false, \"frame_id\": 1, \"parent_frame_id_list\": [], \"encoded_locals\": {\"latte\": [\"SPECIAL_FLOAT\", \"5.0\"], \"farina\": 0.2}, \"ordered_varnames\": [\"latte\", \"farina\"], \"is_zombie\": false, \"is_highlighted\": true, \"unique_hash\": \"fai_torta_printolosa_f1\"}], \"heap\": {\"1\": [\"FUNCTION\", \"fai_torta_printolosa(latte, farina)\", null]}, \"stdout\": \"\"}, {\"line\": 13, \"event\": \"step_line\", \"func_name\": \"fai_torta_printolosa\", \"globals\": {\"fai_torta_printolosa\": [\"REF\", 1]}, \"ordered_globals\": [\"fai_torta_printolosa\"], \"stack_to_render\": [{\"func_name\": \"fai_torta_printolosa\", \"is_parent\": false, \"frame_id\": 1, \"parent_frame_id_list\": [], \"encoded_locals\": {\"latte\": [\"SPECIAL_FLOAT\", \"5.0\"], \"farina\": 0.2}, \"ordered_varnames\": [\"latte\", \"farina\"], \"is_zombie\": false, \"is_highlighted\": true, \"unique_hash\": \"fai_torta_printolosa_f1\"}], \"heap\": {\"1\": [\"FUNCTION\", \"fai_torta_printolosa(latte, farina)\", null]}, \"stdout\": \"Non ho abbastanza farina !\\n\"}, {\"line\": 14, \"event\": \"step_line\", \"func_name\": \"fai_torta_printolosa\", \"globals\": {\"fai_torta_printolosa\": [\"REF\", 1]}, \"ordered_globals\": [\"fai_torta_printolosa\"], \"stack_to_render\": [{\"func_name\": \"fai_torta_printolosa\", \"is_parent\": false, \"frame_id\": 1, \"parent_frame_id_list\": [], \"encoded_locals\": {\"latte\": [\"SPECIAL_FLOAT\", \"5.0\"], \"farina\": 0.2}, \"ordered_varnames\": [\"latte\", \"farina\"], \"is_zombie\": false, \"is_highlighted\": true, \"unique_hash\": \"fai_torta_printolosa_f1\"}], \"heap\": {\"1\": [\"FUNCTION\", \"fai_torta_printolosa(latte, farina)\", null]}, \"stdout\": \"Non ho abbastanza farina !\\nImpasto\\n\"}, {\"line\": 15, \"event\": \"step_line\", \"func_name\": \"fai_torta_printolosa\", \"globals\": {\"fai_torta_printolosa\": [\"REF\", 1]}, \"ordered_globals\": [\"fai_torta_printolosa\"], \"stack_to_render\": [{\"func_name\": \"fai_torta_printolosa\", \"is_parent\": false, \"frame_id\": 1, \"parent_frame_id_list\": [], \"encoded_locals\": {\"latte\": [\"SPECIAL_FLOAT\", \"5.0\"], \"farina\": 0.2}, \"ordered_varnames\": [\"latte\", \"farina\"], \"is_zombie\": false, \"is_highlighted\": true, \"unique_hash\": \"fai_torta_printolosa_f1\"}], \"heap\": {\"1\": [\"FUNCTION\", \"fai_torta_printolosa(latte, farina)\", null]}, \"stdout\": \"Non ho abbastanza farina !\\nImpasto\\nScaldo\\n\"}, {\"line\": 15, \"event\": \"return\", \"func_name\": \"fai_torta_printolosa\", \"globals\": {\"fai_torta_printolosa\": [\"REF\", 1]}, \"ordered_globals\": [\"fai_torta_printolosa\"], \"stack_to_render\": [{\"func_name\": \"fai_torta_printolosa\", \"is_parent\": false, \"frame_id\": 1, \"parent_frame_id_list\": [], \"encoded_locals\": {\"latte\": [\"SPECIAL_FLOAT\", \"5.0\"], \"farina\": 0.2, \"__return__\": null}, \"ordered_varnames\": [\"latte\", \"farina\", \"__return__\"], \"is_zombie\": false, \"is_highlighted\": true, \"unique_hash\": \"fai_torta_printolosa_f1\"}], \"heap\": {\"1\": [\"FUNCTION\", \"fai_torta_printolosa(latte, farina)\", null]}, \"stdout\": \"Non ho abbastanza farina !\\nImpasto\\nScaldo\\nHo fatto la torta !\\n\"}, {\"line\": 19, \"event\": \"step_line\", \"func_name\": \"<module>\", \"globals\": {\"fai_torta_printolosa\": [\"REF\", 1]}, \"ordered_globals\": [\"fai_torta_printolosa\"], \"stack_to_render\": [], \"heap\": {\"1\": [\"FUNCTION\", \"fai_torta_printolosa(latte, farina)\", null]}, \"stdout\": \"Non ho abbastanza farina !\\nImpasto\\nScaldo\\nHo fatto la torta !\\n\"}, {\"line\": 19, \"event\": \"return\", \"func_name\": \"<module>\", \"globals\": {\"fai_torta_printolosa\": [\"REF\", 1]}, \"ordered_globals\": [\"fai_torta_printolosa\"], \"stack_to_render\": [], \"heap\": {\"1\": [\"FUNCTION\", \"fai_torta_printolosa(latte, farina)\", null]}, \"stdout\": \"Non ho abbastanza farina !\\nImpasto\\nScaldo\\nHo fatto la torta !\\nFesteggia!\\n\"}]}\n",
       "        </script>\n",
       "        <div id=\"jm-583adae4ff959283f9a90632e38bd197-4\" class=\"pytutorVisualizer\"> </div>\n",
       "                            \n",
       "        <script>\n",
       "                          \n",
       "        var jmRenderPytut = function(trace_id, div_id, config){\n",
       "            console.log(\"jupman.py embedded javascript: rendering Python tutor visualizer...\")\n",
       "            \n",
       "            let oldAlert = window.alert;\n",
       "            window.alert = function ( text ) { \n",
       "                console.log( 'tried to alert: ', text );         \n",
       "                return true; \n",
       "            };\n",
       "            let executionVisualizer = null;\n",
       "            try {\n",
       "            \n",
       "                var trace = JSON.parse(document.getElementById(trace_id).innerHTML);                                        \n",
       "                // NOTE: id without #\n",
       "                        \n",
       "                executionVisualizer = addVisualizerToPage(trace, div_id, config);\n",
       "                // hack in case visualizer decides to hide them for no good reason\n",
       "                $('#' + div_id + ' #jmpFirstInstr').show();\n",
       "                $('#' + div_id + ' #jmpLastInstr').show();\n",
       "                \n",
       "                // set overflow for pytuts - need to do in python as css \n",
       "                // does not allow parent selection\n",
       "                var pytuts = $('.pytutorVisualizer');\n",
       "                pytuts.closest('div.output_html.rendered_html.output_result')\n",
       "                        .css('overflow-x', 'visible');\n",
       "            \n",
       "                //pytuts.closest('div.output_html.rendered_html.output_result')\n",
       "                //      .css('background-color','red');                \n",
       "            } catch (error) {\n",
       "                console.error(\"jupman slides: Couldn't visualize Python tutor properly\", error);\n",
       "            }\n",
       "            window.alert = oldAlert;\n",
       "            return executionVisualizer;\n",
       "            \n",
       "        };\n",
       "        </script>\n",
       "        \n",
       "        <script>\n",
       "        var pytut_cfg_583adae4ff959283f9a90632e38bd197_4 = (function(){\n",
       "            var rootFontSize = window.getComputedStyle(document.body).getPropertyValue('font-size');\n",
       "            var rootFontSizeNum = 12;\n",
       "            if (rootFontSize.endsWith('px')){\n",
       "                rootFontSizeNum = Number(rootFontSize.substring(0, rootFontSize.length-2));\n",
       "            } else {\n",
       "                console.error(\"Unrecognized font unit:\", rootFontSize, \"assuming default\", rootFontSizeNum);\n",
       "            }\n",
       "            console.log('rootFontSize', rootFontSize);\n",
       "            \n",
       "            var codeWidthInChars = Math.max(23, 43);\n",
       "            if (35){\n",
       "                codeWidthInChars = 35;    // override\n",
       "            }\n",
       "            return {'embeddedMode' : false,\n",
       "                  'disableHeapNesting': true,\n",
       "                  'visualizerIdOverride':'viz-jm-583adae4ff959283f9a90632e38bd197-4',\n",
       "                  'codeDivWidth': Math.trunc(rootFontSizeNum * codeWidthInChars)\n",
       "                  };\n",
       "        })();                 \n",
       "        \n",
       "        jmRenderPytut('trace-jm-583adae4ff959283f9a90632e38bd197-4', 'jm-583adae4ff959283f9a90632e38bd197-4', pytut_cfg_583adae4ff959283f9a90632e38bd197_4);\n",
       "        </script>\n",
       "                \n",
       "    \n",
       "    <div style=\"text-align:center; font-size:0.9em\"> <a href=\"https://pythontutor.com/visualize.html#mode=edit\" target=\"_blank\">Python Tutor</a> visualization</div> \n",
       "    "
      ],
      "text/plain": [
       "<IPython.core.display.HTML object>"
      ]
     },
     "execution_count": 2,
     "metadata": {},
     "output_type": "execute_result"
    }
   ],
   "source": []
  },
  {
   "cell_type": "markdown",
   "id": "67b2be51",
   "metadata": {
    "slideshow": {
     "slide_type": "subslide"
    }
   },
   "source": [
    "### Torta eccezionale: solo il meglio"
   ]
  },
  {
   "cell_type": "markdown",
   "id": "cd45a317",
   "metadata": {
    "slideshow": {
     "slide_type": "-"
    }
   },
   "source": [
    "```python\n",
    "def fai_torta_eccezionale(latte, farina):\n",
    "    \"\"\" Prende ingredienti float \n",
    "        e STAMPA il procedimento\n",
    "        \n",
    "        - servono almeno 1.3 kg per il latte \n",
    "          e 1.0kg per la farina\n",
    "        - se mancano ingredienti, lancia Exception\n",
    "    \"\"\" \n",
    "    if latte < 1.3:\n",
    "        raise Exception(\"Non ho abbastanza latte !\")\n",
    "    if farina < 1.0:\n",
    "        raise Exception(\"Non ho abbastanza farina !\")\n",
    "    print(\"Impasto\")\n",
    "    print(\"Scaldo\")\n",
    "    print(\"Ho fatto la torta !\")\n",
    "    \n",
    "fai_torta_eccezionale(5,0.2)\n",
    "print(\"Festeggia\")    \n",
    "```"
   ]
  },
  {
   "cell_type": "markdown",
   "id": "6ade3ae8",
   "metadata": {},
   "source": [
    "### Guarda in [Python Tutor](https://pythontutor.com/render.html#code=def%20fai_torta_eccezionale%28latte,%20farina%29%3A%0A%20%20%20%20%22%22%22%20Prende%20ingredienti%20come%20float%20%0A%20%20%20%20%20%20%20%20e%20STAMPA%20il%20procedimento%0A%20%20%20%20%20%20%20%20%0A%20%20%20%20%20%20%20%20-%20servono%20almeno%201.3%20kg%20per%20il%20latte%20%0A%20%20%20%20%20%20%20%20%20%20e%201.0kg%20per%20la%20farina%0A%20%20%20%20%20%20%20%20-%20se%20mancano%20ingredienti,%20lancia%20Exception%0A%20%20%20%20%22%22%22%20%0A%20%20%20%20if%20latte%20%3C%201.3%3A%0A%20%20%20%20%20%20%20%20raise%20Exception%28%22Non%20ho%20abbastanza%20latte%20!%22%29%0A%20%20%20%20if%20farina%20%3C%201.0%3A%0A%20%20%20%20%20%20%20%20raise%20Exception%28%22Non%20ho%20abbastanza%20farina%20!%22%29%0A%20%20%20%20print%28%22Impasto%22%29%0A%20%20%20%20print%28%22Scaldo%22%29%0A%20%20%20%20print%28%22Ho%20fatto%20la%20torta%20!%22%29%0A%20%20%20%20%0Afai_torta_eccezionale%285,0.2%29%0Aprint%28%22Festeggia%22%29&cumulative=false&curInstr=0&heapPrimitives=nevernest&mode=display&origin=opt-frontend.js&py=3&rawInputLstJSON=%5B%5D&textReferences=false)"
   ]
  },
  {
   "cell_type": "markdown",
   "id": "542f7f70",
   "metadata": {
    "slideshow": {
     "slide_type": "subslide"
    }
   },
   "source": [
    "### Gestire le eccezioni\n",
    "\n",
    "Se c'è una sezione di codice problematica 'che può scoppiare'...\n",
    "\n",
    "la si può mettere in un blocco `try` `except` così:"
   ]
  },
  {
   "cell_type": "code",
   "execution_count": 3,
   "id": "87fe6e6a",
   "metadata": {
    "slideshow": {
     "slide_type": "-"
    }
   },
   "outputs": [
    {
     "name": "stdout",
     "output_type": "stream",
     "text": [
      "Non riesco a fare la torta, che ne dite se usciamo a prendere del gelato?\n",
      "Fine della festa\n"
     ]
    }
   ],
   "source": [
    "try: \n",
    "    fai_torta_eccezionale(5.0,0.2)\n",
    "    print(\"Festeggia\")\n",
    "except:  \n",
    "    print(\"Non riesco a fare la torta, che ne dite se usciamo a prendere del gelato?\")   \n",
    "\n",
    "print(\"Fine della festa\")"
   ]
  },
  {
   "cell_type": "markdown",
   "id": "9ba6c19c",
   "metadata": {
    "slideshow": {
     "slide_type": "subslide"
    }
   },
   "source": [
    "### Eccezioni particolari \n",
    "\n",
    "![gerarchia eccezioni](img/exception_hierarchy.png)\n",
    "\n",
    "Immagine da: Mike Lam, CS 240\n",
    "Data Structures and Algorithms - Fall 2014\n",
    "https://w3.cs.jmu.edu/spragunr/CS240_F14/activities/exceptions/exceptions.shtml"
   ]
  },
  {
   "cell_type": "markdown",
   "id": "af579490",
   "metadata": {
    "slideshow": {
     "slide_type": "subslide"
    }
   },
   "source": [
    "\n",
    "\n",
    "<table>\n",
    "<tr>\n",
    "<td width=\"30%\">\n",
    "\n",
    "### Torta particolare 1/2\n",
    "\n",
    "`ValueError` è una tipo di eccezione più specifico di `Exception`\n",
    "    \n",
    "possiamo usarla per segnalare meglio il tipo di errore che è accaduto,\n",
    "\n",
    "così chi chiama la funzione può intercettare solo quella tipologia di errore\n",
    "    \n",
    "[Guarda in Python Tutor](https://pythontutor.com/render.html#code=def%20fai_torta_particolare%28latte,%20farina%29%3A%0A%20%20%20%20%22%22%22%20Prende%20ingredienti%20come%20float%20%0A%20%20%20%20%20%20%20%20e%20STAMPA%20il%20procedimento%0A%20%20%20%20%20%20%20%20%0A%20%20%20%20%20%20%20%20-%20servono%20almeno%201.3%20kg%20per%20il%20latte%20%0A%20%20%20%20%20%20%20%20%20%20e%201.0kg%20per%20la%20farina%0A%20%20%20%20%20%20%20%20-%20se%20mancano%20ingredienti,%20lancia%20ValueError%0A%20%20%20%20%22%22%22%20%20%20%20%20%0A%20%20%20%20if%20latte%20%3C%201.3%3A%0A%20%20%20%20%20%20%20%20raise%20ValueError%28%22Non%20ho%20abbastanza%20latte%20!%22%29%20%20%20%20%0A%20%20%20%20if%20farina%20%3C%201.0%3A%0A%20%20%20%20%20%20%20%20raise%20ValueError%28%22Non%20ho%20abbastanza%20farina%20!%22%29%0A%20%20%20%20print%28%22Impasto%22%29%0A%20%20%20%20print%28%22Scaldo%22%29%0A%20%20%20%20print%28%22Ho%20fatto%20la%20torta%20!%22%29%0A%0Atry%3A%20%0A%20%20%20%20fai_torta_particolare%285,0.2%29%0A%20%20%20%20print%28%22Festeggia%22%29%0Aexcept%20ValueError%3A%20%20%20%20%20%0A%20%20%20%20print%28%22Mancano%20ingredienti!%22%29%20%20%20%0A%20%20%20%20print%28%22Proviamo%20a%20chiedere%20ai%20vicini!%22%29%0A%20%20%20%20print%28%22Ci%20hanno%20dato%20ingredienti,%20riproviamo%20!%22%29%20%20%20%20%0A%20%20%20%20fai_torta_particolare%286,4%29%20%0A%20%20%20%20print%28%22Festeggia%22%29%20%20%20%0Aprint%28%22Fine%20programma%22%29&cumulative=false&curInstr=0&heapPrimitives=nevernest&mode=display&origin=opt-frontend.js&py=3&rawInputLstJSON=%5B%5D&textReferences=false)\n",
    "</td>\n",
    "<td>\n",
    "\n",
    "```python\n",
    "def fai_torta_particolare(latte, farina):\n",
    "    \"\"\" Prende ingredienti come float \n",
    "        e STAMPA il procedimento\n",
    "        \n",
    "        - servono almeno 1.3 kg per il latte \n",
    "          e 1.0kg per la farina\n",
    "        - se mancano ingredienti, lancia ValueError\n",
    "    \"\"\"     \n",
    "    if latte < 1.3:\n",
    "        raise ValueError(\"Non ho abbastanza latte !\")    \n",
    "    if farina < 1.0:\n",
    "        raise ValueError(\"Non ho abbastanza farina !\")\n",
    "    print(\"Impasto\")\n",
    "    print(\"Scaldo\")\n",
    "    print(\"Ho fatto la torta !\")\n",
    "\n",
    "try: \n",
    "    fai_torta_particolare(5,0.2)\n",
    "    print(\"Festeggia\")\n",
    "except ValueError:     \n",
    "    print(\"Mancano ingredienti!\")   \n",
    "    print(\"Proviamo a chiedere ai vicini!\")\n",
    "    print(\"Ci hanno dato ingredienti, riproviamo !\")    \n",
    "    fai_torta_particolare(6,4) \n",
    "    print(\"Festeggia\")   \n",
    "print(\"Fine programma\")\n",
    "```\n",
    "</td>\n",
    "</tr>\n",
    "</table>"
   ]
  },
  {
   "cell_type": "code",
   "execution_count": 4,
   "id": "33a3a273",
   "metadata": {
    "slideshow": {
     "slide_type": "skip"
    }
   },
   "outputs": [
    {
     "name": "stdout",
     "output_type": "stream",
     "text": [
      "Mancano ingredienti!\n",
      "Proviamo a chiedere ai vicini!\n",
      "Ci hanno dato ingredienti, riproviamo !\n",
      "Impasto\n",
      "Scaldo\n",
      "Ho fatto la torta !\n",
      "Festeggia\n",
      "Fine programma\n"
     ]
    }
   ],
   "source": [
    "def fai_torta_particolare(latte, farina):\n",
    "    \"\"\" Prende ingredienti float \n",
    "        e STAMPA il procedimento\n",
    "        \n",
    "        - servono almeno 1.3 kg per il latte \n",
    "          e 1.0kg per la farina\n",
    "        - se mancano ingredienti, lancia ValueError\n",
    "    \"\"\"     \n",
    "    if latte < 1.3:\n",
    "        raise ValueError(\"Non ho abbastanza latte !\")    \n",
    "    if farina < 1.0:\n",
    "        raise ValueError(\"Non ho abbastanza farina !\")\n",
    "    print(\"Impasto\")\n",
    "    print(\"Scaldo\")\n",
    "    print(\"Ho fatto la torta !\")\n",
    "\n",
    "try: \n",
    "    fai_torta_particolare(5,0.2)\n",
    "    print(\"Festeggia\")\n",
    "except ValueError:     \n",
    "    print(\"Mancano ingredienti!\")   \n",
    "    print(\"Proviamo a chiedere ai vicini!\")\n",
    "    print(\"Ci hanno dato ingredienti, riproviamo !\")    \n",
    "    fai_torta_particolare(6,4) \n",
    "    print(\"Festeggia\")   \n",
    "print(\"Fine programma\")"
   ]
  },
  {
   "cell_type": "markdown",
   "id": "7cf6ca8f",
   "metadata": {
    "slideshow": {
     "slide_type": "subslide"
    }
   },
   "source": [
    "\n",
    "<table>\n",
    "<tr>\n",
    "<td width=\"20%\">\n",
    "\n",
    "### Torta particolare 2/2\n",
    "\n",
    "Se aggiungiamo la cattura di `Exception` _alla fine_, riusciamo a gestire \n",
    "_qualunque_ errore potrebbe accadere oltre a quelli già catturati precedentemente\n",
    "    \n",
    "**Guarda la chiamata di funzione. Noti qualcosa di strano?**\n",
    "    \n",
    "[Prova in Python Tutor](https://pythontutor.com/render.html#code=def%20fai_torta_particolare%28latte,%20farina%29%3A%0A%20%20%20%20%22%22%22%20Prende%20ingredienti%20come%20float%20%0A%20%20%20%20%20%20%20%20e%20STAMPA%20il%20procedimento%0A%20%20%20%20%20%20%20%20%0A%20%20%20%20%20%20%20%20-%20servono%20almeno%201.3%20kg%20per%20il%20latte%20%0A%20%20%20%20%20%20%20%20%20%20e%201.0kg%20per%20la%20farina%0A%20%20%20%20%20%20%20%20-%20se%20mancano%20ingredienti,%20lancia%20ValueError%0A%20%20%20%20%22%22%22%20%20%20%20%20%0A%20%20%20%20if%20latte%20%3C%201.3%3A%0A%20%20%20%20%20%20%20%20raise%20ValueError%28%22Non%20ho%20abbastanza%20latte%20!%22%29%20%20%20%20%0A%20%20%20%20if%20farina%20%3C%201.0%3A%0A%20%20%20%20%20%20%20%20raise%20ValueError%28%22Non%20ho%20abbastanza%20farina%20!%22%29%0A%20%20%20%20print%28%22Impasto%22%29%0A%20%20%20%20print%28%22Scaldo%22%29%0A%20%20%20%20print%28%22Ho%20fatto%20la%20torta%20!%22%29%0A%0Atry%3A%20%0A%20%20%20%20fai_torta_particolare%28%22rape%22,%22cavoli%22%29%20%23%20%3F%3F%3F%0A%20%20%20%20print%28%22Festeggia%22%29%0Aexcept%20ValueError%3A%20%20%20%20%20%0A%20%20%20%20print%28%22Mancano%20ingredienti!%22%29%20%20%20%0A%20%20%20%20print%28%22Proviamo%20a%20chiedere%20ai%20vicini!%22%29%0A%20%20%20%20print%28%22Ci%20hanno%20dato%20ingredienti,%20riproviamo%20!%22%29%20%20%20%20%0A%20%20%20%20fai_torta_particolare%286,4%29%20%0A%20%20%20%20print%28%22Festeggia%22%29%0Aexcept%20Exception%20as%20eccezione%3A%20%20%23%20gestisce%20tutte%20le%20altre%20eccezioni%0A%20%20%20%20print%28%22Ragazzi,%20%C3%A8%20successo%20un%20problema%20grave%3A%22,%20repr%28eccezione%29%29%20%20%20%20%0Aprint%28%22Fine%20programma%22%29&cumulative=false&curInstr=0&heapPrimitives=nevernest&mode=display&origin=opt-frontend.js&py=3&rawInputLstJSON=%5B%5D&textReferences=false)\n",
    "</td>\n",
    "<td>\n",
    "\n",
    "```python\n",
    "def fai_torta_particolare(latte, farina):\n",
    "    \"\"\" Prende ingredienti float \n",
    "        e STAMPA il procedimento\n",
    "        - servono almeno 1.3 kg per il latte \n",
    "          e 1.0kg per la farina\n",
    "        - se mancano ingredienti, lancia ValueError\n",
    "    \"\"\"     \n",
    "    if latte < 1.3:\n",
    "        raise ValueError(\"Non ho abbastanza latte !\")    \n",
    "    if farina < 1.0:\n",
    "        raise ValueError(\"Non ho abbastanza farina !\")\n",
    "    print(\"Impasto\")\n",
    "    print(\"Scaldo\")\n",
    "    print(\"Ho fatto la torta !\")\n",
    "\n",
    "try: \n",
    "    fai_torta_particolare(\"rape\",\"cavoli\") # ???\n",
    "    print(\"Festeggia\")\n",
    "except ValueError:     \n",
    "    print(\"Mancano ingredienti!\")   \n",
    "    print(\"Proviamo a chiedere ai vicini!\")\n",
    "    print(\"Ci hanno dato ingredienti, riproviamo !\")    \n",
    "    fai_torta_particolare(6,4) \n",
    "    print(\"Festeggia\")\n",
    "# gestisce tutte le altre eccezioni\n",
    "except Exception as eccezione:  \n",
    "    print(\"Ragazzi, è successo un problema grave:\",\n",
    "          repr(eccezione))    \n",
    "print(\"Fine programma\")\n",
    "```\n",
    "</td>\n",
    "</tr>\n",
    "</table>"
   ]
  },
  {
   "cell_type": "code",
   "execution_count": 5,
   "id": "2e4b3209",
   "metadata": {
    "slideshow": {
     "slide_type": "skip"
    }
   },
   "outputs": [
    {
     "name": "stdout",
     "output_type": "stream",
     "text": [
      "Ragazzi, è successo un problema grave: TypeError(\"'<' not supported between instances of 'str' and 'float'\")\n",
      "Fine programma\n"
     ]
    }
   ],
   "source": [
    "def fai_torta_particolare(latte, farina):\n",
    "    \"\"\" Prende ingredienti float \n",
    "        e STAMPA il procedimento\n",
    "        \n",
    "        - servono almeno 1.3 kg per il latte \n",
    "          e 1.0kg per la farina\n",
    "        - se mancano ingredienti, lancia ValueError\n",
    "    \"\"\"     \n",
    "    if latte < 1.3:\n",
    "        raise ValueError(\"Non ho abbastanza latte !\")    \n",
    "    if farina < 1.0:\n",
    "        raise ValueError(\"Non ho abbastanza farina !\")\n",
    "    print(\"Impasto\")\n",
    "    print(\"Scaldo\")\n",
    "    print(\"Ho fatto la torta !\")\n",
    "\n",
    "try: \n",
    "    fai_torta_particolare(\"rape\",\"cavoli\") # ???\n",
    "    print(\"Festeggia\")\n",
    "except ValueError:     \n",
    "    print(\"Mancano ingredienti!\")   \n",
    "    print(\"Proviamo a chiedere ai vicini!\")\n",
    "    print(\"Ci hanno dato ingredienti, riproviamo !\")    \n",
    "    fai_torta_particolare(6,4) \n",
    "    print(\"Festeggia\")\n",
    "# gestisce tutte le altre eccezioni    \n",
    "except Exception as eccezione:  \n",
    "    print(\"Ragazzi, è successo un problema grave:\", \n",
    "          repr(eccezione))    \n",
    "print(\"Fine programma\")"
   ]
  },
  {
   "cell_type": "markdown",
   "id": "9596cf83",
   "metadata": {
    "slideshow": {
     "slide_type": "slide"
    }
   },
   "source": [
    "## assert"
   ]
  },
  {
   "cell_type": "markdown",
   "id": "5e3774b3",
   "metadata": {},
   "source": [
    "Per testare il codice, si può usare il comando `assert`\n",
    "\n",
    "`assert` CONDIZIONE\n",
    "\n",
    "verifica che CONDIZIONE sia vera\n",
    "\n"
   ]
  },
  {
   "cell_type": "markdown",
   "id": "e1c96996",
   "metadata": {
    "slideshow": {
     "slide_type": "subslide"
    }
   },
   "source": [
    "### `assert True` "
   ]
  },
  {
   "cell_type": "code",
   "execution_count": 6,
   "id": "a20bd001",
   "metadata": {
    "slideshow": {
     "slide_type": "-"
    }
   },
   "outputs": [
    {
     "name": "stdout",
     "output_type": "stream",
     "text": [
      "PRIMA\n",
      "DOPO\n"
     ]
    }
   ],
   "source": [
    "print(\"PRIMA\")\n",
    "assert True\n",
    "print(\"DOPO\")"
   ]
  },
  {
   "cell_type": "markdown",
   "id": "a3ae5b26",
   "metadata": {
    "slideshow": {
     "slide_type": "fragment"
    }
   },
   "source": [
    "non fa assolutamente niente!"
   ]
  },
  {
   "cell_type": "markdown",
   "id": "fd47ba93",
   "metadata": {
    "slideshow": {
     "slide_type": "subslide"
    }
   },
   "source": [
    "### `assert False` \n",
    "\n",
    "```python\n",
    "print(\"PRIMA\")\n",
    "assert False\n",
    "print(\"DOPO\")\n",
    "```"
   ]
  },
  {
   "cell_type": "markdown",
   "id": "7402995f",
   "metadata": {},
   "source": [
    "```bash\n",
    "PRIMA\n",
    "---------------------------------------------------------------------------\n",
    "AssertionError                            Traceback (most recent call last)\n",
    "<ipython-input-7-a871fdc9ebee> in <module>()\n",
    "----> 1 assert False\n",
    "\n",
    "AssertionError: \n",
    "```"
   ]
  },
  {
   "cell_type": "markdown",
   "id": "1b4da894",
   "metadata": {
    "slideshow": {
     "slide_type": "fragment"
    }
   },
   "source": [
    "- blocca l'esecuzione del programma"
   ]
  },
  {
   "cell_type": "markdown",
   "id": "9fdcee11",
   "metadata": {
    "slideshow": {
     "slide_type": "fragment"
    }
   },
   "source": [
    "- lancia un'eccezione di tipo `AssertionError` "
   ]
  },
  {
   "cell_type": "markdown",
   "id": "5b31346a",
   "metadata": {
    "slideshow": {
     "slide_type": "fragment"
    }
   },
   "source": [
    "- nota come `\"dopo\"` non venga stampato"
   ]
  },
  {
   "cell_type": "markdown",
   "id": "3a9ad17f",
   "metadata": {
    "slideshow": {
     "slide_type": "subslide"
    }
   },
   "source": [
    "## Esempio `assert`\n",
    "\n",
    "Se a un certo punto del programma:\n",
    "\n",
    "- voglio usare della `farina`\n",
    "- mi aspetto di avere almeno 1 chilo\n",
    "- in caso contrario voglio interrompere l'esecuzione\n",
    "\n",
    "posso scrivere così:\n",
    "\n",
    "```python\n",
    "assert farina > 1.0\n",
    "```"
   ]
  },
  {
   "cell_type": "markdown",
   "id": "d37880dd",
   "metadata": {
    "slideshow": {
     "slide_type": "subslide"
    }
   },
   "source": [
    "### Una torta assertiva"
   ]
  },
  {
   "cell_type": "code",
   "execution_count": 7,
   "id": "81034089-stripped",
   "metadata": {
    "slideshow": {
     "slide_type": "-"
    }
   },
   "outputs": [
    {
     "data": {
      "text/html": [
       "        \n",
       "        <script src=\"_static/js/pytutor-embed.bundle.min.js\" #type=\"application/javascript\"></script>\n",
       "    \n",
       "        <style>\n",
       "        @import \"_static/css/jupman.css\";\n",
       "        </style>\n",
       "     \n",
       "        <script id=\"trace-jm-0e22a6f95938a9f9dcb6733192b42b59-9\" type=\"application/json\" >\n",
       "            {\"code\": \" \\ndef fai_torta_assertiva(latte, farina):\\n    \\\"\\\"\\\" Prende ingredienti float \\n        e STAMPA il procedimento\\n        - servono 1.3 kg per il latte \\n          e 1.0kg per la farina        \\n    \\\"\\\"\\\"    \\n    assert latte >= 1.3\\n    assert farina >= 1.0\\n        \\n    print(\\\"Impasto\\\")\\n    print(\\\"Scaldo\\\")\\n    print(\\\"Ho fatto la torta !\\\")\\n\\ntry: \\n    fai_torta_assertiva(5.0, 0.2) # ???\\n    print(\\\"Festeggia\\\")\\nexcept AssertionError:     \\n    print(\\\"Mancano ingredienti!\\\")   \\n    print(\\\"Proviamo a chiedere ai vicini!\\\")\\n    print(\\\"Ci hanno dato ingredienti, riproviamo !\\\")    \\n    fai_torta_assertiva(6,4) \\n    print(\\\"Festeggia\\\")\", \"trace\": [{\"line\": 2, \"event\": \"step_line\", \"func_name\": \"<module>\", \"globals\": {}, \"ordered_globals\": [], \"stack_to_render\": [], \"heap\": {}, \"stdout\": \"\"}, {\"line\": 15, \"event\": \"step_line\", \"func_name\": \"<module>\", \"globals\": {\"fai_torta_assertiva\": [\"REF\", 1]}, \"ordered_globals\": [\"fai_torta_assertiva\"], \"stack_to_render\": [], \"heap\": {\"1\": [\"FUNCTION\", \"fai_torta_assertiva(latte, farina)\", null]}, \"stdout\": \"\"}, {\"line\": 16, \"event\": \"step_line\", \"func_name\": \"<module>\", \"globals\": {\"fai_torta_assertiva\": [\"REF\", 1]}, \"ordered_globals\": [\"fai_torta_assertiva\"], \"stack_to_render\": [], \"heap\": {\"1\": [\"FUNCTION\", \"fai_torta_assertiva(latte, farina)\", null]}, \"stdout\": \"\"}, {\"line\": 2, \"event\": \"call\", \"func_name\": \"fai_torta_assertiva\", \"globals\": {\"fai_torta_assertiva\": [\"REF\", 1]}, \"ordered_globals\": [\"fai_torta_assertiva\"], \"stack_to_render\": [{\"func_name\": \"fai_torta_assertiva\", \"is_parent\": false, \"frame_id\": 1, \"parent_frame_id_list\": [], \"encoded_locals\": {\"latte\": [\"SPECIAL_FLOAT\", \"5.0\"], \"farina\": 0.2}, \"ordered_varnames\": [\"latte\", \"farina\"], \"is_zombie\": false, \"is_highlighted\": true, \"unique_hash\": \"fai_torta_assertiva_f1\"}], \"heap\": {\"1\": [\"FUNCTION\", \"fai_torta_assertiva(latte, farina)\", null]}, \"stdout\": \"\"}, {\"line\": 8, \"event\": \"step_line\", \"func_name\": \"fai_torta_assertiva\", \"globals\": {\"fai_torta_assertiva\": [\"REF\", 1]}, \"ordered_globals\": [\"fai_torta_assertiva\"], \"stack_to_render\": [{\"func_name\": \"fai_torta_assertiva\", \"is_parent\": false, \"frame_id\": 1, \"parent_frame_id_list\": [], \"encoded_locals\": {\"latte\": [\"SPECIAL_FLOAT\", \"5.0\"], \"farina\": 0.2}, \"ordered_varnames\": [\"latte\", \"farina\"], \"is_zombie\": false, \"is_highlighted\": true, \"unique_hash\": \"fai_torta_assertiva_f1\"}], \"heap\": {\"1\": [\"FUNCTION\", \"fai_torta_assertiva(latte, farina)\", null]}, \"stdout\": \"\"}, {\"line\": 9, \"event\": \"step_line\", \"func_name\": \"fai_torta_assertiva\", \"globals\": {\"fai_torta_assertiva\": [\"REF\", 1]}, \"ordered_globals\": [\"fai_torta_assertiva\"], \"stack_to_render\": [{\"func_name\": \"fai_torta_assertiva\", \"is_parent\": false, \"frame_id\": 1, \"parent_frame_id_list\": [], \"encoded_locals\": {\"latte\": [\"SPECIAL_FLOAT\", \"5.0\"], \"farina\": 0.2}, \"ordered_varnames\": [\"latte\", \"farina\"], \"is_zombie\": false, \"is_highlighted\": true, \"unique_hash\": \"fai_torta_assertiva_f1\"}], \"heap\": {\"1\": [\"FUNCTION\", \"fai_torta_assertiva(latte, farina)\", null]}, \"stdout\": \"\"}, {\"line\": 9, \"event\": \"exception\", \"func_name\": \"fai_torta_assertiva\", \"globals\": {\"fai_torta_assertiva\": [\"REF\", 1]}, \"ordered_globals\": [\"fai_torta_assertiva\"], \"stack_to_render\": [{\"func_name\": \"fai_torta_assertiva\", \"is_parent\": false, \"frame_id\": 1, \"parent_frame_id_list\": [], \"encoded_locals\": {\"latte\": [\"SPECIAL_FLOAT\", \"5.0\"], \"farina\": 0.2}, \"ordered_varnames\": [\"latte\", \"farina\"], \"is_zombie\": false, \"is_highlighted\": true, \"unique_hash\": \"fai_torta_assertiva_f1\"}], \"heap\": {\"1\": [\"FUNCTION\", \"fai_torta_assertiva(latte, farina)\", null]}, \"stdout\": \"\", \"exception_msg\": \"AssertionError: \"}, {\"line\": 9, \"event\": \"return\", \"func_name\": \"fai_torta_assertiva\", \"globals\": {\"fai_torta_assertiva\": [\"REF\", 1]}, \"ordered_globals\": [\"fai_torta_assertiva\"], \"stack_to_render\": [{\"func_name\": \"fai_torta_assertiva\", \"is_parent\": false, \"frame_id\": 1, \"parent_frame_id_list\": [], \"encoded_locals\": {\"latte\": [\"SPECIAL_FLOAT\", \"5.0\"], \"farina\": 0.2, \"__return__\": null}, \"ordered_varnames\": [\"latte\", \"farina\", \"__return__\"], \"is_zombie\": false, \"is_highlighted\": true, \"unique_hash\": \"fai_torta_assertiva_f1\"}], \"heap\": {\"1\": [\"FUNCTION\", \"fai_torta_assertiva(latte, farina)\", null]}, \"stdout\": \"\"}, {\"line\": 16, \"event\": \"exception\", \"func_name\": \"<module>\", \"globals\": {\"fai_torta_assertiva\": [\"REF\", 1]}, \"ordered_globals\": [\"fai_torta_assertiva\"], \"stack_to_render\": [], \"heap\": {\"1\": [\"FUNCTION\", \"fai_torta_assertiva(latte, farina)\", null]}, \"stdout\": \"\", \"exception_msg\": \"AssertionError: \"}, {\"line\": 18, \"event\": \"step_line\", \"func_name\": \"<module>\", \"globals\": {\"fai_torta_assertiva\": [\"REF\", 1]}, \"ordered_globals\": [\"fai_torta_assertiva\"], \"stack_to_render\": [], \"heap\": {\"1\": [\"FUNCTION\", \"fai_torta_assertiva(latte, farina)\", null]}, \"stdout\": \"\"}, {\"line\": 19, \"event\": \"step_line\", \"func_name\": \"<module>\", \"globals\": {\"fai_torta_assertiva\": [\"REF\", 1]}, \"ordered_globals\": [\"fai_torta_assertiva\"], \"stack_to_render\": [], \"heap\": {\"1\": [\"FUNCTION\", \"fai_torta_assertiva(latte, farina)\", null]}, \"stdout\": \"\"}, {\"line\": 20, \"event\": \"step_line\", \"func_name\": \"<module>\", \"globals\": {\"fai_torta_assertiva\": [\"REF\", 1]}, \"ordered_globals\": [\"fai_torta_assertiva\"], \"stack_to_render\": [], \"heap\": {\"1\": [\"FUNCTION\", \"fai_torta_assertiva(latte, farina)\", null]}, \"stdout\": \"Mancano ingredienti!\\n\"}, {\"line\": 21, \"event\": \"step_line\", \"func_name\": \"<module>\", \"globals\": {\"fai_torta_assertiva\": [\"REF\", 1]}, \"ordered_globals\": [\"fai_torta_assertiva\"], \"stack_to_render\": [], \"heap\": {\"1\": [\"FUNCTION\", \"fai_torta_assertiva(latte, farina)\", null]}, \"stdout\": \"Mancano ingredienti!\\nProviamo a chiedere ai vicini!\\n\"}, {\"line\": 22, \"event\": \"step_line\", \"func_name\": \"<module>\", \"globals\": {\"fai_torta_assertiva\": [\"REF\", 1]}, \"ordered_globals\": [\"fai_torta_assertiva\"], \"stack_to_render\": [], \"heap\": {\"1\": [\"FUNCTION\", \"fai_torta_assertiva(latte, farina)\", null]}, \"stdout\": \"Mancano ingredienti!\\nProviamo a chiedere ai vicini!\\nCi hanno dato ingredienti, riproviamo !\\n\"}, {\"line\": 2, \"event\": \"call\", \"func_name\": \"fai_torta_assertiva\", \"globals\": {\"fai_torta_assertiva\": [\"REF\", 1]}, \"ordered_globals\": [\"fai_torta_assertiva\"], \"stack_to_render\": [{\"func_name\": \"fai_torta_assertiva\", \"is_parent\": false, \"frame_id\": 2, \"parent_frame_id_list\": [], \"encoded_locals\": {\"latte\": 6, \"farina\": 4}, \"ordered_varnames\": [\"latte\", \"farina\"], \"is_zombie\": false, \"is_highlighted\": true, \"unique_hash\": \"fai_torta_assertiva_f2\"}], \"heap\": {\"1\": [\"FUNCTION\", \"fai_torta_assertiva(latte, farina)\", null]}, \"stdout\": \"Mancano ingredienti!\\nProviamo a chiedere ai vicini!\\nCi hanno dato ingredienti, riproviamo !\\n\"}, {\"line\": 8, \"event\": \"step_line\", \"func_name\": \"fai_torta_assertiva\", \"globals\": {\"fai_torta_assertiva\": [\"REF\", 1]}, \"ordered_globals\": [\"fai_torta_assertiva\"], \"stack_to_render\": [{\"func_name\": \"fai_torta_assertiva\", \"is_parent\": false, \"frame_id\": 2, \"parent_frame_id_list\": [], \"encoded_locals\": {\"latte\": 6, \"farina\": 4}, \"ordered_varnames\": [\"latte\", \"farina\"], \"is_zombie\": false, \"is_highlighted\": true, \"unique_hash\": \"fai_torta_assertiva_f2\"}], \"heap\": {\"1\": [\"FUNCTION\", \"fai_torta_assertiva(latte, farina)\", null]}, \"stdout\": \"Mancano ingredienti!\\nProviamo a chiedere ai vicini!\\nCi hanno dato ingredienti, riproviamo !\\n\"}, {\"line\": 9, \"event\": \"step_line\", \"func_name\": \"fai_torta_assertiva\", \"globals\": {\"fai_torta_assertiva\": [\"REF\", 1]}, \"ordered_globals\": [\"fai_torta_assertiva\"], \"stack_to_render\": [{\"func_name\": \"fai_torta_assertiva\", \"is_parent\": false, \"frame_id\": 2, \"parent_frame_id_list\": [], \"encoded_locals\": {\"latte\": 6, \"farina\": 4}, \"ordered_varnames\": [\"latte\", \"farina\"], \"is_zombie\": false, \"is_highlighted\": true, \"unique_hash\": \"fai_torta_assertiva_f2\"}], \"heap\": {\"1\": [\"FUNCTION\", \"fai_torta_assertiva(latte, farina)\", null]}, \"stdout\": \"Mancano ingredienti!\\nProviamo a chiedere ai vicini!\\nCi hanno dato ingredienti, riproviamo !\\n\"}, {\"line\": 11, \"event\": \"step_line\", \"func_name\": \"fai_torta_assertiva\", \"globals\": {\"fai_torta_assertiva\": [\"REF\", 1]}, \"ordered_globals\": [\"fai_torta_assertiva\"], \"stack_to_render\": [{\"func_name\": \"fai_torta_assertiva\", \"is_parent\": false, \"frame_id\": 2, \"parent_frame_id_list\": [], \"encoded_locals\": {\"latte\": 6, \"farina\": 4}, \"ordered_varnames\": [\"latte\", \"farina\"], \"is_zombie\": false, \"is_highlighted\": true, \"unique_hash\": \"fai_torta_assertiva_f2\"}], \"heap\": {\"1\": [\"FUNCTION\", \"fai_torta_assertiva(latte, farina)\", null]}, \"stdout\": \"Mancano ingredienti!\\nProviamo a chiedere ai vicini!\\nCi hanno dato ingredienti, riproviamo !\\n\"}, {\"line\": 12, \"event\": \"step_line\", \"func_name\": \"fai_torta_assertiva\", \"globals\": {\"fai_torta_assertiva\": [\"REF\", 1]}, \"ordered_globals\": [\"fai_torta_assertiva\"], \"stack_to_render\": [{\"func_name\": \"fai_torta_assertiva\", \"is_parent\": false, \"frame_id\": 2, \"parent_frame_id_list\": [], \"encoded_locals\": {\"latte\": 6, \"farina\": 4}, \"ordered_varnames\": [\"latte\", \"farina\"], \"is_zombie\": false, \"is_highlighted\": true, \"unique_hash\": \"fai_torta_assertiva_f2\"}], \"heap\": {\"1\": [\"FUNCTION\", \"fai_torta_assertiva(latte, farina)\", null]}, \"stdout\": \"Mancano ingredienti!\\nProviamo a chiedere ai vicini!\\nCi hanno dato ingredienti, riproviamo !\\nImpasto\\n\"}, {\"line\": 13, \"event\": \"step_line\", \"func_name\": \"fai_torta_assertiva\", \"globals\": {\"fai_torta_assertiva\": [\"REF\", 1]}, \"ordered_globals\": [\"fai_torta_assertiva\"], \"stack_to_render\": [{\"func_name\": \"fai_torta_assertiva\", \"is_parent\": false, \"frame_id\": 2, \"parent_frame_id_list\": [], \"encoded_locals\": {\"latte\": 6, \"farina\": 4}, \"ordered_varnames\": [\"latte\", \"farina\"], \"is_zombie\": false, \"is_highlighted\": true, \"unique_hash\": \"fai_torta_assertiva_f2\"}], \"heap\": {\"1\": [\"FUNCTION\", \"fai_torta_assertiva(latte, farina)\", null]}, \"stdout\": \"Mancano ingredienti!\\nProviamo a chiedere ai vicini!\\nCi hanno dato ingredienti, riproviamo !\\nImpasto\\nScaldo\\n\"}, {\"line\": 13, \"event\": \"return\", \"func_name\": \"fai_torta_assertiva\", \"globals\": {\"fai_torta_assertiva\": [\"REF\", 1]}, \"ordered_globals\": [\"fai_torta_assertiva\"], \"stack_to_render\": [{\"func_name\": \"fai_torta_assertiva\", \"is_parent\": false, \"frame_id\": 2, \"parent_frame_id_list\": [], \"encoded_locals\": {\"latte\": 6, \"farina\": 4, \"__return__\": null}, \"ordered_varnames\": [\"latte\", \"farina\", \"__return__\"], \"is_zombie\": false, \"is_highlighted\": true, \"unique_hash\": \"fai_torta_assertiva_f2\"}], \"heap\": {\"1\": [\"FUNCTION\", \"fai_torta_assertiva(latte, farina)\", null]}, \"stdout\": \"Mancano ingredienti!\\nProviamo a chiedere ai vicini!\\nCi hanno dato ingredienti, riproviamo !\\nImpasto\\nScaldo\\nHo fatto la torta !\\n\"}, {\"line\": 23, \"event\": \"step_line\", \"func_name\": \"<module>\", \"globals\": {\"fai_torta_assertiva\": [\"REF\", 1]}, \"ordered_globals\": [\"fai_torta_assertiva\"], \"stack_to_render\": [], \"heap\": {\"1\": [\"FUNCTION\", \"fai_torta_assertiva(latte, farina)\", null]}, \"stdout\": \"Mancano ingredienti!\\nProviamo a chiedere ai vicini!\\nCi hanno dato ingredienti, riproviamo !\\nImpasto\\nScaldo\\nHo fatto la torta !\\n\"}, {\"line\": 23, \"event\": \"return\", \"func_name\": \"<module>\", \"globals\": {\"fai_torta_assertiva\": [\"REF\", 1]}, \"ordered_globals\": [\"fai_torta_assertiva\"], \"stack_to_render\": [], \"heap\": {\"1\": [\"FUNCTION\", \"fai_torta_assertiva(latte, farina)\", null]}, \"stdout\": \"Mancano ingredienti!\\nProviamo a chiedere ai vicini!\\nCi hanno dato ingredienti, riproviamo !\\nImpasto\\nScaldo\\nHo fatto la torta !\\nFesteggia\\n\"}]}\n",
       "        </script>\n",
       "        <div id=\"jm-0e22a6f95938a9f9dcb6733192b42b59-9\" class=\"pytutorVisualizer\"> </div>\n",
       "                            \n",
       "        <script>\n",
       "                          \n",
       "        var jmRenderPytut = function(trace_id, div_id, config){\n",
       "            console.log(\"jupman.py embedded javascript: rendering Python tutor visualizer...\")\n",
       "            \n",
       "            let oldAlert = window.alert;\n",
       "            window.alert = function ( text ) { \n",
       "                console.log( 'tried to alert: ', text );         \n",
       "                return true; \n",
       "            };\n",
       "            let executionVisualizer = null;\n",
       "            try {\n",
       "            \n",
       "                var trace = JSON.parse(document.getElementById(trace_id).innerHTML);                                        \n",
       "                // NOTE: id without #\n",
       "                        \n",
       "                executionVisualizer = addVisualizerToPage(trace, div_id, config);\n",
       "                // hack in case visualizer decides to hide them for no good reason\n",
       "                $('#' + div_id + ' #jmpFirstInstr').show();\n",
       "                $('#' + div_id + ' #jmpLastInstr').show();\n",
       "                \n",
       "                // set overflow for pytuts - need to do in python as css \n",
       "                // does not allow parent selection\n",
       "                var pytuts = $('.pytutorVisualizer');\n",
       "                pytuts.closest('div.output_html.rendered_html.output_result')\n",
       "                        .css('overflow-x', 'visible');\n",
       "            \n",
       "                //pytuts.closest('div.output_html.rendered_html.output_result')\n",
       "                //      .css('background-color','red');                \n",
       "            } catch (error) {\n",
       "                console.error(\"jupman slides: Couldn't visualize Python tutor properly\", error);\n",
       "            }\n",
       "            window.alert = oldAlert;\n",
       "            return executionVisualizer;\n",
       "            \n",
       "        };\n",
       "        </script>\n",
       "        \n",
       "        <script>\n",
       "        var pytut_cfg_0e22a6f95938a9f9dcb6733192b42b59_9 = (function(){\n",
       "            var rootFontSize = window.getComputedStyle(document.body).getPropertyValue('font-size');\n",
       "            var rootFontSizeNum = 12;\n",
       "            if (rootFontSize.endsWith('px')){\n",
       "                rootFontSizeNum = Number(rootFontSize.substring(0, rootFontSize.length-2));\n",
       "            } else {\n",
       "                console.error(\"Unrecognized font unit:\", rootFontSize, \"assuming default\", rootFontSizeNum);\n",
       "            }\n",
       "            console.log('rootFontSize', rootFontSize);\n",
       "            \n",
       "            var codeWidthInChars = Math.max(23, 56);\n",
       "            if (35){\n",
       "                codeWidthInChars = 35;    // override\n",
       "            }\n",
       "            return {'embeddedMode' : false,\n",
       "                  'disableHeapNesting': true,\n",
       "                  'visualizerIdOverride':'viz-jm-0e22a6f95938a9f9dcb6733192b42b59-9',\n",
       "                  'codeDivWidth': Math.trunc(rootFontSizeNum * codeWidthInChars)\n",
       "                  };\n",
       "        })();                 \n",
       "        \n",
       "        jmRenderPytut('trace-jm-0e22a6f95938a9f9dcb6733192b42b59-9', 'jm-0e22a6f95938a9f9dcb6733192b42b59-9', pytut_cfg_0e22a6f95938a9f9dcb6733192b42b59_9);\n",
       "        </script>\n",
       "                \n",
       "    \n",
       "    <div style=\"text-align:center; font-size:0.9em\"> <a href=\"https://pythontutor.com/visualize.html#mode=edit\" target=\"_blank\">Python Tutor</a> visualization</div> \n",
       "    "
      ],
      "text/plain": [
       "<IPython.core.display.HTML object>"
      ]
     },
     "execution_count": 7,
     "metadata": {},
     "output_type": "execute_result"
    }
   ],
   "source": []
  },
  {
   "cell_type": "markdown",
   "id": "fd3a1ac4",
   "metadata": {
    "slideshow": {
     "slide_type": "subslide"
    }
   },
   "source": [
    "### assert\n",
    "\n",
    "Pensati principalmente per _debuggare_, verificare condizioni 'al volo'"
   ]
  },
  {
   "cell_type": "markdown",
   "id": "d08af89b",
   "metadata": {
    "slideshow": {
     "slide_type": "fragment"
    }
   },
   "source": [
    "bello ma... e la performance?\n",
    "\n",
    "- esecuzione `assert` disabilitabile con `-O`\n",
    "\n",
    "```bash\n",
    "python -O mio_file.py\n",
    "```"
   ]
  },
  {
   "cell_type": "markdown",
   "id": "210c0508",
   "metadata": {
    "slideshow": {
     "slide_type": "subslide"
    }
   },
   "source": [
    "## `assert` vs `raise Exception()`"
   ]
  },
  {
   "cell_type": "markdown",
   "id": "06a9ce7b",
   "metadata": {
    "slideshow": {
     "slide_type": "-"
    }
   },
   "source": [
    "se volete solo debuggare (e magari disabilitare in seguito):\n",
    "\n",
    "\n",
    "```python\n",
    "assert farina >= 1.0\n",
    "```"
   ]
  },
  {
   "cell_type": "markdown",
   "id": "3c318b24",
   "metadata": {
    "slideshow": {
     "slide_type": "fragment"
    }
   },
   "source": [
    "per controlli che volete fare sempre:\n",
    "\n",
    "```python\n",
    "if not farina >= 1.0:\n",
    "    raise Exception(\"Manca la farina\")\n",
    "```"
   ]
  },
  {
   "cell_type": "markdown",
   "id": "d5fe61c8",
   "metadata": {
    "slideshow": {
     "slide_type": "slide"
    }
   },
   "source": [
    "## Perche testare?\n",
    "\n",
    "![dove è il tuo software](img/where-is-your-software.png)"
   ]
  },
  {
   "cell_type": "markdown",
   "id": "ec0e1284",
   "metadata": {
    "slideshow": {
     "slide_type": "subslide"
    }
   },
   "source": [
    "### Tutto a posto?"
   ]
  },
  {
   "cell_type": "code",
   "execution_count": 8,
   "id": "32ebad5b",
   "metadata": {
    "slideshow": {
     "slide_type": "-"
    }
   },
   "outputs": [
    {
     "name": "stdout",
     "output_type": "stream",
     "text": [
      "8\n",
      "6\n",
      "4\n"
     ]
    }
   ],
   "source": [
    "def somma(x, y):\n",
    "    \"\"\" Prende due numeri e RITORNA la loro somma\n",
    "    \"\"\"\n",
    "    s = x + 3\n",
    "    return s\n",
    "\n",
    "\n",
    "print(somma(5,3))\n",
    "print(somma(3,5)) \n",
    "print(somma(1,2)) "
   ]
  },
  {
   "cell_type": "markdown",
   "id": "f1897402",
   "metadata": {
    "slideshow": {
     "slide_type": "subslide"
    }
   },
   "source": [
    "### Più espliciti.."
   ]
  },
  {
   "cell_type": "code",
   "execution_count": 9,
   "id": "caafac2a",
   "metadata": {
    "slideshow": {
     "slide_type": "-"
    }
   },
   "outputs": [
    {
     "name": "stdout",
     "output_type": "stream",
     "text": [
      "8 mi attendo 8\n",
      "6 mi attendo 8\n",
      "4 mi attendo 3\n"
     ]
    }
   ],
   "source": [
    "def somma(x, y):\n",
    "    \"\"\" Prende due numeri e RITORNA la loro somma\n",
    "    \"\"\"\n",
    "    s = x + 3\n",
    "    return s\n",
    "\n",
    "\n",
    "print(somma(5,3), 'mi attendo 8')\n",
    "print(somma(3,5), 'mi attendo 8') \n",
    "print(somma(1,2), 'mi attendo 3') "
   ]
  },
  {
   "cell_type": "markdown",
   "id": "5db11754",
   "metadata": {
    "slideshow": {
     "slide_type": "subslide"
    }
   },
   "source": [
    "### Automatizzare con `assert`\n",
    "\n",
    "`assert` si può usare per _testare_ il codice\n",
    "\n",
    "#### [Guarda in Python Tutor](https://pythontutor.com/visualize.html#code=def%20somma%28x,%20y%29%3A%0A%20%20%20%20%22%22%22%20Prende%20due%20numeri%20e%20RITORNA%20la%20loro%20somma%0A%20%20%20%20%22%22%22%0A%20%20%20%20s%20%3D%20x%20%2B%203%0A%20%20%20%20return%20s%0A%0A%0Aassert%20somma%285,3%29%20%3D%3D%208%0Aassert%20somma%283,5%29%20%3D%3D%208%0Aassert%20somma%281,2%29%20%3D%3D%203%0Aprint%28%22Congratulazioni!%20Hai%20passato%20tutti%20i%20test!%22%29&cumulative=false&heapPrimitives=nevernest&mode=edit&origin=opt-frontend.js&py=3&rawInputLstJSON=%5B%5D&textReferences=false)"
   ]
  },
  {
   "cell_type": "markdown",
   "id": "ccbb507d",
   "metadata": {
    "slideshow": {
     "slide_type": "-"
    }
   },
   "source": [
    "```python\n",
    "def somma(x, y):\n",
    "    \"\"\" Prende due numeri e RITORNA la loro somma\n",
    "    \"\"\"\n",
    "    s = x + 3\n",
    "    return s\n",
    "\n",
    "\n",
    "assert somma(5,3) == 8\n",
    "assert somma(3,5) == 8\n",
    "assert somma(1,2) == 3\n",
    "print(\"Congratulazioni! Hai passato tutti i test!\")\n",
    "```\n",
    "\n"
   ]
  },
  {
   "cell_type": "markdown",
   "id": "2b6e5b61",
   "metadata": {
    "slideshow": {
     "slide_type": "fragment"
    }
   },
   "source": [
    "```python\n",
    "---------------------------------------------------------------------------\n",
    "AssertionError                            Traceback (most recent call last)\n",
    "/tmp/ipykernel_6319/3657306284.py in <module>\n",
    "      7 \n",
    "      8 assert somma(5,3) == 8\n",
    "----> 9 assert somma(3,5) == 8\n",
    "     10 assert somma(1,2) == 3\n",
    "     11 print(\"Congratulazioni! Hai passato tutti i test!\")\n",
    "\n",
    "AssertionError: \n",
    "```"
   ]
  },
  {
   "cell_type": "markdown",
   "id": "ae47061d",
   "metadata": {
    "slideshow": {
     "slide_type": "subslide"
    }
   },
   "source": [
    "## Ci prendiamo licenze...\n"
   ]
  },
  {
   "cell_type": "markdown",
   "id": "422746fd",
   "metadata": {
    "slideshow": {
     "slide_type": "-"
    }
   },
   "source": [
    "**Nota 1**: ci sono soluzioni migliori per testare, esempi:\n",
    "\n",
    "- [PyTest](https://docs.pytest.org/) recente e pulito (a sua volta usa `assert`)\n",
    "\n",
    "- [Unittest](https://docs.python.org/3/library/unittest.html): la libreria di testing di default di Python,  approccio più tradizionale "
   ]
  },
  {
   "cell_type": "markdown",
   "id": "f4391f55",
   "metadata": {
    "slideshow": {
     "slide_type": "fragment"
    }
   },
   "source": [
    "**Nota 2**: noi mettiamo i test nello stesso file che stiamo testando, ma di solito vengono messi in un file separato apposito\n",
    "\n",
    "- Perchè?"
   ]
  },
  {
   "cell_type": "code",
   "execution_count": 10,
   "id": "d5fded10-stripped",
   "metadata": {
    "nbsphinx": "hidden"
   },
   "outputs": [],
   "source": []
  }
 ],
 "metadata": {
  "celltoolbar": "Slideshow",
  "kernelspec": {
   "display_name": "Python 3 (ipykernel)",
   "language": "python",
   "name": "python3"
  },
  "language_info": {
   "codemirror_mode": {
    "name": "ipython",
    "version": 3
   },
   "file_extension": ".py",
   "mimetype": "text/x-python",
   "name": "python",
   "nbconvert_exporter": "python",
   "pygments_lexer": "ipython3",
   "version": "3.7.17"
  },
  "toc": {
   "base_numbering": 1,
   "nav_menu": {},
   "number_sections": false,
   "sideBar": true,
   "skip_h1_title": false,
   "title_cell": "Table of Contents",
   "title_sidebar": "Contents",
   "toc_cell": false,
   "toc_position": {
    "height": "calc(100% - 180px)",
    "left": "10px",
    "top": "150px",
    "width": "373.188px"
   },
   "toc_section_display": true,
   "toc_window_display": true
  }
 },
 "nbformat": 4,
 "nbformat_minor": 5
}
