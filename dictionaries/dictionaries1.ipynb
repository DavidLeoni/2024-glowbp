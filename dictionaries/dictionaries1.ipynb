{
 "cells": [
  {
   "cell_type": "code",
   "execution_count": 1,
   "id": "8e77c3a2",
   "metadata": {
    "slideshow": {
     "slide_type": "skip"
    }
   },
   "outputs": [
    {
     "data": {
      "text/html": [
       "        \n",
       "            <script src=\"_static/js/python.iife.js\" type=\"application/javascript\"></script>\n",
       "        "
      ],
      "text/plain": [
       "<IPython.core.display.HTML object>"
      ]
     },
     "execution_count": 1,
     "metadata": {},
     "output_type": "execute_result"
    }
   ],
   "source": [
    "import jupman\n",
    "\n",
    "import conf\n",
    "\n",
    "conf.jm.init_icp()"
   ]
  },
  {
   "cell_type": "markdown",
   "id": "0049100b",
   "metadata": {
    "slideshow": {
     "slide_type": "slide"
    }
   },
   "source": [
    "# Dizionari 1: introduzione \n",
    "\n",
    "**Riferimenti:** [SoftPython - dizionari 1](https://it.softpython.org/dictionaries/dictionaries1-sol.html)\n",
    "\n",
    "* visualizza al meglio in <img style=\"display:inline; width:25px; vertical-align: middle;\" src=\"../_static/img/chrome.png\" alttext=\"Chrome\">\n",
    "* versione stampabile: [clicca qua](?print-pdf)\n",
    "* per navigare nelle slide: premere `Esc`\n",
    "\n",
    "<br>\n",
    "<br>\n",
    "\n",
    "**Summer School Data Science 2023 - Modulo 1 informatica:** [Moodle](https://didatticaonline.unitn.it/dol/course/view.php?id=36683) \n",
    "\n",
    "Docente: David Leoni david.leoni@unitn.it\n",
    "\n",
    "Esercitatore: Luca Bosotti luca.bosotti@studenti.unitn.it\n"
   ]
  },
  {
   "cell_type": "markdown",
   "id": "8b6816e5",
   "metadata": {
    "colab_type": "text",
    "id": "poPVz2M0AFWT",
    "slideshow": {
     "slide_type": "subslide"
    }
   },
   "source": [
    "\n",
    "## Dizionari\n",
    "\n",
    "> I dizionari sono dei contenitori mutabili che ci consentono di associare velocemente voci dette chiavi a dei valori\n",
    ">\n",
    "> (con qualche vincolo)"
   ]
  },
  {
   "cell_type": "code",
   "execution_count": 2,
   "id": "2a71b35e",
   "metadata": {
    "colab": {
     "autoexec": {
      "startup": false,
      "wait_interval": 0
     }
    },
    "colab_type": "code",
    "id": "TBTib8uDAFWT",
    "slideshow": {
     "slide_type": "-"
    }
   },
   "outputs": [],
   "source": [
    "d = { 'sedia'   : 'un mobile per sedersi',\n",
    "      'armadio' : 'un mobile a ripiani',                                                \n",
    "}"
   ]
  },
  {
   "cell_type": "markdown",
   "id": "3d01cd38",
   "metadata": {
    "slideshow": {
     "slide_type": "-"
    }
   },
   "source": [
    "**Riferimenti**:\n",
    "\n",
    "- [SoftPython - dizionari: introduzione](https://it.softpython.org/dictionaries/dictionaries1-sol.html)"
   ]
  },
  {
   "cell_type": "markdown",
   "id": "a18021c5",
   "metadata": {
    "slideshow": {
     "slide_type": "subslide"
    }
   },
   "source": [
    "### Anatomia"
   ]
  },
  {
   "cell_type": "code",
   "execution_count": 3,
   "id": "4f272cbd",
   "metadata": {
    "slideshow": {
     "slide_type": "-"
    }
   },
   "outputs": [],
   "source": [
    "d = { 'sedia'   : 'un mobile per sedersi',\n",
    "      'armadio' : 'un mobile a ripiani',                                                \n",
    "}"
   ]
  },
  {
   "cell_type": "code",
   "execution_count": 4,
   "id": "b27c82c9",
   "metadata": {
    "slideshow": {
     "slide_type": "-"
    }
   },
   "outputs": [
    {
     "data": {
      "text/plain": [
       "{'sedia': 'un mobile per sedersi', 'armadio': 'un mobile a ripiani'}"
      ]
     },
     "execution_count": 4,
     "metadata": {},
     "output_type": "execute_result"
    }
   ],
   "source": [
    "d"
   ]
  },
  {
   "cell_type": "code",
   "execution_count": null,
   "id": "05c233a3",
   "metadata": {},
   "outputs": [],
   "source": []
  },
  {
   "cell_type": "markdown",
   "id": "7b0c9125",
   "metadata": {
    "slideshow": {
     "slide_type": "fragment"
    }
   },
   "source": [
    "Possiamo creare un dizionario con \n",
    "\n",
    "- graffe esterne `{` `}`"
   ]
  },
  {
   "cell_type": "markdown",
   "id": "9e4f6a86",
   "metadata": {
    "slideshow": {
     "slide_type": "fragment"
    }
   },
   "source": [
    "- separando le chiavi dai valori con i due punti `:`"
   ]
  },
  {
   "cell_type": "markdown",
   "id": "3eaa2807",
   "metadata": {
    "slideshow": {
     "slide_type": "fragment"
    }
   },
   "source": [
    "- separando le coppie chiave/valore con la virgola `,`"
   ]
  },
  {
   "cell_type": "markdown",
   "id": "d3ad968e",
   "metadata": {
    "slideshow": {
     "slide_type": "fragment"
    }
   },
   "source": [
    "Nota:\n",
    "\n",
    "- spazi / ritorni a capo non contano\n",
    "- l'ultima virgola è opzionale"
   ]
  },
  {
   "cell_type": "markdown",
   "id": "4463de58",
   "metadata": {
    "slideshow": {
     "slide_type": "subslide"
    }
   },
   "source": [
    "### In Python Tutor"
   ]
  },
  {
   "cell_type": "code",
   "execution_count": 5,
   "id": "d8eb467c-stripped",
   "metadata": {
    "slideshow": {
     "slide_type": "-"
    }
   },
   "outputs": [
    {
     "data": {
      "text/html": [
       "        \n",
       "        <script src=\"_static/js/pytutor-embed.bundle.min.js\" #type=\"application/javascript\"></script>\n",
       "    \n",
       "        <style>\n",
       "        @import \"_static/css/jupman.css\";\n",
       "        </style>\n",
       "     \n",
       "        <script id=\"trace-jm-14bc614240d881e9d6483ace464829ab-7\" type=\"application/json\" >\n",
       "            {\"code\": \" \\nd = { 'colazione' : 'cereali',\\n      'pranzo' : 'pasta',\\n      'cena' : 'minestra'\\n}\", \"trace\": [{\"line\": 2, \"event\": \"step_line\", \"func_name\": \"<module>\", \"globals\": {}, \"ordered_globals\": [], \"stack_to_render\": [], \"heap\": {}, \"stdout\": \"\"}, {\"line\": 3, \"event\": \"step_line\", \"func_name\": \"<module>\", \"globals\": {}, \"ordered_globals\": [], \"stack_to_render\": [], \"heap\": {}, \"stdout\": \"\"}, {\"line\": 4, \"event\": \"step_line\", \"func_name\": \"<module>\", \"globals\": {}, \"ordered_globals\": [], \"stack_to_render\": [], \"heap\": {}, \"stdout\": \"\"}, {\"line\": 4, \"event\": \"return\", \"func_name\": \"<module>\", \"globals\": {\"d\": [\"REF\", 1]}, \"ordered_globals\": [\"d\"], \"stack_to_render\": [], \"heap\": {\"1\": [\"DICT\", [\"colazione\", \"cereali\"], [\"pranzo\", \"pasta\"], [\"cena\", \"minestra\"]]}, \"stdout\": \"\"}]}\n",
       "        </script>\n",
       "        <div id=\"jm-14bc614240d881e9d6483ace464829ab-7\" class=\"pytutorVisualizer\"> </div>\n",
       "                            \n",
       "        <script>\n",
       "                          \n",
       "        var jmRenderPytut = function(trace_id, div_id, config){\n",
       "            console.log(\"jupman.py embedded javascript: rendering Python tutor visualizer...\")\n",
       "            \n",
       "            let oldAlert = window.alert;\n",
       "            window.alert = function ( text ) { \n",
       "                console.log( 'tried to alert: ', text );         \n",
       "                return true; \n",
       "            };\n",
       "            let executionVisualizer = null;\n",
       "            try {\n",
       "            \n",
       "                var trace = JSON.parse(document.getElementById(trace_id).innerHTML);                                        \n",
       "                // NOTE: id without #\n",
       "                        \n",
       "                executionVisualizer = addVisualizerToPage(trace, div_id, config);\n",
       "                // hack in case visualizer decides to hide them for no good reason\n",
       "                $('#' + div_id + ' #jmpFirstInstr').show();\n",
       "                $('#' + div_id + ' #jmpLastInstr').show();\n",
       "                \n",
       "                // set overflow for pytuts - need to do in python as css \n",
       "                // does not allow parent selection\n",
       "                var pytuts = $('.pytutorVisualizer');\n",
       "                pytuts.closest('div.output_html.rendered_html.output_result')\n",
       "                        .css('overflow-x', 'visible');\n",
       "            \n",
       "                //pytuts.closest('div.output_html.rendered_html.output_result')\n",
       "                //      .css('background-color','red');                \n",
       "            } catch (error) {\n",
       "                console.error(\"jupman slides: Couldn't visualize Python tutor properly\", error);\n",
       "            }\n",
       "            window.alert = oldAlert;\n",
       "            return executionVisualizer;\n",
       "            \n",
       "        };\n",
       "        </script>\n",
       "        \n",
       "        <script>\n",
       "        var pytut_cfg_14bc614240d881e9d6483ace464829ab_7 = (function(){\n",
       "            var rootFontSize = window.getComputedStyle(document.body).getPropertyValue('font-size');\n",
       "            var rootFontSizeNum = 12;\n",
       "            if (rootFontSize.endsWith('px')){\n",
       "                rootFontSizeNum = Number(rootFontSize.substring(0, rootFontSize.length-2));\n",
       "            } else {\n",
       "                console.error(\"Unrecognized font unit:\", rootFontSize, \"assuming default\", rootFontSizeNum);\n",
       "            }\n",
       "            console.log('rootFontSize', rootFontSize);\n",
       "            \n",
       "            var codeWidthInChars = Math.max(23, 30);\n",
       "            if (0){\n",
       "                codeWidthInChars = 0;    // override\n",
       "            }\n",
       "            return {'embeddedMode' : false,\n",
       "                  'disableHeapNesting': true,\n",
       "                  'visualizerIdOverride':'viz-jm-14bc614240d881e9d6483ace464829ab-7',\n",
       "                  'codeDivWidth': Math.trunc(rootFontSizeNum * codeWidthInChars)\n",
       "                  };\n",
       "        })();                 \n",
       "        \n",
       "        jmRenderPytut('trace-jm-14bc614240d881e9d6483ace464829ab-7', 'jm-14bc614240d881e9d6483ace464829ab-7', pytut_cfg_14bc614240d881e9d6483ace464829ab_7);\n",
       "        </script>\n",
       "                \n",
       "    \n",
       "    <div style=\"text-align:center; font-size:0.9em\"> <a href=\"https://pythontutor.com/visualize.html#mode=edit\" target=\"_blank\">Python Tutor</a> visualization</div> \n",
       "    "
      ],
      "text/plain": [
       "<IPython.core.display.HTML object>"
      ]
     },
     "execution_count": 5,
     "metadata": {},
     "output_type": "execute_result"
    }
   ],
   "source": []
  },
  {
   "cell_type": "markdown",
   "id": "e7bd4c4b",
   "metadata": {
    "slideshow": {
     "slide_type": "subslide"
    }
   },
   "source": [
    "### Chiavi 1/2\n",
    "\n",
    "\n",
    "> Le chiavi sono immutabili, non hanno ordine e <br> non vi possono essere duplicati\n",
    "\n",
    "**Vi ricorda qualcosa?**"
   ]
  },
  {
   "cell_type": "code",
   "execution_count": 6,
   "id": "d929e1f4-stripped",
   "metadata": {
    "slideshow": {
     "slide_type": "fragment"
    }
   },
   "outputs": [],
   "source": [
    "\n",
    "{\n",
    "  5 : 'dispari',\n",
    "  4 : 'pari',\n",
    "  7 : 'dispari',  \n",
    "}"
   ]
  },
  {
   "cell_type": "code",
   "execution_count": 7,
   "id": "ec2a35b8-stripped",
   "metadata": {
    "slideshow": {
     "slide_type": "fragment"
    }
   },
   "outputs": [
    {
     "data": {
      "text/plain": [
       "{5: 'dispari', 4: 'pari', 7: 'dispari'}"
      ]
     },
     "execution_count": 7,
     "metadata": {},
     "output_type": "execute_result"
    }
   ],
   "source": []
  },
  {
   "cell_type": "markdown",
   "id": "b92617f1",
   "metadata": {
    "slideshow": {
     "slide_type": "subslide"
    }
   },
   "source": [
    "### Chiavi 2/2"
   ]
  },
  {
   "cell_type": "markdown",
   "id": "99ae6de0",
   "metadata": {
    "slideshow": {
     "slide_type": "-"
    }
   },
   "source": [
    "```python\n",
    "{\n",
    "    [1,2] : 'zam',\n",
    "    [3,4] : 'zum'\n",
    "}\n",
    "```"
   ]
  },
  {
   "cell_type": "markdown",
   "id": "29767a6d",
   "metadata": {
    "slideshow": {
     "slide_type": "fragment"
    }
   },
   "source": [
    "```python\n",
    "---------------------------------------------------------------------------\n",
    "TypeError                                 Traceback (most recent call last)\n",
    "/tmp/ipykernel_9099/1327962343.py in <module>\n",
    "      1 {\n",
    "      2     [1,2] : 'zam',\n",
    "----> 3     [3,4] : 'zum'\n",
    "      4 }\n",
    "\n",
    "TypeError: unhashable type: 'list'\n",
    "```        "
   ]
  },
  {
   "cell_type": "code",
   "execution_count": 8,
   "id": "2b628b18-stripped",
   "metadata": {
    "slideshow": {
     "slide_type": "fragment"
    }
   },
   "outputs": [],
   "source": [
    "\n",
    "{\n",
    "    (1,2) : 'zam',\n",
    "    (4,3) : 'zum'\n",
    "}"
   ]
  },
  {
   "cell_type": "code",
   "execution_count": 9,
   "id": "fc7d5f74-stripped",
   "metadata": {
    "slideshow": {
     "slide_type": "fragment"
    }
   },
   "outputs": [
    {
     "data": {
      "text/plain": [
       "{(1, 2): 'zam', (4, 3): 'zum'}"
      ]
     },
     "execution_count": 9,
     "metadata": {},
     "output_type": "execute_result"
    }
   ],
   "source": []
  },
  {
   "cell_type": "markdown",
   "id": "5fd68f97",
   "metadata": {
    "slideshow": {
     "slide_type": "subslide"
    }
   },
   "source": [
    "### Chiavi duplicate\n",
    "\n",
    "> Le chiavi sono immutabili, non hanno ordine e **non vi possono essere duplicati**"
   ]
  },
  {
   "cell_type": "code",
   "execution_count": 10,
   "id": "ae230229-stripped",
   "metadata": {
    "slideshow": {
     "slide_type": "-"
    }
   },
   "outputs": [],
   "source": [
    "\n",
    "{\n",
    " 'sedia'     : 'un mobile per sedersi',\n",
    " 'sedia'     : 'appoggio con schienale',\n",
    " 'lampadario': 'un apparecchio di illuminazione'\n",
    "}"
   ]
  },
  {
   "cell_type": "code",
   "execution_count": 11,
   "id": "c50fb675-stripped",
   "metadata": {
    "slideshow": {
     "slide_type": "fragment"
    }
   },
   "outputs": [
    {
     "data": {
      "text/plain": [
       "{'sedia': 'appoggio con schienale',\n",
       " 'lampadario': 'un apparecchio di illuminazione'}"
      ]
     },
     "execution_count": 11,
     "metadata": {},
     "output_type": "execute_result"
    }
   ],
   "source": []
  },
  {
   "cell_type": "markdown",
   "id": "40196745",
   "metadata": {
    "slideshow": {
     "slide_type": "subslide"
    }
   },
   "source": [
    "### Chiavi: l'occhio inganna\n",
    "\n",
    "> Le chiavi sono immutabili, **non hanno ordine** e <br> non vi possono essere duplicati"
   ]
  },
  {
   "cell_type": "code",
   "execution_count": 12,
   "id": "19424620",
   "metadata": {
    "slideshow": {
     "slide_type": "-"
    }
   },
   "outputs": [
    {
     "name": "stdout",
     "output_type": "stream",
     "text": [
      "{'navi': 'porto', 'treni': 'stazione', 'aerei': 'aereoporto'}\n"
     ]
    }
   ],
   "source": [
    "print({'navi' :'porto',\n",
    "       'treni': 'stazione',\n",
    "       'aerei': 'aereoporto',   \n",
    "})"
   ]
  },
  {
   "cell_type": "code",
   "execution_count": 13,
   "id": "53fb3623",
   "metadata": {
    "slideshow": {
     "slide_type": "fragment"
    }
   },
   "outputs": [
    {
     "name": "stdout",
     "output_type": "stream",
     "text": [
      "{'aerei': 'aereoporto', 'navi': 'porto', 'treni': 'stazione'}\n"
     ]
    }
   ],
   "source": [
    "from pprint import pprint\n",
    "pprint({'navi' :'porto',\n",
    "        'treni': 'stazione',\n",
    "        'aerei': 'aereoporto',\n",
    "})"
   ]
  },
  {
   "cell_type": "markdown",
   "id": "91911510",
   "metadata": {
    "slideshow": {
     "slide_type": "fragment"
    }
   },
   "source": [
    "<div class=\"alert alert-warning\">\n",
    "\n",
    "L'ordine in cui vedete le chiavi dipende dalla versione di Python, dal comando usato, dall'editor...\n",
    "</div>"
   ]
  },
  {
   "cell_type": "markdown",
   "id": "abf2ac9c",
   "metadata": {
    "slideshow": {
     "slide_type": "subslide"
    }
   },
   "source": [
    "### Valori\n",
    "\n",
    "> I valori possono essere mutabili <br> e ammettono duplicati\n",
    "\n",
    "Esempi:"
   ]
  },
  {
   "cell_type": "markdown",
   "id": "954eed2b",
   "metadata": {
    "slideshow": {
     "slide_type": "-"
    }
   },
   "source": [
    "<table>\n",
    "<tr>\n",
    "<td>\n",
    "    \n",
    "```python\n",
    "ingredienti = { 'farina' : 500,\n",
    "                'uova' : 2,\n",
    "                'zucchero' : 500,\n",
    "}\n",
    "```\n",
    "</td>\n",
    "<td>\n",
    "    \n",
    "```python\n",
    "satelliti = {    \n",
    "    'Marte'    : ['Phobos','Deimos'],\n",
    "    'Saturno'  : ['Titano','Hyperion', 'Mimas', 'Enceladus'],    \n",
    "}\n",
    "```\n",
    "</td>\n",
    "</tr>\n",
    "</table>"
   ]
  },
  {
   "cell_type": "markdown",
   "id": "19eaf681",
   "metadata": {
    "slideshow": {
     "slide_type": "slide"
    }
   },
   "source": [
    "## Dizionario vuoto"
   ]
  },
  {
   "cell_type": "code",
   "execution_count": 14,
   "id": "4130e510",
   "metadata": {
    "slideshow": {
     "slide_type": "-"
    }
   },
   "outputs": [
    {
     "data": {
      "text/plain": [
       "{}"
      ]
     },
     "execution_count": 14,
     "metadata": {},
     "output_type": "execute_result"
    }
   ],
   "source": [
    "{}"
   ]
  },
  {
   "cell_type": "code",
   "execution_count": 15,
   "id": "a1bcc196",
   "metadata": {
    "slideshow": {
     "slide_type": "fragment"
    }
   },
   "outputs": [
    {
     "data": {
      "text/plain": [
       "dict"
      ]
     },
     "execution_count": 15,
     "metadata": {},
     "output_type": "execute_result"
    }
   ],
   "source": [
    "type( {} )"
   ]
  },
  {
   "cell_type": "markdown",
   "id": "6825c8c5",
   "metadata": {
    "slideshow": {
     "slide_type": "fragment"
    }
   },
   "source": [
    "**DOMANDA: L'insieme vuoto invece come si scrive?**"
   ]
  },
  {
   "cell_type": "markdown",
   "id": "0e8678a8",
   "metadata": {
    "slideshow": {
     "slide_type": "slide"
    }
   },
   "source": [
    "## Fritti misti"
   ]
  },
  {
   "cell_type": "code",
   "execution_count": 16,
   "id": "53d56580",
   "metadata": {
    "slideshow": {
     "slide_type": "-"
    }
   },
   "outputs": [
    {
     "data": {
      "text/plain": [
       "{'a': 3, 'b': ['una', 'lista'], 7: ('questa', 'è', 'una', 'tupla')}"
      ]
     },
     "execution_count": 16,
     "metadata": {},
     "output_type": "execute_result"
    }
   ],
   "source": [
    "{\n",
    "    \"a\": 3,\n",
    "    \"b\": [\"una\", \"lista\"],\n",
    "     7 : (\"questa\",\"è\",\"una\",\"tupla\")\n",
    "}"
   ]
  },
  {
   "cell_type": "markdown",
   "id": "c42cf9c0",
   "metadata": {
    "slideshow": {
     "slide_type": "fragment"
    }
   },
   "source": [
    "Si possono fare, ma sconsiglio.."
   ]
  },
  {
   "cell_type": "markdown",
   "id": "792cd4a1",
   "metadata": {
    "slideshow": {
     "slide_type": "subslide"
    }
   },
   "source": [
    "## Creare da sequenza di coppie"
   ]
  },
  {
   "cell_type": "code",
   "execution_count": 17,
   "id": "7ecfc8db",
   "metadata": {
    "slideshow": {
     "slide_type": "-"
    }
   },
   "outputs": [
    {
     "data": {
      "text/plain": [
       "{'farina': 500, 'uova': 2, 'zucchero': 200}"
      ]
     },
     "execution_count": 17,
     "metadata": {},
     "output_type": "execute_result"
    }
   ],
   "source": [
    "dict(  [\n",
    "         ('farina',500),\n",
    "         ('uova',2),\n",
    "         ('zucchero',200),\n",
    "       ])"
   ]
  },
  {
   "cell_type": "markdown",
   "id": "5fa2a027",
   "metadata": {
    "slideshow": {
     "slide_type": "fragment"
    }
   },
   "source": [
    "## Creare da nome/valore"
   ]
  },
  {
   "cell_type": "code",
   "execution_count": 18,
   "id": "827888bc",
   "metadata": {
    "slideshow": {
     "slide_type": "-"
    }
   },
   "outputs": [
    {
     "data": {
      "text/plain": [
       "{'farina': 500, 'uova': 2, 'zucchero': 200}"
      ]
     },
     "execution_count": 18,
     "metadata": {},
     "output_type": "execute_result"
    }
   ],
   "source": [
    "dict(farina=500,\n",
    "     uova=2,\n",
    "     zucchero=200)"
   ]
  },
  {
   "cell_type": "markdown",
   "id": "d208de2d",
   "metadata": {
    "slideshow": {
     "slide_type": "subslide"
    }
   },
   "source": [
    "## Copiare in superficie 1/2"
   ]
  },
  {
   "cell_type": "code",
   "execution_count": 19,
   "id": "6e8a36c9",
   "metadata": {},
   "outputs": [
    {
     "data": {
      "text/html": [
       "        \n",
       "        <script src=\"_static/js/pytutor-embed.bundle.min.js\" #type=\"application/javascript\"></script>\n",
       "    \n",
       "        <style>\n",
       "        @import \"_static/css/jupman.css\";\n",
       "        </style>\n",
       "     \n",
       "        <script id=\"trace-jm-b53389af08fb890e2af0660d58655ae5-21\" type=\"application/json\" >\n",
       "            {\"code\": \" \\nda = {'x':['a','b','c'],\\n      'y':['d','e']}\\ndb = da.copy()\", \"trace\": [{\"line\": 2, \"event\": \"step_line\", \"func_name\": \"<module>\", \"globals\": {}, \"ordered_globals\": [], \"stack_to_render\": [], \"heap\": {}, \"stdout\": \"\"}, {\"line\": 3, \"event\": \"step_line\", \"func_name\": \"<module>\", \"globals\": {}, \"ordered_globals\": [], \"stack_to_render\": [], \"heap\": {}, \"stdout\": \"\"}, {\"line\": 4, \"event\": \"step_line\", \"func_name\": \"<module>\", \"globals\": {\"da\": [\"REF\", 1]}, \"ordered_globals\": [\"da\"], \"stack_to_render\": [], \"heap\": {\"1\": [\"DICT\", [\"x\", [\"REF\", 2]], [\"y\", [\"REF\", 3]]], \"2\": [\"LIST\", \"a\", \"b\", \"c\"], \"3\": [\"LIST\", \"d\", \"e\"]}, \"stdout\": \"\"}, {\"line\": 4, \"event\": \"return\", \"func_name\": \"<module>\", \"globals\": {\"da\": [\"REF\", 1], \"db\": [\"REF\", 4]}, \"ordered_globals\": [\"da\", \"db\"], \"stack_to_render\": [], \"heap\": {\"1\": [\"DICT\", [\"x\", [\"REF\", 2]], [\"y\", [\"REF\", 3]]], \"2\": [\"LIST\", \"a\", \"b\", \"c\"], \"3\": [\"LIST\", \"d\", \"e\"], \"4\": [\"DICT\", [\"x\", [\"REF\", 2]], [\"y\", [\"REF\", 3]]]}, \"stdout\": \"\"}]}\n",
       "        </script>\n",
       "        <div id=\"jm-b53389af08fb890e2af0660d58655ae5-21\" class=\"pytutorVisualizer\"> </div>\n",
       "                            \n",
       "        <script>\n",
       "                          \n",
       "        var jmRenderPytut = function(trace_id, div_id, config){\n",
       "            console.log(\"jupman.py embedded javascript: rendering Python tutor visualizer...\")\n",
       "            \n",
       "            let oldAlert = window.alert;\n",
       "            window.alert = function ( text ) { \n",
       "                console.log( 'tried to alert: ', text );         \n",
       "                return true; \n",
       "            };\n",
       "            let executionVisualizer = null;\n",
       "            try {\n",
       "            \n",
       "                var trace = JSON.parse(document.getElementById(trace_id).innerHTML);                                        \n",
       "                // NOTE: id without #\n",
       "                        \n",
       "                executionVisualizer = addVisualizerToPage(trace, div_id, config);\n",
       "                // hack in case visualizer decides to hide them for no good reason\n",
       "                $('#' + div_id + ' #jmpFirstInstr').show();\n",
       "                $('#' + div_id + ' #jmpLastInstr').show();\n",
       "                \n",
       "                // set overflow for pytuts - need to do in python as css \n",
       "                // does not allow parent selection\n",
       "                var pytuts = $('.pytutorVisualizer');\n",
       "                pytuts.closest('div.output_html.rendered_html.output_result')\n",
       "                        .css('overflow-x', 'visible');\n",
       "            \n",
       "                //pytuts.closest('div.output_html.rendered_html.output_result')\n",
       "                //      .css('background-color','red');                \n",
       "            } catch (error) {\n",
       "                console.error(\"jupman slides: Couldn't visualize Python tutor properly\", error);\n",
       "            }\n",
       "            window.alert = oldAlert;\n",
       "            return executionVisualizer;\n",
       "            \n",
       "        };\n",
       "        </script>\n",
       "        \n",
       "        <script>\n",
       "        var pytut_cfg_b53389af08fb890e2af0660d58655ae5_21 = (function(){\n",
       "            var rootFontSize = window.getComputedStyle(document.body).getPropertyValue('font-size');\n",
       "            var rootFontSizeNum = 12;\n",
       "            if (rootFontSize.endsWith('px')){\n",
       "                rootFontSizeNum = Number(rootFontSize.substring(0, rootFontSize.length-2));\n",
       "            } else {\n",
       "                console.error(\"Unrecognized font unit:\", rootFontSize, \"assuming default\", rootFontSizeNum);\n",
       "            }\n",
       "            console.log('rootFontSize', rootFontSize);\n",
       "            \n",
       "            var codeWidthInChars = Math.max(23, 24);\n",
       "            if (0){\n",
       "                codeWidthInChars = 0;    // override\n",
       "            }\n",
       "            return {'embeddedMode' : false,\n",
       "                  'disableHeapNesting': true,\n",
       "                  'visualizerIdOverride':'viz-jm-b53389af08fb890e2af0660d58655ae5-21',\n",
       "                  'codeDivWidth': Math.trunc(rootFontSizeNum * codeWidthInChars)\n",
       "                  };\n",
       "        })();                 \n",
       "        \n",
       "        jmRenderPytut('trace-jm-b53389af08fb890e2af0660d58655ae5-21', 'jm-b53389af08fb890e2af0660d58655ae5-21', pytut_cfg_b53389af08fb890e2af0660d58655ae5_21);\n",
       "        </script>\n",
       "                \n",
       "    \n",
       "    <div style=\"text-align:center; font-size:0.9em\"> <a href=\"https://pythontutor.com/visualize.html#mode=edit\" target=\"_blank\">Python Tutor</a> visualization</div> \n",
       "    "
      ],
      "text/plain": [
       "<IPython.core.display.HTML object>"
      ]
     },
     "execution_count": 19,
     "metadata": {},
     "output_type": "execute_result"
    }
   ],
   "source": [
    "da = {'x':['a','b','c'],\n",
    "      'y':['d','e']}\n",
    "db = da.copy()\n",
    "\n",
    "conf.jm.python_tutor()"
   ]
  },
  {
   "cell_type": "markdown",
   "id": "30b6521c",
   "metadata": {
    "slideshow": {
     "slide_type": "subslide"
    }
   },
   "source": [
    "## Copiare in superficie 2/2"
   ]
  },
  {
   "cell_type": "code",
   "execution_count": 20,
   "id": "f5328ea6-stripped",
   "metadata": {
    "slideshow": {
     "slide_type": "-"
    }
   },
   "outputs": [
    {
     "data": {
      "text/html": [
       "        \n",
       "        <script src=\"_static/js/pytutor-embed.bundle.min.js\" #type=\"application/javascript\"></script>\n",
       "    \n",
       "        <style>\n",
       "        @import \"_static/css/jupman.css\";\n",
       "        </style>\n",
       "     \n",
       "        <script id=\"trace-jm-94374ab6ecb3a49c859f28da5335881f-22\" type=\"application/json\" >\n",
       "            {\"code\": \" \\nda = {'x':['a','b','c'],\\n      'y':['d','e']}\\ndb = dict(da)\", \"trace\": [{\"line\": 2, \"event\": \"step_line\", \"func_name\": \"<module>\", \"globals\": {}, \"ordered_globals\": [], \"stack_to_render\": [], \"heap\": {}, \"stdout\": \"\"}, {\"line\": 3, \"event\": \"step_line\", \"func_name\": \"<module>\", \"globals\": {}, \"ordered_globals\": [], \"stack_to_render\": [], \"heap\": {}, \"stdout\": \"\"}, {\"line\": 4, \"event\": \"step_line\", \"func_name\": \"<module>\", \"globals\": {\"da\": [\"REF\", 1]}, \"ordered_globals\": [\"da\"], \"stack_to_render\": [], \"heap\": {\"1\": [\"DICT\", [\"x\", [\"REF\", 2]], [\"y\", [\"REF\", 3]]], \"2\": [\"LIST\", \"a\", \"b\", \"c\"], \"3\": [\"LIST\", \"d\", \"e\"]}, \"stdout\": \"\"}, {\"line\": 4, \"event\": \"return\", \"func_name\": \"<module>\", \"globals\": {\"da\": [\"REF\", 1], \"db\": [\"REF\", 4]}, \"ordered_globals\": [\"da\", \"db\"], \"stack_to_render\": [], \"heap\": {\"1\": [\"DICT\", [\"x\", [\"REF\", 2]], [\"y\", [\"REF\", 3]]], \"2\": [\"LIST\", \"a\", \"b\", \"c\"], \"3\": [\"LIST\", \"d\", \"e\"], \"4\": [\"DICT\", [\"x\", [\"REF\", 2]], [\"y\", [\"REF\", 3]]]}, \"stdout\": \"\"}]}\n",
       "        </script>\n",
       "        <div id=\"jm-94374ab6ecb3a49c859f28da5335881f-22\" class=\"pytutorVisualizer\"> </div>\n",
       "                            \n",
       "        <script>\n",
       "                          \n",
       "        var jmRenderPytut = function(trace_id, div_id, config){\n",
       "            console.log(\"jupman.py embedded javascript: rendering Python tutor visualizer...\")\n",
       "            \n",
       "            let oldAlert = window.alert;\n",
       "            window.alert = function ( text ) { \n",
       "                console.log( 'tried to alert: ', text );         \n",
       "                return true; \n",
       "            };\n",
       "            let executionVisualizer = null;\n",
       "            try {\n",
       "            \n",
       "                var trace = JSON.parse(document.getElementById(trace_id).innerHTML);                                        \n",
       "                // NOTE: id without #\n",
       "                        \n",
       "                executionVisualizer = addVisualizerToPage(trace, div_id, config);\n",
       "                // hack in case visualizer decides to hide them for no good reason\n",
       "                $('#' + div_id + ' #jmpFirstInstr').show();\n",
       "                $('#' + div_id + ' #jmpLastInstr').show();\n",
       "                \n",
       "                // set overflow for pytuts - need to do in python as css \n",
       "                // does not allow parent selection\n",
       "                var pytuts = $('.pytutorVisualizer');\n",
       "                pytuts.closest('div.output_html.rendered_html.output_result')\n",
       "                        .css('overflow-x', 'visible');\n",
       "            \n",
       "                //pytuts.closest('div.output_html.rendered_html.output_result')\n",
       "                //      .css('background-color','red');                \n",
       "            } catch (error) {\n",
       "                console.error(\"jupman slides: Couldn't visualize Python tutor properly\", error);\n",
       "            }\n",
       "            window.alert = oldAlert;\n",
       "            return executionVisualizer;\n",
       "            \n",
       "        };\n",
       "        </script>\n",
       "        \n",
       "        <script>\n",
       "        var pytut_cfg_94374ab6ecb3a49c859f28da5335881f_22 = (function(){\n",
       "            var rootFontSize = window.getComputedStyle(document.body).getPropertyValue('font-size');\n",
       "            var rootFontSizeNum = 12;\n",
       "            if (rootFontSize.endsWith('px')){\n",
       "                rootFontSizeNum = Number(rootFontSize.substring(0, rootFontSize.length-2));\n",
       "            } else {\n",
       "                console.error(\"Unrecognized font unit:\", rootFontSize, \"assuming default\", rootFontSizeNum);\n",
       "            }\n",
       "            console.log('rootFontSize', rootFontSize);\n",
       "            \n",
       "            var codeWidthInChars = Math.max(23, 24);\n",
       "            if (0){\n",
       "                codeWidthInChars = 0;    // override\n",
       "            }\n",
       "            return {'embeddedMode' : false,\n",
       "                  'disableHeapNesting': true,\n",
       "                  'visualizerIdOverride':'viz-jm-94374ab6ecb3a49c859f28da5335881f-22',\n",
       "                  'codeDivWidth': Math.trunc(rootFontSizeNum * codeWidthInChars)\n",
       "                  };\n",
       "        })();                 \n",
       "        \n",
       "        jmRenderPytut('trace-jm-94374ab6ecb3a49c859f28da5335881f-22', 'jm-94374ab6ecb3a49c859f28da5335881f-22', pytut_cfg_94374ab6ecb3a49c859f28da5335881f_22);\n",
       "        </script>\n",
       "                \n",
       "    \n",
       "    <div style=\"text-align:center; font-size:0.9em\"> <a href=\"https://pythontutor.com/visualize.html#mode=edit\" target=\"_blank\">Python Tutor</a> visualization</div> \n",
       "    "
      ],
      "text/plain": [
       "<IPython.core.display.HTML object>"
      ]
     },
     "execution_count": 20,
     "metadata": {},
     "output_type": "execute_result"
    }
   ],
   "source": []
  },
  {
   "cell_type": "code",
   "execution_count": 21,
   "id": "555b942b-stripped",
   "metadata": {
    "scrolled": true,
    "slideshow": {
     "slide_type": "subslide"
    }
   },
   "outputs": [
    {
     "data": {
      "text/html": [
       "        \n",
       "        <script src=\"_static/js/pytutor-embed.bundle.min.js\" #type=\"application/javascript\"></script>\n",
       "    \n",
       "        <style>\n",
       "        @import \"_static/css/jupman.css\";\n",
       "        </style>\n",
       "     \n",
       "        <script id=\"trace-jm-77717b45e770ff17923b83f05c9ca7b3-23\" type=\"application/json\" >\n",
       "            {\"code\": \" \\n# COPIA IN PROFONDITA'\\nimport copy\\nda = {'x':['a','b','c'],\\n      'y':['d','e']}\\ndb = copy.deepcopy(da)\", \"trace\": [{\"line\": 3, \"event\": \"step_line\", \"func_name\": \"<module>\", \"globals\": {}, \"ordered_globals\": [], \"stack_to_render\": [], \"heap\": {}, \"stdout\": \"\"}, {\"line\": 4, \"event\": \"step_line\", \"func_name\": \"<module>\", \"globals\": {\"copy\": [\"REF\", 1]}, \"ordered_globals\": [\"copy\"], \"stack_to_render\": [], \"heap\": {\"1\": [\"INSTANCE\", \"module\"]}, \"stdout\": \"\"}, {\"line\": 5, \"event\": \"step_line\", \"func_name\": \"<module>\", \"globals\": {\"copy\": [\"REF\", 1]}, \"ordered_globals\": [\"copy\"], \"stack_to_render\": [], \"heap\": {\"1\": [\"INSTANCE\", \"module\"]}, \"stdout\": \"\"}, {\"line\": 6, \"event\": \"step_line\", \"func_name\": \"<module>\", \"globals\": {\"copy\": [\"REF\", 1], \"da\": [\"REF\", 2]}, \"ordered_globals\": [\"copy\", \"da\"], \"stack_to_render\": [], \"heap\": {\"1\": [\"INSTANCE\", \"module\"], \"2\": [\"DICT\", [\"x\", [\"REF\", 3]], [\"y\", [\"REF\", 4]]], \"3\": [\"LIST\", \"a\", \"b\", \"c\"], \"4\": [\"LIST\", \"d\", \"e\"]}, \"stdout\": \"\"}, {\"line\": 6, \"event\": \"return\", \"func_name\": \"<module>\", \"globals\": {\"copy\": [\"REF\", 1], \"da\": [\"REF\", 2], \"db\": [\"REF\", 5]}, \"ordered_globals\": [\"copy\", \"da\", \"db\"], \"stack_to_render\": [], \"heap\": {\"1\": [\"INSTANCE\", \"module\"], \"2\": [\"DICT\", [\"x\", [\"REF\", 3]], [\"y\", [\"REF\", 4]]], \"3\": [\"LIST\", \"a\", \"b\", \"c\"], \"4\": [\"LIST\", \"d\", \"e\"], \"5\": [\"DICT\", [\"x\", [\"REF\", 6]], [\"y\", [\"REF\", 7]]], \"6\": [\"LIST\", \"a\", \"b\", \"c\"], \"7\": [\"LIST\", \"d\", \"e\"]}, \"stdout\": \"\"}]}\n",
       "        </script>\n",
       "        <div id=\"jm-77717b45e770ff17923b83f05c9ca7b3-23\" class=\"pytutorVisualizer\"> </div>\n",
       "                            \n",
       "        <script>\n",
       "                          \n",
       "        var jmRenderPytut = function(trace_id, div_id, config){\n",
       "            console.log(\"jupman.py embedded javascript: rendering Python tutor visualizer...\")\n",
       "            \n",
       "            let oldAlert = window.alert;\n",
       "            window.alert = function ( text ) { \n",
       "                console.log( 'tried to alert: ', text );         \n",
       "                return true; \n",
       "            };\n",
       "            let executionVisualizer = null;\n",
       "            try {\n",
       "            \n",
       "                var trace = JSON.parse(document.getElementById(trace_id).innerHTML);                                        \n",
       "                // NOTE: id without #\n",
       "                        \n",
       "                executionVisualizer = addVisualizerToPage(trace, div_id, config);\n",
       "                // hack in case visualizer decides to hide them for no good reason\n",
       "                $('#' + div_id + ' #jmpFirstInstr').show();\n",
       "                $('#' + div_id + ' #jmpLastInstr').show();\n",
       "                \n",
       "                // set overflow for pytuts - need to do in python as css \n",
       "                // does not allow parent selection\n",
       "                var pytuts = $('.pytutorVisualizer');\n",
       "                pytuts.closest('div.output_html.rendered_html.output_result')\n",
       "                        .css('overflow-x', 'visible');\n",
       "            \n",
       "                //pytuts.closest('div.output_html.rendered_html.output_result')\n",
       "                //      .css('background-color','red');                \n",
       "            } catch (error) {\n",
       "                console.error(\"jupman slides: Couldn't visualize Python tutor properly\", error);\n",
       "            }\n",
       "            window.alert = oldAlert;\n",
       "            return executionVisualizer;\n",
       "            \n",
       "        };\n",
       "        </script>\n",
       "        \n",
       "        <script>\n",
       "        var pytut_cfg_77717b45e770ff17923b83f05c9ca7b3_23 = (function(){\n",
       "            var rootFontSize = window.getComputedStyle(document.body).getPropertyValue('font-size');\n",
       "            var rootFontSizeNum = 12;\n",
       "            if (rootFontSize.endsWith('px')){\n",
       "                rootFontSizeNum = Number(rootFontSize.substring(0, rootFontSize.length-2));\n",
       "            } else {\n",
       "                console.error(\"Unrecognized font unit:\", rootFontSize, \"assuming default\", rootFontSizeNum);\n",
       "            }\n",
       "            console.log('rootFontSize', rootFontSize);\n",
       "            \n",
       "            var codeWidthInChars = Math.max(23, 24);\n",
       "            if (0){\n",
       "                codeWidthInChars = 0;    // override\n",
       "            }\n",
       "            return {'embeddedMode' : false,\n",
       "                  'disableHeapNesting': true,\n",
       "                  'visualizerIdOverride':'viz-jm-77717b45e770ff17923b83f05c9ca7b3-23',\n",
       "                  'codeDivWidth': Math.trunc(rootFontSizeNum * codeWidthInChars)\n",
       "                  };\n",
       "        })();                 \n",
       "        \n",
       "        jmRenderPytut('trace-jm-77717b45e770ff17923b83f05c9ca7b3-23', 'jm-77717b45e770ff17923b83f05c9ca7b3-23', pytut_cfg_77717b45e770ff17923b83f05c9ca7b3_23);\n",
       "        </script>\n",
       "                \n",
       "    \n",
       "    <div style=\"text-align:center; font-size:0.9em\"> <a href=\"https://pythontutor.com/visualize.html#mode=edit\" target=\"_blank\">Python Tutor</a> visualization</div> \n",
       "    "
      ],
      "text/plain": [
       "<IPython.core.display.HTML object>"
      ]
     },
     "execution_count": 21,
     "metadata": {},
     "output_type": "execute_result"
    }
   ],
   "source": []
  },
  {
   "cell_type": "code",
   "execution_count": 22,
   "id": "81e2c503-stripped",
   "metadata": {
    "nbsphinx": "hidden"
   },
   "outputs": [],
   "source": []
  }
 ],
 "metadata": {
  "celltoolbar": "Slideshow",
  "kernelspec": {
   "display_name": "Python 3 (ipykernel)",
   "language": "python",
   "name": "python3"
  },
  "language_info": {
   "codemirror_mode": {
    "name": "ipython",
    "version": 3
   },
   "file_extension": ".py",
   "mimetype": "text/x-python",
   "name": "python",
   "nbconvert_exporter": "python",
   "pygments_lexer": "ipython3",
   "version": "3.7.17"
  },
  "toc": {
   "base_numbering": 1,
   "nav_menu": {},
   "number_sections": false,
   "sideBar": true,
   "skip_h1_title": false,
   "title_cell": "Table of Contents",
   "title_sidebar": "Contents",
   "toc_cell": false,
   "toc_position": {
    "height": "calc(100% - 180px)",
    "left": "10px",
    "top": "150px",
    "width": "311px"
   },
   "toc_section_display": true,
   "toc_window_display": true
  }
 },
 "nbformat": 4,
 "nbformat_minor": 5
}
