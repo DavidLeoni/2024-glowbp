{
 "cells": [
  {
   "cell_type": "code",
   "execution_count": 1,
   "id": "8e77c3a2",
   "metadata": {
    "slideshow": {
     "slide_type": "skip"
    }
   },
   "outputs": [
    {
     "data": {
      "text/html": [
       "        \n",
       "            <script src=\"_static/js/python.iife.js\" type=\"application/javascript\"></script>\n",
       "        "
      ],
      "text/plain": [
       "<IPython.core.display.HTML object>"
      ]
     },
     "execution_count": 1,
     "metadata": {},
     "output_type": "execute_result"
    }
   ],
   "source": [
    "import jupman\n",
    "\n",
    "import conf\n",
    "\n",
    "conf.jm.init_icp()"
   ]
  },
  {
   "cell_type": "markdown",
   "id": "0049100b",
   "metadata": {
    "slideshow": {
     "slide_type": "slide"
    }
   },
   "source": [
    "# Dizionari 3: metodi \n",
    "\n",
    "**Riferimenti:** [SoftPython - dizionari 3](https://it.softpython.org/dictionaries/dictionaries3-sol.html)\n",
    "\n",
    "* visualizza al meglio in <img style=\"display:inline; width:25px; vertical-align: middle;\" src=\"../_static/img/chrome.png\" alttext=\"Chrome\">\n",
    "* versione stampabile: [clicca qua](?print-pdf)\n",
    "* per navigare nelle slide: premere `Esc`\n",
    "\n",
    "<br>\n",
    "<br>\n",
    "\n",
    "**Summer School Data Science 2023 - Modulo 1 informatica:** [Moodle](https://didatticaonline.unitn.it/dol/course/view.php?id=36683) \n",
    "\n",
    "Docente: David Leoni david.leoni@unitn.it\n",
    "\n",
    "Esercitatore: Luca Bosotti luca.bosotti@studenti.unitn.it\n"
   ]
  },
  {
   "cell_type": "markdown",
   "id": "b123f774",
   "metadata": {
    "slideshow": {
     "slide_type": "subslide"
    }
   },
   "source": [
    "### Dizionari  - Metodi\n",
    "\n",
    "|Metodo|Ritorna|Descrizione|\n",
    "|---|---|---|\n",
    "|[dict.keys()](https://it.softpython.org/dictionaries/dictionaries3-sol.html#keys)|`dict_keys`|Ritorna una _vista_ di chiavi che sono presenti nel dizionario|\n",
    "|[dict.values()](https://it.softpython.org/dictionaries/dictionaries3-sol.html#values)|`dict_values`|Ritorna una _vista_ di valori presenti nel dizionario|\n",
    "|[dict.items()](https://it.softpython.org/dictionaries/dictionaries3-sol.html#items)|`dict_items`|Ritorna una _vista_ di coppie (chiave, valore) presenti nel dizionario|\n",
    "|[d1.update(d2)](https://it.softpython.org/dictionaries/dictionaries3-sol.html#update)|`None`|MODIFICA il dizionario `diz1` con le coppie chiave / valore trovate in `diz2`|"
   ]
  },
  {
   "cell_type": "markdown",
   "id": "f90b2e4f",
   "metadata": {
    "slideshow": {
     "slide_type": "-"
    }
   },
   "source": [
    "<div class=\"alert alert-warning\">\n",
    "    \n",
    "**ATTENZIONE**: i metodi `keys`, `values` e `items`  restituiscono _viste immutabili_ \n",
    "\n",
    "a) spesso sono causa di fraintendimenti e/o codice inefficiente\n",
    "\n",
    "b) se ti senti nella necessità di usarli, chiediti sempre: è possibile risolvere il problema usando solo gli operatori?\n",
    "\n",
    "</div>\n",
    "\n",
    "Riferimenti: [SoftPython - dizionari 3](https://it.softpython.org/dictionaries/dictionaries3-sol.html)"
   ]
  },
  {
   "cell_type": "markdown",
   "id": "6e91694b",
   "metadata": {
    "slideshow": {
     "slide_type": "slide"
    }
   },
   "source": [
    "## Cosa succede quando...\n",
    "\n",
    "\n",
    "## si lascia la gente scrivere quello che vuole dove vuole?\n"
   ]
  },
  {
   "cell_type": "markdown",
   "id": "4dabcc0f",
   "metadata": {
    "slideshow": {
     "slide_type": "fragment"
    }
   },
   "source": [
    "<img src=\"img/graffiti.jpg\" style=\"margin-left: auto; margin-right: auto;\" width=\"70%\" alttext=\"out of control\">"
   ]
  },
  {
   "cell_type": "markdown",
   "id": "49ddaef1",
   "metadata": {
    "slideshow": {
     "slide_type": "slide"
    }
   },
   "source": [
    "## Python si difende con le _viste_\n",
    "\n",
    "<img src=\"img/fenced-house.jpg\" style=\"margin-left: auto; margin-right: auto;\" width=\"70%\" alttext=\"giardino privato\">"
   ]
  },
  {
   "cell_type": "markdown",
   "id": "12e4c5f0",
   "metadata": {
    "slideshow": {
     "slide_type": "fragment"
    }
   },
   "source": [
    "### -> Guardare ma non toccare"
   ]
  },
  {
   "cell_type": "markdown",
   "id": "010be044",
   "metadata": {
    "slideshow": {
     "slide_type": "slide"
    }
   },
   "source": [
    "## Metodo keys\n",
    "\n",
    "Ritorna una ***vista*** sul dizionario originale"
   ]
  },
  {
   "cell_type": "code",
   "execution_count": 2,
   "id": "a90d3a2a",
   "metadata": {
    "slideshow": {
     "slide_type": "-"
    }
   },
   "outputs": [
    {
     "data": {
      "text/plain": [
       "dict_keys(['carote', 'pomodori', 'cavoli'])"
      ]
     },
     "execution_count": 2,
     "metadata": {},
     "output_type": "execute_result"
    }
   ],
   "source": [
    "orto = {'carote'  : 5,\n",
    "        'pomodori': 8,\n",
    "        'cavoli'  : 3}\n",
    "vista_chiavi = orto.keys()\n",
    "vista_chiavi"
   ]
  },
  {
   "cell_type": "markdown",
   "id": "a96fe6fc",
   "metadata": {
    "slideshow": {
     "slide_type": "fragment"
    }
   },
   "source": [
    "se la collezione originale viene modificata, si modifica contemporaneamente anche la vista:"
   ]
  },
  {
   "cell_type": "code",
   "execution_count": 3,
   "id": "b1860824",
   "metadata": {
    "slideshow": {
     "slide_type": "fragment"
    }
   },
   "outputs": [],
   "source": [
    "orto['melanzane'] = 10"
   ]
  },
  {
   "cell_type": "code",
   "execution_count": 4,
   "id": "c291af3b",
   "metadata": {
    "slideshow": {
     "slide_type": "fragment"
    }
   },
   "outputs": [
    {
     "data": {
      "text/plain": [
       "dict_keys(['carote', 'pomodori', 'cavoli', 'melanzane'])"
      ]
     },
     "execution_count": 4,
     "metadata": {},
     "output_type": "execute_result"
    }
   ],
   "source": [
    "vista_chiavi"
   ]
  },
  {
   "cell_type": "markdown",
   "id": "be1f6e29",
   "metadata": {
    "slideshow": {
     "slide_type": "subslide"
    }
   },
   "source": [
    "### `keys()`: **NON** potete modificare la vista! 1/2"
   ]
  },
  {
   "cell_type": "markdown",
   "id": "974e8952",
   "metadata": {
    "slideshow": {
     "slide_type": "-"
    }
   },
   "source": [
    "<img src=\"img/fenced-house.jpg\" style=\"margin-left: auto; margin-right: auto;\" width=\"50%\" alttext=\"giardino privato\">"
   ]
  },
  {
   "cell_type": "markdown",
   "id": "6ee67a86",
   "metadata": {
    "slideshow": {
     "slide_type": "-"
    }
   },
   "source": [
    "```python\n",
    "vista_chiavi.append('rape')    # BOOM\n",
    "```"
   ]
  },
  {
   "cell_type": "markdown",
   "id": "5453d725",
   "metadata": {
    "slideshow": {
     "slide_type": "fragment"
    }
   },
   "source": [
    "```python\n",
    "---------------------------------------------------------------------------\n",
    "AttributeError                            Traceback (most recent call last)\n",
    "/tmp/ipykernel_15601/2476177040.py in <module>\n",
    "----> 1 vista_chiavi.append('rape')\n",
    "\n",
    "AttributeError: 'dict_keys' object has no attribute 'append'\n",
    "```"
   ]
  },
  {
   "cell_type": "markdown",
   "id": "7842daff",
   "metadata": {
    "slideshow": {
     "slide_type": "subslide"
    }
   },
   "source": [
    "### `keys()`:  **NON** potete modificare la vista! 2/2"
   ]
  },
  {
   "cell_type": "markdown",
   "id": "b6416ac6",
   "metadata": {
    "slideshow": {
     "slide_type": "-"
    }
   },
   "source": [
    "<img src=\"img/fenced-house.jpg\" style=\"margin-left: auto; margin-right: auto;\" width=\"50%\" alttext=\"giardino privato\">"
   ]
  },
  {
   "cell_type": "markdown",
   "id": "22733394",
   "metadata": {
    "slideshow": {
     "slide_type": "-"
    }
   },
   "source": [
    "```python\n",
    "vista_chiavi[0] = 'patate'   # BOOM\n",
    "```"
   ]
  },
  {
   "cell_type": "markdown",
   "id": "d259f9a4",
   "metadata": {
    "slideshow": {
     "slide_type": "fragment"
    }
   },
   "source": [
    "```python\n",
    "---------------------------------------------------------------------------\n",
    "TypeError                                 Traceback (most recent call last)\n",
    "/tmp/ipykernel_15601/1326991453.py in <module>\n",
    "----> 1 vista_chiavi[0] = 'patate'\n",
    "\n",
    "TypeError: 'dict_keys' object does not support item assignment\n",
    "```"
   ]
  },
  {
   "cell_type": "markdown",
   "id": "aaba006f",
   "metadata": {
    "slideshow": {
     "slide_type": "slide"
    }
   },
   "source": [
    "## Metodo values\n",
    "\n",
    "Ritorna una ***vista*** sul dizionario originale"
   ]
  },
  {
   "cell_type": "code",
   "execution_count": 5,
   "id": "43adaf2d",
   "metadata": {
    "slideshow": {
     "slide_type": "-"
    }
   },
   "outputs": [
    {
     "data": {
      "text/plain": [
       "dict_values([5, 8, 3])"
      ]
     },
     "execution_count": 5,
     "metadata": {},
     "output_type": "execute_result"
    }
   ],
   "source": [
    "\n",
    "orto = {'carote'  : 5,\n",
    "        'pomodori': 8,\n",
    "        'cavoli'  : 3}\n",
    "\n",
    "vista_valori = orto.values()\n",
    "vista_valori"
   ]
  },
  {
   "cell_type": "markdown",
   "id": "f8ec622d",
   "metadata": {
    "slideshow": {
     "slide_type": "subslide"
    }
   },
   "source": [
    "### `values()`: **NON** potete modificare la vista! 1/2"
   ]
  },
  {
   "cell_type": "markdown",
   "id": "a82c687c",
   "metadata": {
    "slideshow": {
     "slide_type": "-"
    }
   },
   "source": [
    "<img src=\"img/fenced-house.jpg\" style=\"margin-left: auto; margin-right: auto;\" width=\"50%\" alttext=\"giardino privato\">"
   ]
  },
  {
   "cell_type": "markdown",
   "id": "6787e378",
   "metadata": {
    "slideshow": {
     "slide_type": "fragment"
    }
   },
   "source": [
    "```python\n",
    "vista_valori.append(20)    # BOOM\n",
    "```"
   ]
  },
  {
   "cell_type": "markdown",
   "id": "fe865021",
   "metadata": {
    "slideshow": {
     "slide_type": "fragment"
    }
   },
   "source": [
    "```python\n",
    "---------------------------------------------------------------------------\n",
    "AttributeError                            Traceback (most recent call last)\n",
    "/tmp/ipykernel_15601/1291457683.py in <module>\n",
    "----> 1 vista_valori.append('rape')    # BOOM\n",
    "\n",
    "AttributeError: 'dict_values' object has no attribute 'append'\n",
    "```"
   ]
  },
  {
   "cell_type": "markdown",
   "id": "900adf10",
   "metadata": {
    "slideshow": {
     "slide_type": "subslide"
    }
   },
   "source": [
    "### `values()`: **NON** potete modificare la vista! 2/2"
   ]
  },
  {
   "cell_type": "markdown",
   "id": "88312557",
   "metadata": {
    "slideshow": {
     "slide_type": "-"
    }
   },
   "source": [
    "<img src=\"img/fenced-house.jpg\" style=\"margin-left: auto; margin-right: auto;\" width=\"50%\" alttext=\"giardino privato\">"
   ]
  },
  {
   "cell_type": "markdown",
   "id": "fa3e7b86",
   "metadata": {
    "slideshow": {
     "slide_type": "-"
    }
   },
   "source": [
    "```python\n",
    "vista_valori[0] = 70   # BOOM\n",
    "```"
   ]
  },
  {
   "cell_type": "markdown",
   "id": "ddf3e7a2",
   "metadata": {
    "slideshow": {
     "slide_type": "fragment"
    }
   },
   "source": [
    "```python\n",
    "---------------------------------------------------------------------------\n",
    "TypeError                                 Traceback (most recent call last)\n",
    "/tmp/ipykernel_15601/1358609847.py in <module>\n",
    "----> 1 vista_valori[0] = 70   # BOOM\n",
    "\n",
    "TypeError: 'dict_values' object does not support item assignment\n",
    "```"
   ]
  },
  {
   "cell_type": "markdown",
   "id": "6452ed7d",
   "metadata": {
    "slideshow": {
     "slide_type": "slide"
    }
   },
   "source": [
    "## Metodo items\n",
    "\n",
    "Ritorna **una vista** sul dizionario originale"
   ]
  },
  {
   "cell_type": "code",
   "execution_count": 6,
   "id": "dc65a073",
   "metadata": {
    "slideshow": {
     "slide_type": "-"
    }
   },
   "outputs": [
    {
     "data": {
      "text/plain": [
       "dict_items([('carote', 5), ('pomodori', 8), ('cavoli', 3)])"
      ]
     },
     "execution_count": 6,
     "metadata": {},
     "output_type": "execute_result"
    }
   ],
   "source": [
    "\n",
    "orto = {'carote'  : 5,\n",
    "        'pomodori': 8,\n",
    "        'cavoli'  : 3}\n",
    "\n",
    "vista_coppie = orto.items()\n",
    "vista_coppie"
   ]
  },
  {
   "cell_type": "markdown",
   "id": "d9eae9c5",
   "metadata": {
    "slideshow": {
     "slide_type": "slide"
    }
   },
   "source": [
    "## Metodo update\n",
    "\n",
    "Un modo corretto (oltre agli operatori) per _modificare_ il dizionario, aggiunge o sovrascrive coppie prese da un altro dizionario"
   ]
  },
  {
   "cell_type": "code",
   "execution_count": 7,
   "id": "20a3a27d",
   "metadata": {
    "slideshow": {
     "slide_type": "-"
    }
   },
   "outputs": [],
   "source": [
    "\n",
    "orto = {'carote'  : 5,\n",
    "        'pomodori': 8,\n",
    "        'cavoli'  : 3}"
   ]
  },
  {
   "cell_type": "code",
   "execution_count": 8,
   "id": "19d09f42",
   "metadata": {
    "slideshow": {
     "slide_type": "-"
    }
   },
   "outputs": [],
   "source": [
    "orto.update( { 'carote': 70,\n",
    "               'melanzane': 20,\n",
    "             })"
   ]
  },
  {
   "cell_type": "code",
   "execution_count": 9,
   "id": "26bc7600",
   "metadata": {
    "slideshow": {
     "slide_type": "-"
    }
   },
   "outputs": [
    {
     "data": {
      "text/plain": [
       "{'carote': 70, 'pomodori': 8, 'cavoli': 3, 'melanzane': 20}"
      ]
     },
     "execution_count": 9,
     "metadata": {},
     "output_type": "execute_result"
    }
   ],
   "source": [
    "orto"
   ]
  },
  {
   "cell_type": "code",
   "execution_count": 10,
   "id": "73fa545c-stripped",
   "metadata": {
    "nbsphinx": "hidden"
   },
   "outputs": [],
   "source": []
  }
 ],
 "metadata": {
  "celltoolbar": "Slideshow",
  "kernelspec": {
   "display_name": "Python 3 (ipykernel)",
   "language": "python",
   "name": "python3"
  },
  "language_info": {
   "codemirror_mode": {
    "name": "ipython",
    "version": 3
   },
   "file_extension": ".py",
   "mimetype": "text/x-python",
   "name": "python",
   "nbconvert_exporter": "python",
   "pygments_lexer": "ipython3",
   "version": "3.7.17"
  },
  "toc": {
   "base_numbering": 1,
   "nav_menu": {},
   "number_sections": false,
   "sideBar": true,
   "skip_h1_title": false,
   "title_cell": "Table of Contents",
   "title_sidebar": "Contents",
   "toc_cell": false,
   "toc_position": {
    "height": "calc(100% - 180px)",
    "left": "10px",
    "top": "150px",
    "width": "311px"
   },
   "toc_section_display": true,
   "toc_window_display": true
  }
 },
 "nbformat": 4,
 "nbformat_minor": 5
}
