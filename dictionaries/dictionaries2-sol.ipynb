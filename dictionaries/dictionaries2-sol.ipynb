{
 "cells": [
  {
   "cell_type": "code",
   "execution_count": 1,
   "id": "8e77c3a2",
   "metadata": {
    "slideshow": {
     "slide_type": "skip"
    }
   },
   "outputs": [
    {
     "data": {
      "text/html": [
       "        \n",
       "            <script src=\"../_static/js/python.iife.js\" type=\"application/javascript\"></script>\n",
       "        "
      ],
      "text/plain": [
       "<IPython.core.display.HTML object>"
      ]
     },
     "execution_count": 1,
     "metadata": {},
     "output_type": "execute_result"
    }
   ],
   "source": [
    "import sys\n",
    "sys.path.append('../')\n",
    "import jupman\n",
    "\n",
    "import conf\n",
    "\n",
    "conf.jm.init_icp()"
   ]
  },
  {
   "cell_type": "markdown",
   "id": "0049100b",
   "metadata": {
    "slideshow": {
     "slide_type": "slide"
    }
   },
   "source": [
    "\n",
    "# Dizionari 2: operatori\n",
    "\n",
    "**Riferimenti:** [SoftPython - dizionari 2](https://it.softpython.org/dictionaries/dictionaries2-sol.html)\n",
    "\n",
    "* visualizza al meglio in <img style=\"display:inline; width:25px; vertical-align: middle;\" src=\"../_static/img/chrome.png\" alttext=\"Chrome\">\n",
    "* versione stampabile: [clicca qua](?print-pdf)\n",
    "* per navigare nelle slide: premere `Esc`\n",
    "\n",
    "<br>\n",
    "<br>\n",
    "\n",
    "**Summer School Data Science 2023 - Modulo 1 informatica:** [Moodle](https://didatticaonline.unitn.it/dol/course/view.php?id=36683) \n",
    "\n",
    "Docente: David Leoni david.leoni@unitn.it\n",
    "\n",
    "Esercitatore: Luca Bosotti luca.bosotti@studenti.unitn.it\n"
   ]
  },
  {
   "cell_type": "markdown",
   "id": "8b6816e5",
   "metadata": {
    "colab_type": "text",
    "id": "poPVz2M0AFWT",
    "slideshow": {
     "slide_type": "subslide"
    }
   },
   "source": [
    "\n",
    "## Operatori\n",
    "\n",
    "|Operatore|Sintassi|Ritorna|Descrizione|\n",
    "|---------|-------|-------|-----------|\n",
    "|[lunghezza](#len)|`len`(dict)|`int`|Ritorna il numero di chiavi|\n",
    "|[lettura](#Leggere-un-valore)|dict`[`chiave`]`|obj|Ritorna il valore associato alla chiave|\n",
    "|[modifica](#Scrivere---aggiunta-chiave/valore)|dict`[`chiave`]` `=` valore||Aggiunge o modifica il valore associato ad una chiave|\n",
    "|[rimozione](#Scrivere---cancellare)|`del` dict`[`chiave`]`||Rimuove la coppia chiave/valore|\n",
    "|[appartenenza](#Appartenenza-con-in)|chiave `in` dict|`bool`|Ritorna `True` se chiave è presente nel dizionario|\n",
    "|[uguaglianza](#Uguaglianza)|`==`,`!=`|`bool`|Controlla se due dizionari sono uguali o differenti|\n",
    "\n",
    "\n",
    "**Riferimenti**:\n",
    "\n",
    "- [SoftPython - dizionari 2: operatori](https://it.softpython.org/dictionaries/dictionaries2-sol.html)"
   ]
  },
  {
   "cell_type": "markdown",
   "id": "a33b06e6",
   "metadata": {
    "slideshow": {
     "slide_type": "slide"
    }
   },
   "source": [
    "## `len`\n",
    "\n",
    "Conta il _numero di associazioni_:"
   ]
  },
  {
   "cell_type": "code",
   "execution_count": 2,
   "id": "81561e6c",
   "metadata": {
    "slideshow": {
     "slide_type": "-"
    }
   },
   "outputs": [
    {
     "data": {
      "text/plain": [
       "3"
      ]
     },
     "execution_count": 2,
     "metadata": {},
     "output_type": "execute_result"
    }
   ],
   "source": [
    "len({'a':5,\n",
    "     'b':9,\n",
    "     'c':7\n",
    "})"
   ]
  },
  {
   "cell_type": "code",
   "execution_count": 3,
   "id": "293d246e",
   "metadata": {
    "slideshow": {
     "slide_type": "fragment"
    }
   },
   "outputs": [
    {
     "data": {
      "text/plain": [
       "4"
      ]
     },
     "execution_count": 3,
     "metadata": {},
     "output_type": "execute_result"
    }
   ],
   "source": [
    "#jupman-purge-output\n",
    "len({(1, 2)  : ['a','b','c'],\n",
    "     (4, 5)  : ['d','e','f'],\n",
    "     (7, 8)  : ['g','h','i'],\n",
    "     (10,11) : ['e','l','m']\n",
    "    })"
   ]
  },
  {
   "cell_type": "code",
   "execution_count": 4,
   "id": "85e4b4b4",
   "metadata": {
    "slideshow": {
     "slide_type": "fragment"
    }
   },
   "outputs": [
    {
     "data": {
      "text/plain": [
       "4"
      ]
     },
     "execution_count": 4,
     "metadata": {},
     "output_type": "execute_result"
    }
   ],
   "source": [
    "#jupman-purge-input\n",
    "_"
   ]
  },
  {
   "cell_type": "markdown",
   "id": "a67845d6",
   "metadata": {
    "colab_type": "text",
    "id": "-KbnLHG4AFWY",
    "slideshow": {
     "slide_type": "slide"
    }
   },
   "source": [
    "## Leggere valori\n",
    "\n",
    "\n",
    "> Data una **chiave**, possiamo reperire ***velocemente*** **il valore corrispondente**\n"
   ]
  },
  {
   "cell_type": "code",
   "execution_count": 5,
   "id": "7efde9dd",
   "metadata": {
    "colab": {
     "autoexec": {
      "startup": false,
      "wait_interval": 0
     },
     "output_extras": [
      {}
     ]
    },
    "colab_type": "code",
    "id": "uOtygGF-AFWY",
    "outputId": "424158a1-1e06-4101-dfb8-3c5ea0439140",
    "slideshow": {
     "slide_type": "-"
    }
   },
   "outputs": [
    {
     "data": {
      "text/plain": [
       "'mobiletto da camera'"
      ]
     },
     "execution_count": 5,
     "metadata": {},
     "output_type": "execute_result"
    }
   ],
   "source": [
    "d = { 'sedia'   : 'un mobile per sedersi',\n",
    "      'armadio' : 'un mobile a ripiani',     \n",
    "      'comodino': 'mobiletto da camera'\n",
    "}\n",
    "# Per accedere ad un valore, possiamo usare una chiave tra parentesi quadre:\n",
    "d['comodino']"
   ]
  },
  {
   "cell_type": "markdown",
   "id": "c8c00bad",
   "metadata": {
    "colab": {
     "autoexec": {
      "startup": false,
      "wait_interval": 0
     },
     "output_extras": [
      {}
     ]
    },
    "colab_type": "code",
    "id": "USOz4GrKAFWh",
    "outputId": "c19e78b1-5506-4ae2-9e52-123c6a36c24c",
    "slideshow": {
     "slide_type": "fragment"
    }
   },
   "source": [
    "```python\n",
    "d['un mobile a ripiani']\n",
    "```"
   ]
  },
  {
   "cell_type": "markdown",
   "id": "d2c655f4",
   "metadata": {
    "slideshow": {
     "slide_type": "fragment"
    }
   },
   "source": [
    "```python\n",
    "---------------------------------------------------------------------------\n",
    "KeyError                                  Traceback (most recent call last)\n",
    "/tmp/ipykernel_14605/4214485247.py in <module>\n",
    "----> 1 d['un mobile a ripiani']\n",
    "\n",
    "KeyError: 'un mobile a ripiani'\n",
    "```"
   ]
  },
  {
   "cell_type": "markdown",
   "id": "8d4a0430",
   "metadata": {
    "slideshow": {
     "slide_type": "slide"
    }
   },
   "source": [
    "## Questione d'ordine 1/2\n",
    "\n",
    "> Le chiavi sono immutabili, **non hanno ordine** e <br> non vi possono essere duplicati"
   ]
  },
  {
   "cell_type": "markdown",
   "id": "858f65dd",
   "metadata": {
    "slideshow": {
     "slide_type": "fragment"
    }
   },
   "source": [
    "```python\n",
    "d[0]\n",
    "```"
   ]
  },
  {
   "cell_type": "markdown",
   "id": "a94e199d",
   "metadata": {
    "slideshow": {
     "slide_type": "fragment"
    }
   },
   "source": [
    "```python\n",
    "---------------------------------------------------------------------------\n",
    "KeyError                                  Traceback (most recent call last)\n",
    "/tmp/ipykernel_9124/1089268471.py in <module>\n",
    "----> 1 d[0]\n",
    "\n",
    "KeyError: 0\n",
    "```"
   ]
  },
  {
   "cell_type": "markdown",
   "id": "7e8ec437",
   "metadata": {
    "slideshow": {
     "slide_type": "subslide"
    }
   },
   "source": [
    "### Questione d'ordine 2/2"
   ]
  },
  {
   "cell_type": "code",
   "execution_count": 6,
   "id": "99e6511b",
   "metadata": {
    "slideshow": {
     "slide_type": "-"
    }
   },
   "outputs": [],
   "source": [
    "civici = {\n",
    "    14 : \"Simpson\",    \n",
    "    5 :  \"Griffin\",\n",
    "    20 : \"South Park\"\n",
    "}"
   ]
  },
  {
   "cell_type": "code",
   "execution_count": 7,
   "id": "2f6170a0",
   "metadata": {
    "slideshow": {
     "slide_type": "fragment"
    }
   },
   "outputs": [
    {
     "data": {
      "text/plain": [
       "'Griffin'"
      ]
     },
     "execution_count": 7,
     "metadata": {},
     "output_type": "execute_result"
    }
   ],
   "source": [
    "civici[5]"
   ]
  },
  {
   "cell_type": "markdown",
   "id": "3da085e5",
   "metadata": {
    "slideshow": {
     "slide_type": "fragment"
    }
   },
   "source": [
    "```python\n",
    "civici[1]\n",
    "```"
   ]
  },
  {
   "cell_type": "markdown",
   "id": "a65e8dae",
   "metadata": {
    "slideshow": {
     "slide_type": "fragment"
    }
   },
   "source": [
    "```python\n",
    "---------------------------------------------------------------------------\n",
    "KeyError                                  Traceback (most recent call last)\n",
    "/tmp/ipykernel_9124/1089268471.py in <module>\n",
    "----> 1 d[1]\n",
    "\n",
    "KeyError: 1\n",
    "```"
   ]
  },
  {
   "cell_type": "markdown",
   "id": "46d3cfdf",
   "metadata": {
    "slideshow": {
     "slide_type": "slide"
    }
   },
   "source": [
    "## Modificare associazioni"
   ]
  },
  {
   "cell_type": "code",
   "execution_count": 8,
   "id": "5af8e71b",
   "metadata": {},
   "outputs": [],
   "source": [
    "d = { 'sedia'   : 'un mobile per sedersi',\n",
    "      'armadio' : 'un mobile a ripiani',  \n",
    "}"
   ]
  },
  {
   "cell_type": "markdown",
   "id": "5c0ee21c",
   "metadata": {},
   "source": [
    "Possiamo aggiungere un'associazione così:"
   ]
  },
  {
   "cell_type": "code",
   "execution_count": 9,
   "id": "5330e873",
   "metadata": {
    "colab": {
     "autoexec": {
      "startup": false,
      "wait_interval": 0
     }
    },
    "colab_type": "code",
    "id": "n_jOaUL7AFWn",
    "slideshow": {
     "slide_type": "fragment"
    }
   },
   "outputs": [],
   "source": [
    "d['comodino'] = 'mobiletto da camera'"
   ]
  },
  {
   "cell_type": "code",
   "execution_count": 10,
   "id": "0d70261a",
   "metadata": {
    "slideshow": {
     "slide_type": "fragment"
    }
   },
   "outputs": [
    {
     "data": {
      "text/plain": [
       "{'sedia': 'un mobile per sedersi',\n",
       " 'armadio': 'un mobile a ripiani',\n",
       " 'comodino': 'mobiletto da camera'}"
      ]
     },
     "execution_count": 10,
     "metadata": {},
     "output_type": "execute_result"
    }
   ],
   "source": [
    "d"
   ]
  },
  {
   "cell_type": "markdown",
   "id": "6ef28d6b",
   "metadata": {
    "slideshow": {
     "slide_type": "subslide"
    }
   },
   "source": [
    "### Sovrascrivere associazioni\n"
   ]
  },
  {
   "cell_type": "code",
   "execution_count": 11,
   "id": "a89aeba3",
   "metadata": {
    "slideshow": {
     "slide_type": "-"
    }
   },
   "outputs": [],
   "source": [
    "d = { 'sedia'   : 'un mobile per sedersi',\n",
    "      'armadio' : 'un mobile a ripiani',  \n",
    "}"
   ]
  },
  {
   "cell_type": "code",
   "execution_count": 12,
   "id": "f7be56d5",
   "metadata": {
    "slideshow": {
     "slide_type": "fragment"
    }
   },
   "outputs": [],
   "source": [
    "d['armadio'] = 'un mobile a ripiani, solitamente due ante'"
   ]
  },
  {
   "cell_type": "code",
   "execution_count": 13,
   "id": "7e08d0b8",
   "metadata": {
    "slideshow": {
     "slide_type": "fragment"
    }
   },
   "outputs": [
    {
     "data": {
      "text/plain": [
       "{'sedia': 'un mobile per sedersi',\n",
       " 'armadio': 'un mobile a ripiani, solitamente due ante'}"
      ]
     },
     "execution_count": 13,
     "metadata": {},
     "output_type": "execute_result"
    }
   ],
   "source": [
    "d"
   ]
  },
  {
   "cell_type": "markdown",
   "id": "49f1fb4d",
   "metadata": {
    "slideshow": {
     "slide_type": "slide"
    }
   },
   "source": [
    "### Cancellare associazioni con `del`"
   ]
  },
  {
   "cell_type": "code",
   "execution_count": 14,
   "id": "5b2d0996",
   "metadata": {},
   "outputs": [],
   "source": [
    "d = { 'sedia'   : 'un mobile per sedersi',\n",
    "      'armadio' : 'un mobile a ripiani',  \n",
    "}"
   ]
  },
  {
   "cell_type": "code",
   "execution_count": 15,
   "id": "1c7f3136",
   "metadata": {},
   "outputs": [],
   "source": [
    "del d['armadio']"
   ]
  },
  {
   "cell_type": "code",
   "execution_count": 16,
   "id": "36b595ab",
   "metadata": {},
   "outputs": [
    {
     "data": {
      "text/plain": [
       "{'sedia': 'un mobile per sedersi'}"
      ]
     },
     "execution_count": 16,
     "metadata": {},
     "output_type": "execute_result"
    }
   ],
   "source": [
    "d"
   ]
  },
  {
   "cell_type": "markdown",
   "id": "43f7a001",
   "metadata": {
    "slideshow": {
     "slide_type": "fragment"
    }
   },
   "source": [
    "<div class=\"alert alert-warning\">\n",
    "\n",
    "`del` è un _operatore_\n",
    "\n",
    "</div>"
   ]
  },
  {
   "cell_type": "markdown",
   "id": "b38eda40",
   "metadata": {
    "colab_type": "text",
    "id": "9IpoJd3WAFXP",
    "slideshow": {
     "slide_type": "subslide"
    }
   },
   "source": [
    "### Che chiavi possiamo usare?\n"
   ]
  },
  {
   "cell_type": "code",
   "execution_count": 17,
   "id": "5f78be34",
   "metadata": {
    "slideshow": {
     "slide_type": "-"
    }
   },
   "outputs": [],
   "source": [
    "d = {}"
   ]
  },
  {
   "cell_type": "code",
   "execution_count": 18,
   "id": "73651b87",
   "metadata": {
    "colab": {
     "autoexec": {
      "startup": false,
      "wait_interval": 0
     }
    },
    "colab_type": "code",
    "id": "2GGqOz7XAFXS",
    "slideshow": {
     "slide_type": "-"
    }
   },
   "outputs": [],
   "source": [
    "d[54] = 'pippo'"
   ]
  },
  {
   "cell_type": "code",
   "execution_count": 19,
   "id": "d6c58b75",
   "metadata": {
    "slideshow": {
     "slide_type": "fragment"
    }
   },
   "outputs": [],
   "source": [
    "d['83a'] = 'topolino'"
   ]
  },
  {
   "cell_type": "code",
   "execution_count": 20,
   "id": "25c6fd93",
   "metadata": {
    "slideshow": {
     "slide_type": "fragment"
    }
   },
   "outputs": [],
   "source": [
    "d[('via dei Platani', 54)] = 'Paperino'"
   ]
  },
  {
   "cell_type": "code",
   "execution_count": 21,
   "id": "7e55c3d9",
   "metadata": {
    "colab": {
     "autoexec": {
      "startup": false,
      "wait_interval": 0
     },
     "output_extras": [
      {}
     ]
    },
    "colab_type": "code",
    "id": "xT8hKlKWAFXW",
    "outputId": "8f04e1e5-9e98-4765-b639-4720aa4cd863",
    "slideshow": {
     "slide_type": "fragment"
    }
   },
   "outputs": [
    {
     "data": {
      "text/plain": [
       "{54: 'pippo', '83a': 'topolino', ('via dei Platani', 54): 'Paperino'}"
      ]
     },
     "execution_count": 21,
     "metadata": {},
     "output_type": "execute_result"
    }
   ],
   "source": [
    "d"
   ]
  },
  {
   "cell_type": "markdown",
   "id": "dd3b6e0f",
   "metadata": {
    "colab": {
     "autoexec": {
      "startup": false,
      "wait_interval": 0
     }
    },
    "colab_type": "code",
    "id": "yjUVpZA9AFXp",
    "slideshow": {
     "slide_type": "fragment"
    }
   },
   "source": [
    "```python\n",
    "d[ {'una', 'qualche', 'galera'} ] = \"gambadilegno\"\n",
    "```"
   ]
  },
  {
   "cell_type": "markdown",
   "id": "776ea3df",
   "metadata": {
    "slideshow": {
     "slide_type": "fragment"
    }
   },
   "source": [
    "```python\n",
    "TypeError                                 Traceback (most recent call last)\n",
    "/tmp/ipykernel_3047/3187326270.py in <module>\n",
    "----> 1 d[ {'una', 'qualche', 'galera'} ] = \"gambadilegno\"\n",
    "    \n",
    "TypeError: unhashable type: 'set'\n",
    "```"
   ]
  },
  {
   "cell_type": "markdown",
   "id": "35659c79",
   "metadata": {
    "slideshow": {
     "slide_type": "slide"
    }
   },
   "source": [
    "##  Cercare `in` dizionari\n",
    "\n",
    "<div class=\"alert alert-warning\">\n",
    "\n",
    "**ATTENZIONE**: `in` nei dizionari cerca **solo** nelle chiavi!\n",
    "</div>"
   ]
  },
  {
   "cell_type": "code",
   "execution_count": 22,
   "id": "a9a1efa8",
   "metadata": {
    "slideshow": {
     "slide_type": "-"
    }
   },
   "outputs": [
    {
     "data": {
      "text/plain": [
       "True"
      ]
     },
     "execution_count": 22,
     "metadata": {},
     "output_type": "execute_result"
    }
   ],
   "source": [
    "ingredienti = { 'farina'   : 500,\n",
    "                'uova'     : 2,\n",
    "                'zucchero' : 200,\n",
    "}\n",
    "\n",
    "'farina' in ingredienti"
   ]
  },
  {
   "cell_type": "code",
   "execution_count": 23,
   "id": "ae61883f",
   "metadata": {
    "slideshow": {
     "slide_type": "fragment"
    }
   },
   "outputs": [
    {
     "data": {
      "text/plain": [
       "False"
      ]
     },
     "execution_count": 23,
     "metadata": {},
     "output_type": "execute_result"
    }
   ],
   "source": [
    "#jupman-purge-output\n",
    "500 in ingredienti"
   ]
  },
  {
   "cell_type": "code",
   "execution_count": 24,
   "id": "b2a01d3f",
   "metadata": {
    "slideshow": {
     "slide_type": "fragment"
    }
   },
   "outputs": [
    {
     "data": {
      "text/plain": [
       "False"
      ]
     },
     "execution_count": 24,
     "metadata": {},
     "output_type": "execute_result"
    }
   ],
   "source": [
    "#jupman-purge-input\n",
    "_"
   ]
  },
  {
   "cell_type": "markdown",
   "id": "c2a5d9ca",
   "metadata": {
    "slideshow": {
     "slide_type": "subslide"
    }
   },
   "source": [
    "### E `in` dizionari complessi?"
   ]
  },
  {
   "cell_type": "code",
   "execution_count": 25,
   "id": "e2fb8433",
   "metadata": {
    "slideshow": {
     "slide_type": "fragment"
    }
   },
   "outputs": [],
   "source": [
    "vip = { \n",
    "    ('Napoleone','Giuseppina') : 'Parigi',\n",
    "    ('Romeo', 'Giulietta')     : 'Verona'\n",
    "}         "
   ]
  },
  {
   "cell_type": "code",
   "execution_count": 26,
   "id": "7fdd7861",
   "metadata": {
    "slideshow": {
     "slide_type": "fragment"
    }
   },
   "outputs": [
    {
     "data": {
      "text/plain": [
       "{('Napoleone', 'Giuseppina'): 'Parigi', ('Romeo', 'Giulietta'): 'Verona'}"
      ]
     },
     "execution_count": 26,
     "metadata": {},
     "output_type": "execute_result"
    }
   ],
   "source": [
    "vip"
   ]
  },
  {
   "cell_type": "code",
   "execution_count": 27,
   "id": "462389cc",
   "metadata": {
    "slideshow": {
     "slide_type": "fragment"
    }
   },
   "outputs": [
    {
     "data": {
      "text/plain": [
       "False"
      ]
     },
     "execution_count": 27,
     "metadata": {},
     "output_type": "execute_result"
    }
   ],
   "source": [
    "#jupman-purge-output\n",
    "('Cesare','Cleopatra') in vip"
   ]
  },
  {
   "cell_type": "code",
   "execution_count": 28,
   "id": "6f6b2ce6",
   "metadata": {
    "slideshow": {
     "slide_type": "fragment"
    }
   },
   "outputs": [
    {
     "data": {
      "text/plain": [
       "False"
      ]
     },
     "execution_count": 28,
     "metadata": {},
     "output_type": "execute_result"
    }
   ],
   "source": [
    "#jupman-purge-input\n",
    "_"
   ]
  },
  {
   "cell_type": "markdown",
   "id": "1bab5c88",
   "metadata": {
    "slideshow": {
     "slide_type": "fragment"
    }
   },
   "source": [
    "```python\n",
    "['Bonnie', 'Clyde'] in vip\n",
    "```"
   ]
  },
  {
   "cell_type": "markdown",
   "id": "c42f0b57",
   "metadata": {
    "slideshow": {
     "slide_type": "fragment"
    }
   },
   "source": [
    "```python\n",
    "---------------------------------------------------------------------------\n",
    "TypeError                                 Traceback (most recent call last)\n",
    "/tmp/ipykernel_9124/998032385.py in <module>\n",
    "----> 1 ['Bonnie', 'Clyde'] in vip\n",
    "\n",
    "TypeError: unhashable type: 'list'\n",
    "```"
   ]
  },
  {
   "cell_type": "markdown",
   "id": "8c0cebd4",
   "metadata": {
    "slideshow": {
     "slide_type": "slide"
    }
   },
   "source": [
    "## Sono uguali?"
   ]
  },
  {
   "cell_type": "code",
   "execution_count": 29,
   "id": "0b3c0da2",
   "metadata": {
    "slideshow": {
     "slide_type": "fragment"
    }
   },
   "outputs": [
    {
     "data": {
      "text/plain": [
       "True"
      ]
     },
     "execution_count": 29,
     "metadata": {},
     "output_type": "execute_result"
    }
   ],
   "source": [
    "#jupman-purge-output\n",
    "diz1 = {\n",
    "    'a':'c', \n",
    "    'b':'d'\n",
    "}\n",
    "diz2 = {\n",
    "    'b':'d', \n",
    "    'a':'c'\n",
    "}\n",
    "diz1 == diz2"
   ]
  },
  {
   "cell_type": "code",
   "execution_count": 30,
   "id": "e4388837",
   "metadata": {
    "slideshow": {
     "slide_type": "fragment"
    }
   },
   "outputs": [
    {
     "data": {
      "text/plain": [
       "True"
      ]
     },
     "execution_count": 30,
     "metadata": {},
     "output_type": "execute_result"
    }
   ],
   "source": [
    "#jupman-purge-input\n",
    "_"
   ]
  },
  {
   "cell_type": "code",
   "execution_count": 31,
   "id": "4811de68",
   "metadata": {
    "slideshow": {
     "slide_type": "fragment"
    }
   },
   "outputs": [
    {
     "name": "stdout",
     "output_type": "stream",
     "text": [
      "True\n"
     ]
    }
   ],
   "source": [
    "#jupman-purge-output\n",
    "da = {}\n",
    "da[2] = 5\n",
    "da[3] = 7\n",
    "\n",
    "db = {3:7,\n",
    "      2:5}\n",
    "print(diz1 == diz2)"
   ]
  },
  {
   "cell_type": "code",
   "execution_count": 32,
   "id": "c04f0357",
   "metadata": {
    "slideshow": {
     "slide_type": "fragment"
    }
   },
   "outputs": [
    {
     "data": {
      "text/plain": [
       "True"
      ]
     },
     "execution_count": 32,
     "metadata": {},
     "output_type": "execute_result"
    }
   ],
   "source": [
    "#jupman-purge-input\n",
    "_"
   ]
  },
  {
   "cell_type": "code",
   "execution_count": 33,
   "id": "63940a60",
   "metadata": {
    "slideshow": {
     "slide_type": "subslide"
    }
   },
   "outputs": [
    {
     "name": "stdout",
     "output_type": "stream",
     "text": [
      "diz1 {'a': [1, 2], 'b': [4, 5, 6]}\n",
      "diz2 {'a': [1, 2], 'b': [4, 5, 6]}\n",
      "uguali prima? True\n",
      "diz1 {'a': [1, 2, 3], 'b': [4, 5, 6]}\n",
      "diz2 {'a': [1, 2, 3], 'b': [4, 5, 6]}\n",
      "uguali dopo? True\n"
     ]
    },
    {
     "data": {
      "text/html": [
       "        \n",
       "        <script src=\"../_static/js/pytutor-embed.bundle.min.js\" #type=\"application/javascript\"></script>\n",
       "    \n",
       "        <style>\n",
       "        @import \"../_static/css/jupman.css\";\n",
       "        </style>\n",
       "     \n",
       "        <script id=\"trace-jm-a0b140557e1454bf950be4ca6f8143d2-35\" type=\"application/json\" >\n",
       "            {\"code\": \" \\ndiz1 = {'a':[1,2],\\n        'b':[4,5,6]}\\ndiz2 = diz1.copy()\\nprint('diz1', diz1)\\nprint('diz2', diz2)\\nprint('uguali prima?', diz1 == diz2)\\n\\ndiz1['a'].append(3)\\nprint('diz1', diz1)\\nprint('diz2', diz2)\\nprint('uguali dopo?', diz1 == diz2)\", \"trace\": [{\"line\": 2, \"event\": \"step_line\", \"func_name\": \"<module>\", \"globals\": {}, \"ordered_globals\": [], \"stack_to_render\": [], \"heap\": {}, \"stdout\": \"\"}, {\"line\": 3, \"event\": \"step_line\", \"func_name\": \"<module>\", \"globals\": {}, \"ordered_globals\": [], \"stack_to_render\": [], \"heap\": {}, \"stdout\": \"\"}, {\"line\": 4, \"event\": \"step_line\", \"func_name\": \"<module>\", \"globals\": {\"diz1\": [\"REF\", 1]}, \"ordered_globals\": [\"diz1\"], \"stack_to_render\": [], \"heap\": {\"1\": [\"DICT\", [\"a\", [\"REF\", 2]], [\"b\", [\"REF\", 3]]], \"2\": [\"LIST\", 1, 2], \"3\": [\"LIST\", 4, 5, 6]}, \"stdout\": \"\"}, {\"line\": 5, \"event\": \"step_line\", \"func_name\": \"<module>\", \"globals\": {\"diz1\": [\"REF\", 1], \"diz2\": [\"REF\", 4]}, \"ordered_globals\": [\"diz1\", \"diz2\"], \"stack_to_render\": [], \"heap\": {\"1\": [\"DICT\", [\"a\", [\"REF\", 2]], [\"b\", [\"REF\", 3]]], \"2\": [\"LIST\", 1, 2], \"3\": [\"LIST\", 4, 5, 6], \"4\": [\"DICT\", [\"a\", [\"REF\", 2]], [\"b\", [\"REF\", 3]]]}, \"stdout\": \"\"}, {\"line\": 6, \"event\": \"step_line\", \"func_name\": \"<module>\", \"globals\": {\"diz1\": [\"REF\", 1], \"diz2\": [\"REF\", 4]}, \"ordered_globals\": [\"diz1\", \"diz2\"], \"stack_to_render\": [], \"heap\": {\"1\": [\"DICT\", [\"a\", [\"REF\", 2]], [\"b\", [\"REF\", 3]]], \"2\": [\"LIST\", 1, 2], \"3\": [\"LIST\", 4, 5, 6], \"4\": [\"DICT\", [\"a\", [\"REF\", 2]], [\"b\", [\"REF\", 3]]]}, \"stdout\": \"diz1 {'a': [1, 2], 'b': [4, 5, 6]}\\n\"}, {\"line\": 7, \"event\": \"step_line\", \"func_name\": \"<module>\", \"globals\": {\"diz1\": [\"REF\", 1], \"diz2\": [\"REF\", 4]}, \"ordered_globals\": [\"diz1\", \"diz2\"], \"stack_to_render\": [], \"heap\": {\"1\": [\"DICT\", [\"a\", [\"REF\", 2]], [\"b\", [\"REF\", 3]]], \"2\": [\"LIST\", 1, 2], \"3\": [\"LIST\", 4, 5, 6], \"4\": [\"DICT\", [\"a\", [\"REF\", 2]], [\"b\", [\"REF\", 3]]]}, \"stdout\": \"diz1 {'a': [1, 2], 'b': [4, 5, 6]}\\ndiz2 {'a': [1, 2], 'b': [4, 5, 6]}\\n\"}, {\"line\": 9, \"event\": \"step_line\", \"func_name\": \"<module>\", \"globals\": {\"diz1\": [\"REF\", 1], \"diz2\": [\"REF\", 4]}, \"ordered_globals\": [\"diz1\", \"diz2\"], \"stack_to_render\": [], \"heap\": {\"1\": [\"DICT\", [\"a\", [\"REF\", 2]], [\"b\", [\"REF\", 3]]], \"2\": [\"LIST\", 1, 2], \"3\": [\"LIST\", 4, 5, 6], \"4\": [\"DICT\", [\"a\", [\"REF\", 2]], [\"b\", [\"REF\", 3]]]}, \"stdout\": \"diz1 {'a': [1, 2], 'b': [4, 5, 6]}\\ndiz2 {'a': [1, 2], 'b': [4, 5, 6]}\\nuguali prima? True\\n\"}, {\"line\": 10, \"event\": \"step_line\", \"func_name\": \"<module>\", \"globals\": {\"diz1\": [\"REF\", 1], \"diz2\": [\"REF\", 4]}, \"ordered_globals\": [\"diz1\", \"diz2\"], \"stack_to_render\": [], \"heap\": {\"1\": [\"DICT\", [\"a\", [\"REF\", 2]], [\"b\", [\"REF\", 3]]], \"2\": [\"LIST\", 1, 2, 3], \"3\": [\"LIST\", 4, 5, 6], \"4\": [\"DICT\", [\"a\", [\"REF\", 2]], [\"b\", [\"REF\", 3]]]}, \"stdout\": \"diz1 {'a': [1, 2], 'b': [4, 5, 6]}\\ndiz2 {'a': [1, 2], 'b': [4, 5, 6]}\\nuguali prima? True\\n\"}, {\"line\": 11, \"event\": \"step_line\", \"func_name\": \"<module>\", \"globals\": {\"diz1\": [\"REF\", 1], \"diz2\": [\"REF\", 4]}, \"ordered_globals\": [\"diz1\", \"diz2\"], \"stack_to_render\": [], \"heap\": {\"1\": [\"DICT\", [\"a\", [\"REF\", 2]], [\"b\", [\"REF\", 3]]], \"2\": [\"LIST\", 1, 2, 3], \"3\": [\"LIST\", 4, 5, 6], \"4\": [\"DICT\", [\"a\", [\"REF\", 2]], [\"b\", [\"REF\", 3]]]}, \"stdout\": \"diz1 {'a': [1, 2], 'b': [4, 5, 6]}\\ndiz2 {'a': [1, 2], 'b': [4, 5, 6]}\\nuguali prima? True\\ndiz1 {'a': [1, 2, 3], 'b': [4, 5, 6]}\\n\"}, {\"line\": 12, \"event\": \"step_line\", \"func_name\": \"<module>\", \"globals\": {\"diz1\": [\"REF\", 1], \"diz2\": [\"REF\", 4]}, \"ordered_globals\": [\"diz1\", \"diz2\"], \"stack_to_render\": [], \"heap\": {\"1\": [\"DICT\", [\"a\", [\"REF\", 2]], [\"b\", [\"REF\", 3]]], \"2\": [\"LIST\", 1, 2, 3], \"3\": [\"LIST\", 4, 5, 6], \"4\": [\"DICT\", [\"a\", [\"REF\", 2]], [\"b\", [\"REF\", 3]]]}, \"stdout\": \"diz1 {'a': [1, 2], 'b': [4, 5, 6]}\\ndiz2 {'a': [1, 2], 'b': [4, 5, 6]}\\nuguali prima? True\\ndiz1 {'a': [1, 2, 3], 'b': [4, 5, 6]}\\ndiz2 {'a': [1, 2, 3], 'b': [4, 5, 6]}\\n\"}, {\"line\": 12, \"event\": \"return\", \"func_name\": \"<module>\", \"globals\": {\"diz1\": [\"REF\", 1], \"diz2\": [\"REF\", 4]}, \"ordered_globals\": [\"diz1\", \"diz2\"], \"stack_to_render\": [], \"heap\": {\"1\": [\"DICT\", [\"a\", [\"REF\", 2]], [\"b\", [\"REF\", 3]]], \"2\": [\"LIST\", 1, 2, 3], \"3\": [\"LIST\", 4, 5, 6], \"4\": [\"DICT\", [\"a\", [\"REF\", 2]], [\"b\", [\"REF\", 3]]]}, \"stdout\": \"diz1 {'a': [1, 2], 'b': [4, 5, 6]}\\ndiz2 {'a': [1, 2], 'b': [4, 5, 6]}\\nuguali prima? True\\ndiz1 {'a': [1, 2, 3], 'b': [4, 5, 6]}\\ndiz2 {'a': [1, 2, 3], 'b': [4, 5, 6]}\\nuguali dopo? True\\n\"}]}\n",
       "        </script>\n",
       "        <div id=\"jm-a0b140557e1454bf950be4ca6f8143d2-35\" class=\"pytutorVisualizer\"> </div>\n",
       "                            \n",
       "        <script>\n",
       "                          \n",
       "        var jmRenderPytut = function(trace_id, div_id, config){\n",
       "            console.log(\"jupman.py embedded javascript: rendering Python tutor visualizer...\")\n",
       "            \n",
       "            let oldAlert = window.alert;\n",
       "            window.alert = function ( text ) { \n",
       "                console.log( 'tried to alert: ', text );         \n",
       "                return true; \n",
       "            };\n",
       "            let executionVisualizer = null;\n",
       "            try {\n",
       "            \n",
       "                var trace = JSON.parse(document.getElementById(trace_id).innerHTML);                                        \n",
       "                // NOTE: id without #\n",
       "                        \n",
       "                executionVisualizer = addVisualizerToPage(trace, div_id, config);\n",
       "                // hack in case visualizer decides to hide them for no good reason\n",
       "                $('#' + div_id + ' #jmpFirstInstr').show();\n",
       "                $('#' + div_id + ' #jmpLastInstr').show();\n",
       "                \n",
       "                // set overflow for pytuts - need to do in python as css \n",
       "                // does not allow parent selection\n",
       "                var pytuts = $('.pytutorVisualizer');\n",
       "                pytuts.closest('div.output_html.rendered_html.output_result')\n",
       "                        .css('overflow-x', 'visible');\n",
       "            \n",
       "                //pytuts.closest('div.output_html.rendered_html.output_result')\n",
       "                //      .css('background-color','red');                \n",
       "            } catch (error) {\n",
       "                console.error(\"jupman slides: Couldn't visualize Python tutor properly\", error);\n",
       "            }\n",
       "            window.alert = oldAlert;\n",
       "            return executionVisualizer;\n",
       "            \n",
       "        };\n",
       "        </script>\n",
       "        \n",
       "        <script>\n",
       "        var pytut_cfg_a0b140557e1454bf950be4ca6f8143d2_35 = (function(){\n",
       "            var rootFontSize = window.getComputedStyle(document.body).getPropertyValue('font-size');\n",
       "            var rootFontSizeNum = 12;\n",
       "            if (rootFontSize.endsWith('px')){\n",
       "                rootFontSizeNum = Number(rootFontSize.substring(0, rootFontSize.length-2));\n",
       "            } else {\n",
       "                console.error(\"Unrecognized font unit:\", rootFontSize, \"assuming default\", rootFontSizeNum);\n",
       "            }\n",
       "            console.log('rootFontSize', rootFontSize);\n",
       "            \n",
       "            var codeWidthInChars = Math.max(23, 36);\n",
       "            if (0){\n",
       "                codeWidthInChars = 0;    // override\n",
       "            }\n",
       "            return {'embeddedMode' : false,\n",
       "                  'disableHeapNesting': true,\n",
       "                  'visualizerIdOverride':'viz-jm-a0b140557e1454bf950be4ca6f8143d2-35',\n",
       "                  'codeDivWidth': Math.trunc(rootFontSizeNum * codeWidthInChars)\n",
       "                  };\n",
       "        })();                 \n",
       "        \n",
       "        jmRenderPytut('trace-jm-a0b140557e1454bf950be4ca6f8143d2-35', 'jm-a0b140557e1454bf950be4ca6f8143d2-35', pytut_cfg_a0b140557e1454bf950be4ca6f8143d2_35);\n",
       "        </script>\n",
       "                \n",
       "    \n",
       "    <div style=\"text-align:center; font-size:0.9em\"> <a href=\"https://pythontutor.com/visualize.html#mode=edit\" target=\"_blank\">Python Tutor</a> visualization</div> \n",
       "    "
      ],
      "text/plain": [
       "<IPython.core.display.HTML object>"
      ]
     },
     "execution_count": 33,
     "metadata": {},
     "output_type": "execute_result"
    }
   ],
   "source": [
    "#jupman-purge-text-output\n",
    "#jupman-purge-input\n",
    "diz1 = {'a':[1,2],\n",
    "        'b':[4,5,6]}\n",
    "diz2 = diz1.copy()\n",
    "print('diz1', diz1)\n",
    "print('diz2', diz2)\n",
    "print('uguali prima?', diz1 == diz2)\n",
    "\n",
    "diz1['a'].append(3)\n",
    "print('diz1', diz1)\n",
    "print('diz2', diz2)\n",
    "print('uguali dopo?', diz1 == diz2)\n",
    "conf.jm.python_tutor()"
   ]
  },
  {
   "cell_type": "code",
   "execution_count": 34,
   "id": "39c32347",
   "metadata": {},
   "outputs": [
    {
     "data": {
      "text/plain": [
       "''"
      ]
     },
     "execution_count": 34,
     "metadata": {},
     "output_type": "execute_result"
    }
   ],
   "source": [
    "#jupman-purge-io\n",
    "# scrivi qui\n",
    "''"
   ]
  }
 ],
 "metadata": {
  "celltoolbar": "Slideshow",
  "kernelspec": {
   "display_name": "Python 3 (ipykernel)",
   "language": "python",
   "name": "python3"
  },
  "language_info": {
   "codemirror_mode": {
    "name": "ipython",
    "version": 3
   },
   "file_extension": ".py",
   "mimetype": "text/x-python",
   "name": "python",
   "nbconvert_exporter": "python",
   "pygments_lexer": "ipython3",
   "version": "3.7.17"
  },
  "toc": {
   "base_numbering": 1,
   "nav_menu": {},
   "number_sections": false,
   "sideBar": true,
   "skip_h1_title": false,
   "title_cell": "Table of Contents",
   "title_sidebar": "Contents",
   "toc_cell": false,
   "toc_position": {
    "height": "calc(100% - 180px)",
    "left": "10px",
    "top": "150px",
    "width": "311px"
   },
   "toc_section_display": true,
   "toc_window_display": true
  }
 },
 "nbformat": 4,
 "nbformat_minor": 5
}
