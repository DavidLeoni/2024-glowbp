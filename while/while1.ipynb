{
 "cells": [
  {
   "cell_type": "code",
   "execution_count": 1,
   "id": "8e77c3a2",
   "metadata": {
    "slideshow": {
     "slide_type": "skip"
    }
   },
   "outputs": [
    {
     "data": {
      "text/html": [
       "        \n",
       "            <script src=\"_static/js/python.iife.js\" type=\"application/javascript\"></script>\n",
       "        "
      ],
      "text/plain": [
       "<IPython.core.display.HTML object>"
      ]
     },
     "execution_count": 1,
     "metadata": {},
     "output_type": "execute_result"
    }
   ],
   "source": [
    "import jupman\n",
    "\n",
    "import conf\n",
    "\n",
    "conf.jm.init_icp()"
   ]
  },
  {
   "cell_type": "markdown",
   "id": "0049100b",
   "metadata": {
    "slideshow": {
     "slide_type": "slide"
    }
   },
   "source": [
    "# Cicli while 1: introduzione \n",
    "\n",
    "**Riferimenti:** [SoftPython - while 1](https://it.softpython.org/while/while1-sol.html)\n",
    "\n",
    "* visualizza al meglio in <img style=\"display:inline; width:25px; vertical-align: middle;\" src=\"../_static/img/chrome.png\" alttext=\"Chrome\">\n",
    "* versione stampabile: [clicca qua](?print-pdf)\n",
    "* per navigare nelle slide: premere `Esc`\n",
    "\n",
    "<br>\n",
    "<br>\n",
    "\n",
    "**Summer School Data Science 2023 - Modulo 1 informatica:** [Moodle](https://didatticaonline.unitn.it/dol/course/view.php?id=36683) \n",
    "\n",
    "Docente: David Leoni david.leoni@unitn.it\n",
    "\n",
    "Esercitatore: Luca Bosotti luca.bosotti@studenti.unitn.it\n"
   ]
  },
  {
   "cell_type": "markdown",
   "id": "a3f6cd51",
   "metadata": {
    "slideshow": {
     "slide_type": "slide"
    }
   },
   "source": [
    "## Iterare con `while`"
   ]
  },
  {
   "cell_type": "code",
   "execution_count": 2,
   "id": "39e53c03",
   "metadata": {
    "scrolled": true,
    "slideshow": {
     "slide_type": "-"
    }
   },
   "outputs": [
    {
     "name": "stdout",
     "output_type": "stream",
     "text": [
      "Ho contato fino a 1\n",
      "Ho contato fino a 2\n",
      "Ho contato fino a 3\n",
      "Ciclo finito !\n"
     ]
    }
   ],
   "source": [
    "i = 1\n",
    "\n",
    "while i < 4:\n",
    "    print('Ho contato fino a', i)\n",
    "    i += 1\n",
    "    \n",
    "print('Ciclo finito !')"
   ]
  },
  {
   "cell_type": "markdown",
   "id": "cead90d4",
   "metadata": {
    "slideshow": {
     "slide_type": "fragment"
    }
   },
   "source": [
    "Blocco di codice eseguito ripetutamente fintantochè una condizione booleana è vera\n",
    "\n",
    "**Riferimenti**: [SoftPython - cicli while](https://it.softpython.org/while/while1-sol.html)"
   ]
  },
  {
   "cell_type": "markdown",
   "id": "c009d6c2",
   "metadata": {
    "slideshow": {
     "slide_type": "subslide"
    }
   },
   "source": [
    "### Quando usare `while`?\n",
    "\n",
    "Tipicamente per\n",
    "\n",
    "- effettuare ricerche in una sequenza"
   ]
  },
  {
   "cell_type": "markdown",
   "id": "aa38d843",
   "metadata": {
    "slideshow": {
     "slide_type": "fragment"
    }
   },
   "source": [
    "- aggiungere/togliere elementi dalla sequenza che si sta iterando"
   ]
  },
  {
   "cell_type": "markdown",
   "id": "4c84e343",
   "metadata": {
    "slideshow": {
     "slide_type": "fragment"
    }
   },
   "source": [
    "- cicli infiniti"
   ]
  },
  {
   "cell_type": "markdown",
   "id": "b164cdc3",
   "metadata": {
    "slideshow": {
     "slide_type": "fragment"
    }
   },
   "source": [
    "Altrimenti, è consigliabile il `for`\n",
    "\n",
    "Riferimenti: [SoftPython - while - Modificare sequenze](https://it.softpython.org/while/while1-sol.html#Modificare-sequenze)"
   ]
  },
  {
   "cell_type": "markdown",
   "id": "da1354a8",
   "metadata": {
    "slideshow": {
     "slide_type": "slide"
    }
   },
   "source": [
    "## `while`: cercare con `break` (brutto)"
   ]
  },
  {
   "cell_type": "code",
   "execution_count": 3,
   "id": "138fab77-stripped",
   "metadata": {
    "slideshow": {
     "slide_type": "-"
    }
   },
   "outputs": [
    {
     "data": {
      "text/html": [
       "        \n",
       "        <script src=\"_static/js/pytutor-embed.bundle.min.js\" #type=\"application/javascript\"></script>\n",
       "    \n",
       "        <style>\n",
       "        @import \"_static/css/jupman.css\";\n",
       "        </style>\n",
       "     \n",
       "        <script id=\"trace-jm-e39b3c1d1b4b380a84c5154775551565-5\" type=\"application/json\" >\n",
       "            {\"code\": \" \\ncerco='R'\\nlista=['P','A','R','T','I','R','E']\\ni = 0\\nwhile i < len(lista):\\n    if lista[i] == cerco:\\n        print(\\\"Trovata\\\",cerco,\\\"a indice\\\",i)\\n        break\\n    i += 1\\nif i == len(lista):\\n    print(\\\"Non ho trovato\\\", cerco)\", \"trace\": [{\"line\": 2, \"event\": \"step_line\", \"func_name\": \"<module>\", \"globals\": {}, \"ordered_globals\": [], \"stack_to_render\": [], \"heap\": {}, \"stdout\": \"\"}, {\"line\": 3, \"event\": \"step_line\", \"func_name\": \"<module>\", \"globals\": {\"cerco\": \"R\"}, \"ordered_globals\": [\"cerco\"], \"stack_to_render\": [], \"heap\": {}, \"stdout\": \"\"}, {\"line\": 4, \"event\": \"step_line\", \"func_name\": \"<module>\", \"globals\": {\"cerco\": \"R\", \"lista\": [\"REF\", 1]}, \"ordered_globals\": [\"cerco\", \"lista\"], \"stack_to_render\": [], \"heap\": {\"1\": [\"LIST\", \"P\", \"A\", \"R\", \"T\", \"I\", \"R\", \"E\"]}, \"stdout\": \"\"}, {\"line\": 5, \"event\": \"step_line\", \"func_name\": \"<module>\", \"globals\": {\"cerco\": \"R\", \"lista\": [\"REF\", 1], \"i\": 0}, \"ordered_globals\": [\"cerco\", \"lista\", \"i\"], \"stack_to_render\": [], \"heap\": {\"1\": [\"LIST\", \"P\", \"A\", \"R\", \"T\", \"I\", \"R\", \"E\"]}, \"stdout\": \"\"}, {\"line\": 6, \"event\": \"step_line\", \"func_name\": \"<module>\", \"globals\": {\"cerco\": \"R\", \"lista\": [\"REF\", 1], \"i\": 0}, \"ordered_globals\": [\"cerco\", \"lista\", \"i\"], \"stack_to_render\": [], \"heap\": {\"1\": [\"LIST\", \"P\", \"A\", \"R\", \"T\", \"I\", \"R\", \"E\"]}, \"stdout\": \"\"}, {\"line\": 9, \"event\": \"step_line\", \"func_name\": \"<module>\", \"globals\": {\"cerco\": \"R\", \"lista\": [\"REF\", 1], \"i\": 0}, \"ordered_globals\": [\"cerco\", \"lista\", \"i\"], \"stack_to_render\": [], \"heap\": {\"1\": [\"LIST\", \"P\", \"A\", \"R\", \"T\", \"I\", \"R\", \"E\"]}, \"stdout\": \"\"}, {\"line\": 5, \"event\": \"step_line\", \"func_name\": \"<module>\", \"globals\": {\"cerco\": \"R\", \"lista\": [\"REF\", 1], \"i\": 1}, \"ordered_globals\": [\"cerco\", \"lista\", \"i\"], \"stack_to_render\": [], \"heap\": {\"1\": [\"LIST\", \"P\", \"A\", \"R\", \"T\", \"I\", \"R\", \"E\"]}, \"stdout\": \"\"}, {\"line\": 6, \"event\": \"step_line\", \"func_name\": \"<module>\", \"globals\": {\"cerco\": \"R\", \"lista\": [\"REF\", 1], \"i\": 1}, \"ordered_globals\": [\"cerco\", \"lista\", \"i\"], \"stack_to_render\": [], \"heap\": {\"1\": [\"LIST\", \"P\", \"A\", \"R\", \"T\", \"I\", \"R\", \"E\"]}, \"stdout\": \"\"}, {\"line\": 9, \"event\": \"step_line\", \"func_name\": \"<module>\", \"globals\": {\"cerco\": \"R\", \"lista\": [\"REF\", 1], \"i\": 1}, \"ordered_globals\": [\"cerco\", \"lista\", \"i\"], \"stack_to_render\": [], \"heap\": {\"1\": [\"LIST\", \"P\", \"A\", \"R\", \"T\", \"I\", \"R\", \"E\"]}, \"stdout\": \"\"}, {\"line\": 5, \"event\": \"step_line\", \"func_name\": \"<module>\", \"globals\": {\"cerco\": \"R\", \"lista\": [\"REF\", 1], \"i\": 2}, \"ordered_globals\": [\"cerco\", \"lista\", \"i\"], \"stack_to_render\": [], \"heap\": {\"1\": [\"LIST\", \"P\", \"A\", \"R\", \"T\", \"I\", \"R\", \"E\"]}, \"stdout\": \"\"}, {\"line\": 6, \"event\": \"step_line\", \"func_name\": \"<module>\", \"globals\": {\"cerco\": \"R\", \"lista\": [\"REF\", 1], \"i\": 2}, \"ordered_globals\": [\"cerco\", \"lista\", \"i\"], \"stack_to_render\": [], \"heap\": {\"1\": [\"LIST\", \"P\", \"A\", \"R\", \"T\", \"I\", \"R\", \"E\"]}, \"stdout\": \"\"}, {\"line\": 7, \"event\": \"step_line\", \"func_name\": \"<module>\", \"globals\": {\"cerco\": \"R\", \"lista\": [\"REF\", 1], \"i\": 2}, \"ordered_globals\": [\"cerco\", \"lista\", \"i\"], \"stack_to_render\": [], \"heap\": {\"1\": [\"LIST\", \"P\", \"A\", \"R\", \"T\", \"I\", \"R\", \"E\"]}, \"stdout\": \"\"}, {\"line\": 8, \"event\": \"step_line\", \"func_name\": \"<module>\", \"globals\": {\"cerco\": \"R\", \"lista\": [\"REF\", 1], \"i\": 2}, \"ordered_globals\": [\"cerco\", \"lista\", \"i\"], \"stack_to_render\": [], \"heap\": {\"1\": [\"LIST\", \"P\", \"A\", \"R\", \"T\", \"I\", \"R\", \"E\"]}, \"stdout\": \"Trovata R a indice 2\\n\"}, {\"line\": 10, \"event\": \"step_line\", \"func_name\": \"<module>\", \"globals\": {\"cerco\": \"R\", \"lista\": [\"REF\", 1], \"i\": 2}, \"ordered_globals\": [\"cerco\", \"lista\", \"i\"], \"stack_to_render\": [], \"heap\": {\"1\": [\"LIST\", \"P\", \"A\", \"R\", \"T\", \"I\", \"R\", \"E\"]}, \"stdout\": \"Trovata R a indice 2\\n\"}, {\"line\": 10, \"event\": \"return\", \"func_name\": \"<module>\", \"globals\": {\"cerco\": \"R\", \"lista\": [\"REF\", 1], \"i\": 2}, \"ordered_globals\": [\"cerco\", \"lista\", \"i\"], \"stack_to_render\": [], \"heap\": {\"1\": [\"LIST\", \"P\", \"A\", \"R\", \"T\", \"I\", \"R\", \"E\"]}, \"stdout\": \"Trovata R a indice 2\\n\"}]}\n",
       "        </script>\n",
       "        <div id=\"jm-e39b3c1d1b4b380a84c5154775551565-5\" class=\"pytutorVisualizer\"> </div>\n",
       "                            \n",
       "        <script>\n",
       "                          \n",
       "        var jmRenderPytut = function(trace_id, div_id, config){\n",
       "            console.log(\"jupman.py embedded javascript: rendering Python tutor visualizer...\")\n",
       "            \n",
       "            let oldAlert = window.alert;\n",
       "            window.alert = function ( text ) { \n",
       "                console.log( 'tried to alert: ', text );         \n",
       "                return true; \n",
       "            };\n",
       "            let executionVisualizer = null;\n",
       "            try {\n",
       "            \n",
       "                var trace = JSON.parse(document.getElementById(trace_id).innerHTML);                                        \n",
       "                // NOTE: id without #\n",
       "                        \n",
       "                executionVisualizer = addVisualizerToPage(trace, div_id, config);\n",
       "                // hack in case visualizer decides to hide them for no good reason\n",
       "                $('#' + div_id + ' #jmpFirstInstr').show();\n",
       "                $('#' + div_id + ' #jmpLastInstr').show();\n",
       "                \n",
       "                // set overflow for pytuts - need to do in python as css \n",
       "                // does not allow parent selection\n",
       "                var pytuts = $('.pytutorVisualizer');\n",
       "                pytuts.closest('div.output_html.rendered_html.output_result')\n",
       "                        .css('overflow-x', 'visible');\n",
       "            \n",
       "                //pytuts.closest('div.output_html.rendered_html.output_result')\n",
       "                //      .css('background-color','red');                \n",
       "            } catch (error) {\n",
       "                console.error(\"jupman slides: Couldn't visualize Python tutor properly\", error);\n",
       "            }\n",
       "            window.alert = oldAlert;\n",
       "            return executionVisualizer;\n",
       "            \n",
       "        };\n",
       "        </script>\n",
       "        \n",
       "        <script>\n",
       "        var pytut_cfg_e39b3c1d1b4b380a84c5154775551565_5 = (function(){\n",
       "            var rootFontSize = window.getComputedStyle(document.body).getPropertyValue('font-size');\n",
       "            var rootFontSizeNum = 12;\n",
       "            if (rootFontSize.endsWith('px')){\n",
       "                rootFontSizeNum = Number(rootFontSize.substring(0, rootFontSize.length-2));\n",
       "            } else {\n",
       "                console.error(\"Unrecognized font unit:\", rootFontSize, \"assuming default\", rootFontSizeNum);\n",
       "            }\n",
       "            console.log('rootFontSize', rootFontSize);\n",
       "            \n",
       "            var codeWidthInChars = Math.max(23, 43);\n",
       "            if (35){\n",
       "                codeWidthInChars = 35;    // override\n",
       "            }\n",
       "            return {'embeddedMode' : false,\n",
       "                  'disableHeapNesting': true,\n",
       "                  'visualizerIdOverride':'viz-jm-e39b3c1d1b4b380a84c5154775551565-5',\n",
       "                  'codeDivWidth': Math.trunc(rootFontSizeNum * codeWidthInChars)\n",
       "                  };\n",
       "        })();                 \n",
       "        \n",
       "        jmRenderPytut('trace-jm-e39b3c1d1b4b380a84c5154775551565-5', 'jm-e39b3c1d1b4b380a84c5154775551565-5', pytut_cfg_e39b3c1d1b4b380a84c5154775551565_5);\n",
       "        </script>\n",
       "                \n",
       "    \n",
       "    <div style=\"text-align:center; font-size:0.9em\"> <a href=\"https://pythontutor.com/visualize.html#mode=edit\" target=\"_blank\">Python Tutor</a> visualization</div> \n",
       "    "
      ],
      "text/plain": [
       "<IPython.core.display.HTML object>"
      ]
     },
     "execution_count": 3,
     "metadata": {},
     "output_type": "execute_result"
    }
   ],
   "source": []
  },
  {
   "cell_type": "markdown",
   "id": "6dfe45d4",
   "metadata": {
    "slideshow": {
     "slide_type": "slide"
    }
   },
   "source": [
    "## `while`: cercare meglio"
   ]
  },
  {
   "cell_type": "code",
   "execution_count": 4,
   "id": "d657adcf-stripped",
   "metadata": {
    "slideshow": {
     "slide_type": "-"
    }
   },
   "outputs": [
    {
     "data": {
      "text/html": [
       "        \n",
       "        <script src=\"_static/js/pytutor-embed.bundle.min.js\" #type=\"application/javascript\"></script>\n",
       "    \n",
       "        <style>\n",
       "        @import \"_static/css/jupman.css\";\n",
       "        </style>\n",
       "     \n",
       "        <script id=\"trace-jm-5610c29b632f69b642021f034b20a33a-6\" type=\"application/json\" >\n",
       "            {\"code\": \" \\ncerco='R'\\nlista=['P','A','R','T','I','R','E']\\ni = 0\\nwhile i < len(lista) and lista[i] != cerco:\\n    i += 1\\n\\nif i == len(lista):\\n    print(\\\"Non ho trovato\\\", cerco)\\nelse:\\n    print(\\\"Trovato la prima\\\", cerco, \\\"all'indice\\\", i)\", \"trace\": [{\"line\": 2, \"event\": \"step_line\", \"func_name\": \"<module>\", \"globals\": {}, \"ordered_globals\": [], \"stack_to_render\": [], \"heap\": {}, \"stdout\": \"\"}, {\"line\": 3, \"event\": \"step_line\", \"func_name\": \"<module>\", \"globals\": {\"cerco\": \"R\"}, \"ordered_globals\": [\"cerco\"], \"stack_to_render\": [], \"heap\": {}, \"stdout\": \"\"}, {\"line\": 4, \"event\": \"step_line\", \"func_name\": \"<module>\", \"globals\": {\"cerco\": \"R\", \"lista\": [\"REF\", 1]}, \"ordered_globals\": [\"cerco\", \"lista\"], \"stack_to_render\": [], \"heap\": {\"1\": [\"LIST\", \"P\", \"A\", \"R\", \"T\", \"I\", \"R\", \"E\"]}, \"stdout\": \"\"}, {\"line\": 5, \"event\": \"step_line\", \"func_name\": \"<module>\", \"globals\": {\"cerco\": \"R\", \"lista\": [\"REF\", 1], \"i\": 0}, \"ordered_globals\": [\"cerco\", \"lista\", \"i\"], \"stack_to_render\": [], \"heap\": {\"1\": [\"LIST\", \"P\", \"A\", \"R\", \"T\", \"I\", \"R\", \"E\"]}, \"stdout\": \"\"}, {\"line\": 6, \"event\": \"step_line\", \"func_name\": \"<module>\", \"globals\": {\"cerco\": \"R\", \"lista\": [\"REF\", 1], \"i\": 0}, \"ordered_globals\": [\"cerco\", \"lista\", \"i\"], \"stack_to_render\": [], \"heap\": {\"1\": [\"LIST\", \"P\", \"A\", \"R\", \"T\", \"I\", \"R\", \"E\"]}, \"stdout\": \"\"}, {\"line\": 5, \"event\": \"step_line\", \"func_name\": \"<module>\", \"globals\": {\"cerco\": \"R\", \"lista\": [\"REF\", 1], \"i\": 1}, \"ordered_globals\": [\"cerco\", \"lista\", \"i\"], \"stack_to_render\": [], \"heap\": {\"1\": [\"LIST\", \"P\", \"A\", \"R\", \"T\", \"I\", \"R\", \"E\"]}, \"stdout\": \"\"}, {\"line\": 6, \"event\": \"step_line\", \"func_name\": \"<module>\", \"globals\": {\"cerco\": \"R\", \"lista\": [\"REF\", 1], \"i\": 1}, \"ordered_globals\": [\"cerco\", \"lista\", \"i\"], \"stack_to_render\": [], \"heap\": {\"1\": [\"LIST\", \"P\", \"A\", \"R\", \"T\", \"I\", \"R\", \"E\"]}, \"stdout\": \"\"}, {\"line\": 5, \"event\": \"step_line\", \"func_name\": \"<module>\", \"globals\": {\"cerco\": \"R\", \"lista\": [\"REF\", 1], \"i\": 2}, \"ordered_globals\": [\"cerco\", \"lista\", \"i\"], \"stack_to_render\": [], \"heap\": {\"1\": [\"LIST\", \"P\", \"A\", \"R\", \"T\", \"I\", \"R\", \"E\"]}, \"stdout\": \"\"}, {\"line\": 8, \"event\": \"step_line\", \"func_name\": \"<module>\", \"globals\": {\"cerco\": \"R\", \"lista\": [\"REF\", 1], \"i\": 2}, \"ordered_globals\": [\"cerco\", \"lista\", \"i\"], \"stack_to_render\": [], \"heap\": {\"1\": [\"LIST\", \"P\", \"A\", \"R\", \"T\", \"I\", \"R\", \"E\"]}, \"stdout\": \"\"}, {\"line\": 11, \"event\": \"step_line\", \"func_name\": \"<module>\", \"globals\": {\"cerco\": \"R\", \"lista\": [\"REF\", 1], \"i\": 2}, \"ordered_globals\": [\"cerco\", \"lista\", \"i\"], \"stack_to_render\": [], \"heap\": {\"1\": [\"LIST\", \"P\", \"A\", \"R\", \"T\", \"I\", \"R\", \"E\"]}, \"stdout\": \"\"}, {\"line\": 11, \"event\": \"return\", \"func_name\": \"<module>\", \"globals\": {\"cerco\": \"R\", \"lista\": [\"REF\", 1], \"i\": 2}, \"ordered_globals\": [\"cerco\", \"lista\", \"i\"], \"stack_to_render\": [], \"heap\": {\"1\": [\"LIST\", \"P\", \"A\", \"R\", \"T\", \"I\", \"R\", \"E\"]}, \"stdout\": \"Trovato la prima R all'indice 2\\n\"}]}\n",
       "        </script>\n",
       "        <div id=\"jm-5610c29b632f69b642021f034b20a33a-6\" class=\"pytutorVisualizer\"> </div>\n",
       "                            \n",
       "        <script>\n",
       "                          \n",
       "        var jmRenderPytut = function(trace_id, div_id, config){\n",
       "            console.log(\"jupman.py embedded javascript: rendering Python tutor visualizer...\")\n",
       "            \n",
       "            let oldAlert = window.alert;\n",
       "            window.alert = function ( text ) { \n",
       "                console.log( 'tried to alert: ', text );         \n",
       "                return true; \n",
       "            };\n",
       "            let executionVisualizer = null;\n",
       "            try {\n",
       "            \n",
       "                var trace = JSON.parse(document.getElementById(trace_id).innerHTML);                                        \n",
       "                // NOTE: id without #\n",
       "                        \n",
       "                executionVisualizer = addVisualizerToPage(trace, div_id, config);\n",
       "                // hack in case visualizer decides to hide them for no good reason\n",
       "                $('#' + div_id + ' #jmpFirstInstr').show();\n",
       "                $('#' + div_id + ' #jmpLastInstr').show();\n",
       "                \n",
       "                // set overflow for pytuts - need to do in python as css \n",
       "                // does not allow parent selection\n",
       "                var pytuts = $('.pytutorVisualizer');\n",
       "                pytuts.closest('div.output_html.rendered_html.output_result')\n",
       "                        .css('overflow-x', 'visible');\n",
       "            \n",
       "                //pytuts.closest('div.output_html.rendered_html.output_result')\n",
       "                //      .css('background-color','red');                \n",
       "            } catch (error) {\n",
       "                console.error(\"jupman slides: Couldn't visualize Python tutor properly\", error);\n",
       "            }\n",
       "            window.alert = oldAlert;\n",
       "            return executionVisualizer;\n",
       "            \n",
       "        };\n",
       "        </script>\n",
       "        \n",
       "        <script>\n",
       "        var pytut_cfg_5610c29b632f69b642021f034b20a33a_6 = (function(){\n",
       "            var rootFontSize = window.getComputedStyle(document.body).getPropertyValue('font-size');\n",
       "            var rootFontSizeNum = 12;\n",
       "            if (rootFontSize.endsWith('px')){\n",
       "                rootFontSizeNum = Number(rootFontSize.substring(0, rootFontSize.length-2));\n",
       "            } else {\n",
       "                console.error(\"Unrecognized font unit:\", rootFontSize, \"assuming default\", rootFontSizeNum);\n",
       "            }\n",
       "            console.log('rootFontSize', rootFontSize);\n",
       "            \n",
       "            var codeWidthInChars = Math.max(23, 53);\n",
       "            if (35){\n",
       "                codeWidthInChars = 35;    // override\n",
       "            }\n",
       "            return {'embeddedMode' : false,\n",
       "                  'disableHeapNesting': true,\n",
       "                  'visualizerIdOverride':'viz-jm-5610c29b632f69b642021f034b20a33a-6',\n",
       "                  'codeDivWidth': Math.trunc(rootFontSizeNum * codeWidthInChars)\n",
       "                  };\n",
       "        })();                 \n",
       "        \n",
       "        jmRenderPytut('trace-jm-5610c29b632f69b642021f034b20a33a-6', 'jm-5610c29b632f69b642021f034b20a33a-6', pytut_cfg_5610c29b632f69b642021f034b20a33a_6);\n",
       "        </script>\n",
       "                \n",
       "    \n",
       "    <div style=\"text-align:center; font-size:0.9em\"> <a href=\"https://pythontutor.com/visualize.html#mode=edit\" target=\"_blank\">Python Tutor</a> visualization</div> \n",
       "    "
      ],
      "text/plain": [
       "<IPython.core.display.HTML object>"
      ]
     },
     "execution_count": 4,
     "metadata": {},
     "output_type": "execute_result"
    }
   ],
   "source": []
  },
  {
   "cell_type": "markdown",
   "id": "8146645f",
   "metadata": {
    "slideshow": {
     "slide_type": "subslide"
    }
   },
   "source": [
    "## `while`: cerca e togli in sequenza\n",
    "\n",
    "Pesca carte da `mazzo` (da destra) finchè trova cuori\n",
    "\n",
    "[Guarda esecuzione sul sito di Python Tutor](https://pythontutor.com/render.html#code=mazzo%3D%5B'3%20cuori','2%20picche','9%20cuori',%20'5%20quadri','8%20fiori'%5D%0Acarta%3D''%0Aprint%28%22mazzo%3A%22,%20mazzo%29%0Awhile%20len%28mazzo%29%20%3E%200%20and%20'cuori'%20not%20in%20carta%3A%0A%20%20%20%20carta%20%3D%20mazzo.pop%28%29%20%20%20%20%20%20%0A%20%20%20%20print%28%22pescato%22,%20carta%29%0A%20%20%20%20print%28%22mazzo%3A%22,%20mazzo%29%0Aprint%28%22Uscito%20dal%20ciclo!%22%29&cumulative=false&curInstr=16&heapPrimitives=nevernest&mode=display&origin=opt-frontend.js&py=3&rawInputLstJSON=%5B%5D&textReferences=false)"
   ]
  },
  {
   "cell_type": "code",
   "execution_count": 5,
   "id": "8b9119a7",
   "metadata": {
    "slideshow": {
     "slide_type": "-"
    }
   },
   "outputs": [
    {
     "name": "stdout",
     "output_type": "stream",
     "text": [
      "mazzo: ['3 cuori', '2 picche', '9 cuori', '5 quadri', '8 fiori']\n",
      "pescato 8 fiori\n",
      "mazzo: ['3 cuori', '2 picche', '9 cuori', '5 quadri']\n",
      "pescato 5 quadri\n",
      "mazzo: ['3 cuori', '2 picche', '9 cuori']\n",
      "pescato 9 cuori\n",
      "mazzo: ['3 cuori', '2 picche']\n",
      "Uscito dal ciclo!\n"
     ]
    }
   ],
   "source": [
    "mazzo=['3 cuori','2 picche','9 cuori', '5 quadri','8 fiori']\n",
    "carta=''\n",
    "print(\"mazzo:\", mazzo)\n",
    "while len(mazzo) > 0 and 'cuori' not in carta:\n",
    "    carta = mazzo.pop()      \n",
    "    print(\"pescato\", carta)\n",
    "    print(\"mazzo:\", mazzo)\n",
    "print(\"Uscito dal ciclo!\")"
   ]
  },
  {
   "cell_type": "markdown",
   "id": "a6853e61",
   "metadata": {
    "slideshow": {
     "slide_type": "subslide"
    }
   },
   "source": [
    "## Iterazione - Performance\n",
    "\n",
    "Python è un linguaggio intepretato -> lento.."
   ]
  },
  {
   "cell_type": "markdown",
   "id": "84f3ca5d",
   "metadata": {
    "slideshow": {
     "slide_type": "fragment"
    }
   },
   "source": [
    "\n",
    "Solo _dove serve_ ottimizzare:\n",
    "\n",
    "- evitare cicli e usare librerie specializzate\n",
    "  \n",
    "    (vedi tutorial [numpy](https://it.softpython.org/matrices-numpy/matrices-numpy1-sol.html), [pandas](https://it.softpython.org/pandas/pandas1-sol.html), ..)"
   ]
  },
  {
   "cell_type": "markdown",
   "id": "1ef0666f",
   "metadata": {
    "slideshow": {
     "slide_type": "fragment"
    }
   },
   "source": [
    "- oppure compilare Python 'ristretto' in C  ([Cython](https://cython.org/), [Mypyc](https://github.com/mypyc/mypyc), ...)"
   ]
  },
  {
   "cell_type": "code",
   "execution_count": 6,
   "id": "086e2430-stripped",
   "metadata": {
    "nbsphinx": "hidden"
   },
   "outputs": [],
   "source": []
  }
 ],
 "metadata": {
  "celltoolbar": "Slideshow",
  "kernelspec": {
   "display_name": "Python 3 (ipykernel)",
   "language": "python",
   "name": "python3"
  },
  "language_info": {
   "codemirror_mode": {
    "name": "ipython",
    "version": 3
   },
   "file_extension": ".py",
   "mimetype": "text/x-python",
   "name": "python",
   "nbconvert_exporter": "python",
   "pygments_lexer": "ipython3",
   "version": "3.7.17"
  },
  "toc": {
   "base_numbering": 1,
   "nav_menu": {},
   "number_sections": false,
   "sideBar": true,
   "skip_h1_title": false,
   "title_cell": "Table of Contents",
   "title_sidebar": "Contents",
   "toc_cell": false,
   "toc_position": {
    "height": "calc(100% - 180px)",
    "left": "10px",
    "top": "150px",
    "width": "373.2px"
   },
   "toc_section_display": true,
   "toc_window_display": true
  }
 },
 "nbformat": 4,
 "nbformat_minor": 5
}
