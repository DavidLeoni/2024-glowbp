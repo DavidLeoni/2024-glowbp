{
 "cells": [
  {
   "cell_type": "markdown",
   "id": "51e149ba",
   "metadata": {
    "colab_type": "text",
    "id": "dW_7xwCZAFP5",
    "slideshow": {
     "slide_type": "slide"
    }
   },
   "source": [
    "# Strumenti e script \n",
    "\n",
    "Repository github per queste slides: https://github.com/DavidLeoni/ggad\n",
    "\n",
    "Materiale tratto dal libro [SoftPython](https://it.softpython.org)\n",
    "\n",
    "(Per navigare nelle slide premi Esc)"
   ]
  },
  {
   "cell_type": "markdown",
   "id": "fb603063",
   "metadata": {
    "slideshow": {
     "slide_type": "slide"
    }
   },
   "source": [
    "## Script e notebooks\n",
    "\n",
    "Il codice Python si può normalmente trovere in file con estensione:\n",
    "\n",
    "* `.py`: semplici file di testo, es `math.py`\n",
    "    * Detti anche _script_ o _moduli_"
   ]
  },
  {
   "cell_type": "markdown",
   "id": "0b1c3378",
   "metadata": {
    "slideshow": {
     "slide_type": "fragment"
    }
   },
   "source": [
    "* `.ipynb`: notebook Jupyter interattivi come questo, che contengono celle con l'output"
   ]
  },
  {
   "cell_type": "markdown",
   "id": "9d2484c6",
   "metadata": {},
   "source": [
    "Riferimenti: [SoftPython - Strumenti e script](https://it.softpython.org/tools/tools-sol.html)"
   ]
  },
  {
   "cell_type": "markdown",
   "id": "0f3337f4",
   "metadata": {
    "slideshow": {
     "slide_type": "subslide"
    }
   },
   "source": [
    "## Distribuzioni\n",
    "\n",
    "**L'interprete Python** è un comando per eseguire al volo il codice negli script:\n",
    "\n",
    "```bash\n",
    "python mio_script.py\n",
    "```\n",
    "\n",
    "\n",
    "- traduce lo script in _bytecode_ generando un file `mio_script.pyc`"
   ]
  },
  {
   "cell_type": "markdown",
   "id": "aafee9ba",
   "metadata": {
    "slideshow": {
     "slide_type": "fragment"
    }
   },
   "source": [
    "**Un ambiente** è una collezione di pacchetti\n",
    "\n",
    "- moduli di solito in linguaggio Python\n",
    "    - alcuni binari precompilati da altri linguaggi (es. C)\n",
    "- gestore di pacchetti: `pip`\n",
    "- gestore di ambienti: `venv`"
   ]
  },
  {
   "cell_type": "markdown",
   "id": "6c5a972e",
   "metadata": {
    "slideshow": {
     "slide_type": "fragment"
    }
   },
   "source": [
    "**Una distribuzione** (es Anaconda) può contenere **in più**:\n",
    "\n",
    "- pacchetti complessi con binari da vari linguaggi (es. OpenCV)\n",
    "- altri programmi (es. Jupyter)\n",
    "- gestore di pacchetti e ambienti addizionale (es. `conda`)"
   ]
  },
  {
   "cell_type": "markdown",
   "id": "31dda57a",
   "metadata": {
    "slideshow": {
     "slide_type": "subslide"
    }
   },
   "source": [
    "\n",
    "### Che fare 1/2 - Visual Studio Code\n",
    "\n",
    "1. Crea una cartella sul Desktop, es ggad\n",
    "2. Apri Visual Studio Code\n",
    "3. Clicca Open Folder, trova ggad\n",
    "4. Crea uno script Python  es `prova.py` e scrivici dentro `print(\"ciao\")`\n",
    "5. Eseguilo premendo F5\n",
    "    - su Windows è MOLTO lento ad avviarsi, specie le prime volte potrebbe darti degli errori di timeout. Non ti preoccupare e insisti a lanciare finchè stampa `ciao`\n",
    "\n",
    "**NOTA: l'editor potrebbe chiederti di**\n",
    "\n",
    "- installare l'estensione di Python\n",
    "- scegliere l'interprete, dovrebbe suggerirne uno con 'conda' nel percorso\n"
   ]
  },
  {
   "cell_type": "markdown",
   "id": "5b16719c",
   "metadata": {
    "slideshow": {
     "slide_type": "subslide"
    }
   },
   "source": [
    "\n",
    "### Che fare 2/2 - Jupyter\n",
    "\n",
    "\n",
    "- Scarica [il notebook parte1a.ipynb](https://davidleoni.github.io/ggad/parte1a.ipynb) nella cartella creata\n",
    "- Apri la app Jupyter Notebook, si dovrebbe aprire un browser con una lista di file: navigala e apri notebook\n",
    "- Prosegui leggendo il file degli esercizi, ogni tanto al suo interno troverai delle scritte **ESERCIZIO**, che ti chiederanno di scrivere dei comandi Python nelle celle successive."
   ]
  },
  {
   "cell_type": "markdown",
   "id": "2ba1c942",
   "metadata": {
    "slideshow": {
     "slide_type": "fragment"
    }
   },
   "source": [
    "<div class=\"alert alert-warning\">\n",
    "\n",
    "**ATTENZIONE**: In questo tutorial usiamo **SOLO PYTHON 3** <br/>\n",
    "\n",
    "Se per caso ottieni comportamenti inattesi, controlla di usare Python 3 e non il 2. Se per caso il tuo sistema operativo scrivendo `python` fa partire il 2, prova ad eseguire il tre scrivendo il comando: `python3`\n",
    "\n",
    "</div>"
   ]
  },
  {
   "cell_type": "markdown",
   "id": "37e52bfe",
   "metadata": {
    "slideshow": {
     "slide_type": "subslide"
    }
   },
   "source": [
    "Scorciatoie da tastiera (utenti Windows e Linux):\n",
    "\n",
    "* Per eseguire il codice Python dentro una cella di Jupyter, premi `Ctrl+Invio`\n",
    "* Per eseguire il codice Python dentro una cella di Jupyter E selezionare la cella seguente, premi `Shift+Invio`\n",
    "* Per eseguire il codice Python dentro una cella di Jupyter E creare una nuova cella subito dopo, premi `Alt+Invio`\n",
    "* Se per caso il Notebook sembra inchiodato, prova a selezionare `Kernel -> Restart`\n",
    "\n",
    "\n",
    "Se sei un utente Mac, sostituisci i tasti sopra con i seguenti:\n",
    "\n",
    "* Ctrl -> Command `⌘`\n",
    "* Shift -> Shift `⇧`\n",
    "* Alt -> Option `⌥`"
   ]
  },
  {
   "cell_type": "markdown",
   "id": "cd05104d",
   "metadata": {
    "slideshow": {
     "slide_type": "subslide"
    }
   },
   "source": [
    "### Proviamo Jupyter 1/2\n",
    "\n",
    "Vediamo brevemente come funzionano i fogli Jupyter. "
   ]
  },
  {
   "cell_type": "markdown",
   "id": "f5979f4b",
   "metadata": {
    "slideshow": {
     "slide_type": "-"
    }
   },
   "source": [
    "**ESERCIZIO**: Proviamo a inserire un comando Python: scrivi nella cella qua sotto l'_espressione_ `3 + 5`, e poi mentre sei in quella cella premi i tasti speciali `Control+Invio`. Un'_espressione_ produce sempre un risultato, in questo caso dovresti vedere apparire il numero `8`"
   ]
  },
  {
   "cell_type": "code",
   "execution_count": null,
   "id": "3a3bbcdc",
   "metadata": {
    "slideshow": {
     "slide_type": "skip"
    }
   },
   "outputs": [],
   "source": []
  },
  {
   "cell_type": "markdown",
   "id": "31515225",
   "metadata": {
    "slideshow": {
     "slide_type": "fragment"
    }
   },
   "source": [
    "**ESERCIZIO**: in Python possiamo scrivere commenti iniziando una riga con un cancelletto `#`. Come prima, scrivi nella cella sotto `3 + 5` ma questa volta scrivilo nella riga sotto la scritta `# scrivi qui`:"
   ]
  },
  {
   "cell_type": "code",
   "execution_count": 1,
   "id": "f3174e49",
   "metadata": {
    "slideshow": {
     "slide_type": "skip"
    }
   },
   "outputs": [],
   "source": [
    "# scrivi qui\n"
   ]
  },
  {
   "cell_type": "markdown",
   "id": "a6f5ede9",
   "metadata": {
    "slideshow": {
     "slide_type": "fragment"
    }
   },
   "source": [
    "**ESERCIZIO**: Jupyter per ogni cella mostra il risultato solo dell'ultima riga eseguita in quella cella. Prova a inserire questo codice nella cella sotto ed esegui premendo `Control+Invio`. Che risultato appare?\n",
    "\n",
    "```python\n",
    "3 + 5\n",
    "1 + 1\n",
    "```"
   ]
  },
  {
   "cell_type": "code",
   "execution_count": 2,
   "id": "52b5bfef",
   "metadata": {
    "slideshow": {
     "slide_type": "skip"
    }
   },
   "outputs": [],
   "source": [
    "# scrivi qui\n",
    "\n"
   ]
  },
  {
   "cell_type": "markdown",
   "id": "acbbc6b3",
   "metadata": {
    "slideshow": {
     "slide_type": "subslide"
    }
   },
   "source": [
    "### Proviamo Jupyter 2/2\n",
    "\n",
    "\n",
    "**ESERCIZIO**: a) Prova adesso a inserire questo codice nella cella sotto ed esegui premendo `Control+Invio`. Che risultato appare?\n",
    "\n",
    "```python\n",
    "print(3 + 5)\n",
    "print(1 + 1)\n",
    "```"
   ]
  },
  {
   "cell_type": "code",
   "execution_count": null,
   "id": "a058b948",
   "metadata": {
    "slideshow": {
     "slide_type": "skip"
    }
   },
   "outputs": [],
   "source": []
  },
  {
   "cell_type": "markdown",
   "id": "f4e358b8",
   "metadata": {
    "slideshow": {
     "slide_type": "fragment"
    }
   },
   "source": [
    "b) E così cosa stamperà?\n",
    "\n",
    "```python\n",
    "print(3 + 5)\n",
    "1 + 1\n",
    "3 + 4\n",
    "```"
   ]
  },
  {
   "cell_type": "code",
   "execution_count": null,
   "id": "81113852",
   "metadata": {
    "slideshow": {
     "slide_type": "skip"
    }
   },
   "outputs": [],
   "source": []
  },
  {
   "cell_type": "markdown",
   "id": "834e5aef",
   "metadata": {
    "slideshow": {
     "slide_type": "fragment"
    }
   },
   "source": [
    "**ESERCIZIO**: Proviamo adesso a creare noi una nuova cella. \n",
    "\n",
    "* Mentre sei con il cursore in questa cella, premi `Alt+Invio`. Si dovrebbe creare una nuova cella dopo la presente. \n",
    "\n",
    "* Nella cella appena creata, inserisci `2 + 3` e poi premi `Shift+Invio`. Cosa succede al cursore? Prova la differenze con `Control+Invio`. Se non capisci la differenza, prova a premere ripetutamente `Shift+Invio` e vedi che succede."
   ]
  },
  {
   "cell_type": "code",
   "execution_count": null,
   "id": "3cf18dce",
   "metadata": {
    "colab_type": "text",
    "id": "vEzZXT8MAFP9",
    "slideshow": {
     "slide_type": "skip"
    }
   },
   "outputs": [],
   "source": []
  }
 ],
 "metadata": {
  "kernelspec": {
   "display_name": "Python 3 (ipykernel)",
   "language": "python",
   "name": "python3"
  },
  "language_info": {
   "codemirror_mode": {
    "name": "ipython",
    "version": 3
   },
   "file_extension": ".py",
   "mimetype": "text/x-python",
   "name": "python",
   "nbconvert_exporter": "python",
   "pygments_lexer": "ipython3",
   "version": "3.7.17"
  },
  "toc": {
   "base_numbering": 1,
   "nav_menu": {},
   "number_sections": false,
   "sideBar": true,
   "skip_h1_title": false,
   "title_cell": "Table of Contents",
   "title_sidebar": "Contents",
   "toc_cell": false,
   "toc_position": {
    "height": "calc(100% - 180px)",
    "left": "10px",
    "top": "150px",
    "width": "311px"
   },
   "toc_section_display": true,
   "toc_window_display": true
  }
 },
 "nbformat": 4,
 "nbformat_minor": 5
}
