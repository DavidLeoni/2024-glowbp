{
 "cells": [
  {
   "cell_type": "code",
   "execution_count": 1,
   "id": "8e77c3a2",
   "metadata": {
    "slideshow": {
     "slide_type": "skip"
    }
   },
   "outputs": [
    {
     "data": {
      "text/html": [
       "        \n",
       "            <script src=\"_static/js/python.iife.js\" type=\"application/javascript\"></script>\n",
       "        "
      ],
      "text/plain": [
       "<IPython.core.display.HTML object>"
      ]
     },
     "execution_count": 1,
     "metadata": {},
     "output_type": "execute_result"
    }
   ],
   "source": [
    "import jupman\n",
    "\n",
    "import conf\n",
    "\n",
    "conf.jm.init_icp()"
   ]
  },
  {
   "cell_type": "markdown",
   "id": "0049100b",
   "metadata": {
    "slideshow": {
     "slide_type": "slide"
    }
   },
   "source": [
    "# Sequenze 1: introduzione \n",
    "\n",
    "**Riferimenti:** [SoftPython - sequenze 1](https://it.softpython.org/sequences/sequences1-sol.html)\n",
    "\n",
    "* visualizza al meglio in <img style=\"display:inline; width:25px; vertical-align: middle;\" src=\"../_static/img/chrome.png\" alttext=\"Chrome\">\n",
    "* versione stampabile: [clicca qua](?print-pdf)\n",
    "* per navigare nelle slide: premere `Esc`\n",
    "\n",
    "<br>\n",
    "<br>\n",
    "\n",
    "**Summer School Data Science 2023 - Modulo 1 informatica:** [Moodle](https://didatticaonline.unitn.it/dol/course/view.php?id=36683) \n",
    "\n",
    "Docente: David Leoni david.leoni@unitn.it\n",
    "\n",
    "Esercitatore: Luca Bosotti luca.bosotti@studenti.unitn.it\n"
   ]
  },
  {
   "cell_type": "markdown",
   "id": "f001a60c",
   "metadata": {
    "slideshow": {
     "slide_type": "subslide"
    }
   },
   "source": [
    "## Iterabili e iteratori"
   ]
  },
  {
   "cell_type": "code",
   "execution_count": 2,
   "id": "e9d3d006",
   "metadata": {
    "slideshow": {
     "slide_type": "-"
    }
   },
   "outputs": [],
   "source": [
    "sequenza = ['a','r','p','a']\n",
    "\n",
    "iteratore = iter(sequenza)"
   ]
  },
  {
   "cell_type": "code",
   "execution_count": 3,
   "id": "d31b7ca3",
   "metadata": {
    "slideshow": {
     "slide_type": "fragment"
    }
   },
   "outputs": [
    {
     "data": {
      "text/plain": [
       "<list_iterator at 0x7f60e2d08490>"
      ]
     },
     "execution_count": 3,
     "metadata": {},
     "output_type": "execute_result"
    }
   ],
   "source": [
    "iteratore"
   ]
  },
  {
   "cell_type": "markdown",
   "id": "2578b87d",
   "metadata": {
    "slideshow": {
     "slide_type": "fragment"
    }
   },
   "source": [
    "- 'macchina' ferma\n",
    "- guarda ad una specifica posizione all'interno della sequenza"
   ]
  },
  {
   "cell_type": "markdown",
   "id": "4d273e7e",
   "metadata": {
    "slideshow": {
     "slide_type": "subslide"
    }
   },
   "source": [
    "### next\n",
    "\n",
    "Per attivare:"
   ]
  },
  {
   "cell_type": "code",
   "execution_count": 4,
   "id": "ef63e092",
   "metadata": {
    "slideshow": {
     "slide_type": "-"
    }
   },
   "outputs": [
    {
     "data": {
      "text/plain": [
       "'a'"
      ]
     },
     "execution_count": 4,
     "metadata": {},
     "output_type": "execute_result"
    }
   ],
   "source": [
    "next(iteratore)"
   ]
  },
  {
   "cell_type": "code",
   "execution_count": 5,
   "id": "c3e63780",
   "metadata": {
    "slideshow": {
     "slide_type": "fragment"
    }
   },
   "outputs": [
    {
     "data": {
      "text/plain": [
       "'r'"
      ]
     },
     "execution_count": 5,
     "metadata": {},
     "output_type": "execute_result"
    }
   ],
   "source": [
    "next(iteratore)"
   ]
  },
  {
   "cell_type": "code",
   "execution_count": 6,
   "id": "bed9bcb6",
   "metadata": {
    "slideshow": {
     "slide_type": "fragment"
    }
   },
   "outputs": [
    {
     "data": {
      "text/plain": [
       "'p'"
      ]
     },
     "execution_count": 6,
     "metadata": {},
     "output_type": "execute_result"
    }
   ],
   "source": [
    "next(iteratore)"
   ]
  },
  {
   "cell_type": "code",
   "execution_count": 7,
   "id": "b1677e8c",
   "metadata": {
    "slideshow": {
     "slide_type": "fragment"
    }
   },
   "outputs": [
    {
     "data": {
      "text/plain": [
       "'a'"
      ]
     },
     "execution_count": 7,
     "metadata": {},
     "output_type": "execute_result"
    }
   ],
   "source": [
    "next(iteratore)"
   ]
  },
  {
   "cell_type": "markdown",
   "id": "28f126d9",
   "metadata": {
    "slideshow": {
     "slide_type": "subslide"
    }
   },
   "source": [
    "### next - esagerare"
   ]
  },
  {
   "cell_type": "markdown",
   "id": "a4504036",
   "metadata": {
    "slideshow": {
     "slide_type": "-"
    }
   },
   "source": [
    "```python\n",
    "next(iteratore)\n",
    "```"
   ]
  },
  {
   "cell_type": "markdown",
   "id": "80261a62",
   "metadata": {
    "slideshow": {
     "slide_type": "-"
    }
   },
   "source": [
    "\n",
    "\n",
    "```python\n",
    "---------------------------------------------------------------------------\n",
    "StopIteration                             Traceback (most recent call last)\n",
    "/tmp/ipykernel_12808/2464660659.py in <module>\n",
    "----> 1 next(iteratore)\n",
    "\n",
    "StopIteration: \n",
    "```"
   ]
  },
  {
   "cell_type": "markdown",
   "id": "f5e59aaa",
   "metadata": {
    "slideshow": {
     "slide_type": "slide"
    }
   },
   "source": [
    "## Materializzare una sequenza\n",
    "\n",
    "sequenze materializzate\n",
    "\n",
    "- stringhe, liste, etc\n",
    "\n",
    "sequenze non materializzate\n",
    "\n",
    "- `range`"
   ]
  },
  {
   "cell_type": "code",
   "execution_count": 8,
   "id": "732c7c0d",
   "metadata": {
    "slideshow": {
     "slide_type": "fragment"
    }
   },
   "outputs": [
    {
     "data": {
      "text/plain": [
       "range(0, 100)"
      ]
     },
     "execution_count": 8,
     "metadata": {},
     "output_type": "execute_result"
    }
   ],
   "source": [
    "range(100)"
   ]
  },
  {
   "cell_type": "markdown",
   "id": "0f79a552",
   "metadata": {
    "slideshow": {
     "slide_type": "fragment"
    }
   },
   "source": [
    "Come materializzare?"
   ]
  },
  {
   "cell_type": "code",
   "execution_count": 9,
   "id": "cf2c2a68",
   "metadata": {
    "slideshow": {
     "slide_type": "fragment"
    }
   },
   "outputs": [
    {
     "data": {
      "text/plain": [
       "[0, 1, 2, 3, 4, 5, 6, 7, 8, 9]"
      ]
     },
     "execution_count": 9,
     "metadata": {},
     "output_type": "execute_result"
    }
   ],
   "source": [
    "list(range(10))"
   ]
  },
  {
   "cell_type": "markdown",
   "id": "6fb94107",
   "metadata": {
    "slideshow": {
     "slide_type": "subslide"
    }
   },
   "source": [
    "### Quando materializzare?"
   ]
  },
  {
   "cell_type": "markdown",
   "id": "2c0a7d7f",
   "metadata": {
    "slideshow": {
     "slide_type": "-"
    }
   },
   "source": [
    "**DOMANDA**: Occupa più memoria l’oggetto `a` o l’oggetto `b` ?"
   ]
  },
  {
   "cell_type": "code",
   "execution_count": 10,
   "id": "599447e2",
   "metadata": {
    "slideshow": {
     "slide_type": "-"
    }
   },
   "outputs": [],
   "source": [
    "a = range(10)\n",
    "b = range(10000000)"
   ]
  },
  {
   "cell_type": "markdown",
   "id": "9c7231a4",
   "metadata": {
    "slideshow": {
     "slide_type": "fragment"
    }
   },
   "source": [
    "**DOMANDA**: Occupa più memoria l’oggetto `a` o l’oggetto `b` ?"
   ]
  },
  {
   "cell_type": "code",
   "execution_count": 11,
   "id": "36e3b724",
   "metadata": {
    "slideshow": {
     "slide_type": "-"
    }
   },
   "outputs": [],
   "source": [
    "a = list(range(10))\n",
    "b = list(range(10000000))"
   ]
  },
  {
   "cell_type": "markdown",
   "id": "ebb745e8",
   "metadata": {
    "slideshow": {
     "slide_type": "subslide"
    }
   },
   "source": [
    "### Non consumerai due volte"
   ]
  },
  {
   "cell_type": "code",
   "execution_count": 12,
   "id": "0db8d3a3",
   "metadata": {
    "slideshow": {
     "slide_type": "-"
    }
   },
   "outputs": [
    {
     "name": "stdout",
     "output_type": "stream",
     "text": [
      "0\n",
      "1\n",
      "2\n",
      "3\n"
     ]
    }
   ],
   "source": [
    "r = range(4)\n",
    "iteratore = iter(r)\n",
    "\n",
    "for elemento in iteratore:\n",
    "    print(elemento)"
   ]
  },
  {
   "cell_type": "code",
   "execution_count": 13,
   "id": "f8c8edc9",
   "metadata": {
    "slideshow": {
     "slide_type": "fragment"
    }
   },
   "outputs": [],
   "source": [
    "for elemento in iteratore:\n",
    "    print(elemento)         # stampa qualcosa?"
   ]
  },
  {
   "cell_type": "markdown",
   "id": "dcc8d196",
   "metadata": {
    "slideshow": {
     "slide_type": "subslide"
    }
   },
   "source": [
    "### Non consumerai due volte..\n",
    "\n",
    "**..neanche implicitamente!**"
   ]
  },
  {
   "cell_type": "code",
   "execution_count": 14,
   "id": "3176ea2d",
   "metadata": {
    "slideshow": {
     "slide_type": "-"
    }
   },
   "outputs": [],
   "source": [
    "r = range(4)\n",
    "iteratore = iter(r)\n",
    "\n",
    "prima     = list(iteratore)\n",
    "seconda   = list(iteratore)"
   ]
  },
  {
   "cell_type": "code",
   "execution_count": 15,
   "id": "1524380d",
   "metadata": {
    "slideshow": {
     "slide_type": "-"
    }
   },
   "outputs": [
    {
     "data": {
      "text/plain": [
       "[0, 1, 2, 3]"
      ]
     },
     "execution_count": 15,
     "metadata": {},
     "output_type": "execute_result"
    }
   ],
   "source": [
    "prima"
   ]
  },
  {
   "cell_type": "code",
   "execution_count": 16,
   "id": "039bb3ca",
   "metadata": {
    "slideshow": {
     "slide_type": "fragment"
    }
   },
   "outputs": [
    {
     "data": {
      "text/plain": [
       "[]"
      ]
     },
     "execution_count": 16,
     "metadata": {},
     "output_type": "execute_result"
    }
   ],
   "source": [
    "seconda"
   ]
  },
  {
   "cell_type": "markdown",
   "id": "887b414e",
   "metadata": {
    "slideshow": {
     "slide_type": "slide"
    }
   },
   "source": [
    "## reversed"
   ]
  },
  {
   "cell_type": "code",
   "execution_count": 17,
   "id": "5292fb8b",
   "metadata": {
    "slideshow": {
     "slide_type": "-"
    }
   },
   "outputs": [],
   "source": [
    "sequenza = ['g','i','a','r','a']"
   ]
  },
  {
   "cell_type": "code",
   "execution_count": 18,
   "id": "07c564ce",
   "metadata": {
    "slideshow": {
     "slide_type": "fragment"
    }
   },
   "outputs": [],
   "source": [
    "iteratore = reversed(sequenza)  # qua NON serve iter! "
   ]
  },
  {
   "cell_type": "code",
   "execution_count": 19,
   "id": "d062953c",
   "metadata": {
    "slideshow": {
     "slide_type": "fragment"
    }
   },
   "outputs": [
    {
     "data": {
      "text/plain": [
       "<list_reverseiterator at 0x7f60e2d15f90>"
      ]
     },
     "execution_count": 19,
     "metadata": {},
     "output_type": "execute_result"
    }
   ],
   "source": [
    "iteratore  # E' GIA' UN ITERATORE!"
   ]
  },
  {
   "cell_type": "markdown",
   "id": "0dc26390",
   "metadata": {
    "slideshow": {
     "slide_type": "fragment"
    }
   },
   "source": [
    "Scorriamo con il `for`"
   ]
  },
  {
   "cell_type": "code",
   "execution_count": 20,
   "id": "bef49b3d",
   "metadata": {
    "slideshow": {
     "slide_type": "-"
    }
   },
   "outputs": [
    {
     "name": "stdout",
     "output_type": "stream",
     "text": [
      "a\n",
      "r\n",
      "a\n",
      "i\n",
      "g\n"
     ]
    }
   ],
   "source": [
    "for elemento in reversed(sequenza):\n",
    "    print(elemento)"
   ]
  },
  {
   "cell_type": "markdown",
   "id": "a48e4c14",
   "metadata": {
    "slideshow": {
     "slide_type": "subslide"
    }
   },
   "source": [
    "### reversed - materializziamo \n",
    "\n",
    "\n",
    "**Solo** se **proprio** necessario:"
   ]
  },
  {
   "cell_type": "code",
   "execution_count": 21,
   "id": "ed78f00f",
   "metadata": {
    "slideshow": {
     "slide_type": "-"
    }
   },
   "outputs": [
    {
     "data": {
      "text/plain": [
       "['a', 'r', 'a', 'i', 'g']"
      ]
     },
     "execution_count": 21,
     "metadata": {},
     "output_type": "execute_result"
    }
   ],
   "source": [
    "list(iteratore)"
   ]
  },
  {
   "cell_type": "markdown",
   "id": "6cb13b49",
   "metadata": {
    "slideshow": {
     "slide_type": "slide"
    }
   },
   "source": [
    "## sorted\n",
    "\n",
    "- Produce una NUOVA lista già materializzata!\n",
    "- _funzione_ `sorted(sequenza)` $\\neq$ _metodo_ `lista.sort()`"
   ]
  },
  {
   "cell_type": "code",
   "execution_count": 22,
   "id": "718233b5-stripped",
   "metadata": {
    "slideshow": {
     "slide_type": "-"
    }
   },
   "outputs": [
    {
     "data": {
      "text/html": [
       "        \n",
       "        <script src=\"_static/js/pytutor-embed.bundle.min.js\" #type=\"application/javascript\"></script>\n",
       "    \n",
       "        <style>\n",
       "        @import \"_static/css/jupman.css\";\n",
       "        </style>\n",
       "     \n",
       "        <script id=\"trace-jm-6a454c13aedcb5f58d8cd10683f76b8e-24\" type=\"application/json\" >\n",
       "            {\"code\": \" \\noriginale = ['g','a','e','d','b']\\nnuova = sorted(originale)\\nprint(nuova)\", \"trace\": [{\"line\": 2, \"event\": \"step_line\", \"func_name\": \"<module>\", \"globals\": {}, \"ordered_globals\": [], \"stack_to_render\": [], \"heap\": {}, \"stdout\": \"\"}, {\"line\": 3, \"event\": \"step_line\", \"func_name\": \"<module>\", \"globals\": {\"originale\": [\"REF\", 1]}, \"ordered_globals\": [\"originale\"], \"stack_to_render\": [], \"heap\": {\"1\": [\"LIST\", \"g\", \"a\", \"e\", \"d\", \"b\"]}, \"stdout\": \"\"}, {\"line\": 4, \"event\": \"step_line\", \"func_name\": \"<module>\", \"globals\": {\"originale\": [\"REF\", 1], \"nuova\": [\"REF\", 2]}, \"ordered_globals\": [\"originale\", \"nuova\"], \"stack_to_render\": [], \"heap\": {\"1\": [\"LIST\", \"g\", \"a\", \"e\", \"d\", \"b\"], \"2\": [\"LIST\", \"a\", \"b\", \"d\", \"e\", \"g\"]}, \"stdout\": \"\"}, {\"line\": 4, \"event\": \"return\", \"func_name\": \"<module>\", \"globals\": {\"originale\": [\"REF\", 1], \"nuova\": [\"REF\", 2]}, \"ordered_globals\": [\"originale\", \"nuova\"], \"stack_to_render\": [], \"heap\": {\"1\": [\"LIST\", \"g\", \"a\", \"e\", \"d\", \"b\"], \"2\": [\"LIST\", \"a\", \"b\", \"d\", \"e\", \"g\"]}, \"stdout\": \"['a', 'b', 'd', 'e', 'g']\\n\"}]}\n",
       "        </script>\n",
       "        <div id=\"jm-6a454c13aedcb5f58d8cd10683f76b8e-24\" class=\"pytutorVisualizer\"> </div>\n",
       "                            \n",
       "        <script>\n",
       "                          \n",
       "        var jmRenderPytut = function(trace_id, div_id, config){\n",
       "            console.log(\"jupman.py embedded javascript: rendering Python tutor visualizer...\")\n",
       "            \n",
       "            let oldAlert = window.alert;\n",
       "            window.alert = function ( text ) { \n",
       "                console.log( 'tried to alert: ', text );         \n",
       "                return true; \n",
       "            };\n",
       "            let executionVisualizer = null;\n",
       "            try {\n",
       "            \n",
       "                var trace = JSON.parse(document.getElementById(trace_id).innerHTML);                                        \n",
       "                // NOTE: id without #\n",
       "                        \n",
       "                executionVisualizer = addVisualizerToPage(trace, div_id, config);\n",
       "                // hack in case visualizer decides to hide them for no good reason\n",
       "                $('#' + div_id + ' #jmpFirstInstr').show();\n",
       "                $('#' + div_id + ' #jmpLastInstr').show();\n",
       "                \n",
       "                // set overflow for pytuts - need to do in python as css \n",
       "                // does not allow parent selection\n",
       "                var pytuts = $('.pytutorVisualizer');\n",
       "                pytuts.closest('div.output_html.rendered_html.output_result')\n",
       "                        .css('overflow-x', 'visible');\n",
       "            \n",
       "                //pytuts.closest('div.output_html.rendered_html.output_result')\n",
       "                //      .css('background-color','red');                \n",
       "            } catch (error) {\n",
       "                console.error(\"jupman slides: Couldn't visualize Python tutor properly\", error);\n",
       "            }\n",
       "            window.alert = oldAlert;\n",
       "            return executionVisualizer;\n",
       "            \n",
       "        };\n",
       "        </script>\n",
       "        \n",
       "        <script>\n",
       "        var pytut_cfg_6a454c13aedcb5f58d8cd10683f76b8e_24 = (function(){\n",
       "            var rootFontSize = window.getComputedStyle(document.body).getPropertyValue('font-size');\n",
       "            var rootFontSizeNum = 12;\n",
       "            if (rootFontSize.endsWith('px')){\n",
       "                rootFontSizeNum = Number(rootFontSize.substring(0, rootFontSize.length-2));\n",
       "            } else {\n",
       "                console.error(\"Unrecognized font unit:\", rootFontSize, \"assuming default\", rootFontSizeNum);\n",
       "            }\n",
       "            console.log('rootFontSize', rootFontSize);\n",
       "            \n",
       "            var codeWidthInChars = Math.max(23, 33);\n",
       "            if (0){\n",
       "                codeWidthInChars = 0;    // override\n",
       "            }\n",
       "            return {'embeddedMode' : false,\n",
       "                  'disableHeapNesting': true,\n",
       "                  'visualizerIdOverride':'viz-jm-6a454c13aedcb5f58d8cd10683f76b8e-24',\n",
       "                  'codeDivWidth': Math.trunc(rootFontSizeNum * codeWidthInChars)\n",
       "                  };\n",
       "        })();                 \n",
       "        \n",
       "        jmRenderPytut('trace-jm-6a454c13aedcb5f58d8cd10683f76b8e-24', 'jm-6a454c13aedcb5f58d8cd10683f76b8e-24', pytut_cfg_6a454c13aedcb5f58d8cd10683f76b8e_24);\n",
       "        </script>\n",
       "                \n",
       "    \n",
       "    <div style=\"text-align:center; font-size:0.9em\"> <a href=\"https://pythontutor.com/visualize.html#mode=edit\" target=\"_blank\">Python Tutor</a> visualization</div> \n",
       "    "
      ],
      "text/plain": [
       "<IPython.core.display.HTML object>"
      ]
     },
     "execution_count": 22,
     "metadata": {},
     "output_type": "execute_result"
    }
   ],
   "source": []
  },
  {
   "cell_type": "markdown",
   "id": "323097ac",
   "metadata": {
    "slideshow": {
     "slide_type": "slide"
    }
   },
   "source": [
    "## zip\n",
    "\n",
    "Crea una sequenza di tuple da due sequenze di partenza"
   ]
  },
  {
   "cell_type": "code",
   "execution_count": 23,
   "id": "f8e31c22",
   "metadata": {
    "slideshow": {
     "slide_type": "-"
    }
   },
   "outputs": [
    {
     "data": {
      "text/plain": [
       "<zip at 0x7f60e2d13e10>"
      ]
     },
     "execution_count": 23,
     "metadata": {},
     "output_type": "execute_result"
    }
   ],
   "source": [
    "maschi = [\"Topolino\", \"Paperino\", \"Paperone\"]\n",
    "\n",
    "femmine = [\"Minnie\", \"Paperina\", \"Brigitta\"]\n",
    "\n",
    "zip(maschi, femmine)"
   ]
  },
  {
   "cell_type": "code",
   "execution_count": 24,
   "id": "da9ba50e",
   "metadata": {
    "slideshow": {
     "slide_type": "fragment"
    }
   },
   "outputs": [
    {
     "name": "stdout",
     "output_type": "stream",
     "text": [
      "('Topolino', 'Minnie')\n",
      "('Paperino', 'Paperina')\n",
      "('Paperone', 'Brigitta')\n"
     ]
    }
   ],
   "source": [
    "for coppia in zip(maschi, femmine):\n",
    "    print(coppia)     "
   ]
  },
  {
   "cell_type": "markdown",
   "id": "448dbdcd",
   "metadata": {
    "slideshow": {
     "slide_type": "fragment"
    }
   },
   "source": [
    "Materializziamo:"
   ]
  },
  {
   "cell_type": "code",
   "execution_count": 25,
   "id": "e480674e",
   "metadata": {
    "slideshow": {
     "slide_type": "-"
    }
   },
   "outputs": [
    {
     "data": {
      "text/plain": [
       "[('Topolino', 'Minnie'), ('Paperino', 'Paperina'), ('Paperone', 'Brigitta')]"
      ]
     },
     "execution_count": 25,
     "metadata": {},
     "output_type": "execute_result"
    }
   ],
   "source": [
    "list(zip(maschi, femmine))"
   ]
  },
  {
   "cell_type": "markdown",
   "id": "a0b7e494",
   "metadata": {
    "slideshow": {
     "slide_type": "slide"
    }
   },
   "source": [
    "## List comprehensions"
   ]
  },
  {
   "cell_type": "markdown",
   "id": "2d637d9b",
   "metadata": {
    "slideshow": {
     "slide_type": "-"
    }
   },
   "source": [
    "Abbiamo questa sequenza:"
   ]
  },
  {
   "cell_type": "code",
   "execution_count": 26,
   "id": "1f60020f",
   "metadata": {
    "slideshow": {
     "slide_type": "-"
    }
   },
   "outputs": [],
   "source": [
    "personaggi = [\"Topolino\", \"Paperino\", \"Paperone\"]"
   ]
  },
  {
   "cell_type": "markdown",
   "id": "a0e62622",
   "metadata": {
    "slideshow": {
     "slide_type": "-"
    }
   },
   "source": [
    "Vogliamo creare una NUOVA lista tutta in maiuscolo. Prova con questa sintassi:"
   ]
  },
  {
   "cell_type": "markdown",
   "id": "d309fff1",
   "metadata": {
    "slideshow": {
     "slide_type": "-"
    }
   },
   "source": [
    "```python\n",
    "[ESPRESSIONE_TRASFORMAZIONE for VARIABILE in SEQUENZA]\n",
    "```"
   ]
  },
  {
   "cell_type": "markdown",
   "id": "f7f95fb9",
   "metadata": {
    "slideshow": {
     "slide_type": "fragment"
    }
   },
   "source": [
    "ESPRESSIONE_TRASFORMAZIONE **deve generare un valore** \n",
    "\n",
    "- dovrebbe usare VARIABILE al suo interno"
   ]
  },
  {
   "cell_type": "code",
   "execution_count": 27,
   "id": "5779f80e",
   "metadata": {
    "slideshow": {
     "slide_type": "fragment"
    }
   },
   "outputs": [
    {
     "data": {
      "text/plain": [
       "['TOPOLINO', 'PAPERINO', 'PAPERONE']"
      ]
     },
     "execution_count": 27,
     "metadata": {},
     "output_type": "execute_result"
    }
   ],
   "source": [
    "[nome.upper() for nome in personaggi]"
   ]
  },
  {
   "cell_type": "code",
   "execution_count": 28,
   "id": "d36edb7a",
   "metadata": {
    "slideshow": {
     "slide_type": "fragment"
    }
   },
   "outputs": [
    {
     "data": {
      "text/plain": [
       "['Topolino', 'Paperino', 'Paperone']"
      ]
     },
     "execution_count": 28,
     "metadata": {},
     "output_type": "execute_result"
    }
   ],
   "source": [
    "personaggi  # l'originale è preservato"
   ]
  },
  {
   "cell_type": "markdown",
   "id": "8b8b4f49",
   "metadata": {
    "slideshow": {
     "slide_type": "slide"
    }
   },
   "source": [
    "### Filtrare list comprehensions "
   ]
  },
  {
   "cell_type": "markdown",
   "id": "6992434f",
   "metadata": {
    "slideshow": {
     "slide_type": "-"
    }
   },
   "source": [
    "Abbiamo questa verdura:"
   ]
  },
  {
   "cell_type": "code",
   "execution_count": 29,
   "id": "1c20cfdf",
   "metadata": {
    "slideshow": {
     "slide_type": "-"
    }
   },
   "outputs": [],
   "source": [
    "carote =  [8,4,3,6,2,7]"
   ]
  },
  {
   "cell_type": "markdown",
   "id": "edc589ac",
   "metadata": {
    "slideshow": {
     "slide_type": "-"
    }
   },
   "source": [
    "Vogliamo vendere le carote di almeno 5 cm creando una NUOVA lista. "
   ]
  },
  {
   "cell_type": "markdown",
   "id": "6a5bce02",
   "metadata": {
    "slideshow": {
     "slide_type": "-"
    }
   },
   "source": [
    "Come facciamo con questa sintassi?\n",
    "\n",
    "```python\n",
    "[ESPRESSIONE for ELEMENTO in SEQUENZA if CONDIZIONE]\n",
    "```"
   ]
  },
  {
   "cell_type": "code",
   "execution_count": 30,
   "id": "255f3ea3",
   "metadata": {
    "slideshow": {
     "slide_type": "fragment"
    }
   },
   "outputs": [
    {
     "name": "stdout",
     "output_type": "stream",
     "text": [
      "[8, 6, 7]\n"
     ]
    }
   ],
   "source": [
    "vendere = [ m for m in carote if m >= 5 ]\n",
    "\n",
    "print(vendere)"
   ]
  },
  {
   "cell_type": "code",
   "execution_count": 31,
   "id": "6261459c",
   "metadata": {
    "slideshow": {
     "slide_type": "fragment"
    }
   },
   "outputs": [
    {
     "name": "stdout",
     "output_type": "stream",
     "text": [
      "[8, 4, 3, 6, 2, 7]\n"
     ]
    }
   ],
   "source": [
    "print(carote)  # originale inalterato"
   ]
  },
  {
   "cell_type": "code",
   "execution_count": 32,
   "id": "f95e8943-stripped",
   "metadata": {
    "nbsphinx": "hidden",
    "slideshow": {
     "slide_type": "-"
    }
   },
   "outputs": [],
   "source": []
  }
 ],
 "metadata": {
  "celltoolbar": "Slideshow",
  "kernelspec": {
   "display_name": "Python 3 (ipykernel)",
   "language": "python",
   "name": "python3"
  },
  "language_info": {
   "codemirror_mode": {
    "name": "ipython",
    "version": 3
   },
   "file_extension": ".py",
   "mimetype": "text/x-python",
   "name": "python",
   "nbconvert_exporter": "python",
   "pygments_lexer": "ipython3",
   "version": "3.7.17"
  },
  "toc": {
   "base_numbering": 1,
   "nav_menu": {},
   "number_sections": false,
   "sideBar": true,
   "skip_h1_title": false,
   "title_cell": "Table of Contents",
   "title_sidebar": "Contents",
   "toc_cell": false,
   "toc_position": {
    "height": "calc(100% - 180px)",
    "left": "10px",
    "top": "150px",
    "width": "373.188px"
   },
   "toc_section_display": true,
   "toc_window_display": true
  }
 },
 "nbformat": 4,
 "nbformat_minor": 5
}
