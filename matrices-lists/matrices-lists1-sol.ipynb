{
 "cells": [
  {
   "cell_type": "code",
   "execution_count": 1,
   "id": "8e77c3a2",
   "metadata": {
    "slideshow": {
     "slide_type": "skip"
    }
   },
   "outputs": [
    {
     "data": {
      "text/html": [
       "        \n",
       "            <script src=\"../_static/js/python.iife.js\" type=\"application/javascript\"></script>\n",
       "        "
      ],
      "text/plain": [
       "<IPython.core.display.HTML object>"
      ]
     },
     "execution_count": 1,
     "metadata": {},
     "output_type": "execute_result"
    }
   ],
   "source": [
    "import sys\n",
    "sys.path.append('../')\n",
    "import jupman\n",
    "\n",
    "import conf\n",
    "\n",
    "conf.jm.init_icp()"
   ]
  },
  {
   "cell_type": "markdown",
   "id": "0049100b",
   "metadata": {
    "slideshow": {
     "slide_type": "slide"
    }
   },
   "source": [
    "\n",
    "# Matrici di liste 1: introduzione\n",
    "\n",
    "**Riferimenti:** [SoftPython - matrice di liste 1](https://it.softpython.org/matrices-lists/matrices-lists-sol.html)\n",
    "\n",
    "* visualizza al meglio in <img style=\"display:inline; width:25px; vertical-align: middle;\" src=\"../_static/img/chrome.png\" alttext=\"Chrome\">\n",
    "* versione stampabile: [clicca qua](?print-pdf)\n",
    "* per navigare nelle slide: premere `Esc`\n",
    "\n",
    "<br>\n",
    "<br>\n",
    "\n",
    "**Summer School Data Science 2023 - Modulo 1 informatica:** [Moodle](https://didatticaonline.unitn.it/dol/course/view.php?id=36683) \n",
    "\n",
    "Docente: David Leoni david.leoni@unitn.it\n",
    "\n",
    "Esercitatore: Luca Bosotti luca.bosotti@studenti.unitn.it\n"
   ]
  },
  {
   "cell_type": "markdown",
   "id": "b45d564b",
   "metadata": {
    "slideshow": {
     "slide_type": "slide"
    }
   },
   "source": [
    "## Matrici - belle eh?\n",
    "\n",
    "\n",
    "![matrice](img/matrix.svg)"
   ]
  },
  {
   "cell_type": "markdown",
   "id": "cecb23e5",
   "metadata": {
    "slideshow": {
     "slide_type": "subslide"
    }
   },
   "source": [
    "### Matrici: Ma a che servono ? 1/3\n",
    "\n",
    "![matrice tabella](img/matrix-table.svg)"
   ]
  },
  {
   "cell_type": "markdown",
   "id": "6a38909d",
   "metadata": {
    "slideshow": {
     "slide_type": "subslide"
    }
   },
   "source": [
    "### Matrici: Ma a che servono ? 2/3\n",
    "\n",
    "![matrice immagine](img/matrix-image.svg)"
   ]
  },
  {
   "cell_type": "markdown",
   "id": "045d1aad",
   "metadata": {
    "slideshow": {
     "slide_type": "subslide"
    }
   },
   "source": [
    "### Matrici: Ma a che servono ? 3/3\n",
    "\n",
    "\n",
    "<table>\n",
    "<tr>\n",
    "<td>\n",
    "    \n",
    "<img src=\"img/matrix-social-network.svg\">\n",
    "</td>\n",
    "<td>\n",
    "    \n",
    "<img src=\"img/matrix-cash-flow.svg\">    \n",
    "</td>\n",
    "<td>\n",
    "<img src=\"img/matrix-ai.svg\" width=\"40%\">    \n",
    "</td>\n",
    "\n",
    "</tr>\n",
    "</table>"
   ]
  },
  {
   "cell_type": "markdown",
   "id": "2907772e",
   "metadata": {
    "slideshow": {
     "slide_type": "subslide"
    }
   },
   "source": [
    "## Matrici\n",
    "Ci sono sostanzialmente due modi in Python di rappresentare matrici:\n",
    "\n",
    "**Liste di liste:**\n",
    "\n",
    "1. native in Python\n",
    "2. non efficienti\n",
    "3. le liste sono pervasive in Python, probabilmente incontrerai matrici espresse come liste di liste in ogni caso\n",
    "4. forniscono un'idea di come costruire una struttura dati annidata\n",
    "5. possono servire per comprendere concetti importanti come puntatori alla memoria e copie "
   ]
  },
  {
   "cell_type": "markdown",
   "id": "d75f2100",
   "metadata": {
    "slideshow": {
     "slide_type": "fragment"
    }
   },
   "source": [
    "**Numpy** (più avanti):\n",
    "\n",
    "1. non nativamente disponibile in Python\n",
    "2. efficienti\n",
    "3. alla base di parecchie librerie di calcolo scientifico (scipy, pandas)\n",
    "4. la sintassi per accedere agli elementi lievemente diversa da quella da liste di liste \n",
    "5. in rari casi potrebbe portare problemi di installazione e/o conflitti "
   ]
  },
  {
   "cell_type": "markdown",
   "id": "0556b967",
   "metadata": {
    "slideshow": {
     "slide_type": "subslide"
    }
   },
   "source": [
    "\n",
    "\n",
    "## Matrici - liste di liste\n",
    "\n",
    "**Riferimenti**: [SoftPython - matrici liste di liste](https://it.softpython.org/matrices-lists/matrices-lists1-sol.html)\n",
    "\n",
    "Es. matrice 3x2:"
   ]
  },
  {
   "cell_type": "code",
   "execution_count": 2,
   "id": "35e85394",
   "metadata": {
    "slideshow": {
     "slide_type": "-"
    }
   },
   "outputs": [],
   "source": [
    "m = [\n",
    "        ['a','b'],\n",
    "        ['c','d'],\n",
    "        ['a','e']    \n",
    "    ]"
   ]
  },
  {
   "cell_type": "markdown",
   "id": "51de3d75",
   "metadata": {
    "slideshow": {
     "slide_type": "-"
    }
   },
   "source": [
    "Assumiamo matrici con:\n",
    "\n",
    "- almeno una riga\n",
    "- almeno una colonna"
   ]
  },
  {
   "cell_type": "markdown",
   "id": "e6eb39e1",
   "metadata": {
    "slideshow": {
     "slide_type": "slide"
    }
   },
   "source": [
    "## Misure\n",
    "\n",
    "\n",
    "![matrice](img/matrix-dimensions.svg)"
   ]
  },
  {
   "cell_type": "markdown",
   "id": "7cc825f9",
   "metadata": {
    "slideshow": {
     "slide_type": "subslide"
    }
   },
   "source": [
    "## Accedere alla matrice 1/2"
   ]
  },
  {
   "cell_type": "code",
   "execution_count": 3,
   "id": "0b884ee6",
   "metadata": {
    "slideshow": {
     "slide_type": "-"
    }
   },
   "outputs": [],
   "source": [
    "m = [\n",
    "        ['v','e','r','d','e'],\n",
    "        ['r','o','s','s','o'],   \n",
    "        ['v','i','o','l','a'],\n",
    "    \n",
    "    ]"
   ]
  },
  {
   "cell_type": "code",
   "execution_count": 4,
   "id": "e9c31fa5",
   "metadata": {
    "slideshow": {
     "slide_type": "-"
    }
   },
   "outputs": [
    {
     "data": {
      "text/plain": [
       "['v', 'e', 'r', 'd', 'e']"
      ]
     },
     "execution_count": 4,
     "metadata": {},
     "output_type": "execute_result"
    }
   ],
   "source": [
    "m[0]"
   ]
  },
  {
   "cell_type": "code",
   "execution_count": 5,
   "id": "1069430f",
   "metadata": {
    "slideshow": {
     "slide_type": "-"
    }
   },
   "outputs": [
    {
     "data": {
      "text/plain": [
       "['r', 'o', 's', 's', 'o']"
      ]
     },
     "execution_count": 5,
     "metadata": {},
     "output_type": "execute_result"
    }
   ],
   "source": [
    "m[1]"
   ]
  },
  {
   "cell_type": "markdown",
   "id": "4d62f6dc",
   "metadata": {
    "slideshow": {
     "slide_type": "subslide"
    }
   },
   "source": [
    "## Accedere alla matrice 2/2"
   ]
  },
  {
   "cell_type": "code",
   "execution_count": 6,
   "id": "89ead66a",
   "metadata": {
    "slideshow": {
     "slide_type": "-"
    }
   },
   "outputs": [],
   "source": [
    "m = [\n",
    "        ['v','e','r','d','e'],\n",
    "        ['r','o','s','s','o'],   \n",
    "        ['v','i','o','l','a'],\n",
    "    \n",
    "    ]"
   ]
  },
  {
   "cell_type": "code",
   "execution_count": 7,
   "id": "84088f59",
   "metadata": {},
   "outputs": [
    {
     "data": {
      "text/plain": [
       "'v'"
      ]
     },
     "execution_count": 7,
     "metadata": {},
     "output_type": "execute_result"
    }
   ],
   "source": [
    "m[0][0]"
   ]
  },
  {
   "cell_type": "code",
   "execution_count": 8,
   "id": "84e9bab1",
   "metadata": {},
   "outputs": [
    {
     "data": {
      "text/plain": [
       "'e'"
      ]
     },
     "execution_count": 8,
     "metadata": {},
     "output_type": "execute_result"
    }
   ],
   "source": [
    "m[0][1]"
   ]
  },
  {
   "cell_type": "markdown",
   "id": "a15c6407",
   "metadata": {
    "slideshow": {
     "slide_type": "-"
    }
   },
   "source": [
    "<div class=\"alert alert-warning\" >\n",
    "\n",
    "**ATTENZIONE**: Quando una matrice è una lista di liste, puoi solo accedere valori con notazione `m[i][j]`, **NON** con `m[i,j]` !!\n",
    "</div>"
   ]
  },
  {
   "cell_type": "markdown",
   "id": "4fcdebcd",
   "metadata": {
    "slideshow": {
     "slide_type": "subslide"
    }
   },
   "source": [
    "### Dimensioni della matrice"
   ]
  },
  {
   "cell_type": "code",
   "execution_count": 9,
   "id": "63d6e70a",
   "metadata": {
    "slideshow": {
     "slide_type": "-"
    }
   },
   "outputs": [],
   "source": [
    "m = [\n",
    "        ['v','e','r','d','e'],\n",
    "        ['r','o','s','s','o'],   \n",
    "        ['v','i','o','l','a'],\n",
    "    \n",
    "    ]"
   ]
  },
  {
   "cell_type": "code",
   "execution_count": 10,
   "id": "16e9060f",
   "metadata": {
    "slideshow": {
     "slide_type": "fragment"
    }
   },
   "outputs": [
    {
     "data": {
      "text/plain": [
       "3"
      ]
     },
     "execution_count": 10,
     "metadata": {},
     "output_type": "execute_result"
    }
   ],
   "source": [
    "len(m)  # righe"
   ]
  },
  {
   "cell_type": "code",
   "execution_count": 11,
   "id": "cff4b64b",
   "metadata": {
    "slideshow": {
     "slide_type": "fragment"
    }
   },
   "outputs": [
    {
     "data": {
      "text/plain": [
       "5"
      ]
     },
     "execution_count": 11,
     "metadata": {},
     "output_type": "execute_result"
    }
   ],
   "source": [
    "len(m[0])  # colonne"
   ]
  },
  {
   "cell_type": "markdown",
   "id": "574793f4",
   "metadata": {
    "slideshow": {
     "slide_type": "slide"
    }
   },
   "source": [
    "### Visita matrice `for` `in`"
   ]
  },
  {
   "cell_type": "code",
   "execution_count": 29,
   "id": "c6d5bee9",
   "metadata": {
    "slideshow": {
     "slide_type": "-"
    }
   },
   "outputs": [
    {
     "name": "stdout",
     "output_type": "stream",
     "text": [
      "a b \n",
      "c d \n",
      "e f \n"
     ]
    },
    {
     "data": {
      "text/html": [
       "        \n",
       "        <script src=\"../_static/js/pytutor-embed.bundle.min.js\" #type=\"application/javascript\"></script>\n",
       "    \n",
       "        <style>\n",
       "        @import \"../_static/css/jupman.css\";\n",
       "        </style>\n",
       "     \n",
       "        <script id=\"trace-jm-b6d7f028e9d7eb51090958ab70fc2a8b-31\" type=\"application/json\" >\n",
       "            {\"code\": \" \\ndef stampa1(matrice):\\n    for riga in matrice:\\n        for cella in riga:\\n            print(cella, end=' ')\\n        print()  # fine riga\\n        \\nma = [['a','b'],\\n      ['c','d'],\\n      ['e','f']\\n     ]\\nstampa1(ma)\", \"trace\": [{\"line\": 2, \"event\": \"step_line\", \"func_name\": \"<module>\", \"globals\": {}, \"ordered_globals\": [], \"stack_to_render\": [], \"heap\": {}, \"stdout\": \"\"}, {\"line\": 8, \"event\": \"step_line\", \"func_name\": \"<module>\", \"globals\": {\"stampa1\": [\"REF\", 1]}, \"ordered_globals\": [\"stampa1\"], \"stack_to_render\": [], \"heap\": {\"1\": [\"FUNCTION\", \"stampa1(matrice)\", null]}, \"stdout\": \"\"}, {\"line\": 9, \"event\": \"step_line\", \"func_name\": \"<module>\", \"globals\": {\"stampa1\": [\"REF\", 1]}, \"ordered_globals\": [\"stampa1\"], \"stack_to_render\": [], \"heap\": {\"1\": [\"FUNCTION\", \"stampa1(matrice)\", null]}, \"stdout\": \"\"}, {\"line\": 10, \"event\": \"step_line\", \"func_name\": \"<module>\", \"globals\": {\"stampa1\": [\"REF\", 1]}, \"ordered_globals\": [\"stampa1\"], \"stack_to_render\": [], \"heap\": {\"1\": [\"FUNCTION\", \"stampa1(matrice)\", null]}, \"stdout\": \"\"}, {\"line\": 12, \"event\": \"step_line\", \"func_name\": \"<module>\", \"globals\": {\"stampa1\": [\"REF\", 1], \"ma\": [\"REF\", 2]}, \"ordered_globals\": [\"stampa1\", \"ma\"], \"stack_to_render\": [], \"heap\": {\"1\": [\"FUNCTION\", \"stampa1(matrice)\", null], \"2\": [\"LIST\", [\"REF\", 3], [\"REF\", 4], [\"REF\", 5]], \"3\": [\"LIST\", \"a\", \"b\"], \"4\": [\"LIST\", \"c\", \"d\"], \"5\": [\"LIST\", \"e\", \"f\"]}, \"stdout\": \"\"}, {\"line\": 2, \"event\": \"call\", \"func_name\": \"stampa1\", \"globals\": {\"stampa1\": [\"REF\", 1], \"ma\": [\"REF\", 2]}, \"ordered_globals\": [\"stampa1\", \"ma\"], \"stack_to_render\": [{\"func_name\": \"stampa1\", \"is_parent\": false, \"frame_id\": 1, \"parent_frame_id_list\": [], \"encoded_locals\": {\"matrice\": [\"REF\", 2]}, \"ordered_varnames\": [\"matrice\"], \"is_zombie\": false, \"is_highlighted\": true, \"unique_hash\": \"stampa1_f1\"}], \"heap\": {\"2\": [\"LIST\", [\"REF\", 3], [\"REF\", 4], [\"REF\", 5]], \"3\": [\"LIST\", \"a\", \"b\"], \"4\": [\"LIST\", \"c\", \"d\"], \"5\": [\"LIST\", \"e\", \"f\"], \"1\": [\"FUNCTION\", \"stampa1(matrice)\", null]}, \"stdout\": \"\"}, {\"line\": 3, \"event\": \"step_line\", \"func_name\": \"stampa1\", \"globals\": {\"stampa1\": [\"REF\", 1], \"ma\": [\"REF\", 2]}, \"ordered_globals\": [\"stampa1\", \"ma\"], \"stack_to_render\": [{\"func_name\": \"stampa1\", \"is_parent\": false, \"frame_id\": 1, \"parent_frame_id_list\": [], \"encoded_locals\": {\"matrice\": [\"REF\", 2]}, \"ordered_varnames\": [\"matrice\"], \"is_zombie\": false, \"is_highlighted\": true, \"unique_hash\": \"stampa1_f1\"}], \"heap\": {\"2\": [\"LIST\", [\"REF\", 3], [\"REF\", 4], [\"REF\", 5]], \"3\": [\"LIST\", \"a\", \"b\"], \"4\": [\"LIST\", \"c\", \"d\"], \"5\": [\"LIST\", \"e\", \"f\"], \"1\": [\"FUNCTION\", \"stampa1(matrice)\", null]}, \"stdout\": \"\"}, {\"line\": 4, \"event\": \"step_line\", \"func_name\": \"stampa1\", \"globals\": {\"stampa1\": [\"REF\", 1], \"ma\": [\"REF\", 2]}, \"ordered_globals\": [\"stampa1\", \"ma\"], \"stack_to_render\": [{\"func_name\": \"stampa1\", \"is_parent\": false, \"frame_id\": 1, \"parent_frame_id_list\": [], \"encoded_locals\": {\"matrice\": [\"REF\", 2], \"riga\": [\"REF\", 3]}, \"ordered_varnames\": [\"matrice\", \"riga\"], \"is_zombie\": false, \"is_highlighted\": true, \"unique_hash\": \"stampa1_f1\"}], \"heap\": {\"2\": [\"LIST\", [\"REF\", 3], [\"REF\", 4], [\"REF\", 5]], \"3\": [\"LIST\", \"a\", \"b\"], \"4\": [\"LIST\", \"c\", \"d\"], \"5\": [\"LIST\", \"e\", \"f\"], \"1\": [\"FUNCTION\", \"stampa1(matrice)\", null]}, \"stdout\": \"\"}, {\"line\": 5, \"event\": \"step_line\", \"func_name\": \"stampa1\", \"globals\": {\"stampa1\": [\"REF\", 1], \"ma\": [\"REF\", 2]}, \"ordered_globals\": [\"stampa1\", \"ma\"], \"stack_to_render\": [{\"func_name\": \"stampa1\", \"is_parent\": false, \"frame_id\": 1, \"parent_frame_id_list\": [], \"encoded_locals\": {\"matrice\": [\"REF\", 2], \"riga\": [\"REF\", 3], \"cella\": \"a\"}, \"ordered_varnames\": [\"matrice\", \"riga\", \"cella\"], \"is_zombie\": false, \"is_highlighted\": true, \"unique_hash\": \"stampa1_f1\"}], \"heap\": {\"2\": [\"LIST\", [\"REF\", 3], [\"REF\", 4], [\"REF\", 5]], \"3\": [\"LIST\", \"a\", \"b\"], \"4\": [\"LIST\", \"c\", \"d\"], \"5\": [\"LIST\", \"e\", \"f\"], \"1\": [\"FUNCTION\", \"stampa1(matrice)\", null]}, \"stdout\": \"\"}, {\"line\": 4, \"event\": \"step_line\", \"func_name\": \"stampa1\", \"globals\": {\"stampa1\": [\"REF\", 1], \"ma\": [\"REF\", 2]}, \"ordered_globals\": [\"stampa1\", \"ma\"], \"stack_to_render\": [{\"func_name\": \"stampa1\", \"is_parent\": false, \"frame_id\": 1, \"parent_frame_id_list\": [], \"encoded_locals\": {\"matrice\": [\"REF\", 2], \"riga\": [\"REF\", 3], \"cella\": \"a\"}, \"ordered_varnames\": [\"matrice\", \"riga\", \"cella\"], \"is_zombie\": false, \"is_highlighted\": true, \"unique_hash\": \"stampa1_f1\"}], \"heap\": {\"2\": [\"LIST\", [\"REF\", 3], [\"REF\", 4], [\"REF\", 5]], \"3\": [\"LIST\", \"a\", \"b\"], \"4\": [\"LIST\", \"c\", \"d\"], \"5\": [\"LIST\", \"e\", \"f\"], \"1\": [\"FUNCTION\", \"stampa1(matrice)\", null]}, \"stdout\": \"a \"}, {\"line\": 5, \"event\": \"step_line\", \"func_name\": \"stampa1\", \"globals\": {\"stampa1\": [\"REF\", 1], \"ma\": [\"REF\", 2]}, \"ordered_globals\": [\"stampa1\", \"ma\"], \"stack_to_render\": [{\"func_name\": \"stampa1\", \"is_parent\": false, \"frame_id\": 1, \"parent_frame_id_list\": [], \"encoded_locals\": {\"matrice\": [\"REF\", 2], \"riga\": [\"REF\", 3], \"cella\": \"b\"}, \"ordered_varnames\": [\"matrice\", \"riga\", \"cella\"], \"is_zombie\": false, \"is_highlighted\": true, \"unique_hash\": \"stampa1_f1\"}], \"heap\": {\"2\": [\"LIST\", [\"REF\", 3], [\"REF\", 4], [\"REF\", 5]], \"3\": [\"LIST\", \"a\", \"b\"], \"4\": [\"LIST\", \"c\", \"d\"], \"5\": [\"LIST\", \"e\", \"f\"], \"1\": [\"FUNCTION\", \"stampa1(matrice)\", null]}, \"stdout\": \"a \"}, {\"line\": 4, \"event\": \"step_line\", \"func_name\": \"stampa1\", \"globals\": {\"stampa1\": [\"REF\", 1], \"ma\": [\"REF\", 2]}, \"ordered_globals\": [\"stampa1\", \"ma\"], \"stack_to_render\": [{\"func_name\": \"stampa1\", \"is_parent\": false, \"frame_id\": 1, \"parent_frame_id_list\": [], \"encoded_locals\": {\"matrice\": [\"REF\", 2], \"riga\": [\"REF\", 3], \"cella\": \"b\"}, \"ordered_varnames\": [\"matrice\", \"riga\", \"cella\"], \"is_zombie\": false, \"is_highlighted\": true, \"unique_hash\": \"stampa1_f1\"}], \"heap\": {\"2\": [\"LIST\", [\"REF\", 3], [\"REF\", 4], [\"REF\", 5]], \"3\": [\"LIST\", \"a\", \"b\"], \"4\": [\"LIST\", \"c\", \"d\"], \"5\": [\"LIST\", \"e\", \"f\"], \"1\": [\"FUNCTION\", \"stampa1(matrice)\", null]}, \"stdout\": \"a b \"}, {\"line\": 6, \"event\": \"step_line\", \"func_name\": \"stampa1\", \"globals\": {\"stampa1\": [\"REF\", 1], \"ma\": [\"REF\", 2]}, \"ordered_globals\": [\"stampa1\", \"ma\"], \"stack_to_render\": [{\"func_name\": \"stampa1\", \"is_parent\": false, \"frame_id\": 1, \"parent_frame_id_list\": [], \"encoded_locals\": {\"matrice\": [\"REF\", 2], \"riga\": [\"REF\", 3], \"cella\": \"b\"}, \"ordered_varnames\": [\"matrice\", \"riga\", \"cella\"], \"is_zombie\": false, \"is_highlighted\": true, \"unique_hash\": \"stampa1_f1\"}], \"heap\": {\"2\": [\"LIST\", [\"REF\", 3], [\"REF\", 4], [\"REF\", 5]], \"3\": [\"LIST\", \"a\", \"b\"], \"4\": [\"LIST\", \"c\", \"d\"], \"5\": [\"LIST\", \"e\", \"f\"], \"1\": [\"FUNCTION\", \"stampa1(matrice)\", null]}, \"stdout\": \"a b \"}, {\"line\": 3, \"event\": \"step_line\", \"func_name\": \"stampa1\", \"globals\": {\"stampa1\": [\"REF\", 1], \"ma\": [\"REF\", 2]}, \"ordered_globals\": [\"stampa1\", \"ma\"], \"stack_to_render\": [{\"func_name\": \"stampa1\", \"is_parent\": false, \"frame_id\": 1, \"parent_frame_id_list\": [], \"encoded_locals\": {\"matrice\": [\"REF\", 2], \"riga\": [\"REF\", 3], \"cella\": \"b\"}, \"ordered_varnames\": [\"matrice\", \"riga\", \"cella\"], \"is_zombie\": false, \"is_highlighted\": true, \"unique_hash\": \"stampa1_f1\"}], \"heap\": {\"2\": [\"LIST\", [\"REF\", 3], [\"REF\", 4], [\"REF\", 5]], \"3\": [\"LIST\", \"a\", \"b\"], \"4\": [\"LIST\", \"c\", \"d\"], \"5\": [\"LIST\", \"e\", \"f\"], \"1\": [\"FUNCTION\", \"stampa1(matrice)\", null]}, \"stdout\": \"a b \\n\"}, {\"line\": 4, \"event\": \"step_line\", \"func_name\": \"stampa1\", \"globals\": {\"stampa1\": [\"REF\", 1], \"ma\": [\"REF\", 2]}, \"ordered_globals\": [\"stampa1\", \"ma\"], \"stack_to_render\": [{\"func_name\": \"stampa1\", \"is_parent\": false, \"frame_id\": 1, \"parent_frame_id_list\": [], \"encoded_locals\": {\"matrice\": [\"REF\", 2], \"riga\": [\"REF\", 4], \"cella\": \"b\"}, \"ordered_varnames\": [\"matrice\", \"riga\", \"cella\"], \"is_zombie\": false, \"is_highlighted\": true, \"unique_hash\": \"stampa1_f1\"}], \"heap\": {\"2\": [\"LIST\", [\"REF\", 3], [\"REF\", 4], [\"REF\", 5]], \"3\": [\"LIST\", \"a\", \"b\"], \"4\": [\"LIST\", \"c\", \"d\"], \"5\": [\"LIST\", \"e\", \"f\"], \"1\": [\"FUNCTION\", \"stampa1(matrice)\", null]}, \"stdout\": \"a b \\n\"}, {\"line\": 5, \"event\": \"step_line\", \"func_name\": \"stampa1\", \"globals\": {\"stampa1\": [\"REF\", 1], \"ma\": [\"REF\", 2]}, \"ordered_globals\": [\"stampa1\", \"ma\"], \"stack_to_render\": [{\"func_name\": \"stampa1\", \"is_parent\": false, \"frame_id\": 1, \"parent_frame_id_list\": [], \"encoded_locals\": {\"matrice\": [\"REF\", 2], \"riga\": [\"REF\", 4], \"cella\": \"c\"}, \"ordered_varnames\": [\"matrice\", \"riga\", \"cella\"], \"is_zombie\": false, \"is_highlighted\": true, \"unique_hash\": \"stampa1_f1\"}], \"heap\": {\"2\": [\"LIST\", [\"REF\", 3], [\"REF\", 4], [\"REF\", 5]], \"3\": [\"LIST\", \"a\", \"b\"], \"4\": [\"LIST\", \"c\", \"d\"], \"5\": [\"LIST\", \"e\", \"f\"], \"1\": [\"FUNCTION\", \"stampa1(matrice)\", null]}, \"stdout\": \"a b \\n\"}, {\"line\": 4, \"event\": \"step_line\", \"func_name\": \"stampa1\", \"globals\": {\"stampa1\": [\"REF\", 1], \"ma\": [\"REF\", 2]}, \"ordered_globals\": [\"stampa1\", \"ma\"], \"stack_to_render\": [{\"func_name\": \"stampa1\", \"is_parent\": false, \"frame_id\": 1, \"parent_frame_id_list\": [], \"encoded_locals\": {\"matrice\": [\"REF\", 2], \"riga\": [\"REF\", 4], \"cella\": \"c\"}, \"ordered_varnames\": [\"matrice\", \"riga\", \"cella\"], \"is_zombie\": false, \"is_highlighted\": true, \"unique_hash\": \"stampa1_f1\"}], \"heap\": {\"2\": [\"LIST\", [\"REF\", 3], [\"REF\", 4], [\"REF\", 5]], \"3\": [\"LIST\", \"a\", \"b\"], \"4\": [\"LIST\", \"c\", \"d\"], \"5\": [\"LIST\", \"e\", \"f\"], \"1\": [\"FUNCTION\", \"stampa1(matrice)\", null]}, \"stdout\": \"a b \\nc \"}, {\"line\": 5, \"event\": \"step_line\", \"func_name\": \"stampa1\", \"globals\": {\"stampa1\": [\"REF\", 1], \"ma\": [\"REF\", 2]}, \"ordered_globals\": [\"stampa1\", \"ma\"], \"stack_to_render\": [{\"func_name\": \"stampa1\", \"is_parent\": false, \"frame_id\": 1, \"parent_frame_id_list\": [], \"encoded_locals\": {\"matrice\": [\"REF\", 2], \"riga\": [\"REF\", 4], \"cella\": \"d\"}, \"ordered_varnames\": [\"matrice\", \"riga\", \"cella\"], \"is_zombie\": false, \"is_highlighted\": true, \"unique_hash\": \"stampa1_f1\"}], \"heap\": {\"2\": [\"LIST\", [\"REF\", 3], [\"REF\", 4], [\"REF\", 5]], \"3\": [\"LIST\", \"a\", \"b\"], \"4\": [\"LIST\", \"c\", \"d\"], \"5\": [\"LIST\", \"e\", \"f\"], \"1\": [\"FUNCTION\", \"stampa1(matrice)\", null]}, \"stdout\": \"a b \\nc \"}, {\"line\": 4, \"event\": \"step_line\", \"func_name\": \"stampa1\", \"globals\": {\"stampa1\": [\"REF\", 1], \"ma\": [\"REF\", 2]}, \"ordered_globals\": [\"stampa1\", \"ma\"], \"stack_to_render\": [{\"func_name\": \"stampa1\", \"is_parent\": false, \"frame_id\": 1, \"parent_frame_id_list\": [], \"encoded_locals\": {\"matrice\": [\"REF\", 2], \"riga\": [\"REF\", 4], \"cella\": \"d\"}, \"ordered_varnames\": [\"matrice\", \"riga\", \"cella\"], \"is_zombie\": false, \"is_highlighted\": true, \"unique_hash\": \"stampa1_f1\"}], \"heap\": {\"2\": [\"LIST\", [\"REF\", 3], [\"REF\", 4], [\"REF\", 5]], \"3\": [\"LIST\", \"a\", \"b\"], \"4\": [\"LIST\", \"c\", \"d\"], \"5\": [\"LIST\", \"e\", \"f\"], \"1\": [\"FUNCTION\", \"stampa1(matrice)\", null]}, \"stdout\": \"a b \\nc d \"}, {\"line\": 6, \"event\": \"step_line\", \"func_name\": \"stampa1\", \"globals\": {\"stampa1\": [\"REF\", 1], \"ma\": [\"REF\", 2]}, \"ordered_globals\": [\"stampa1\", \"ma\"], \"stack_to_render\": [{\"func_name\": \"stampa1\", \"is_parent\": false, \"frame_id\": 1, \"parent_frame_id_list\": [], \"encoded_locals\": {\"matrice\": [\"REF\", 2], \"riga\": [\"REF\", 4], \"cella\": \"d\"}, \"ordered_varnames\": [\"matrice\", \"riga\", \"cella\"], \"is_zombie\": false, \"is_highlighted\": true, \"unique_hash\": \"stampa1_f1\"}], \"heap\": {\"2\": [\"LIST\", [\"REF\", 3], [\"REF\", 4], [\"REF\", 5]], \"3\": [\"LIST\", \"a\", \"b\"], \"4\": [\"LIST\", \"c\", \"d\"], \"5\": [\"LIST\", \"e\", \"f\"], \"1\": [\"FUNCTION\", \"stampa1(matrice)\", null]}, \"stdout\": \"a b \\nc d \"}, {\"line\": 3, \"event\": \"step_line\", \"func_name\": \"stampa1\", \"globals\": {\"stampa1\": [\"REF\", 1], \"ma\": [\"REF\", 2]}, \"ordered_globals\": [\"stampa1\", \"ma\"], \"stack_to_render\": [{\"func_name\": \"stampa1\", \"is_parent\": false, \"frame_id\": 1, \"parent_frame_id_list\": [], \"encoded_locals\": {\"matrice\": [\"REF\", 2], \"riga\": [\"REF\", 4], \"cella\": \"d\"}, \"ordered_varnames\": [\"matrice\", \"riga\", \"cella\"], \"is_zombie\": false, \"is_highlighted\": true, \"unique_hash\": \"stampa1_f1\"}], \"heap\": {\"2\": [\"LIST\", [\"REF\", 3], [\"REF\", 4], [\"REF\", 5]], \"3\": [\"LIST\", \"a\", \"b\"], \"4\": [\"LIST\", \"c\", \"d\"], \"5\": [\"LIST\", \"e\", \"f\"], \"1\": [\"FUNCTION\", \"stampa1(matrice)\", null]}, \"stdout\": \"a b \\nc d \\n\"}, {\"line\": 4, \"event\": \"step_line\", \"func_name\": \"stampa1\", \"globals\": {\"stampa1\": [\"REF\", 1], \"ma\": [\"REF\", 2]}, \"ordered_globals\": [\"stampa1\", \"ma\"], \"stack_to_render\": [{\"func_name\": \"stampa1\", \"is_parent\": false, \"frame_id\": 1, \"parent_frame_id_list\": [], \"encoded_locals\": {\"matrice\": [\"REF\", 2], \"riga\": [\"REF\", 5], \"cella\": \"d\"}, \"ordered_varnames\": [\"matrice\", \"riga\", \"cella\"], \"is_zombie\": false, \"is_highlighted\": true, \"unique_hash\": \"stampa1_f1\"}], \"heap\": {\"2\": [\"LIST\", [\"REF\", 3], [\"REF\", 4], [\"REF\", 5]], \"3\": [\"LIST\", \"a\", \"b\"], \"4\": [\"LIST\", \"c\", \"d\"], \"5\": [\"LIST\", \"e\", \"f\"], \"1\": [\"FUNCTION\", \"stampa1(matrice)\", null]}, \"stdout\": \"a b \\nc d \\n\"}, {\"line\": 5, \"event\": \"step_line\", \"func_name\": \"stampa1\", \"globals\": {\"stampa1\": [\"REF\", 1], \"ma\": [\"REF\", 2]}, \"ordered_globals\": [\"stampa1\", \"ma\"], \"stack_to_render\": [{\"func_name\": \"stampa1\", \"is_parent\": false, \"frame_id\": 1, \"parent_frame_id_list\": [], \"encoded_locals\": {\"matrice\": [\"REF\", 2], \"riga\": [\"REF\", 5], \"cella\": \"e\"}, \"ordered_varnames\": [\"matrice\", \"riga\", \"cella\"], \"is_zombie\": false, \"is_highlighted\": true, \"unique_hash\": \"stampa1_f1\"}], \"heap\": {\"2\": [\"LIST\", [\"REF\", 3], [\"REF\", 4], [\"REF\", 5]], \"3\": [\"LIST\", \"a\", \"b\"], \"4\": [\"LIST\", \"c\", \"d\"], \"5\": [\"LIST\", \"e\", \"f\"], \"1\": [\"FUNCTION\", \"stampa1(matrice)\", null]}, \"stdout\": \"a b \\nc d \\n\"}, {\"line\": 4, \"event\": \"step_line\", \"func_name\": \"stampa1\", \"globals\": {\"stampa1\": [\"REF\", 1], \"ma\": [\"REF\", 2]}, \"ordered_globals\": [\"stampa1\", \"ma\"], \"stack_to_render\": [{\"func_name\": \"stampa1\", \"is_parent\": false, \"frame_id\": 1, \"parent_frame_id_list\": [], \"encoded_locals\": {\"matrice\": [\"REF\", 2], \"riga\": [\"REF\", 5], \"cella\": \"e\"}, \"ordered_varnames\": [\"matrice\", \"riga\", \"cella\"], \"is_zombie\": false, \"is_highlighted\": true, \"unique_hash\": \"stampa1_f1\"}], \"heap\": {\"2\": [\"LIST\", [\"REF\", 3], [\"REF\", 4], [\"REF\", 5]], \"3\": [\"LIST\", \"a\", \"b\"], \"4\": [\"LIST\", \"c\", \"d\"], \"5\": [\"LIST\", \"e\", \"f\"], \"1\": [\"FUNCTION\", \"stampa1(matrice)\", null]}, \"stdout\": \"a b \\nc d \\ne \"}, {\"line\": 5, \"event\": \"step_line\", \"func_name\": \"stampa1\", \"globals\": {\"stampa1\": [\"REF\", 1], \"ma\": [\"REF\", 2]}, \"ordered_globals\": [\"stampa1\", \"ma\"], \"stack_to_render\": [{\"func_name\": \"stampa1\", \"is_parent\": false, \"frame_id\": 1, \"parent_frame_id_list\": [], \"encoded_locals\": {\"matrice\": [\"REF\", 2], \"riga\": [\"REF\", 5], \"cella\": \"f\"}, \"ordered_varnames\": [\"matrice\", \"riga\", \"cella\"], \"is_zombie\": false, \"is_highlighted\": true, \"unique_hash\": \"stampa1_f1\"}], \"heap\": {\"2\": [\"LIST\", [\"REF\", 3], [\"REF\", 4], [\"REF\", 5]], \"3\": [\"LIST\", \"a\", \"b\"], \"4\": [\"LIST\", \"c\", \"d\"], \"5\": [\"LIST\", \"e\", \"f\"], \"1\": [\"FUNCTION\", \"stampa1(matrice)\", null]}, \"stdout\": \"a b \\nc d \\ne \"}, {\"line\": 4, \"event\": \"step_line\", \"func_name\": \"stampa1\", \"globals\": {\"stampa1\": [\"REF\", 1], \"ma\": [\"REF\", 2]}, \"ordered_globals\": [\"stampa1\", \"ma\"], \"stack_to_render\": [{\"func_name\": \"stampa1\", \"is_parent\": false, \"frame_id\": 1, \"parent_frame_id_list\": [], \"encoded_locals\": {\"matrice\": [\"REF\", 2], \"riga\": [\"REF\", 5], \"cella\": \"f\"}, \"ordered_varnames\": [\"matrice\", \"riga\", \"cella\"], \"is_zombie\": false, \"is_highlighted\": true, \"unique_hash\": \"stampa1_f1\"}], \"heap\": {\"2\": [\"LIST\", [\"REF\", 3], [\"REF\", 4], [\"REF\", 5]], \"3\": [\"LIST\", \"a\", \"b\"], \"4\": [\"LIST\", \"c\", \"d\"], \"5\": [\"LIST\", \"e\", \"f\"], \"1\": [\"FUNCTION\", \"stampa1(matrice)\", null]}, \"stdout\": \"a b \\nc d \\ne f \"}, {\"line\": 6, \"event\": \"step_line\", \"func_name\": \"stampa1\", \"globals\": {\"stampa1\": [\"REF\", 1], \"ma\": [\"REF\", 2]}, \"ordered_globals\": [\"stampa1\", \"ma\"], \"stack_to_render\": [{\"func_name\": \"stampa1\", \"is_parent\": false, \"frame_id\": 1, \"parent_frame_id_list\": [], \"encoded_locals\": {\"matrice\": [\"REF\", 2], \"riga\": [\"REF\", 5], \"cella\": \"f\"}, \"ordered_varnames\": [\"matrice\", \"riga\", \"cella\"], \"is_zombie\": false, \"is_highlighted\": true, \"unique_hash\": \"stampa1_f1\"}], \"heap\": {\"2\": [\"LIST\", [\"REF\", 3], [\"REF\", 4], [\"REF\", 5]], \"3\": [\"LIST\", \"a\", \"b\"], \"4\": [\"LIST\", \"c\", \"d\"], \"5\": [\"LIST\", \"e\", \"f\"], \"1\": [\"FUNCTION\", \"stampa1(matrice)\", null]}, \"stdout\": \"a b \\nc d \\ne f \"}, {\"line\": 3, \"event\": \"step_line\", \"func_name\": \"stampa1\", \"globals\": {\"stampa1\": [\"REF\", 1], \"ma\": [\"REF\", 2]}, \"ordered_globals\": [\"stampa1\", \"ma\"], \"stack_to_render\": [{\"func_name\": \"stampa1\", \"is_parent\": false, \"frame_id\": 1, \"parent_frame_id_list\": [], \"encoded_locals\": {\"matrice\": [\"REF\", 2], \"riga\": [\"REF\", 5], \"cella\": \"f\"}, \"ordered_varnames\": [\"matrice\", \"riga\", \"cella\"], \"is_zombie\": false, \"is_highlighted\": true, \"unique_hash\": \"stampa1_f1\"}], \"heap\": {\"2\": [\"LIST\", [\"REF\", 3], [\"REF\", 4], [\"REF\", 5]], \"3\": [\"LIST\", \"a\", \"b\"], \"4\": [\"LIST\", \"c\", \"d\"], \"5\": [\"LIST\", \"e\", \"f\"], \"1\": [\"FUNCTION\", \"stampa1(matrice)\", null]}, \"stdout\": \"a b \\nc d \\ne f \\n\"}, {\"line\": 3, \"event\": \"return\", \"func_name\": \"stampa1\", \"globals\": {\"stampa1\": [\"REF\", 1], \"ma\": [\"REF\", 2]}, \"ordered_globals\": [\"stampa1\", \"ma\"], \"stack_to_render\": [{\"func_name\": \"stampa1\", \"is_parent\": false, \"frame_id\": 1, \"parent_frame_id_list\": [], \"encoded_locals\": {\"matrice\": [\"REF\", 2], \"riga\": [\"REF\", 5], \"cella\": \"f\", \"__return__\": null}, \"ordered_varnames\": [\"matrice\", \"riga\", \"cella\", \"__return__\"], \"is_zombie\": false, \"is_highlighted\": true, \"unique_hash\": \"stampa1_f1\"}], \"heap\": {\"2\": [\"LIST\", [\"REF\", 3], [\"REF\", 4], [\"REF\", 5]], \"3\": [\"LIST\", \"a\", \"b\"], \"4\": [\"LIST\", \"c\", \"d\"], \"5\": [\"LIST\", \"e\", \"f\"], \"1\": [\"FUNCTION\", \"stampa1(matrice)\", null]}, \"stdout\": \"a b \\nc d \\ne f \\n\"}, {\"line\": 12, \"event\": \"return\", \"func_name\": \"<module>\", \"globals\": {\"stampa1\": [\"REF\", 1], \"ma\": [\"REF\", 2]}, \"ordered_globals\": [\"stampa1\", \"ma\"], \"stack_to_render\": [], \"heap\": {\"1\": [\"FUNCTION\", \"stampa1(matrice)\", null], \"2\": [\"LIST\", [\"REF\", 3], [\"REF\", 4], [\"REF\", 5]], \"3\": [\"LIST\", \"a\", \"b\"], \"4\": [\"LIST\", \"c\", \"d\"], \"5\": [\"LIST\", \"e\", \"f\"]}, \"stdout\": \"a b \\nc d \\ne f \\n\"}]}\n",
       "        </script>\n",
       "        <div id=\"jm-b6d7f028e9d7eb51090958ab70fc2a8b-31\" class=\"pytutorVisualizer\"> </div>\n",
       "                            \n",
       "        <script>\n",
       "                          \n",
       "        var jmRenderPytut = function(trace_id, div_id, config){\n",
       "            console.log(\"jupman.py embedded javascript: rendering Python tutor visualizer...\")\n",
       "            \n",
       "            let oldAlert = window.alert;\n",
       "            window.alert = function ( text ) { \n",
       "                console.log( 'tried to alert: ', text );         \n",
       "                return true; \n",
       "            };\n",
       "            let executionVisualizer = null;\n",
       "            try {\n",
       "            \n",
       "                var trace = JSON.parse(document.getElementById(trace_id).innerHTML);                                        \n",
       "                // NOTE: id without #\n",
       "                        \n",
       "                executionVisualizer = addVisualizerToPage(trace, div_id, config);\n",
       "                // hack in case visualizer decides to hide them for no good reason\n",
       "                $('#' + div_id + ' #jmpFirstInstr').show();\n",
       "                $('#' + div_id + ' #jmpLastInstr').show();\n",
       "                \n",
       "                // set overflow for pytuts - need to do in python as css \n",
       "                // does not allow parent selection\n",
       "                var pytuts = $('.pytutorVisualizer');\n",
       "                pytuts.closest('div.output_html.rendered_html.output_result')\n",
       "                        .css('overflow-x', 'visible');\n",
       "            \n",
       "                //pytuts.closest('div.output_html.rendered_html.output_result')\n",
       "                //      .css('background-color','red');                \n",
       "            } catch (error) {\n",
       "                console.error(\"jupman slides: Couldn't visualize Python tutor properly\", error);\n",
       "            }\n",
       "            window.alert = oldAlert;\n",
       "            return executionVisualizer;\n",
       "            \n",
       "        };\n",
       "        </script>\n",
       "        \n",
       "        <script>\n",
       "        var pytut_cfg_b6d7f028e9d7eb51090958ab70fc2a8b_31 = (function(){\n",
       "            var rootFontSize = window.getComputedStyle(document.body).getPropertyValue('font-size');\n",
       "            var rootFontSizeNum = 12;\n",
       "            if (rootFontSize.endsWith('px')){\n",
       "                rootFontSizeNum = Number(rootFontSize.substring(0, rootFontSize.length-2));\n",
       "            } else {\n",
       "                console.error(\"Unrecognized font unit:\", rootFontSize, \"assuming default\", rootFontSizeNum);\n",
       "            }\n",
       "            console.log('rootFontSize', rootFontSize);\n",
       "            \n",
       "            var codeWidthInChars = Math.max(23, 33);\n",
       "            if (35){\n",
       "                codeWidthInChars = 35;    // override\n",
       "            }\n",
       "            return {'embeddedMode' : false,\n",
       "                  'disableHeapNesting': true,\n",
       "                  'visualizerIdOverride':'viz-jm-b6d7f028e9d7eb51090958ab70fc2a8b-31',\n",
       "                  'codeDivWidth': Math.trunc(rootFontSizeNum * codeWidthInChars)\n",
       "                  };\n",
       "        })();                 \n",
       "        \n",
       "        jmRenderPytut('trace-jm-b6d7f028e9d7eb51090958ab70fc2a8b-31', 'jm-b6d7f028e9d7eb51090958ab70fc2a8b-31', pytut_cfg_b6d7f028e9d7eb51090958ab70fc2a8b_31);\n",
       "        </script>\n",
       "                \n",
       "    \n",
       "    <div style=\"text-align:center; font-size:0.9em\"> <a href=\"https://pythontutor.com/visualize.html#mode=edit\" target=\"_blank\">Python Tutor</a> visualization</div> \n",
       "    "
      ],
      "text/plain": [
       "<IPython.core.display.HTML object>"
      ]
     },
     "execution_count": 29,
     "metadata": {},
     "output_type": "execute_result"
    }
   ],
   "source": [
    "#jupman-purge-input\n",
    "#jupman-purge-text-output\n",
    "def stampa1(matrice):\n",
    "    for riga in matrice:\n",
    "        for cella in riga:\n",
    "            print(cella, end=' ')\n",
    "        print()  # fine riga\n",
    "        \n",
    "ma = [['a','b'],\n",
    "      ['c','d'],\n",
    "      ['e','f']\n",
    "     ]\n",
    "stampa1(ma)\n",
    "conf.jm.python_tutor(text_length=35)"
   ]
  },
  {
   "cell_type": "markdown",
   "id": "91c2fe77",
   "metadata": {
    "slideshow": {
     "slide_type": "subslide"
    }
   },
   "source": [
    "### Visita matrice `for` `in` `range`"
   ]
  },
  {
   "cell_type": "code",
   "execution_count": 30,
   "id": "8af7c427",
   "metadata": {
    "slideshow": {
     "slide_type": "-"
    }
   },
   "outputs": [
    {
     "name": "stdout",
     "output_type": "stream",
     "text": [
      "a b \n",
      "c d \n",
      "e f \n"
     ]
    },
    {
     "data": {
      "text/html": [
       "        \n",
       "        <script src=\"../_static/js/pytutor-embed.bundle.min.js\" #type=\"application/javascript\"></script>\n",
       "    \n",
       "        <style>\n",
       "        @import \"../_static/css/jupman.css\";\n",
       "        </style>\n",
       "     \n",
       "        <script id=\"trace-jm-e89e0f803a4d3e695a1d101b9ed3f562-32\" type=\"application/json\" >\n",
       "            {\"code\": \" \\ndef stampa2(matrice):\\n    for i in range(len(matrice)):\\n        for j in range(len(matrice[i])):\\n            print(matrice[i][j], end=' ')\\n        print()  # fine riga\\n            \\nma = [['a','b'],\\n      ['c','d'],\\n      ['e','f']\\n     ]\\nstampa2(ma)\", \"trace\": [{\"line\": 2, \"event\": \"step_line\", \"func_name\": \"<module>\", \"globals\": {}, \"ordered_globals\": [], \"stack_to_render\": [], \"heap\": {}, \"stdout\": \"\"}, {\"line\": 8, \"event\": \"step_line\", \"func_name\": \"<module>\", \"globals\": {\"stampa2\": [\"REF\", 1]}, \"ordered_globals\": [\"stampa2\"], \"stack_to_render\": [], \"heap\": {\"1\": [\"FUNCTION\", \"stampa2(matrice)\", null]}, \"stdout\": \"\"}, {\"line\": 9, \"event\": \"step_line\", \"func_name\": \"<module>\", \"globals\": {\"stampa2\": [\"REF\", 1]}, \"ordered_globals\": [\"stampa2\"], \"stack_to_render\": [], \"heap\": {\"1\": [\"FUNCTION\", \"stampa2(matrice)\", null]}, \"stdout\": \"\"}, {\"line\": 10, \"event\": \"step_line\", \"func_name\": \"<module>\", \"globals\": {\"stampa2\": [\"REF\", 1]}, \"ordered_globals\": [\"stampa2\"], \"stack_to_render\": [], \"heap\": {\"1\": [\"FUNCTION\", \"stampa2(matrice)\", null]}, \"stdout\": \"\"}, {\"line\": 12, \"event\": \"step_line\", \"func_name\": \"<module>\", \"globals\": {\"stampa2\": [\"REF\", 1], \"ma\": [\"REF\", 2]}, \"ordered_globals\": [\"stampa2\", \"ma\"], \"stack_to_render\": [], \"heap\": {\"1\": [\"FUNCTION\", \"stampa2(matrice)\", null], \"2\": [\"LIST\", [\"REF\", 3], [\"REF\", 4], [\"REF\", 5]], \"3\": [\"LIST\", \"a\", \"b\"], \"4\": [\"LIST\", \"c\", \"d\"], \"5\": [\"LIST\", \"e\", \"f\"]}, \"stdout\": \"\"}, {\"line\": 2, \"event\": \"call\", \"func_name\": \"stampa2\", \"globals\": {\"stampa2\": [\"REF\", 1], \"ma\": [\"REF\", 2]}, \"ordered_globals\": [\"stampa2\", \"ma\"], \"stack_to_render\": [{\"func_name\": \"stampa2\", \"is_parent\": false, \"frame_id\": 1, \"parent_frame_id_list\": [], \"encoded_locals\": {\"matrice\": [\"REF\", 2]}, \"ordered_varnames\": [\"matrice\"], \"is_zombie\": false, \"is_highlighted\": true, \"unique_hash\": \"stampa2_f1\"}], \"heap\": {\"2\": [\"LIST\", [\"REF\", 3], [\"REF\", 4], [\"REF\", 5]], \"3\": [\"LIST\", \"a\", \"b\"], \"4\": [\"LIST\", \"c\", \"d\"], \"5\": [\"LIST\", \"e\", \"f\"], \"1\": [\"FUNCTION\", \"stampa2(matrice)\", null]}, \"stdout\": \"\"}, {\"line\": 3, \"event\": \"step_line\", \"func_name\": \"stampa2\", \"globals\": {\"stampa2\": [\"REF\", 1], \"ma\": [\"REF\", 2]}, \"ordered_globals\": [\"stampa2\", \"ma\"], \"stack_to_render\": [{\"func_name\": \"stampa2\", \"is_parent\": false, \"frame_id\": 1, \"parent_frame_id_list\": [], \"encoded_locals\": {\"matrice\": [\"REF\", 2]}, \"ordered_varnames\": [\"matrice\"], \"is_zombie\": false, \"is_highlighted\": true, \"unique_hash\": \"stampa2_f1\"}], \"heap\": {\"2\": [\"LIST\", [\"REF\", 3], [\"REF\", 4], [\"REF\", 5]], \"3\": [\"LIST\", \"a\", \"b\"], \"4\": [\"LIST\", \"c\", \"d\"], \"5\": [\"LIST\", \"e\", \"f\"], \"1\": [\"FUNCTION\", \"stampa2(matrice)\", null]}, \"stdout\": \"\"}, {\"line\": 4, \"event\": \"step_line\", \"func_name\": \"stampa2\", \"globals\": {\"stampa2\": [\"REF\", 1], \"ma\": [\"REF\", 2]}, \"ordered_globals\": [\"stampa2\", \"ma\"], \"stack_to_render\": [{\"func_name\": \"stampa2\", \"is_parent\": false, \"frame_id\": 1, \"parent_frame_id_list\": [], \"encoded_locals\": {\"matrice\": [\"REF\", 2], \"i\": 0}, \"ordered_varnames\": [\"matrice\", \"i\"], \"is_zombie\": false, \"is_highlighted\": true, \"unique_hash\": \"stampa2_f1\"}], \"heap\": {\"2\": [\"LIST\", [\"REF\", 3], [\"REF\", 4], [\"REF\", 5]], \"3\": [\"LIST\", \"a\", \"b\"], \"4\": [\"LIST\", \"c\", \"d\"], \"5\": [\"LIST\", \"e\", \"f\"], \"1\": [\"FUNCTION\", \"stampa2(matrice)\", null]}, \"stdout\": \"\"}, {\"line\": 5, \"event\": \"step_line\", \"func_name\": \"stampa2\", \"globals\": {\"stampa2\": [\"REF\", 1], \"ma\": [\"REF\", 2]}, \"ordered_globals\": [\"stampa2\", \"ma\"], \"stack_to_render\": [{\"func_name\": \"stampa2\", \"is_parent\": false, \"frame_id\": 1, \"parent_frame_id_list\": [], \"encoded_locals\": {\"matrice\": [\"REF\", 2], \"i\": 0, \"j\": 0}, \"ordered_varnames\": [\"matrice\", \"i\", \"j\"], \"is_zombie\": false, \"is_highlighted\": true, \"unique_hash\": \"stampa2_f1\"}], \"heap\": {\"2\": [\"LIST\", [\"REF\", 3], [\"REF\", 4], [\"REF\", 5]], \"3\": [\"LIST\", \"a\", \"b\"], \"4\": [\"LIST\", \"c\", \"d\"], \"5\": [\"LIST\", \"e\", \"f\"], \"1\": [\"FUNCTION\", \"stampa2(matrice)\", null]}, \"stdout\": \"\"}, {\"line\": 4, \"event\": \"step_line\", \"func_name\": \"stampa2\", \"globals\": {\"stampa2\": [\"REF\", 1], \"ma\": [\"REF\", 2]}, \"ordered_globals\": [\"stampa2\", \"ma\"], \"stack_to_render\": [{\"func_name\": \"stampa2\", \"is_parent\": false, \"frame_id\": 1, \"parent_frame_id_list\": [], \"encoded_locals\": {\"matrice\": [\"REF\", 2], \"i\": 0, \"j\": 0}, \"ordered_varnames\": [\"matrice\", \"i\", \"j\"], \"is_zombie\": false, \"is_highlighted\": true, \"unique_hash\": \"stampa2_f1\"}], \"heap\": {\"2\": [\"LIST\", [\"REF\", 3], [\"REF\", 4], [\"REF\", 5]], \"3\": [\"LIST\", \"a\", \"b\"], \"4\": [\"LIST\", \"c\", \"d\"], \"5\": [\"LIST\", \"e\", \"f\"], \"1\": [\"FUNCTION\", \"stampa2(matrice)\", null]}, \"stdout\": \"a \"}, {\"line\": 5, \"event\": \"step_line\", \"func_name\": \"stampa2\", \"globals\": {\"stampa2\": [\"REF\", 1], \"ma\": [\"REF\", 2]}, \"ordered_globals\": [\"stampa2\", \"ma\"], \"stack_to_render\": [{\"func_name\": \"stampa2\", \"is_parent\": false, \"frame_id\": 1, \"parent_frame_id_list\": [], \"encoded_locals\": {\"matrice\": [\"REF\", 2], \"i\": 0, \"j\": 1}, \"ordered_varnames\": [\"matrice\", \"i\", \"j\"], \"is_zombie\": false, \"is_highlighted\": true, \"unique_hash\": \"stampa2_f1\"}], \"heap\": {\"2\": [\"LIST\", [\"REF\", 3], [\"REF\", 4], [\"REF\", 5]], \"3\": [\"LIST\", \"a\", \"b\"], \"4\": [\"LIST\", \"c\", \"d\"], \"5\": [\"LIST\", \"e\", \"f\"], \"1\": [\"FUNCTION\", \"stampa2(matrice)\", null]}, \"stdout\": \"a \"}, {\"line\": 4, \"event\": \"step_line\", \"func_name\": \"stampa2\", \"globals\": {\"stampa2\": [\"REF\", 1], \"ma\": [\"REF\", 2]}, \"ordered_globals\": [\"stampa2\", \"ma\"], \"stack_to_render\": [{\"func_name\": \"stampa2\", \"is_parent\": false, \"frame_id\": 1, \"parent_frame_id_list\": [], \"encoded_locals\": {\"matrice\": [\"REF\", 2], \"i\": 0, \"j\": 1}, \"ordered_varnames\": [\"matrice\", \"i\", \"j\"], \"is_zombie\": false, \"is_highlighted\": true, \"unique_hash\": \"stampa2_f1\"}], \"heap\": {\"2\": [\"LIST\", [\"REF\", 3], [\"REF\", 4], [\"REF\", 5]], \"3\": [\"LIST\", \"a\", \"b\"], \"4\": [\"LIST\", \"c\", \"d\"], \"5\": [\"LIST\", \"e\", \"f\"], \"1\": [\"FUNCTION\", \"stampa2(matrice)\", null]}, \"stdout\": \"a b \"}, {\"line\": 6, \"event\": \"step_line\", \"func_name\": \"stampa2\", \"globals\": {\"stampa2\": [\"REF\", 1], \"ma\": [\"REF\", 2]}, \"ordered_globals\": [\"stampa2\", \"ma\"], \"stack_to_render\": [{\"func_name\": \"stampa2\", \"is_parent\": false, \"frame_id\": 1, \"parent_frame_id_list\": [], \"encoded_locals\": {\"matrice\": [\"REF\", 2], \"i\": 0, \"j\": 1}, \"ordered_varnames\": [\"matrice\", \"i\", \"j\"], \"is_zombie\": false, \"is_highlighted\": true, \"unique_hash\": \"stampa2_f1\"}], \"heap\": {\"2\": [\"LIST\", [\"REF\", 3], [\"REF\", 4], [\"REF\", 5]], \"3\": [\"LIST\", \"a\", \"b\"], \"4\": [\"LIST\", \"c\", \"d\"], \"5\": [\"LIST\", \"e\", \"f\"], \"1\": [\"FUNCTION\", \"stampa2(matrice)\", null]}, \"stdout\": \"a b \"}, {\"line\": 3, \"event\": \"step_line\", \"func_name\": \"stampa2\", \"globals\": {\"stampa2\": [\"REF\", 1], \"ma\": [\"REF\", 2]}, \"ordered_globals\": [\"stampa2\", \"ma\"], \"stack_to_render\": [{\"func_name\": \"stampa2\", \"is_parent\": false, \"frame_id\": 1, \"parent_frame_id_list\": [], \"encoded_locals\": {\"matrice\": [\"REF\", 2], \"i\": 0, \"j\": 1}, \"ordered_varnames\": [\"matrice\", \"i\", \"j\"], \"is_zombie\": false, \"is_highlighted\": true, \"unique_hash\": \"stampa2_f1\"}], \"heap\": {\"2\": [\"LIST\", [\"REF\", 3], [\"REF\", 4], [\"REF\", 5]], \"3\": [\"LIST\", \"a\", \"b\"], \"4\": [\"LIST\", \"c\", \"d\"], \"5\": [\"LIST\", \"e\", \"f\"], \"1\": [\"FUNCTION\", \"stampa2(matrice)\", null]}, \"stdout\": \"a b \\n\"}, {\"line\": 4, \"event\": \"step_line\", \"func_name\": \"stampa2\", \"globals\": {\"stampa2\": [\"REF\", 1], \"ma\": [\"REF\", 2]}, \"ordered_globals\": [\"stampa2\", \"ma\"], \"stack_to_render\": [{\"func_name\": \"stampa2\", \"is_parent\": false, \"frame_id\": 1, \"parent_frame_id_list\": [], \"encoded_locals\": {\"matrice\": [\"REF\", 2], \"i\": 1, \"j\": 1}, \"ordered_varnames\": [\"matrice\", \"i\", \"j\"], \"is_zombie\": false, \"is_highlighted\": true, \"unique_hash\": \"stampa2_f1\"}], \"heap\": {\"2\": [\"LIST\", [\"REF\", 3], [\"REF\", 4], [\"REF\", 5]], \"3\": [\"LIST\", \"a\", \"b\"], \"4\": [\"LIST\", \"c\", \"d\"], \"5\": [\"LIST\", \"e\", \"f\"], \"1\": [\"FUNCTION\", \"stampa2(matrice)\", null]}, \"stdout\": \"a b \\n\"}, {\"line\": 5, \"event\": \"step_line\", \"func_name\": \"stampa2\", \"globals\": {\"stampa2\": [\"REF\", 1], \"ma\": [\"REF\", 2]}, \"ordered_globals\": [\"stampa2\", \"ma\"], \"stack_to_render\": [{\"func_name\": \"stampa2\", \"is_parent\": false, \"frame_id\": 1, \"parent_frame_id_list\": [], \"encoded_locals\": {\"matrice\": [\"REF\", 2], \"i\": 1, \"j\": 0}, \"ordered_varnames\": [\"matrice\", \"i\", \"j\"], \"is_zombie\": false, \"is_highlighted\": true, \"unique_hash\": \"stampa2_f1\"}], \"heap\": {\"2\": [\"LIST\", [\"REF\", 3], [\"REF\", 4], [\"REF\", 5]], \"3\": [\"LIST\", \"a\", \"b\"], \"4\": [\"LIST\", \"c\", \"d\"], \"5\": [\"LIST\", \"e\", \"f\"], \"1\": [\"FUNCTION\", \"stampa2(matrice)\", null]}, \"stdout\": \"a b \\n\"}, {\"line\": 4, \"event\": \"step_line\", \"func_name\": \"stampa2\", \"globals\": {\"stampa2\": [\"REF\", 1], \"ma\": [\"REF\", 2]}, \"ordered_globals\": [\"stampa2\", \"ma\"], \"stack_to_render\": [{\"func_name\": \"stampa2\", \"is_parent\": false, \"frame_id\": 1, \"parent_frame_id_list\": [], \"encoded_locals\": {\"matrice\": [\"REF\", 2], \"i\": 1, \"j\": 0}, \"ordered_varnames\": [\"matrice\", \"i\", \"j\"], \"is_zombie\": false, \"is_highlighted\": true, \"unique_hash\": \"stampa2_f1\"}], \"heap\": {\"2\": [\"LIST\", [\"REF\", 3], [\"REF\", 4], [\"REF\", 5]], \"3\": [\"LIST\", \"a\", \"b\"], \"4\": [\"LIST\", \"c\", \"d\"], \"5\": [\"LIST\", \"e\", \"f\"], \"1\": [\"FUNCTION\", \"stampa2(matrice)\", null]}, \"stdout\": \"a b \\nc \"}, {\"line\": 5, \"event\": \"step_line\", \"func_name\": \"stampa2\", \"globals\": {\"stampa2\": [\"REF\", 1], \"ma\": [\"REF\", 2]}, \"ordered_globals\": [\"stampa2\", \"ma\"], \"stack_to_render\": [{\"func_name\": \"stampa2\", \"is_parent\": false, \"frame_id\": 1, \"parent_frame_id_list\": [], \"encoded_locals\": {\"matrice\": [\"REF\", 2], \"i\": 1, \"j\": 1}, \"ordered_varnames\": [\"matrice\", \"i\", \"j\"], \"is_zombie\": false, \"is_highlighted\": true, \"unique_hash\": \"stampa2_f1\"}], \"heap\": {\"2\": [\"LIST\", [\"REF\", 3], [\"REF\", 4], [\"REF\", 5]], \"3\": [\"LIST\", \"a\", \"b\"], \"4\": [\"LIST\", \"c\", \"d\"], \"5\": [\"LIST\", \"e\", \"f\"], \"1\": [\"FUNCTION\", \"stampa2(matrice)\", null]}, \"stdout\": \"a b \\nc \"}, {\"line\": 4, \"event\": \"step_line\", \"func_name\": \"stampa2\", \"globals\": {\"stampa2\": [\"REF\", 1], \"ma\": [\"REF\", 2]}, \"ordered_globals\": [\"stampa2\", \"ma\"], \"stack_to_render\": [{\"func_name\": \"stampa2\", \"is_parent\": false, \"frame_id\": 1, \"parent_frame_id_list\": [], \"encoded_locals\": {\"matrice\": [\"REF\", 2], \"i\": 1, \"j\": 1}, \"ordered_varnames\": [\"matrice\", \"i\", \"j\"], \"is_zombie\": false, \"is_highlighted\": true, \"unique_hash\": \"stampa2_f1\"}], \"heap\": {\"2\": [\"LIST\", [\"REF\", 3], [\"REF\", 4], [\"REF\", 5]], \"3\": [\"LIST\", \"a\", \"b\"], \"4\": [\"LIST\", \"c\", \"d\"], \"5\": [\"LIST\", \"e\", \"f\"], \"1\": [\"FUNCTION\", \"stampa2(matrice)\", null]}, \"stdout\": \"a b \\nc d \"}, {\"line\": 6, \"event\": \"step_line\", \"func_name\": \"stampa2\", \"globals\": {\"stampa2\": [\"REF\", 1], \"ma\": [\"REF\", 2]}, \"ordered_globals\": [\"stampa2\", \"ma\"], \"stack_to_render\": [{\"func_name\": \"stampa2\", \"is_parent\": false, \"frame_id\": 1, \"parent_frame_id_list\": [], \"encoded_locals\": {\"matrice\": [\"REF\", 2], \"i\": 1, \"j\": 1}, \"ordered_varnames\": [\"matrice\", \"i\", \"j\"], \"is_zombie\": false, \"is_highlighted\": true, \"unique_hash\": \"stampa2_f1\"}], \"heap\": {\"2\": [\"LIST\", [\"REF\", 3], [\"REF\", 4], [\"REF\", 5]], \"3\": [\"LIST\", \"a\", \"b\"], \"4\": [\"LIST\", \"c\", \"d\"], \"5\": [\"LIST\", \"e\", \"f\"], \"1\": [\"FUNCTION\", \"stampa2(matrice)\", null]}, \"stdout\": \"a b \\nc d \"}, {\"line\": 3, \"event\": \"step_line\", \"func_name\": \"stampa2\", \"globals\": {\"stampa2\": [\"REF\", 1], \"ma\": [\"REF\", 2]}, \"ordered_globals\": [\"stampa2\", \"ma\"], \"stack_to_render\": [{\"func_name\": \"stampa2\", \"is_parent\": false, \"frame_id\": 1, \"parent_frame_id_list\": [], \"encoded_locals\": {\"matrice\": [\"REF\", 2], \"i\": 1, \"j\": 1}, \"ordered_varnames\": [\"matrice\", \"i\", \"j\"], \"is_zombie\": false, \"is_highlighted\": true, \"unique_hash\": \"stampa2_f1\"}], \"heap\": {\"2\": [\"LIST\", [\"REF\", 3], [\"REF\", 4], [\"REF\", 5]], \"3\": [\"LIST\", \"a\", \"b\"], \"4\": [\"LIST\", \"c\", \"d\"], \"5\": [\"LIST\", \"e\", \"f\"], \"1\": [\"FUNCTION\", \"stampa2(matrice)\", null]}, \"stdout\": \"a b \\nc d \\n\"}, {\"line\": 4, \"event\": \"step_line\", \"func_name\": \"stampa2\", \"globals\": {\"stampa2\": [\"REF\", 1], \"ma\": [\"REF\", 2]}, \"ordered_globals\": [\"stampa2\", \"ma\"], \"stack_to_render\": [{\"func_name\": \"stampa2\", \"is_parent\": false, \"frame_id\": 1, \"parent_frame_id_list\": [], \"encoded_locals\": {\"matrice\": [\"REF\", 2], \"i\": 2, \"j\": 1}, \"ordered_varnames\": [\"matrice\", \"i\", \"j\"], \"is_zombie\": false, \"is_highlighted\": true, \"unique_hash\": \"stampa2_f1\"}], \"heap\": {\"2\": [\"LIST\", [\"REF\", 3], [\"REF\", 4], [\"REF\", 5]], \"3\": [\"LIST\", \"a\", \"b\"], \"4\": [\"LIST\", \"c\", \"d\"], \"5\": [\"LIST\", \"e\", \"f\"], \"1\": [\"FUNCTION\", \"stampa2(matrice)\", null]}, \"stdout\": \"a b \\nc d \\n\"}, {\"line\": 5, \"event\": \"step_line\", \"func_name\": \"stampa2\", \"globals\": {\"stampa2\": [\"REF\", 1], \"ma\": [\"REF\", 2]}, \"ordered_globals\": [\"stampa2\", \"ma\"], \"stack_to_render\": [{\"func_name\": \"stampa2\", \"is_parent\": false, \"frame_id\": 1, \"parent_frame_id_list\": [], \"encoded_locals\": {\"matrice\": [\"REF\", 2], \"i\": 2, \"j\": 0}, \"ordered_varnames\": [\"matrice\", \"i\", \"j\"], \"is_zombie\": false, \"is_highlighted\": true, \"unique_hash\": \"stampa2_f1\"}], \"heap\": {\"2\": [\"LIST\", [\"REF\", 3], [\"REF\", 4], [\"REF\", 5]], \"3\": [\"LIST\", \"a\", \"b\"], \"4\": [\"LIST\", \"c\", \"d\"], \"5\": [\"LIST\", \"e\", \"f\"], \"1\": [\"FUNCTION\", \"stampa2(matrice)\", null]}, \"stdout\": \"a b \\nc d \\n\"}, {\"line\": 4, \"event\": \"step_line\", \"func_name\": \"stampa2\", \"globals\": {\"stampa2\": [\"REF\", 1], \"ma\": [\"REF\", 2]}, \"ordered_globals\": [\"stampa2\", \"ma\"], \"stack_to_render\": [{\"func_name\": \"stampa2\", \"is_parent\": false, \"frame_id\": 1, \"parent_frame_id_list\": [], \"encoded_locals\": {\"matrice\": [\"REF\", 2], \"i\": 2, \"j\": 0}, \"ordered_varnames\": [\"matrice\", \"i\", \"j\"], \"is_zombie\": false, \"is_highlighted\": true, \"unique_hash\": \"stampa2_f1\"}], \"heap\": {\"2\": [\"LIST\", [\"REF\", 3], [\"REF\", 4], [\"REF\", 5]], \"3\": [\"LIST\", \"a\", \"b\"], \"4\": [\"LIST\", \"c\", \"d\"], \"5\": [\"LIST\", \"e\", \"f\"], \"1\": [\"FUNCTION\", \"stampa2(matrice)\", null]}, \"stdout\": \"a b \\nc d \\ne \"}, {\"line\": 5, \"event\": \"step_line\", \"func_name\": \"stampa2\", \"globals\": {\"stampa2\": [\"REF\", 1], \"ma\": [\"REF\", 2]}, \"ordered_globals\": [\"stampa2\", \"ma\"], \"stack_to_render\": [{\"func_name\": \"stampa2\", \"is_parent\": false, \"frame_id\": 1, \"parent_frame_id_list\": [], \"encoded_locals\": {\"matrice\": [\"REF\", 2], \"i\": 2, \"j\": 1}, \"ordered_varnames\": [\"matrice\", \"i\", \"j\"], \"is_zombie\": false, \"is_highlighted\": true, \"unique_hash\": \"stampa2_f1\"}], \"heap\": {\"2\": [\"LIST\", [\"REF\", 3], [\"REF\", 4], [\"REF\", 5]], \"3\": [\"LIST\", \"a\", \"b\"], \"4\": [\"LIST\", \"c\", \"d\"], \"5\": [\"LIST\", \"e\", \"f\"], \"1\": [\"FUNCTION\", \"stampa2(matrice)\", null]}, \"stdout\": \"a b \\nc d \\ne \"}, {\"line\": 4, \"event\": \"step_line\", \"func_name\": \"stampa2\", \"globals\": {\"stampa2\": [\"REF\", 1], \"ma\": [\"REF\", 2]}, \"ordered_globals\": [\"stampa2\", \"ma\"], \"stack_to_render\": [{\"func_name\": \"stampa2\", \"is_parent\": false, \"frame_id\": 1, \"parent_frame_id_list\": [], \"encoded_locals\": {\"matrice\": [\"REF\", 2], \"i\": 2, \"j\": 1}, \"ordered_varnames\": [\"matrice\", \"i\", \"j\"], \"is_zombie\": false, \"is_highlighted\": true, \"unique_hash\": \"stampa2_f1\"}], \"heap\": {\"2\": [\"LIST\", [\"REF\", 3], [\"REF\", 4], [\"REF\", 5]], \"3\": [\"LIST\", \"a\", \"b\"], \"4\": [\"LIST\", \"c\", \"d\"], \"5\": [\"LIST\", \"e\", \"f\"], \"1\": [\"FUNCTION\", \"stampa2(matrice)\", null]}, \"stdout\": \"a b \\nc d \\ne f \"}, {\"line\": 6, \"event\": \"step_line\", \"func_name\": \"stampa2\", \"globals\": {\"stampa2\": [\"REF\", 1], \"ma\": [\"REF\", 2]}, \"ordered_globals\": [\"stampa2\", \"ma\"], \"stack_to_render\": [{\"func_name\": \"stampa2\", \"is_parent\": false, \"frame_id\": 1, \"parent_frame_id_list\": [], \"encoded_locals\": {\"matrice\": [\"REF\", 2], \"i\": 2, \"j\": 1}, \"ordered_varnames\": [\"matrice\", \"i\", \"j\"], \"is_zombie\": false, \"is_highlighted\": true, \"unique_hash\": \"stampa2_f1\"}], \"heap\": {\"2\": [\"LIST\", [\"REF\", 3], [\"REF\", 4], [\"REF\", 5]], \"3\": [\"LIST\", \"a\", \"b\"], \"4\": [\"LIST\", \"c\", \"d\"], \"5\": [\"LIST\", \"e\", \"f\"], \"1\": [\"FUNCTION\", \"stampa2(matrice)\", null]}, \"stdout\": \"a b \\nc d \\ne f \"}, {\"line\": 3, \"event\": \"step_line\", \"func_name\": \"stampa2\", \"globals\": {\"stampa2\": [\"REF\", 1], \"ma\": [\"REF\", 2]}, \"ordered_globals\": [\"stampa2\", \"ma\"], \"stack_to_render\": [{\"func_name\": \"stampa2\", \"is_parent\": false, \"frame_id\": 1, \"parent_frame_id_list\": [], \"encoded_locals\": {\"matrice\": [\"REF\", 2], \"i\": 2, \"j\": 1}, \"ordered_varnames\": [\"matrice\", \"i\", \"j\"], \"is_zombie\": false, \"is_highlighted\": true, \"unique_hash\": \"stampa2_f1\"}], \"heap\": {\"2\": [\"LIST\", [\"REF\", 3], [\"REF\", 4], [\"REF\", 5]], \"3\": [\"LIST\", \"a\", \"b\"], \"4\": [\"LIST\", \"c\", \"d\"], \"5\": [\"LIST\", \"e\", \"f\"], \"1\": [\"FUNCTION\", \"stampa2(matrice)\", null]}, \"stdout\": \"a b \\nc d \\ne f \\n\"}, {\"line\": 3, \"event\": \"return\", \"func_name\": \"stampa2\", \"globals\": {\"stampa2\": [\"REF\", 1], \"ma\": [\"REF\", 2]}, \"ordered_globals\": [\"stampa2\", \"ma\"], \"stack_to_render\": [{\"func_name\": \"stampa2\", \"is_parent\": false, \"frame_id\": 1, \"parent_frame_id_list\": [], \"encoded_locals\": {\"matrice\": [\"REF\", 2], \"i\": 2, \"j\": 1, \"__return__\": null}, \"ordered_varnames\": [\"matrice\", \"i\", \"j\", \"__return__\"], \"is_zombie\": false, \"is_highlighted\": true, \"unique_hash\": \"stampa2_f1\"}], \"heap\": {\"2\": [\"LIST\", [\"REF\", 3], [\"REF\", 4], [\"REF\", 5]], \"3\": [\"LIST\", \"a\", \"b\"], \"4\": [\"LIST\", \"c\", \"d\"], \"5\": [\"LIST\", \"e\", \"f\"], \"1\": [\"FUNCTION\", \"stampa2(matrice)\", null]}, \"stdout\": \"a b \\nc d \\ne f \\n\"}, {\"line\": 12, \"event\": \"return\", \"func_name\": \"<module>\", \"globals\": {\"stampa2\": [\"REF\", 1], \"ma\": [\"REF\", 2]}, \"ordered_globals\": [\"stampa2\", \"ma\"], \"stack_to_render\": [], \"heap\": {\"1\": [\"FUNCTION\", \"stampa2(matrice)\", null], \"2\": [\"LIST\", [\"REF\", 3], [\"REF\", 4], [\"REF\", 5]], \"3\": [\"LIST\", \"a\", \"b\"], \"4\": [\"LIST\", \"c\", \"d\"], \"5\": [\"LIST\", \"e\", \"f\"]}, \"stdout\": \"a b \\nc d \\ne f \\n\"}]}\n",
       "        </script>\n",
       "        <div id=\"jm-e89e0f803a4d3e695a1d101b9ed3f562-32\" class=\"pytutorVisualizer\"> </div>\n",
       "                            \n",
       "        <script>\n",
       "                          \n",
       "        var jmRenderPytut = function(trace_id, div_id, config){\n",
       "            console.log(\"jupman.py embedded javascript: rendering Python tutor visualizer...\")\n",
       "            \n",
       "            let oldAlert = window.alert;\n",
       "            window.alert = function ( text ) { \n",
       "                console.log( 'tried to alert: ', text );         \n",
       "                return true; \n",
       "            };\n",
       "            let executionVisualizer = null;\n",
       "            try {\n",
       "            \n",
       "                var trace = JSON.parse(document.getElementById(trace_id).innerHTML);                                        \n",
       "                // NOTE: id without #\n",
       "                        \n",
       "                executionVisualizer = addVisualizerToPage(trace, div_id, config);\n",
       "                // hack in case visualizer decides to hide them for no good reason\n",
       "                $('#' + div_id + ' #jmpFirstInstr').show();\n",
       "                $('#' + div_id + ' #jmpLastInstr').show();\n",
       "                \n",
       "                // set overflow for pytuts - need to do in python as css \n",
       "                // does not allow parent selection\n",
       "                var pytuts = $('.pytutorVisualizer');\n",
       "                pytuts.closest('div.output_html.rendered_html.output_result')\n",
       "                        .css('overflow-x', 'visible');\n",
       "            \n",
       "                //pytuts.closest('div.output_html.rendered_html.output_result')\n",
       "                //      .css('background-color','red');                \n",
       "            } catch (error) {\n",
       "                console.error(\"jupman slides: Couldn't visualize Python tutor properly\", error);\n",
       "            }\n",
       "            window.alert = oldAlert;\n",
       "            return executionVisualizer;\n",
       "            \n",
       "        };\n",
       "        </script>\n",
       "        \n",
       "        <script>\n",
       "        var pytut_cfg_e89e0f803a4d3e695a1d101b9ed3f562_32 = (function(){\n",
       "            var rootFontSize = window.getComputedStyle(document.body).getPropertyValue('font-size');\n",
       "            var rootFontSizeNum = 12;\n",
       "            if (rootFontSize.endsWith('px')){\n",
       "                rootFontSizeNum = Number(rootFontSize.substring(0, rootFontSize.length-2));\n",
       "            } else {\n",
       "                console.error(\"Unrecognized font unit:\", rootFontSize, \"assuming default\", rootFontSizeNum);\n",
       "            }\n",
       "            console.log('rootFontSize', rootFontSize);\n",
       "            \n",
       "            var codeWidthInChars = Math.max(23, 41);\n",
       "            if (35){\n",
       "                codeWidthInChars = 35;    // override\n",
       "            }\n",
       "            return {'embeddedMode' : false,\n",
       "                  'disableHeapNesting': true,\n",
       "                  'visualizerIdOverride':'viz-jm-e89e0f803a4d3e695a1d101b9ed3f562-32',\n",
       "                  'codeDivWidth': Math.trunc(rootFontSizeNum * codeWidthInChars)\n",
       "                  };\n",
       "        })();                 \n",
       "        \n",
       "        jmRenderPytut('trace-jm-e89e0f803a4d3e695a1d101b9ed3f562-32', 'jm-e89e0f803a4d3e695a1d101b9ed3f562-32', pytut_cfg_e89e0f803a4d3e695a1d101b9ed3f562_32);\n",
       "        </script>\n",
       "                \n",
       "    \n",
       "    <div style=\"text-align:center; font-size:0.9em\"> <a href=\"https://pythontutor.com/visualize.html#mode=edit\" target=\"_blank\">Python Tutor</a> visualization</div> \n",
       "    "
      ],
      "text/plain": [
       "<IPython.core.display.HTML object>"
      ]
     },
     "execution_count": 30,
     "metadata": {},
     "output_type": "execute_result"
    }
   ],
   "source": [
    "#jupman-purge-input\n",
    "#jupman-purge-text-output\n",
    "def stampa2(matrice):\n",
    "    for i in range(len(matrice)):\n",
    "        for j in range(len(matrice[i])):\n",
    "            print(matrice[i][j], end=' ')\n",
    "        print()  # fine riga\n",
    "            \n",
    "ma = [['a','b'],\n",
    "      ['c','d'],\n",
    "      ['e','f']\n",
    "     ]\n",
    "stampa2(ma)\n",
    "conf.jm.python_tutor(text_length=35)"
   ]
  },
  {
   "cell_type": "markdown",
   "id": "2eaa7a39",
   "metadata": {
    "slideshow": {
     "slide_type": "subslide"
    }
   },
   "source": [
    "## Estrarre righe "
   ]
  },
  {
   "cell_type": "markdown",
   "id": "0d30c1ec",
   "metadata": {
    "slideshow": {
     "slide_type": "-"
    }
   },
   "source": [
    "\n",
    "<table>\n",
    "<tr>\n",
    "<td width=\"40%\">\n",
    "\n",
    "✪ Implementa `esriga`: Data una matrice `mat` come lista di liste, **RITORNA** la `i`-esima riga da `mat` come **NUOVA** lista. \n",
    "    \n",
    "Risolvi come preferisci.\n",
    "\n",
    "Soluzioni possibili: \n",
    "\n",
    "- [esrigaf con for in](https://it.softpython.org/matrices-lists/matrices-lists1-sol.html#Esercizio---esrigaf)\n",
    "- [esrigar con for in range](https://it.softpython.org/matrices-lists/matrices-lists1-sol.html#Esercizio---esrigar)\n",
    "- [esrigas con slice](https://it.softpython.org/matrices-lists/matrices-lists1-sol.html#Esercizio---Estrai-riga-con-slice)\n",
    "- [esrigac con list comprehension](https://it.softpython.org/matrices-lists/matrices-lists1-sol.html#Esercizio---Estrai-riga-con-list-comprehension)\n",
    "\n",
    "</td>\n",
    "<td>\n",
    "\n",
    "```python\n",
    "def esriga(mat, i):    \n",
    "    raise Exception(\"TODO IMPLEMENT ME!\")  \n",
    "    \n",
    "    \n",
    "m = [ ['a','b'],\n",
    "      ['c','d'],\n",
    "      ['a','e'] ]\n",
    "\n",
    "assert esriga(m, 0) == ['a','b']\n",
    "assert esriga(m, 1) == ['c','d']\n",
    "assert esriga(m, 2) == ['a','e']\n",
    "\n",
    "# controlla che la riga estratta sia NUOVA\n",
    "r = esriga(m, 0)\n",
    "r[0] = 'z'\n",
    "assert m[0][0] == 'a'\n",
    "print(\"Test passati!\")\n",
    "```\n",
    "</td>\n",
    "</tr>\n",
    "</table>"
   ]
  },
  {
   "cell_type": "markdown",
   "id": "f21562b6",
   "metadata": {
    "slideshow": {
     "slide_type": "subslide"
    }
   },
   "source": [
    "## Estrarre colonne\n",
    "\n",
    "\n",
    "\n",
    "<table>\n",
    "<tr>\n",
    "<td width=\"40%\">\n",
    "\n",
    "✪ **RITORNA** la `j`-esima colonna da `mat`\n",
    "\n",
    "**DOMANDA**: in questo caso, sarebbe possibile un puntatore a una regione di memoria esistente?\n",
    "\n",
    "Soluzioni possibili: \n",
    "\n",
    "- [escolf con for in](https://it.softpython.org/matrices-lists/matrices-lists1-sol.html#Esercizio---Estrai-colonna-con-for)\n",
    "- [escolc con list comprehension](https://it.softpython.org/matrices-lists/matrices-lists1-sol.html#Esercizio---Estrai-colonna-con-list-comprehension)\n",
    "\n",
    "</td>\n",
    "<td>\n",
    "\n",
    "```python\n",
    "def escol(mat, j):\n",
    "    raise Exception('TODO IMPLEMENT ME !')\n",
    "\n",
    "    \n",
    "# TEST\n",
    "m = [\n",
    "      ['a','b'],\n",
    "      ['c','d'],\n",
    "      ['a','e'],\n",
    "]\n",
    "\n",
    "assert escol(m, 0) == ['a','c','a']\n",
    "assert escol(m, 1) == ['b','d','e']\n",
    "\n",
    "# Controlla che la colonna estratta sia NUOVA\n",
    "c = escol(m,0)\n",
    "c[0] = 'z'\n",
    "assert m[0][0] == 'a'\n",
    "print(\"TEST PASSATI!\")\n",
    "```\n",
    "</td>\n",
    "</tr>\n",
    "</table>"
   ]
  },
  {
   "cell_type": "markdown",
   "id": "9cef95e7",
   "metadata": {
    "slideshow": {
     "slide_type": "-"
    }
   },
   "source": []
  },
  {
   "cell_type": "markdown",
   "id": "cadfc069",
   "metadata": {
    "slideshow": {
     "slide_type": "slide"
    }
   },
   "source": [
    "##  matrice_vuota\n",
    "\n",
    "Ci sono diversi modi di creare una nuova matrice 3x5 vuota come lista di liste che contengono degli zero. \n",
    "\n",
    "Esempio con due cicli `for` annidati"
   ]
  },
  {
   "cell_type": "code",
   "execution_count": 31,
   "id": "0a65fcbc",
   "metadata": {
    "slideshow": {
     "slide_type": "-"
    }
   },
   "outputs": [
    {
     "data": {
      "text/plain": [
       "[[0, 0, 0, 0, 0], [0, 0, 0, 0, 0], [0, 0, 0, 0, 0]]"
      ]
     },
     "execution_count": 31,
     "metadata": {},
     "output_type": "execute_result"
    }
   ],
   "source": [
    "def matrice_vuota(n, m):\n",
    "    \n",
    "    ret = []\n",
    "    for i in range(n):\n",
    "        riga = []\n",
    "        ret.append(riga)\n",
    "        for j in range(m):\n",
    "            riga.append(0)\n",
    "    return ret\n",
    "    \n",
    "matrice_vuota(3,5)"
   ]
  },
  {
   "cell_type": "markdown",
   "id": "ff46ac85",
   "metadata": {
    "slideshow": {
     "slide_type": "subslide"
    }
   },
   "source": [
    "### matrice_vuota nel modo elegante 1/2\n"
   ]
  },
  {
   "cell_type": "markdown",
   "id": "d194725e",
   "metadata": {
    "slideshow": {
     "slide_type": "-"
    }
   },
   "source": [
    "Lista di 3 elementi tramite replicazione:"
   ]
  },
  {
   "cell_type": "code",
   "execution_count": 15,
   "id": "788ecb41",
   "metadata": {
    "slideshow": {
     "slide_type": "-"
    }
   },
   "outputs": [
    {
     "data": {
      "text/plain": [
       "[0, 0, 0]"
      ]
     },
     "execution_count": 15,
     "metadata": {},
     "output_type": "execute_result"
    }
   ],
   "source": [
    "[0]*3"
   ]
  },
  {
   "cell_type": "markdown",
   "id": "b1d14fbc",
   "metadata": {
    "slideshow": {
     "slide_type": "fragment"
    }
   },
   "source": [
    "**NON** creare matrici vuote così:"
   ]
  },
  {
   "cell_type": "code",
   "execution_count": 34,
   "id": "01323375",
   "metadata": {
    "slideshow": {
     "slide_type": "-"
    }
   },
   "outputs": [
    {
     "name": "stdout",
     "output_type": "stream",
     "text": [
      "[[0, 0, 0], [0, 0, 0], [0, 0, 0], [0, 0, 0]]\n",
      "[[666, 0, 0], [666, 0, 0], [666, 0, 0], [666, 0, 0]]\n"
     ]
    },
    {
     "data": {
      "text/html": [
       "        \n",
       "        <script src=\"../_static/js/pytutor-embed.bundle.min.js\" #type=\"application/javascript\"></script>\n",
       "    \n",
       "        <style>\n",
       "        @import \"../_static/css/jupman.css\";\n",
       "        </style>\n",
       "     \n",
       "        <script id=\"trace-jm-6520f475df172029045dfa7001d254d7-36\" type=\"application/json\" >\n",
       "            {\"code\": \" \\nm = [ [0]*3 ] * 4  # SBAGLIATO!\\nprint(m)\\nm[0][0] = 666\\nprint(m)\", \"trace\": [{\"line\": 2, \"event\": \"step_line\", \"func_name\": \"<module>\", \"globals\": {}, \"ordered_globals\": [], \"stack_to_render\": [], \"heap\": {}, \"stdout\": \"\"}, {\"line\": 3, \"event\": \"step_line\", \"func_name\": \"<module>\", \"globals\": {\"m\": [\"REF\", 1]}, \"ordered_globals\": [\"m\"], \"stack_to_render\": [], \"heap\": {\"1\": [\"LIST\", [\"REF\", 2], [\"REF\", 2], [\"REF\", 2], [\"REF\", 2]], \"2\": [\"LIST\", 0, 0, 0]}, \"stdout\": \"\"}, {\"line\": 4, \"event\": \"step_line\", \"func_name\": \"<module>\", \"globals\": {\"m\": [\"REF\", 1]}, \"ordered_globals\": [\"m\"], \"stack_to_render\": [], \"heap\": {\"1\": [\"LIST\", [\"REF\", 2], [\"REF\", 2], [\"REF\", 2], [\"REF\", 2]], \"2\": [\"LIST\", 0, 0, 0]}, \"stdout\": \"[[0, 0, 0], [0, 0, 0], [0, 0, 0], [0, 0, 0]]\\n\"}, {\"line\": 5, \"event\": \"step_line\", \"func_name\": \"<module>\", \"globals\": {\"m\": [\"REF\", 1]}, \"ordered_globals\": [\"m\"], \"stack_to_render\": [], \"heap\": {\"1\": [\"LIST\", [\"REF\", 2], [\"REF\", 2], [\"REF\", 2], [\"REF\", 2]], \"2\": [\"LIST\", 666, 0, 0]}, \"stdout\": \"[[0, 0, 0], [0, 0, 0], [0, 0, 0], [0, 0, 0]]\\n\"}, {\"line\": 5, \"event\": \"return\", \"func_name\": \"<module>\", \"globals\": {\"m\": [\"REF\", 1]}, \"ordered_globals\": [\"m\"], \"stack_to_render\": [], \"heap\": {\"1\": [\"LIST\", [\"REF\", 2], [\"REF\", 2], [\"REF\", 2], [\"REF\", 2]], \"2\": [\"LIST\", 666, 0, 0]}, \"stdout\": \"[[0, 0, 0], [0, 0, 0], [0, 0, 0], [0, 0, 0]]\\n[[666, 0, 0], [666, 0, 0], [666, 0, 0], [666, 0, 0]]\\n\"}]}\n",
       "        </script>\n",
       "        <div id=\"jm-6520f475df172029045dfa7001d254d7-36\" class=\"pytutorVisualizer\"> </div>\n",
       "                            \n",
       "        <script>\n",
       "                          \n",
       "        var jmRenderPytut = function(trace_id, div_id, config){\n",
       "            console.log(\"jupman.py embedded javascript: rendering Python tutor visualizer...\")\n",
       "            \n",
       "            let oldAlert = window.alert;\n",
       "            window.alert = function ( text ) { \n",
       "                console.log( 'tried to alert: ', text );         \n",
       "                return true; \n",
       "            };\n",
       "            let executionVisualizer = null;\n",
       "            try {\n",
       "            \n",
       "                var trace = JSON.parse(document.getElementById(trace_id).innerHTML);                                        \n",
       "                // NOTE: id without #\n",
       "                        \n",
       "                executionVisualizer = addVisualizerToPage(trace, div_id, config);\n",
       "                // hack in case visualizer decides to hide them for no good reason\n",
       "                $('#' + div_id + ' #jmpFirstInstr').show();\n",
       "                $('#' + div_id + ' #jmpLastInstr').show();\n",
       "                \n",
       "                // set overflow for pytuts - need to do in python as css \n",
       "                // does not allow parent selection\n",
       "                var pytuts = $('.pytutorVisualizer');\n",
       "                pytuts.closest('div.output_html.rendered_html.output_result')\n",
       "                        .css('overflow-x', 'visible');\n",
       "            \n",
       "                //pytuts.closest('div.output_html.rendered_html.output_result')\n",
       "                //      .css('background-color','red');                \n",
       "            } catch (error) {\n",
       "                console.error(\"jupman slides: Couldn't visualize Python tutor properly\", error);\n",
       "            }\n",
       "            window.alert = oldAlert;\n",
       "            return executionVisualizer;\n",
       "            \n",
       "        };\n",
       "        </script>\n",
       "        \n",
       "        <script>\n",
       "        var pytut_cfg_6520f475df172029045dfa7001d254d7_36 = (function(){\n",
       "            var rootFontSize = window.getComputedStyle(document.body).getPropertyValue('font-size');\n",
       "            var rootFontSizeNum = 12;\n",
       "            if (rootFontSize.endsWith('px')){\n",
       "                rootFontSizeNum = Number(rootFontSize.substring(0, rootFontSize.length-2));\n",
       "            } else {\n",
       "                console.error(\"Unrecognized font unit:\", rootFontSize, \"assuming default\", rootFontSizeNum);\n",
       "            }\n",
       "            console.log('rootFontSize', rootFontSize);\n",
       "            \n",
       "            var codeWidthInChars = Math.max(23, 31);\n",
       "            if (25){\n",
       "                codeWidthInChars = 25;    // override\n",
       "            }\n",
       "            return {'embeddedMode' : false,\n",
       "                  'disableHeapNesting': true,\n",
       "                  'visualizerIdOverride':'viz-jm-6520f475df172029045dfa7001d254d7-36',\n",
       "                  'codeDivWidth': Math.trunc(rootFontSizeNum * codeWidthInChars)\n",
       "                  };\n",
       "        })();                 \n",
       "        \n",
       "        jmRenderPytut('trace-jm-6520f475df172029045dfa7001d254d7-36', 'jm-6520f475df172029045dfa7001d254d7-36', pytut_cfg_6520f475df172029045dfa7001d254d7_36);\n",
       "        </script>\n",
       "                \n",
       "    \n",
       "    <div style=\"text-align:center; font-size:0.9em\"> <a href=\"https://pythontutor.com/visualize.html#mode=edit\" target=\"_blank\">Python Tutor</a> visualization</div> \n",
       "    "
      ],
      "text/plain": [
       "<IPython.core.display.HTML object>"
      ]
     },
     "execution_count": 34,
     "metadata": {},
     "output_type": "execute_result"
    }
   ],
   "source": [
    "#jupman-purge-input\n",
    "#jupman-purge-text-output\n",
    "m = [ [0]*3 ] * 4  # SBAGLIATO!\n",
    "print(m)\n",
    "m[0][0] = 666\n",
    "print(m)\n",
    "conf.jm.python_tutor(text_length=25)"
   ]
  },
  {
   "cell_type": "markdown",
   "id": "f63b9404",
   "metadata": {
    "slideshow": {
     "slide_type": "subslide"
    }
   },
   "source": [
    "### Matrice vuota elegante 2/2: list comprehension"
   ]
  },
  {
   "cell_type": "code",
   "execution_count": 37,
   "id": "376ca7aa",
   "metadata": {
    "slideshow": {
     "slide_type": "-"
    }
   },
   "outputs": [
    {
     "name": "stdout",
     "output_type": "stream",
     "text": [
      "[[0, 0, 0], [0, 0, 0], [0, 0, 0], [0, 0, 0]]\n",
      "[[123, 0, 0], [0, 0, 0], [0, 0, 0], [0, 0, 0]]\n"
     ]
    },
    {
     "data": {
      "text/html": [
       "        \n",
       "        <script src=\"../_static/js/pytutor-embed.bundle.min.js\" #type=\"application/javascript\"></script>\n",
       "    \n",
       "        <style>\n",
       "        @import \"../_static/css/jupman.css\";\n",
       "        </style>\n",
       "     \n",
       "        <script id=\"trace-jm-0d2ff0c7e4904312178003111a0b989d-39\" type=\"application/json\" >\n",
       "            {\"code\": \" \\nm = [[0]*3 for i in range(4)]  #OK\\nprint(m)\\nm[0][0] = 123\\nprint(m)\", \"trace\": [{\"line\": 2, \"event\": \"step_line\", \"func_name\": \"<module>\", \"globals\": {}, \"ordered_globals\": [], \"stack_to_render\": [], \"heap\": {}, \"stdout\": \"\"}, {\"line\": 2, \"event\": \"call\", \"func_name\": \"<listcomp>\", \"globals\": {}, \"ordered_globals\": [], \"stack_to_render\": [{\"func_name\": \"<listcomp>\", \"is_parent\": false, \"frame_id\": 1, \"parent_frame_id_list\": [], \"encoded_locals\": {\".0\": [\"REF\", 1]}, \"ordered_varnames\": [\".0\"], \"is_zombie\": false, \"is_highlighted\": true, \"unique_hash\": \"<listcomp>_f1\"}], \"heap\": {\"1\": [\"INSTANCE\", \"range_iterator\"]}, \"stdout\": \"\"}, {\"line\": 2, \"event\": \"step_line\", \"func_name\": \"<listcomp>\", \"globals\": {}, \"ordered_globals\": [], \"stack_to_render\": [{\"func_name\": \"<listcomp>\", \"is_parent\": false, \"frame_id\": 1, \"parent_frame_id_list\": [], \"encoded_locals\": {\".0\": [\"REF\", 1]}, \"ordered_varnames\": [\".0\"], \"is_zombie\": false, \"is_highlighted\": true, \"unique_hash\": \"<listcomp>_f1\"}], \"heap\": {\"1\": [\"INSTANCE\", \"range_iterator\"]}, \"stdout\": \"\"}, {\"line\": 2, \"event\": \"step_line\", \"func_name\": \"<listcomp>\", \"globals\": {}, \"ordered_globals\": [], \"stack_to_render\": [{\"func_name\": \"<listcomp>\", \"is_parent\": false, \"frame_id\": 1, \"parent_frame_id_list\": [], \"encoded_locals\": {\".0\": [\"REF\", 1], \"i\": 0}, \"ordered_varnames\": [\".0\", \"i\"], \"is_zombie\": false, \"is_highlighted\": true, \"unique_hash\": \"<listcomp>_f1\"}], \"heap\": {\"1\": [\"INSTANCE\", \"range_iterator\"]}, \"stdout\": \"\"}, {\"line\": 2, \"event\": \"step_line\", \"func_name\": \"<listcomp>\", \"globals\": {}, \"ordered_globals\": [], \"stack_to_render\": [{\"func_name\": \"<listcomp>\", \"is_parent\": false, \"frame_id\": 1, \"parent_frame_id_list\": [], \"encoded_locals\": {\".0\": [\"REF\", 1], \"i\": 1}, \"ordered_varnames\": [\".0\", \"i\"], \"is_zombie\": false, \"is_highlighted\": true, \"unique_hash\": \"<listcomp>_f1\"}], \"heap\": {\"1\": [\"INSTANCE\", \"range_iterator\"]}, \"stdout\": \"\"}, {\"line\": 2, \"event\": \"step_line\", \"func_name\": \"<listcomp>\", \"globals\": {}, \"ordered_globals\": [], \"stack_to_render\": [{\"func_name\": \"<listcomp>\", \"is_parent\": false, \"frame_id\": 1, \"parent_frame_id_list\": [], \"encoded_locals\": {\".0\": [\"REF\", 1], \"i\": 2}, \"ordered_varnames\": [\".0\", \"i\"], \"is_zombie\": false, \"is_highlighted\": true, \"unique_hash\": \"<listcomp>_f1\"}], \"heap\": {\"1\": [\"INSTANCE\", \"range_iterator\"]}, \"stdout\": \"\"}, {\"line\": 2, \"event\": \"step_line\", \"func_name\": \"<listcomp>\", \"globals\": {}, \"ordered_globals\": [], \"stack_to_render\": [{\"func_name\": \"<listcomp>\", \"is_parent\": false, \"frame_id\": 1, \"parent_frame_id_list\": [], \"encoded_locals\": {\".0\": [\"REF\", 1], \"i\": 3}, \"ordered_varnames\": [\".0\", \"i\"], \"is_zombie\": false, \"is_highlighted\": true, \"unique_hash\": \"<listcomp>_f1\"}], \"heap\": {\"1\": [\"INSTANCE\", \"range_iterator\"]}, \"stdout\": \"\"}, {\"line\": 2, \"event\": \"return\", \"func_name\": \"<listcomp>\", \"globals\": {}, \"ordered_globals\": [], \"stack_to_render\": [{\"func_name\": \"<listcomp>\", \"is_parent\": false, \"frame_id\": 1, \"parent_frame_id_list\": [], \"encoded_locals\": {\".0\": [\"REF\", 1], \"i\": 3, \"__return__\": [\"REF\", 2]}, \"ordered_varnames\": [\".0\", \"i\", \"__return__\"], \"is_zombie\": false, \"is_highlighted\": true, \"unique_hash\": \"<listcomp>_f1\"}], \"heap\": {\"1\": [\"INSTANCE\", \"range_iterator\"], \"2\": [\"LIST\", [\"REF\", 3], [\"REF\", 4], [\"REF\", 5], [\"REF\", 6]], \"3\": [\"LIST\", 0, 0, 0], \"4\": [\"LIST\", 0, 0, 0], \"5\": [\"LIST\", 0, 0, 0], \"6\": [\"LIST\", 0, 0, 0]}, \"stdout\": \"\"}, {\"line\": 3, \"event\": \"step_line\", \"func_name\": \"<module>\", \"globals\": {\"m\": [\"REF\", 2]}, \"ordered_globals\": [\"m\"], \"stack_to_render\": [], \"heap\": {\"2\": [\"LIST\", [\"REF\", 3], [\"REF\", 4], [\"REF\", 5], [\"REF\", 6]], \"3\": [\"LIST\", 0, 0, 0], \"4\": [\"LIST\", 0, 0, 0], \"5\": [\"LIST\", 0, 0, 0], \"6\": [\"LIST\", 0, 0, 0]}, \"stdout\": \"\"}, {\"line\": 4, \"event\": \"step_line\", \"func_name\": \"<module>\", \"globals\": {\"m\": [\"REF\", 2]}, \"ordered_globals\": [\"m\"], \"stack_to_render\": [], \"heap\": {\"2\": [\"LIST\", [\"REF\", 3], [\"REF\", 4], [\"REF\", 5], [\"REF\", 6]], \"3\": [\"LIST\", 0, 0, 0], \"4\": [\"LIST\", 0, 0, 0], \"5\": [\"LIST\", 0, 0, 0], \"6\": [\"LIST\", 0, 0, 0]}, \"stdout\": \"[[0, 0, 0], [0, 0, 0], [0, 0, 0], [0, 0, 0]]\\n\"}, {\"line\": 5, \"event\": \"step_line\", \"func_name\": \"<module>\", \"globals\": {\"m\": [\"REF\", 2]}, \"ordered_globals\": [\"m\"], \"stack_to_render\": [], \"heap\": {\"2\": [\"LIST\", [\"REF\", 3], [\"REF\", 4], [\"REF\", 5], [\"REF\", 6]], \"3\": [\"LIST\", 123, 0, 0], \"4\": [\"LIST\", 0, 0, 0], \"5\": [\"LIST\", 0, 0, 0], \"6\": [\"LIST\", 0, 0, 0]}, \"stdout\": \"[[0, 0, 0], [0, 0, 0], [0, 0, 0], [0, 0, 0]]\\n\"}, {\"line\": 5, \"event\": \"return\", \"func_name\": \"<module>\", \"globals\": {\"m\": [\"REF\", 2]}, \"ordered_globals\": [\"m\"], \"stack_to_render\": [], \"heap\": {\"2\": [\"LIST\", [\"REF\", 3], [\"REF\", 4], [\"REF\", 5], [\"REF\", 6]], \"3\": [\"LIST\", 123, 0, 0], \"4\": [\"LIST\", 0, 0, 0], \"5\": [\"LIST\", 0, 0, 0], \"6\": [\"LIST\", 0, 0, 0]}, \"stdout\": \"[[0, 0, 0], [0, 0, 0], [0, 0, 0], [0, 0, 0]]\\n[[123, 0, 0], [0, 0, 0], [0, 0, 0], [0, 0, 0]]\\n\"}]}\n",
       "        </script>\n",
       "        <div id=\"jm-0d2ff0c7e4904312178003111a0b989d-39\" class=\"pytutorVisualizer\"> </div>\n",
       "                            \n",
       "        <script>\n",
       "                          \n",
       "        var jmRenderPytut = function(trace_id, div_id, config){\n",
       "            console.log(\"jupman.py embedded javascript: rendering Python tutor visualizer...\")\n",
       "            \n",
       "            let oldAlert = window.alert;\n",
       "            window.alert = function ( text ) { \n",
       "                console.log( 'tried to alert: ', text );         \n",
       "                return true; \n",
       "            };\n",
       "            let executionVisualizer = null;\n",
       "            try {\n",
       "            \n",
       "                var trace = JSON.parse(document.getElementById(trace_id).innerHTML);                                        \n",
       "                // NOTE: id without #\n",
       "                        \n",
       "                executionVisualizer = addVisualizerToPage(trace, div_id, config);\n",
       "                // hack in case visualizer decides to hide them for no good reason\n",
       "                $('#' + div_id + ' #jmpFirstInstr').show();\n",
       "                $('#' + div_id + ' #jmpLastInstr').show();\n",
       "                \n",
       "                // set overflow for pytuts - need to do in python as css \n",
       "                // does not allow parent selection\n",
       "                var pytuts = $('.pytutorVisualizer');\n",
       "                pytuts.closest('div.output_html.rendered_html.output_result')\n",
       "                        .css('overflow-x', 'visible');\n",
       "            \n",
       "                //pytuts.closest('div.output_html.rendered_html.output_result')\n",
       "                //      .css('background-color','red');                \n",
       "            } catch (error) {\n",
       "                console.error(\"jupman slides: Couldn't visualize Python tutor properly\", error);\n",
       "            }\n",
       "            window.alert = oldAlert;\n",
       "            return executionVisualizer;\n",
       "            \n",
       "        };\n",
       "        </script>\n",
       "        \n",
       "        <script>\n",
       "        var pytut_cfg_0d2ff0c7e4904312178003111a0b989d_39 = (function(){\n",
       "            var rootFontSize = window.getComputedStyle(document.body).getPropertyValue('font-size');\n",
       "            var rootFontSizeNum = 12;\n",
       "            if (rootFontSize.endsWith('px')){\n",
       "                rootFontSizeNum = Number(rootFontSize.substring(0, rootFontSize.length-2));\n",
       "            } else {\n",
       "                console.error(\"Unrecognized font unit:\", rootFontSize, \"assuming default\", rootFontSizeNum);\n",
       "            }\n",
       "            console.log('rootFontSize', rootFontSize);\n",
       "            \n",
       "            var codeWidthInChars = Math.max(23, 34);\n",
       "            if (30){\n",
       "                codeWidthInChars = 30;    // override\n",
       "            }\n",
       "            return {'embeddedMode' : false,\n",
       "                  'disableHeapNesting': true,\n",
       "                  'visualizerIdOverride':'viz-jm-0d2ff0c7e4904312178003111a0b989d-39',\n",
       "                  'codeDivWidth': Math.trunc(rootFontSizeNum * codeWidthInChars)\n",
       "                  };\n",
       "        })();                 \n",
       "        \n",
       "        jmRenderPytut('trace-jm-0d2ff0c7e4904312178003111a0b989d-39', 'jm-0d2ff0c7e4904312178003111a0b989d-39', pytut_cfg_0d2ff0c7e4904312178003111a0b989d_39);\n",
       "        </script>\n",
       "                \n",
       "    \n",
       "    <div style=\"text-align:center; font-size:0.9em\"> <a href=\"https://pythontutor.com/visualize.html#mode=edit\" target=\"_blank\">Python Tutor</a> visualization</div> \n",
       "    "
      ],
      "text/plain": [
       "<IPython.core.display.HTML object>"
      ]
     },
     "execution_count": 37,
     "metadata": {},
     "output_type": "execute_result"
    }
   ],
   "source": [
    "#jupman-purge-input\n",
    "#jupman-purge-text-output\n",
    "m = [[0]*3 for i in range(4)]  #OK\n",
    "print(m)\n",
    "m[0][0] = 123\n",
    "print(m)\n",
    "conf.jm.python_tutor(text_length=30)"
   ]
  },
  {
   "cell_type": "markdown",
   "id": "f3c53f9e",
   "metadata": {
    "slideshow": {
     "slide_type": "subslide"
    }
   },
   "source": [
    "### Copia in profondità\n",
    "\n",
    "Come produrre un clone _completo_ di una matrice (_deep clone_)?\n",
    "\n",
    "**DOMANDA**: questo codice funziona?"
   ]
  },
  {
   "cell_type": "code",
   "execution_count": 38,
   "id": "3db73eb8",
   "metadata": {
    "slideshow": {
     "slide_type": "-"
    }
   },
   "outputs": [],
   "source": [
    "def deep_clone(mat):\n",
    "    return mat[:]"
   ]
  },
  {
   "cell_type": "code",
   "execution_count": 40,
   "id": "38a9ca63",
   "metadata": {
    "slideshow": {
     "slide_type": "fragment"
    }
   },
   "outputs": [],
   "source": [
    "def deep_clone(mat):   # corretto\n",
    "        \n",
    "    ret = []\n",
    "    for riga in mat:\n",
    "        ret.append(riga[:])\n",
    "    return ret"
   ]
  },
  {
   "cell_type": "markdown",
   "id": "62fdd29e",
   "metadata": {
    "slideshow": {
     "slide_type": "fragment"
    }
   },
   "source": [
    "**DOMANDA**: altri modi?"
   ]
  },
  {
   "cell_type": "markdown",
   "id": "87e7b207",
   "metadata": {
    "slideshow": {
     "slide_type": "slide"
    }
   },
   "source": [
    "## Modificare matrici"
   ]
  },
  {
   "cell_type": "markdown",
   "id": "bbeccea5",
   "metadata": {
    "slideshow": {
     "slide_type": "-"
    }
   },
   "source": [
    "<table>\n",
    "<tr>\n",
    "<td width=\"40%\">\n",
    "\n",
    "### Esercizio - riempic\n",
    "\n",
    "✪✪ Implementa la funzione `riempic`, che prende la matrice `mat` come lista di liste e la **MODIFICA** mettendo il carattere `c` dentro tutte le celle della matrice.\n",
    "\n",
    "Domanda: cosa possiamo usare?\n",
    "    \n",
    "a) for in \n",
    "\n",
    "b) for in range\n",
    "    \n",
    "c) slice\n",
    "    \n",
    "d) list comprehension\n",
    "\n",
    "</td>\n",
    "<td>\n",
    "\n",
    "```python\n",
    "def riempic(mat, c):\n",
    "    raise Exception('TODO IMPLEMENT ME !')\n",
    "\n",
    "m1 = [ ['a'] ]\n",
    "riempic(m1,'z')\n",
    "assert m1 == [ ['z'] ]\n",
    "\n",
    "m2 = [ ['a'] ]\n",
    "riempic(m2,'y')\n",
    "assert m2 == [ ['y'] ]\n",
    "\n",
    "#     j  0   1\n",
    "m3 = [ ['a','b'],    # 0\n",
    "       ['c','d'],    # 1\n",
    "       ['e','f'] ]   # 2\n",
    "\n",
    "riempic(m3, 'x')\n",
    "assert m3 == [ ['x','x'],    \n",
    "               ['x','x'],    \n",
    "               ['x','x'] ]   \n",
    "```\n",
    "\n",
    "</td>\n",
    "</tr>\n",
    "</table>"
   ]
  },
  {
   "cell_type": "markdown",
   "id": "e5ab3dd9",
   "metadata": {
    "slideshow": {
     "slide_type": "slide"
    }
   },
   "source": [
    "<table>\n",
    "<tr>\n",
    "<td width=\"40%\">\n",
    "\n",
    "## Esempi - diag\n",
    "\n",
    "✪✪ Data una matrice n x n `mat` come lista di liste, **RITORNA** una **NUOVA** lista che contiene gli elementi della diagonale (da sinistra in alto fino all’angolo basso destro)\n",
    "\n",
    "- se `mat` non è n x n solleva l’eccezione `ValueError`\n",
    "- prova ad aggiungere qualche caso di test\n",
    "\n",
    "[Discussione e soluzione](https://it.softpython.org/matrices-lists/matrices-lists2-sol.html#Esercizio---diag)\n",
    "    \n",
    "</td>\n",
    "<td>\n",
    "    \n",
    "```python\n",
    "def diag(mat):\n",
    "    raise Exception('TODO IMPLEMENT ME !')\n",
    "\n",
    "    \n",
    "# TEST\n",
    "m = [ ['a','b','c'],\n",
    "      ['d','e','f'],\n",
    "      ['g','h','i'] ]\n",
    "\n",
    "assert diag(m) == ['a','e','i']\n",
    "\n",
    "try:\n",
    "    diag([              \n",
    "           ['a','b']\n",
    "         ])\n",
    "    raise Exception(\"Dovrei aver fallito !\") \n",
    "    \n",
    "except ValueError:\n",
    "    pass\n",
    "\n",
    "print(\"Test passati!\")\n",
    "```    \n",
    "    \n",
    "</td>\n",
    "</tr>\n",
    "</table>"
   ]
  },
  {
   "cell_type": "markdown",
   "id": "7f550221",
   "metadata": {
    "slideshow": {
     "slide_type": "subslide"
    }
   },
   "source": [
    "## Esempi - trasposta in-place 1/2\n",
    "\n",
    "La trasposta $M^T$ di una matrice $M$ è definita come  $M^T[i][j] = M[j][i]$\n",
    "\n",
    "Data una matrice `mat` come lista di liste $n$ x $n$, la **MODIFICA** facendo la trasposta _in-place_\n",
    "\n",
    "- Se la matrice non è $n$ x $n$, lancia l’eccezione `ValueError`\n",
    "\n",
    "Esempio:\n",
    "\n",
    "```python\n",
    ">>> m = [ ['a','b','c'],\n",
    "          ['d','e','d'],\n",
    "          ['f','g','h'],\n",
    "        ]\n",
    "\n",
    ">>> trasposta(m)\n",
    ">>> m\n",
    "\n",
    "[ ['a','d','f'],\n",
    "  ['b','e','g'],\n",
    "  ['c','d','h'],\n",
    "]\n",
    "```\n",
    "\n",
    "**Vai alla prossima slide...**"
   ]
  },
  {
   "cell_type": "markdown",
   "id": "1073a0cb",
   "metadata": {
    "slideshow": {
     "slide_type": "subslide"
    }
   },
   "source": [
    "## Esempi - trasposta in-place 2/2\n",
    "\n",
    "[Discussione e soluzione](https://it.softpython.org/matrices-lists/matrices-lists2-sol.html#Esercizio---trasposta_1)\n",
    "\n",
    "```python\n",
    "def trasposta(mat):\n",
    "    raise Exception('TODO IMPLEMENT ME !')\n",
    "\n",
    "# TEST\n",
    "m1 = [ ['a'] ]\n",
    "trasposta(m)\n",
    "assert m1 == [ ['a'] ]\n",
    "\n",
    "m3 = [ ['a','b','c'],\n",
    "       ['d','e','d'],\n",
    "       ['f','g','h'],\n",
    "     ]\n",
    "trasposta(m3)\n",
    "assert m3 == [ ['a','d','f'],\n",
    "               ['b','e','g'],\n",
    "               ['c','d','h'],\n",
    "             ]\n",
    "try:  # Controlliamo eventuali dimensioni sbagliate della matrice:\n",
    "\n",
    "    trasposta([ [3,5] ])\n",
    "    raise Exception(\"AVREI DOVUTO FALLIRE !\")\n",
    "except ValueError:\n",
    "    pass\n",
    "\n",
    "print(\"Test passati!\")\n",
    "```    "
   ]
  },
  {
   "cell_type": "code",
   "execution_count": 20,
   "id": "f95e8943",
   "metadata": {},
   "outputs": [
    {
     "data": {
      "text/plain": [
       "''"
      ]
     },
     "execution_count": 20,
     "metadata": {},
     "output_type": "execute_result"
    }
   ],
   "source": [
    "#jupman-purge-io\n",
    "# scrivi qui\n",
    "''"
   ]
  }
 ],
 "metadata": {
  "celltoolbar": "Slideshow",
  "kernelspec": {
   "display_name": "Python 3 (ipykernel)",
   "language": "python",
   "name": "python3"
  },
  "language_info": {
   "codemirror_mode": {
    "name": "ipython",
    "version": 3
   },
   "file_extension": ".py",
   "mimetype": "text/x-python",
   "name": "python",
   "nbconvert_exporter": "python",
   "pygments_lexer": "ipython3",
   "version": "3.7.17"
  },
  "toc": {
   "base_numbering": 1,
   "nav_menu": {},
   "number_sections": false,
   "sideBar": true,
   "skip_h1_title": false,
   "title_cell": "Table of Contents",
   "title_sidebar": "Contents",
   "toc_cell": false,
   "toc_position": {
    "height": "calc(100% - 180px)",
    "left": "10px",
    "top": "150px",
    "width": "373.188px"
   },
   "toc_section_display": true,
   "toc_window_display": true
  }
 },
 "nbformat": 4,
 "nbformat_minor": 5
}
