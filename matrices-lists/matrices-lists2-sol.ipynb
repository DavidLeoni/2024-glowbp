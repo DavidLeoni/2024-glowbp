{
 "cells": [
  {
   "cell_type": "code",
   "execution_count": 1,
   "id": "8e77c3a2",
   "metadata": {
    "slideshow": {
     "slide_type": "skip"
    }
   },
   "outputs": [
    {
     "data": {
      "text/html": [
       "        \n",
       "            <script src=\"../_static/js/python.iife.js\" type=\"application/javascript\"></script>\n",
       "        "
      ],
      "text/plain": [
       "<IPython.core.display.HTML object>"
      ]
     },
     "execution_count": 1,
     "metadata": {},
     "output_type": "execute_result"
    }
   ],
   "source": [
    "import sys\n",
    "sys.path.append('../')\n",
    "import jupman\n",
    "\n",
    "import conf\n",
    "\n",
    "conf.jm.init_icp()"
   ]
  },
  {
   "cell_type": "markdown",
   "id": "0049100b",
   "metadata": {
    "slideshow": {
     "slide_type": "slide"
    }
   },
   "source": [
    "\n",
    "# Matrici di liste 2: esempi\n",
    "\n",
    "**Riferimenti:** [SoftPython - matrice di liste 2](https://it.softpython.org/matrices-lists/matrices-lists-sol.html)\n",
    "\n",
    "* visualizza al meglio in <img style=\"display:inline; width:25px; vertical-align: middle;\" src=\"../_static/img/chrome.png\" alttext=\"Chrome\">\n",
    "* versione stampabile: [clicca qua](?print-pdf)\n",
    "* per navigare nelle slide: premere `Esc`\n",
    "\n",
    "<br>\n",
    "<br>\n",
    "\n",
    "**Summer School Data Science 2023 - Modulo 1 informatica:** [Moodle](https://didatticaonline.unitn.it/dol/course/view.php?id=36683) \n",
    "\n",
    "Docente: David Leoni david.leoni@unitn.it\n",
    "\n",
    "Esercitatore: Luca Bosotti luca.bosotti@studenti.unitn.it\n"
   ]
  },
  {
   "cell_type": "markdown",
   "id": "e5ab3dd9",
   "metadata": {
    "slideshow": {
     "slide_type": "slide"
    }
   },
   "source": [
    "<table>\n",
    "<tr>\n",
    "<td width=\"40%\">\n",
    "\n",
    "## Esempi: diag\n",
    "\n",
    "✪✪ Data una matrice n x n `mat` come lista di liste, **RITORNA** una **NUOVA** lista che contiene gli elementi della diagonale (da sinistra in alto fino all’angolo basso destro)\n",
    "\n",
    "- se `mat` non è n x n solleva l’eccezione `ValueError`\n",
    "- prova ad aggiungere qualche caso di test\n",
    "\n",
    "[Discussione e soluzione](https://it.softpython.org/matrices-lists/matrices-lists2-sol.html#Esercizio---diag)\n",
    "    \n",
    "</td>\n",
    "<td>\n",
    "    \n",
    "```python\n",
    "def diag(mat):\n",
    "    raise Exception('TODO IMPLEMENT ME !')\n",
    "\n",
    "    \n",
    "# TEST\n",
    "m = [ ['a','b','c'],\n",
    "      ['d','e','f'],\n",
    "      ['g','h','i'] ]\n",
    "\n",
    "assert diag(m) == ['a','e','i']\n",
    "\n",
    "try:\n",
    "    diag([              \n",
    "           ['a','b']\n",
    "         ])\n",
    "    raise Exception(\"Dovrei aver fallito !\") \n",
    "    \n",
    "except ValueError:\n",
    "    pass\n",
    "\n",
    "print(\"Test passati!\")\n",
    "```    \n",
    "    \n",
    "</td>\n",
    "</tr>\n",
    "</table>"
   ]
  },
  {
   "cell_type": "markdown",
   "id": "6b1f8725",
   "metadata": {
    "slideshow": {
     "slide_type": "slide"
    }
   },
   "source": [
    "<table>\n",
    "<tr>\n",
    "<td width=\"40%\">\n",
    "\n",
    "## Esempi: is_utriang    \n",
    "    \n",
    "**RITORNA** `True` se la matrice $n$ x $n$ fornita è triangolare superiore, cioè, ha tutte le celle sotto la diagonale a zero. Altrimenti, **RITORNA** `False`.\n",
    "\n",
    "**DOMANDA**: è sempre necessario percorrere tutta la matrice?\n",
    "\n",
    "[Discussione e soluzione](https://it.softpython.org/matrices-lists/matrices-lists2-sol.html#Esercizio---is_utriang)\n",
    "</td>\n",
    "<td>\n",
    "    \n",
    "```python\n",
    "def is_utriang(mat):\n",
    "    raise Exception('TODO IMPLEMENT ME !')\n",
    "\n",
    "assert is_utriang([ [1] ]) == True\n",
    "assert is_utriang([ [3,2,5],\n",
    "                    [0,6,2],\n",
    "                    [0,0,4] ]) == True\n",
    "\n",
    "assert is_utriang([ [3,2,5],\n",
    "                    [0,6,2],\n",
    "                    [1,0,4] ]) == False\n",
    "\n",
    "assert is_utriang([ [3,2,5],\n",
    "                    [0,6,2],\n",
    "                    [1,1,4] ]) == False\n",
    "\n",
    "assert is_utriang([ [3,2,5],\n",
    "                    [0,6,2],\n",
    "                    [0,1,4] ]) == False\n",
    "\n",
    "\n",
    "assert is_utriang([ [3,2,5],\n",
    "                    [1,6,2],\n",
    "                    [1,0,4] ]) == False\n",
    "\n",
    "```\n",
    "\n",
    "</td>\n",
    "</tr>\n",
    "</table>"
   ]
  },
  {
   "cell_type": "markdown",
   "id": "7f550221",
   "metadata": {
    "slideshow": {
     "slide_type": "slide"
    }
   },
   "source": [
    "## Esempi: trasposta in-place 1/2\n",
    "\n",
    "La trasposta $M^T$ di una matrice $M$ è definita come  $M^T[i][j] = M[j][i]$\n",
    "\n",
    "Data una matrice `mat` come lista di liste $n$ x $n$, la **MODIFICA** facendo la trasposta _in-place_\n",
    "\n",
    "- Se la matrice non è $n$ x $n$, lancia l’eccezione `ValueError`\n",
    "\n",
    "Esempio:\n",
    "\n",
    "```python\n",
    ">>> m = [ ['a','b','c'],\n",
    "          ['d','e','d'],\n",
    "          ['f','g','h'],\n",
    "        ]\n",
    "\n",
    ">>> trasposta(m)\n",
    ">>> m\n",
    "\n",
    "[ ['a','d','f'],\n",
    "  ['b','e','g'],\n",
    "  ['c','d','h'],\n",
    "]\n",
    "```\n",
    "\n",
    "**Vai alla prossima slide...**"
   ]
  },
  {
   "cell_type": "markdown",
   "id": "1073a0cb",
   "metadata": {
    "slideshow": {
     "slide_type": "subslide"
    }
   },
   "source": [
    "## Esempi: trasposta in-place 2/2\n",
    "\n",
    "[DISCUSSIONE E SOLUZIONE](https://it.softpython.org/matrices-lists/matrices-lists2-sol.html#Esercizio---trasposta_1)\n",
    "\n",
    "```python\n",
    "def trasposta(mat):\n",
    "    raise Exception('TODO IMPLEMENT ME !')\n",
    "\n",
    "# TEST\n",
    "m1 = [ ['a'] ]\n",
    "trasposta(m)\n",
    "assert m1 == [ ['a'] ]\n",
    "\n",
    "m3 = [ ['a','b','c'],\n",
    "       ['d','e','d'],\n",
    "       ['f','g','h'],\n",
    "     ]\n",
    "trasposta(m3)\n",
    "assert m3 == [ ['a','d','f'],\n",
    "               ['b','e','g'],\n",
    "               ['c','d','h'],\n",
    "             ]\n",
    "try:  # Controlliamo eventuali dimensioni sbagliate della matrice:\n",
    "\n",
    "    trasposta([ [3,5] ])\n",
    "    raise Exception(\"AVREI DOVUTO FALLIRE !\")\n",
    "except ValueError:\n",
    "    pass\n",
    "\n",
    "print(\"Test passati!\")\n",
    "```    "
   ]
  },
  {
   "cell_type": "markdown",
   "id": "95341fe7",
   "metadata": {
    "slideshow": {
     "slide_type": "slide"
    }
   },
   "source": [
    "## Altri esercizi\n",
    "\n",
    "Nelle slide ho messo gli esempi con la parte di discussione più corposa\n",
    "\n",
    "Su [SoftPython - matrici liste di liste 2](https://it.softpython.org/matrices-lists/matrices-lists2-sol.html) ne trovate parecchi altri esercizi\n",
    "\n",
    "- consiglio caldamente di farne il più possibile!"
   ]
  },
  {
   "cell_type": "code",
   "execution_count": 2,
   "id": "f95e8943",
   "metadata": {},
   "outputs": [
    {
     "data": {
      "text/plain": [
       "''"
      ]
     },
     "execution_count": 2,
     "metadata": {},
     "output_type": "execute_result"
    }
   ],
   "source": [
    "#jupman-purge-io\n",
    "# scrivi qui\n",
    "''"
   ]
  }
 ],
 "metadata": {
  "celltoolbar": "Slideshow",
  "kernelspec": {
   "display_name": "Python 3 (ipykernel)",
   "language": "python",
   "name": "python3"
  },
  "language_info": {
   "codemirror_mode": {
    "name": "ipython",
    "version": 3
   },
   "file_extension": ".py",
   "mimetype": "text/x-python",
   "name": "python",
   "nbconvert_exporter": "python",
   "pygments_lexer": "ipython3",
   "version": "3.7.17"
  },
  "toc": {
   "base_numbering": 1,
   "nav_menu": {},
   "number_sections": false,
   "sideBar": true,
   "skip_h1_title": false,
   "title_cell": "Table of Contents",
   "title_sidebar": "Contents",
   "toc_cell": false,
   "toc_position": {
    "height": "calc(100% - 180px)",
    "left": "10px",
    "top": "150px",
    "width": "373.188px"
   },
   "toc_section_display": true,
   "toc_window_display": true
  }
 },
 "nbformat": 4,
 "nbformat_minor": 5
}
