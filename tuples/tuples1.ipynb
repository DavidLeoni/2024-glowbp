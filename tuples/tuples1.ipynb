{
 "cells": [
  {
   "cell_type": "code",
   "execution_count": 1,
   "id": "8e77c3a2",
   "metadata": {
    "slideshow": {
     "slide_type": "skip"
    }
   },
   "outputs": [
    {
     "data": {
      "text/html": [
       "        \n",
       "            <script src=\"_static/js/python.iife.js\" type=\"application/javascript\"></script>\n",
       "        "
      ],
      "text/plain": [
       "<IPython.core.display.HTML object>"
      ]
     },
     "execution_count": 1,
     "metadata": {},
     "output_type": "execute_result"
    }
   ],
   "source": [
    "import jupman\n",
    "\n",
    "import conf\n",
    "\n",
    "conf.jm.init_icp()"
   ]
  },
  {
   "cell_type": "markdown",
   "id": "0049100b",
   "metadata": {
    "slideshow": {
     "slide_type": "slide"
    }
   },
   "source": [
    "# Tuple 1: introduzione \n",
    "\n",
    "**Riferimenti:** [SoftPython - tuple 1](https://it.softpython.org/tuples/tuples1-sol.html)\n",
    "\n",
    "* visualizza al meglio in <img style=\"display:inline; width:25px; vertical-align: middle;\" src=\"../_static/img/chrome.png\" alttext=\"Chrome\">\n",
    "* versione stampabile: [clicca qua](?print-pdf)\n",
    "* per navigare nelle slide: premere `Esc`\n",
    "\n",
    "<br>\n",
    "<br>\n",
    "\n",
    "**Summer School Data Science 2023 - Modulo 1 informatica:** [Moodle](https://didatticaonline.unitn.it/dol/course/view.php?id=36683) \n",
    "\n",
    "Docente: David Leoni david.leoni@unitn.it\n",
    "\n",
    "Esercitatore: Luca Bosotti luca.bosotti@studenti.unitn.it\n"
   ]
  },
  {
   "cell_type": "markdown",
   "id": "f7e376e8",
   "metadata": {
    "slideshow": {
     "slide_type": "slide"
    }
   },
   "source": [
    "## Creare tuple\n",
    "\n",
    "> Una tupla in Python è una sequenza _immutabile_ di elementi eterogenei che ammette duplicati\n",
    "\n",
    "- perciò possiamo mettere gli oggetti che vogliamo\n",
    "- ... di tipi diversi\n",
    "- ... e ripetuti"
   ]
  },
  {
   "cell_type": "markdown",
   "id": "b8ca262e",
   "metadata": {
    "slideshow": {
     "slide_type": "fragment"
    }
   },
   "source": [
    "Le tuple si creano con le parentesi tonde `()` e separando gli elementi da virgole `,`\n",
    "\n",
    "Qualche esempio:"
   ]
  },
  {
   "cell_type": "code",
   "execution_count": 2,
   "id": "e6781fe8",
   "metadata": {
    "slideshow": {
     "slide_type": "-"
    }
   },
   "outputs": [],
   "source": [
    "numeri = (6,7,5,7,7,9)"
   ]
  },
  {
   "cell_type": "code",
   "execution_count": 3,
   "id": "4b59c3bc",
   "metadata": {
    "slideshow": {
     "slide_type": "-"
    }
   },
   "outputs": [
    {
     "name": "stdout",
     "output_type": "stream",
     "text": [
      "(6, 7, 5, 7, 7, 9)\n"
     ]
    }
   ],
   "source": [
    "print(numeri)"
   ]
  },
  {
   "cell_type": "code",
   "execution_count": 4,
   "id": "8b083442",
   "metadata": {
    "slideshow": {
     "slide_type": "fragment"
    }
   },
   "outputs": [],
   "source": [
    "roba = (4, \"carta\", 5, 2,\"scatole\", 7)   # tupla eterogenea"
   ]
  },
  {
   "cell_type": "markdown",
   "id": "ad74e3ee",
   "metadata": {
    "slideshow": {
     "slide_type": "subslide"
    }
   },
   "source": [
    "**Per creare una tupla di un solo elemento**: aggiungi una virgola dopo l'ultimo elemento:"
   ]
  },
  {
   "cell_type": "code",
   "execution_count": 5,
   "id": "ef3df073",
   "metadata": {
    "slideshow": {
     "slide_type": "-"
    }
   },
   "outputs": [],
   "source": [
    "tuplina = (4,)  # occhio alla virgola !!!"
   ]
  },
  {
   "cell_type": "code",
   "execution_count": 6,
   "id": "d1c76bc0",
   "metadata": {
    "slideshow": {
     "slide_type": "-"
    }
   },
   "outputs": [
    {
     "data": {
      "text/plain": [
       "tuple"
      ]
     },
     "execution_count": 6,
     "metadata": {},
     "output_type": "execute_result"
    }
   ],
   "source": [
    "type(tuplina)"
   ]
  },
  {
   "cell_type": "markdown",
   "id": "4e8bb411",
   "metadata": {
    "slideshow": {
     "slide_type": "fragment"
    }
   },
   "source": [
    "Per vedere la differenza, scriviamo qua sotto `(4)` senza virgola:"
   ]
  },
  {
   "cell_type": "code",
   "execution_count": 7,
   "id": "77391dfe",
   "metadata": {
    "slideshow": {
     "slide_type": "-"
    }
   },
   "outputs": [],
   "source": [
    "farlocca = (4)"
   ]
  },
  {
   "cell_type": "code",
   "execution_count": 8,
   "id": "481e7035",
   "metadata": {
    "slideshow": {
     "slide_type": "-"
    }
   },
   "outputs": [
    {
     "data": {
      "text/plain": [
       "int"
      ]
     },
     "execution_count": 8,
     "metadata": {},
     "output_type": "execute_result"
    }
   ],
   "source": [
    "type(farlocca)"
   ]
  },
  {
   "cell_type": "markdown",
   "id": "e6a996e0",
   "metadata": {
    "slideshow": {
     "slide_type": "fragment"
    }
   },
   "source": [
    "Vediamo che `farlocca` è un `int`...\n",
    "\n",
    "- il `4` è stato valutato come un'espressione dentro delle tonde e il risultato è il contenuto delle tonde!"
   ]
  },
  {
   "cell_type": "markdown",
   "id": "d3258639",
   "metadata": {
    "slideshow": {
     "slide_type": "subslide"
    }
   },
   "source": [
    "### Tupla vuota"
   ]
  },
  {
   "cell_type": "code",
   "execution_count": 9,
   "id": "1b0290ac",
   "metadata": {
    "slideshow": {
     "slide_type": "-"
    }
   },
   "outputs": [],
   "source": [
    "vuota = ()"
   ]
  },
  {
   "cell_type": "code",
   "execution_count": 10,
   "id": "0b4b33ce",
   "metadata": {
    "slideshow": {
     "slide_type": "-"
    }
   },
   "outputs": [
    {
     "name": "stdout",
     "output_type": "stream",
     "text": [
      "()\n"
     ]
    }
   ],
   "source": [
    "print(vuota)"
   ]
  },
  {
   "cell_type": "code",
   "execution_count": 11,
   "id": "82518c83",
   "metadata": {
    "slideshow": {
     "slide_type": "-"
    }
   },
   "outputs": [
    {
     "data": {
      "text/plain": [
       "tuple"
      ]
     },
     "execution_count": 11,
     "metadata": {},
     "output_type": "execute_result"
    }
   ],
   "source": [
    "type(vuota)"
   ]
  },
  {
   "cell_type": "markdown",
   "id": "b16ad628",
   "metadata": {
    "slideshow": {
     "slide_type": "subslide"
    }
   },
   "source": [
    "### Tuple senza parentesi\n",
    "\n",
    "Per assegnare dei valori a delle variabili è possibile usare una notazione del genere,\n",
    "\n",
    "in cui a sinistra dell' `=` mettiamo nomi di variabili e a destra una sequenza di valori:"
   ]
  },
  {
   "cell_type": "code",
   "execution_count": 12,
   "id": "e7f61c9f",
   "metadata": {
    "slideshow": {
     "slide_type": "-"
    }
   },
   "outputs": [],
   "source": [
    "a,b,c = 1, 2, 3"
   ]
  },
  {
   "cell_type": "code",
   "execution_count": 13,
   "id": "36c64a9e",
   "metadata": {
    "slideshow": {
     "slide_type": "-"
    }
   },
   "outputs": [
    {
     "data": {
      "text/plain": [
       "2"
      ]
     },
     "execution_count": 13,
     "metadata": {},
     "output_type": "execute_result"
    }
   ],
   "source": [
    "b"
   ]
  },
  {
   "cell_type": "markdown",
   "id": "73f15ac6",
   "metadata": {
    "slideshow": {
     "slide_type": "subslide"
    }
   },
   "source": [
    "Se ci chiediamo cosa sia quel `1,2,3`, possiamo provare a mettere a sinistra solo una variabile:"
   ]
  },
  {
   "cell_type": "code",
   "execution_count": 14,
   "id": "a7552e80",
   "metadata": {
    "slideshow": {
     "slide_type": "-"
    }
   },
   "outputs": [],
   "source": [
    "# ATTENZIONE: MEGLIO EVITARE !\n",
    "x = 1,2,3"
   ]
  },
  {
   "cell_type": "code",
   "execution_count": 15,
   "id": "12231943",
   "metadata": {
    "slideshow": {
     "slide_type": "-"
    }
   },
   "outputs": [
    {
     "data": {
      "text/plain": [
       "tuple"
      ]
     },
     "execution_count": 15,
     "metadata": {},
     "output_type": "execute_result"
    }
   ],
   "source": [
    "type(x)"
   ]
  },
  {
   "cell_type": "markdown",
   "id": "3954ee17",
   "metadata": {
    "slideshow": {
     "slide_type": "fragment"
    }
   },
   "source": [
    "Vediamo che Python ha considerato quel `1,2,3` come una tupla.\n"
   ]
  },
  {
   "cell_type": "markdown",
   "id": "3938c00c",
   "metadata": {
    "slideshow": {
     "slide_type": "fragment"
    }
   },
   "source": [
    "<div class=\"alert alert-warning\">\n",
    "\n",
    "**Attenzione: Se trovi strane tuple durante l'esecuzione, cerca virgole extra!**\n",
    "\n",
    "</div>"
   ]
  },
  {
   "cell_type": "code",
   "execution_count": 16,
   "id": "4f9339c2",
   "metadata": {
    "slideshow": {
     "slide_type": "-"
    }
   },
   "outputs": [],
   "source": [
    "stringa_farlocca = \"ciao\",   # OCCHIO"
   ]
  },
  {
   "cell_type": "code",
   "execution_count": 17,
   "id": "a45ed577",
   "metadata": {
    "slideshow": {
     "slide_type": "-"
    }
   },
   "outputs": [
    {
     "data": {
      "text/plain": [
       "('ciao',)"
      ]
     },
     "execution_count": 17,
     "metadata": {},
     "output_type": "execute_result"
    }
   ],
   "source": [
    "stringa_farlocca"
   ]
  },
  {
   "cell_type": "markdown",
   "id": "2b082ffe",
   "metadata": {
    "slideshow": {
     "slide_type": "slide"
    }
   },
   "source": [
    "## Conversioni\n",
    "\n",
    "Puoi creare una tupla da una qualsiasi sequenza, per esempio da una lista:"
   ]
  },
  {
   "cell_type": "code",
   "execution_count": 18,
   "id": "83986d89",
   "metadata": {
    "slideshow": {
     "slide_type": "-"
    }
   },
   "outputs": [
    {
     "data": {
      "text/plain": [
       "(8, 2, 5)"
      ]
     },
     "execution_count": 18,
     "metadata": {},
     "output_type": "execute_result"
    }
   ],
   "source": [
    "tuple( [8,2,5] )"
   ]
  },
  {
   "cell_type": "code",
   "execution_count": 19,
   "id": "25ededab",
   "metadata": {
    "slideshow": {
     "slide_type": "-"
    }
   },
   "outputs": [
    {
     "data": {
      "text/plain": [
       "[3, 4, 2, 3]"
      ]
     },
     "execution_count": 19,
     "metadata": {},
     "output_type": "execute_result"
    }
   ],
   "source": [
    "list( (3,4,2,3)  )   # viceversa"
   ]
  },
  {
   "cell_type": "markdown",
   "id": "f44dd5c2",
   "metadata": {
    "slideshow": {
     "slide_type": "subslide"
    }
   },
   "source": [
    "### Esercizio - ordinare 1/2\n",
    "\n",
    "Data una tupla x di numeri disordinati, scrivere del codice che cambia l’assegnazione di `x` in modo che abbia assegnata una tupla con i numeri ordinati.\n",
    "\n",
    "- il tuo codice deve funzionare per qualsiasi tupla `x`\n",
    "\n",
    "**SUGGERIMENTO:** Come già scritto, le tuple NON hanno il metodo `sort` (perchè le muterebbe), ma le liste ce l’hanno...\n",
    "\n",
    "Esempio - dati:\n",
    "\n",
    "```python\n",
    "x = (3,4,2,5,5,5,2,3)\n",
    "```\n",
    "\n",
    "dopo il tuo codice deve risultare\n",
    "\n",
    "```python\n",
    ">>> print(x)\n",
    "(2, 2, 3, 3, 4, 5, 5, 5)\n",
    "```\n",
    "\n",
    "**guarda la prossima slide...**"
   ]
  },
  {
   "cell_type": "markdown",
   "id": "34cf1727",
   "metadata": {
    "slideshow": {
     "slide_type": "subslide"
    }
   },
   "source": [
    "### Esercizio - ordinare 2/2"
   ]
  },
  {
   "cell_type": "code",
   "execution_count": 20,
   "id": "c5f51961-stripped",
   "metadata": {
    "slideshow": {
     "slide_type": "-"
    }
   },
   "outputs": [
    {
     "data": {
      "text/html": [
       "\n",
       "                <div class=\"jupman-icp-container\" style=\"width:55vw; height:40vh;\">\n",
       "                <python-editor id=\"jm-cf8f75751479fa36467480a13796dfa8-22\" contenteditable=\"true\" code=\"x = (3,4,2,5,5,5,2,3)\n",
       "\n",
       "# scrivi qui\"\n",
       "                />\n",
       "                </div>\n",
       "        \n",
       "\n",
       "                                \n",
       "            <script>\n",
       "            \n",
       "            (function(){\n",
       "                console.log(\"jupman.py embedded javascript: adding ICP editor ...\")   \n",
       "                \n",
       "            })()\n",
       "            </script>\n",
       "                    \n",
       "        "
      ],
      "text/plain": [
       "<IPython.core.display.HTML object>"
      ]
     },
     "execution_count": 20,
     "metadata": {},
     "output_type": "execute_result"
    }
   ],
   "source": []
  },
  {
   "cell_type": "markdown",
   "id": "22b2160b",
   "metadata": {
    "slideshow": {
     "slide_type": "slide"
    }
   },
   "source": [
    "## Operatori\n",
    "\n",
    "I seguenti operatori funzionano sulle tuple e si comportano esattamente come per le liste:\n",
    "\n",
    "|Operatore|Sintassi|Risultato|Significato|\n",
    "|---------|-------|---------|-----------|\n",
    "|[lunghezza](https://it.softpython.org/tuples/tuples1-sol.html#len)|`len`(tuple)|`int`|Ritorna la lunghezza di una tupla|\n",
    "|[indice](https://it.softpython.org/tuples/tuples1-sol.html#Leggere-un-elemento)|tuple`[`int`]`|`object`|Legge un elemento all'indice specificato|\n",
    "|[slice](https://it.softpython.org/tuples/tuples1-sol.html#Slice)|tuple`[`int`:`int`]`|`tuple`| Estrae una sotto-tupla - ritorna una NUOVA tupla|\n",
    "|[concatenazione](https://it.softpython.org/tuples/tuples1-sol.html#Concatenazione)|tuple `+` tuple|`tuple`|Concatena due tuple - ritorna una NUOVA tupla|\n",
    "|[appartenenza](https://it.softpython.org/tuples/tuples1-sol.html#Appartenenza)|object `in` tuple|`bool`|Controlla se un elemento è presente in una tupla|\n",
    "|[replicazione](https://it.softpython.org/tuples/tuples1-sol.html#Replicazione)|tuple `*` int|`tuple`| Replica la tupla - ritorna una NUOVA tupla|\n",
    "|uguaglianza|`==`,`!=`|`bool`| Controlla se due tuple sono uguali o differenti|\n",
    "\n",
    "Riferimento: [SoftPython - Tuple](https://it.softpython.org/tuples/tuples1-sol.html#Operatori)"
   ]
  },
  {
   "cell_type": "markdown",
   "id": "bf0b479f",
   "metadata": {
    "slideshow": {
     "slide_type": "slide"
    }
   },
   "source": [
    "### Slice\n",
    "\n",
    "Le slice creano una NUOVA tupla"
   ]
  },
  {
   "cell_type": "code",
   "execution_count": 21,
   "id": "25a33921-stripped",
   "metadata": {
    "slideshow": {
     "slide_type": "-"
    }
   },
   "outputs": [
    {
     "data": {
      "text/html": [
       "        \n",
       "        <script src=\"_static/js/pytutor-embed.bundle.min.js\" #type=\"application/javascript\"></script>\n",
       "    \n",
       "        <style>\n",
       "        @import \"_static/css/jupman.css\";\n",
       "        </style>\n",
       "     \n",
       "        <script id=\"trace-jm-d2c9207e0cd94ccdbe0892b7ecc11b59-23\" type=\"application/json\" >\n",
       "            {\"code\": \" \\nt = (1,2,3,4,5,6,7,8)\\nnuova = t[3:6] \\nprint('    t:', t)\\nprint('nuova:',nuova)\", \"trace\": [{\"line\": 2, \"event\": \"step_line\", \"func_name\": \"<module>\", \"globals\": {}, \"ordered_globals\": [], \"stack_to_render\": [], \"heap\": {}, \"stdout\": \"\"}, {\"line\": 3, \"event\": \"step_line\", \"func_name\": \"<module>\", \"globals\": {\"t\": [\"REF\", 1]}, \"ordered_globals\": [\"t\"], \"stack_to_render\": [], \"heap\": {\"1\": [\"TUPLE\", 1, 2, 3, 4, 5, 6, 7, 8]}, \"stdout\": \"\"}, {\"line\": 4, \"event\": \"step_line\", \"func_name\": \"<module>\", \"globals\": {\"t\": [\"REF\", 1], \"nuova\": [\"REF\", 2]}, \"ordered_globals\": [\"t\", \"nuova\"], \"stack_to_render\": [], \"heap\": {\"1\": [\"TUPLE\", 1, 2, 3, 4, 5, 6, 7, 8], \"2\": [\"TUPLE\", 4, 5, 6]}, \"stdout\": \"\"}, {\"line\": 5, \"event\": \"step_line\", \"func_name\": \"<module>\", \"globals\": {\"t\": [\"REF\", 1], \"nuova\": [\"REF\", 2]}, \"ordered_globals\": [\"t\", \"nuova\"], \"stack_to_render\": [], \"heap\": {\"1\": [\"TUPLE\", 1, 2, 3, 4, 5, 6, 7, 8], \"2\": [\"TUPLE\", 4, 5, 6]}, \"stdout\": \"    t: (1, 2, 3, 4, 5, 6, 7, 8)\\n\"}, {\"line\": 5, \"event\": \"return\", \"func_name\": \"<module>\", \"globals\": {\"t\": [\"REF\", 1], \"nuova\": [\"REF\", 2]}, \"ordered_globals\": [\"t\", \"nuova\"], \"stack_to_render\": [], \"heap\": {\"1\": [\"TUPLE\", 1, 2, 3, 4, 5, 6, 7, 8], \"2\": [\"TUPLE\", 4, 5, 6]}, \"stdout\": \"    t: (1, 2, 3, 4, 5, 6, 7, 8)\\nnuova: (4, 5, 6)\\n\"}]}\n",
       "        </script>\n",
       "        <div id=\"jm-d2c9207e0cd94ccdbe0892b7ecc11b59-23\" class=\"pytutorVisualizer\"> </div>\n",
       "                            \n",
       "        <script>\n",
       "                          \n",
       "        var jmRenderPytut = function(trace_id, div_id, config){\n",
       "            console.log(\"jupman.py embedded javascript: rendering Python tutor visualizer...\")\n",
       "            \n",
       "            let oldAlert = window.alert;\n",
       "            window.alert = function ( text ) { \n",
       "                console.log( 'tried to alert: ', text );         \n",
       "                return true; \n",
       "            };\n",
       "            let executionVisualizer = null;\n",
       "            try {\n",
       "            \n",
       "                var trace = JSON.parse(document.getElementById(trace_id).innerHTML);                                        \n",
       "                // NOTE: id without #\n",
       "                        \n",
       "                executionVisualizer = addVisualizerToPage(trace, div_id, config);\n",
       "                // hack in case visualizer decides to hide them for no good reason\n",
       "                $('#' + div_id + ' #jmpFirstInstr').show();\n",
       "                $('#' + div_id + ' #jmpLastInstr').show();\n",
       "                \n",
       "                // set overflow for pytuts - need to do in python as css \n",
       "                // does not allow parent selection\n",
       "                var pytuts = $('.pytutorVisualizer');\n",
       "                pytuts.closest('div.output_html.rendered_html.output_result')\n",
       "                        .css('overflow-x', 'visible');\n",
       "            \n",
       "                //pytuts.closest('div.output_html.rendered_html.output_result')\n",
       "                //      .css('background-color','red');                \n",
       "            } catch (error) {\n",
       "                console.error(\"jupman slides: Couldn't visualize Python tutor properly\", error);\n",
       "            }\n",
       "            window.alert = oldAlert;\n",
       "            return executionVisualizer;\n",
       "            \n",
       "        };\n",
       "        </script>\n",
       "        \n",
       "        <script>\n",
       "        var pytut_cfg_d2c9207e0cd94ccdbe0892b7ecc11b59_23 = (function(){\n",
       "            var rootFontSize = window.getComputedStyle(document.body).getPropertyValue('font-size');\n",
       "            var rootFontSizeNum = 12;\n",
       "            if (rootFontSize.endsWith('px')){\n",
       "                rootFontSizeNum = Number(rootFontSize.substring(0, rootFontSize.length-2));\n",
       "            } else {\n",
       "                console.error(\"Unrecognized font unit:\", rootFontSize, \"assuming default\", rootFontSizeNum);\n",
       "            }\n",
       "            console.log('rootFontSize', rootFontSize);\n",
       "            \n",
       "            var codeWidthInChars = Math.max(23, 21);\n",
       "            if (0){\n",
       "                codeWidthInChars = 0;    // override\n",
       "            }\n",
       "            return {'embeddedMode' : false,\n",
       "                  'disableHeapNesting': true,\n",
       "                  'visualizerIdOverride':'viz-jm-d2c9207e0cd94ccdbe0892b7ecc11b59-23',\n",
       "                  'codeDivWidth': Math.trunc(rootFontSizeNum * codeWidthInChars)\n",
       "                  };\n",
       "        })();                 \n",
       "        \n",
       "        jmRenderPytut('trace-jm-d2c9207e0cd94ccdbe0892b7ecc11b59-23', 'jm-d2c9207e0cd94ccdbe0892b7ecc11b59-23', pytut_cfg_d2c9207e0cd94ccdbe0892b7ecc11b59_23);\n",
       "        </script>\n",
       "                \n",
       "    \n",
       "    <div style=\"text-align:center; font-size:0.9em\"> <a href=\"https://pythontutor.com/visualize.html#mode=edit\" target=\"_blank\">Python Tutor</a> visualization</div> \n",
       "    "
      ],
      "text/plain": [
       "<IPython.core.display.HTML object>"
      ]
     },
     "execution_count": 21,
     "metadata": {},
     "output_type": "execute_result"
    }
   ],
   "source": []
  },
  {
   "cell_type": "markdown",
   "id": "d7a0c3a1",
   "metadata": {
    "slideshow": {
     "slide_type": "subslide"
    }
   },
   "source": [
    "### Che succede se mettiamo una lista dentro una tupla?\n",
    "\n",
    "**Pensaci prima di cliccare!**"
   ]
  },
  {
   "cell_type": "code",
   "execution_count": 22,
   "id": "1fc1524a-stripped",
   "metadata": {
    "slideshow": {
     "slide_type": "-"
    }
   },
   "outputs": [
    {
     "data": {
      "text/html": [
       "        \n",
       "        <script src=\"_static/js/pytutor-embed.bundle.min.js\" #type=\"application/javascript\"></script>\n",
       "    \n",
       "        <style>\n",
       "        @import \"_static/css/jupman.css\";\n",
       "        </style>\n",
       "     \n",
       "        <script id=\"trace-jm-3fd171b77a16de4d532f381446fcdc15-24\" type=\"application/json\" >\n",
       "            {\"code\": \" \\nta = ('a','b',['c','d'],'e','f')\\ntb = ta[2:4]\\ntb[0][0] = 'Z'\\nprint('ta:',ta)\\nprint('tb:',tb)\", \"trace\": [{\"line\": 2, \"event\": \"step_line\", \"func_name\": \"<module>\", \"globals\": {}, \"ordered_globals\": [], \"stack_to_render\": [], \"heap\": {}, \"stdout\": \"\"}, {\"line\": 3, \"event\": \"step_line\", \"func_name\": \"<module>\", \"globals\": {\"ta\": [\"REF\", 1]}, \"ordered_globals\": [\"ta\"], \"stack_to_render\": [], \"heap\": {\"1\": [\"TUPLE\", \"a\", \"b\", [\"REF\", 2], \"e\", \"f\"], \"2\": [\"LIST\", \"c\", \"d\"]}, \"stdout\": \"\"}, {\"line\": 4, \"event\": \"step_line\", \"func_name\": \"<module>\", \"globals\": {\"ta\": [\"REF\", 1], \"tb\": [\"REF\", 3]}, \"ordered_globals\": [\"ta\", \"tb\"], \"stack_to_render\": [], \"heap\": {\"1\": [\"TUPLE\", \"a\", \"b\", [\"REF\", 2], \"e\", \"f\"], \"2\": [\"LIST\", \"c\", \"d\"], \"3\": [\"TUPLE\", [\"REF\", 2], \"e\"]}, \"stdout\": \"\"}, {\"line\": 5, \"event\": \"step_line\", \"func_name\": \"<module>\", \"globals\": {\"ta\": [\"REF\", 1], \"tb\": [\"REF\", 3]}, \"ordered_globals\": [\"ta\", \"tb\"], \"stack_to_render\": [], \"heap\": {\"1\": [\"TUPLE\", \"a\", \"b\", [\"REF\", 2], \"e\", \"f\"], \"2\": [\"LIST\", \"Z\", \"d\"], \"3\": [\"TUPLE\", [\"REF\", 2], \"e\"]}, \"stdout\": \"\"}, {\"line\": 6, \"event\": \"step_line\", \"func_name\": \"<module>\", \"globals\": {\"ta\": [\"REF\", 1], \"tb\": [\"REF\", 3]}, \"ordered_globals\": [\"ta\", \"tb\"], \"stack_to_render\": [], \"heap\": {\"1\": [\"TUPLE\", \"a\", \"b\", [\"REF\", 2], \"e\", \"f\"], \"2\": [\"LIST\", \"Z\", \"d\"], \"3\": [\"TUPLE\", [\"REF\", 2], \"e\"]}, \"stdout\": \"ta: ('a', 'b', ['Z', 'd'], 'e', 'f')\\n\"}, {\"line\": 6, \"event\": \"return\", \"func_name\": \"<module>\", \"globals\": {\"ta\": [\"REF\", 1], \"tb\": [\"REF\", 3]}, \"ordered_globals\": [\"ta\", \"tb\"], \"stack_to_render\": [], \"heap\": {\"1\": [\"TUPLE\", \"a\", \"b\", [\"REF\", 2], \"e\", \"f\"], \"2\": [\"LIST\", \"Z\", \"d\"], \"3\": [\"TUPLE\", [\"REF\", 2], \"e\"]}, \"stdout\": \"ta: ('a', 'b', ['Z', 'd'], 'e', 'f')\\ntb: (['Z', 'd'], 'e')\\n\"}]}\n",
       "        </script>\n",
       "        <div id=\"jm-3fd171b77a16de4d532f381446fcdc15-24\" class=\"pytutorVisualizer\"> </div>\n",
       "                            \n",
       "        <script>\n",
       "                          \n",
       "        var jmRenderPytut = function(trace_id, div_id, config){\n",
       "            console.log(\"jupman.py embedded javascript: rendering Python tutor visualizer...\")\n",
       "            \n",
       "            let oldAlert = window.alert;\n",
       "            window.alert = function ( text ) { \n",
       "                console.log( 'tried to alert: ', text );         \n",
       "                return true; \n",
       "            };\n",
       "            let executionVisualizer = null;\n",
       "            try {\n",
       "            \n",
       "                var trace = JSON.parse(document.getElementById(trace_id).innerHTML);                                        \n",
       "                // NOTE: id without #\n",
       "                        \n",
       "                executionVisualizer = addVisualizerToPage(trace, div_id, config);\n",
       "                // hack in case visualizer decides to hide them for no good reason\n",
       "                $('#' + div_id + ' #jmpFirstInstr').show();\n",
       "                $('#' + div_id + ' #jmpLastInstr').show();\n",
       "                \n",
       "                // set overflow for pytuts - need to do in python as css \n",
       "                // does not allow parent selection\n",
       "                var pytuts = $('.pytutorVisualizer');\n",
       "                pytuts.closest('div.output_html.rendered_html.output_result')\n",
       "                        .css('overflow-x', 'visible');\n",
       "            \n",
       "                //pytuts.closest('div.output_html.rendered_html.output_result')\n",
       "                //      .css('background-color','red');                \n",
       "            } catch (error) {\n",
       "                console.error(\"jupman slides: Couldn't visualize Python tutor properly\", error);\n",
       "            }\n",
       "            window.alert = oldAlert;\n",
       "            return executionVisualizer;\n",
       "            \n",
       "        };\n",
       "        </script>\n",
       "        \n",
       "        <script>\n",
       "        var pytut_cfg_3fd171b77a16de4d532f381446fcdc15_24 = (function(){\n",
       "            var rootFontSize = window.getComputedStyle(document.body).getPropertyValue('font-size');\n",
       "            var rootFontSizeNum = 12;\n",
       "            if (rootFontSize.endsWith('px')){\n",
       "                rootFontSizeNum = Number(rootFontSize.substring(0, rootFontSize.length-2));\n",
       "            } else {\n",
       "                console.error(\"Unrecognized font unit:\", rootFontSize, \"assuming default\", rootFontSizeNum);\n",
       "            }\n",
       "            console.log('rootFontSize', rootFontSize);\n",
       "            \n",
       "            var codeWidthInChars = Math.max(23, 32);\n",
       "            if (0){\n",
       "                codeWidthInChars = 0;    // override\n",
       "            }\n",
       "            return {'embeddedMode' : false,\n",
       "                  'disableHeapNesting': true,\n",
       "                  'visualizerIdOverride':'viz-jm-3fd171b77a16de4d532f381446fcdc15-24',\n",
       "                  'codeDivWidth': Math.trunc(rootFontSizeNum * codeWidthInChars)\n",
       "                  };\n",
       "        })();                 \n",
       "        \n",
       "        jmRenderPytut('trace-jm-3fd171b77a16de4d532f381446fcdc15-24', 'jm-3fd171b77a16de4d532f381446fcdc15-24', pytut_cfg_3fd171b77a16de4d532f381446fcdc15_24);\n",
       "        </script>\n",
       "                \n",
       "    \n",
       "    <div style=\"text-align:center; font-size:0.9em\"> <a href=\"https://pythontutor.com/visualize.html#mode=edit\" target=\"_blank\">Python Tutor</a> visualization</div> \n",
       "    "
      ],
      "text/plain": [
       "<IPython.core.display.HTML object>"
      ]
     },
     "execution_count": 22,
     "metadata": {},
     "output_type": "execute_result"
    }
   ],
   "source": []
  },
  {
   "cell_type": "markdown",
   "id": "acbb1bcc",
   "metadata": {
    "slideshow": {
     "slide_type": "slide"
    }
   },
   "source": [
    "### Concatenazione\n",
    "\n",
    "La concatenazione crea una NUOVA tupla"
   ]
  },
  {
   "cell_type": "code",
   "execution_count": 23,
   "id": "cee19e1b-stripped",
   "metadata": {},
   "outputs": [
    {
     "data": {
      "text/html": [
       "        \n",
       "        <script src=\"_static/js/pytutor-embed.bundle.min.js\" #type=\"application/javascript\"></script>\n",
       "    \n",
       "        <style>\n",
       "        @import \"_static/css/jupman.css\";\n",
       "        </style>\n",
       "     \n",
       "        <script id=\"trace-jm-3cec3b0706c76d52f9ac3b842b93056b-25\" type=\"application/json\" >\n",
       "            {\"code\": \" \\nx = (1,2,3)\\ny = (4,5,6,7,8)\\nt = x + y\\nprint(t)\\nprint(x)\\nprint(y)\", \"trace\": [{\"line\": 2, \"event\": \"step_line\", \"func_name\": \"<module>\", \"globals\": {}, \"ordered_globals\": [], \"stack_to_render\": [], \"heap\": {}, \"stdout\": \"\"}, {\"line\": 3, \"event\": \"step_line\", \"func_name\": \"<module>\", \"globals\": {\"x\": [\"REF\", 1]}, \"ordered_globals\": [\"x\"], \"stack_to_render\": [], \"heap\": {\"1\": [\"TUPLE\", 1, 2, 3]}, \"stdout\": \"\"}, {\"line\": 4, \"event\": \"step_line\", \"func_name\": \"<module>\", \"globals\": {\"x\": [\"REF\", 1], \"y\": [\"REF\", 2]}, \"ordered_globals\": [\"x\", \"y\"], \"stack_to_render\": [], \"heap\": {\"1\": [\"TUPLE\", 1, 2, 3], \"2\": [\"TUPLE\", 4, 5, 6, 7, 8]}, \"stdout\": \"\"}, {\"line\": 5, \"event\": \"step_line\", \"func_name\": \"<module>\", \"globals\": {\"x\": [\"REF\", 1], \"y\": [\"REF\", 2], \"t\": [\"REF\", 3]}, \"ordered_globals\": [\"x\", \"y\", \"t\"], \"stack_to_render\": [], \"heap\": {\"1\": [\"TUPLE\", 1, 2, 3], \"2\": [\"TUPLE\", 4, 5, 6, 7, 8], \"3\": [\"TUPLE\", 1, 2, 3, 4, 5, 6, 7, 8]}, \"stdout\": \"\"}, {\"line\": 6, \"event\": \"step_line\", \"func_name\": \"<module>\", \"globals\": {\"x\": [\"REF\", 1], \"y\": [\"REF\", 2], \"t\": [\"REF\", 3]}, \"ordered_globals\": [\"x\", \"y\", \"t\"], \"stack_to_render\": [], \"heap\": {\"1\": [\"TUPLE\", 1, 2, 3], \"2\": [\"TUPLE\", 4, 5, 6, 7, 8], \"3\": [\"TUPLE\", 1, 2, 3, 4, 5, 6, 7, 8]}, \"stdout\": \"(1, 2, 3, 4, 5, 6, 7, 8)\\n\"}, {\"line\": 7, \"event\": \"step_line\", \"func_name\": \"<module>\", \"globals\": {\"x\": [\"REF\", 1], \"y\": [\"REF\", 2], \"t\": [\"REF\", 3]}, \"ordered_globals\": [\"x\", \"y\", \"t\"], \"stack_to_render\": [], \"heap\": {\"1\": [\"TUPLE\", 1, 2, 3], \"2\": [\"TUPLE\", 4, 5, 6, 7, 8], \"3\": [\"TUPLE\", 1, 2, 3, 4, 5, 6, 7, 8]}, \"stdout\": \"(1, 2, 3, 4, 5, 6, 7, 8)\\n(1, 2, 3)\\n\"}, {\"line\": 7, \"event\": \"return\", \"func_name\": \"<module>\", \"globals\": {\"x\": [\"REF\", 1], \"y\": [\"REF\", 2], \"t\": [\"REF\", 3]}, \"ordered_globals\": [\"x\", \"y\", \"t\"], \"stack_to_render\": [], \"heap\": {\"1\": [\"TUPLE\", 1, 2, 3], \"2\": [\"TUPLE\", 4, 5, 6, 7, 8], \"3\": [\"TUPLE\", 1, 2, 3, 4, 5, 6, 7, 8]}, \"stdout\": \"(1, 2, 3, 4, 5, 6, 7, 8)\\n(1, 2, 3)\\n(4, 5, 6, 7, 8)\\n\"}]}\n",
       "        </script>\n",
       "        <div id=\"jm-3cec3b0706c76d52f9ac3b842b93056b-25\" class=\"pytutorVisualizer\"> </div>\n",
       "                            \n",
       "        <script>\n",
       "                          \n",
       "        var jmRenderPytut = function(trace_id, div_id, config){\n",
       "            console.log(\"jupman.py embedded javascript: rendering Python tutor visualizer...\")\n",
       "            \n",
       "            let oldAlert = window.alert;\n",
       "            window.alert = function ( text ) { \n",
       "                console.log( 'tried to alert: ', text );         \n",
       "                return true; \n",
       "            };\n",
       "            let executionVisualizer = null;\n",
       "            try {\n",
       "            \n",
       "                var trace = JSON.parse(document.getElementById(trace_id).innerHTML);                                        \n",
       "                // NOTE: id without #\n",
       "                        \n",
       "                executionVisualizer = addVisualizerToPage(trace, div_id, config);\n",
       "                // hack in case visualizer decides to hide them for no good reason\n",
       "                $('#' + div_id + ' #jmpFirstInstr').show();\n",
       "                $('#' + div_id + ' #jmpLastInstr').show();\n",
       "                \n",
       "                // set overflow for pytuts - need to do in python as css \n",
       "                // does not allow parent selection\n",
       "                var pytuts = $('.pytutorVisualizer');\n",
       "                pytuts.closest('div.output_html.rendered_html.output_result')\n",
       "                        .css('overflow-x', 'visible');\n",
       "            \n",
       "                //pytuts.closest('div.output_html.rendered_html.output_result')\n",
       "                //      .css('background-color','red');                \n",
       "            } catch (error) {\n",
       "                console.error(\"jupman slides: Couldn't visualize Python tutor properly\", error);\n",
       "            }\n",
       "            window.alert = oldAlert;\n",
       "            return executionVisualizer;\n",
       "            \n",
       "        };\n",
       "        </script>\n",
       "        \n",
       "        <script>\n",
       "        var pytut_cfg_3cec3b0706c76d52f9ac3b842b93056b_25 = (function(){\n",
       "            var rootFontSize = window.getComputedStyle(document.body).getPropertyValue('font-size');\n",
       "            var rootFontSizeNum = 12;\n",
       "            if (rootFontSize.endsWith('px')){\n",
       "                rootFontSizeNum = Number(rootFontSize.substring(0, rootFontSize.length-2));\n",
       "            } else {\n",
       "                console.error(\"Unrecognized font unit:\", rootFontSize, \"assuming default\", rootFontSizeNum);\n",
       "            }\n",
       "            console.log('rootFontSize', rootFontSize);\n",
       "            \n",
       "            var codeWidthInChars = Math.max(23, 15);\n",
       "            if (0){\n",
       "                codeWidthInChars = 0;    // override\n",
       "            }\n",
       "            return {'embeddedMode' : false,\n",
       "                  'disableHeapNesting': true,\n",
       "                  'visualizerIdOverride':'viz-jm-3cec3b0706c76d52f9ac3b842b93056b-25',\n",
       "                  'codeDivWidth': Math.trunc(rootFontSizeNum * codeWidthInChars)\n",
       "                  };\n",
       "        })();                 \n",
       "        \n",
       "        jmRenderPytut('trace-jm-3cec3b0706c76d52f9ac3b842b93056b-25', 'jm-3cec3b0706c76d52f9ac3b842b93056b-25', pytut_cfg_3cec3b0706c76d52f9ac3b842b93056b_25);\n",
       "        </script>\n",
       "                \n",
       "    \n",
       "    <div style=\"text-align:center; font-size:0.9em\"> <a href=\"https://pythontutor.com/visualize.html#mode=edit\" target=\"_blank\">Python Tutor</a> visualization</div> \n",
       "    "
      ],
      "text/plain": [
       "<IPython.core.display.HTML object>"
      ]
     },
     "execution_count": 23,
     "metadata": {},
     "output_type": "execute_result"
    }
   ],
   "source": []
  },
  {
   "cell_type": "markdown",
   "id": "8472a60f",
   "metadata": {
    "slideshow": {
     "slide_type": "slide"
    }
   },
   "source": [
    "## Metodi\n",
    "\n",
    "Le tuple sono oggetti di tipo `tuple` e possiedono dei metodi che permettono di operare su di esse:\n",
    "\n",
    "|Metodo|Ritorna|Descrizione|\n",
    "|-------|------|-----------|\n",
    "|[tuple.index(object)](https://it.softpython.org/tuples/tuples1-sol.html#Metodo-index)|`int`|Trova la prima occorrenza di un elemento e ne ritorna la posizione|\n",
    "|[tuple.count(object)](https://it.softpython.org/tuples/tuples1-sol.html#Metodo-count)|`int`|Conta le occorrenze di un elemento|"
   ]
  }
 ],
 "metadata": {
  "celltoolbar": "Slideshow",
  "kernelspec": {
   "display_name": "Python 3 (ipykernel)",
   "language": "python",
   "name": "python3"
  },
  "language_info": {
   "codemirror_mode": {
    "name": "ipython",
    "version": 3
   },
   "file_extension": ".py",
   "mimetype": "text/x-python",
   "name": "python",
   "nbconvert_exporter": "python",
   "pygments_lexer": "ipython3",
   "version": "3.7.17"
  },
  "toc": {
   "base_numbering": 1,
   "nav_menu": {},
   "number_sections": false,
   "sideBar": true,
   "skip_h1_title": false,
   "title_cell": "Table of Contents",
   "title_sidebar": "Contents",
   "toc_cell": false,
   "toc_position": {
    "height": "calc(100% - 180px)",
    "left": "10px",
    "top": "150px",
    "width": "311px"
   },
   "toc_section_display": true,
   "toc_window_display": true
  }
 },
 "nbformat": 4,
 "nbformat_minor": 5
}
